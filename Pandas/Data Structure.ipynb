{
 "cells": [
  {
   "cell_type": "markdown",
   "id": "985e5604-f7e8-47a3-b6d7-279c557077ef",
   "metadata": {},
   "source": [
    "# Series\n",
    "It is defined as a one dimensional array that is capable of storing various data types"
   ]
  },
  {
   "cell_type": "code",
   "execution_count": 2,
   "id": "4e7c1ee3-1a9c-45a2-a287-5f3d24a9d733",
   "metadata": {},
   "outputs": [],
   "source": [
    "import pandas as pd"
   ]
  },
  {
   "cell_type": "code",
   "execution_count": 5,
   "id": "cd208164-78c7-4dc0-874c-245a8c094e9b",
   "metadata": {},
   "outputs": [
    {
     "name": "stdout",
     "output_type": "stream",
     "text": [
      "0    1\n",
      "1    4\n",
      "2    6\n",
      "3    3\n",
      "4    6\n",
      "5    7\n",
      "dtype: int64\n",
      "<class 'pandas.core.series.Series'>\n"
     ]
    }
   ],
   "source": [
    "a = (1, 4, 6, 3, 6, 7,)\n",
    "\n",
    "series_list = pd.Series(a)\n",
    "\n",
    "print(series_list)\n",
    "\n",
    "print(type(series_list))"
   ]
  },
  {
   "cell_type": "code",
   "execution_count": 6,
   "id": "2d6d81db-b9be-44c7-aac7-f3719ab6c7c4",
   "metadata": {},
   "outputs": [
    {
     "name": "stdout",
     "output_type": "stream",
     "text": [
      "6\n"
     ]
    }
   ],
   "source": [
    "print(series_list[4])"
   ]
  },
  {
   "cell_type": "code",
   "execution_count": 13,
   "id": "9d288197-ad25-406b-9252-c56df929f192",
   "metadata": {},
   "outputs": [
    {
     "name": "stdout",
     "output_type": "stream",
     "text": [
      "a    1\n",
      "s    4\n",
      "d    6\n",
      "f    3\n",
      "g    6\n",
      "h    7\n",
      "dtype: int64\n"
     ]
    }
   ],
   "source": [
    "series_list2 = pd.Series(a, index=[\"a\",\"s\",\"d\",\"f\",\"g\", \"h\"])\n",
    "# we can take euual numbers of indexes to element present in a element\n",
    "\n",
    "print(series_list2)"
   ]
  },
  {
   "cell_type": "code",
   "execution_count": 15,
   "id": "5c9ab218-b305-4237-81ae-b507b9a66b97",
   "metadata": {},
   "outputs": [
    {
     "name": "stdout",
     "output_type": "stream",
     "text": [
      "0    1.0\n",
      "1    4.0\n",
      "2    6.0\n",
      "3    3.0\n",
      "4    6.0\n",
      "5    7.0\n",
      "dtype: float64\n"
     ]
    }
   ],
   "source": [
    "series_list3 = pd.Series(a, dtype=\"float\")\n",
    "\n",
    "print(series_list3)"
   ]
  },
  {
   "cell_type": "code",
   "execution_count": 16,
   "id": "2dfc5093-8f6d-4836-88b3-b5346bf5b035",
   "metadata": {},
   "outputs": [
    {
     "name": "stdout",
     "output_type": "stream",
     "text": [
      "name      [Abhishek, Manish, Hanish]\n",
      "age                     [19, 20, 19]\n",
      "height               [5.7, 5.6, 5.8]\n",
      "dtype: object\n"
     ]
    }
   ],
   "source": [
    "# in series we can pass any type of data like list, tuple, dictionary\n",
    "\n",
    "dic = {\"name\":[\"Abhishek\", \"Manish\", \"Hanish\"], \"age\":[19, 20, 19], \"height\":[5.7, 5.6, 5.8]}\n",
    "\n",
    "dic_series = pd.Series(dic)\n",
    "\n",
    "print(dic_series)"
   ]
  },
  {
   "cell_type": "markdown",
   "id": "d6ac8602-2aad-4d7f-bb73-d27a2d0338f1",
   "metadata": {},
   "source": [
    "# DataFrame\n",
    "It is defined as a two-dimensional array data structure with columns, much like table"
   ]
  },
  {
   "cell_type": "code",
   "execution_count": 18,
   "id": "c247db10-7815-41f0-95d5-b1d76896e5be",
   "metadata": {},
   "outputs": [
    {
     "name": "stdout",
     "output_type": "stream",
     "text": [
      "       name  age  height\n",
      "0  Abhishek   19     5.7\n",
      "1    Manish   20     5.6\n",
      "2    Hanish   19     5.8\n"
     ]
    }
   ],
   "source": [
    "dic_dataframe = pd.DataFrame(dic)\n",
    "\n",
    "print(dic_dataframe)"
   ]
  },
  {
   "cell_type": "code",
   "execution_count": 23,
   "id": "8031f780-d93d-407e-8563-027e0cffe752",
   "metadata": {},
   "outputs": [
    {
     "name": "stdout",
     "output_type": "stream",
     "text": [
      "       name  height\n",
      "0  Abhishek     5.7\n",
      "1    Manish     5.6\n",
      "2    Hanish     5.8\n"
     ]
    }
   ],
   "source": [
    "# getting single column\n",
    "\n",
    "dic_dataframe2 = pd.DataFrame(dic, columns=[\"name\", \"height\"])\n",
    "\n",
    "print(dic_dataframe2)"
   ]
  },
  {
   "cell_type": "code",
   "execution_count": 24,
   "id": "b9ba7d80-af69-4d43-a241-1d5ccf272642",
   "metadata": {},
   "outputs": [
    {
     "name": "stdout",
     "output_type": "stream",
     "text": [
      "Hanish\n"
     ]
    }
   ],
   "source": [
    "# getting particular value\n",
    "\n",
    "print(dic_dataframe[\"name\"][2])"
   ]
  },
  {
   "cell_type": "code",
   "execution_count": 25,
   "id": "24d4cc76-9f55-444c-ad44-5067b312d761",
   "metadata": {},
   "outputs": [
    {
     "name": "stdout",
     "output_type": "stream",
     "text": [
      "   Subject  Code\n",
      "0    Hindi   101\n",
      "1  English   105\n",
      "2     Math   102\n",
      "3  Science   108\n"
     ]
    }
   ],
   "source": [
    "# making dataframe by series\n",
    "\n",
    "subjects = {\"Subject\":pd.Series([\"Hindi\", \"English\", \"Math\", \"Science\"]), \"Code\":pd.Series([101, 105, 102, 108])}\n",
    "\n",
    "subject_dataframe = pd.DataFrame(subjects)\n",
    "\n",
    "print(subject_dataframe)"
   ]
  },
  {
   "cell_type": "code",
   "execution_count": null,
   "id": "621f605c-56bb-4dca-ac44-30c7a69d8740",
   "metadata": {},
   "outputs": [],
   "source": []
  }
 ],
 "metadata": {
  "kernelspec": {
   "display_name": "Python 3 (ipykernel)",
   "language": "python",
   "name": "python3"
  },
  "language_info": {
   "codemirror_mode": {
    "name": "ipython",
    "version": 3
   },
   "file_extension": ".py",
   "mimetype": "text/x-python",
   "name": "python",
   "nbconvert_exporter": "python",
   "pygments_lexer": "ipython3",
   "version": "3.11.1"
  }
 },
 "nbformat": 4,
 "nbformat_minor": 5
}
