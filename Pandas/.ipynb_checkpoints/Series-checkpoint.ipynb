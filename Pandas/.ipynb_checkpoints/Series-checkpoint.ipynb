{
 "cells": [
  {
   "cell_type": "markdown",
   "id": "7f110944-bf2f-419f-93b4-bc3defc02334",
   "metadata": {},
   "source": [
    "# Series\n",
    "\n",
    "`Series:` One dimensional ndarray with axis labels (including time series)."
   ]
  },
  {
   "cell_type": "code",
   "execution_count": 83,
   "id": "740c8324-18f1-437e-8384-bda99e8de581",
   "metadata": {},
   "outputs": [],
   "source": [
    "# firstly import numpy and pandas \n",
    "import numpy as np\n",
    "import pandas as pd"
   ]
  },
  {
   "cell_type": "code",
   "execution_count": 84,
   "id": "89141486-89a3-49cb-941a-92749c126fc7",
   "metadata": {},
   "outputs": [],
   "source": [
    "# read_csv function is used to read the csv file.\n",
    "df = pd.read_csv(\"../Dataset/Life Expectancy Data.csv\")"
   ]
  },
  {
   "cell_type": "code",
   "execution_count": 85,
   "id": "446e0da9-e0c8-4d39-9149-d45474914bb6",
   "metadata": {},
   "outputs": [
    {
     "data": {
      "text/html": [
       "<div>\n",
       "<style scoped>\n",
       "    .dataframe tbody tr th:only-of-type {\n",
       "        vertical-align: middle;\n",
       "    }\n",
       "\n",
       "    .dataframe tbody tr th {\n",
       "        vertical-align: top;\n",
       "    }\n",
       "\n",
       "    .dataframe thead th {\n",
       "        text-align: right;\n",
       "    }\n",
       "</style>\n",
       "<table border=\"1\" class=\"dataframe\">\n",
       "  <thead>\n",
       "    <tr style=\"text-align: right;\">\n",
       "      <th></th>\n",
       "      <th>Country</th>\n",
       "      <th>Year</th>\n",
       "      <th>Status</th>\n",
       "      <th>Life expectancy</th>\n",
       "      <th>Adult Mortality</th>\n",
       "      <th>infant deaths</th>\n",
       "      <th>Alcohol</th>\n",
       "      <th>percentage expenditure</th>\n",
       "      <th>Hepatitis B</th>\n",
       "      <th>Measles</th>\n",
       "      <th>...</th>\n",
       "      <th>Polio</th>\n",
       "      <th>Total expenditure</th>\n",
       "      <th>Diphtheria</th>\n",
       "      <th>HIV/AIDS</th>\n",
       "      <th>GDP</th>\n",
       "      <th>Population</th>\n",
       "      <th>thinness  1-19 years</th>\n",
       "      <th>thinness 5-9 years</th>\n",
       "      <th>Income composition of resources</th>\n",
       "      <th>Schooling</th>\n",
       "    </tr>\n",
       "  </thead>\n",
       "  <tbody>\n",
       "    <tr>\n",
       "      <th>0</th>\n",
       "      <td>Afghanistan</td>\n",
       "      <td>2015</td>\n",
       "      <td>Developing</td>\n",
       "      <td>65.0</td>\n",
       "      <td>263.0</td>\n",
       "      <td>62</td>\n",
       "      <td>0.01</td>\n",
       "      <td>71.279624</td>\n",
       "      <td>65.0</td>\n",
       "      <td>1154</td>\n",
       "      <td>...</td>\n",
       "      <td>6.0</td>\n",
       "      <td>8.16</td>\n",
       "      <td>65.0</td>\n",
       "      <td>0.1</td>\n",
       "      <td>584.259210</td>\n",
       "      <td>33736494.0</td>\n",
       "      <td>17.2</td>\n",
       "      <td>17.3</td>\n",
       "      <td>0.479</td>\n",
       "      <td>10.1</td>\n",
       "    </tr>\n",
       "    <tr>\n",
       "      <th>1</th>\n",
       "      <td>Afghanistan</td>\n",
       "      <td>2014</td>\n",
       "      <td>Developing</td>\n",
       "      <td>59.9</td>\n",
       "      <td>271.0</td>\n",
       "      <td>64</td>\n",
       "      <td>0.01</td>\n",
       "      <td>73.523582</td>\n",
       "      <td>62.0</td>\n",
       "      <td>492</td>\n",
       "      <td>...</td>\n",
       "      <td>58.0</td>\n",
       "      <td>8.18</td>\n",
       "      <td>62.0</td>\n",
       "      <td>0.1</td>\n",
       "      <td>612.696514</td>\n",
       "      <td>327582.0</td>\n",
       "      <td>17.5</td>\n",
       "      <td>17.5</td>\n",
       "      <td>0.476</td>\n",
       "      <td>10.0</td>\n",
       "    </tr>\n",
       "    <tr>\n",
       "      <th>2</th>\n",
       "      <td>Afghanistan</td>\n",
       "      <td>2013</td>\n",
       "      <td>Developing</td>\n",
       "      <td>59.9</td>\n",
       "      <td>268.0</td>\n",
       "      <td>66</td>\n",
       "      <td>0.01</td>\n",
       "      <td>73.219243</td>\n",
       "      <td>64.0</td>\n",
       "      <td>430</td>\n",
       "      <td>...</td>\n",
       "      <td>62.0</td>\n",
       "      <td>8.13</td>\n",
       "      <td>64.0</td>\n",
       "      <td>0.1</td>\n",
       "      <td>631.744976</td>\n",
       "      <td>31731688.0</td>\n",
       "      <td>17.7</td>\n",
       "      <td>17.7</td>\n",
       "      <td>0.470</td>\n",
       "      <td>9.9</td>\n",
       "    </tr>\n",
       "    <tr>\n",
       "      <th>3</th>\n",
       "      <td>Afghanistan</td>\n",
       "      <td>2012</td>\n",
       "      <td>Developing</td>\n",
       "      <td>59.5</td>\n",
       "      <td>272.0</td>\n",
       "      <td>69</td>\n",
       "      <td>0.01</td>\n",
       "      <td>78.184215</td>\n",
       "      <td>67.0</td>\n",
       "      <td>2787</td>\n",
       "      <td>...</td>\n",
       "      <td>67.0</td>\n",
       "      <td>8.52</td>\n",
       "      <td>67.0</td>\n",
       "      <td>0.1</td>\n",
       "      <td>669.959000</td>\n",
       "      <td>3696958.0</td>\n",
       "      <td>17.9</td>\n",
       "      <td>18.0</td>\n",
       "      <td>0.463</td>\n",
       "      <td>9.8</td>\n",
       "    </tr>\n",
       "    <tr>\n",
       "      <th>4</th>\n",
       "      <td>Afghanistan</td>\n",
       "      <td>2011</td>\n",
       "      <td>Developing</td>\n",
       "      <td>59.2</td>\n",
       "      <td>275.0</td>\n",
       "      <td>71</td>\n",
       "      <td>0.01</td>\n",
       "      <td>7.097109</td>\n",
       "      <td>68.0</td>\n",
       "      <td>3013</td>\n",
       "      <td>...</td>\n",
       "      <td>68.0</td>\n",
       "      <td>7.87</td>\n",
       "      <td>68.0</td>\n",
       "      <td>0.1</td>\n",
       "      <td>63.537231</td>\n",
       "      <td>2978599.0</td>\n",
       "      <td>18.2</td>\n",
       "      <td>18.2</td>\n",
       "      <td>0.454</td>\n",
       "      <td>9.5</td>\n",
       "    </tr>\n",
       "    <tr>\n",
       "      <th>...</th>\n",
       "      <td>...</td>\n",
       "      <td>...</td>\n",
       "      <td>...</td>\n",
       "      <td>...</td>\n",
       "      <td>...</td>\n",
       "      <td>...</td>\n",
       "      <td>...</td>\n",
       "      <td>...</td>\n",
       "      <td>...</td>\n",
       "      <td>...</td>\n",
       "      <td>...</td>\n",
       "      <td>...</td>\n",
       "      <td>...</td>\n",
       "      <td>...</td>\n",
       "      <td>...</td>\n",
       "      <td>...</td>\n",
       "      <td>...</td>\n",
       "      <td>...</td>\n",
       "      <td>...</td>\n",
       "      <td>...</td>\n",
       "      <td>...</td>\n",
       "    </tr>\n",
       "    <tr>\n",
       "      <th>2933</th>\n",
       "      <td>Zimbabwe</td>\n",
       "      <td>2004</td>\n",
       "      <td>Developing</td>\n",
       "      <td>44.3</td>\n",
       "      <td>723.0</td>\n",
       "      <td>27</td>\n",
       "      <td>4.36</td>\n",
       "      <td>0.000000</td>\n",
       "      <td>68.0</td>\n",
       "      <td>31</td>\n",
       "      <td>...</td>\n",
       "      <td>67.0</td>\n",
       "      <td>7.13</td>\n",
       "      <td>65.0</td>\n",
       "      <td>33.6</td>\n",
       "      <td>454.366654</td>\n",
       "      <td>12777511.0</td>\n",
       "      <td>9.4</td>\n",
       "      <td>9.4</td>\n",
       "      <td>0.407</td>\n",
       "      <td>9.2</td>\n",
       "    </tr>\n",
       "    <tr>\n",
       "      <th>2934</th>\n",
       "      <td>Zimbabwe</td>\n",
       "      <td>2003</td>\n",
       "      <td>Developing</td>\n",
       "      <td>44.5</td>\n",
       "      <td>715.0</td>\n",
       "      <td>26</td>\n",
       "      <td>4.06</td>\n",
       "      <td>0.000000</td>\n",
       "      <td>7.0</td>\n",
       "      <td>998</td>\n",
       "      <td>...</td>\n",
       "      <td>7.0</td>\n",
       "      <td>6.52</td>\n",
       "      <td>68.0</td>\n",
       "      <td>36.7</td>\n",
       "      <td>453.351155</td>\n",
       "      <td>12633897.0</td>\n",
       "      <td>9.8</td>\n",
       "      <td>9.9</td>\n",
       "      <td>0.418</td>\n",
       "      <td>9.5</td>\n",
       "    </tr>\n",
       "    <tr>\n",
       "      <th>2935</th>\n",
       "      <td>Zimbabwe</td>\n",
       "      <td>2002</td>\n",
       "      <td>Developing</td>\n",
       "      <td>44.8</td>\n",
       "      <td>73.0</td>\n",
       "      <td>25</td>\n",
       "      <td>4.43</td>\n",
       "      <td>0.000000</td>\n",
       "      <td>73.0</td>\n",
       "      <td>304</td>\n",
       "      <td>...</td>\n",
       "      <td>73.0</td>\n",
       "      <td>6.53</td>\n",
       "      <td>71.0</td>\n",
       "      <td>39.8</td>\n",
       "      <td>57.348340</td>\n",
       "      <td>125525.0</td>\n",
       "      <td>1.2</td>\n",
       "      <td>1.3</td>\n",
       "      <td>0.427</td>\n",
       "      <td>10.0</td>\n",
       "    </tr>\n",
       "    <tr>\n",
       "      <th>2936</th>\n",
       "      <td>Zimbabwe</td>\n",
       "      <td>2001</td>\n",
       "      <td>Developing</td>\n",
       "      <td>45.3</td>\n",
       "      <td>686.0</td>\n",
       "      <td>25</td>\n",
       "      <td>1.72</td>\n",
       "      <td>0.000000</td>\n",
       "      <td>76.0</td>\n",
       "      <td>529</td>\n",
       "      <td>...</td>\n",
       "      <td>76.0</td>\n",
       "      <td>6.16</td>\n",
       "      <td>75.0</td>\n",
       "      <td>42.1</td>\n",
       "      <td>548.587312</td>\n",
       "      <td>12366165.0</td>\n",
       "      <td>1.6</td>\n",
       "      <td>1.7</td>\n",
       "      <td>0.427</td>\n",
       "      <td>9.8</td>\n",
       "    </tr>\n",
       "    <tr>\n",
       "      <th>2937</th>\n",
       "      <td>Zimbabwe</td>\n",
       "      <td>2000</td>\n",
       "      <td>Developing</td>\n",
       "      <td>46.0</td>\n",
       "      <td>665.0</td>\n",
       "      <td>24</td>\n",
       "      <td>1.68</td>\n",
       "      <td>0.000000</td>\n",
       "      <td>79.0</td>\n",
       "      <td>1483</td>\n",
       "      <td>...</td>\n",
       "      <td>78.0</td>\n",
       "      <td>7.10</td>\n",
       "      <td>78.0</td>\n",
       "      <td>43.5</td>\n",
       "      <td>547.358878</td>\n",
       "      <td>12222251.0</td>\n",
       "      <td>11.0</td>\n",
       "      <td>11.2</td>\n",
       "      <td>0.434</td>\n",
       "      <td>9.8</td>\n",
       "    </tr>\n",
       "  </tbody>\n",
       "</table>\n",
       "<p>2938 rows × 22 columns</p>\n",
       "</div>"
      ],
      "text/plain": [
       "          Country  Year      Status  Life expectancy   Adult Mortality  \\\n",
       "0     Afghanistan  2015  Developing              65.0            263.0   \n",
       "1     Afghanistan  2014  Developing              59.9            271.0   \n",
       "2     Afghanistan  2013  Developing              59.9            268.0   \n",
       "3     Afghanistan  2012  Developing              59.5            272.0   \n",
       "4     Afghanistan  2011  Developing              59.2            275.0   \n",
       "...           ...   ...         ...               ...              ...   \n",
       "2933     Zimbabwe  2004  Developing              44.3            723.0   \n",
       "2934     Zimbabwe  2003  Developing              44.5            715.0   \n",
       "2935     Zimbabwe  2002  Developing              44.8             73.0   \n",
       "2936     Zimbabwe  2001  Developing              45.3            686.0   \n",
       "2937     Zimbabwe  2000  Developing              46.0            665.0   \n",
       "\n",
       "      infant deaths  Alcohol  percentage expenditure  Hepatitis B  Measles   \\\n",
       "0                62     0.01               71.279624         65.0      1154   \n",
       "1                64     0.01               73.523582         62.0       492   \n",
       "2                66     0.01               73.219243         64.0       430   \n",
       "3                69     0.01               78.184215         67.0      2787   \n",
       "4                71     0.01                7.097109         68.0      3013   \n",
       "...             ...      ...                     ...          ...       ...   \n",
       "2933             27     4.36                0.000000         68.0        31   \n",
       "2934             26     4.06                0.000000          7.0       998   \n",
       "2935             25     4.43                0.000000         73.0       304   \n",
       "2936             25     1.72                0.000000         76.0       529   \n",
       "2937             24     1.68                0.000000         79.0      1483   \n",
       "\n",
       "      ...  Polio  Total expenditure  Diphtheria    HIV/AIDS         GDP  \\\n",
       "0     ...    6.0               8.16         65.0        0.1  584.259210   \n",
       "1     ...   58.0               8.18         62.0        0.1  612.696514   \n",
       "2     ...   62.0               8.13         64.0        0.1  631.744976   \n",
       "3     ...   67.0               8.52         67.0        0.1  669.959000   \n",
       "4     ...   68.0               7.87         68.0        0.1   63.537231   \n",
       "...   ...    ...                ...          ...        ...         ...   \n",
       "2933  ...   67.0               7.13         65.0       33.6  454.366654   \n",
       "2934  ...    7.0               6.52         68.0       36.7  453.351155   \n",
       "2935  ...   73.0               6.53         71.0       39.8   57.348340   \n",
       "2936  ...   76.0               6.16         75.0       42.1  548.587312   \n",
       "2937  ...   78.0               7.10         78.0       43.5  547.358878   \n",
       "\n",
       "      Population   thinness  1-19 years   thinness 5-9 years  \\\n",
       "0     33736494.0                   17.2                 17.3   \n",
       "1       327582.0                   17.5                 17.5   \n",
       "2     31731688.0                   17.7                 17.7   \n",
       "3      3696958.0                   17.9                 18.0   \n",
       "4      2978599.0                   18.2                 18.2   \n",
       "...          ...                    ...                  ...   \n",
       "2933  12777511.0                    9.4                  9.4   \n",
       "2934  12633897.0                    9.8                  9.9   \n",
       "2935    125525.0                    1.2                  1.3   \n",
       "2936  12366165.0                    1.6                  1.7   \n",
       "2937  12222251.0                   11.0                 11.2   \n",
       "\n",
       "      Income composition of resources  Schooling  \n",
       "0                               0.479       10.1  \n",
       "1                               0.476       10.0  \n",
       "2                               0.470        9.9  \n",
       "3                               0.463        9.8  \n",
       "4                               0.454        9.5  \n",
       "...                               ...        ...  \n",
       "2933                            0.407        9.2  \n",
       "2934                            0.418        9.5  \n",
       "2935                            0.427       10.0  \n",
       "2936                            0.427        9.8  \n",
       "2937                            0.434        9.8  \n",
       "\n",
       "[2938 rows x 22 columns]"
      ]
     },
     "execution_count": 85,
     "metadata": {},
     "output_type": "execute_result"
    }
   ],
   "source": [
    "df"
   ]
  },
  {
   "cell_type": "code",
   "execution_count": 86,
   "id": "d62f99b6-a370-4fb6-b19d-5da83b94d65d",
   "metadata": {},
   "outputs": [
    {
     "data": {
      "text/html": [
       "<div>\n",
       "<style scoped>\n",
       "    .dataframe tbody tr th:only-of-type {\n",
       "        vertical-align: middle;\n",
       "    }\n",
       "\n",
       "    .dataframe tbody tr th {\n",
       "        vertical-align: top;\n",
       "    }\n",
       "\n",
       "    .dataframe thead th {\n",
       "        text-align: right;\n",
       "    }\n",
       "</style>\n",
       "<table border=\"1\" class=\"dataframe\">\n",
       "  <thead>\n",
       "    <tr style=\"text-align: right;\">\n",
       "      <th></th>\n",
       "      <th>Country</th>\n",
       "      <th>Year</th>\n",
       "      <th>Status</th>\n",
       "      <th>Life expectancy</th>\n",
       "      <th>Adult Mortality</th>\n",
       "      <th>infant deaths</th>\n",
       "      <th>Alcohol</th>\n",
       "      <th>percentage expenditure</th>\n",
       "      <th>Hepatitis B</th>\n",
       "      <th>Measles</th>\n",
       "      <th>...</th>\n",
       "      <th>Polio</th>\n",
       "      <th>Total expenditure</th>\n",
       "      <th>Diphtheria</th>\n",
       "      <th>HIV/AIDS</th>\n",
       "      <th>GDP</th>\n",
       "      <th>Population</th>\n",
       "      <th>thinness  1-19 years</th>\n",
       "      <th>thinness 5-9 years</th>\n",
       "      <th>Income composition of resources</th>\n",
       "      <th>Schooling</th>\n",
       "    </tr>\n",
       "  </thead>\n",
       "  <tbody>\n",
       "    <tr>\n",
       "      <th>0</th>\n",
       "      <td>Afghanistan</td>\n",
       "      <td>2015</td>\n",
       "      <td>Developing</td>\n",
       "      <td>65.0</td>\n",
       "      <td>263.0</td>\n",
       "      <td>62</td>\n",
       "      <td>0.01</td>\n",
       "      <td>71.279624</td>\n",
       "      <td>65.0</td>\n",
       "      <td>1154</td>\n",
       "      <td>...</td>\n",
       "      <td>6.0</td>\n",
       "      <td>8.16</td>\n",
       "      <td>65.0</td>\n",
       "      <td>0.1</td>\n",
       "      <td>584.259210</td>\n",
       "      <td>33736494.0</td>\n",
       "      <td>17.2</td>\n",
       "      <td>17.3</td>\n",
       "      <td>0.479</td>\n",
       "      <td>10.1</td>\n",
       "    </tr>\n",
       "    <tr>\n",
       "      <th>1</th>\n",
       "      <td>Afghanistan</td>\n",
       "      <td>2014</td>\n",
       "      <td>Developing</td>\n",
       "      <td>59.9</td>\n",
       "      <td>271.0</td>\n",
       "      <td>64</td>\n",
       "      <td>0.01</td>\n",
       "      <td>73.523582</td>\n",
       "      <td>62.0</td>\n",
       "      <td>492</td>\n",
       "      <td>...</td>\n",
       "      <td>58.0</td>\n",
       "      <td>8.18</td>\n",
       "      <td>62.0</td>\n",
       "      <td>0.1</td>\n",
       "      <td>612.696514</td>\n",
       "      <td>327582.0</td>\n",
       "      <td>17.5</td>\n",
       "      <td>17.5</td>\n",
       "      <td>0.476</td>\n",
       "      <td>10.0</td>\n",
       "    </tr>\n",
       "    <tr>\n",
       "      <th>2</th>\n",
       "      <td>Afghanistan</td>\n",
       "      <td>2013</td>\n",
       "      <td>Developing</td>\n",
       "      <td>59.9</td>\n",
       "      <td>268.0</td>\n",
       "      <td>66</td>\n",
       "      <td>0.01</td>\n",
       "      <td>73.219243</td>\n",
       "      <td>64.0</td>\n",
       "      <td>430</td>\n",
       "      <td>...</td>\n",
       "      <td>62.0</td>\n",
       "      <td>8.13</td>\n",
       "      <td>64.0</td>\n",
       "      <td>0.1</td>\n",
       "      <td>631.744976</td>\n",
       "      <td>31731688.0</td>\n",
       "      <td>17.7</td>\n",
       "      <td>17.7</td>\n",
       "      <td>0.470</td>\n",
       "      <td>9.9</td>\n",
       "    </tr>\n",
       "    <tr>\n",
       "      <th>3</th>\n",
       "      <td>Afghanistan</td>\n",
       "      <td>2012</td>\n",
       "      <td>Developing</td>\n",
       "      <td>59.5</td>\n",
       "      <td>272.0</td>\n",
       "      <td>69</td>\n",
       "      <td>0.01</td>\n",
       "      <td>78.184215</td>\n",
       "      <td>67.0</td>\n",
       "      <td>2787</td>\n",
       "      <td>...</td>\n",
       "      <td>67.0</td>\n",
       "      <td>8.52</td>\n",
       "      <td>67.0</td>\n",
       "      <td>0.1</td>\n",
       "      <td>669.959000</td>\n",
       "      <td>3696958.0</td>\n",
       "      <td>17.9</td>\n",
       "      <td>18.0</td>\n",
       "      <td>0.463</td>\n",
       "      <td>9.8</td>\n",
       "    </tr>\n",
       "    <tr>\n",
       "      <th>4</th>\n",
       "      <td>Afghanistan</td>\n",
       "      <td>2011</td>\n",
       "      <td>Developing</td>\n",
       "      <td>59.2</td>\n",
       "      <td>275.0</td>\n",
       "      <td>71</td>\n",
       "      <td>0.01</td>\n",
       "      <td>7.097109</td>\n",
       "      <td>68.0</td>\n",
       "      <td>3013</td>\n",
       "      <td>...</td>\n",
       "      <td>68.0</td>\n",
       "      <td>7.87</td>\n",
       "      <td>68.0</td>\n",
       "      <td>0.1</td>\n",
       "      <td>63.537231</td>\n",
       "      <td>2978599.0</td>\n",
       "      <td>18.2</td>\n",
       "      <td>18.2</td>\n",
       "      <td>0.454</td>\n",
       "      <td>9.5</td>\n",
       "    </tr>\n",
       "  </tbody>\n",
       "</table>\n",
       "<p>5 rows × 22 columns</p>\n",
       "</div>"
      ],
      "text/plain": [
       "       Country  Year      Status  Life expectancy   Adult Mortality  \\\n",
       "0  Afghanistan  2015  Developing              65.0            263.0   \n",
       "1  Afghanistan  2014  Developing              59.9            271.0   \n",
       "2  Afghanistan  2013  Developing              59.9            268.0   \n",
       "3  Afghanistan  2012  Developing              59.5            272.0   \n",
       "4  Afghanistan  2011  Developing              59.2            275.0   \n",
       "\n",
       "   infant deaths  Alcohol  percentage expenditure  Hepatitis B  Measles   ...  \\\n",
       "0             62     0.01               71.279624         65.0      1154  ...   \n",
       "1             64     0.01               73.523582         62.0       492  ...   \n",
       "2             66     0.01               73.219243         64.0       430  ...   \n",
       "3             69     0.01               78.184215         67.0      2787  ...   \n",
       "4             71     0.01                7.097109         68.0      3013  ...   \n",
       "\n",
       "   Polio  Total expenditure  Diphtheria    HIV/AIDS         GDP  Population  \\\n",
       "0    6.0               8.16         65.0        0.1  584.259210  33736494.0   \n",
       "1   58.0               8.18         62.0        0.1  612.696514    327582.0   \n",
       "2   62.0               8.13         64.0        0.1  631.744976  31731688.0   \n",
       "3   67.0               8.52         67.0        0.1  669.959000   3696958.0   \n",
       "4   68.0               7.87         68.0        0.1   63.537231   2978599.0   \n",
       "\n",
       "    thinness  1-19 years   thinness 5-9 years  \\\n",
       "0                   17.2                 17.3   \n",
       "1                   17.5                 17.5   \n",
       "2                   17.7                 17.7   \n",
       "3                   17.9                 18.0   \n",
       "4                   18.2                 18.2   \n",
       "\n",
       "   Income composition of resources  Schooling  \n",
       "0                            0.479       10.1  \n",
       "1                            0.476       10.0  \n",
       "2                            0.470        9.9  \n",
       "3                            0.463        9.8  \n",
       "4                            0.454        9.5  \n",
       "\n",
       "[5 rows x 22 columns]"
      ]
     },
     "execution_count": 86,
     "metadata": {},
     "output_type": "execute_result"
    }
   ],
   "source": [
    "# head method in dataframe used to get top 5 rows\n",
    "df.head()"
   ]
  },
  {
   "cell_type": "markdown",
   "id": "e32717dc-001d-4896-93f7-5503845e165d",
   "metadata": {},
   "source": [
    "### pandas size method\n",
    "The size property is used to get an int representing the number of elements in this object and Return the number of rows if Series. Otherwise, return the number of rows times the number of columns if DataFrame.\r\n"
   ]
  },
  {
   "cell_type": "code",
   "execution_count": 87,
   "id": "02cd9c22-3ce8-4474-b341-aa84d7735142",
   "metadata": {},
   "outputs": [
    {
     "data": {
      "text/plain": [
       "64636"
      ]
     },
     "execution_count": 87,
     "metadata": {},
     "output_type": "execute_result"
    }
   ],
   "source": [
    "df.size"
   ]
  },
  {
   "cell_type": "code",
   "execution_count": 88,
   "id": "1cff1545-8c37-4fa9-9714-bfecba59642e",
   "metadata": {},
   "outputs": [
    {
     "data": {
      "text/plain": [
       "(2938, 22)"
      ]
     },
     "execution_count": 88,
     "metadata": {},
     "output_type": "execute_result"
    }
   ],
   "source": [
    "# shape mmethod returns the dimension of dataframe rows & columns\n",
    "df.shape"
   ]
  },
  {
   "cell_type": "markdown",
   "id": "60d01d47-bdb9-4cf1-af61-9593963504a0",
   "metadata": {},
   "source": [
    "### pandas info method\n",
    "\n",
    "infro method returns the infromation about dataframe\n",
    "The information contains the number of columns, column labels, column data types, memory usage, range index, and the number of cells in each column (non-null values)."
   ]
  },
  {
   "cell_type": "code",
   "execution_count": 89,
   "id": "feeb1433-50b7-449e-8f3b-231acc093104",
   "metadata": {},
   "outputs": [
    {
     "name": "stdout",
     "output_type": "stream",
     "text": [
      "<class 'pandas.core.frame.DataFrame'>\n",
      "RangeIndex: 2938 entries, 0 to 2937\n",
      "Data columns (total 22 columns):\n",
      " #   Column                           Non-Null Count  Dtype  \n",
      "---  ------                           --------------  -----  \n",
      " 0   Country                          2938 non-null   object \n",
      " 1   Year                             2938 non-null   int64  \n",
      " 2   Status                           2938 non-null   object \n",
      " 3   Life expectancy                  2928 non-null   float64\n",
      " 4   Adult Mortality                  2928 non-null   float64\n",
      " 5   infant deaths                    2938 non-null   int64  \n",
      " 6   Alcohol                          2744 non-null   float64\n",
      " 7   percentage expenditure           2938 non-null   float64\n",
      " 8   Hepatitis B                      2385 non-null   float64\n",
      " 9   Measles                          2938 non-null   int64  \n",
      " 10   BMI                             2904 non-null   float64\n",
      " 11  under-five deaths                2938 non-null   int64  \n",
      " 12  Polio                            2919 non-null   float64\n",
      " 13  Total expenditure                2712 non-null   float64\n",
      " 14  Diphtheria                       2919 non-null   float64\n",
      " 15   HIV/AIDS                        2938 non-null   float64\n",
      " 16  GDP                              2490 non-null   float64\n",
      " 17  Population                       2286 non-null   float64\n",
      " 18   thinness  1-19 years            2904 non-null   float64\n",
      " 19   thinness 5-9 years              2904 non-null   float64\n",
      " 20  Income composition of resources  2771 non-null   float64\n",
      " 21  Schooling                        2775 non-null   float64\n",
      "dtypes: float64(16), int64(4), object(2)\n",
      "memory usage: 505.1+ KB\n"
     ]
    }
   ],
   "source": [
    "df.info()"
   ]
  },
  {
   "cell_type": "markdown",
   "id": "6912466d-bb3d-4c85-9dd3-05aa1068d672",
   "metadata": {},
   "source": [
    "## Creating a series"
   ]
  },
  {
   "cell_type": "code",
   "execution_count": 90,
   "id": "f2a4e64e-d996-4f70-99f6-2c6064ae5fc3",
   "metadata": {},
   "outputs": [
    {
     "data": {
      "text/plain": [
       "0    Abhishek\n",
       "1       Sunny\n",
       "2      Manish\n",
       "3      Hanish\n",
       "4        Anuj\n",
       "5      Mayank\n",
       "6     Sarjeet\n",
       "7     Diljeet\n",
       "8       Arpit\n",
       "9        Monu\n",
       "dtype: object"
      ]
     },
     "execution_count": 90,
     "metadata": {},
     "output_type": "execute_result"
    }
   ],
   "source": [
    "# creating a series with list\n",
    "series_list = (\"Abhishek\", \"Sunny\", \"Manish\", \"Hanish\", \"Anuj\", \"Mayank\", \"Sarjeet\", \"Diljeet\", \"Arpit\", \"Monu\")\n",
    "\n",
    "l_series = pd.Series(series_list)\n",
    "\n",
    "l_series"
   ]
  },
  {
   "cell_type": "code",
   "execution_count": 91,
   "id": "29b1b518-aa5b-4d0b-8b47-f8f221f09660",
   "metadata": {},
   "outputs": [
    {
     "data": {
      "text/plain": [
       "Abhishek    19\n",
       "Sunny       19\n",
       "Manish      20\n",
       "Hanish      19\n",
       "Anuj        22\n",
       "Mayank      19\n",
       "Sarjeet     20\n",
       "Diljeet     25\n",
       "Arpit       18\n",
       "Monu        26\n",
       "dtype: int64"
      ]
     },
     "execution_count": 91,
     "metadata": {},
     "output_type": "execute_result"
    }
   ],
   "source": [
    "# creating a series with dictionary\n",
    "_dict = {\"Abhishek\": 19, \"Sunny\": 19, \"Manish\": 20, \"Hanish\": 19, \"Anuj\": 22, \"Mayank\":19, \"Sarjeet\":20, \"Diljeet\":25, \"Arpit\":18, \"Monu\":26}\n",
    "\n",
    "d_series = pd.Series(_dict)\n",
    "\n",
    "d_series"
   ]
  },
  {
   "cell_type": "code",
   "execution_count": 92,
   "id": "5209a1a8-f994-4e46-b6eb-7d68b8bc8d92",
   "metadata": {},
   "outputs": [
    {
     "data": {
      "text/plain": [
       "0    (Abhishek, 19)\n",
       "1       (Sunny, 19)\n",
       "2      (Manish, 20)\n",
       "3      (Hanish, 19)\n",
       "4        (Aunj, 22)\n",
       "dtype: object"
      ]
     },
     "execution_count": 92,
     "metadata": {},
     "output_type": "execute_result"
    }
   ],
   "source": [
    "\"\"\"\n",
    "Creating a Series with tuple\n",
    "we can only create a series with only array-like object, dicttionary, iterable object or a scalar value. so we can also create a series by passing the tuple.\n",
    "\"\"\"\n",
    "\n",
    "_tuple = ((\"Abhishek\", 19), (\"Sunny\", 19), (\"Manish\", 20), (\"Hanish\", 19), (\"Aunj\", 22))\n",
    "\n",
    "t_series = pd.Series(_tuple)\n",
    "\n",
    "t_series"
   ]
  },
  {
   "cell_type": "markdown",
   "id": "08e226ad-1992-4619-8b3d-0daf8c619c78",
   "metadata": {},
   "source": [
    "`Note:`  In this result values ar the pair of the name and the age together which can be useful some time but it would be better if all the names treated as the index values. For that we need to convert this tuple in the dict object."
   ]
  },
  {
   "cell_type": "code",
   "execution_count": 93,
   "id": "f1ebef41-2861-409b-b804-531e5f7b5ede",
   "metadata": {},
   "outputs": [
    {
     "data": {
      "text/plain": [
       "Abhishek    19\n",
       "Sunny       19\n",
       "Manish      20\n",
       "Hanish      19\n",
       "Aunj        22\n",
       "dtype: int64"
      ]
     },
     "execution_count": 93,
     "metadata": {},
     "output_type": "execute_result"
    }
   ],
   "source": [
    "t_series = pd.Series(data = dict(_tuple))\n",
    "\n",
    "t_series"
   ]
  },
  {
   "cell_type": "markdown",
   "id": "7ba98413-2af7-4d0b-b081-198d7280bcda",
   "metadata": {},
   "source": [
    "# Mostly used attributes in Series\n",
    "- array: The ExtensionArray of the data backing this Series or Index."
   ]
  },
  {
   "cell_type": "markdown",
   "id": "44b0d202-4715-4801-bf91-6e60b7030360",
   "metadata": {},
   "source": [
    "#### Creating a series"
   ]
  },
  {
   "cell_type": "code",
   "execution_count": 94,
   "id": "e03453ed-77da-4f5e-ae6a-9a07af021697",
   "metadata": {},
   "outputs": [
    {
     "data": {
      "text/plain": [
       "0      9.0\n",
       "1     47.0\n",
       "2     38.0\n",
       "3     35.0\n",
       "4     43.0\n",
       "5      0.0\n",
       "6      1.0\n",
       "7     42.0\n",
       "8     32.0\n",
       "9     46.0\n",
       "10    46.0\n",
       "11    39.0\n",
       "12    37.0\n",
       "13    49.0\n",
       "14    36.0\n",
       "15    39.0\n",
       "16    26.0\n",
       "17     1.0\n",
       "18    45.0\n",
       "19     NaN\n",
       "20    26.0\n",
       "21    32.0\n",
       "22    41.0\n",
       "23     6.0\n",
       "24    17.0\n",
       "25    40.0\n",
       "26    35.0\n",
       "27    31.0\n",
       "28     NaN\n",
       "29     1.0\n",
       "30    12.0\n",
       "31     NaN\n",
       "32     0.0\n",
       "33     1.0\n",
       "34    34.0\n",
       "35     NaN\n",
       "36     0.0\n",
       "37    28.0\n",
       "38    25.0\n",
       "39    26.0\n",
       "40     7.0\n",
       "41    30.0\n",
       "42    12.0\n",
       "43     NaN\n",
       "44    15.0\n",
       "45     NaN\n",
       "46    20.0\n",
       "47    25.0\n",
       "48     NaN\n",
       "49    40.0\n",
       "dtype: float64"
      ]
     },
     "execution_count": 94,
     "metadata": {},
     "output_type": "execute_result"
    }
   ],
   "source": [
    "_rs = np.random.randint(50, size=50)\n",
    "\n",
    "_ps = pd.Series(_rs)\n",
    "\n",
    "for i in range(10):\n",
    "    _ps[np.random.randint(0,49,)] = np.nan \n",
    "\n",
    "_ps"
   ]
  },
  {
   "cell_type": "markdown",
   "id": "760ce6c2-f03c-4106-8f99-619f25501e5c",
   "metadata": {},
   "source": [
    "Noew we have a randomly generated series with some `NaN` not a number values, now we will work on some pandas series attributes.\n",
    "\n",
    "`Note:` Here **Nan**(not a number) is the standard missing data marker used in pandas."
   ]
  },
  {
   "cell_type": "markdown",
   "id": "16502a42-b08d-48d7-bf46-e67ce9adf9f9",
   "metadata": {},
   "source": [
    "#### 1. array - attribute\n",
    "\n",
    "The ExtensionArray of the data backing this series or index.\n",
    "\n",
    "   Pandas series object have a .array attribute that can be used to acess the underlying array of data for a series object. This can be useful for working with data in a Series, but can also lead to problems if the underlying array contains different data types. To avoid this, it is important to ensure that the data types in the underlying array are all the same. Additionally, the .array attribute can be used to create a new Series object from an exisiting array."
   ]
  },
  {
   "cell_type": "code",
   "execution_count": 95,
   "id": "9a1ded51-4fc5-4493-bf3e-c9cb54c1aef0",
   "metadata": {},
   "outputs": [
    {
     "data": {
      "text/plain": [
       "<PandasArray>\n",
       "[ 9.0, 47.0, 38.0, 35.0, 43.0,  0.0,  1.0, 42.0, 32.0, 46.0, 46.0, 39.0, 37.0,\n",
       " 49.0, 36.0, 39.0, 26.0,  1.0, 45.0,  nan, 26.0, 32.0, 41.0,  6.0, 17.0, 40.0,\n",
       " 35.0, 31.0,  nan,  1.0, 12.0,  nan,  0.0,  1.0, 34.0,  nan,  0.0, 28.0, 25.0,\n",
       " 26.0,  7.0, 30.0, 12.0,  nan, 15.0,  nan, 20.0, 25.0,  nan, 40.0]\n",
       "Length: 50, dtype: float64"
      ]
     },
     "execution_count": 95,
     "metadata": {},
     "output_type": "execute_result"
    }
   ],
   "source": [
    "# getting the array form the serie\n",
    "_ps.array"
   ]
  },
  {
   "cell_type": "code",
   "execution_count": 96,
   "id": "1dfbcb5b-6f09-461f-a726-279fe1a5de3c",
   "metadata": {},
   "outputs": [
    {
     "data": {
      "text/plain": [
       "<PandasArray>\n",
       "[2015, 2014, 2013, 2012, 2011, 2010, 2009, 2008, 2007, 2006,\n",
       " ...\n",
       " 2009, 2008, 2007, 2006, 2005, 2004, 2003, 2002, 2001, 2000]\n",
       "Length: 2938, dtype: int64"
      ]
     },
     "execution_count": 96,
     "metadata": {},
     "output_type": "execute_result"
    }
   ],
   "source": [
    "df_year = df[\"Year\"]\n",
    "df_year.array"
   ]
  },
  {
   "cell_type": "markdown",
   "id": "c081d4cf-0e24-4408-afc9-a87b98506049",
   "metadata": {},
   "source": [
    "`Note: ` If we want to work on the pure numpy array than we need to use the `Series.to_numoy()` method."
   ]
  },
  {
   "cell_type": "code",
   "execution_count": 97,
   "id": "d823f005-ea84-425f-b4b0-2135f0089456",
   "metadata": {},
   "outputs": [
    {
     "data": {
      "text/plain": [
       "array([ 9., 47., 38., 35., 43.,  0.,  1., 42., 32., 46., 46., 39., 37.,\n",
       "       49., 36., 39., 26.,  1., 45., nan, 26., 32., 41.,  6., 17., 40.,\n",
       "       35., 31., nan,  1., 12., nan,  0.,  1., 34., nan,  0., 28., 25.,\n",
       "       26.,  7., 30., 12., nan, 15., nan, 20., 25., nan, 40.])"
      ]
     },
     "execution_count": 97,
     "metadata": {},
     "output_type": "execute_result"
    }
   ],
   "source": [
    "_ps.to_numpy()"
   ]
  },
  {
   "cell_type": "markdown",
   "id": "f46e9664-1e76-4e3d-b3fb-b50cf34982e5",
   "metadata": {},
   "source": [
    "#### axes - attribute\n",
    "\n",
    "Pandas `Series.axes` is an attribute that contains a list of the row and columns axes labels of the series. If the row and columns axes have different labels, then the Series.axes attribute will include both labels. Problems with Series.axes attribute can arise if the labels of the rows and columns axes are not properly set. To solve this issue, you can use the `Series.renameaxis()` method to correctly set the labels of the axes. Additionally, you can use the `series.restindex()` method to reset the index of the series, which will also reset the labels of the axes."
   ]
  },
  {
   "cell_type": "code",
   "execution_count": 98,
   "id": "0fd9e3df-4cbd-4563-ae91-af71564d4bc8",
   "metadata": {},
   "outputs": [
    {
     "data": {
      "text/plain": [
       "[RangeIndex(start=0, stop=50, step=1)]"
      ]
     },
     "execution_count": 98,
     "metadata": {},
     "output_type": "execute_result"
    }
   ],
   "source": [
    "_ps.axes"
   ]
  },
  {
   "cell_type": "code",
   "execution_count": 99,
   "id": "11a62387-7a04-40c3-82a7-056b0124cd7b",
   "metadata": {},
   "outputs": [
    {
     "data": {
      "text/plain": [
       "[RangeIndex(start=0, stop=2938, step=1)]"
      ]
     },
     "execution_count": 99,
     "metadata": {},
     "output_type": "execute_result"
    }
   ],
   "source": [
    "df_year.axes"
   ]
  },
  {
   "cell_type": "markdown",
   "id": "f3be7d01-1065-4596-8f65-763adfefdf1a",
   "metadata": {},
   "source": [
    "#### index - attribute\n",
    "- The index (axis labels) of the series."
   ]
  },
  {
   "cell_type": "code",
   "execution_count": 100,
   "id": "1dee423a-1a03-4d58-b63d-46c0c6b2386f",
   "metadata": {},
   "outputs": [
    {
     "data": {
      "text/plain": [
       "RangeIndex(start=0, stop=50, step=1)"
      ]
     },
     "execution_count": 100,
     "metadata": {},
     "output_type": "execute_result"
    }
   ],
   "source": [
    "_ps.index"
   ]
  },
  {
   "cell_type": "code",
   "execution_count": 101,
   "id": "976609da-d939-4f7f-aaec-93d0eaac650c",
   "metadata": {},
   "outputs": [
    {
     "data": {
      "text/plain": [
       "RangeIndex(start=0, stop=2938, step=1)"
      ]
     },
     "execution_count": 101,
     "metadata": {},
     "output_type": "execute_result"
    }
   ],
   "source": [
    "df_year.index"
   ]
  },
  {
   "cell_type": "markdown",
   "id": "cd47f1e2-7eff-41af-ba92-7cb0266b4359",
   "metadata": {},
   "source": [
    "#### values - attribute\n",
    "- Return series as ndarray or ndarray-like depending on the dtype."
   ]
  },
  {
   "cell_type": "code",
   "execution_count": 102,
   "id": "132bc1ae-e18d-47c2-bc0e-19e5cc7052b8",
   "metadata": {},
   "outputs": [
    {
     "data": {
      "text/plain": [
       "array([ 9., 47., 38., 35., 43.,  0.,  1., 42., 32., 46., 46., 39., 37.,\n",
       "       49., 36., 39., 26.,  1., 45., nan, 26., 32., 41.,  6., 17., 40.,\n",
       "       35., 31., nan,  1., 12., nan,  0.,  1., 34., nan,  0., 28., 25.,\n",
       "       26.,  7., 30., 12., nan, 15., nan, 20., 25., nan, 40.])"
      ]
     },
     "execution_count": 102,
     "metadata": {},
     "output_type": "execute_result"
    }
   ],
   "source": [
    "_ps.values"
   ]
  },
  {
   "cell_type": "code",
   "execution_count": 103,
   "id": "17394725-4808-43f1-b551-93ce47747e81",
   "metadata": {},
   "outputs": [
    {
     "data": {
      "text/plain": [
       "array([2015, 2014, 2013, ..., 2002, 2001, 2000], dtype=int64)"
      ]
     },
     "execution_count": 103,
     "metadata": {},
     "output_type": "execute_result"
    }
   ],
   "source": [
    "df_year.values"
   ]
  },
  {
   "cell_type": "markdown",
   "id": "a4440e12-177c-46ed-b4b9-30ae31fc6df4",
   "metadata": {},
   "source": [
    "As a pandas documentation we should avoid to use `Series.values` instead we should use `Series.array` or `Series_tonumpy()` method."
   ]
  },
  {
   "cell_type": "markdown",
   "id": "0810baf0-3bc4-45c6-95e1-2603f06c6911",
   "metadata": {},
   "source": [
    "#### dtype and dtypes - attribute\n",
    "- both dtype and dtypes Return the dtype object of the underlying data"
   ]
  },
  {
   "cell_type": "code",
   "execution_count": 104,
   "id": "251c2d18-bbc2-401a-a19d-446b36d992ea",
   "metadata": {},
   "outputs": [
    {
     "data": {
      "text/plain": [
       "dtype('float64')"
      ]
     },
     "execution_count": 104,
     "metadata": {},
     "output_type": "execute_result"
    }
   ],
   "source": [
    "_ps.dtype"
   ]
  },
  {
   "cell_type": "code",
   "execution_count": 105,
   "id": "ae1f4693-5783-4564-9f17-259fad610437",
   "metadata": {},
   "outputs": [
    {
     "data": {
      "text/plain": [
       "dtype('int64')"
      ]
     },
     "execution_count": 105,
     "metadata": {},
     "output_type": "execute_result"
    }
   ],
   "source": [
    "df_year.dtype"
   ]
  },
  {
   "cell_type": "code",
   "execution_count": 106,
   "id": "786e8733-4919-42af-aeae-4d05b2719fb6",
   "metadata": {},
   "outputs": [
    {
     "data": {
      "text/plain": [
       "dtype('float64')"
      ]
     },
     "execution_count": 106,
     "metadata": {},
     "output_type": "execute_result"
    }
   ],
   "source": [
    "_ps.dtypes"
   ]
  },
  {
   "cell_type": "markdown",
   "id": "c4f1f893-4e52-4cf6-9273-d06630161467",
   "metadata": {},
   "source": [
    "#### shape - attribute\n",
    "- Return a tuple of the shape of the underlying data.\n",
    "- in simple words no. of columns & no. of rows\n",
    "- in series they returns no. of columns"
   ]
  },
  {
   "cell_type": "code",
   "execution_count": 107,
   "id": "196c92d0-26a3-4659-94fa-49128c6577ea",
   "metadata": {},
   "outputs": [
    {
     "data": {
      "text/plain": [
       "(50,)"
      ]
     },
     "execution_count": 107,
     "metadata": {},
     "output_type": "execute_result"
    }
   ],
   "source": [
    "_ps.shape"
   ]
  },
  {
   "cell_type": "code",
   "execution_count": 108,
   "id": "16f2e39e-12d1-4d90-a1dc-fd29dbbece87",
   "metadata": {},
   "outputs": [
    {
     "data": {
      "text/plain": [
       "(2938,)"
      ]
     },
     "execution_count": 108,
     "metadata": {},
     "output_type": "execute_result"
    }
   ],
   "source": [
    "df_year.shape"
   ]
  },
  {
   "cell_type": "markdown",
   "id": "5629e1d8-f3c6-45be-93cf-47b2e626ffd6",
   "metadata": {},
   "source": [
    "#### nbytes - attribute\n",
    "- Returns the number of bytes in the underlying data."
   ]
  },
  {
   "cell_type": "code",
   "execution_count": 109,
   "id": "cb767c96-7b1d-4d94-8848-09541ebe01b0",
   "metadata": {},
   "outputs": [
    {
     "data": {
      "text/plain": [
       "400"
      ]
     },
     "execution_count": 109,
     "metadata": {},
     "output_type": "execute_result"
    }
   ],
   "source": [
    "_ps.nbytes"
   ]
  },
  {
   "cell_type": "markdown",
   "id": "94d05a2e-9605-413a-aa87-dfed11c4ac6b",
   "metadata": {},
   "source": [
    "As we can see that we have got 400 bytes consumed by this series. we have 50 items inside this series and each of them 8-bytes since they are float64 dtype values."
   ]
  },
  {
   "cell_type": "code",
   "execution_count": 110,
   "id": "cb60c1f7-bbdb-4f7d-9b65-079e4b9c1405",
   "metadata": {},
   "outputs": [
    {
     "data": {
      "text/plain": [
       "23504"
      ]
     },
     "execution_count": 110,
     "metadata": {},
     "output_type": "execute_result"
    }
   ],
   "source": [
    "df_year.nbytes"
   ]
  },
  {
   "cell_type": "markdown",
   "id": "26ab122e-429f-4cf1-b054-8bb59bfd5748",
   "metadata": {},
   "source": [
    "#### size - attribute\n",
    "- Returns the number of elements in the underlying data.\n",
    "- in simple words in series they return no. of columns in a series"
   ]
  },
  {
   "cell_type": "code",
   "execution_count": 111,
   "id": "808f0590-1cc4-4353-81f9-d6bedf58eaa2",
   "metadata": {},
   "outputs": [
    {
     "data": {
      "text/plain": [
       "50"
      ]
     },
     "execution_count": 111,
     "metadata": {},
     "output_type": "execute_result"
    }
   ],
   "source": [
    "_ps.size"
   ]
  },
  {
   "cell_type": "code",
   "execution_count": 112,
   "id": "4740c4ec-4f87-4084-8c08-b0dd28758b8f",
   "metadata": {},
   "outputs": [
    {
     "data": {
      "text/plain": [
       "2938"
      ]
     },
     "execution_count": 112,
     "metadata": {},
     "output_type": "execute_result"
    }
   ],
   "source": [
    "df_year.size"
   ]
  },
  {
   "cell_type": "markdown",
   "id": "88505126-ca84-4dd9-99ce-6c666f0dfb37",
   "metadata": {},
   "source": [
    "#### T - attribute\n",
    "- Return the transpose, which is by definition self."
   ]
  },
  {
   "cell_type": "code",
   "execution_count": 113,
   "id": "de438061-6b8a-4081-be76-637baed38798",
   "metadata": {},
   "outputs": [
    {
     "data": {
      "text/plain": [
       "0      9.0\n",
       "1     47.0\n",
       "2     38.0\n",
       "3     35.0\n",
       "4     43.0\n",
       "5      0.0\n",
       "6      1.0\n",
       "7     42.0\n",
       "8     32.0\n",
       "9     46.0\n",
       "10    46.0\n",
       "11    39.0\n",
       "12    37.0\n",
       "13    49.0\n",
       "14    36.0\n",
       "15    39.0\n",
       "16    26.0\n",
       "17     1.0\n",
       "18    45.0\n",
       "19     NaN\n",
       "20    26.0\n",
       "21    32.0\n",
       "22    41.0\n",
       "23     6.0\n",
       "24    17.0\n",
       "25    40.0\n",
       "26    35.0\n",
       "27    31.0\n",
       "28     NaN\n",
       "29     1.0\n",
       "30    12.0\n",
       "31     NaN\n",
       "32     0.0\n",
       "33     1.0\n",
       "34    34.0\n",
       "35     NaN\n",
       "36     0.0\n",
       "37    28.0\n",
       "38    25.0\n",
       "39    26.0\n",
       "40     7.0\n",
       "41    30.0\n",
       "42    12.0\n",
       "43     NaN\n",
       "44    15.0\n",
       "45     NaN\n",
       "46    20.0\n",
       "47    25.0\n",
       "48     NaN\n",
       "49    40.0\n",
       "dtype: float64"
      ]
     },
     "execution_count": 113,
     "metadata": {},
     "output_type": "execute_result"
    }
   ],
   "source": [
    "_ps.T"
   ]
  },
  {
   "cell_type": "code",
   "execution_count": 114,
   "id": "1decd2d9-c9c0-4b74-8a6d-a623a4fc8fe1",
   "metadata": {},
   "outputs": [
    {
     "data": {
      "text/plain": [
       "0       2015\n",
       "1       2014\n",
       "2       2013\n",
       "3       2012\n",
       "4       2011\n",
       "        ... \n",
       "2933    2004\n",
       "2934    2003\n",
       "2935    2002\n",
       "2936    2001\n",
       "2937    2000\n",
       "Name: Year, Length: 2938, dtype: int64"
      ]
     },
     "execution_count": 114,
     "metadata": {},
     "output_type": "execute_result"
    }
   ],
   "source": [
    "df_year.T"
   ]
  },
  {
   "cell_type": "code",
   "execution_count": 115,
   "id": "fd60aa6f-9841-4def-ba54-0ca91df892c6",
   "metadata": {},
   "outputs": [
    {
     "data": {
      "text/html": [
       "<div>\n",
       "<style scoped>\n",
       "    .dataframe tbody tr th:only-of-type {\n",
       "        vertical-align: middle;\n",
       "    }\n",
       "\n",
       "    .dataframe tbody tr th {\n",
       "        vertical-align: top;\n",
       "    }\n",
       "\n",
       "    .dataframe thead th {\n",
       "        text-align: right;\n",
       "    }\n",
       "</style>\n",
       "<table border=\"1\" class=\"dataframe\">\n",
       "  <thead>\n",
       "    <tr style=\"text-align: right;\">\n",
       "      <th></th>\n",
       "      <th>0</th>\n",
       "      <th>1</th>\n",
       "      <th>2</th>\n",
       "      <th>3</th>\n",
       "      <th>4</th>\n",
       "      <th>5</th>\n",
       "      <th>6</th>\n",
       "      <th>7</th>\n",
       "      <th>8</th>\n",
       "      <th>9</th>\n",
       "      <th>...</th>\n",
       "      <th>2928</th>\n",
       "      <th>2929</th>\n",
       "      <th>2930</th>\n",
       "      <th>2931</th>\n",
       "      <th>2932</th>\n",
       "      <th>2933</th>\n",
       "      <th>2934</th>\n",
       "      <th>2935</th>\n",
       "      <th>2936</th>\n",
       "      <th>2937</th>\n",
       "    </tr>\n",
       "  </thead>\n",
       "  <tbody>\n",
       "    <tr>\n",
       "      <th>Country</th>\n",
       "      <td>Afghanistan</td>\n",
       "      <td>Afghanistan</td>\n",
       "      <td>Afghanistan</td>\n",
       "      <td>Afghanistan</td>\n",
       "      <td>Afghanistan</td>\n",
       "      <td>Afghanistan</td>\n",
       "      <td>Afghanistan</td>\n",
       "      <td>Afghanistan</td>\n",
       "      <td>Afghanistan</td>\n",
       "      <td>Afghanistan</td>\n",
       "      <td>...</td>\n",
       "      <td>Zimbabwe</td>\n",
       "      <td>Zimbabwe</td>\n",
       "      <td>Zimbabwe</td>\n",
       "      <td>Zimbabwe</td>\n",
       "      <td>Zimbabwe</td>\n",
       "      <td>Zimbabwe</td>\n",
       "      <td>Zimbabwe</td>\n",
       "      <td>Zimbabwe</td>\n",
       "      <td>Zimbabwe</td>\n",
       "      <td>Zimbabwe</td>\n",
       "    </tr>\n",
       "    <tr>\n",
       "      <th>Year</th>\n",
       "      <td>2015</td>\n",
       "      <td>2014</td>\n",
       "      <td>2013</td>\n",
       "      <td>2012</td>\n",
       "      <td>2011</td>\n",
       "      <td>2010</td>\n",
       "      <td>2009</td>\n",
       "      <td>2008</td>\n",
       "      <td>2007</td>\n",
       "      <td>2006</td>\n",
       "      <td>...</td>\n",
       "      <td>2009</td>\n",
       "      <td>2008</td>\n",
       "      <td>2007</td>\n",
       "      <td>2006</td>\n",
       "      <td>2005</td>\n",
       "      <td>2004</td>\n",
       "      <td>2003</td>\n",
       "      <td>2002</td>\n",
       "      <td>2001</td>\n",
       "      <td>2000</td>\n",
       "    </tr>\n",
       "    <tr>\n",
       "      <th>Status</th>\n",
       "      <td>Developing</td>\n",
       "      <td>Developing</td>\n",
       "      <td>Developing</td>\n",
       "      <td>Developing</td>\n",
       "      <td>Developing</td>\n",
       "      <td>Developing</td>\n",
       "      <td>Developing</td>\n",
       "      <td>Developing</td>\n",
       "      <td>Developing</td>\n",
       "      <td>Developing</td>\n",
       "      <td>...</td>\n",
       "      <td>Developing</td>\n",
       "      <td>Developing</td>\n",
       "      <td>Developing</td>\n",
       "      <td>Developing</td>\n",
       "      <td>Developing</td>\n",
       "      <td>Developing</td>\n",
       "      <td>Developing</td>\n",
       "      <td>Developing</td>\n",
       "      <td>Developing</td>\n",
       "      <td>Developing</td>\n",
       "    </tr>\n",
       "    <tr>\n",
       "      <th>Life expectancy</th>\n",
       "      <td>65.0</td>\n",
       "      <td>59.9</td>\n",
       "      <td>59.9</td>\n",
       "      <td>59.5</td>\n",
       "      <td>59.2</td>\n",
       "      <td>58.8</td>\n",
       "      <td>58.6</td>\n",
       "      <td>58.1</td>\n",
       "      <td>57.5</td>\n",
       "      <td>57.3</td>\n",
       "      <td>...</td>\n",
       "      <td>50.0</td>\n",
       "      <td>48.2</td>\n",
       "      <td>46.6</td>\n",
       "      <td>45.4</td>\n",
       "      <td>44.6</td>\n",
       "      <td>44.3</td>\n",
       "      <td>44.5</td>\n",
       "      <td>44.8</td>\n",
       "      <td>45.3</td>\n",
       "      <td>46.0</td>\n",
       "    </tr>\n",
       "    <tr>\n",
       "      <th>Adult Mortality</th>\n",
       "      <td>263.0</td>\n",
       "      <td>271.0</td>\n",
       "      <td>268.0</td>\n",
       "      <td>272.0</td>\n",
       "      <td>275.0</td>\n",
       "      <td>279.0</td>\n",
       "      <td>281.0</td>\n",
       "      <td>287.0</td>\n",
       "      <td>295.0</td>\n",
       "      <td>295.0</td>\n",
       "      <td>...</td>\n",
       "      <td>587.0</td>\n",
       "      <td>632.0</td>\n",
       "      <td>67.0</td>\n",
       "      <td>7.0</td>\n",
       "      <td>717.0</td>\n",
       "      <td>723.0</td>\n",
       "      <td>715.0</td>\n",
       "      <td>73.0</td>\n",
       "      <td>686.0</td>\n",
       "      <td>665.0</td>\n",
       "    </tr>\n",
       "    <tr>\n",
       "      <th>infant deaths</th>\n",
       "      <td>62</td>\n",
       "      <td>64</td>\n",
       "      <td>66</td>\n",
       "      <td>69</td>\n",
       "      <td>71</td>\n",
       "      <td>74</td>\n",
       "      <td>77</td>\n",
       "      <td>80</td>\n",
       "      <td>82</td>\n",
       "      <td>84</td>\n",
       "      <td>...</td>\n",
       "      <td>30</td>\n",
       "      <td>30</td>\n",
       "      <td>29</td>\n",
       "      <td>28</td>\n",
       "      <td>28</td>\n",
       "      <td>27</td>\n",
       "      <td>26</td>\n",
       "      <td>25</td>\n",
       "      <td>25</td>\n",
       "      <td>24</td>\n",
       "    </tr>\n",
       "    <tr>\n",
       "      <th>Alcohol</th>\n",
       "      <td>0.01</td>\n",
       "      <td>0.01</td>\n",
       "      <td>0.01</td>\n",
       "      <td>0.01</td>\n",
       "      <td>0.01</td>\n",
       "      <td>0.01</td>\n",
       "      <td>0.01</td>\n",
       "      <td>0.03</td>\n",
       "      <td>0.02</td>\n",
       "      <td>0.03</td>\n",
       "      <td>...</td>\n",
       "      <td>4.64</td>\n",
       "      <td>3.56</td>\n",
       "      <td>3.88</td>\n",
       "      <td>4.57</td>\n",
       "      <td>4.14</td>\n",
       "      <td>4.36</td>\n",
       "      <td>4.06</td>\n",
       "      <td>4.43</td>\n",
       "      <td>1.72</td>\n",
       "      <td>1.68</td>\n",
       "    </tr>\n",
       "    <tr>\n",
       "      <th>percentage expenditure</th>\n",
       "      <td>71.279624</td>\n",
       "      <td>73.523582</td>\n",
       "      <td>73.219243</td>\n",
       "      <td>78.184215</td>\n",
       "      <td>7.097109</td>\n",
       "      <td>79.679367</td>\n",
       "      <td>56.762217</td>\n",
       "      <td>25.873925</td>\n",
       "      <td>10.910156</td>\n",
       "      <td>17.171518</td>\n",
       "      <td>...</td>\n",
       "      <td>1.040021</td>\n",
       "      <td>20.843429</td>\n",
       "      <td>29.814566</td>\n",
       "      <td>34.262169</td>\n",
       "      <td>8.717409</td>\n",
       "      <td>0.0</td>\n",
       "      <td>0.0</td>\n",
       "      <td>0.0</td>\n",
       "      <td>0.0</td>\n",
       "      <td>0.0</td>\n",
       "    </tr>\n",
       "    <tr>\n",
       "      <th>Hepatitis B</th>\n",
       "      <td>65.0</td>\n",
       "      <td>62.0</td>\n",
       "      <td>64.0</td>\n",
       "      <td>67.0</td>\n",
       "      <td>68.0</td>\n",
       "      <td>66.0</td>\n",
       "      <td>63.0</td>\n",
       "      <td>64.0</td>\n",
       "      <td>63.0</td>\n",
       "      <td>64.0</td>\n",
       "      <td>...</td>\n",
       "      <td>73.0</td>\n",
       "      <td>75.0</td>\n",
       "      <td>72.0</td>\n",
       "      <td>68.0</td>\n",
       "      <td>65.0</td>\n",
       "      <td>68.0</td>\n",
       "      <td>7.0</td>\n",
       "      <td>73.0</td>\n",
       "      <td>76.0</td>\n",
       "      <td>79.0</td>\n",
       "    </tr>\n",
       "    <tr>\n",
       "      <th>Measles</th>\n",
       "      <td>1154</td>\n",
       "      <td>492</td>\n",
       "      <td>430</td>\n",
       "      <td>2787</td>\n",
       "      <td>3013</td>\n",
       "      <td>1989</td>\n",
       "      <td>2861</td>\n",
       "      <td>1599</td>\n",
       "      <td>1141</td>\n",
       "      <td>1990</td>\n",
       "      <td>...</td>\n",
       "      <td>853</td>\n",
       "      <td>0</td>\n",
       "      <td>242</td>\n",
       "      <td>212</td>\n",
       "      <td>420</td>\n",
       "      <td>31</td>\n",
       "      <td>998</td>\n",
       "      <td>304</td>\n",
       "      <td>529</td>\n",
       "      <td>1483</td>\n",
       "    </tr>\n",
       "    <tr>\n",
       "      <th>BMI</th>\n",
       "      <td>19.1</td>\n",
       "      <td>18.6</td>\n",
       "      <td>18.1</td>\n",
       "      <td>17.6</td>\n",
       "      <td>17.2</td>\n",
       "      <td>16.7</td>\n",
       "      <td>16.2</td>\n",
       "      <td>15.7</td>\n",
       "      <td>15.2</td>\n",
       "      <td>14.7</td>\n",
       "      <td>...</td>\n",
       "      <td>29.0</td>\n",
       "      <td>28.6</td>\n",
       "      <td>28.2</td>\n",
       "      <td>27.9</td>\n",
       "      <td>27.5</td>\n",
       "      <td>27.1</td>\n",
       "      <td>26.7</td>\n",
       "      <td>26.3</td>\n",
       "      <td>25.9</td>\n",
       "      <td>25.5</td>\n",
       "    </tr>\n",
       "    <tr>\n",
       "      <th>under-five deaths</th>\n",
       "      <td>83</td>\n",
       "      <td>86</td>\n",
       "      <td>89</td>\n",
       "      <td>93</td>\n",
       "      <td>97</td>\n",
       "      <td>102</td>\n",
       "      <td>106</td>\n",
       "      <td>110</td>\n",
       "      <td>113</td>\n",
       "      <td>116</td>\n",
       "      <td>...</td>\n",
       "      <td>45</td>\n",
       "      <td>46</td>\n",
       "      <td>46</td>\n",
       "      <td>45</td>\n",
       "      <td>43</td>\n",
       "      <td>42</td>\n",
       "      <td>41</td>\n",
       "      <td>40</td>\n",
       "      <td>39</td>\n",
       "      <td>39</td>\n",
       "    </tr>\n",
       "    <tr>\n",
       "      <th>Polio</th>\n",
       "      <td>6.0</td>\n",
       "      <td>58.0</td>\n",
       "      <td>62.0</td>\n",
       "      <td>67.0</td>\n",
       "      <td>68.0</td>\n",
       "      <td>66.0</td>\n",
       "      <td>63.0</td>\n",
       "      <td>64.0</td>\n",
       "      <td>63.0</td>\n",
       "      <td>58.0</td>\n",
       "      <td>...</td>\n",
       "      <td>69.0</td>\n",
       "      <td>75.0</td>\n",
       "      <td>73.0</td>\n",
       "      <td>71.0</td>\n",
       "      <td>69.0</td>\n",
       "      <td>67.0</td>\n",
       "      <td>7.0</td>\n",
       "      <td>73.0</td>\n",
       "      <td>76.0</td>\n",
       "      <td>78.0</td>\n",
       "    </tr>\n",
       "    <tr>\n",
       "      <th>Total expenditure</th>\n",
       "      <td>8.16</td>\n",
       "      <td>8.18</td>\n",
       "      <td>8.13</td>\n",
       "      <td>8.52</td>\n",
       "      <td>7.87</td>\n",
       "      <td>9.2</td>\n",
       "      <td>9.42</td>\n",
       "      <td>8.33</td>\n",
       "      <td>6.73</td>\n",
       "      <td>7.43</td>\n",
       "      <td>...</td>\n",
       "      <td>6.26</td>\n",
       "      <td>4.96</td>\n",
       "      <td>4.47</td>\n",
       "      <td>5.12</td>\n",
       "      <td>6.44</td>\n",
       "      <td>7.13</td>\n",
       "      <td>6.52</td>\n",
       "      <td>6.53</td>\n",
       "      <td>6.16</td>\n",
       "      <td>7.1</td>\n",
       "    </tr>\n",
       "    <tr>\n",
       "      <th>Diphtheria</th>\n",
       "      <td>65.0</td>\n",
       "      <td>62.0</td>\n",
       "      <td>64.0</td>\n",
       "      <td>67.0</td>\n",
       "      <td>68.0</td>\n",
       "      <td>66.0</td>\n",
       "      <td>63.0</td>\n",
       "      <td>64.0</td>\n",
       "      <td>63.0</td>\n",
       "      <td>58.0</td>\n",
       "      <td>...</td>\n",
       "      <td>73.0</td>\n",
       "      <td>75.0</td>\n",
       "      <td>73.0</td>\n",
       "      <td>7.0</td>\n",
       "      <td>68.0</td>\n",
       "      <td>65.0</td>\n",
       "      <td>68.0</td>\n",
       "      <td>71.0</td>\n",
       "      <td>75.0</td>\n",
       "      <td>78.0</td>\n",
       "    </tr>\n",
       "    <tr>\n",
       "      <th>HIV/AIDS</th>\n",
       "      <td>0.1</td>\n",
       "      <td>0.1</td>\n",
       "      <td>0.1</td>\n",
       "      <td>0.1</td>\n",
       "      <td>0.1</td>\n",
       "      <td>0.1</td>\n",
       "      <td>0.1</td>\n",
       "      <td>0.1</td>\n",
       "      <td>0.1</td>\n",
       "      <td>0.1</td>\n",
       "      <td>...</td>\n",
       "      <td>18.1</td>\n",
       "      <td>20.5</td>\n",
       "      <td>23.7</td>\n",
       "      <td>26.8</td>\n",
       "      <td>30.3</td>\n",
       "      <td>33.6</td>\n",
       "      <td>36.7</td>\n",
       "      <td>39.8</td>\n",
       "      <td>42.1</td>\n",
       "      <td>43.5</td>\n",
       "    </tr>\n",
       "    <tr>\n",
       "      <th>GDP</th>\n",
       "      <td>584.25921</td>\n",
       "      <td>612.696514</td>\n",
       "      <td>631.744976</td>\n",
       "      <td>669.959</td>\n",
       "      <td>63.537231</td>\n",
       "      <td>553.32894</td>\n",
       "      <td>445.893298</td>\n",
       "      <td>373.361116</td>\n",
       "      <td>369.835796</td>\n",
       "      <td>272.56377</td>\n",
       "      <td>...</td>\n",
       "      <td>65.824121</td>\n",
       "      <td>325.678573</td>\n",
       "      <td>396.998217</td>\n",
       "      <td>414.796232</td>\n",
       "      <td>444.76575</td>\n",
       "      <td>454.366654</td>\n",
       "      <td>453.351155</td>\n",
       "      <td>57.34834</td>\n",
       "      <td>548.587312</td>\n",
       "      <td>547.358878</td>\n",
       "    </tr>\n",
       "    <tr>\n",
       "      <th>Population</th>\n",
       "      <td>33736494.0</td>\n",
       "      <td>327582.0</td>\n",
       "      <td>31731688.0</td>\n",
       "      <td>3696958.0</td>\n",
       "      <td>2978599.0</td>\n",
       "      <td>2883167.0</td>\n",
       "      <td>284331.0</td>\n",
       "      <td>2729431.0</td>\n",
       "      <td>26616792.0</td>\n",
       "      <td>2589345.0</td>\n",
       "      <td>...</td>\n",
       "      <td>1381599.0</td>\n",
       "      <td>13558469.0</td>\n",
       "      <td>1332999.0</td>\n",
       "      <td>13124267.0</td>\n",
       "      <td>129432.0</td>\n",
       "      <td>12777511.0</td>\n",
       "      <td>12633897.0</td>\n",
       "      <td>125525.0</td>\n",
       "      <td>12366165.0</td>\n",
       "      <td>12222251.0</td>\n",
       "    </tr>\n",
       "    <tr>\n",
       "      <th>thinness  1-19 years</th>\n",
       "      <td>17.2</td>\n",
       "      <td>17.5</td>\n",
       "      <td>17.7</td>\n",
       "      <td>17.9</td>\n",
       "      <td>18.2</td>\n",
       "      <td>18.4</td>\n",
       "      <td>18.6</td>\n",
       "      <td>18.8</td>\n",
       "      <td>19.0</td>\n",
       "      <td>19.2</td>\n",
       "      <td>...</td>\n",
       "      <td>7.5</td>\n",
       "      <td>7.8</td>\n",
       "      <td>8.2</td>\n",
       "      <td>8.6</td>\n",
       "      <td>9.0</td>\n",
       "      <td>9.4</td>\n",
       "      <td>9.8</td>\n",
       "      <td>1.2</td>\n",
       "      <td>1.6</td>\n",
       "      <td>11.0</td>\n",
       "    </tr>\n",
       "    <tr>\n",
       "      <th>thinness 5-9 years</th>\n",
       "      <td>17.3</td>\n",
       "      <td>17.5</td>\n",
       "      <td>17.7</td>\n",
       "      <td>18.0</td>\n",
       "      <td>18.2</td>\n",
       "      <td>18.4</td>\n",
       "      <td>18.7</td>\n",
       "      <td>18.9</td>\n",
       "      <td>19.1</td>\n",
       "      <td>19.3</td>\n",
       "      <td>...</td>\n",
       "      <td>7.4</td>\n",
       "      <td>7.8</td>\n",
       "      <td>8.2</td>\n",
       "      <td>8.6</td>\n",
       "      <td>9.0</td>\n",
       "      <td>9.4</td>\n",
       "      <td>9.9</td>\n",
       "      <td>1.3</td>\n",
       "      <td>1.7</td>\n",
       "      <td>11.2</td>\n",
       "    </tr>\n",
       "    <tr>\n",
       "      <th>Income composition of resources</th>\n",
       "      <td>0.479</td>\n",
       "      <td>0.476</td>\n",
       "      <td>0.47</td>\n",
       "      <td>0.463</td>\n",
       "      <td>0.454</td>\n",
       "      <td>0.448</td>\n",
       "      <td>0.434</td>\n",
       "      <td>0.433</td>\n",
       "      <td>0.415</td>\n",
       "      <td>0.405</td>\n",
       "      <td>...</td>\n",
       "      <td>0.419</td>\n",
       "      <td>0.421</td>\n",
       "      <td>0.414</td>\n",
       "      <td>0.408</td>\n",
       "      <td>0.406</td>\n",
       "      <td>0.407</td>\n",
       "      <td>0.418</td>\n",
       "      <td>0.427</td>\n",
       "      <td>0.427</td>\n",
       "      <td>0.434</td>\n",
       "    </tr>\n",
       "    <tr>\n",
       "      <th>Schooling</th>\n",
       "      <td>10.1</td>\n",
       "      <td>10.0</td>\n",
       "      <td>9.9</td>\n",
       "      <td>9.8</td>\n",
       "      <td>9.5</td>\n",
       "      <td>9.2</td>\n",
       "      <td>8.9</td>\n",
       "      <td>8.7</td>\n",
       "      <td>8.4</td>\n",
       "      <td>8.1</td>\n",
       "      <td>...</td>\n",
       "      <td>9.9</td>\n",
       "      <td>9.7</td>\n",
       "      <td>9.6</td>\n",
       "      <td>9.5</td>\n",
       "      <td>9.3</td>\n",
       "      <td>9.2</td>\n",
       "      <td>9.5</td>\n",
       "      <td>10.0</td>\n",
       "      <td>9.8</td>\n",
       "      <td>9.8</td>\n",
       "    </tr>\n",
       "  </tbody>\n",
       "</table>\n",
       "<p>22 rows × 2938 columns</p>\n",
       "</div>"
      ],
      "text/plain": [
       "                                        0            1            2     \\\n",
       "Country                          Afghanistan  Afghanistan  Afghanistan   \n",
       "Year                                    2015         2014         2013   \n",
       "Status                            Developing   Developing   Developing   \n",
       "Life expectancy                         65.0         59.9         59.9   \n",
       "Adult Mortality                        263.0        271.0        268.0   \n",
       "infant deaths                             62           64           66   \n",
       "Alcohol                                 0.01         0.01         0.01   \n",
       "percentage expenditure             71.279624    73.523582    73.219243   \n",
       "Hepatitis B                             65.0         62.0         64.0   \n",
       "Measles                                 1154          492          430   \n",
       " BMI                                    19.1         18.6         18.1   \n",
       "under-five deaths                         83           86           89   \n",
       "Polio                                    6.0         58.0         62.0   \n",
       "Total expenditure                       8.16         8.18         8.13   \n",
       "Diphtheria                              65.0         62.0         64.0   \n",
       " HIV/AIDS                                0.1          0.1          0.1   \n",
       "GDP                                584.25921   612.696514   631.744976   \n",
       "Population                        33736494.0     327582.0   31731688.0   \n",
       " thinness  1-19 years                   17.2         17.5         17.7   \n",
       " thinness 5-9 years                     17.3         17.5         17.7   \n",
       "Income composition of resources        0.479        0.476         0.47   \n",
       "Schooling                               10.1         10.0          9.9   \n",
       "\n",
       "                                        3            4            5     \\\n",
       "Country                          Afghanistan  Afghanistan  Afghanistan   \n",
       "Year                                    2012         2011         2010   \n",
       "Status                            Developing   Developing   Developing   \n",
       "Life expectancy                         59.5         59.2         58.8   \n",
       "Adult Mortality                        272.0        275.0        279.0   \n",
       "infant deaths                             69           71           74   \n",
       "Alcohol                                 0.01         0.01         0.01   \n",
       "percentage expenditure             78.184215     7.097109    79.679367   \n",
       "Hepatitis B                             67.0         68.0         66.0   \n",
       "Measles                                 2787         3013         1989   \n",
       " BMI                                    17.6         17.2         16.7   \n",
       "under-five deaths                         93           97          102   \n",
       "Polio                                   67.0         68.0         66.0   \n",
       "Total expenditure                       8.52         7.87          9.2   \n",
       "Diphtheria                              67.0         68.0         66.0   \n",
       " HIV/AIDS                                0.1          0.1          0.1   \n",
       "GDP                                  669.959    63.537231    553.32894   \n",
       "Population                         3696958.0    2978599.0    2883167.0   \n",
       " thinness  1-19 years                   17.9         18.2         18.4   \n",
       " thinness 5-9 years                     18.0         18.2         18.4   \n",
       "Income composition of resources        0.463        0.454        0.448   \n",
       "Schooling                                9.8          9.5          9.2   \n",
       "\n",
       "                                        6            7            8     \\\n",
       "Country                          Afghanistan  Afghanistan  Afghanistan   \n",
       "Year                                    2009         2008         2007   \n",
       "Status                            Developing   Developing   Developing   \n",
       "Life expectancy                         58.6         58.1         57.5   \n",
       "Adult Mortality                        281.0        287.0        295.0   \n",
       "infant deaths                             77           80           82   \n",
       "Alcohol                                 0.01         0.03         0.02   \n",
       "percentage expenditure             56.762217    25.873925    10.910156   \n",
       "Hepatitis B                             63.0         64.0         63.0   \n",
       "Measles                                 2861         1599         1141   \n",
       " BMI                                    16.2         15.7         15.2   \n",
       "under-five deaths                        106          110          113   \n",
       "Polio                                   63.0         64.0         63.0   \n",
       "Total expenditure                       9.42         8.33         6.73   \n",
       "Diphtheria                              63.0         64.0         63.0   \n",
       " HIV/AIDS                                0.1          0.1          0.1   \n",
       "GDP                               445.893298   373.361116   369.835796   \n",
       "Population                          284331.0    2729431.0   26616792.0   \n",
       " thinness  1-19 years                   18.6         18.8         19.0   \n",
       " thinness 5-9 years                     18.7         18.9         19.1   \n",
       "Income composition of resources        0.434        0.433        0.415   \n",
       "Schooling                                8.9          8.7          8.4   \n",
       "\n",
       "                                        9     ...        2928        2929  \\\n",
       "Country                          Afghanistan  ...    Zimbabwe    Zimbabwe   \n",
       "Year                                    2006  ...        2009        2008   \n",
       "Status                            Developing  ...  Developing  Developing   \n",
       "Life expectancy                         57.3  ...        50.0        48.2   \n",
       "Adult Mortality                        295.0  ...       587.0       632.0   \n",
       "infant deaths                             84  ...          30          30   \n",
       "Alcohol                                 0.03  ...        4.64        3.56   \n",
       "percentage expenditure             17.171518  ...    1.040021   20.843429   \n",
       "Hepatitis B                             64.0  ...        73.0        75.0   \n",
       "Measles                                 1990  ...         853           0   \n",
       " BMI                                    14.7  ...        29.0        28.6   \n",
       "under-five deaths                        116  ...          45          46   \n",
       "Polio                                   58.0  ...        69.0        75.0   \n",
       "Total expenditure                       7.43  ...        6.26        4.96   \n",
       "Diphtheria                              58.0  ...        73.0        75.0   \n",
       " HIV/AIDS                                0.1  ...        18.1        20.5   \n",
       "GDP                                272.56377  ...   65.824121  325.678573   \n",
       "Population                         2589345.0  ...   1381599.0  13558469.0   \n",
       " thinness  1-19 years                   19.2  ...         7.5         7.8   \n",
       " thinness 5-9 years                     19.3  ...         7.4         7.8   \n",
       "Income composition of resources        0.405  ...       0.419       0.421   \n",
       "Schooling                                8.1  ...         9.9         9.7   \n",
       "\n",
       "                                       2930        2931        2932  \\\n",
       "Country                            Zimbabwe    Zimbabwe    Zimbabwe   \n",
       "Year                                   2007        2006        2005   \n",
       "Status                           Developing  Developing  Developing   \n",
       "Life expectancy                        46.6        45.4        44.6   \n",
       "Adult Mortality                        67.0         7.0       717.0   \n",
       "infant deaths                            29          28          28   \n",
       "Alcohol                                3.88        4.57        4.14   \n",
       "percentage expenditure            29.814566   34.262169    8.717409   \n",
       "Hepatitis B                            72.0        68.0        65.0   \n",
       "Measles                                 242         212         420   \n",
       " BMI                                   28.2        27.9        27.5   \n",
       "under-five deaths                        46          45          43   \n",
       "Polio                                  73.0        71.0        69.0   \n",
       "Total expenditure                      4.47        5.12        6.44   \n",
       "Diphtheria                             73.0         7.0        68.0   \n",
       " HIV/AIDS                              23.7        26.8        30.3   \n",
       "GDP                              396.998217  414.796232   444.76575   \n",
       "Population                        1332999.0  13124267.0    129432.0   \n",
       " thinness  1-19 years                   8.2         8.6         9.0   \n",
       " thinness 5-9 years                     8.2         8.6         9.0   \n",
       "Income composition of resources       0.414       0.408       0.406   \n",
       "Schooling                               9.6         9.5         9.3   \n",
       "\n",
       "                                       2933        2934        2935  \\\n",
       "Country                            Zimbabwe    Zimbabwe    Zimbabwe   \n",
       "Year                                   2004        2003        2002   \n",
       "Status                           Developing  Developing  Developing   \n",
       "Life expectancy                        44.3        44.5        44.8   \n",
       "Adult Mortality                       723.0       715.0        73.0   \n",
       "infant deaths                            27          26          25   \n",
       "Alcohol                                4.36        4.06        4.43   \n",
       "percentage expenditure                  0.0         0.0         0.0   \n",
       "Hepatitis B                            68.0         7.0        73.0   \n",
       "Measles                                  31         998         304   \n",
       " BMI                                   27.1        26.7        26.3   \n",
       "under-five deaths                        42          41          40   \n",
       "Polio                                  67.0         7.0        73.0   \n",
       "Total expenditure                      7.13        6.52        6.53   \n",
       "Diphtheria                             65.0        68.0        71.0   \n",
       " HIV/AIDS                              33.6        36.7        39.8   \n",
       "GDP                              454.366654  453.351155    57.34834   \n",
       "Population                       12777511.0  12633897.0    125525.0   \n",
       " thinness  1-19 years                   9.4         9.8         1.2   \n",
       " thinness 5-9 years                     9.4         9.9         1.3   \n",
       "Income composition of resources       0.407       0.418       0.427   \n",
       "Schooling                               9.2         9.5        10.0   \n",
       "\n",
       "                                       2936        2937  \n",
       "Country                            Zimbabwe    Zimbabwe  \n",
       "Year                                   2001        2000  \n",
       "Status                           Developing  Developing  \n",
       "Life expectancy                        45.3        46.0  \n",
       "Adult Mortality                       686.0       665.0  \n",
       "infant deaths                            25          24  \n",
       "Alcohol                                1.72        1.68  \n",
       "percentage expenditure                  0.0         0.0  \n",
       "Hepatitis B                            76.0        79.0  \n",
       "Measles                                 529        1483  \n",
       " BMI                                   25.9        25.5  \n",
       "under-five deaths                        39          39  \n",
       "Polio                                  76.0        78.0  \n",
       "Total expenditure                      6.16         7.1  \n",
       "Diphtheria                             75.0        78.0  \n",
       " HIV/AIDS                              42.1        43.5  \n",
       "GDP                              548.587312  547.358878  \n",
       "Population                       12366165.0  12222251.0  \n",
       " thinness  1-19 years                   1.6        11.0  \n",
       " thinness 5-9 years                     1.7        11.2  \n",
       "Income composition of resources       0.427       0.434  \n",
       "Schooling                               9.8         9.8  \n",
       "\n",
       "[22 rows x 2938 columns]"
      ]
     },
     "execution_count": 115,
     "metadata": {},
     "output_type": "execute_result"
    }
   ],
   "source": [
    "df.T"
   ]
  },
  {
   "cell_type": "markdown",
   "id": "270ddcbd-eab6-426c-9827-ccd3d5f03e55",
   "metadata": {},
   "source": [
    "#### memory_usage - method\n",
    "- Returns the memory usage of the Series"
   ]
  },
  {
   "cell_type": "code",
   "execution_count": 116,
   "id": "b911ed2c-9b0d-48f0-8160-9c8b11115ef9",
   "metadata": {},
   "outputs": [
    {
     "data": {
      "text/plain": [
       "528"
      ]
     },
     "execution_count": 116,
     "metadata": {},
     "output_type": "execute_result"
    }
   ],
   "source": [
    "_ps.memory_usage()"
   ]
  },
  {
   "cell_type": "code",
   "execution_count": 117,
   "id": "91da6332-5b4f-48c1-8497-d50d1cea8dac",
   "metadata": {},
   "outputs": [
    {
     "data": {
      "text/plain": [
       "23632"
      ]
     },
     "execution_count": 117,
     "metadata": {},
     "output_type": "execute_result"
    }
   ],
   "source": [
    "df_year.memory_usage()"
   ]
  },
  {
   "cell_type": "markdown",
   "id": "1761470e-ff20-4163-a2d3-4f80938ca06a",
   "metadata": {},
   "source": [
    "`note: ` Not including the index gives the size of the rest of the data, which is necessarily smaller:"
   ]
  },
  {
   "cell_type": "code",
   "execution_count": 118,
   "id": "3a1a3c02-e945-4a64-8c82-add0fb4f9fe0",
   "metadata": {},
   "outputs": [
    {
     "data": {
      "text/plain": [
       "23504"
      ]
     },
     "execution_count": 118,
     "metadata": {},
     "output_type": "execute_result"
    }
   ],
   "source": [
    "df_year.memory_usage(index=False)"
   ]
  },
  {
   "cell_type": "code",
   "execution_count": 119,
   "id": "a66e6b92-0966-4539-bf70-5cc045b5c7eb",
   "metadata": {},
   "outputs": [
    {
     "data": {
      "text/plain": [
       "400"
      ]
     },
     "execution_count": 119,
     "metadata": {},
     "output_type": "execute_result"
    }
   ],
   "source": [
    "_ps.memory_usage(index=False)"
   ]
  },
  {
   "cell_type": "markdown",
   "id": "6b78ff16-5d6c-4693-81af-fadff1d343ee",
   "metadata": {},
   "source": [
    "`note: ` The memory footprint of object values is ignored by default:"
   ]
  },
  {
   "cell_type": "code",
   "execution_count": 120,
   "id": "eed84b98-5b8e-4be0-9cc6-7c9920148c5b",
   "metadata": {},
   "outputs": [
    {
     "data": {
      "text/plain": [
       "528"
      ]
     },
     "execution_count": 120,
     "metadata": {},
     "output_type": "execute_result"
    }
   ],
   "source": [
    "_ps.memory_usage(deep=True)"
   ]
  },
  {
   "cell_type": "markdown",
   "id": "c211c2ec-bbf7-444e-8f35-43ae61003ed4",
   "metadata": {},
   "source": [
    "#### hasnans - attribute\n",
    "- Return true if there are any NaN values present inside the series."
   ]
  },
  {
   "cell_type": "code",
   "execution_count": 121,
   "id": "775c7f9c-3a99-4327-97f3-be73b1dd3f32",
   "metadata": {},
   "outputs": [
    {
     "data": {
      "text/plain": [
       "True"
      ]
     },
     "execution_count": 121,
     "metadata": {},
     "output_type": "execute_result"
    }
   ],
   "source": [
    "_ps.hasnans"
   ]
  },
  {
   "cell_type": "code",
   "execution_count": 122,
   "id": "5ac87020-0fff-4ffc-8cb1-2ee7298f5654",
   "metadata": {},
   "outputs": [
    {
     "data": {
      "text/plain": [
       "array([2015, 2014, 2013, ..., 2002, 2001, 2000], dtype=int64)"
      ]
     },
     "execution_count": 122,
     "metadata": {},
     "output_type": "execute_result"
    }
   ],
   "source": [
    "df_year.to_numpy()"
   ]
  },
  {
   "cell_type": "code",
   "execution_count": 123,
   "id": "afb396ab-3f03-430f-8e5b-062756ca72d5",
   "metadata": {},
   "outputs": [
    {
     "data": {
      "text/plain": [
       "False"
      ]
     },
     "execution_count": 123,
     "metadata": {},
     "output_type": "execute_result"
    }
   ],
   "source": [
    "df_year.hasnans"
   ]
  },
  {
   "cell_type": "markdown",
   "id": "02e4a48a-23c8-4768-b13e-437e2ba966d6",
   "metadata": {},
   "source": [
    "#### empty - attribute\n",
    "- Indicator whether Series/DataFrame is empty."
   ]
  },
  {
   "cell_type": "code",
   "execution_count": 124,
   "id": "c6b114ae-3bed-479f-86da-58f54bd0b256",
   "metadata": {},
   "outputs": [
    {
     "data": {
      "text/plain": [
       "False"
      ]
     },
     "execution_count": 124,
     "metadata": {},
     "output_type": "execute_result"
    }
   ],
   "source": [
    "_ps.empty"
   ]
  },
  {
   "cell_type": "code",
   "execution_count": 125,
   "id": "b7221b80-d936-49fd-bbee-617a1d2d1844",
   "metadata": {},
   "outputs": [
    {
     "data": {
      "text/plain": [
       "False"
      ]
     },
     "execution_count": 125,
     "metadata": {},
     "output_type": "execute_result"
    }
   ],
   "source": [
    "df.empty"
   ]
  },
  {
   "cell_type": "code",
   "execution_count": 126,
   "id": "6dcb4d45-2cab-4c8e-b2d0-9a836bae2b2b",
   "metadata": {},
   "outputs": [
    {
     "data": {
      "text/plain": [
       "False"
      ]
     },
     "execution_count": 126,
     "metadata": {},
     "output_type": "execute_result"
    }
   ],
   "source": [
    "df_year.empty"
   ]
  },
  {
   "cell_type": "markdown",
   "id": "1cc7fda1-4fd4-4386-919a-5bc44a0ec7a4",
   "metadata": {},
   "source": [
    "#### dtype - attribute \n",
    "- Returns the dtype object of the underlying data."
   ]
  },
  {
   "cell_type": "code",
   "execution_count": 127,
   "id": "efa3cf07-b158-4cdb-82e4-927ae4e5fb24",
   "metadata": {},
   "outputs": [
    {
     "data": {
      "text/plain": [
       "dtype('int64')"
      ]
     },
     "execution_count": 127,
     "metadata": {},
     "output_type": "execute_result"
    }
   ],
   "source": [
    "df_year.dtype"
   ]
  },
  {
   "cell_type": "code",
   "execution_count": 128,
   "id": "f5c54068-3224-46e2-b5f7-5917092e0dad",
   "metadata": {},
   "outputs": [
    {
     "data": {
      "text/plain": [
       "dtype('float64')"
      ]
     },
     "execution_count": 128,
     "metadata": {},
     "output_type": "execute_result"
    }
   ],
   "source": [
    "_ps.dtype"
   ]
  },
  {
   "cell_type": "code",
   "execution_count": 129,
   "id": "c6052d20-9feb-4149-96cf-8607cc8b1871",
   "metadata": {},
   "outputs": [
    {
     "data": {
      "text/plain": [
       "dtype('O')"
      ]
     },
     "execution_count": 129,
     "metadata": {},
     "output_type": "execute_result"
    }
   ],
   "source": [
    "df[\"Country\"].dtype"
   ]
  },
  {
   "cell_type": "markdown",
   "id": "1e86a13f-33ad-4418-a81f-9690cfd888f5",
   "metadata": {},
   "source": [
    "#### name - attribute\n",
    "Returns the name of the series"
   ]
  },
  {
   "cell_type": "code",
   "execution_count": 130,
   "id": "8c094747-3803-4a2f-ac26-141d215c2e86",
   "metadata": {},
   "outputs": [
    {
     "data": {
      "text/plain": [
       "'Year'"
      ]
     },
     "execution_count": 130,
     "metadata": {},
     "output_type": "execute_result"
    }
   ],
   "source": [
    "df_year.name"
   ]
  },
  {
   "cell_type": "markdown",
   "id": "746dd887-98fa-4f5f-ac0a-3b5b29122397",
   "metadata": {},
   "source": [
    "## Conversion"
   ]
  },
  {
   "cell_type": "markdown",
   "id": "94db66b2-3075-483a-bee2-2c84ee26125e",
   "metadata": {},
   "source": [
    "#### convert_dtypes() - attribute\n",
    "- Convert columns to the best possible dtypes using dtypes supporting."
   ]
  },
  {
   "cell_type": "code",
   "execution_count": 131,
   "id": "9440444e-65e8-46b3-9ce0-2e8f5a881839",
   "metadata": {},
   "outputs": [
    {
     "data": {
      "text/plain": [
       "Country                             object\n",
       "Year                                 int64\n",
       "Status                              object\n",
       "Life expectancy                    float64\n",
       "Adult Mortality                    float64\n",
       "infant deaths                        int64\n",
       "Alcohol                            float64\n",
       "percentage expenditure             float64\n",
       "Hepatitis B                        float64\n",
       "Measles                              int64\n",
       " BMI                               float64\n",
       "under-five deaths                    int64\n",
       "Polio                              float64\n",
       "Total expenditure                  float64\n",
       "Diphtheria                         float64\n",
       " HIV/AIDS                          float64\n",
       "GDP                                float64\n",
       "Population                         float64\n",
       " thinness  1-19 years              float64\n",
       " thinness 5-9 years                float64\n",
       "Income composition of resources    float64\n",
       "Schooling                          float64\n",
       "dtype: object"
      ]
     },
     "execution_count": 131,
     "metadata": {},
     "output_type": "execute_result"
    }
   ],
   "source": [
    "df.dtypes"
   ]
  },
  {
   "cell_type": "code",
   "execution_count": 132,
   "id": "ddb902c0-172b-4ee6-8bc6-42fd6e05c918",
   "metadata": {},
   "outputs": [
    {
     "data": {
      "text/plain": [
       "Country                            string[python]\n",
       "Year                                        Int64\n",
       "Status                             string[python]\n",
       "Life expectancy                           Float64\n",
       "Adult Mortality                             Int64\n",
       "infant deaths                               Int64\n",
       "Alcohol                                   Float64\n",
       "percentage expenditure                    Float64\n",
       "Hepatitis B                                 Int64\n",
       "Measles                                     Int64\n",
       " BMI                                      Float64\n",
       "under-five deaths                           Int64\n",
       "Polio                                       Int64\n",
       "Total expenditure                         Float64\n",
       "Diphtheria                                  Int64\n",
       " HIV/AIDS                                 Float64\n",
       "GDP                                       Float64\n",
       "Population                                Float64\n",
       " thinness  1-19 years                     Float64\n",
       " thinness 5-9 years                       Float64\n",
       "Income composition of resources           Float64\n",
       "Schooling                                 Float64\n",
       "dtype: object"
      ]
     },
     "execution_count": 132,
     "metadata": {},
     "output_type": "execute_result"
    }
   ],
   "source": [
    "dfc = df.convert_dtypes()\n",
    "dfc.dtypes"
   ]
  },
  {
   "cell_type": "markdown",
   "id": "ffd5d07f-81a9-4863-a414-29cd1c422f4c",
   "metadata": {},
   "source": [
    "#### copy - attribute\n",
    "- Make a copy of this objects indices and data."
   ]
  },
  {
   "cell_type": "code",
   "execution_count": 133,
   "id": "33f7693b-2ed1-4d67-9756-f73aa50ed9a7",
   "metadata": {},
   "outputs": [],
   "source": [
    "df_year_c = df_year.copy"
   ]
  },
  {
   "cell_type": "code",
   "execution_count": 134,
   "id": "2ad3078e-1d08-4c21-ab5e-c5bea677ebb2",
   "metadata": {},
   "outputs": [
    {
     "data": {
      "text/plain": [
       "<bound method NDFrame.copy of 0       2015\n",
       "1       2014\n",
       "2       2013\n",
       "3       2012\n",
       "4       2011\n",
       "        ... \n",
       "2933    2004\n",
       "2934    2003\n",
       "2935    2002\n",
       "2936    2001\n",
       "2937    2000\n",
       "Name: Year, Length: 2938, dtype: int64>"
      ]
     },
     "execution_count": 134,
     "metadata": {},
     "output_type": "execute_result"
    }
   ],
   "source": [
    "df_year_c"
   ]
  },
  {
   "cell_type": "markdown",
   "id": "0344d0f0-cbfb-4207-9a7f-998129281c3d",
   "metadata": {},
   "source": [
    "#### bool - attribute\n",
    "Returns the bool of a single element Series or DataFrame."
   ]
  },
  {
   "cell_type": "code",
   "execution_count": 135,
   "id": "6a5f5f99-47b9-420b-b6e7-c7e8a87a0fc4",
   "metadata": {},
   "outputs": [],
   "source": [
    "_boll_c = pd.Series([True]).bool()"
   ]
  },
  {
   "cell_type": "code",
   "execution_count": 136,
   "id": "1cc929fa-1e03-4c18-9b9f-bc03f261b9ed",
   "metadata": {},
   "outputs": [
    {
     "data": {
      "text/plain": [
       "True"
      ]
     },
     "execution_count": 136,
     "metadata": {},
     "output_type": "execute_result"
    }
   ],
   "source": [
    "_boll_c"
   ]
  },
  {
   "cell_type": "code",
   "execution_count": 137,
   "id": "1a69f96c-2aef-4ce6-aedd-eb3d2f5fec91",
   "metadata": {},
   "outputs": [
    {
     "data": {
      "text/plain": [
       "dtype('int32')"
      ]
     },
     "execution_count": 137,
     "metadata": {},
     "output_type": "execute_result"
    }
   ],
   "source": [
    "df_year.astype('int32').dtypes"
   ]
  },
  {
   "cell_type": "code",
   "execution_count": 138,
   "id": "addfd1a9-bab5-463a-adac-5831ff055ae9",
   "metadata": {},
   "outputs": [
    {
     "data": {
      "text/plain": [
       "dtype('int64')"
      ]
     },
     "execution_count": 138,
     "metadata": {},
     "output_type": "execute_result"
    }
   ],
   "source": [
    "df_year.dtypes"
   ]
  },
  {
   "cell_type": "markdown",
   "id": "b420d475-a7bc-49a0-87f4-5fb36dbc5846",
   "metadata": {},
   "source": [
    "#### to.numpy - attribute\n",
    "A NumPy ndarray representing the values in this Series or Index."
   ]
  },
  {
   "cell_type": "code",
   "execution_count": 139,
   "id": "8c7a015e-8122-4bec-8c59-61f35377632e",
   "metadata": {},
   "outputs": [
    {
     "data": {
      "text/plain": [
       "<bound method IndexOpsMixin.to_numpy of 0      9.0\n",
       "1     47.0\n",
       "2     38.0\n",
       "3     35.0\n",
       "4     43.0\n",
       "5      0.0\n",
       "6      1.0\n",
       "7     42.0\n",
       "8     32.0\n",
       "9     46.0\n",
       "10    46.0\n",
       "11    39.0\n",
       "12    37.0\n",
       "13    49.0\n",
       "14    36.0\n",
       "15    39.0\n",
       "16    26.0\n",
       "17     1.0\n",
       "18    45.0\n",
       "19     NaN\n",
       "20    26.0\n",
       "21    32.0\n",
       "22    41.0\n",
       "23     6.0\n",
       "24    17.0\n",
       "25    40.0\n",
       "26    35.0\n",
       "27    31.0\n",
       "28     NaN\n",
       "29     1.0\n",
       "30    12.0\n",
       "31     NaN\n",
       "32     0.0\n",
       "33     1.0\n",
       "34    34.0\n",
       "35     NaN\n",
       "36     0.0\n",
       "37    28.0\n",
       "38    25.0\n",
       "39    26.0\n",
       "40     7.0\n",
       "41    30.0\n",
       "42    12.0\n",
       "43     NaN\n",
       "44    15.0\n",
       "45     NaN\n",
       "46    20.0\n",
       "47    25.0\n",
       "48     NaN\n",
       "49    40.0\n",
       "dtype: float64>"
      ]
     },
     "execution_count": 139,
     "metadata": {},
     "output_type": "execute_result"
    }
   ],
   "source": [
    "_ps.to_numpy"
   ]
  },
  {
   "cell_type": "code",
   "execution_count": 140,
   "id": "4d3b70ea-4d7e-406d-8803-61a937d70a80",
   "metadata": {},
   "outputs": [
    {
     "data": {
      "text/plain": [
       "<bound method IndexOpsMixin.to_numpy of 0       2015\n",
       "1       2014\n",
       "2       2013\n",
       "3       2012\n",
       "4       2011\n",
       "        ... \n",
       "2933    2004\n",
       "2934    2003\n",
       "2935    2002\n",
       "2936    2001\n",
       "2937    2000\n",
       "Name: Year, Length: 2938, dtype: int64>"
      ]
     },
     "execution_count": 140,
     "metadata": {},
     "output_type": "execute_result"
    }
   ],
   "source": [
    "df_year.to_numpy"
   ]
  },
  {
   "cell_type": "code",
   "execution_count": 141,
   "id": "7bf495ad-7df4-4fcb-a471-7dac3065375d",
   "metadata": {},
   "outputs": [
    {
     "data": {
      "text/plain": [
       "<bound method Series.__array__ of 0       2015\n",
       "1       2014\n",
       "2       2013\n",
       "3       2012\n",
       "4       2011\n",
       "        ... \n",
       "2933    2004\n",
       "2934    2003\n",
       "2935    2002\n",
       "2936    2001\n",
       "2937    2000\n",
       "Name: Year, Length: 2938, dtype: int64>"
      ]
     },
     "execution_count": 141,
     "metadata": {},
     "output_type": "execute_result"
    }
   ],
   "source": [
    "df_year.__array__"
   ]
  },
  {
   "cell_type": "markdown",
   "id": "7360edcd-1b5c-4e48-a421-164f06399e61",
   "metadata": {},
   "source": [
    "## Indexing, iterations"
   ]
  },
  {
   "cell_type": "markdown",
   "id": "b8b41a65-966d-4cd4-8de4-3e99438925f9",
   "metadata": {},
   "source": [
    "#### get(key) - method\n",
    "- Get item from object for given key"
   ]
  },
  {
   "cell_type": "code",
   "execution_count": 142,
   "id": "f24f524f-c15e-4233-bca1-4b015037f477",
   "metadata": {},
   "outputs": [
    {
     "data": {
      "text/html": [
       "<div>\n",
       "<style scoped>\n",
       "    .dataframe tbody tr th:only-of-type {\n",
       "        vertical-align: middle;\n",
       "    }\n",
       "\n",
       "    .dataframe tbody tr th {\n",
       "        vertical-align: top;\n",
       "    }\n",
       "\n",
       "    .dataframe thead th {\n",
       "        text-align: right;\n",
       "    }\n",
       "</style>\n",
       "<table border=\"1\" class=\"dataframe\">\n",
       "  <thead>\n",
       "    <tr style=\"text-align: right;\">\n",
       "      <th></th>\n",
       "      <th>Country</th>\n",
       "      <th>Year</th>\n",
       "      <th>Status</th>\n",
       "      <th>Life expectancy</th>\n",
       "      <th>Adult Mortality</th>\n",
       "      <th>infant deaths</th>\n",
       "      <th>Alcohol</th>\n",
       "      <th>percentage expenditure</th>\n",
       "      <th>Hepatitis B</th>\n",
       "      <th>Measles</th>\n",
       "      <th>...</th>\n",
       "      <th>Polio</th>\n",
       "      <th>Total expenditure</th>\n",
       "      <th>Diphtheria</th>\n",
       "      <th>HIV/AIDS</th>\n",
       "      <th>GDP</th>\n",
       "      <th>Population</th>\n",
       "      <th>thinness  1-19 years</th>\n",
       "      <th>thinness 5-9 years</th>\n",
       "      <th>Income composition of resources</th>\n",
       "      <th>Schooling</th>\n",
       "    </tr>\n",
       "  </thead>\n",
       "  <tbody>\n",
       "    <tr>\n",
       "      <th>0</th>\n",
       "      <td>Afghanistan</td>\n",
       "      <td>2015</td>\n",
       "      <td>Developing</td>\n",
       "      <td>65.0</td>\n",
       "      <td>263.0</td>\n",
       "      <td>62</td>\n",
       "      <td>0.01</td>\n",
       "      <td>71.279624</td>\n",
       "      <td>65.0</td>\n",
       "      <td>1154</td>\n",
       "      <td>...</td>\n",
       "      <td>6.0</td>\n",
       "      <td>8.16</td>\n",
       "      <td>65.0</td>\n",
       "      <td>0.1</td>\n",
       "      <td>584.259210</td>\n",
       "      <td>33736494.0</td>\n",
       "      <td>17.2</td>\n",
       "      <td>17.3</td>\n",
       "      <td>0.479</td>\n",
       "      <td>10.1</td>\n",
       "    </tr>\n",
       "    <tr>\n",
       "      <th>1</th>\n",
       "      <td>Afghanistan</td>\n",
       "      <td>2014</td>\n",
       "      <td>Developing</td>\n",
       "      <td>59.9</td>\n",
       "      <td>271.0</td>\n",
       "      <td>64</td>\n",
       "      <td>0.01</td>\n",
       "      <td>73.523582</td>\n",
       "      <td>62.0</td>\n",
       "      <td>492</td>\n",
       "      <td>...</td>\n",
       "      <td>58.0</td>\n",
       "      <td>8.18</td>\n",
       "      <td>62.0</td>\n",
       "      <td>0.1</td>\n",
       "      <td>612.696514</td>\n",
       "      <td>327582.0</td>\n",
       "      <td>17.5</td>\n",
       "      <td>17.5</td>\n",
       "      <td>0.476</td>\n",
       "      <td>10.0</td>\n",
       "    </tr>\n",
       "    <tr>\n",
       "      <th>2</th>\n",
       "      <td>Afghanistan</td>\n",
       "      <td>2013</td>\n",
       "      <td>Developing</td>\n",
       "      <td>59.9</td>\n",
       "      <td>268.0</td>\n",
       "      <td>66</td>\n",
       "      <td>0.01</td>\n",
       "      <td>73.219243</td>\n",
       "      <td>64.0</td>\n",
       "      <td>430</td>\n",
       "      <td>...</td>\n",
       "      <td>62.0</td>\n",
       "      <td>8.13</td>\n",
       "      <td>64.0</td>\n",
       "      <td>0.1</td>\n",
       "      <td>631.744976</td>\n",
       "      <td>31731688.0</td>\n",
       "      <td>17.7</td>\n",
       "      <td>17.7</td>\n",
       "      <td>0.470</td>\n",
       "      <td>9.9</td>\n",
       "    </tr>\n",
       "    <tr>\n",
       "      <th>3</th>\n",
       "      <td>Afghanistan</td>\n",
       "      <td>2012</td>\n",
       "      <td>Developing</td>\n",
       "      <td>59.5</td>\n",
       "      <td>272.0</td>\n",
       "      <td>69</td>\n",
       "      <td>0.01</td>\n",
       "      <td>78.184215</td>\n",
       "      <td>67.0</td>\n",
       "      <td>2787</td>\n",
       "      <td>...</td>\n",
       "      <td>67.0</td>\n",
       "      <td>8.52</td>\n",
       "      <td>67.0</td>\n",
       "      <td>0.1</td>\n",
       "      <td>669.959000</td>\n",
       "      <td>3696958.0</td>\n",
       "      <td>17.9</td>\n",
       "      <td>18.0</td>\n",
       "      <td>0.463</td>\n",
       "      <td>9.8</td>\n",
       "    </tr>\n",
       "    <tr>\n",
       "      <th>4</th>\n",
       "      <td>Afghanistan</td>\n",
       "      <td>2011</td>\n",
       "      <td>Developing</td>\n",
       "      <td>59.2</td>\n",
       "      <td>275.0</td>\n",
       "      <td>71</td>\n",
       "      <td>0.01</td>\n",
       "      <td>7.097109</td>\n",
       "      <td>68.0</td>\n",
       "      <td>3013</td>\n",
       "      <td>...</td>\n",
       "      <td>68.0</td>\n",
       "      <td>7.87</td>\n",
       "      <td>68.0</td>\n",
       "      <td>0.1</td>\n",
       "      <td>63.537231</td>\n",
       "      <td>2978599.0</td>\n",
       "      <td>18.2</td>\n",
       "      <td>18.2</td>\n",
       "      <td>0.454</td>\n",
       "      <td>9.5</td>\n",
       "    </tr>\n",
       "  </tbody>\n",
       "</table>\n",
       "<p>5 rows × 22 columns</p>\n",
       "</div>"
      ],
      "text/plain": [
       "       Country  Year      Status  Life expectancy   Adult Mortality  \\\n",
       "0  Afghanistan  2015  Developing              65.0            263.0   \n",
       "1  Afghanistan  2014  Developing              59.9            271.0   \n",
       "2  Afghanistan  2013  Developing              59.9            268.0   \n",
       "3  Afghanistan  2012  Developing              59.5            272.0   \n",
       "4  Afghanistan  2011  Developing              59.2            275.0   \n",
       "\n",
       "   infant deaths  Alcohol  percentage expenditure  Hepatitis B  Measles   ...  \\\n",
       "0             62     0.01               71.279624         65.0      1154  ...   \n",
       "1             64     0.01               73.523582         62.0       492  ...   \n",
       "2             66     0.01               73.219243         64.0       430  ...   \n",
       "3             69     0.01               78.184215         67.0      2787  ...   \n",
       "4             71     0.01                7.097109         68.0      3013  ...   \n",
       "\n",
       "   Polio  Total expenditure  Diphtheria    HIV/AIDS         GDP  Population  \\\n",
       "0    6.0               8.16         65.0        0.1  584.259210  33736494.0   \n",
       "1   58.0               8.18         62.0        0.1  612.696514    327582.0   \n",
       "2   62.0               8.13         64.0        0.1  631.744976  31731688.0   \n",
       "3   67.0               8.52         67.0        0.1  669.959000   3696958.0   \n",
       "4   68.0               7.87         68.0        0.1   63.537231   2978599.0   \n",
       "\n",
       "    thinness  1-19 years   thinness 5-9 years  \\\n",
       "0                   17.2                 17.3   \n",
       "1                   17.5                 17.5   \n",
       "2                   17.7                 17.7   \n",
       "3                   17.9                 18.0   \n",
       "4                   18.2                 18.2   \n",
       "\n",
       "   Income composition of resources  Schooling  \n",
       "0                            0.479       10.1  \n",
       "1                            0.476       10.0  \n",
       "2                            0.470        9.9  \n",
       "3                            0.463        9.8  \n",
       "4                            0.454        9.5  \n",
       "\n",
       "[5 rows x 22 columns]"
      ]
     },
     "execution_count": 142,
     "metadata": {},
     "output_type": "execute_result"
    }
   ],
   "source": [
    "df.head()"
   ]
  },
  {
   "cell_type": "code",
   "execution_count": 169,
   "id": "a0531a99-25d3-4ea5-8e12-89a4f4f89fa3",
   "metadata": {},
   "outputs": [
    {
     "data": {
      "text/html": [
       "<div>\n",
       "<style scoped>\n",
       "    .dataframe tbody tr th:only-of-type {\n",
       "        vertical-align: middle;\n",
       "    }\n",
       "\n",
       "    .dataframe tbody tr th {\n",
       "        vertical-align: top;\n",
       "    }\n",
       "\n",
       "    .dataframe thead th {\n",
       "        text-align: right;\n",
       "    }\n",
       "</style>\n",
       "<table border=\"1\" class=\"dataframe\">\n",
       "  <thead>\n",
       "    <tr style=\"text-align: right;\">\n",
       "      <th></th>\n",
       "      <th>Country</th>\n",
       "      <th>Year</th>\n",
       "      <th>Life expectancy</th>\n",
       "      <th>BMI</th>\n",
       "      <th>Alcohol</th>\n",
       "      <th>Schooling</th>\n",
       "    </tr>\n",
       "  </thead>\n",
       "  <tbody>\n",
       "    <tr>\n",
       "      <th>0</th>\n",
       "      <td>Afghanistan</td>\n",
       "      <td>2015</td>\n",
       "      <td>65.0</td>\n",
       "      <td>19.1</td>\n",
       "      <td>0.01</td>\n",
       "      <td>10.1</td>\n",
       "    </tr>\n",
       "    <tr>\n",
       "      <th>1</th>\n",
       "      <td>Afghanistan</td>\n",
       "      <td>2014</td>\n",
       "      <td>59.9</td>\n",
       "      <td>18.6</td>\n",
       "      <td>0.01</td>\n",
       "      <td>10.0</td>\n",
       "    </tr>\n",
       "    <tr>\n",
       "      <th>2</th>\n",
       "      <td>Afghanistan</td>\n",
       "      <td>2013</td>\n",
       "      <td>59.9</td>\n",
       "      <td>18.1</td>\n",
       "      <td>0.01</td>\n",
       "      <td>9.9</td>\n",
       "    </tr>\n",
       "    <tr>\n",
       "      <th>3</th>\n",
       "      <td>Afghanistan</td>\n",
       "      <td>2012</td>\n",
       "      <td>59.5</td>\n",
       "      <td>17.6</td>\n",
       "      <td>0.01</td>\n",
       "      <td>9.8</td>\n",
       "    </tr>\n",
       "    <tr>\n",
       "      <th>4</th>\n",
       "      <td>Afghanistan</td>\n",
       "      <td>2011</td>\n",
       "      <td>59.2</td>\n",
       "      <td>17.2</td>\n",
       "      <td>0.01</td>\n",
       "      <td>9.5</td>\n",
       "    </tr>\n",
       "    <tr>\n",
       "      <th>...</th>\n",
       "      <td>...</td>\n",
       "      <td>...</td>\n",
       "      <td>...</td>\n",
       "      <td>...</td>\n",
       "      <td>...</td>\n",
       "      <td>...</td>\n",
       "    </tr>\n",
       "    <tr>\n",
       "      <th>2933</th>\n",
       "      <td>Zimbabwe</td>\n",
       "      <td>2004</td>\n",
       "      <td>44.3</td>\n",
       "      <td>27.1</td>\n",
       "      <td>4.36</td>\n",
       "      <td>9.2</td>\n",
       "    </tr>\n",
       "    <tr>\n",
       "      <th>2934</th>\n",
       "      <td>Zimbabwe</td>\n",
       "      <td>2003</td>\n",
       "      <td>44.5</td>\n",
       "      <td>26.7</td>\n",
       "      <td>4.06</td>\n",
       "      <td>9.5</td>\n",
       "    </tr>\n",
       "    <tr>\n",
       "      <th>2935</th>\n",
       "      <td>Zimbabwe</td>\n",
       "      <td>2002</td>\n",
       "      <td>44.8</td>\n",
       "      <td>26.3</td>\n",
       "      <td>4.43</td>\n",
       "      <td>10.0</td>\n",
       "    </tr>\n",
       "    <tr>\n",
       "      <th>2936</th>\n",
       "      <td>Zimbabwe</td>\n",
       "      <td>2001</td>\n",
       "      <td>45.3</td>\n",
       "      <td>25.9</td>\n",
       "      <td>1.72</td>\n",
       "      <td>9.8</td>\n",
       "    </tr>\n",
       "    <tr>\n",
       "      <th>2937</th>\n",
       "      <td>Zimbabwe</td>\n",
       "      <td>2000</td>\n",
       "      <td>46.0</td>\n",
       "      <td>25.5</td>\n",
       "      <td>1.68</td>\n",
       "      <td>9.8</td>\n",
       "    </tr>\n",
       "  </tbody>\n",
       "</table>\n",
       "<p>2938 rows × 6 columns</p>\n",
       "</div>"
      ],
      "text/plain": [
       "          Country  Year  Life expectancy   BMI  Alcohol  Schooling\n",
       "0     Afghanistan  2015             65.0  19.1     0.01       10.1\n",
       "1     Afghanistan  2014             59.9  18.6     0.01       10.0\n",
       "2     Afghanistan  2013             59.9  18.1     0.01        9.9\n",
       "3     Afghanistan  2012             59.5  17.6     0.01        9.8\n",
       "4     Afghanistan  2011             59.2  17.2     0.01        9.5\n",
       "...           ...   ...              ...   ...      ...        ...\n",
       "2933     Zimbabwe  2004             44.3  27.1     4.36        9.2\n",
       "2934     Zimbabwe  2003             44.5  26.7     4.06        9.5\n",
       "2935     Zimbabwe  2002             44.8  26.3     4.43       10.0\n",
       "2936     Zimbabwe  2001             45.3  25.9     1.72        9.8\n",
       "2937     Zimbabwe  2000             46.0  25.5     1.68        9.8\n",
       "\n",
       "[2938 rows x 6 columns]"
      ]
     },
     "execution_count": 169,
     "metadata": {},
     "output_type": "execute_result"
    }
   ],
   "source": [
    "df.get([\"Country\", \"Year\", \"Life expectancy\", \"BMI\", \"Alcohol\", \"Schooling\"])"
   ]
  },
  {
   "cell_type": "code",
   "execution_count": 149,
   "id": "9b6f3a03-c389-4d17-ba46-d5f9bccbefb4",
   "metadata": {},
   "outputs": [
    {
     "name": "stdout",
     "output_type": "stream",
     "text": [
      "<class 'pandas.core.frame.DataFrame'>\n",
      "RangeIndex: 2938 entries, 0 to 2937\n",
      "Data columns (total 22 columns):\n",
      " #   Column                           Non-Null Count  Dtype  \n",
      "---  ------                           --------------  -----  \n",
      " 0   Country                          2938 non-null   object \n",
      " 1   Year                             2938 non-null   int64  \n",
      " 2   Status                           2938 non-null   object \n",
      " 3   Life expectancy                  2928 non-null   float64\n",
      " 4   Adult Mortality                  2928 non-null   float64\n",
      " 5   infant deaths                    2938 non-null   int64  \n",
      " 6   Alcohol                          2744 non-null   float64\n",
      " 7   percentage expenditure           2938 non-null   float64\n",
      " 8   Hepatitis B                      2385 non-null   float64\n",
      " 9   Measles                          2938 non-null   int64  \n",
      " 10   BMI                             2904 non-null   float64\n",
      " 11  under-five deaths                2938 non-null   int64  \n",
      " 12  Polio                            2919 non-null   float64\n",
      " 13  Total expenditure                2712 non-null   float64\n",
      " 14  Diphtheria                       2919 non-null   float64\n",
      " 15   HIV/AIDS                        2938 non-null   float64\n",
      " 16  GDP                              2490 non-null   float64\n",
      " 17  Population                       2286 non-null   float64\n",
      " 18   thinness  1-19 years            2904 non-null   float64\n",
      " 19   thinness 5-9 years              2904 non-null   float64\n",
      " 20  Income composition of resources  2771 non-null   float64\n",
      " 21  Schooling                        2775 non-null   float64\n",
      "dtypes: float64(16), int64(4), object(2)\n",
      "memory usage: 505.1+ KB\n"
     ]
    }
   ],
   "source": [
    "df.info()"
   ]
  },
  {
   "cell_type": "code",
   "execution_count": 152,
   "id": "4989266b-1a55-4249-8602-32f2f999ca99",
   "metadata": {},
   "outputs": [
    {
     "data": {
      "text/plain": [
       "Index(['Country', 'Year', 'Status', 'Life expectancy ', 'Adult Mortality',\n",
       "       'infant deaths', 'Alcohol', 'percentage expenditure', 'Hepatitis B',\n",
       "       'Measles ', ' BMI ', 'under-five deaths ', 'Polio', 'Total expenditure',\n",
       "       'Diphtheria ', ' HIV/AIDS', 'GDP', 'Population',\n",
       "       ' thinness  1-19 years', ' thinness 5-9 years',\n",
       "       'Income composition of resources', 'Schooling'],\n",
       "      dtype='object')"
      ]
     },
     "execution_count": 152,
     "metadata": {},
     "output_type": "execute_result"
    }
   ],
   "source": [
    "df.columns"
   ]
  },
  {
   "cell_type": "code",
   "execution_count": 157,
   "id": "324b63b2-eae2-41de-a1f0-787cb6a0fac2",
   "metadata": {},
   "outputs": [],
   "source": [
    "df.columns = [x.strip() for x in df.columns]"
   ]
  },
  {
   "cell_type": "code",
   "execution_count": 176,
   "id": "d03fb3a2-7c0f-49b7-972b-896e1bbbd41e",
   "metadata": {},
   "outputs": [
    {
     "data": {
      "text/plain": [
       "Index(['Country', 'Year', 'Status', 'Life expectancy', 'Adult Mortality',\n",
       "       'infant deaths', 'Alcohol', 'percentage expenditure', 'Hepatitis B',\n",
       "       'Measles', 'BMI', 'under-five deaths', 'Polio', 'Total expenditure',\n",
       "       'Diphtheria', 'HIV/AIDS', 'GDP', 'Population', 'thinness  1-19 years',\n",
       "       'thinness 5-9 years', 'Income composition of resources', 'Schooling'],\n",
       "      dtype='object')"
      ]
     },
     "execution_count": 176,
     "metadata": {},
     "output_type": "execute_result"
    }
   ],
   "source": [
    "df.columns"
   ]
  },
  {
   "cell_type": "code",
   "execution_count": 161,
   "id": "c3023b83-9dc0-4e03-b3a4-58d9107f19d5",
   "metadata": {},
   "outputs": [
    {
     "data": {
      "text/plain": [
       "0       19.1\n",
       "1       18.6\n",
       "2       18.1\n",
       "3       17.6\n",
       "4       17.2\n",
       "        ... \n",
       "2933    27.1\n",
       "2934    26.7\n",
       "2935    26.3\n",
       "2936    25.9\n",
       "2937    25.5\n",
       "Name: BMI, Length: 2938, dtype: float64"
      ]
     },
     "execution_count": 161,
     "metadata": {},
     "output_type": "execute_result"
    }
   ],
   "source": []
  },
  {
   "cell_type": "code",
   "execution_count": 171,
   "id": "2847804b-a45c-40b4-873a-fbb735331e6f",
   "metadata": {},
   "outputs": [],
   "source": [
    "BMI = df[\"Country\"]\n",
    "BMI.get(\"India\")"
   ]
  },
  {
   "cell_type": "code",
   "execution_count": 175,
   "id": "fed9ed71-791f-4e7e-a419-32c35532995a",
   "metadata": {},
   "outputs": [],
   "source": [
    "# df[\"Country\"].unique()"
   ]
  },
  {
   "cell_type": "markdown",
   "id": "1fdd3959-48ec-4dd7-a0e7-68a8b6a9aeeb",
   "metadata": {},
   "source": [
    "#### at() & iat() - method\n",
    "`Series.at() ` Access a single value for a row/column lable pair.\n",
    "`Series.iat() ` Access a single value for a row/column pair by integer position."
   ]
  },
  {
   "cell_type": "code",
   "execution_count": 191,
   "id": "0e433ba1-7e5e-47d8-aa4f-224ca4d6d959",
   "metadata": {},
   "outputs": [
    {
     "data": {
      "text/plain": [
       "{'Abhishek': 19,\n",
       " 'Sunny': 19,\n",
       " 'Manish': 20,\n",
       " 'Hanish': 19,\n",
       " 'Anuj': 22,\n",
       " 'Mayank': 19,\n",
       " 'Sarjeet': 20,\n",
       " 'Diljeet': 25,\n",
       " 'Arpit': 18,\n",
       " 'Monu': 26}"
      ]
     },
     "execution_count": 191,
     "metadata": {},
     "output_type": "execute_result"
    }
   ],
   "source": [
    "_dict"
   ]
  },
  {
   "cell_type": "code",
   "execution_count": 193,
   "id": "402b96c7-d680-4570-9391-738c60323daf",
   "metadata": {},
   "outputs": [],
   "source": [
    "ds = pd.Series(data=_dict, name=\"Student\", dtype=np.int8)"
   ]
  },
  {
   "cell_type": "code",
   "execution_count": 194,
   "id": "94d1e228-b38a-4985-8aa7-3cb946e09078",
   "metadata": {},
   "outputs": [
    {
     "data": {
      "text/plain": [
       "Abhishek    19\n",
       "Sunny       19\n",
       "Manish      20\n",
       "Hanish      19\n",
       "Anuj        22\n",
       "Mayank      19\n",
       "Sarjeet     20\n",
       "Diljeet     25\n",
       "Arpit       18\n",
       "Monu        26\n",
       "Name: Student, dtype: int8"
      ]
     },
     "execution_count": 194,
     "metadata": {},
     "output_type": "execute_result"
    }
   ],
   "source": [
    "ds"
   ]
  },
  {
   "cell_type": "code",
   "execution_count": 196,
   "id": "1b9e63a4-6003-49cf-8b29-3c69617d0c53",
   "metadata": {},
   "outputs": [
    {
     "data": {
      "text/plain": [
       "19"
      ]
     },
     "execution_count": 196,
     "metadata": {},
     "output_type": "execute_result"
    }
   ],
   "source": [
    "# we can access any value by its label name.\n",
    "ds.at[\"Mayank\"]"
   ]
  },
  {
   "cell_type": "markdown",
   "id": "cb3cfa7d-0df0-4b94-99dd-245793211e80",
   "metadata": {},
   "source": [
    "if we want to access the value by its index number then also we can use the `Series.iat()` method instead of using the `Series.at()` method."
   ]
  },
  {
   "cell_type": "code",
   "execution_count": 197,
   "id": "fd829f84-7a07-4fae-80e6-5b3fc82e376c",
   "metadata": {},
   "outputs": [
    {
     "data": {
      "text/plain": [
       "20"
      ]
     },
     "execution_count": 197,
     "metadata": {},
     "output_type": "execute_result"
    }
   ],
   "source": [
    "ds.iat[6]"
   ]
  },
  {
   "cell_type": "code",
   "execution_count": 187,
   "id": "64c1d1d0-5abc-4878-9b56-48fddd983197",
   "metadata": {},
   "outputs": [
    {
     "data": {
      "text/plain": [
       "(2938,)"
      ]
     },
     "execution_count": 187,
     "metadata": {},
     "output_type": "execute_result"
    }
   ],
   "source": [
    "df_year.shape"
   ]
  },
  {
   "cell_type": "markdown",
   "id": "fdd35a88-9a06-4acb-a39f-deadd549ea76",
   "metadata": {},
   "source": [
    "#### pop - method \n",
    "- Return item and drop from series."
   ]
  },
  {
   "cell_type": "code",
   "execution_count": 188,
   "id": "cdb5345b-50e5-414d-aa02-c52091bdc4ee",
   "metadata": {},
   "outputs": [
    {
     "data": {
      "text/plain": [
       "2000"
      ]
     },
     "execution_count": 188,
     "metadata": {},
     "output_type": "execute_result"
    }
   ],
   "source": [
    "df_year.pop(2937)"
   ]
  },
  {
   "cell_type": "code",
   "execution_count": 190,
   "id": "5e2f5a52-d26b-40de-86f4-a9081fb71143",
   "metadata": {},
   "outputs": [
    {
     "data": {
      "text/plain": [
       "(2937,)"
      ]
     },
     "execution_count": 190,
     "metadata": {},
     "output_type": "execute_result"
    }
   ],
   "source": [
    "df_year.shape"
   ]
  },
  {
   "cell_type": "code",
   "execution_count": null,
   "id": "e5d5c8fc-b9c7-4f00-b296-79195060e190",
   "metadata": {},
   "outputs": [],
   "source": []
  }
 ],
 "metadata": {
  "kernelspec": {
   "display_name": "Python 3 (ipykernel)",
   "language": "python",
   "name": "python3"
  },
  "language_info": {
   "codemirror_mode": {
    "name": "ipython",
    "version": 3
   },
   "file_extension": ".py",
   "mimetype": "text/x-python",
   "name": "python",
   "nbconvert_exporter": "python",
   "pygments_lexer": "ipython3",
   "version": "3.11.1"
  }
 },
 "nbformat": 4,
 "nbformat_minor": 5
}
