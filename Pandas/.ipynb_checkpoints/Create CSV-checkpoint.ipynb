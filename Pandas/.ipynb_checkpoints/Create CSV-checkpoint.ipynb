{
 "cells": [
  {
   "cell_type": "markdown",
   "id": "c64d9c73-68e3-4fb6-94ac-48f2f7920cec",
   "metadata": {},
   "source": [
    "# Create CSV file using pandas"
   ]
  },
  {
   "cell_type": "code",
   "execution_count": 2,
   "id": "048a297a-d0a1-4770-af15-bba162fea77a",
   "metadata": {},
   "outputs": [],
   "source": [
    "import pandas as pd"
   ]
  },
  {
   "cell_type": "code",
   "execution_count": 3,
   "id": "c932bf16-16cd-4494-91e0-735f63b6af25",
   "metadata": {},
   "outputs": [
    {
     "name": "stdout",
     "output_type": "stream",
     "text": [
      "       Name  Age\n",
      "0  Abhishek   19\n",
      "1     Sunny   19\n",
      "2    Hanish   20\n",
      "3    Manish   21\n",
      "4     Kumar   21\n"
     ]
    }
   ],
   "source": [
    "dic = {\"Name\":[\"Abhishek\", \"Sunny\", \"Hanish\", \"Manish\", \"Kumar\"], \"Age\":[19,19,20,21,21]}\n",
    "\n",
    "dataframe = pd.DataFrame(dic) \n",
    "\n",
    "print(dataframe)"
   ]
  },
  {
   "cell_type": "code",
   "execution_count": 5,
   "id": "eb2c4d3c-4939-46a3-b446-81120676ef8a",
   "metadata": {},
   "outputs": [],
   "source": [
    "# creating csv file\n",
    "\n",
    "dataframe.to_csv(\"Student_Data.csv\")"
   ]
  },
  {
   "cell_type": "code",
   "execution_count": null,
   "id": "c508ffc6-4d6e-468d-a544-ee8f5dc3038c",
   "metadata": {},
   "outputs": [],
   "source": []
  }
 ],
 "metadata": {
  "kernelspec": {
   "display_name": "Python 3 (ipykernel)",
   "language": "python",
   "name": "python3"
  },
  "language_info": {
   "codemirror_mode": {
    "name": "ipython",
    "version": 3
   },
   "file_extension": ".py",
   "mimetype": "text/x-python",
   "name": "python",
   "nbconvert_exporter": "python",
   "pygments_lexer": "ipython3",
   "version": "3.11.1"
  }
 },
 "nbformat": 4,
 "nbformat_minor": 5
}
