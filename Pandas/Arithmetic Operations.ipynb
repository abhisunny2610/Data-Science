{
 "cells": [
  {
   "cell_type": "markdown",
   "id": "7665c194-8e8c-4da9-9896-693000a5468d",
   "metadata": {},
   "source": [
    "# Arithmetic Operations"
   ]
  },
  {
   "cell_type": "code",
   "execution_count": 1,
   "id": "64056a31-f77b-4378-a7c0-c64ed226408b",
   "metadata": {},
   "outputs": [],
   "source": [
    "import pandas as pd"
   ]
  },
  {
   "cell_type": "code",
   "execution_count": 2,
   "id": "73ef9032-ad63-47c7-bf24-902f97d31f3b",
   "metadata": {},
   "outputs": [
    {
     "name": "stdout",
     "output_type": "stream",
     "text": [
      "   A   B\n",
      "0  1   6\n",
      "1  2   7\n",
      "2  3   8\n",
      "3  4   9\n",
      "4  5  10\n"
     ]
    }
   ],
   "source": [
    "dataframe1 = pd.DataFrame({\"A\": [1, 2, 3, 4, 5], \"B\": [6,7,8,9,10]})\n",
    "print(dataframe1)"
   ]
  },
  {
   "cell_type": "code",
   "execution_count": 7,
   "id": "0607cc4f-a3a2-43fb-8c51-9b27927dac9b",
   "metadata": {},
   "outputs": [
    {
     "name": "stdout",
     "output_type": "stream",
     "text": [
      "   A   B   C\n",
      "0  1   6   7\n",
      "1  2   7   9\n",
      "2  3   8  11\n",
      "3  4   9  13\n",
      "4  5  10  15\n"
     ]
    }
   ],
   "source": [
    "dataframe1[\"C\"] = dataframe1[\"A\"]+dataframe1[\"B\"]\n",
    "\n",
    "print(dataframe1)"
   ]
  },
  {
   "cell_type": "code",
   "execution_count": 8,
   "id": "d946ac24-32ca-499f-b389-7282a20bb800",
   "metadata": {},
   "outputs": [
    {
     "name": "stdout",
     "output_type": "stream",
     "text": [
      "   A   B   C   D\n",
      "0  1   6   7   6\n",
      "1  2   7   9   7\n",
      "2  3   8  11   8\n",
      "3  4   9  13   9\n",
      "4  5  10  15  10\n"
     ]
    }
   ],
   "source": [
    "dataframe1[\"D\"] = dataframe1[\"C\"]-dataframe1[\"A\"]\n",
    "\n",
    "print(dataframe1)"
   ]
  },
  {
   "cell_type": "code",
   "execution_count": 10,
   "id": "1c23e5ba-258f-4c1a-8901-74a080c98427",
   "metadata": {},
   "outputs": [
    {
     "name": "stdout",
     "output_type": "stream",
     "text": [
      "    A    B\n",
      "0  11   66\n",
      "1  22   77\n",
      "2  33   88\n",
      "3  44   99\n",
      "4  55  100\n"
     ]
    }
   ],
   "source": [
    "dataframe2 = pd.DataFrame({\"A\": [11, 22, 33, 44, 55], \"B\": [66,77,88,99,100]})\n",
    "print(dataframe2)"
   ]
  },
  {
   "cell_type": "code",
   "execution_count": 11,
   "id": "deb6aa6f-ecd6-4da8-af7b-a0478da1f380",
   "metadata": {},
   "outputs": [
    {
     "name": "stdout",
     "output_type": "stream",
     "text": [
      "    A    B  Less Than 50\n",
      "0  11   66          True\n",
      "1  22   77          True\n",
      "2  33   88          True\n",
      "3  44   99          True\n",
      "4  55  100         False\n"
     ]
    }
   ],
   "source": [
    "dataframe2[\"Less Than 50\"] = dataframe2[\"A\"] <=50\n",
    "\n",
    "print(dataframe2)"
   ]
  },
  {
   "cell_type": "code",
   "execution_count": null,
   "id": "4b96293f-40de-4c02-90f2-198165dadb2a",
   "metadata": {},
   "outputs": [],
   "source": []
  }
 ],
 "metadata": {
  "kernelspec": {
   "display_name": "Python 3 (ipykernel)",
   "language": "python",
   "name": "python3"
  },
  "language_info": {
   "codemirror_mode": {
    "name": "ipython",
    "version": 3
   },
   "file_extension": ".py",
   "mimetype": "text/x-python",
   "name": "python",
   "nbconvert_exporter": "python",
   "pygments_lexer": "ipython3",
   "version": "3.11.1"
  }
 },
 "nbformat": 4,
 "nbformat_minor": 5
}
