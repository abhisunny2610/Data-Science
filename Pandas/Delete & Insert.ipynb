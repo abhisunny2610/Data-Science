{
 "cells": [
  {
   "cell_type": "markdown",
   "id": "6794330b-3377-4c74-ac54-ae78d7370a7b",
   "metadata": {},
   "source": [
    "# Delete & Insert Function"
   ]
  },
  {
   "cell_type": "markdown",
   "id": "c95d55fe-3a3f-4b83-82e5-8775cefee1b1",
   "metadata": {},
   "source": [
    "### Insert Function"
   ]
  },
  {
   "cell_type": "code",
   "execution_count": 1,
   "id": "6c38910b-13b9-4e93-9c2a-5e9584ebface",
   "metadata": {},
   "outputs": [],
   "source": [
    "import pandas as pd"
   ]
  },
  {
   "cell_type": "code",
   "execution_count": 2,
   "id": "01079c32-34ff-47bc-8de3-edd211c06d88",
   "metadata": {},
   "outputs": [
    {
     "name": "stdout",
     "output_type": "stream",
     "text": [
      "       Name  Age\n",
      "0  Abhishek   19\n",
      "1     Sunny   19\n",
      "2     Rajat   21\n"
     ]
    }
   ],
   "source": [
    "dataframe = pd.DataFrame({\"Name\":[\"Abhishek\", \"Sunny\", \"Rajat\"], \"Age\":[19, 19, 21]})\n",
    "\n",
    "print(dataframe)"
   ]
  },
  {
   "cell_type": "markdown",
   "id": "33f787ce-1e85-4c9f-8736-231976ac2912",
   "metadata": {},
   "source": [
    "### Insert Function take three arguments\n",
    "1. index number where you can insert the column\n",
    "2. name of the column\n",
    "3. data"
   ]
  },
  {
   "cell_type": "code",
   "execution_count": 10,
   "id": "470f6484-2b32-4489-b468-fcb687ce7f69",
   "metadata": {},
   "outputs": [],
   "source": [
    "dataframe.insert(2,\"Height\", [5.7, 6.1, 5.4] )"
   ]
  },
  {
   "cell_type": "code",
   "execution_count": 11,
   "id": "87f17fdd-6b65-4cb2-a070-749fbeb1b853",
   "metadata": {},
   "outputs": [
    {
     "name": "stdout",
     "output_type": "stream",
     "text": [
      "       Name  Age  Height     Contact\n",
      "0  Abhishek   19     5.7  9464893022\n",
      "1     Sunny   19     6.1  8453937382\n",
      "2     Rajat   21     5.4  9036392072\n"
     ]
    }
   ],
   "source": [
    "print(dataframe)"
   ]
  },
  {
   "cell_type": "code",
   "execution_count": 13,
   "id": "d9134f7e-1fd2-4ae4-90a8-dfe634120e60",
   "metadata": {},
   "outputs": [
    {
     "name": "stdout",
     "output_type": "stream",
     "text": [
      "       Name  Age  Height     Contact      Contact2\n",
      "0  Abhishek   19     5.7  9464893022  9.464893e+09\n",
      "1     Sunny   19     6.1  8453937382  8.453937e+09\n",
      "2     Rajat   21     5.4  9036392072           NaN\n"
     ]
    }
   ],
   "source": [
    "dataframe[\"Contact2\"] = dataframe[\"Contact\"][:2]\n",
    "\n",
    "print(dataframe)"
   ]
  },
  {
   "cell_type": "markdown",
   "id": "83656109-e449-41ac-a8b2-d47aad8d4859",
   "metadata": {},
   "source": [
    "## Delete Funtion"
   ]
  },
  {
   "cell_type": "code",
   "execution_count": 16,
   "id": "5d05b09f-d428-4512-a2cf-2eb3abd247c3",
   "metadata": {},
   "outputs": [
    {
     "name": "stdout",
     "output_type": "stream",
     "text": [
      "0    19\n",
      "1    19\n",
      "2    21\n",
      "Name: Age, dtype: int64\n"
     ]
    }
   ],
   "source": [
    "dataframe1 = dataframe.pop(\"Age\")\n",
    "\n",
    "print(dataframe1)"
   ]
  },
  {
   "cell_type": "code",
   "execution_count": 17,
   "id": "28ef8600-e636-4ef3-af79-d973796c9e52",
   "metadata": {},
   "outputs": [
    {
     "name": "stdout",
     "output_type": "stream",
     "text": [
      "       Name  Height     Contact\n",
      "0  Abhishek     5.7  9464893022\n",
      "1     Sunny     6.1  8453937382\n",
      "2     Rajat     5.4  9036392072\n"
     ]
    }
   ],
   "source": [
    "print(dataframe)"
   ]
  },
  {
   "cell_type": "code",
   "execution_count": 18,
   "id": "fa863ea3-08c2-4177-a515-c4b7087069f9",
   "metadata": {},
   "outputs": [
    {
     "name": "stdout",
     "output_type": "stream",
     "text": [
      "       Name     Contact\n",
      "0  Abhishek  9464893022\n",
      "1     Sunny  8453937382\n",
      "2     Rajat  9036392072\n"
     ]
    }
   ],
   "source": [
    "del dataframe[\"Height\"]\n",
    "\n",
    "print(dataframe)"
   ]
  },
  {
   "cell_type": "code",
   "execution_count": null,
   "id": "3115ee03-cbd6-4943-8a35-8f5c08af62b6",
   "metadata": {},
   "outputs": [],
   "source": []
  }
 ],
 "metadata": {
  "kernelspec": {
   "display_name": "Python 3 (ipykernel)",
   "language": "python",
   "name": "python3"
  },
  "language_info": {
   "codemirror_mode": {
    "name": "ipython",
    "version": 3
   },
   "file_extension": ".py",
   "mimetype": "text/x-python",
   "name": "python",
   "nbconvert_exporter": "python",
   "pygments_lexer": "ipython3",
   "version": "3.11.1"
  }
 },
 "nbformat": 4,
 "nbformat_minor": 5
}
