{
 "cells": [
  {
   "cell_type": "markdown",
   "id": "8c00e912-67f8-40d5-8cff-8ffb6d9d880e",
   "metadata": {},
   "source": [
    "## Bar Graph\n",
    "\n",
    "A bar plot or bar chart is a graph that represents the category of data with rectangular bars with lengths and heights that is proportional to the values which they represent. The bar plots can be plotted horizontally or vertically. A bar chart describes the comparisons between the discrete categories. One of the axis of the plot represents the specific categories being compared, while the other axis represents the measured values corresponding to those categories."
   ]
  },
  {
   "cell_type": "code",
   "execution_count": 2,
   "id": "82e55cdb-3dac-480b-af61-8d14bfc9d585",
   "metadata": {},
   "outputs": [],
   "source": [
    "import numpy as np\n",
    "import pandas as pd\n",
    "import matplotlib.pyplot as plt"
   ]
  },
  {
   "cell_type": "code",
   "execution_count": 3,
   "id": "53435312-5cb3-48b9-b6ce-59e6a21bee40",
   "metadata": {},
   "outputs": [],
   "source": [
    "df = pd.read_csv(\"../Dataset/pizza_delivery.csv\")"
   ]
  },
  {
   "cell_type": "code",
   "execution_count": 4,
   "id": "84a7f3cc-fad5-4f9c-a898-8e9b679ef4f2",
   "metadata": {},
   "outputs": [
    {
     "data": {
      "text/html": [
       "<div>\n",
       "<style scoped>\n",
       "    .dataframe tbody tr th:only-of-type {\n",
       "        vertical-align: middle;\n",
       "    }\n",
       "\n",
       "    .dataframe tbody tr th {\n",
       "        vertical-align: top;\n",
       "    }\n",
       "\n",
       "    .dataframe thead th {\n",
       "        text-align: right;\n",
       "    }\n",
       "</style>\n",
       "<table border=\"1\" class=\"dataframe\">\n",
       "  <thead>\n",
       "    <tr style=\"text-align: right;\">\n",
       "      <th></th>\n",
       "      <th>day</th>\n",
       "      <th>date</th>\n",
       "      <th>time</th>\n",
       "      <th>operator</th>\n",
       "      <th>branch</th>\n",
       "      <th>driver</th>\n",
       "      <th>temperature</th>\n",
       "      <th>bill</th>\n",
       "      <th>pizzas</th>\n",
       "      <th>free_wine</th>\n",
       "      <th>got_wine</th>\n",
       "      <th>discount_customer</th>\n",
       "    </tr>\n",
       "  </thead>\n",
       "  <tbody>\n",
       "    <tr>\n",
       "      <th>0</th>\n",
       "      <td>Thursday</td>\n",
       "      <td>01-May-14</td>\n",
       "      <td>35.128367</td>\n",
       "      <td>Laura</td>\n",
       "      <td>East</td>\n",
       "      <td>Bruno</td>\n",
       "      <td>68.287716</td>\n",
       "      <td>58.4</td>\n",
       "      <td>4</td>\n",
       "      <td>0</td>\n",
       "      <td>0</td>\n",
       "      <td>1</td>\n",
       "    </tr>\n",
       "    <tr>\n",
       "      <th>1</th>\n",
       "      <td>Thursday</td>\n",
       "      <td>01-May-14</td>\n",
       "      <td>25.203074</td>\n",
       "      <td>Melissa</td>\n",
       "      <td>East</td>\n",
       "      <td>Salvatore</td>\n",
       "      <td>70.997791</td>\n",
       "      <td>26.4</td>\n",
       "      <td>2</td>\n",
       "      <td>0</td>\n",
       "      <td>0</td>\n",
       "      <td>0</td>\n",
       "    </tr>\n",
       "    <tr>\n",
       "      <th>2</th>\n",
       "      <td>Thursday</td>\n",
       "      <td>01-May-14</td>\n",
       "      <td>45.643404</td>\n",
       "      <td>Melissa</td>\n",
       "      <td>West</td>\n",
       "      <td>Salvatore</td>\n",
       "      <td>53.394145</td>\n",
       "      <td>58.1</td>\n",
       "      <td>3</td>\n",
       "      <td>1</td>\n",
       "      <td>0</td>\n",
       "      <td>0</td>\n",
       "    </tr>\n",
       "    <tr>\n",
       "      <th>3</th>\n",
       "      <td>Thursday</td>\n",
       "      <td>01-May-14</td>\n",
       "      <td>29.374298</td>\n",
       "      <td>Melissa</td>\n",
       "      <td>East</td>\n",
       "      <td>Salvatore</td>\n",
       "      <td>70.306596</td>\n",
       "      <td>35.2</td>\n",
       "      <td>3</td>\n",
       "      <td>0</td>\n",
       "      <td>0</td>\n",
       "      <td>0</td>\n",
       "    </tr>\n",
       "    <tr>\n",
       "      <th>4</th>\n",
       "      <td>Thursday</td>\n",
       "      <td>01-May-14</td>\n",
       "      <td>29.994610</td>\n",
       "      <td>Melissa</td>\n",
       "      <td>West</td>\n",
       "      <td>Salvatore</td>\n",
       "      <td>71.501688</td>\n",
       "      <td>38.4</td>\n",
       "      <td>2</td>\n",
       "      <td>0</td>\n",
       "      <td>0</td>\n",
       "      <td>0</td>\n",
       "    </tr>\n",
       "  </tbody>\n",
       "</table>\n",
       "</div>"
      ],
      "text/plain": [
       "        day       date       time operator branch     driver  temperature  \\\n",
       "0  Thursday  01-May-14  35.128367    Laura   East      Bruno    68.287716   \n",
       "1  Thursday  01-May-14  25.203074  Melissa   East  Salvatore    70.997791   \n",
       "2  Thursday  01-May-14  45.643404  Melissa   West  Salvatore    53.394145   \n",
       "3  Thursday  01-May-14  29.374298  Melissa   East  Salvatore    70.306596   \n",
       "4  Thursday  01-May-14  29.994610  Melissa   West  Salvatore    71.501688   \n",
       "\n",
       "   bill  pizzas  free_wine  got_wine  discount_customer  \n",
       "0  58.4       4          0         0                  1  \n",
       "1  26.4       2          0         0                  0  \n",
       "2  58.1       3          1         0                  0  \n",
       "3  35.2       3          0         0                  0  \n",
       "4  38.4       2          0         0                  0  "
      ]
     },
     "execution_count": 4,
     "metadata": {},
     "output_type": "execute_result"
    }
   ],
   "source": [
    "df.head()"
   ]
  },
  {
   "cell_type": "code",
   "execution_count": 7,
   "id": "ebe5017e-411a-44a9-bdc7-7c78cda40693",
   "metadata": {},
   "outputs": [
    {
     "data": {
      "text/plain": [
       "(1266, 12)"
      ]
     },
     "execution_count": 7,
     "metadata": {},
     "output_type": "execute_result"
    }
   ],
   "source": [
    "df.shape"
   ]
  },
  {
   "cell_type": "code",
   "execution_count": 5,
   "id": "d993c73b-0503-4bb4-b377-fa06c8f483b0",
   "metadata": {},
   "outputs": [
    {
     "data": {
      "text/html": [
       "<div>\n",
       "<style scoped>\n",
       "    .dataframe tbody tr th:only-of-type {\n",
       "        vertical-align: middle;\n",
       "    }\n",
       "\n",
       "    .dataframe tbody tr th {\n",
       "        vertical-align: top;\n",
       "    }\n",
       "\n",
       "    .dataframe thead th {\n",
       "        text-align: right;\n",
       "    }\n",
       "</style>\n",
       "<table border=\"1\" class=\"dataframe\">\n",
       "  <thead>\n",
       "    <tr style=\"text-align: right;\">\n",
       "      <th></th>\n",
       "      <th>time</th>\n",
       "      <th>temperature</th>\n",
       "      <th>bill</th>\n",
       "      <th>pizzas</th>\n",
       "      <th>free_wine</th>\n",
       "      <th>got_wine</th>\n",
       "      <th>discount_customer</th>\n",
       "    </tr>\n",
       "  </thead>\n",
       "  <tbody>\n",
       "    <tr>\n",
       "      <th>count</th>\n",
       "      <td>1266.000000</td>\n",
       "      <td>1266.000000</td>\n",
       "      <td>1266.000000</td>\n",
       "      <td>1266.000000</td>\n",
       "      <td>1266.000000</td>\n",
       "      <td>1266.000000</td>\n",
       "      <td>1266.000000</td>\n",
       "    </tr>\n",
       "    <tr>\n",
       "      <th>mean</th>\n",
       "      <td>34.229551</td>\n",
       "      <td>62.863950</td>\n",
       "      <td>42.755924</td>\n",
       "      <td>3.013428</td>\n",
       "      <td>0.180885</td>\n",
       "      <td>0.148499</td>\n",
       "      <td>0.218009</td>\n",
       "    </tr>\n",
       "    <tr>\n",
       "      <th>std</th>\n",
       "      <td>6.461478</td>\n",
       "      <td>6.905708</td>\n",
       "      <td>11.222918</td>\n",
       "      <td>1.467102</td>\n",
       "      <td>0.385075</td>\n",
       "      <td>0.355735</td>\n",
       "      <td>0.413057</td>\n",
       "    </tr>\n",
       "    <tr>\n",
       "      <th>min</th>\n",
       "      <td>12.266028</td>\n",
       "      <td>41.758718</td>\n",
       "      <td>9.100000</td>\n",
       "      <td>1.000000</td>\n",
       "      <td>0.000000</td>\n",
       "      <td>0.000000</td>\n",
       "      <td>0.000000</td>\n",
       "    </tr>\n",
       "    <tr>\n",
       "      <th>25%</th>\n",
       "      <td>30.061151</td>\n",
       "      <td>58.242364</td>\n",
       "      <td>35.500000</td>\n",
       "      <td>2.000000</td>\n",
       "      <td>0.000000</td>\n",
       "      <td>0.000000</td>\n",
       "      <td>0.000000</td>\n",
       "    </tr>\n",
       "    <tr>\n",
       "      <th>50%</th>\n",
       "      <td>34.381964</td>\n",
       "      <td>62.926657</td>\n",
       "      <td>42.900000</td>\n",
       "      <td>3.000000</td>\n",
       "      <td>0.000000</td>\n",
       "      <td>0.000000</td>\n",
       "      <td>0.000000</td>\n",
       "    </tr>\n",
       "    <tr>\n",
       "      <th>75%</th>\n",
       "      <td>38.577021</td>\n",
       "      <td>67.228628</td>\n",
       "      <td>50.500000</td>\n",
       "      <td>4.000000</td>\n",
       "      <td>0.000000</td>\n",
       "      <td>0.000000</td>\n",
       "      <td>0.000000</td>\n",
       "    </tr>\n",
       "    <tr>\n",
       "      <th>max</th>\n",
       "      <td>53.096264</td>\n",
       "      <td>87.582422</td>\n",
       "      <td>75.000000</td>\n",
       "      <td>11.000000</td>\n",
       "      <td>1.000000</td>\n",
       "      <td>1.000000</td>\n",
       "      <td>1.000000</td>\n",
       "    </tr>\n",
       "  </tbody>\n",
       "</table>\n",
       "</div>"
      ],
      "text/plain": [
       "              time  temperature         bill       pizzas    free_wine  \\\n",
       "count  1266.000000  1266.000000  1266.000000  1266.000000  1266.000000   \n",
       "mean     34.229551    62.863950    42.755924     3.013428     0.180885   \n",
       "std       6.461478     6.905708    11.222918     1.467102     0.385075   \n",
       "min      12.266028    41.758718     9.100000     1.000000     0.000000   \n",
       "25%      30.061151    58.242364    35.500000     2.000000     0.000000   \n",
       "50%      34.381964    62.926657    42.900000     3.000000     0.000000   \n",
       "75%      38.577021    67.228628    50.500000     4.000000     0.000000   \n",
       "max      53.096264    87.582422    75.000000    11.000000     1.000000   \n",
       "\n",
       "          got_wine  discount_customer  \n",
       "count  1266.000000        1266.000000  \n",
       "mean      0.148499           0.218009  \n",
       "std       0.355735           0.413057  \n",
       "min       0.000000           0.000000  \n",
       "25%       0.000000           0.000000  \n",
       "50%       0.000000           0.000000  \n",
       "75%       0.000000           0.000000  \n",
       "max       1.000000           1.000000  "
      ]
     },
     "execution_count": 5,
     "metadata": {},
     "output_type": "execute_result"
    }
   ],
   "source": [
    "df.describe()"
   ]
  },
  {
   "cell_type": "markdown",
   "id": "300c094e-33c0-4fd5-9505-a8ff0412f258",
   "metadata": {},
   "source": [
    "## Testing Null Values"
   ]
  },
  {
   "cell_type": "code",
   "execution_count": 8,
   "id": "3cdbfd99-0f47-46b4-9c01-0b98f20d61d9",
   "metadata": {},
   "outputs": [
    {
     "data": {
      "text/plain": [
       "day                  0\n",
       "date                 0\n",
       "time                 0\n",
       "operator             0\n",
       "branch               0\n",
       "driver               0\n",
       "temperature          0\n",
       "bill                 0\n",
       "pizzas               0\n",
       "free_wine            0\n",
       "got_wine             0\n",
       "discount_customer    0\n",
       "dtype: int64"
      ]
     },
     "execution_count": 8,
     "metadata": {},
     "output_type": "execute_result"
    }
   ],
   "source": [
    "df.isna().sum()"
   ]
  },
  {
   "cell_type": "code",
   "execution_count": 10,
   "id": "3440d13a-2a4a-439a-a617-e652046b9277",
   "metadata": {},
   "outputs": [
    {
     "data": {
      "text/plain": [
       "array(['Bruno', 'Salvatore', 'Mario', 'Luigi', 'Domenico'], dtype=object)"
      ]
     },
     "execution_count": 10,
     "metadata": {},
     "output_type": "execute_result"
    }
   ],
   "source": [
    "## total unique drivers\n",
    "\n",
    "df[\"driver\"].unique()"
   ]
  },
  {
   "cell_type": "markdown",
   "id": "afed8fb2-7cb7-44c5-95d0-f5c26fac6ac4",
   "metadata": {},
   "source": [
    "## Create group of Drivers"
   ]
  },
  {
   "cell_type": "code",
   "execution_count": 23,
   "id": "66015697-c559-4b5c-a7fe-df61a834a4b4",
   "metadata": {},
   "outputs": [],
   "source": [
    "drivers_df = df.groupby(\"driver\")"
   ]
  },
  {
   "cell_type": "code",
   "execution_count": 24,
   "id": "66d9d3d5-c13a-491e-85a2-ce325a3cca22",
   "metadata": {},
   "outputs": [],
   "source": [
    "drivers_revenue = drivers_df.apply(lambda group:group.bill.sum())"
   ]
  },
  {
   "cell_type": "code",
   "execution_count": 25,
   "id": "aedbc27b-b349-4015-bd38-3704c3e14706",
   "metadata": {},
   "outputs": [
    {
     "data": {
      "text/plain": [
       "Driver Revenue\n",
       "Bruno        14684.7\n",
       "Domenico      3095.8\n",
       "Luigi         5831.0\n",
       "Mario        15364.6\n",
       "Salvatore    15152.9\n",
       "dtype: float64"
      ]
     },
     "execution_count": 25,
     "metadata": {},
     "output_type": "execute_result"
    }
   ],
   "source": [
    "drivers_revenue.rename_axis(\"Driver Revenue\")"
   ]
  },
  {
   "cell_type": "code",
   "execution_count": 26,
   "id": "e8af7312-2b77-4fd6-80f5-a55f3d996e67",
   "metadata": {},
   "outputs": [
    {
     "data": {
      "text/plain": [
       "driver\n",
       "Bruno        14684.7\n",
       "Domenico      3095.8\n",
       "Luigi         5831.0\n",
       "Mario        15364.6\n",
       "Salvatore    15152.9\n",
       "dtype: float64"
      ]
     },
     "execution_count": 26,
     "metadata": {},
     "output_type": "execute_result"
    }
   ],
   "source": [
    "drivers_revenue"
   ]
  },
  {
   "cell_type": "markdown",
   "id": "019a2910-8114-4a52-84a5-e9ab8c05b9d8",
   "metadata": {},
   "source": [
    "**plot bargraph for driver for drivers revenue**"
   ]
  },
  {
   "cell_type": "code",
   "execution_count": 28,
   "id": "a1590ac0-4e4c-4038-9f0c-249ca7aaea8f",
   "metadata": {},
   "outputs": [
    {
     "data": {
      "image/png": "[encoded data removed]",
      "text/plain": [
       "<Figure size 640x480 with 1 Axes>"
      ]
     },
     "metadata": {},
     "output_type": "display_data"
    }
   ],
   "source": [
    "fig, axes = plt.subplots()\n",
    "\n",
    "axes.bar(drivers_revenue.index, drivers_revenue)\n",
    "plt.show()"
   ]
  },
  {
   "cell_type": "markdown",
   "id": "648eb773-8739-4fbc-ba67-22f86266833c",
   "metadata": {},
   "source": [
    "**driver revenue on each branch**"
   ]
  },
  {
   "cell_type": "code",
   "execution_count": 29,
   "id": "bb3ba78d-bb19-431a-a281-e4e94f2f4052",
   "metadata": {},
   "outputs": [],
   "source": [
    "driver_per_branch = drivers_df.apply(lambda group: group.groupby(\"branch\").apply(lambda x:x.bill.sum()))"
   ]
  },
  {
   "cell_type": "code",
   "execution_count": 30,
   "id": "f90afcbb-fece-4023-92cb-587880db0bda",
   "metadata": {},
   "outputs": [
    {
     "data": {
      "text/html": [
       "<div>\n",
       "<style scoped>\n",
       "    .dataframe tbody tr th:only-of-type {\n",
       "        vertical-align: middle;\n",
       "    }\n",
       "\n",
       "    .dataframe tbody tr th {\n",
       "        vertical-align: top;\n",
       "    }\n",
       "\n",
       "    .dataframe thead th {\n",
       "        text-align: right;\n",
       "    }\n",
       "</style>\n",
       "<table border=\"1\" class=\"dataframe\">\n",
       "  <thead>\n",
       "    <tr style=\"text-align: right;\">\n",
       "      <th>branch</th>\n",
       "      <th>Centre</th>\n",
       "      <th>East</th>\n",
       "      <th>West</th>\n",
       "    </tr>\n",
       "    <tr>\n",
       "      <th>driver</th>\n",
       "      <th></th>\n",
       "      <th></th>\n",
       "      <th></th>\n",
       "    </tr>\n",
       "  </thead>\n",
       "  <tbody>\n",
       "    <tr>\n",
       "      <th>Bruno</th>\n",
       "      <td>6346.9</td>\n",
       "      <td>3083.4</td>\n",
       "      <td>5254.4</td>\n",
       "    </tr>\n",
       "    <tr>\n",
       "      <th>Domenico</th>\n",
       "      <td>589.1</td>\n",
       "      <td>1766.3</td>\n",
       "      <td>740.4</td>\n",
       "    </tr>\n",
       "    <tr>\n",
       "      <th>Luigi</th>\n",
       "      <td>1980.6</td>\n",
       "      <td>2204.9</td>\n",
       "      <td>1645.5</td>\n",
       "    </tr>\n",
       "    <tr>\n",
       "      <th>Mario</th>\n",
       "      <td>5157.0</td>\n",
       "      <td>4805.0</td>\n",
       "      <td>5402.6</td>\n",
       "    </tr>\n",
       "    <tr>\n",
       "      <th>Salvatore</th>\n",
       "      <td>5757.8</td>\n",
       "      <td>3204.6</td>\n",
       "      <td>6190.5</td>\n",
       "    </tr>\n",
       "  </tbody>\n",
       "</table>\n",
       "</div>"
      ],
      "text/plain": [
       "branch     Centre    East    West\n",
       "driver                           \n",
       "Bruno      6346.9  3083.4  5254.4\n",
       "Domenico    589.1  1766.3   740.4\n",
       "Luigi      1980.6  2204.9  1645.5\n",
       "Mario      5157.0  4805.0  5402.6\n",
       "Salvatore  5757.8  3204.6  6190.5"
      ]
     },
     "execution_count": 30,
     "metadata": {},
     "output_type": "execute_result"
    }
   ],
   "source": [
    "driver_per_branch"
   ]
  },
  {
   "cell_type": "markdown",
   "id": "7d261335-2d56-4220-b2cb-0b14c305c3e2",
   "metadata": {},
   "source": [
    "**over lapping condition**"
   ]
  },
  {
   "cell_type": "code",
   "execution_count": 33,
   "id": "fe9172ea-7670-49f8-8998-0f1048f204c7",
   "metadata": {},
   "outputs": [
    {
     "data": {
      "image/png": "[encoded data removed]",
      "text/plain": [
       "<Figure size 640x480 with 1 Axes>"
      ]
     },
     "metadata": {},
     "output_type": "display_data"
    }
   ],
   "source": [
    "fig , axes = plt.subplots()\n",
    "\n",
    "for driver, value in driver_per_branch.items():\n",
    "    axes.bar(driver, value, alpha=0.5)\n",
    "\n",
    "plt.show()"
   ]
  },
  {
   "cell_type": "markdown",
   "id": "93638090-3737-45c6-86bc-6165deb46048",
   "metadata": {},
   "source": [
    "**Avoiding overlapping problem**"
   ]
  },
  {
   "cell_type": "code",
   "execution_count": 40,
   "id": "d39e29c8-30dd-4ec6-97c4-9d58cba2e231",
   "metadata": {},
   "outputs": [
    {
     "data": {
      "image/png": "[encoded data removed]",
      "text/plain": [
       "<Figure size 640x480 with 1 Axes>"
      ]
     },
     "metadata": {},
     "output_type": "display_data"
    }
   ],
   "source": [
    "fig, axes = plt.subplots()\n",
    "\n",
    "labels = np.arange(len(driver_per_branch.index))\n",
    "\n",
    "wid = 0.2\n",
    "offset = 0\n",
    "\n",
    "for driver, values in driver_per_branch.items():\n",
    "    axes.bar(labels+offset, values, width=wid, label=driver)\n",
    "    offset += wid\n",
    "\n",
    "mid_point = labels+(len(driver_per_branch.columns)*wid)/2\n",
    "\n",
    "axes.set_xticks(mid_point-(wid/2), driver_per_branch.index)\n",
    "\n",
    "axes.legend()\n",
    "plt.show()"
   ]
  },
  {
   "cell_type": "code",
   "execution_count": 35,
   "id": "176096bf-5d41-437e-9c07-02c757d1b7e3",
   "metadata": {},
   "outputs": [
    {
     "data": {
      "text/plain": [
       "array([0, 1, 2, 3, 4])"
      ]
     },
     "execution_count": 35,
     "metadata": {},
     "output_type": "execute_result"
    }
   ],
   "source": [
    "labels"
   ]
  },
  {
   "cell_type": "code",
   "execution_count": null,
   "id": "e8da9897-27bd-44e6-95a6-4ba4b0ad6e53",
   "metadata": {},
   "outputs": [],
   "source": []
  }
 ],
 "metadata": {
  "kernelspec": {
   "display_name": "Python 3 (ipykernel)",
   "language": "python",
   "name": "python3"
  },
  "language_info": {
   "codemirror_mode": {
    "name": "ipython",
    "version": 3
   },
   "file_extension": ".py",
   "mimetype": "text/x-python",
   "name": "python",
   "nbconvert_exporter": "python",
   "pygments_lexer": "ipython3",
   "version": "3.11.1"
  }
 },
 "nbformat": 4,
 "nbformat_minor": 5
}
