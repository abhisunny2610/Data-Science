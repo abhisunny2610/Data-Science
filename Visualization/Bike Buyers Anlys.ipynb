{
 "cells": [
  {
   "cell_type": "markdown",
   "id": "0dba0e5a-365f-40dd-b5ad-d1cb60b4d743",
   "metadata": {},
   "source": [
    "## Bike Buyers Dataset Analystics\n"
   ]
  },
  {
   "cell_type": "code",
   "execution_count": 2,
   "id": "5d7c9923-4acc-44e1-a73f-f40a1e63a712",
   "metadata": {},
   "outputs": [],
   "source": [
    "import pandas as pd\n",
    "import numpy as np\n",
    "import matplotlib.pyplot as plt\n",
    "import seaborn as sns"
   ]
  },
  {
   "cell_type": "code",
   "execution_count": 3,
   "id": "6d21cb0f-7fbc-4073-a1ee-fc6ca1a06abe",
   "metadata": {},
   "outputs": [],
   "source": [
    "df = pd.read_csv(\"../Dataset/bike_buyers_clean.csv\")"
   ]
  },
  {
   "cell_type": "code",
   "execution_count": 4,
   "id": "4125bbfa-3bbb-4e09-beba-cbaef76f2bf0",
   "metadata": {},
   "outputs": [
    {
     "data": {
      "text/html": [
       "<div>\n",
       "<style scoped>\n",
       "    .dataframe tbody tr th:only-of-type {\n",
       "        vertical-align: middle;\n",
       "    }\n",
       "\n",
       "    .dataframe tbody tr th {\n",
       "        vertical-align: top;\n",
       "    }\n",
       "\n",
       "    .dataframe thead th {\n",
       "        text-align: right;\n",
       "    }\n",
       "</style>\n",
       "<table border=\"1\" class=\"dataframe\">\n",
       "  <thead>\n",
       "    <tr style=\"text-align: right;\">\n",
       "      <th></th>\n",
       "      <th>ID</th>\n",
       "      <th>Marital Status</th>\n",
       "      <th>Gender</th>\n",
       "      <th>Income</th>\n",
       "      <th>Children</th>\n",
       "      <th>Education</th>\n",
       "      <th>Occupation</th>\n",
       "      <th>Home Owner</th>\n",
       "      <th>Cars</th>\n",
       "      <th>Commute Distance</th>\n",
       "      <th>Region</th>\n",
       "      <th>Age</th>\n",
       "      <th>Purchased Bike</th>\n",
       "    </tr>\n",
       "  </thead>\n",
       "  <tbody>\n",
       "    <tr>\n",
       "      <th>0</th>\n",
       "      <td>12496</td>\n",
       "      <td>Married</td>\n",
       "      <td>Female</td>\n",
       "      <td>40000</td>\n",
       "      <td>1</td>\n",
       "      <td>Bachelors</td>\n",
       "      <td>Skilled Manual</td>\n",
       "      <td>Yes</td>\n",
       "      <td>0</td>\n",
       "      <td>0-1 Miles</td>\n",
       "      <td>Europe</td>\n",
       "      <td>42</td>\n",
       "      <td>No</td>\n",
       "    </tr>\n",
       "    <tr>\n",
       "      <th>1</th>\n",
       "      <td>24107</td>\n",
       "      <td>Married</td>\n",
       "      <td>Male</td>\n",
       "      <td>30000</td>\n",
       "      <td>3</td>\n",
       "      <td>Partial College</td>\n",
       "      <td>Clerical</td>\n",
       "      <td>Yes</td>\n",
       "      <td>1</td>\n",
       "      <td>0-1 Miles</td>\n",
       "      <td>Europe</td>\n",
       "      <td>43</td>\n",
       "      <td>No</td>\n",
       "    </tr>\n",
       "    <tr>\n",
       "      <th>2</th>\n",
       "      <td>14177</td>\n",
       "      <td>Married</td>\n",
       "      <td>Male</td>\n",
       "      <td>80000</td>\n",
       "      <td>5</td>\n",
       "      <td>Partial College</td>\n",
       "      <td>Professional</td>\n",
       "      <td>No</td>\n",
       "      <td>2</td>\n",
       "      <td>2-5 Miles</td>\n",
       "      <td>Europe</td>\n",
       "      <td>60</td>\n",
       "      <td>No</td>\n",
       "    </tr>\n",
       "    <tr>\n",
       "      <th>3</th>\n",
       "      <td>24381</td>\n",
       "      <td>Single</td>\n",
       "      <td>Male</td>\n",
       "      <td>70000</td>\n",
       "      <td>0</td>\n",
       "      <td>Bachelors</td>\n",
       "      <td>Professional</td>\n",
       "      <td>Yes</td>\n",
       "      <td>1</td>\n",
       "      <td>5-10 Miles</td>\n",
       "      <td>Pacific</td>\n",
       "      <td>41</td>\n",
       "      <td>Yes</td>\n",
       "    </tr>\n",
       "    <tr>\n",
       "      <th>4</th>\n",
       "      <td>25597</td>\n",
       "      <td>Single</td>\n",
       "      <td>Male</td>\n",
       "      <td>30000</td>\n",
       "      <td>0</td>\n",
       "      <td>Bachelors</td>\n",
       "      <td>Clerical</td>\n",
       "      <td>No</td>\n",
       "      <td>0</td>\n",
       "      <td>0-1 Miles</td>\n",
       "      <td>Europe</td>\n",
       "      <td>36</td>\n",
       "      <td>Yes</td>\n",
       "    </tr>\n",
       "  </tbody>\n",
       "</table>\n",
       "</div>"
      ],
      "text/plain": [
       "      ID Marital Status  Gender  Income  Children        Education  \\\n",
       "0  12496        Married  Female   40000         1        Bachelors   \n",
       "1  24107        Married    Male   30000         3  Partial College   \n",
       "2  14177        Married    Male   80000         5  Partial College   \n",
       "3  24381         Single    Male   70000         0        Bachelors   \n",
       "4  25597         Single    Male   30000         0        Bachelors   \n",
       "\n",
       "       Occupation Home Owner  Cars Commute Distance   Region  Age  \\\n",
       "0  Skilled Manual        Yes     0        0-1 Miles   Europe   42   \n",
       "1        Clerical        Yes     1        0-1 Miles   Europe   43   \n",
       "2    Professional         No     2        2-5 Miles   Europe   60   \n",
       "3    Professional        Yes     1       5-10 Miles  Pacific   41   \n",
       "4        Clerical         No     0        0-1 Miles   Europe   36   \n",
       "\n",
       "  Purchased Bike  \n",
       "0             No  \n",
       "1             No  \n",
       "2             No  \n",
       "3            Yes  \n",
       "4            Yes  "
      ]
     },
     "execution_count": 4,
     "metadata": {},
     "output_type": "execute_result"
    }
   ],
   "source": [
    "df.head()"
   ]
  },
  {
   "cell_type": "code",
   "execution_count": 5,
   "id": "cfa40501-7650-41e3-9a01-26f9ae848f63",
   "metadata": {},
   "outputs": [
    {
     "data": {
      "text/plain": [
       "ID                  0\n",
       "Marital Status      0\n",
       "Gender              0\n",
       "Income              0\n",
       "Children            0\n",
       "Education           0\n",
       "Occupation          0\n",
       "Home Owner          0\n",
       "Cars                0\n",
       "Commute Distance    0\n",
       "Region              0\n",
       "Age                 0\n",
       "Purchased Bike      0\n",
       "dtype: int64"
      ]
     },
     "execution_count": 5,
     "metadata": {},
     "output_type": "execute_result"
    }
   ],
   "source": [
    "df.isna().sum()"
   ]
  },
  {
   "cell_type": "code",
   "execution_count": 6,
   "id": "6d7eac63-361f-4ab5-a640-664dc623792d",
   "metadata": {},
   "outputs": [
    {
     "data": {
      "text/plain": [
       "ID                   int64\n",
       "Marital Status      object\n",
       "Gender              object\n",
       "Income               int64\n",
       "Children             int64\n",
       "Education           object\n",
       "Occupation          object\n",
       "Home Owner          object\n",
       "Cars                 int64\n",
       "Commute Distance    object\n",
       "Region              object\n",
       "Age                  int64\n",
       "Purchased Bike      object\n",
       "dtype: object"
      ]
     },
     "execution_count": 6,
     "metadata": {},
     "output_type": "execute_result"
    }
   ],
   "source": [
    "df.dtypes"
   ]
  },
  {
   "cell_type": "markdown",
   "id": "1a897b4f-a8ad-4b3d-9c9b-773a92137192",
   "metadata": {},
   "source": [
    "### Who buy more bikes married or single with category male or female"
   ]
  },
  {
   "cell_type": "code",
   "execution_count": 7,
   "id": "cb04d668-90d4-4be2-ab59-b96e2d444310",
   "metadata": {},
   "outputs": [],
   "source": [
    "marital_status_group = df.groupby([\"Marital Status\", \"Purchased Bike\"]).size().unstack()"
   ]
  },
  {
   "cell_type": "code",
   "execution_count": 8,
   "id": "10b37fd1-a3c7-4f95-a5d7-c15b71bdbf70",
   "metadata": {},
   "outputs": [
    {
     "data": {
      "text/html": [
       "<div>\n",
       "<style scoped>\n",
       "    .dataframe tbody tr th:only-of-type {\n",
       "        vertical-align: middle;\n",
       "    }\n",
       "\n",
       "    .dataframe tbody tr th {\n",
       "        vertical-align: top;\n",
       "    }\n",
       "\n",
       "    .dataframe thead th {\n",
       "        text-align: right;\n",
       "    }\n",
       "</style>\n",
       "<table border=\"1\" class=\"dataframe\">\n",
       "  <thead>\n",
       "    <tr style=\"text-align: right;\">\n",
       "      <th>Purchased Bike</th>\n",
       "      <th>No</th>\n",
       "      <th>Yes</th>\n",
       "    </tr>\n",
       "    <tr>\n",
       "      <th>Marital Status</th>\n",
       "      <th></th>\n",
       "      <th></th>\n",
       "    </tr>\n",
       "  </thead>\n",
       "  <tbody>\n",
       "    <tr>\n",
       "      <th>Married</th>\n",
       "      <td>307</td>\n",
       "      <td>232</td>\n",
       "    </tr>\n",
       "    <tr>\n",
       "      <th>Single</th>\n",
       "      <td>212</td>\n",
       "      <td>249</td>\n",
       "    </tr>\n",
       "  </tbody>\n",
       "</table>\n",
       "</div>"
      ],
      "text/plain": [
       "Purchased Bike   No  Yes\n",
       "Marital Status          \n",
       "Married         307  232\n",
       "Single          212  249"
      ]
     },
     "execution_count": 8,
     "metadata": {},
     "output_type": "execute_result"
    }
   ],
   "source": [
    "marital_status_group"
   ]
  },
  {
   "cell_type": "code",
   "execution_count": 9,
   "id": "382c3d4b-bbc9-4884-b597-965940120f3c",
   "metadata": {},
   "outputs": [
    {
     "data": {
      "text/plain": [
       "<Axes: xlabel='Marital Status'>"
      ]
     },
     "execution_count": 9,
     "metadata": {},
     "output_type": "execute_result"
    },
    {
     "data": {
      "image/png": "[encoded data removed]",
      "text/plain": [
       "<Figure size 640x480 with 1 Axes>"
      ]
     },
     "metadata": {},
     "output_type": "display_data"
    }
   ],
   "source": [
    "marital_status_group.plot(kind=\"bar\", stacked=True,)"
   ]
  },
  {
   "cell_type": "code",
   "execution_count": 10,
   "id": "b836dfd8-db4a-47af-80a4-be95ca273204",
   "metadata": {},
   "outputs": [
    {
     "data": {
      "text/plain": [
       "(array([151., 287.,  40., 289.,  91.,  67.,  33.,  32.,   4.,   6.]),\n",
       " array([ 10000.,  26000.,  42000.,  58000.,  74000.,  90000., 106000.,\n",
       "        122000., 138000., 154000., 170000.]),\n",
       " <BarContainer object of 10 artists>)"
      ]
     },
     "execution_count": 10,
     "metadata": {},
     "output_type": "execute_result"
    },
    {
     "data": {
      "image/png": "[encoded data removed]",
      "text/plain": [
       "<Figure size 640x480 with 1 Axes>"
      ]
     },
     "metadata": {},
     "output_type": "display_data"
    }
   ],
   "source": [
    "plt.hist(df[\"Income\"])"
   ]
  },
  {
   "cell_type": "markdown",
   "id": "1bd66f82-17a5-4327-aef8-a0795038cda4",
   "metadata": {},
   "source": [
    "\n",
    "\r\n",
    "1. What is the distribution of marital status in the dataset?\r\n",
    "2. How does gender distribution vary in different regions?\r\n",
    "3. What is the distribution of income levels among different education categories?\r\n",
    "4. Can you create a histogram showing the distribution of ages in the dataset?\r\n",
    "5. What is the relationship between the number of children and home ownership?\r\n",
    "6. What is the distribution of occupations in the dataset?\r\n",
    "7. How many individuals own cars, and how does this vary by gender?\r\n",
    "8. What is the most common commute distance for individuals in the dataset?\r\n",
    "9. How does the education level impact the likelihood of purchasing a bike?\r\n",
    "10. Are there any correlations between income and the number of cars owned?\r\n",
    "11. What is the age distribution of individuals who have purchased a bike?\r\n",
    "12. What is the distribution of income levels for bike owners?\r\n",
    "13. How do different regions compare in terms of bike purchases?\r\n",
    "14. What is the average age of individuals by gender?\r\n",
    "15. Can you create a scatter plot showing the relationship between income and age?\r\n",
    "16. How does the number of children affect the likelihood of being a home owner?\r\n",
    "17. Are there any trends in bike purchases over time (e.g., by age)?\r\n",
    "18. What is the distribution of income levels for different marital statuses?\r\n",
    "19. How does occupation vary with respect to gender?\r\n",
    "20. What is the distribution of commute distances iers to these questions."
   ]
  },
  {
   "cell_type": "markdown",
   "id": "a6832910-5794-4476-9cd3-6ecc0c0a3be4",
   "metadata": {},
   "source": [
    "## What is the distribution of marital status in the dataset?"
   ]
  },
  {
   "cell_type": "code",
   "execution_count": 20,
   "id": "4dd253d8-6776-41ca-a7a6-dc8a2b4b9f5b",
   "metadata": {},
   "outputs": [
    {
     "data": {
      "text/plain": [
       "Marital Status\n",
       "Married    539\n",
       "Single     461\n",
       "dtype: int64"
      ]
     },
     "execution_count": 20,
     "metadata": {},
     "output_type": "execute_result"
    }
   ],
   "source": [
    "marital_group = df.groupby(\"Marital Status\").size()\n",
    "marital_group"
   ]
  },
  {
   "cell_type": "code",
   "execution_count": 35,
   "id": "4fcda1dc-1de5-441d-a311-66fe2e73b984",
   "metadata": {},
   "outputs": [
    {
     "data": {
      "image/png": "[encoded data removed]",
      "text/plain": [
       "<Figure size 300x300 with 1 Axes>"
      ]
     },
     "metadata": {},
     "output_type": "display_data"
    }
   ],
   "source": [
    "fig, axes = plt.subplots(figsize=(3,3))\n",
    "\n",
    "axes.pie(marital_group, labels=marital_group.index, autopct='%1.1f%%')\n",
    "axes.set_title(\"Distribution of marital status\")\n",
    "plt.show()"
   ]
  },
  {
   "cell_type": "markdown",
   "id": "61607808-cb67-4259-bd34-d46f8cfac7eb",
   "metadata": {},
   "source": [
    "## How does gender distribution vary in different regions?"
   ]
  },
  {
   "cell_type": "code",
   "execution_count": 44,
   "id": "34efd1ae-10a8-4a94-897f-3af5a57a0680",
   "metadata": {},
   "outputs": [
    {
     "data": {
      "text/html": [
       "<div>\n",
       "<style scoped>\n",
       "    .dataframe tbody tr th:only-of-type {\n",
       "        vertical-align: middle;\n",
       "    }\n",
       "\n",
       "    .dataframe tbody tr th {\n",
       "        vertical-align: top;\n",
       "    }\n",
       "\n",
       "    .dataframe thead th {\n",
       "        text-align: right;\n",
       "    }\n",
       "</style>\n",
       "<table border=\"1\" class=\"dataframe\">\n",
       "  <thead>\n",
       "    <tr style=\"text-align: right;\">\n",
       "      <th>Gender</th>\n",
       "      <th>Female</th>\n",
       "      <th>Male</th>\n",
       "    </tr>\n",
       "    <tr>\n",
       "      <th>Region</th>\n",
       "      <th></th>\n",
       "      <th></th>\n",
       "    </tr>\n",
       "  </thead>\n",
       "  <tbody>\n",
       "    <tr>\n",
       "      <th>Europe</th>\n",
       "      <td>164</td>\n",
       "      <td>136</td>\n",
       "    </tr>\n",
       "    <tr>\n",
       "      <th>North America</th>\n",
       "      <td>240</td>\n",
       "      <td>268</td>\n",
       "    </tr>\n",
       "    <tr>\n",
       "      <th>Pacific</th>\n",
       "      <td>87</td>\n",
       "      <td>105</td>\n",
       "    </tr>\n",
       "  </tbody>\n",
       "</table>\n",
       "</div>"
      ],
      "text/plain": [
       "Gender         Female  Male\n",
       "Region                     \n",
       "Europe            164   136\n",
       "North America     240   268\n",
       "Pacific            87   105"
      ]
     },
     "execution_count": 44,
     "metadata": {},
     "output_type": "execute_result"
    }
   ],
   "source": [
    "gender_group = df.groupby([\"Region\", \"Gender\"]).size().unstack()\n",
    "gender_group"
   ]
  },
  {
   "cell_type": "code",
   "execution_count": 40,
   "id": "f5a9540d-4174-494c-a525-d47856046a73",
   "metadata": {},
   "outputs": [
    {
     "data": {
      "text/html": [
       "<div>\n",
       "<style scoped>\n",
       "    .dataframe tbody tr th:only-of-type {\n",
       "        vertical-align: middle;\n",
       "    }\n",
       "\n",
       "    .dataframe tbody tr th {\n",
       "        vertical-align: top;\n",
       "    }\n",
       "\n",
       "    .dataframe thead th {\n",
       "        text-align: right;\n",
       "    }\n",
       "</style>\n",
       "<table border=\"1\" class=\"dataframe\">\n",
       "  <thead>\n",
       "    <tr style=\"text-align: right;\">\n",
       "      <th></th>\n",
       "      <th>ID</th>\n",
       "      <th>Marital Status</th>\n",
       "      <th>Gender</th>\n",
       "      <th>Income</th>\n",
       "      <th>Children</th>\n",
       "      <th>Education</th>\n",
       "      <th>Occupation</th>\n",
       "      <th>Home Owner</th>\n",
       "      <th>Cars</th>\n",
       "      <th>Commute Distance</th>\n",
       "      <th>Region</th>\n",
       "      <th>Age</th>\n",
       "      <th>Purchased Bike</th>\n",
       "    </tr>\n",
       "  </thead>\n",
       "  <tbody>\n",
       "    <tr>\n",
       "      <th>1</th>\n",
       "      <td>24107</td>\n",
       "      <td>Married</td>\n",
       "      <td>Male</td>\n",
       "      <td>30000</td>\n",
       "      <td>3</td>\n",
       "      <td>Partial College</td>\n",
       "      <td>Clerical</td>\n",
       "      <td>Yes</td>\n",
       "      <td>1</td>\n",
       "      <td>0-1 Miles</td>\n",
       "      <td>Europe</td>\n",
       "      <td>43</td>\n",
       "      <td>No</td>\n",
       "    </tr>\n",
       "    <tr>\n",
       "      <th>2</th>\n",
       "      <td>14177</td>\n",
       "      <td>Married</td>\n",
       "      <td>Male</td>\n",
       "      <td>80000</td>\n",
       "      <td>5</td>\n",
       "      <td>Partial College</td>\n",
       "      <td>Professional</td>\n",
       "      <td>No</td>\n",
       "      <td>2</td>\n",
       "      <td>2-5 Miles</td>\n",
       "      <td>Europe</td>\n",
       "      <td>60</td>\n",
       "      <td>No</td>\n",
       "    </tr>\n",
       "    <tr>\n",
       "      <th>4</th>\n",
       "      <td>25597</td>\n",
       "      <td>Single</td>\n",
       "      <td>Male</td>\n",
       "      <td>30000</td>\n",
       "      <td>0</td>\n",
       "      <td>Bachelors</td>\n",
       "      <td>Clerical</td>\n",
       "      <td>No</td>\n",
       "      <td>0</td>\n",
       "      <td>0-1 Miles</td>\n",
       "      <td>Europe</td>\n",
       "      <td>36</td>\n",
       "      <td>Yes</td>\n",
       "    </tr>\n",
       "    <tr>\n",
       "      <th>7</th>\n",
       "      <td>19364</td>\n",
       "      <td>Married</td>\n",
       "      <td>Male</td>\n",
       "      <td>40000</td>\n",
       "      <td>1</td>\n",
       "      <td>Bachelors</td>\n",
       "      <td>Skilled Manual</td>\n",
       "      <td>Yes</td>\n",
       "      <td>0</td>\n",
       "      <td>0-1 Miles</td>\n",
       "      <td>Europe</td>\n",
       "      <td>43</td>\n",
       "      <td>Yes</td>\n",
       "    </tr>\n",
       "    <tr>\n",
       "      <th>9</th>\n",
       "      <td>19280</td>\n",
       "      <td>Married</td>\n",
       "      <td>Male</td>\n",
       "      <td>20000</td>\n",
       "      <td>2</td>\n",
       "      <td>Partial College</td>\n",
       "      <td>Manual</td>\n",
       "      <td>Yes</td>\n",
       "      <td>1</td>\n",
       "      <td>0-1 Miles</td>\n",
       "      <td>Europe</td>\n",
       "      <td>48</td>\n",
       "      <td>Yes</td>\n",
       "    </tr>\n",
       "    <tr>\n",
       "      <th>...</th>\n",
       "      <td>...</td>\n",
       "      <td>...</td>\n",
       "      <td>...</td>\n",
       "      <td>...</td>\n",
       "      <td>...</td>\n",
       "      <td>...</td>\n",
       "      <td>...</td>\n",
       "      <td>...</td>\n",
       "      <td>...</td>\n",
       "      <td>...</td>\n",
       "      <td>...</td>\n",
       "      <td>...</td>\n",
       "      <td>...</td>\n",
       "    </tr>\n",
       "    <tr>\n",
       "      <th>483</th>\n",
       "      <td>15450</td>\n",
       "      <td>Married</td>\n",
       "      <td>Male</td>\n",
       "      <td>10000</td>\n",
       "      <td>1</td>\n",
       "      <td>Graduate Degree</td>\n",
       "      <td>Clerical</td>\n",
       "      <td>Yes</td>\n",
       "      <td>0</td>\n",
       "      <td>0-1 Miles</td>\n",
       "      <td>Europe</td>\n",
       "      <td>70</td>\n",
       "      <td>No</td>\n",
       "    </tr>\n",
       "    <tr>\n",
       "      <th>485</th>\n",
       "      <td>19491</td>\n",
       "      <td>Single</td>\n",
       "      <td>Male</td>\n",
       "      <td>30000</td>\n",
       "      <td>2</td>\n",
       "      <td>Partial College</td>\n",
       "      <td>Clerical</td>\n",
       "      <td>Yes</td>\n",
       "      <td>2</td>\n",
       "      <td>0-1 Miles</td>\n",
       "      <td>Europe</td>\n",
       "      <td>42</td>\n",
       "      <td>No</td>\n",
       "    </tr>\n",
       "    <tr>\n",
       "      <th>487</th>\n",
       "      <td>12821</td>\n",
       "      <td>Married</td>\n",
       "      <td>Male</td>\n",
       "      <td>40000</td>\n",
       "      <td>0</td>\n",
       "      <td>Bachelors</td>\n",
       "      <td>Clerical</td>\n",
       "      <td>Yes</td>\n",
       "      <td>0</td>\n",
       "      <td>0-1 Miles</td>\n",
       "      <td>Europe</td>\n",
       "      <td>39</td>\n",
       "      <td>No</td>\n",
       "    </tr>\n",
       "    <tr>\n",
       "      <th>489</th>\n",
       "      <td>27835</td>\n",
       "      <td>Married</td>\n",
       "      <td>Male</td>\n",
       "      <td>20000</td>\n",
       "      <td>0</td>\n",
       "      <td>Partial High School</td>\n",
       "      <td>Manual</td>\n",
       "      <td>Yes</td>\n",
       "      <td>2</td>\n",
       "      <td>0-1 Miles</td>\n",
       "      <td>Europe</td>\n",
       "      <td>32</td>\n",
       "      <td>No</td>\n",
       "    </tr>\n",
       "    <tr>\n",
       "      <th>678</th>\n",
       "      <td>18145</td>\n",
       "      <td>Married</td>\n",
       "      <td>Male</td>\n",
       "      <td>80000</td>\n",
       "      <td>5</td>\n",
       "      <td>Bachelors</td>\n",
       "      <td>Management</td>\n",
       "      <td>No</td>\n",
       "      <td>2</td>\n",
       "      <td>2-5 Miles</td>\n",
       "      <td>Europe</td>\n",
       "      <td>62</td>\n",
       "      <td>No</td>\n",
       "    </tr>\n",
       "  </tbody>\n",
       "</table>\n",
       "<p>136 rows × 13 columns</p>\n",
       "</div>"
      ],
      "text/plain": [
       "        ID Marital Status Gender  Income  Children            Education  \\\n",
       "1    24107        Married   Male   30000         3      Partial College   \n",
       "2    14177        Married   Male   80000         5      Partial College   \n",
       "4    25597         Single   Male   30000         0            Bachelors   \n",
       "7    19364        Married   Male   40000         1            Bachelors   \n",
       "9    19280        Married   Male   20000         2      Partial College   \n",
       "..     ...            ...    ...     ...       ...                  ...   \n",
       "483  15450        Married   Male   10000         1      Graduate Degree   \n",
       "485  19491         Single   Male   30000         2      Partial College   \n",
       "487  12821        Married   Male   40000         0            Bachelors   \n",
       "489  27835        Married   Male   20000         0  Partial High School   \n",
       "678  18145        Married   Male   80000         5            Bachelors   \n",
       "\n",
       "         Occupation Home Owner  Cars Commute Distance  Region  Age  \\\n",
       "1          Clerical        Yes     1        0-1 Miles  Europe   43   \n",
       "2      Professional         No     2        2-5 Miles  Europe   60   \n",
       "4          Clerical         No     0        0-1 Miles  Europe   36   \n",
       "7    Skilled Manual        Yes     0        0-1 Miles  Europe   43   \n",
       "9            Manual        Yes     1        0-1 Miles  Europe   48   \n",
       "..              ...        ...   ...              ...     ...  ...   \n",
       "483        Clerical        Yes     0        0-1 Miles  Europe   70   \n",
       "485        Clerical        Yes     2        0-1 Miles  Europe   42   \n",
       "487        Clerical        Yes     0        0-1 Miles  Europe   39   \n",
       "489          Manual        Yes     2        0-1 Miles  Europe   32   \n",
       "678      Management         No     2        2-5 Miles  Europe   62   \n",
       "\n",
       "    Purchased Bike  \n",
       "1               No  \n",
       "2               No  \n",
       "4              Yes  \n",
       "7              Yes  \n",
       "9              Yes  \n",
       "..             ...  \n",
       "483             No  \n",
       "485             No  \n",
       "487             No  \n",
       "489             No  \n",
       "678             No  \n",
       "\n",
       "[136 rows x 13 columns]"
      ]
     },
     "execution_count": 40,
     "metadata": {},
     "output_type": "execute_result"
    }
   ],
   "source": [
    "gender_group.get_group((\"Europe\", \"Male\"))"
   ]
  },
  {
   "cell_type": "code",
   "execution_count": 60,
   "id": "bacaae0d-c3ba-488f-a70e-6f0d16a43d7f",
   "metadata": {},
   "outputs": [
    {
     "data": {
      "image/png": "[encoded data removed]",
      "text/plain": [
       "<Figure size 600x400 with 1 Axes>"
      ]
     },
     "metadata": {},
     "output_type": "display_data"
    }
   ],
   "source": [
    "fig, axes = plt.subplots(figsize=(6,4))\n",
    "\n",
    "labels = np.arange(len(gender_group.index))\n",
    "\n",
    "width = 0.3\n",
    "offset = 0\n",
    "\n",
    "for label, values in gender_group.items():\n",
    "    bar = axes.bar(labels+offset, values, label=label, width=width)\n",
    "    offset += width\n",
    "    axes.bar_label(bar)\n",
    "    \n",
    "midpoint = labels+(len(gender_group.columns)*width)/2\n",
    "axes.set_xticks(midpoint-(width/2), gender_group.index)\n",
    "axes.set_title(\"gender distribution vary in different regions\", fontsize=10)\n",
    "axes.set_xlabel(\"Countries\")\n",
    "axes.set_ylabel(\"No. of male and female\")\n",
    "plt.legend()\n",
    "\n",
    "plt.show()"
   ]
  },
  {
   "cell_type": "markdown",
   "id": "5518cd7c-432f-47ec-b35a-47cb302f0380",
   "metadata": {},
   "source": [
    "## What is the distribution of income levels among different education categories?"
   ]
  },
  {
   "cell_type": "code",
   "execution_count": 61,
   "id": "1c26f589-ed50-4ef7-8458-0c50ec53f775",
   "metadata": {},
   "outputs": [
    {
     "data": {
      "text/html": [
       "<div>\n",
       "<style scoped>\n",
       "    .dataframe tbody tr th:only-of-type {\n",
       "        vertical-align: middle;\n",
       "    }\n",
       "\n",
       "    .dataframe tbody tr th {\n",
       "        vertical-align: top;\n",
       "    }\n",
       "\n",
       "    .dataframe thead th {\n",
       "        text-align: right;\n",
       "    }\n",
       "</style>\n",
       "<table border=\"1\" class=\"dataframe\">\n",
       "  <thead>\n",
       "    <tr style=\"text-align: right;\">\n",
       "      <th>Income</th>\n",
       "      <th>10000</th>\n",
       "      <th>20000</th>\n",
       "      <th>30000</th>\n",
       "      <th>40000</th>\n",
       "      <th>50000</th>\n",
       "      <th>60000</th>\n",
       "      <th>70000</th>\n",
       "      <th>80000</th>\n",
       "      <th>90000</th>\n",
       "      <th>100000</th>\n",
       "      <th>110000</th>\n",
       "      <th>120000</th>\n",
       "      <th>130000</th>\n",
       "      <th>150000</th>\n",
       "      <th>160000</th>\n",
       "      <th>170000</th>\n",
       "    </tr>\n",
       "    <tr>\n",
       "      <th>Education</th>\n",
       "      <th></th>\n",
       "      <th></th>\n",
       "      <th></th>\n",
       "      <th></th>\n",
       "      <th></th>\n",
       "      <th></th>\n",
       "      <th></th>\n",
       "      <th></th>\n",
       "      <th></th>\n",
       "      <th></th>\n",
       "      <th></th>\n",
       "      <th></th>\n",
       "      <th></th>\n",
       "      <th></th>\n",
       "      <th></th>\n",
       "      <th></th>\n",
       "    </tr>\n",
       "  </thead>\n",
       "  <tbody>\n",
       "    <tr>\n",
       "      <th>Bachelors</th>\n",
       "      <td>4.0</td>\n",
       "      <td>11.0</td>\n",
       "      <td>30.0</td>\n",
       "      <td>49.0</td>\n",
       "      <td>20.0</td>\n",
       "      <td>56.0</td>\n",
       "      <td>49.0</td>\n",
       "      <td>36.0</td>\n",
       "      <td>15.0</td>\n",
       "      <td>11.0</td>\n",
       "      <td>10.0</td>\n",
       "      <td>7.0</td>\n",
       "      <td>7.0</td>\n",
       "      <td>1.0</td>\n",
       "      <td>NaN</td>\n",
       "      <td>NaN</td>\n",
       "    </tr>\n",
       "    <tr>\n",
       "      <th>Graduate Degree</th>\n",
       "      <td>8.0</td>\n",
       "      <td>3.0</td>\n",
       "      <td>8.0</td>\n",
       "      <td>12.0</td>\n",
       "      <td>19.0</td>\n",
       "      <td>42.0</td>\n",
       "      <td>31.0</td>\n",
       "      <td>27.0</td>\n",
       "      <td>4.0</td>\n",
       "      <td>6.0</td>\n",
       "      <td>NaN</td>\n",
       "      <td>1.0</td>\n",
       "      <td>11.0</td>\n",
       "      <td>NaN</td>\n",
       "      <td>1.0</td>\n",
       "      <td>1.0</td>\n",
       "    </tr>\n",
       "    <tr>\n",
       "      <th>High School</th>\n",
       "      <td>18.0</td>\n",
       "      <td>25.0</td>\n",
       "      <td>36.0</td>\n",
       "      <td>43.0</td>\n",
       "      <td>NaN</td>\n",
       "      <td>19.0</td>\n",
       "      <td>8.0</td>\n",
       "      <td>6.0</td>\n",
       "      <td>8.0</td>\n",
       "      <td>3.0</td>\n",
       "      <td>1.0</td>\n",
       "      <td>4.0</td>\n",
       "      <td>5.0</td>\n",
       "      <td>2.0</td>\n",
       "      <td>1.0</td>\n",
       "      <td>NaN</td>\n",
       "    </tr>\n",
       "    <tr>\n",
       "      <th>Partial College</th>\n",
       "      <td>21.0</td>\n",
       "      <td>15.0</td>\n",
       "      <td>53.0</td>\n",
       "      <td>45.0</td>\n",
       "      <td>1.0</td>\n",
       "      <td>46.0</td>\n",
       "      <td>29.0</td>\n",
       "      <td>18.0</td>\n",
       "      <td>9.0</td>\n",
       "      <td>8.0</td>\n",
       "      <td>5.0</td>\n",
       "      <td>2.0</td>\n",
       "      <td>9.0</td>\n",
       "      <td>1.0</td>\n",
       "      <td>1.0</td>\n",
       "      <td>2.0</td>\n",
       "    </tr>\n",
       "    <tr>\n",
       "      <th>Partial High School</th>\n",
       "      <td>23.0</td>\n",
       "      <td>23.0</td>\n",
       "      <td>7.0</td>\n",
       "      <td>4.0</td>\n",
       "      <td>NaN</td>\n",
       "      <td>3.0</td>\n",
       "      <td>6.0</td>\n",
       "      <td>4.0</td>\n",
       "      <td>2.0</td>\n",
       "      <td>1.0</td>\n",
       "      <td>NaN</td>\n",
       "      <td>3.0</td>\n",
       "      <td>NaN</td>\n",
       "      <td>NaN</td>\n",
       "      <td>NaN</td>\n",
       "      <td>NaN</td>\n",
       "    </tr>\n",
       "  </tbody>\n",
       "</table>\n",
       "</div>"
      ],
      "text/plain": [
       "Income               10000   20000   30000   40000   50000   60000   70000   \\\n",
       "Education                                                                     \n",
       "Bachelors               4.0    11.0    30.0    49.0    20.0    56.0    49.0   \n",
       "Graduate Degree         8.0     3.0     8.0    12.0    19.0    42.0    31.0   \n",
       "High School            18.0    25.0    36.0    43.0     NaN    19.0     8.0   \n",
       "Partial College        21.0    15.0    53.0    45.0     1.0    46.0    29.0   \n",
       "Partial High School    23.0    23.0     7.0     4.0     NaN     3.0     6.0   \n",
       "\n",
       "Income               80000   90000   100000  110000  120000  130000  150000  \\\n",
       "Education                                                                     \n",
       "Bachelors              36.0    15.0    11.0    10.0     7.0     7.0     1.0   \n",
       "Graduate Degree        27.0     4.0     6.0     NaN     1.0    11.0     NaN   \n",
       "High School             6.0     8.0     3.0     1.0     4.0     5.0     2.0   \n",
       "Partial College        18.0     9.0     8.0     5.0     2.0     9.0     1.0   \n",
       "Partial High School     4.0     2.0     1.0     NaN     3.0     NaN     NaN   \n",
       "\n",
       "Income               160000  170000  \n",
       "Education                            \n",
       "Bachelors               NaN     NaN  \n",
       "Graduate Degree         1.0     1.0  \n",
       "High School             1.0     NaN  \n",
       "Partial College         1.0     2.0  \n",
       "Partial High School     NaN     NaN  "
      ]
     },
     "execution_count": 61,
     "metadata": {},
     "output_type": "execute_result"
    }
   ],
   "source": [
    "education_group = df.groupby([\"Education\", \"Income\"]).size().unstack()\n",
    "education_group"
   ]
  },
  {
   "cell_type": "markdown",
   "id": "0dd981ee-5ac4-4ce2-b4f2-423824015a8e",
   "metadata": {},
   "source": [
    "## Can you create a histogram showing the distribution of ages in the dataset?"
   ]
  },
  {
   "cell_type": "code",
   "execution_count": 73,
   "id": "f88532c2-1b0b-49c8-bd1c-90ab74410e86",
   "metadata": {},
   "outputs": [
    {
     "data": {
      "text/plain": [
       "<matplotlib.legend.Legend at 0x15763dbd450>"
      ]
     },
     "execution_count": 73,
     "metadata": {},
     "output_type": "execute_result"
    },
    {
     "data": {
      "image/png": "[encoded data removed]",
      "text/plain": [
       "<Figure size 640x480 with 1 Axes>"
      ]
     },
     "metadata": {},
     "output_type": "display_data"
    }
   ],
   "source": [
    "plt.hist(df[\"Age\"])\n",
    "plt.vlines(df[\"Age\"].mean(), 0 , 200, color=\"red\", label=\"mean\")\n",
    "plt.vlines(df[\"Age\"].median(), 0 , 200, color=\"yellow\", label=\"median\")\n",
    "plt.title(\"Distribution of ages\", fontsize=10)\n",
    "plt.legend()"
   ]
  },
  {
   "cell_type": "markdown",
   "id": "e98f5ea2-d864-4a04-83f7-21ecef24ac8d",
   "metadata": {},
   "source": [
    "## What is the relationship between the number of children and home ownership"
   ]
  },
  {
   "cell_type": "code",
   "execution_count": 87,
   "id": "e0aef746-11be-45b0-b06e-0df93ff631bc",
   "metadata": {},
   "outputs": [
    {
     "data": {
      "text/html": [
       "<div>\n",
       "<style scoped>\n",
       "    .dataframe tbody tr th:only-of-type {\n",
       "        vertical-align: middle;\n",
       "    }\n",
       "\n",
       "    .dataframe tbody tr th {\n",
       "        vertical-align: top;\n",
       "    }\n",
       "\n",
       "    .dataframe thead th {\n",
       "        text-align: right;\n",
       "    }\n",
       "</style>\n",
       "<table border=\"1\" class=\"dataframe\">\n",
       "  <thead>\n",
       "    <tr style=\"text-align: right;\">\n",
       "      <th>Home Owner</th>\n",
       "      <th>No</th>\n",
       "      <th>Yes</th>\n",
       "    </tr>\n",
       "    <tr>\n",
       "      <th>Children</th>\n",
       "      <th></th>\n",
       "      <th></th>\n",
       "    </tr>\n",
       "  </thead>\n",
       "  <tbody>\n",
       "    <tr>\n",
       "      <th>0</th>\n",
       "      <td>133</td>\n",
       "      <td>144</td>\n",
       "    </tr>\n",
       "    <tr>\n",
       "      <th>1</th>\n",
       "      <td>33</td>\n",
       "      <td>137</td>\n",
       "    </tr>\n",
       "    <tr>\n",
       "      <th>2</th>\n",
       "      <td>63</td>\n",
       "      <td>147</td>\n",
       "    </tr>\n",
       "    <tr>\n",
       "      <th>3</th>\n",
       "      <td>41</td>\n",
       "      <td>94</td>\n",
       "    </tr>\n",
       "    <tr>\n",
       "      <th>4</th>\n",
       "      <td>25</td>\n",
       "      <td>102</td>\n",
       "    </tr>\n",
       "    <tr>\n",
       "      <th>5</th>\n",
       "      <td>20</td>\n",
       "      <td>61</td>\n",
       "    </tr>\n",
       "  </tbody>\n",
       "</table>\n",
       "</div>"
      ],
      "text/plain": [
       "Home Owner   No  Yes\n",
       "Children            \n",
       "0           133  144\n",
       "1            33  137\n",
       "2            63  147\n",
       "3            41   94\n",
       "4            25  102\n",
       "5            20   61"
      ]
     },
     "execution_count": 87,
     "metadata": {},
     "output_type": "execute_result"
    }
   ],
   "source": [
    "home_group = df.groupby([\"Children\", \"Home Owner\"]).size().unstack()\n",
    "home_group"
   ]
  },
  {
   "cell_type": "code",
   "execution_count": 90,
   "id": "1d456d3b-0fd6-4c12-8e4d-8b5ac34d9386",
   "metadata": {},
   "outputs": [
    {
     "data": {
      "image/png": "[encoded data removed]",
      "text/plain": [
       "<Figure size 1000x400 with 1 Axes>"
      ]
     },
     "metadata": {},
     "output_type": "display_data"
    }
   ],
   "source": [
    "fig , axes = plt.subplots(figsize=(10,4))\n",
    "\n",
    "labels = np.arange(len(home_group.index))\n",
    "\n",
    "offset = 0 \n",
    "width = 0.3\n",
    "\n",
    "for owner, children in home_group.items():\n",
    "    axes.bar(labels+offset, children, label=owner, width=width)\n",
    "    offset += width\n",
    "\n",
    "midpoint = labels+(len(home_group.columns)*width)/2\n",
    "axes.set_xticks(midpoint-(width/2), home_group.index)\n",
    "axes.set_title(\"Relationship between children and house ownership\")\n",
    "axes.set_xlabel(\"No. of childrens\")\n",
    "axes.set_ylabel('Counts')\n",
    "plt.legend()\n",
    "plt.show()"
   ]
  },
  {
   "cell_type": "markdown",
   "id": "63d0bcaa-3996-4c59-b260-6ddcd387f562",
   "metadata": {},
   "source": [
    "## What is the distribution of occupations in the dataset"
   ]
  },
  {
   "cell_type": "code",
   "execution_count": 106,
   "id": "8686a7d6-73df-4f91-8969-7c5106132f51",
   "metadata": {},
   "outputs": [
    {
     "data": {
      "image/png": "[encoded data removed]",
      "text/plain": [
       "<Figure size 400x400 with 1 Axes>"
      ]
     },
     "metadata": {},
     "output_type": "display_data"
    }
   ],
   "source": [
    "occupation_group = df.groupby(\"Occupation\").size()\n",
    "\n",
    "fig, axes = plt.subplots(figsize=(4,4))\n",
    "\n",
    "axes.pie(occupation_group, labels = occupation_group.index, autopct=\"%1.1f%%\", shadow=True,startangle=20)\n",
    "axes.set_title(\"Distribution of Occupations\", fontsize=10)\n",
    "plt.show()"
   ]
  },
  {
   "cell_type": "markdown",
   "id": "23d36499-19ca-4e8e-ac81-b2690d2d7959",
   "metadata": {},
   "source": [
    "## How many individuals own cars, and how does this vary by gender"
   ]
  },
  {
   "cell_type": "code",
   "execution_count": 108,
   "id": "ab32eab6-df02-43f8-9533-f2d01c7dc22b",
   "metadata": {},
   "outputs": [
    {
     "data": {
      "text/html": [
       "<div>\n",
       "<style scoped>\n",
       "    .dataframe tbody tr th:only-of-type {\n",
       "        vertical-align: middle;\n",
       "    }\n",
       "\n",
       "    .dataframe tbody tr th {\n",
       "        vertical-align: top;\n",
       "    }\n",
       "\n",
       "    .dataframe thead th {\n",
       "        text-align: right;\n",
       "    }\n",
       "</style>\n",
       "<table border=\"1\" class=\"dataframe\">\n",
       "  <thead>\n",
       "    <tr style=\"text-align: right;\">\n",
       "      <th>Gender</th>\n",
       "      <th>Female</th>\n",
       "      <th>Male</th>\n",
       "    </tr>\n",
       "    <tr>\n",
       "      <th>Cars</th>\n",
       "      <th></th>\n",
       "      <th></th>\n",
       "    </tr>\n",
       "  </thead>\n",
       "  <tbody>\n",
       "    <tr>\n",
       "      <th>0</th>\n",
       "      <td>130</td>\n",
       "      <td>113</td>\n",
       "    </tr>\n",
       "    <tr>\n",
       "      <th>1</th>\n",
       "      <td>135</td>\n",
       "      <td>132</td>\n",
       "    </tr>\n",
       "    <tr>\n",
       "      <th>2</th>\n",
       "      <td>165</td>\n",
       "      <td>180</td>\n",
       "    </tr>\n",
       "    <tr>\n",
       "      <th>3</th>\n",
       "      <td>33</td>\n",
       "      <td>52</td>\n",
       "    </tr>\n",
       "    <tr>\n",
       "      <th>4</th>\n",
       "      <td>28</td>\n",
       "      <td>32</td>\n",
       "    </tr>\n",
       "  </tbody>\n",
       "</table>\n",
       "</div>"
      ],
      "text/plain": [
       "Gender  Female  Male\n",
       "Cars                \n",
       "0          130   113\n",
       "1          135   132\n",
       "2          165   180\n",
       "3           33    52\n",
       "4           28    32"
      ]
     },
     "execution_count": 108,
     "metadata": {},
     "output_type": "execute_result"
    }
   ],
   "source": [
    "car_group = df.groupby([\"Cars\", \"Gender\"]).size().unstack()\n",
    "car_group"
   ]
  },
  {
   "cell_type": "code",
   "execution_count": 111,
   "id": "6071545c-c81c-4040-b3ae-773ada6780c1",
   "metadata": {},
   "outputs": [
    {
     "data": {
      "image/png": "[encoded data removed]",
      "text/plain": [
       "<Figure size 1000x400 with 1 Axes>"
      ]
     },
     "metadata": {},
     "output_type": "display_data"
    }
   ],
   "source": [
    "fig , axes = plt.subplots(figsize=(10,4))\n",
    "\n",
    "labels = np.arange(len(car_group.index))\n",
    "\n",
    "offset = 0 \n",
    "width = 0.3\n",
    "\n",
    "for gender, car in car_group.items():\n",
    "    axes.bar(labels+offset, car, label=gender, width=width)\n",
    "    offset += width\n",
    "\n",
    "midpoint = labels+(len(car_group.columns)*width)/2\n",
    "axes.set_xticks(midpoint-(width/2), car_group.index)\n",
    "axes.set_title(\"Relationship between children and house ownership\")\n",
    "axes.set_xlabel(\"No. of childrens\")\n",
    "axes.set_ylabel('Counts')\n",
    "plt.legend()\n",
    "plt.show()"
   ]
  },
  {
   "cell_type": "code",
   "execution_count": null,
   "id": "4edb2219-29c7-41f4-8245-a261ab29e31e",
   "metadata": {},
   "outputs": [],
   "source": []
  }
 ],
 "metadata": {
  "kernelspec": {
   "display_name": "Python 3 (ipykernel)",
   "language": "python",
   "name": "python3"
  },
  "language_info": {
   "codemirror_mode": {
    "name": "ipython",
    "version": 3
   },
   "file_extension": ".py",
   "mimetype": "text/x-python",
   "name": "python",
   "nbconvert_exporter": "python",
   "pygments_lexer": "ipython3",
   "version": "3.11.1"
  }
 },
 "nbformat": 4,
 "nbformat_minor": 5
}
