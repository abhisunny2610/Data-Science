{
 "cells": [
  {
   "cell_type": "markdown",
   "id": "0dba0e5a-365f-40dd-b5ad-d1cb60b4d743",
   "metadata": {},
   "source": [
    "## Bike Buyers Dataset Analystics\n"
   ]
  },
  {
   "cell_type": "code",
   "execution_count": 2,
   "id": "5d7c9923-4acc-44e1-a73f-f40a1e63a712",
   "metadata": {},
   "outputs": [],
   "source": [
    "import pandas as pd\n",
    "import numpy as np\n",
    "import matplotlib.pyplot as plt\n",
    "import seaborn as sns"
   ]
  },
  {
   "cell_type": "code",
   "execution_count": 3,
   "id": "6d21cb0f-7fbc-4073-a1ee-fc6ca1a06abe",
   "metadata": {},
   "outputs": [],
   "source": [
    "df = pd.read_csv(\"../Dataset/bike_buyers_clean.csv\")"
   ]
  },
  {
   "cell_type": "code",
   "execution_count": 4,
   "id": "4125bbfa-3bbb-4e09-beba-cbaef76f2bf0",
   "metadata": {},
   "outputs": [
    {
     "data": {
      "text/html": [
       "<div>\n",
       "<style scoped>\n",
       "    .dataframe tbody tr th:only-of-type {\n",
       "        vertical-align: middle;\n",
       "    }\n",
       "\n",
       "    .dataframe tbody tr th {\n",
       "        vertical-align: top;\n",
       "    }\n",
       "\n",
       "    .dataframe thead th {\n",
       "        text-align: right;\n",
       "    }\n",
       "</style>\n",
       "<table border=\"1\" class=\"dataframe\">\n",
       "  <thead>\n",
       "    <tr style=\"text-align: right;\">\n",
       "      <th></th>\n",
       "      <th>ID</th>\n",
       "      <th>Marital Status</th>\n",
       "      <th>Gender</th>\n",
       "      <th>Income</th>\n",
       "      <th>Children</th>\n",
       "      <th>Education</th>\n",
       "      <th>Occupation</th>\n",
       "      <th>Home Owner</th>\n",
       "      <th>Cars</th>\n",
       "      <th>Commute Distance</th>\n",
       "      <th>Region</th>\n",
       "      <th>Age</th>\n",
       "      <th>Purchased Bike</th>\n",
       "    </tr>\n",
       "  </thead>\n",
       "  <tbody>\n",
       "    <tr>\n",
       "      <th>0</th>\n",
       "      <td>12496</td>\n",
       "      <td>Married</td>\n",
       "      <td>Female</td>\n",
       "      <td>40000</td>\n",
       "      <td>1</td>\n",
       "      <td>Bachelors</td>\n",
       "      <td>Skilled Manual</td>\n",
       "      <td>Yes</td>\n",
       "      <td>0</td>\n",
       "      <td>0-1 Miles</td>\n",
       "      <td>Europe</td>\n",
       "      <td>42</td>\n",
       "      <td>No</td>\n",
       "    </tr>\n",
       "    <tr>\n",
       "      <th>1</th>\n",
       "      <td>24107</td>\n",
       "      <td>Married</td>\n",
       "      <td>Male</td>\n",
       "      <td>30000</td>\n",
       "      <td>3</td>\n",
       "      <td>Partial College</td>\n",
       "      <td>Clerical</td>\n",
       "      <td>Yes</td>\n",
       "      <td>1</td>\n",
       "      <td>0-1 Miles</td>\n",
       "      <td>Europe</td>\n",
       "      <td>43</td>\n",
       "      <td>No</td>\n",
       "    </tr>\n",
       "    <tr>\n",
       "      <th>2</th>\n",
       "      <td>14177</td>\n",
       "      <td>Married</td>\n",
       "      <td>Male</td>\n",
       "      <td>80000</td>\n",
       "      <td>5</td>\n",
       "      <td>Partial College</td>\n",
       "      <td>Professional</td>\n",
       "      <td>No</td>\n",
       "      <td>2</td>\n",
       "      <td>2-5 Miles</td>\n",
       "      <td>Europe</td>\n",
       "      <td>60</td>\n",
       "      <td>No</td>\n",
       "    </tr>\n",
       "    <tr>\n",
       "      <th>3</th>\n",
       "      <td>24381</td>\n",
       "      <td>Single</td>\n",
       "      <td>Male</td>\n",
       "      <td>70000</td>\n",
       "      <td>0</td>\n",
       "      <td>Bachelors</td>\n",
       "      <td>Professional</td>\n",
       "      <td>Yes</td>\n",
       "      <td>1</td>\n",
       "      <td>5-10 Miles</td>\n",
       "      <td>Pacific</td>\n",
       "      <td>41</td>\n",
       "      <td>Yes</td>\n",
       "    </tr>\n",
       "    <tr>\n",
       "      <th>4</th>\n",
       "      <td>25597</td>\n",
       "      <td>Single</td>\n",
       "      <td>Male</td>\n",
       "      <td>30000</td>\n",
       "      <td>0</td>\n",
       "      <td>Bachelors</td>\n",
       "      <td>Clerical</td>\n",
       "      <td>No</td>\n",
       "      <td>0</td>\n",
       "      <td>0-1 Miles</td>\n",
       "      <td>Europe</td>\n",
       "      <td>36</td>\n",
       "      <td>Yes</td>\n",
       "    </tr>\n",
       "  </tbody>\n",
       "</table>\n",
       "</div>"
      ],
      "text/plain": [
       "      ID Marital Status  Gender  Income  Children        Education  \\\n",
       "0  12496        Married  Female   40000         1        Bachelors   \n",
       "1  24107        Married    Male   30000         3  Partial College   \n",
       "2  14177        Married    Male   80000         5  Partial College   \n",
       "3  24381         Single    Male   70000         0        Bachelors   \n",
       "4  25597         Single    Male   30000         0        Bachelors   \n",
       "\n",
       "       Occupation Home Owner  Cars Commute Distance   Region  Age  \\\n",
       "0  Skilled Manual        Yes     0        0-1 Miles   Europe   42   \n",
       "1        Clerical        Yes     1        0-1 Miles   Europe   43   \n",
       "2    Professional         No     2        2-5 Miles   Europe   60   \n",
       "3    Professional        Yes     1       5-10 Miles  Pacific   41   \n",
       "4        Clerical         No     0        0-1 Miles   Europe   36   \n",
       "\n",
       "  Purchased Bike  \n",
       "0             No  \n",
       "1             No  \n",
       "2             No  \n",
       "3            Yes  \n",
       "4            Yes  "
      ]
     },
     "execution_count": 4,
     "metadata": {},
     "output_type": "execute_result"
    }
   ],
   "source": [
    "df.head()"
   ]
  },
  {
   "cell_type": "code",
   "execution_count": 5,
   "id": "cfa40501-7650-41e3-9a01-26f9ae848f63",
   "metadata": {},
   "outputs": [
    {
     "data": {
      "text/plain": [
       "ID                  0\n",
       "Marital Status      0\n",
       "Gender              0\n",
       "Income              0\n",
       "Children            0\n",
       "Education           0\n",
       "Occupation          0\n",
       "Home Owner          0\n",
       "Cars                0\n",
       "Commute Distance    0\n",
       "Region              0\n",
       "Age                 0\n",
       "Purchased Bike      0\n",
       "dtype: int64"
      ]
     },
     "execution_count": 5,
     "metadata": {},
     "output_type": "execute_result"
    }
   ],
   "source": [
    "df.isna().sum()"
   ]
  },
  {
   "cell_type": "code",
   "execution_count": 6,
   "id": "6d7eac63-361f-4ab5-a640-664dc623792d",
   "metadata": {},
   "outputs": [
    {
     "data": {
      "text/plain": [
       "ID                   int64\n",
       "Marital Status      object\n",
       "Gender              object\n",
       "Income               int64\n",
       "Children             int64\n",
       "Education           object\n",
       "Occupation          object\n",
       "Home Owner          object\n",
       "Cars                 int64\n",
       "Commute Distance    object\n",
       "Region              object\n",
       "Age                  int64\n",
       "Purchased Bike      object\n",
       "dtype: object"
      ]
     },
     "execution_count": 6,
     "metadata": {},
     "output_type": "execute_result"
    }
   ],
   "source": [
    "df.dtypes"
   ]
  },
  {
   "cell_type": "markdown",
   "id": "1a897b4f-a8ad-4b3d-9c9b-773a92137192",
   "metadata": {},
   "source": [
    "### Who buy more bikes married or single with category male or female"
   ]
  },
  {
   "cell_type": "code",
   "execution_count": 7,
   "id": "cb04d668-90d4-4be2-ab59-b96e2d444310",
   "metadata": {},
   "outputs": [],
   "source": [
    "marital_status_group = df.groupby([\"Marital Status\", \"Purchased Bike\"]).size().unstack()"
   ]
  },
  {
   "cell_type": "code",
   "execution_count": 8,
   "id": "10b37fd1-a3c7-4f95-a5d7-c15b71bdbf70",
   "metadata": {},
   "outputs": [
    {
     "data": {
      "text/html": [
       "<div>\n",
       "<style scoped>\n",
       "    .dataframe tbody tr th:only-of-type {\n",
       "        vertical-align: middle;\n",
       "    }\n",
       "\n",
       "    .dataframe tbody tr th {\n",
       "        vertical-align: top;\n",
       "    }\n",
       "\n",
       "    .dataframe thead th {\n",
       "        text-align: right;\n",
       "    }\n",
       "</style>\n",
       "<table border=\"1\" class=\"dataframe\">\n",
       "  <thead>\n",
       "    <tr style=\"text-align: right;\">\n",
       "      <th>Purchased Bike</th>\n",
       "      <th>No</th>\n",
       "      <th>Yes</th>\n",
       "    </tr>\n",
       "    <tr>\n",
       "      <th>Marital Status</th>\n",
       "      <th></th>\n",
       "      <th></th>\n",
       "    </tr>\n",
       "  </thead>\n",
       "  <tbody>\n",
       "    <tr>\n",
       "      <th>Married</th>\n",
       "      <td>307</td>\n",
       "      <td>232</td>\n",
       "    </tr>\n",
       "    <tr>\n",
       "      <th>Single</th>\n",
       "      <td>212</td>\n",
       "      <td>249</td>\n",
       "    </tr>\n",
       "  </tbody>\n",
       "</table>\n",
       "</div>"
      ],
      "text/plain": [
       "Purchased Bike   No  Yes\n",
       "Marital Status          \n",
       "Married         307  232\n",
       "Single          212  249"
      ]
     },
     "execution_count": 8,
     "metadata": {},
     "output_type": "execute_result"
    }
   ],
   "source": [
    "marital_status_group"
   ]
  },
  {
   "cell_type": "code",
   "execution_count": 9,
   "id": "382c3d4b-bbc9-4884-b597-965940120f3c",
   "metadata": {},
   "outputs": [
    {
     "data": {
      "text/plain": [
       "<Axes: xlabel='Marital Status'>"
      ]
     },
     "execution_count": 9,
     "metadata": {},
     "output_type": "execute_result"
    },
    {
     "data": {
      "image/png": "[encoded data removed]",
      "text/plain": [
       "<Figure size 640x480 with 1 Axes>"
      ]
     },
     "metadata": {},
     "output_type": "display_data"
    }
   ],
   "source": [
    "marital_status_group.plot(kind=\"bar\", stacked=True,)"
   ]
  },
  {
   "cell_type": "code",
   "execution_count": 10,
   "id": "b836dfd8-db4a-47af-80a4-be95ca273204",
   "metadata": {},
   "outputs": [
    {
     "data": {
      "text/plain": [
       "(array([151., 287.,  40., 289.,  91.,  67.,  33.,  32.,   4.,   6.]),\n",
       " array([ 10000.,  26000.,  42000.,  58000.,  74000.,  90000., 106000.,\n",
       "        122000., 138000., 154000., 170000.]),\n",
       " <BarContainer object of 10 artists>)"
      ]
     },
     "execution_count": 10,
     "metadata": {},
     "output_type": "execute_result"
    },
    {
     "data": {
      "image/png": "[encoded data removed]",
      "text/plain": [
       "<Figure size 640x480 with 1 Axes>"
      ]
     },
     "metadata": {},
     "output_type": "display_data"
    }
   ],
   "source": [
    "plt.hist(df[\"Income\"])"
   ]
  },
  {
   "cell_type": "markdown",
   "id": "1bd66f82-17a5-4327-aef8-a0795038cda4",
   "metadata": {},
   "source": [
    "\n",
    "\r\n",
    "1. What is the distribution of marital status in the dataset?\r\n",
    "2. How does gender distribution vary in different regions?\r\n",
    "3. What is the distribution of income levels among different education categories?\r\n",
    "4. Can you create a histogram showing the distribution of ages in the dataset?\r\n",
    "5. What is the relationship between the number of children and home ownership?\r\n",
    "6. What is the distribution of occupations in the dataset?\r\n",
    "7. How many individuals own cars, and how does this vary by gender?\r\n",
    "8. What is the most common commute distance for individuals in the dataset?\r\n",
    "9. How does the education level impact the likelihood of purchasing a bike?\r\n",
    "10. Are there any correlations between income and the number of cars owned?\r\n",
    "11. What is the age distribution of individuals who have purchased a bike?\r\n",
    "12. What is the distribution of income levels for bike owners?\r\n",
    "13. How do different regions compare in terms of bike purchases?\r\n",
    "14. What is the average age of individuals by gender?\r\n",
    "15. Can you create a scatter plot showing the relationship between income and age?\r\n",
    "16. How does the number of children affect the likelihood of being a home owner?\r\n",
    "17. Are there any trends in bike purchases over time (e.g., by age)?\r\n",
    "18. What is the distribution of income levels for different marital statuses?\r\n",
    "19. How does occupation vary with respect to gender?\r\n",
    "20. What is the distribution of commute distances iers to these questions."
   ]
  },
  {
   "cell_type": "markdown",
   "id": "a6832910-5794-4476-9cd3-6ecc0c0a3be4",
   "metadata": {},
   "source": [
    "## What is the distribution of marital status in the dataset?"
   ]
  },
  {
   "cell_type": "code",
   "execution_count": 20,
   "id": "4dd253d8-6776-41ca-a7a6-dc8a2b4b9f5b",
   "metadata": {},
   "outputs": [
    {
     "data": {
      "text/plain": [
       "Marital Status\n",
       "Married    539\n",
       "Single     461\n",
       "dtype: int64"
      ]
     },
     "execution_count": 20,
     "metadata": {},
     "output_type": "execute_result"
    }
   ],
   "source": [
    "marital_group = df.groupby(\"Marital Status\").size()\n",
    "marital_group"
   ]
  },
  {
   "cell_type": "code",
   "execution_count": 30,
   "id": "4fcda1dc-1de5-441d-a311-66fe2e73b984",
   "metadata": {},
   "outputs": [
    {
     "data": {
      "image/png": "[encoded data removed]",
      "text/plain": [
       "<Figure size 300x300 with 1 Axes>"
      ]
     },
     "metadata": {},
     "output_type": "display_data"
    }
   ],
   "source": [
    "fig, axes = plt.subplots(figsize=(3,3))\n",
    "\n",
    "axes.pie(marital_group, labels=marital_group.index, autopct='%1.1f%%', colors=[\"light\", \"red\"])\n",
    "plt.show()"
   ]
  },
  {
   "cell_type": "code",
   "execution_count": null,
   "id": "37f87825-ff3c-416f-baf3-675c4617b790",
   "metadata": {},
   "outputs": [],
   "source": []
  }
 ],
 "metadata": {
  "kernelspec": {
   "display_name": "Python 3 (ipykernel)",
   "language": "python",
   "name": "python3"
  },
  "language_info": {
   "codemirror_mode": {
    "name": "ipython",
    "version": 3
   },
   "file_extension": ".py",
   "mimetype": "text/x-python",
   "name": "python",
   "nbconvert_exporter": "python",
   "pygments_lexer": "ipython3",
   "version": "3.11.1"
  }
 },
 "nbformat": 4,
 "nbformat_minor": 5
}
