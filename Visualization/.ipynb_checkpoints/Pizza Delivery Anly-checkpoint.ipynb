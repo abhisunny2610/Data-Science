{
 "cells": [
  {
   "cell_type": "markdown",
   "id": "b8729fa1-0aec-4d52-a7e2-e03a8907a9bb",
   "metadata": {},
   "source": [
    "# Matplotlib\n",
    "\n",
    "Matplotlib is a low level graph plotting library in python that serves as a visualization utility.\n",
    "\n",
    "Matplotlib was created by John D. Hunter.\n",
    "\n",
    "Matplotlib is open source and we can use it freely.\n",
    "\n",
    "Matplotlib is mostily written in python, few segments are written in C, Objective-C and Javascript for plotform compatibility."
   ]
  },
  {
   "cell_type": "markdown",
   "id": "d1e8dce8-d0ab-4fc4-a66d-554fe00c8611",
   "metadata": {},
   "source": [
    "# Pyplot\n",
    "\n",
    "Most of the Matplotlib utilities lies under the `pyplot` submodule, and are usually imported under the `plt` alias.\n",
    "\n",
    "\n",
    "```python \n",
    "import matplotlib.pyplot as plt\n",
    "```"
   ]
  },
  {
   "cell_type": "code",
   "execution_count": 1,
   "id": "725d807e-3556-4581-885c-b60ca7790fde",
   "metadata": {},
   "outputs": [],
   "source": [
    "import pandas as pd\n",
    "import matplotlib.pyplot as plt\n",
    "import numpy as np"
   ]
  },
  {
   "cell_type": "code",
   "execution_count": 2,
   "id": "5507fa52-3023-47e6-89de-14d01fdd5583",
   "metadata": {},
   "outputs": [
    {
     "data": {
      "text/html": [
       "<div>\n",
       "<style scoped>\n",
       "    .dataframe tbody tr th:only-of-type {\n",
       "        vertical-align: middle;\n",
       "    }\n",
       "\n",
       "    .dataframe tbody tr th {\n",
       "        vertical-align: top;\n",
       "    }\n",
       "\n",
       "    .dataframe thead th {\n",
       "        text-align: right;\n",
       "    }\n",
       "</style>\n",
       "<table border=\"1\" class=\"dataframe\">\n",
       "  <thead>\n",
       "    <tr style=\"text-align: right;\">\n",
       "      <th></th>\n",
       "      <th>day</th>\n",
       "      <th>date</th>\n",
       "      <th>time</th>\n",
       "      <th>operator</th>\n",
       "      <th>branch</th>\n",
       "      <th>driver</th>\n",
       "      <th>temperature</th>\n",
       "      <th>bill</th>\n",
       "      <th>pizzas</th>\n",
       "      <th>free_wine</th>\n",
       "      <th>got_wine</th>\n",
       "      <th>discount_customer</th>\n",
       "    </tr>\n",
       "  </thead>\n",
       "  <tbody>\n",
       "    <tr>\n",
       "      <th>0</th>\n",
       "      <td>Thursday</td>\n",
       "      <td>01-May-14</td>\n",
       "      <td>35.128367</td>\n",
       "      <td>Laura</td>\n",
       "      <td>East</td>\n",
       "      <td>Bruno</td>\n",
       "      <td>68.287716</td>\n",
       "      <td>58.4</td>\n",
       "      <td>4</td>\n",
       "      <td>0</td>\n",
       "      <td>0</td>\n",
       "      <td>1</td>\n",
       "    </tr>\n",
       "    <tr>\n",
       "      <th>1</th>\n",
       "      <td>Thursday</td>\n",
       "      <td>01-May-14</td>\n",
       "      <td>25.203074</td>\n",
       "      <td>Melissa</td>\n",
       "      <td>East</td>\n",
       "      <td>Salvatore</td>\n",
       "      <td>70.997791</td>\n",
       "      <td>26.4</td>\n",
       "      <td>2</td>\n",
       "      <td>0</td>\n",
       "      <td>0</td>\n",
       "      <td>0</td>\n",
       "    </tr>\n",
       "    <tr>\n",
       "      <th>2</th>\n",
       "      <td>Thursday</td>\n",
       "      <td>01-May-14</td>\n",
       "      <td>45.643404</td>\n",
       "      <td>Melissa</td>\n",
       "      <td>West</td>\n",
       "      <td>Salvatore</td>\n",
       "      <td>53.394145</td>\n",
       "      <td>58.1</td>\n",
       "      <td>3</td>\n",
       "      <td>1</td>\n",
       "      <td>0</td>\n",
       "      <td>0</td>\n",
       "    </tr>\n",
       "    <tr>\n",
       "      <th>3</th>\n",
       "      <td>Thursday</td>\n",
       "      <td>01-May-14</td>\n",
       "      <td>29.374298</td>\n",
       "      <td>Melissa</td>\n",
       "      <td>East</td>\n",
       "      <td>Salvatore</td>\n",
       "      <td>70.306596</td>\n",
       "      <td>35.2</td>\n",
       "      <td>3</td>\n",
       "      <td>0</td>\n",
       "      <td>0</td>\n",
       "      <td>0</td>\n",
       "    </tr>\n",
       "    <tr>\n",
       "      <th>4</th>\n",
       "      <td>Thursday</td>\n",
       "      <td>01-May-14</td>\n",
       "      <td>29.994610</td>\n",
       "      <td>Melissa</td>\n",
       "      <td>West</td>\n",
       "      <td>Salvatore</td>\n",
       "      <td>71.501688</td>\n",
       "      <td>38.4</td>\n",
       "      <td>2</td>\n",
       "      <td>0</td>\n",
       "      <td>0</td>\n",
       "      <td>0</td>\n",
       "    </tr>\n",
       "  </tbody>\n",
       "</table>\n",
       "</div>"
      ],
      "text/plain": [
       "        day       date       time operator branch     driver  temperature  \\\n",
       "0  Thursday  01-May-14  35.128367    Laura   East      Bruno    68.287716   \n",
       "1  Thursday  01-May-14  25.203074  Melissa   East  Salvatore    70.997791   \n",
       "2  Thursday  01-May-14  45.643404  Melissa   West  Salvatore    53.394145   \n",
       "3  Thursday  01-May-14  29.374298  Melissa   East  Salvatore    70.306596   \n",
       "4  Thursday  01-May-14  29.994610  Melissa   West  Salvatore    71.501688   \n",
       "\n",
       "   bill  pizzas  free_wine  got_wine  discount_customer  \n",
       "0  58.4       4          0         0                  1  \n",
       "1  26.4       2          0         0                  0  \n",
       "2  58.1       3          1         0                  0  \n",
       "3  35.2       3          0         0                  0  \n",
       "4  38.4       2          0         0                  0  "
      ]
     },
     "execution_count": 2,
     "metadata": {},
     "output_type": "execute_result"
    }
   ],
   "source": [
    "df = pd.read_csv(\"../Dataset/pizza_delivery.csv\")\n",
    "\n",
    "df.head()"
   ]
  },
  {
   "cell_type": "code",
   "execution_count": 3,
   "id": "6a39a1d5-b257-45f4-b79b-af087b7804f6",
   "metadata": {},
   "outputs": [
    {
     "data": {
      "text/plain": [
       "(1266, 12)"
      ]
     },
     "execution_count": 3,
     "metadata": {},
     "output_type": "execute_result"
    }
   ],
   "source": [
    "df.shape"
   ]
  },
  {
   "cell_type": "markdown",
   "id": "65f52595-f23f-43a0-a89f-d4fe8055c3c2",
   "metadata": {},
   "source": [
    "`plot()` is used to draw points in a diagram or plot function is used to draw a line from points to points.\n",
    "\n",
    "`hist()` function is used to draw a histogram\n",
    "\n",
    "`Histogram :` A histograph is a graph showing frequency distributions"
   ]
  },
  {
   "cell_type": "code",
   "execution_count": 4,
   "id": "ec5b45db-6c79-4098-8888-61e542215c1e",
   "metadata": {
    "scrolled": true
   },
   "outputs": [
    {
     "data": {
      "text/plain": [
       "<matplotlib.collections.LineCollection at 0x1f55d7df010>"
      ]
     },
     "execution_count": 4,
     "metadata": {},
     "output_type": "execute_result"
    },
    {
     "data": {
      "image/png": "[encoded data removed]",
      "text/plain": [
       "<Figure size 640x480 with 1 Axes>"
      ]
     },
     "metadata": {},
     "output_type": "display_data"
    }
   ],
   "source": [
    "df.temperature.plot.hist()\n",
    "\n",
    "plt.vlines(df.temperature.mean(), 0,320, color=\"red\")"
   ]
  },
  {
   "cell_type": "markdown",
   "id": "c478165f-d70f-4ee3-8d4d-dbc7757f4bb5",
   "metadata": {},
   "source": [
    "`Frequency :` The frequency(f) of a particular is the number of times the value occurs in the data.\n",
    "\n",
    "`Gropus :` The data (or information) given in the form of class intervals such as 0-20, 20-40 and so on"
   ]
  },
  {
   "cell_type": "code",
   "execution_count": 5,
   "id": "69a4781f-4b08-422a-bec5-d96b9710c4d9",
   "metadata": {},
   "outputs": [],
   "source": [
    "frequencies, groups = np.histogram(df.temperature)"
   ]
  },
  {
   "cell_type": "code",
   "execution_count": 6,
   "id": "7a952a6f-6ec8-4d64-a8ed-929e03813010",
   "metadata": {},
   "outputs": [
    {
     "data": {
      "text/plain": [
       "array([  7,  46, 122, 270, 323, 284, 140,  54,  14,   6], dtype=int64)"
      ]
     },
     "execution_count": 6,
     "metadata": {},
     "output_type": "execute_result"
    }
   ],
   "source": [
    "frequencies"
   ]
  },
  {
   "cell_type": "code",
   "execution_count": 7,
   "id": "22329e5e-0c8d-49d7-a9ce-c95a5b668de5",
   "metadata": {},
   "outputs": [
    {
     "data": {
      "text/plain": [
       "array([41.75871798, 46.34108839, 50.9234588 , 55.5058292 , 60.08819961,\n",
       "       64.67057002, 69.25294043, 73.83531084, 78.41768124, 83.00005165,\n",
       "       87.58242206])"
      ]
     },
     "execution_count": 7,
     "metadata": {},
     "output_type": "execute_result"
    }
   ],
   "source": [
    "groups"
   ]
  },
  {
   "cell_type": "code",
   "execution_count": 8,
   "id": "7d31fd00-2707-4d8c-ae90-ef734e9ae9d4",
   "metadata": {},
   "outputs": [],
   "source": [
    "table = {f\"{groups[i]:.2f} - {groups[i + 1]:.2f}\":frequencies[i] for i in range(10)}"
   ]
  },
  {
   "cell_type": "code",
   "execution_count": 9,
   "id": "3a99449f-542d-43ce-8331-14f86b4f6852",
   "metadata": {},
   "outputs": [
    {
     "data": {
      "text/plain": [
       "41.76 - 46.34      7\n",
       "46.34 - 50.92     46\n",
       "50.92 - 55.51    122\n",
       "55.51 - 60.09    270\n",
       "60.09 - 64.67    323\n",
       "64.67 - 69.25    284\n",
       "69.25 - 73.84    140\n",
       "73.84 - 78.42     54\n",
       "78.42 - 83.00     14\n",
       "83.00 - 87.58      6\n",
       "dtype: int64"
      ]
     },
     "execution_count": 9,
     "metadata": {},
     "output_type": "execute_result"
    }
   ],
   "source": [
    "pd.Series(table)"
   ]
  },
  {
   "cell_type": "markdown",
   "id": "30a3a6d6-ece3-4853-847c-d0c20f69af55",
   "metadata": {},
   "source": [
    "### Mean and Median\n",
    "`Mean :` The mean (average) of a data set is founded by adding all numbers in the dataset and then dividing by the number of values in the set.\n",
    "\n",
    "`Median :` The median is the middle values when a dataset is sorted from least ton greatest. "
   ]
  },
  {
   "cell_type": "code",
   "execution_count": 10,
   "id": "bca0899b-07a8-412a-84d2-52dae4ea4cfb",
   "metadata": {},
   "outputs": [
    {
     "data": {
      "text/plain": [
       "62.86394976242496"
      ]
     },
     "execution_count": 10,
     "metadata": {},
     "output_type": "execute_result"
    }
   ],
   "source": [
    "df.temperature.mean()"
   ]
  },
  {
   "cell_type": "code",
   "execution_count": 11,
   "id": "f83d7a0e-79e9-4741-9488-64f606de034c",
   "metadata": {},
   "outputs": [
    {
     "data": {
      "text/plain": [
       "62.92665713"
      ]
     },
     "execution_count": 11,
     "metadata": {},
     "output_type": "execute_result"
    }
   ],
   "source": [
    "df.temperature.median()"
   ]
  },
  {
   "cell_type": "code",
   "execution_count": null,
   "id": "3bf336ce-7aaa-4c7e-ae2a-ba4265c76a8c",
   "metadata": {},
   "outputs": [],
   "source": []
  },
  {
   "cell_type": "code",
   "execution_count": 12,
   "id": "a56e33f4-b87a-4ca5-a513-624a7a01f518",
   "metadata": {},
   "outputs": [
    {
     "data": {
      "text/plain": [
       "6.9057076612181785"
      ]
     },
     "execution_count": 12,
     "metadata": {},
     "output_type": "execute_result"
    }
   ],
   "source": [
    "df.temperature.std()"
   ]
  },
  {
   "cell_type": "markdown",
   "id": "ee614093-b33a-461a-88f6-6c4cd62a3022",
   "metadata": {},
   "source": [
    "## Plotting temperature, time and bill histogram"
   ]
  },
  {
   "cell_type": "markdown",
   "id": "be431828-beec-434f-9895-10af9353f0c6",
   "metadata": {},
   "source": [
    "`subplots :` creates a figure and a grid of subplots with a single call, while providing reasonable control over how the individual plots are created.\n",
    "\n",
    "Subplot without arguments returns a figure and and a single axes.\n",
    "\n",
    "`figsize :` figsize size takes a two arguments 1st is width and 2nd is height and returns a figure with given height and width.\n",
    "\n",
    "`ncols :` number of columns in subplot. (optional) default value 1.\n",
    "\n",
    "`nrows :` number of rows in a single line in subplot. (optional) default value 1.\n",
    "\n",
    "`tight_layout :` tight_layout makes a proper space between figure (optional) default value False.\n",
    "\n",
    "`set_title :` set the title for a figure.\n",
    "\n",
    "`set_xlabel :` set the label for x axes.\n",
    "\n",
    "`set_ylabel :` set the label for y axes.\n"
   ]
  },
  {
   "cell_type": "code",
   "execution_count": 35,
   "id": "d9f81f4e-428a-40d4-8765-5cf5b56dcc60",
   "metadata": {},
   "outputs": [
    {
     "data": {
      "text/plain": [
       "<matplotlib.legend.Legend at 0x1f56f2e5ed0>"
      ]
     },
     "execution_count": 35,
     "metadata": {},
     "output_type": "execute_result"
    },
    {
     "data": {
      "image/png": "[encoded data removed]",
      "text/plain": [
       "<Figure size 1500x800 with 4 Axes>"
      ]
     },
     "metadata": {},
     "output_type": "display_data"
    }
   ],
   "source": [
    "fig, axeses = plt.subplots(figsize=(15,8), ncols=2, nrows=2, tight_layout = True)\n",
    "\n",
    "((axes1, axes2), (axes3, axes4)) = axeses\n",
    "\n",
    "axes1.hist(df.temperature, bins=30)\n",
    "axes1.set_title(\"Temperature Histogram\")\n",
    "axes1.set_xlabel(\"Temperature\")\n",
    "axes1.set_ylabel(\"Frequency\")\n",
    "axes1.vlines(df.temperature.mean(), 0, 100, label=\"Mean\", color=\"red\")\n",
    "axes1.vlines(df.temperature.median(), 0, 100, label=\"Median\", color=\"yellow\")\n",
    "axes1.legend()\n",
    "\n",
    "axes2.hist(df.time, bins=30)\n",
    "axes2.set_title(\"Time Histogram\")\n",
    "axes2.set_xlabel(\"Time\")\n",
    "axes2.set_ylabel(\"Frequency\")\n",
    "axes2.vlines(df.time.mean(), 0, 100, label=\"Mean\", color=\"red\")\n",
    "axes2.vlines(df.time.median(), 0, 100, label=\"Median\", color=\"yellow\")\n",
    "axes2.legend()\n",
    "\n",
    "axes3.hist(df.bill, bins=30)\n",
    "axes3.set_title(\"Bill Histogram\")\n",
    "axes3.set_xlabel(\"Bill\")\n",
    "axes3.set_ylabel(\"Frequency\")\n",
    "axes3.vlines(df.bill.mean(), 0, 100, label=\"Mean\", color=\"red\")\n",
    "axes3.vlines(df.bill.median(), 0, 100, label=\"Median\", color=\"yellow\")\n",
    "axes3.legend()"
   ]
  },
  {
   "cell_type": "markdown",
   "id": "5175b5ee-20bd-4adf-87ec-1e9a816d1524",
   "metadata": {},
   "source": [
    "## Frequency and relative frequency"
   ]
  },
  {
   "cell_type": "code",
   "execution_count": null,
   "id": "33512cd6-f7ea-4dc7-ba6a-323657623012",
   "metadata": {},
   "outputs": [],
   "source": []
  }
 ],
 "metadata": {
  "kernelspec": {
   "display_name": "Python 3 (ipykernel)",
   "language": "python",
   "name": "python3"
  },
  "language_info": {
   "codemirror_mode": {
    "name": "ipython",
    "version": 3
   },
   "file_extension": ".py",
   "mimetype": "text/x-python",
   "name": "python",
   "nbconvert_exporter": "python",
   "pygments_lexer": "ipython3",
   "version": "3.11.1"
  }
 },
 "nbformat": 4,
 "nbformat_minor": 5
}
