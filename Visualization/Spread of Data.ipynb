{
 "cells": [
  {
   "cell_type": "markdown",
   "id": "da675dc8-5b1b-4341-bb6e-c4626351b348",
   "metadata": {},
   "source": [
    "# Spread of Data\n",
    "\n",
    "When the data is only about one variable then it is called univariate data. \n",
    "\n",
    "**Example :** Data could be SAT scores, heights, or salaries. When the data set is small, it is easier to understand the data, when there is a large data set, to understand the data better, analysis must be done to draw some inferences from the data.\n",
    "\n",
    "Univariate data sets can be analyzed in two differnt ways:\n",
    "\n",
    "1. **Center of data :** is the summary of the entire set, mean or median are the measures representing the center of data.\n",
    "\n",
    "2. **Spread of data :** (also knows as variation, fluctuation, dispersion, etc.) is the measure of how far the data ranges from the center pf data (mean or median). **Range, Variance, Inter-Quartile Range (IQR), Standard Deviation.** are the measures of the spread of the data.\n",
    "\n",
    "   \n",
    "   |Max. Score = 100| Arun | John|\n",
    "   |-----|----|------|\n",
    "   |Math|100|45|\n",
    "   |Physics|40|65|\n",
    "   |Chemistry|20|70|\n",
    "   |Programming|100|80|\n",
    "   |**Average**|**65**|**65**|\n",
    "\n",
    "The average score for both students is equal. However, John is consistent at everything, while Arun is brilliant at math and programming, but terrible at chemistry. Clearly, it is difficult to judge the performance of the two students on the basis of their average scores alone. We need some additional measure to reveal the entire story.\n",
    "\n",
    "**Range :** The simplest measure of spread in data in the range. It is the difference between maximum value and the minimum value withinthe data set.\n",
    "\n",
    "    Example : Range of Arun is 100-20=80 and Range of John is 80-45=35. Through the average score are same for both, John is more consistent because he has smaller range of score.\n",
    "\n",
    "**Variance :** Dispersion, or spread of data, is measured in terms of how far the data differs from the mean. In other words, if mean is the centre of the data, if we get an idea about how far the individual data points deviate from the mean, we would have an idea about the spread. Therefore, a simple measure of dispersion could be an average of the differences about the mean.\n",
    "\n",
    "However, this average would have a problem. The actual data points could lie on either side of the mean, and thus, the deviations could be either positive or negative. Now, if we were to compute the average of these deviations, the negatives and positives would cancel out, and the average would be very low, or even zero.\r\n",
    "\r\n",
    "Take a look at the table below; the deviations are calculated as Value minus Mean, and the average of the deviations is calcuted:\n",
    "\n",
    "|Max. Score = 100| Arun |Deviation| John|Deviation|\n",
    "   |-----|-------|-------|----|------|\n",
    "   |Math|100|35|45|-20|\n",
    "   |Physics|40|-25|65|0|\n",
    "   |Chemistry|20|-45|70|5|\n",
    "   |Programming|100|35|80|15|\n",
    "   |**Average**|**65**|**0**|**65**|**0**|\n",
    "\n",
    "Does this mean that there are no deviations in the data? Clearly, that is untrue.\n",
    "\n",
    "We need to manipulate the negative values in some way, so as to get rid of the negative sign. This is usually done by squaring the values before computing the average of the squared deviations. The resulting average value is called the variance. In the table below, the deviations have been squared, and then averaged:\n",
    "\n",
    "|Max. Score = 100| Arun |Sq. Deviation| John|Sq. Deviation|\n",
    "   |-----|-------|-------|----|------|\n",
    "   |Math|100|1225|45|400|\n",
    "   |Physics|40|625|65|0|\n",
    "   |Chemistry|20|2025|70|25|\n",
    "   |Programming|100|1225|80|225|\n",
    "   |**Average**|**65**|**1275**|**65**|**162.5**|d:"
   ]
  },
  {
   "cell_type": "code",
   "execution_count": 1,
   "id": "3031cef2-795d-4954-a158-86addcec03d9",
   "metadata": {},
   "outputs": [],
   "source": [
    "import pandas as pd\n",
    "import numpy as np\n",
    "import matplotlib.pyplot as plt"
   ]
  },
  {
   "cell_type": "code",
   "execution_count": 2,
   "id": "41934a36-7f70-47ea-95eb-cb5b9469770c",
   "metadata": {},
   "outputs": [],
   "source": [
    "data = {'Max. Score = 100':[\"Math\", \"Physics\", \"Chemistry\", \"Programming\"],'Arun': [100,40,20,100],'John':[45,65,70,80]}\n",
    "\n",
    "df = pd.DataFrame(data)"
   ]
  },
  {
   "cell_type": "code",
   "execution_count": 3,
   "id": "4b43c62d-2274-4ab7-ac33-234a12fa8b42",
   "metadata": {},
   "outputs": [
    {
     "data": {
      "text/html": [
       "<div>\n",
       "<style scoped>\n",
       "    .dataframe tbody tr th:only-of-type {\n",
       "        vertical-align: middle;\n",
       "    }\n",
       "\n",
       "    .dataframe tbody tr th {\n",
       "        vertical-align: top;\n",
       "    }\n",
       "\n",
       "    .dataframe thead th {\n",
       "        text-align: right;\n",
       "    }\n",
       "</style>\n",
       "<table border=\"1\" class=\"dataframe\">\n",
       "  <thead>\n",
       "    <tr style=\"text-align: right;\">\n",
       "      <th></th>\n",
       "      <th>Arun</th>\n",
       "      <th>John</th>\n",
       "    </tr>\n",
       "    <tr>\n",
       "      <th>Max. Score = 100</th>\n",
       "      <th></th>\n",
       "      <th></th>\n",
       "    </tr>\n",
       "  </thead>\n",
       "  <tbody>\n",
       "    <tr>\n",
       "      <th>Math</th>\n",
       "      <td>100</td>\n",
       "      <td>45</td>\n",
       "    </tr>\n",
       "    <tr>\n",
       "      <th>Physics</th>\n",
       "      <td>40</td>\n",
       "      <td>65</td>\n",
       "    </tr>\n",
       "    <tr>\n",
       "      <th>Chemistry</th>\n",
       "      <td>20</td>\n",
       "      <td>70</td>\n",
       "    </tr>\n",
       "    <tr>\n",
       "      <th>Programming</th>\n",
       "      <td>100</td>\n",
       "      <td>80</td>\n",
       "    </tr>\n",
       "  </tbody>\n",
       "</table>\n",
       "</div>"
      ],
      "text/plain": [
       "                  Arun  John\n",
       "Max. Score = 100            \n",
       "Math               100    45\n",
       "Physics             40    65\n",
       "Chemistry           20    70\n",
       "Programming        100    80"
      ]
     },
     "execution_count": 3,
     "metadata": {},
     "output_type": "execute_result"
    }
   ],
   "source": [
    "df.set_index(\"Max. Score = 100\")"
   ]
  },
  {
   "cell_type": "code",
   "execution_count": 4,
   "id": "76cfa2a7-f285-429a-8978-bf6619b1adfb",
   "metadata": {},
   "outputs": [
    {
     "data": {
      "text/plain": [
       "65.0"
      ]
     },
     "execution_count": 4,
     "metadata": {},
     "output_type": "execute_result"
    }
   ],
   "source": [
    "df.Arun.mean()"
   ]
  },
  {
   "cell_type": "code",
   "execution_count": 5,
   "id": "e8d68c66-ce40-4231-a79f-a5c1aa647462",
   "metadata": {},
   "outputs": [
    {
     "data": {
      "text/plain": [
       "65.0"
      ]
     },
     "execution_count": 5,
     "metadata": {},
     "output_type": "execute_result"
    }
   ],
   "source": [
    "df.John.mean()"
   ]
  },
  {
   "cell_type": "code",
   "execution_count": 6,
   "id": "c8bf56f0-2aba-470c-a752-708d175ff680",
   "metadata": {},
   "outputs": [
    {
     "data": {
      "text/html": [
       "<div>\n",
       "<style scoped>\n",
       "    .dataframe tbody tr th:only-of-type {\n",
       "        vertical-align: middle;\n",
       "    }\n",
       "\n",
       "    .dataframe tbody tr th {\n",
       "        vertical-align: top;\n",
       "    }\n",
       "\n",
       "    .dataframe thead th {\n",
       "        text-align: right;\n",
       "    }\n",
       "</style>\n",
       "<table border=\"1\" class=\"dataframe\">\n",
       "  <thead>\n",
       "    <tr style=\"text-align: right;\">\n",
       "      <th></th>\n",
       "      <th>Arun</th>\n",
       "      <th>John</th>\n",
       "    </tr>\n",
       "  </thead>\n",
       "  <tbody>\n",
       "    <tr>\n",
       "      <th>count</th>\n",
       "      <td>4.000000</td>\n",
       "      <td>4.000000</td>\n",
       "    </tr>\n",
       "    <tr>\n",
       "      <th>mean</th>\n",
       "      <td>65.000000</td>\n",
       "      <td>65.000000</td>\n",
       "    </tr>\n",
       "    <tr>\n",
       "      <th>std</th>\n",
       "      <td>41.231056</td>\n",
       "      <td>14.719601</td>\n",
       "    </tr>\n",
       "    <tr>\n",
       "      <th>min</th>\n",
       "      <td>20.000000</td>\n",
       "      <td>45.000000</td>\n",
       "    </tr>\n",
       "    <tr>\n",
       "      <th>25%</th>\n",
       "      <td>35.000000</td>\n",
       "      <td>60.000000</td>\n",
       "    </tr>\n",
       "    <tr>\n",
       "      <th>50%</th>\n",
       "      <td>70.000000</td>\n",
       "      <td>67.500000</td>\n",
       "    </tr>\n",
       "    <tr>\n",
       "      <th>75%</th>\n",
       "      <td>100.000000</td>\n",
       "      <td>72.500000</td>\n",
       "    </tr>\n",
       "    <tr>\n",
       "      <th>max</th>\n",
       "      <td>100.000000</td>\n",
       "      <td>80.000000</td>\n",
       "    </tr>\n",
       "  </tbody>\n",
       "</table>\n",
       "</div>"
      ],
      "text/plain": [
       "             Arun       John\n",
       "count    4.000000   4.000000\n",
       "mean    65.000000  65.000000\n",
       "std     41.231056  14.719601\n",
       "min     20.000000  45.000000\n",
       "25%     35.000000  60.000000\n",
       "50%     70.000000  67.500000\n",
       "75%    100.000000  72.500000\n",
       "max    100.000000  80.000000"
      ]
     },
     "execution_count": 6,
     "metadata": {},
     "output_type": "execute_result"
    }
   ],
   "source": [
    "df.describe()"
   ]
  },
  {
   "cell_type": "code",
   "execution_count": 7,
   "id": "b80c54a4-eee6-44d5-bed2-396a7d8dfe15",
   "metadata": {},
   "outputs": [
    {
     "data": {
      "text/plain": [
       "41.23105625617661"
      ]
     },
     "execution_count": 7,
     "metadata": {},
     "output_type": "execute_result"
    }
   ],
   "source": [
    "df[\"Arun\"].std()"
   ]
  },
  {
   "cell_type": "code",
   "execution_count": null,
   "id": "1bcbd9d0-fb0f-44c2-bc17-18b50d72acfb",
   "metadata": {},
   "outputs": [],
   "source": []
  }
 ],
 "metadata": {
  "kernelspec": {
   "display_name": "Python 3 (ipykernel)",
   "language": "python",
   "name": "python3"
  },
  "language_info": {
   "codemirror_mode": {
    "name": "ipython",
    "version": 3
   },
   "file_extension": ".py",
   "mimetype": "text/x-python",
   "name": "python",
   "nbconvert_exporter": "python",
   "pygments_lexer": "ipython3",
   "version": "3.11.1"
  }
 },
 "nbformat": 4,
 "nbformat_minor": 5
}
