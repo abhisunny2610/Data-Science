{
 "cells": [
  {
   "cell_type": "markdown",
   "id": "e96927ec-66e6-45e3-888b-cc91384ec862",
   "metadata": {},
   "source": [
    "Q1. Create a list in python using the followings: 2,3,4,5,6,7 with variable ‘a’\r\n",
    "\r\n",
    "Add ‘mango to the above list\r\n",
    "\r\n",
    "Also add banana, grapes & orange in the list \r\n",
    "\r\n",
    "insert apple in the 5th position of a variable ‘a’\r\n",
    "\r\n",
    "Remove last item from the list\t"
   ]
  },
  {
   "cell_type": "code",
   "execution_count": 7,
   "id": "803d0580-4df2-4233-ba66-5ee7a21b1679",
   "metadata": {},
   "outputs": [],
   "source": [
    "a = [2,3,4,5,6,7]"
   ]
  },
  {
   "cell_type": "code",
   "execution_count": 12,
   "id": "02757d8d-60af-4da8-b624-dd827e2ee8e0",
   "metadata": {},
   "outputs": [],
   "source": [
    "a.append(\"mango\")"
   ]
  },
  {
   "cell_type": "code",
   "execution_count": 13,
   "id": "61aa0f0e-c063-44e0-be72-b5e5c131648b",
   "metadata": {},
   "outputs": [
    {
     "data": {
      "text/plain": [
       "[2, 3, 4, 5, 6, 7, 'mango']"
      ]
     },
     "execution_count": 13,
     "metadata": {},
     "output_type": "execute_result"
    }
   ],
   "source": [
    "a "
   ]
  },
  {
   "cell_type": "code",
   "execution_count": 15,
   "id": "28b750fa-336b-48f2-8881-41139f4a306e",
   "metadata": {},
   "outputs": [],
   "source": [
    "a.append([\"banana\", \"grapes\", \"orange\"])"
   ]
  },
  {
   "cell_type": "code",
   "execution_count": 16,
   "id": "67849578-045e-4419-bed3-822853d631ba",
   "metadata": {},
   "outputs": [
    {
     "data": {
      "text/plain": [
       "[2, 3, 4, 5, 6, 7, 'mango', ['banana', 'grapes', 'orange']]"
      ]
     },
     "execution_count": 16,
     "metadata": {},
     "output_type": "execute_result"
    }
   ],
   "source": [
    "a"
   ]
  },
  {
   "cell_type": "code",
   "execution_count": 17,
   "id": "13d97633-c32e-4137-a18a-9cbcb75f6b13",
   "metadata": {},
   "outputs": [],
   "source": [
    "a[5] = \"apple\""
   ]
  },
  {
   "cell_type": "code",
   "execution_count": 18,
   "id": "5d7829d8-0ac8-42ac-9a21-1379859929c8",
   "metadata": {},
   "outputs": [
    {
     "data": {
      "text/plain": [
       "[2, 3, 4, 5, 6, 'apple', 'mango', ['banana', 'grapes', 'orange']]"
      ]
     },
     "execution_count": 18,
     "metadata": {},
     "output_type": "execute_result"
    }
   ],
   "source": [
    "a"
   ]
  },
  {
   "cell_type": "code",
   "execution_count": 19,
   "id": "71f03f86-e6c9-44d0-97bb-f178b10d0272",
   "metadata": {},
   "outputs": [
    {
     "data": {
      "text/plain": [
       "['banana', 'grapes', 'orange']"
      ]
     },
     "execution_count": 19,
     "metadata": {},
     "output_type": "execute_result"
    }
   ],
   "source": [
    "a.pop()"
   ]
  },
  {
   "cell_type": "code",
   "execution_count": 20,
   "id": "6a905f1e-ae45-4224-af28-21e424e60820",
   "metadata": {},
   "outputs": [
    {
     "data": {
      "text/plain": [
       "[2, 3, 4, 5, 6, 'apple', 'mango']"
      ]
     },
     "execution_count": 20,
     "metadata": {},
     "output_type": "execute_result"
    }
   ],
   "source": [
    "a"
   ]
  },
  {
   "cell_type": "markdown",
   "id": "129ec4f1-3c5c-41cc-a01a-333041e16b54",
   "metadata": {},
   "source": [
    "Q2. L = [1,2,3,4,5,6,7]\r\n",
    "\r\n",
    "Using the above list slice from 1:4"
   ]
  },
  {
   "cell_type": "code",
   "execution_count": 21,
   "id": "92369c48-3ccc-4104-a3bd-4e4c61a68ad2",
   "metadata": {},
   "outputs": [
    {
     "data": {
      "text/plain": [
       "[2, 3, 4]"
      ]
     },
     "execution_count": 21,
     "metadata": {},
     "output_type": "execute_result"
    }
   ],
   "source": [
    "L = [1,2,3,4,5,6,7]\n",
    "\n",
    "L[1:4]"
   ]
  },
  {
   "cell_type": "markdown",
   "id": "bee01627-600f-4ab9-b03d-f3536c83f3b0",
   "metadata": {},
   "source": [
    "Q3. Reverse the order of given string L = [4,5,6,8,3] Without using reverse() function."
   ]
  },
  {
   "cell_type": "code",
   "execution_count": 22,
   "id": "119783a5-c913-42d6-b5b1-ceabba1c8810",
   "metadata": {},
   "outputs": [],
   "source": [
    "l = [4,5,6,8,3]\n",
    "\n",
    "l.reverse()"
   ]
  },
  {
   "cell_type": "code",
   "execution_count": 23,
   "id": "53e079fd-391b-4764-8cd3-3b35f36fa391",
   "metadata": {},
   "outputs": [
    {
     "data": {
      "text/plain": [
       "[3, 8, 6, 5, 4]"
      ]
     },
     "execution_count": 23,
     "metadata": {},
     "output_type": "execute_result"
    }
   ],
   "source": [
    "l"
   ]
  },
  {
   "cell_type": "markdown",
   "id": "3d5badb0-fc62-4f5f-8a3f-1a78c59288ee",
   "metadata": {},
   "source": [
    "Q4. Use list comprehension to square the given list L=[2,4,7,3,6,8]"
   ]
  },
  {
   "cell_type": "code",
   "execution_count": 28,
   "id": "52227e7a-055b-4d44-92ac-36e30f1af01f",
   "metadata": {},
   "outputs": [
    {
     "name": "stdout",
     "output_type": "stream",
     "text": [
      "4\n",
      "16\n",
      "49\n",
      "9\n",
      "36\n",
      "64\n"
     ]
    }
   ],
   "source": [
    "import math\n",
    "\n",
    "l = [2,4,7,3,6,8]\n",
    "\n",
    "for i in l:\n",
    "    print(i**2)"
   ]
  },
  {
   "cell_type": "markdown",
   "id": "99210daf-32aa-42b3-be99-636dce4c76d7",
   "metadata": {},
   "source": [
    "Q5. Create a function that takes in a tuple of integers and returns the sum of the integers. Test the\r\n",
    "function with a tuple of your choice. "
   ]
  },
  {
   "cell_type": "code",
   "execution_count": 31,
   "id": "d9752787-0bef-4ac8-95e8-b2f808401309",
   "metadata": {},
   "outputs": [],
   "source": [
    "def sum_of_integers(tuple):\n",
    "    sum = 0\n",
    "    for i in tuple:\n",
    "        sum += i\n",
    "\n",
    "    return sum\n",
    "            "
   ]
  },
  {
   "cell_type": "code",
   "execution_count": 32,
   "id": "7daca58f-8771-4bf0-80d0-99815d3e51e9",
   "metadata": {},
   "outputs": [
    {
     "data": {
      "text/plain": [
       "12"
      ]
     },
     "execution_count": 32,
     "metadata": {},
     "output_type": "execute_result"
    }
   ],
   "source": [
    "sum_of_integers((3,4,5))"
   ]
  },
  {
   "cell_type": "markdown",
   "id": "87e1a71f-4b93-45d4-8067-171e3cf58ed3",
   "metadata": {},
   "source": [
    "Q6. Create two sets of your favourite fruits, and use the union() method to combine them into a single set.\r\n",
    "Print the resulting set to the console."
   ]
  },
  {
   "cell_type": "code",
   "execution_count": 33,
   "id": "644d069d-c5a1-42b8-ac0b-9de393d0e945",
   "metadata": {},
   "outputs": [
    {
     "data": {
      "text/plain": [
       "{'apple', 'banana', 'cherry', 'graphes', 'mango', 'orange'}"
      ]
     },
     "execution_count": 33,
     "metadata": {},
     "output_type": "execute_result"
    }
   ],
   "source": [
    "fav_fruit1 = {\"apple\", \"mango\", \"banana\"}\n",
    "fav_fruit2 = {\"graphes\", \"orange\", \"cherry\"}\n",
    "\n",
    "combined_fruits = fav_fruit1.union(fav_fruit2)\n",
    "\n",
    "combined_fruits\n"
   ]
  },
  {
   "cell_type": "markdown",
   "id": "e32511e5-25cb-43af-bfbc-2ae183676963",
   "metadata": {},
   "source": [
    "Q7. Create a set of random words, and use the add() method to add a new word to the set. Print the\r\n",
    "resulting set to the console."
   ]
  },
  {
   "cell_type": "code",
   "execution_count": 34,
   "id": "9bdd4e78-9d7f-456b-ad3d-e4078e481fe2",
   "metadata": {},
   "outputs": [],
   "source": [
    "random_words = {\"hii\", \"hello\", \"good morning\"}\n",
    "\n",
    "random_words.add(\"good afternoon\")"
   ]
  },
  {
   "cell_type": "code",
   "execution_count": 35,
   "id": "d7279a2c-a28f-40ee-83f0-ea138aad56c3",
   "metadata": {},
   "outputs": [
    {
     "data": {
      "text/plain": [
       "{'good afternoon', 'good morning', 'hello', 'hii'}"
      ]
     },
     "execution_count": 35,
     "metadata": {},
     "output_type": "execute_result"
    }
   ],
   "source": [
    "random_words"
   ]
  },
  {
   "cell_type": "markdown",
   "id": "2315482b-740f-4607-a536-6e632de08b68",
   "metadata": {},
   "source": [
    "Q8. Create a set of your favourite animals, and use the remove() method to remove one animal from the\r\n",
    "set. Print the resulting set to the console."
   ]
  },
  {
   "cell_type": "code",
   "execution_count": 36,
   "id": "7509675f-b431-48f3-8f33-3586eae58de3",
   "metadata": {},
   "outputs": [
    {
     "data": {
      "text/plain": [
       "{'dear', 'fox', 'hiran', 'loin'}"
      ]
     },
     "execution_count": 36,
     "metadata": {},
     "output_type": "execute_result"
    }
   ],
   "source": [
    "animals = {\"loin\", \"dear\", \"cheetah\", \"fox\", \"hiran\"}\n",
    "\n",
    "animals.remove(\"cheetah\")\n",
    "\n",
    "animals"
   ]
  },
  {
   "cell_type": "markdown",
   "id": "a42ed3da-869c-493b-8af3-16fd3b1a3ab4",
   "metadata": {},
   "source": [
    "Q9. favorite_books = {\"1984\", \"To Kill a Mockingbird\", \"Pride and Prejudice\"}\r\n",
    "\r\n",
    "      favorite_movies = [\"The Shawshank Redemption\", \"The Godfather\", \"The Dark Knight\"]\r\n",
    "\r\n",
    "      Use the zip() function to combine the book set and movie list into a list of tuples  representing book/ \r\n",
    "\r\n",
    " movie pairs. Print the resulting list."
   ]
  },
  {
   "cell_type": "code",
   "execution_count": 38,
   "id": "731c774c-9d80-4376-95f3-e20846c04096",
   "metadata": {},
   "outputs": [
    {
     "data": {
      "text/plain": [
       "[('Pride and Prejudice', 'The Shawshank Redemption'),\n",
       " ('1984', 'The Godfather'),\n",
       " ('To Kill a Mockingbird', 'The Dark Knight')]"
      ]
     },
     "execution_count": 38,
     "metadata": {},
     "output_type": "execute_result"
    }
   ],
   "source": [
    "favorite_books = {\"1984\", \"To Kill a Mockingbird\", \"Pride and Prejudice\"}\n",
    "favorite_movies = [\"The Shawshank Redemption\", \"The Godfather\", \"The Dark Knight\"]\n",
    "\n",
    "combine_list = list(zip(favorite_books, favorite_movies))\n",
    "\n",
    "combine_list"
   ]
  },
  {
   "cell_type": "markdown",
   "id": "99030d06-ee34-4fd3-8f69-636102512718",
   "metadata": {},
   "source": [
    "Q10. Write a Python program to find the difference between consecutive numbers in a list."
   ]
  },
  {
   "cell_type": "code",
   "execution_count": null,
   "id": "7f4602a7-82ff-44ce-9826-fe2aed1933ad",
   "metadata": {},
   "outputs": [],
   "source": []
  }
 ],
 "metadata": {
  "kernelspec": {
   "display_name": "Python 3 (ipykernel)",
   "language": "python",
   "name": "python3"
  },
  "language_info": {
   "codemirror_mode": {
    "name": "ipython",
    "version": 3
   },
   "file_extension": ".py",
   "mimetype": "text/x-python",
   "name": "python",
   "nbconvert_exporter": "python",
   "pygments_lexer": "ipython3",
   "version": "3.11.1"
  }
 },
 "nbformat": 4,
 "nbformat_minor": 5
}
