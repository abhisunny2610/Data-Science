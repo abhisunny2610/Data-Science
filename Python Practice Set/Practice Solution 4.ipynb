{
 "cells": [
  {
   "cell_type": "markdown",
   "id": "c7f07f24-cb17-4c3d-9751-428d0f8b166b",
   "metadata": {},
   "source": [
    "Q1. Create a class called \"Person\" with properties for \"name\", \"age\", and \"gender\". Create an object of this\r\n",
    "class and print out its properties."
   ]
  },
  {
   "cell_type": "code",
   "execution_count": 11,
   "id": "63bcf244-3841-4876-ba84-06f73d495147",
   "metadata": {},
   "outputs": [],
   "source": [
    "class Person:\n",
    "    def __init__(self, name, age, gender):\n",
    "        self.name = name,\n",
    "        self.age = age,\n",
    "        self.gender = gender\n"
   ]
  },
  {
   "cell_type": "code",
   "execution_count": 12,
   "id": "25c12473-fe7b-4581-906c-a7d8b747cb95",
   "metadata": {},
   "outputs": [
    {
     "name": "stdout",
     "output_type": "stream",
     "text": [
      "('Abhishek',) (19,) Male\n"
     ]
    }
   ],
   "source": [
    "Person1 = Person(\"Abhishek\", 19, \"Male\")\n",
    "print(Person1.name, Person1.age, Person1.gender)"
   ]
  },
  {
   "cell_type": "markdown",
   "id": "061cce56-6496-414c-9f41-86bb1d243386",
   "metadata": {},
   "source": [
    "Q2. Write a Python class called \"Rectangle\" with attributes for \"width\" and \"height\". Implement methods\r\n",
    "to calculate the area and perimeter of the rectangle. Create an instance of this class and use it to print out\r\n",
    "the rectangle's area and perimeter."
   ]
  },
  {
   "cell_type": "code",
   "execution_count": 19,
   "id": "37c32e24-f414-474a-8d2a-ef9d4033ae99",
   "metadata": {},
   "outputs": [],
   "source": [
    "class Rectangle:\n",
    "    def __init__(self, width, height):\n",
    "        self.width = width\n",
    "        self.height = height\n",
    "\n",
    "class Area_perimeter(Rectangle):\n",
    "    def __init__(self, width, height):\n",
    "        super().__init__(width, height)\n",
    "\n",
    "    def area(self):\n",
    "        return self.width * self.height\n",
    "\n",
    "    def permieter(self):\n",
    "        per = 2 * (self.width + self.height)\n",
    "        return per\n",
    "    "
   ]
  },
  {
   "cell_type": "code",
   "execution_count": 20,
   "id": "f507d074-8446-4816-835a-0bf0178a7dd5",
   "metadata": {},
   "outputs": [],
   "source": [
    "rectange = Area_perimeter(4,5)"
   ]
  },
  {
   "cell_type": "code",
   "execution_count": 21,
   "id": "db525086-2989-4879-ba27-343422c81c01",
   "metadata": {},
   "outputs": [
    {
     "data": {
      "text/plain": [
       "20"
      ]
     },
     "execution_count": 21,
     "metadata": {},
     "output_type": "execute_result"
    }
   ],
   "source": [
    "rectange.area()"
   ]
  },
  {
   "cell_type": "code",
   "execution_count": 22,
   "id": "905131e9-304d-4092-845a-086d8c36f460",
   "metadata": {},
   "outputs": [
    {
     "data": {
      "text/plain": [
       "18"
      ]
     },
     "execution_count": 22,
     "metadata": {},
     "output_type": "execute_result"
    }
   ],
   "source": [
    "rectange.permieter()"
   ]
  },
  {
   "cell_type": "markdown",
   "id": "37457b2c-7c54-45f5-8484-d1353c3ba930",
   "metadata": {},
   "source": [
    "Q3. Write a Python class called \"BankAccount\" with attributes for \"balance\" and \"interest_rate\".\r\n",
    "Implement methods to deposit and withdraw money from the account, as well as to calculate the interest\r\n",
    "earned on the balance based on the interest rate. Create an instance of this class and use it to test out the\r\n",
    "implemented methods for deposit, withdrawal, and interest calculation."
   ]
  },
  {
   "cell_type": "code",
   "execution_count": 28,
   "id": "2544df45-00fc-4789-9e08-66c2401c4505",
   "metadata": {},
   "outputs": [],
   "source": [
    "class BankAccount:\n",
    "    def __init__(self, balance, interest_rate):\n",
    "        self.balance = balance\n",
    "        self.interest_rate = interest_rate\n",
    "\n",
    "\n",
    "class BankAccount2(BankAccount):\n",
    "    def __init__(self, balance, interest_rate):\n",
    "        super().__init__(balance, interest_rate)\n",
    "\n",
    "    def deposit(self, deposit):\n",
    "        self.balance += deposit\n",
    "\n",
    "    def withdraw(self, withdraw):\n",
    "        if self.balance > withdraw:\n",
    "            self.balance -= withdraw\n",
    "            return True\n",
    "        else:\n",
    "            print(\"Ifficient Balance\")\n",
    "        \n",
    "    def check_Balance(self):\n",
    "         return self.balance"
   ]
  },
  {
   "cell_type": "code",
   "execution_count": 29,
   "id": "8f03b191-a311-4e91-8af3-4d07b7e8ff0f",
   "metadata": {},
   "outputs": [],
   "source": [
    "Abhishek = BankAccount2(5000, 6.7)"
   ]
  },
  {
   "cell_type": "code",
   "execution_count": 30,
   "id": "5c3c900f-fe2f-477b-85f3-c58925a8b775",
   "metadata": {},
   "outputs": [
    {
     "data": {
      "text/plain": [
       "5000"
      ]
     },
     "execution_count": 30,
     "metadata": {},
     "output_type": "execute_result"
    }
   ],
   "source": [
    "Abhishek.check_Balance()"
   ]
  },
  {
   "cell_type": "code",
   "execution_count": 31,
   "id": "42ffd475-7014-4a7e-aa23-1e155f6284a0",
   "metadata": {},
   "outputs": [],
   "source": [
    "Abhishek.deposit(1000)"
   ]
  },
  {
   "cell_type": "code",
   "execution_count": 32,
   "id": "f955b6eb-94af-4d22-86d3-46762056740e",
   "metadata": {},
   "outputs": [
    {
     "data": {
      "text/plain": [
       "6000"
      ]
     },
     "execution_count": 32,
     "metadata": {},
     "output_type": "execute_result"
    }
   ],
   "source": [
    "Abhishek.check_Balance()"
   ]
  },
  {
   "cell_type": "code",
   "execution_count": 33,
   "id": "53a614d4-1aac-4713-a0fb-b9450723693c",
   "metadata": {},
   "outputs": [
    {
     "data": {
      "text/plain": [
       "True"
      ]
     },
     "execution_count": 33,
     "metadata": {},
     "output_type": "execute_result"
    }
   ],
   "source": [
    "Abhishek.withdraw(1000)"
   ]
  },
  {
   "cell_type": "code",
   "execution_count": 34,
   "id": "9b9cf208-33b1-4e52-8f20-8f22c98ab04e",
   "metadata": {},
   "outputs": [
    {
     "name": "stdout",
     "output_type": "stream",
     "text": [
      "Ifficient Balance\n"
     ]
    }
   ],
   "source": [
    "Abhishek.withdraw(7000)"
   ]
  },
  {
   "cell_type": "code",
   "execution_count": 35,
   "id": "376fdc1b-d2ce-498a-992f-d14a16f1843a",
   "metadata": {},
   "outputs": [
    {
     "data": {
      "text/plain": [
       "5000"
      ]
     },
     "execution_count": 35,
     "metadata": {},
     "output_type": "execute_result"
    }
   ],
   "source": [
    "Abhishek.check_Balance()"
   ]
  },
  {
   "cell_type": "markdown",
   "id": "95b83e0f-b0fe-4f63-8fe0-ab2bf1acba37",
   "metadata": {},
   "source": [
    "Q4. Write a Python class called \"Animal\" with attributes for \"name\" and \"species\". Create a subclass of\r\n",
    "\"Animal\" called \"Dog\" with additional attributes for \"breed\" and \"owner\". Implement both classes with\r\n",
    "appropriate methods and constructors to initialise their properties. Create instances of both classes and\r\n",
    "use them to print out the various properties of the animals and dogs, such as their names, species,\r\n",
    "breeds, and owners."
   ]
  },
  {
   "cell_type": "code",
   "execution_count": 56,
   "id": "3ade957b-5f42-41a7-a5a3-f9c57c4a19e0",
   "metadata": {},
   "outputs": [],
   "source": [
    "class Animal:\n",
    "    def __init__(self, name, species):\n",
    "        self.name = name\n",
    "        self.species = species\n",
    "\n",
    "    def print_animal(self):\n",
    "        return print(f\"Name: {self.name}, Species: {self.species}\")\n",
    "\n",
    "class Dog(Animal):\n",
    "    def __init__(self, name, species, Breed , Owner):\n",
    "        super().__init__(name,species)\n",
    "        self.Breed = Breed\n",
    "        self.Owner = Owner\n",
    "\n",
    "    def print_dog(self):\n",
    "        return print(f\"Name: {self.name}, Species: {self.species}, Breed: {self.Breed}, Owner: {self.Owner}\")"
   ]
  },
  {
   "cell_type": "code",
   "execution_count": 57,
   "id": "5768d8dd-89fe-4eba-b269-03a2e5ad069f",
   "metadata": {},
   "outputs": [
    {
     "name": "stdout",
     "output_type": "stream",
     "text": [
      "Name: Stuffy, Species: Dog\n"
     ]
    }
   ],
   "source": [
    "Animal1 = Animal(\"Stuffy\", \"Dog\")\n",
    "Animal1.print_animal()"
   ]
  },
  {
   "cell_type": "code",
   "execution_count": 58,
   "id": "8230d5da-ea0a-4880-8782-c74b93b99638",
   "metadata": {},
   "outputs": [
    {
     "name": "stdout",
     "output_type": "stream",
     "text": [
      "Name: Stuffy, Species: Dog, Breed: Pomerion, Owner: Shivam\n"
     ]
    }
   ],
   "source": [
    "Dog1 = Dog(\"Stuffy\",\"Dog\",\"Pomerion\", \"Shivam\")\n",
    "Dog1.print_dog()"
   ]
  },
  {
   "cell_type": "markdown",
   "id": "c6c5436c-7abf-4214-a293-d48c2ff970bc",
   "metadata": {},
   "source": [
    "Q5. Create a class called \"Car\" with properties for \"make\", \"model\", and \"year\". Create a subclass of \"Car\"\r\n",
    "called \"ElectricCar\" with additional properties for \"battery_size\" and \"range\". Create objects of both\r\n",
    "classes and print out their properties"
   ]
  },
  {
   "cell_type": "code",
   "execution_count": 65,
   "id": "08a9c5e2-0c2a-44a4-8afd-a399aaea4ac4",
   "metadata": {},
   "outputs": [],
   "source": [
    "class Car:\n",
    "    def __init__(self, make, model, year):\n",
    "        self.make = make\n",
    "        self.model = model\n",
    "        self.year = year\n",
    "\n",
    "    def print_car(self):\n",
    "        print(f\"Make: {self.make}, Model: {self.model}, Year: {self.year}\")\n",
    "\n",
    "class ElectriCar(Car):\n",
    "    def __init__(self,  make, model, year, battery_size, range):\n",
    "        super().__init__( make, model, year)\n",
    "        self.battery_size = battery_size\n",
    "        self.range = range\n",
    "        \n",
    "    def print_electicCar(self):\n",
    "        Car.print_car(self)\n",
    "        print(f\"Battery Size: {self.battery_size}, Range: {self.range}\")"
   ]
  },
  {
   "cell_type": "code",
   "execution_count": 66,
   "id": "f4b453b1-880c-4ac4-8567-09a7357d520d",
   "metadata": {},
   "outputs": [
    {
     "name": "stdout",
     "output_type": "stream",
     "text": [
      "Make: TATA India, Model: Harrier, Year: 2020\n"
     ]
    }
   ],
   "source": [
    "car1 = Car(\"TATA India\", \"Harrier\", 2020)\n",
    "car1.print_car()"
   ]
  },
  {
   "cell_type": "code",
   "execution_count": 67,
   "id": "ca0a356c-ba5d-43ff-a712-68d28c10a8df",
   "metadata": {},
   "outputs": [],
   "source": [
    "electric_car1 = ElectriCar(\"TATA India\", \"Harrier\", 2020, \"60Kwh\", 400)"
   ]
  },
  {
   "cell_type": "code",
   "execution_count": 68,
   "id": "9f5d759c-6600-4c12-916a-0193ac4aeb77",
   "metadata": {},
   "outputs": [
    {
     "name": "stdout",
     "output_type": "stream",
     "text": [
      "Make: TATA India, Model: Harrier, Year: 2020\n",
      "Battery Size: 60Kwh, Range: 400\n"
     ]
    }
   ],
   "source": [
    "electric_car1.print_electicCar()"
   ]
  },
  {
   "cell_type": "code",
   "execution_count": null,
   "id": "8d1b8f3e-b666-41c5-b11e-c615977f2972",
   "metadata": {},
   "outputs": [],
   "source": []
  }
 ],
 "metadata": {
  "kernelspec": {
   "display_name": "Python 3 (ipykernel)",
   "language": "python",
   "name": "python3"
  },
  "language_info": {
   "codemirror_mode": {
    "name": "ipython",
    "version": 3
   },
   "file_extension": ".py",
   "mimetype": "text/x-python",
   "name": "python",
   "nbconvert_exporter": "python",
   "pygments_lexer": "ipython3",
   "version": "3.11.1"
  }
 },
 "nbformat": 4,
 "nbformat_minor": 5
}
