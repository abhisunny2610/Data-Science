{
 "cells": [
  {
   "cell_type": "markdown",
   "id": "b32c8571-6557-492e-837a-64036018e3e3",
   "metadata": {},
   "source": [
    "Q1. Write a Python program that defines a function called \"add_numbers\" that takes two arguments (i.e.,\r\n",
    "numbers) and returns their sum. Within the function, add the two numbers together and return the result\r\n",
    "using the return statement. Call the function with the values 5 and 6, and print out the returned result.\r\n",
    "This will result in the addition of 5 and 6, with the output of the program being the sum of these two\r\n",
    "numbers "
   ]
  },
  {
   "cell_type": "code",
   "execution_count": 3,
   "id": "73e25722-4c4e-4223-9591-b9b978cf9964",
   "metadata": {},
   "outputs": [],
   "source": [
    "def add_number(a,b):\n",
    "    sum = a + b\n",
    "    return sum"
   ]
  },
  {
   "cell_type": "code",
   "execution_count": 4,
   "id": "172c2763-084a-40d5-8bcb-d100269299cc",
   "metadata": {},
   "outputs": [
    {
     "data": {
      "text/plain": [
       "11"
      ]
     },
     "execution_count": 4,
     "metadata": {},
     "output_type": "execute_result"
    }
   ],
   "source": [
    "add_number(5,6)"
   ]
  },
  {
   "cell_type": "markdown",
   "id": "14e5d8e9-7523-4b47-bfa3-933a84d2c728",
   "metadata": {},
   "source": [
    "Q2. Write a Python program that calculates the square root of a given number using a built-in function.\r\n",
    "Specifically, the program should take an integer or float input from the user, calculate its square root\r\n",
    "using the 'sqrt()' function from the 'math' module, and print out the result to the user. As an example,\r\n",
    "calculate the square root of the number 625 using this program, which should output the value of 25."
   ]
  },
  {
   "cell_type": "code",
   "execution_count": null,
   "id": "87a303d1-398e-42cf-a13f-e91bf039e136",
   "metadata": {},
   "outputs": [],
   "source": []
  }
 ],
 "metadata": {
  "kernelspec": {
   "display_name": "Python 3 (ipykernel)",
   "language": "python",
   "name": "python3"
  },
  "language_info": {
   "codemirror_mode": {
    "name": "ipython",
    "version": 3
   },
   "file_extension": ".py",
   "mimetype": "text/x-python",
   "name": "python",
   "nbconvert_exporter": "python",
   "pygments_lexer": "ipython3",
   "version": "3.11.1"
  }
 },
 "nbformat": 4,
 "nbformat_minor": 5
}
