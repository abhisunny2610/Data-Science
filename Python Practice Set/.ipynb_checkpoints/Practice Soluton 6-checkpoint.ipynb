{
 "cells": [
  {
   "cell_type": "markdown",
   "id": "8c081fbc-4e12-41ef-8383-b7f0c4633347",
   "metadata": {},
   "source": [
    "Q1. Write a program that prints the first 10 even numbers using a for loop"
   ]
  },
  {
   "cell_type": "code",
   "execution_count": 1,
   "id": "f97506e9-c04b-4613-b88e-c3457c8c395c",
   "metadata": {},
   "outputs": [
    {
     "name": "stdout",
     "output_type": "stream",
     "text": [
      "[2, 4, 6, 8, 10, 12, 14, 16, 18, 20]\n"
     ]
    }
   ],
   "source": [
    "even_number = []\n",
    "\n",
    "for i in range(1,22):\n",
    "    if i % 2== 0:\n",
    "        even_number.append(i)\n",
    "\n",
    "print(even_number)"
   ]
  },
  {
   "cell_type": "markdown",
   "id": "1ae9a2f7-4e9f-4f6d-803d-aef2b355b528",
   "metadata": {},
   "source": [
    "Q2. Write a program that takes a list of strings and prints out each string in reverse order using a for loop."
   ]
  },
  {
   "cell_type": "code",
   "execution_count": 2,
   "id": "fd8211a3-6852-44ed-8df3-eb08786437fb",
   "metadata": {},
   "outputs": [
    {
     "name": "stdout",
     "output_type": "stream",
     "text": [
      "['ruoy era woh olleH', 'enif ma I']\n"
     ]
    }
   ],
   "source": [
    "orginial_string = [\"Hello how are your\", \"I am fine\"]\n",
    "\n",
    "reverse_string = []\n",
    "\n",
    "for string in orginial_string:\n",
    "    reverse_string.append(string[::-1])\n",
    "\n",
    "print(reverse_string)\n"
   ]
  },
  {
   "cell_type": "markdown",
   "id": "6c2fa249-9a75-4a51-8183-235999fb16f1",
   "metadata": {},
   "source": [
    "Q3. Write a program that prints the multiplication table of a given number using a for loop."
   ]
  },
  {
   "cell_type": "code",
   "execution_count": 3,
   "id": "e17ba2f2-efe6-400f-ba3d-d023a01fb565",
   "metadata": {},
   "outputs": [],
   "source": [
    "def table(num):\n",
    "    for i in range(1, 11):\n",
    "        print(f\"{num} * {i} = {num*i}\")"
   ]
  },
  {
   "cell_type": "code",
   "execution_count": 4,
   "id": "87bf0ac6-eadb-4cdb-a379-cae54c856af2",
   "metadata": {},
   "outputs": [
    {
     "name": "stdout",
     "output_type": "stream",
     "text": [
      "3 * 1 = 3\n",
      "3 * 2 = 6\n",
      "3 * 3 = 9\n",
      "3 * 4 = 12\n",
      "3 * 5 = 15\n",
      "3 * 6 = 18\n",
      "3 * 7 = 21\n",
      "3 * 8 = 24\n",
      "3 * 9 = 27\n",
      "3 * 10 = 30\n"
     ]
    }
   ],
   "source": [
    "table(3)"
   ]
  },
  {
   "cell_type": "markdown",
   "id": "ed5fa452-b1e8-4bbb-aa62-17c5f278a756",
   "metadata": {},
   "source": [
    "Q4. Write a program that takes a list of integers as input and returns the sum of all the numbers in the list\r\n",
    "using a for loop."
   ]
  },
  {
   "cell_type": "code",
   "execution_count": 5,
   "id": "644a439e-03d9-46b8-8415-b87e9dd8daf6",
   "metadata": {},
   "outputs": [
    {
     "name": "stdout",
     "output_type": "stream",
     "text": [
      "14\n"
     ]
    }
   ],
   "source": [
    "nummber_list = [2,5,2,1,4]\n",
    "sum = 0\n",
    "\n",
    "for i in nummber_list:\n",
    "    sum += i\n",
    "\n",
    "print(sum)"
   ]
  },
  {
   "cell_type": "markdown",
   "id": "5735180e-f7c4-46c7-b019-f5bdcc5d1d55",
   "metadata": {},
   "source": [
    "Q5. Write a program that prompts the user for a positive integer and then prints out all the prime\r\n",
    "numbers up to that number using a for loop."
   ]
  },
  {
   "cell_type": "code",
   "execution_count": 9,
   "id": "ffdf3259-f3c4-4f9c-aa69-270f1db831e8",
   "metadata": {},
   "outputs": [
    {
     "name": "stdin",
     "output_type": "stream",
     "text": [
      "Enter a positive integer:  45\n"
     ]
    },
    {
     "name": "stdout",
     "output_type": "stream",
     "text": [
      "[2, 3, 5, 7, 11, 13, 17, 19, 23, 29, 31, 37, 41, 43]\n"
     ]
    }
   ],
   "source": [
    "positive_int = int(input(\"Enter a positive integer: \"))\n",
    "prime_num = []\n",
    "# If given number is greater than 1\n",
    "if positive_int > 1:\n",
    "    for i in range(2, positive_int+1):\n",
    "        for j in range(2, int(i ** 0.5) + 1):\n",
    "            if i%j == 0:\n",
    "                break\n",
    "        else:\n",
    "            prime_num.append(i)\n",
    "\n",
    "print(prime_num)"
   ]
  },
  {
   "cell_type": "markdown",
   "id": "22806593-04e5-419f-b591-f434fbb6cf86",
   "metadata": {},
   "source": [
    "Q6. Write a program that prompts the user to enter a password until the correct password is entered\r\n",
    "using a while loop"
   ]
  },
  {
   "cell_type": "code",
   "execution_count": 12,
   "id": "0a0dcbfd-f074-4c2a-a6a9-e8bc551de3b1",
   "metadata": {},
   "outputs": [
    {
     "name": "stdin",
     "output_type": "stream",
     "text": [
      "Enter a password 6788\n"
     ]
    },
    {
     "name": "stdout",
     "output_type": "stream",
     "text": [
      "Incorrect Password\n"
     ]
    },
    {
     "name": "stdin",
     "output_type": "stream",
     "text": [
      "Enter a password password123\n"
     ]
    },
    {
     "name": "stdout",
     "output_type": "stream",
     "text": [
      "Correct Password\n"
     ]
    }
   ],
   "source": [
    "password = \"password123\"\n",
    "\n",
    "user_pas = input(\"Enter a password\")\n",
    "\n",
    "while user_pas != password:\n",
    "    print(\"Incorrect Password\")\n",
    "    user_pas = input(\"Enter a password\")\n",
    "\n",
    "print(\"Correct Password\")\n",
    "    "
   ]
  },
  {
   "cell_type": "markdown",
   "id": "c97b759f-2e2d-4e54-895c-db07afa7fc92",
   "metadata": {},
   "source": [
    "Q7. Write a program that takes a list of strings and prints out each string in reverse order using a while\r\n",
    "loop."
   ]
  },
  {
   "cell_type": "code",
   "execution_count": 11,
   "id": "705107ca-79ee-41d9-882e-6df339e3e35d",
   "metadata": {},
   "outputs": [
    {
     "name": "stdout",
     "output_type": "stream",
     "text": [
      "ruoy era woh olleH\n",
      "enif ma I\n"
     ]
    }
   ],
   "source": [
    "orginial_string = [\"Hello how are your\", \"I am fine\"]\n",
    "\n",
    "reverse_string = []\n",
    "\n",
    "for string in orginial_string:\n",
    "    index = len(string) - 1\n",
    "    while index >= 0:\n",
    "        print(string[index], end=\"\")\n",
    "        index -= 1\n",
    "    print()"
   ]
  },
  {
   "cell_type": "markdown",
   "id": "9d57d4cb-39a3-46d3-ac62-59849aa84b75",
   "metadata": {},
   "source": [
    "Q8. Write a program that prompts the user to enter a positive integer and then prints out all the Fibonacci\r\n",
    "numbers up to that number using a while loop."
   ]
  },
  {
   "cell_type": "code",
   "execution_count": 13,
   "id": "acf77138-cdb3-4c2d-bffd-e68f765710c4",
   "metadata": {},
   "outputs": [
    {
     "name": "stdin",
     "output_type": "stream",
     "text": [
      "Enter a positive integer:  65\n"
     ]
    },
    {
     "name": "stdout",
     "output_type": "stream",
     "text": [
      "0\n",
      "1\n",
      "1\n",
      "2\n",
      "3\n",
      "5\n",
      "8\n",
      "13\n",
      "21\n",
      "34\n",
      "55\n",
      "89\n"
     ]
    }
   ],
   "source": [
    "n = int(input(\"Enter a positive integer: \"))\n",
    "\n",
    "# Initialize variables for the first two Fibonacci numbers\n",
    "fib1 = 0\n",
    "fib2 = 1\n",
    "\n",
    "# Print the first Fibonacci number (0)\n",
    "print(fib1)\n",
    "\n",
    "# Print the second Fibonacci number (1)\n",
    "print(fib2)\n",
    "\n",
    "# Loop through all remaining Fibonacci numbers up to n\n",
    "while fib2 <= n:\n",
    "    # Compute the next Fibonacci number and print it\n",
    "    fib3 = fib1 + fib2\n",
    "    print(fib3)\n",
    "    \n",
    "    # Update variables for the next iteration\n",
    "    fib1 = fib2\n",
    "    fib2 = fib3"
   ]
  },
  {
   "cell_type": "markdown",
   "id": "df0e0f68-1835-42e2-9c91-136fb6720422",
   "metadata": {},
   "source": [
    "Q9. Write a program that takes a list of integers as input and returns the product of all the numbers in the\r\n",
    "list using a while loop"
   ]
  },
  {
   "cell_type": "code",
   "execution_count": 14,
   "id": "cf7c6a64-0190-4b79-98cb-9cd98453e7bb",
   "metadata": {},
   "outputs": [
    {
     "name": "stdout",
     "output_type": "stream",
     "text": [
      "3840\n"
     ]
    }
   ],
   "source": [
    "int_list = [2, 4, 6, 8, 10]\n",
    "\n",
    "# Initialize the product variable to 1\n",
    "product = 1\n",
    "\n",
    "# Loop through each integer in the list and multiply it with the product variable\n",
    "index = 0\n",
    "while index < len(int_list):\n",
    "    product *= int_list[index]\n",
    "    index += 1\n",
    "\n",
    "# Print the final product\n",
    "print(product)"
   ]
  },
  {
   "cell_type": "markdown",
   "id": "6895d4a3-8130-499d-8f2c-129366ecda3a",
   "metadata": {},
   "source": [
    "Q10.Write a program that prompts the user to enter a positive integer and then prints out the factorial of that number using a while loop.\n"
   ]
  },
  {
   "cell_type": "code",
   "execution_count": 15,
   "id": "9a2b40ba-103b-4f94-998d-e519831832b7",
   "metadata": {},
   "outputs": [
    {
     "name": "stdin",
     "output_type": "stream",
     "text": [
      "Enter a positive integer:  10\n"
     ]
    },
    {
     "name": "stdout",
     "output_type": "stream",
     "text": [
      "3628800\n"
     ]
    }
   ],
   "source": [
    "# Prompt user for input\n",
    "n = int(input(\"Enter a positive integer: \"))\n",
    "\n",
    "# Initialize the factorial variable to 1\n",
    "factorial = 1\n",
    "\n",
    "# Loop through all integers from 1 to n\n",
    "i = 1\n",
    "while i <= n:\n",
    "    # Multiply the current value of the factorial variable with i\n",
    "    factorial *= i\n",
    "    \n",
    "    # Update the loop counter\n",
    "    i += 1\n",
    "\n",
    "# Print the final factorial value\n",
    "print(factorial)"
   ]
  },
  {
   "cell_type": "code",
   "execution_count": null,
   "id": "be57764d-fb5c-40ca-b744-05ac2076bd42",
   "metadata": {},
   "outputs": [],
   "source": []
  }
 ],
 "metadata": {
  "kernelspec": {
   "display_name": "Python 3 (ipykernel)",
   "language": "python",
   "name": "python3"
  },
  "language_info": {
   "codemirror_mode": {
    "name": "ipython",
    "version": 3
   },
   "file_extension": ".py",
   "mimetype": "text/x-python",
   "name": "python",
   "nbconvert_exporter": "python",
   "pygments_lexer": "ipython3",
   "version": "3.11.1"
  }
 },
 "nbformat": 4,
 "nbformat_minor": 5
}
