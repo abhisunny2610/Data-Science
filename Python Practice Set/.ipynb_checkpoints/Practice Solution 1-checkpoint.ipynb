{
 "cells": [
  {
   "cell_type": "markdown",
   "id": "b32c8571-6557-492e-837a-64036018e3e3",
   "metadata": {},
   "source": [
    "Q1. Write a Python program that defines a function called \"add_numbers\" that takes two arguments (i.e.,\r\n",
    "numbers) and returns their sum. Within the function, add the two numbers together and return the result\r\n",
    "using the return statement. Call the function with the values 5 and 6, and print out the returned result.\r\n",
    "This will result in the addition of 5 and 6, with the output of the program being the sum of these two\r\n",
    "numbers "
   ]
  },
  {
   "cell_type": "code",
   "execution_count": 1,
   "id": "73e25722-4c4e-4223-9591-b9b978cf9964",
   "metadata": {},
   "outputs": [],
   "source": [
    "def add_number(a,b):\n",
    "    sum = a + b\n",
    "    return sum"
   ]
  },
  {
   "cell_type": "code",
   "execution_count": 2,
   "id": "172c2763-084a-40d5-8bcb-d100269299cc",
   "metadata": {},
   "outputs": [
    {
     "data": {
      "text/plain": [
       "11"
      ]
     },
     "execution_count": 2,
     "metadata": {},
     "output_type": "execute_result"
    }
   ],
   "source": [
    "add_number(5,6)"
   ]
  },
  {
   "cell_type": "markdown",
   "id": "14e5d8e9-7523-4b47-bfa3-933a84d2c728",
   "metadata": {},
   "source": [
    "Q2. Write a Python program that calculates the square root of a given number using a built-in function.\r\n",
    "Specifically, the program should take an integer or float input from the user, calculate its square root\r\n",
    "using the 'sqrt()' function from the 'math' module, and print out the result to the user. As an example,\r\n",
    "calculate the square root of the number 625 using this program, which should output the value of 25."
   ]
  },
  {
   "cell_type": "code",
   "execution_count": 3,
   "id": "87a303d1-398e-42cf-a13f-e91bf039e136",
   "metadata": {},
   "outputs": [],
   "source": [
    "import math\n",
    "\n",
    "def calculate_sqrt(x):\n",
    "    square_root = math.sqrt(x)\n",
    "    return square_root"
   ]
  },
  {
   "cell_type": "code",
   "execution_count": 4,
   "id": "b42a507c-517b-4e9a-89f7-11b677853ee1",
   "metadata": {},
   "outputs": [
    {
     "data": {
      "text/plain": [
       "25.0"
      ]
     },
     "execution_count": 4,
     "metadata": {},
     "output_type": "execute_result"
    }
   ],
   "source": [
    "calculate_sqrt(625)"
   ]
  },
  {
   "cell_type": "markdown",
   "id": "90330fef-3605-4320-a00b-3882e20b30cf",
   "metadata": {},
   "source": [
    "Q3.Write a program that prints all prime numbers between 0 to 50."
   ]
  },
  {
   "cell_type": "code",
   "execution_count": 5,
   "id": "6735ad91-ec21-4c55-a7d0-479566a9d066",
   "metadata": {},
   "outputs": [],
   "source": [
    "def prime_number(x):\n",
    "    for num in range(2,x):\n",
    "        isPrime = True\n",
    "        for i in range(2, num):\n",
    "            if num % i == 0:\n",
    "                isPrime = False\n",
    "                break\n",
    "        if isPrime:\n",
    "            print(num)"
   ]
  },
  {
   "cell_type": "code",
   "execution_count": 6,
   "id": "abf5d5c0-fff3-4af1-9558-5c04ef164dff",
   "metadata": {},
   "outputs": [
    {
     "name": "stdout",
     "output_type": "stream",
     "text": [
      "2\n",
      "3\n",
      "5\n",
      "7\n",
      "11\n",
      "13\n",
      "17\n",
      "19\n",
      "23\n",
      "29\n",
      "31\n",
      "37\n",
      "41\n",
      "43\n",
      "47\n"
     ]
    }
   ],
   "source": [
    "prime_number(51)"
   ]
  },
  {
   "cell_type": "markdown",
   "id": "8564ae1d-fdc3-4720-9d22-5c3200303fcd",
   "metadata": {},
   "source": [
    "Q4.How can we swap the values of three variables (let's say a, b, and c) without using a fourth variable?\r\n",
    "For example, if we have a=5, b=8, and c=9, how can we obtain a=9, b=5, and c=8? The challenge is to\r\n",
    "perform this operation without using an additional variable to store any of the values during the\r\n",
    "swapping process"
   ]
  },
  {
   "cell_type": "code",
   "execution_count": 7,
   "id": "58d6ca42-5185-48dc-9d9f-1c9d79a059d1",
   "metadata": {},
   "outputs": [],
   "source": [
    "a = 5\n",
    "b=8\n",
    "c=9\n",
    "\n",
    "a,b,c = c,a,b"
   ]
  },
  {
   "cell_type": "code",
   "execution_count": 8,
   "id": "a5a6bd02-7897-41f9-9193-73e1801c7280",
   "metadata": {},
   "outputs": [
    {
     "data": {
      "text/plain": [
       "(9, 5, 8)"
      ]
     },
     "execution_count": 8,
     "metadata": {},
     "output_type": "execute_result"
    }
   ],
   "source": [
    "a,b,c"
   ]
  },
  {
   "cell_type": "markdown",
   "id": "f84cd552-1668-4f97-b817-adf90e3c4019",
   "metadata": {},
   "source": [
    "Q5. Can you write a program that determines the nature of a given number (in this case, 87) as being\r\n",
    "positive, negative, or zero? The program should be designed to take the number as input and perform the\r\n",
    "necessary calculations to determine if the number is positive (i.e., greater than zero), negative (i.e., less\r\n",
    "than zero), or zero (i.e., equal to zero). The output of the program should indicate which of these three\r\n",
    "categories the given number falls into"
   ]
  },
  {
   "cell_type": "code",
   "execution_count": 9,
   "id": "3e95aac2-39e0-459e-b534-9f9f04caab68",
   "metadata": {},
   "outputs": [],
   "source": [
    "def check_number(num):\n",
    "    if num > 0:\n",
    "        print(\"Number is positive\")\n",
    "    elif num < 0:\n",
    "        print(\"Number is negative\")\n",
    "    elif num == 0:\n",
    "        print(\"Number is zero\")\n"
   ]
  },
  {
   "cell_type": "code",
   "execution_count": 10,
   "id": "2664b450-ea07-49e0-aef6-60d860c614d1",
   "metadata": {},
   "outputs": [
    {
     "name": "stdout",
     "output_type": "stream",
     "text": [
      "Number is negative\n"
     ]
    }
   ],
   "source": [
    "check_number(-67)"
   ]
  },
  {
   "cell_type": "markdown",
   "id": "bbe85964-594d-44dc-8aaa-5f832fa1332b",
   "metadata": {},
   "source": [
    "Q6. How can you create a program that determines whether a given number (in this case, 98) is even or\r\n",
    "odd? The program should be designed to take the number as input and perform the necessary\r\n",
    "calculations to determine whether it is divisible by two. If the number is divisible by two without leaving a\r\n",
    "remainder, it is an even number, and if there is a remainder, it is an odd number. The output of the\r\n",
    "program should indicate whether the given number is even or odd."
   ]
  },
  {
   "cell_type": "code",
   "execution_count": 11,
   "id": "e79953c3-7340-4c4a-91b9-83e04cab6f14",
   "metadata": {},
   "outputs": [],
   "source": [
    "def even_odd(num):\n",
    "    if num % 2 == 0:\n",
    "        print(f\"{num} is even number\")\n",
    "    else:\n",
    "        print(f\"{num} is odd number\")"
   ]
  },
  {
   "cell_type": "code",
   "execution_count": 12,
   "id": "c6733ff9-cdc7-430c-a8da-e8f51a372b22",
   "metadata": {},
   "outputs": [
    {
     "name": "stdout",
     "output_type": "stream",
     "text": [
      "98 is even number\n"
     ]
    }
   ],
   "source": [
    "even_odd(98)"
   ]
  },
  {
   "cell_type": "code",
   "execution_count": 13,
   "id": "c42c8763-335f-406e-aac8-c4804d2e6c51",
   "metadata": {},
   "outputs": [
    {
     "name": "stdout",
     "output_type": "stream",
     "text": [
      "77 is odd number\n"
     ]
    }
   ],
   "source": [
    "even_odd(77)"
   ]
  },
  {
   "cell_type": "markdown",
   "id": "a04c5ff5-fabe-40c6-b9bb-a165221607df",
   "metadata": {},
   "source": [
    "Q7.Write a program for sum of digits.the digits are 76543 and the output should be  25"
   ]
  },
  {
   "cell_type": "code",
   "execution_count": 14,
   "id": "53d6a057-88cc-4ebd-a3b4-d2f66b74ae7c",
   "metadata": {},
   "outputs": [],
   "source": [
    "def sum_of_digits(num):\n",
    "    sum = 0\n",
    "    while num > 0:\n",
    "        sum +=  num % 10\n",
    "        num //= 10\n",
    "\n",
    "    return sum"
   ]
  },
  {
   "cell_type": "code",
   "execution_count": 15,
   "id": "9c7f2f79-0822-44cd-bb22-cb41c7211a29",
   "metadata": {},
   "outputs": [
    {
     "data": {
      "text/plain": [
       "25"
      ]
     },
     "execution_count": 15,
     "metadata": {},
     "output_type": "execute_result"
    }
   ],
   "source": [
    "sum_of_digits(76543)"
   ]
  },
  {
   "cell_type": "markdown",
   "id": "1cbcded0-420e-40ae-a685-e273da9e1a0e",
   "metadata": {},
   "source": [
    "Q8.Write a program for reversing the given number  5436 and the output  should be 6345."
   ]
  },
  {
   "cell_type": "code",
   "execution_count": 16,
   "id": "6f4edc5d-94e4-409e-bfd5-0bc358af5649",
   "metadata": {},
   "outputs": [],
   "source": [
    "def reverse_number(num):\n",
    "    reverse = 0\n",
    "    while num > 0:\n",
    "        digit = num % 10\n",
    "        reverse = (reverse * 10) + digit\n",
    "        num //= 10\n",
    "\n",
    "    return reverse"
   ]
  },
  {
   "cell_type": "code",
   "execution_count": 17,
   "id": "e3a02570-107f-4e03-b44b-05dcf7cbe25d",
   "metadata": {},
   "outputs": [
    {
     "data": {
      "text/plain": [
       "6345"
      ]
     },
     "execution_count": 17,
     "metadata": {},
     "output_type": "execute_result"
    }
   ],
   "source": [
    "reverse_number(5436)"
   ]
  },
  {
   "cell_type": "markdown",
   "id": "f6366dfc-8da6-432d-a38b-11df29c1db28",
   "metadata": {},
   "source": [
    "Q10.Write a program the given year is 1996, a leap year."
   ]
  },
  {
   "cell_type": "code",
   "execution_count": 18,
   "id": "f261ad4b-5ad1-440b-9823-b13e059df007",
   "metadata": {},
   "outputs": [],
   "source": [
    "def leap_year(year):\n",
    "    if (year % 4 == 0 and year % 100 != 0) or (year % 400 == 0):\n",
    "        print(f\"{year} is a leap year.\")\n",
    "    else:\n",
    "        print(f\"{year} in not a leap year\")"
   ]
  },
  {
   "cell_type": "code",
   "execution_count": 19,
   "id": "f82f5676-1eb4-4361-ba89-40964a3414a0",
   "metadata": {},
   "outputs": [
    {
     "name": "stdout",
     "output_type": "stream",
     "text": [
      "1996 is a leap year.\n"
     ]
    }
   ],
   "source": [
    "leap_year(1996)"
   ]
  },
  {
   "cell_type": "code",
   "execution_count": 20,
   "id": "f46eee9c-6537-4600-ae53-edf89f1faf35",
   "metadata": {},
   "outputs": [
    {
     "name": "stdout",
     "output_type": "stream",
     "text": [
      "2021 in not a leap year\n"
     ]
    }
   ],
   "source": [
    "leap_year(2021)"
   ]
  },
  {
   "cell_type": "code",
   "execution_count": null,
   "id": "a67b4480-e10f-4aad-b1b1-609e91216e14",
   "metadata": {},
   "outputs": [],
   "source": []
  }
 ],
 "metadata": {
  "kernelspec": {
   "display_name": "Python 3 (ipykernel)",
   "language": "python",
   "name": "python3"
  },
  "language_info": {
   "codemirror_mode": {
    "name": "ipython",
    "version": 3
   },
   "file_extension": ".py",
   "mimetype": "text/x-python",
   "name": "python",
   "nbconvert_exporter": "python",
   "pygments_lexer": "ipython3",
   "version": "3.11.1"
  }
 },
 "nbformat": 4,
 "nbformat_minor": 5
}
