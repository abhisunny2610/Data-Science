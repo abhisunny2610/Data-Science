{
 "cells": [
  {
   "cell_type": "markdown",
   "id": "960bfd61-d847-497e-8447-6192c28c13ce",
   "metadata": {},
   "source": [
    "Q1. Create a dictionary called fruits with the following key-value pairs:\r\n",
    "\r\n",
    "\"apple\": 0.75\r\n",
    "\r\n",
    "\"banana\": 1.25\r\n",
    "\r\n",
    "\"orange\": 0.90\r\n",
    "\r\n",
    "Then, print out the price of a banana."
   ]
  },
  {
   "cell_type": "code",
   "execution_count": 1,
   "id": "228e8595-7253-401f-9e50-6c91266188dd",
   "metadata": {},
   "outputs": [],
   "source": [
    "fruits = {\n",
    "    \"apple\" : 0.75,\n",
    "    \"banana\" : 1.25,\n",
    "    \"orange\" : 0.90\n",
    "}"
   ]
  },
  {
   "cell_type": "code",
   "execution_count": 2,
   "id": "3ae75c48-0650-4d65-a40a-40904902ea4f",
   "metadata": {},
   "outputs": [
    {
     "data": {
      "text/plain": [
       "dict"
      ]
     },
     "execution_count": 2,
     "metadata": {},
     "output_type": "execute_result"
    }
   ],
   "source": [
    "type(fruits)"
   ]
  },
  {
   "cell_type": "code",
   "execution_count": 4,
   "id": "9913eba3-b22a-4fdb-96d0-6cdd0e0f956e",
   "metadata": {},
   "outputs": [
    {
     "name": "stdout",
     "output_type": "stream",
     "text": [
      "1.25\n"
     ]
    }
   ],
   "source": [
    "print(fruits[\"banana\"])"
   ]
  },
  {
   "cell_type": "markdown",
   "id": "f98476fc-d59d-4168-8c8b-cfb7213d4ed4",
   "metadata": {},
   "source": [
    "Q2. Create an empty dictionary called ages. Add the following key-value pairs to the dictionary:\r\n",
    "\r\n",
    "\"Alice\": 30\r\n",
    "\r\n",
    "\"Bob\": 25\r\n",
    "\r\n",
    "\"Charlie\": 35\r\n",
    "\r\n",
    "Then, print out the age of Charlie."
   ]
  },
  {
   "cell_type": "code",
   "execution_count": 5,
   "id": "32c91b8c-510c-42ee-8620-1983718ff27f",
   "metadata": {},
   "outputs": [],
   "source": [
    "ages = {}\n",
    "\n",
    "ages.update({\"Alice\" : 30, \"Bob\":25, \"Charlie\":35})"
   ]
  },
  {
   "cell_type": "code",
   "execution_count": 6,
   "id": "c337f7c5-f588-4cf5-83cc-32e27cc5efd3",
   "metadata": {},
   "outputs": [
    {
     "data": {
      "text/plain": [
       "{'Alice': 30, 'Bob': 25, 'Charlie': 35}"
      ]
     },
     "execution_count": 6,
     "metadata": {},
     "output_type": "execute_result"
    }
   ],
   "source": [
    "ages"
   ]
  },
  {
   "cell_type": "code",
   "execution_count": 7,
   "id": "85c0711c-d569-431a-a7fd-d364b7af71b6",
   "metadata": {},
   "outputs": [
    {
     "name": "stdout",
     "output_type": "stream",
     "text": [
      "35\n"
     ]
    }
   ],
   "source": [
    "print(ages[\"Charlie\"])"
   ]
  },
  {
   "cell_type": "markdown",
   "id": "8f41d4f5-c68a-45a2-a639-f39cfe4871bf",
   "metadata": {},
   "source": [
    "Q3. Write a function called word_count(text) that takes a string as input and returns a dictionary where\r\n",
    "each key is a word in the text and its value is the number of times that word appears in the text. For\r\n",
    "example, word_count(\"hello world hello\") should return {\"hello\": 2, \"world\": 1}."
   ]
  },
  {
   "cell_type": "code",
   "execution_count": 21,
   "id": "bc00f4d8-f397-4866-913e-502fe21a8a69",
   "metadata": {},
   "outputs": [],
   "source": [
    "def word_count(text):\n",
    "    counts={}\n",
    "    split_string = text.split()\n",
    "    \n",
    "    for word in split_string:\n",
    "        if word in counts:\n",
    "            counts[word] += 1\n",
    "        else:\n",
    "            counts[word] = 1\n",
    "\n",
    "    return counts\n",
    "    \n",
    "    "
   ]
  },
  {
   "cell_type": "code",
   "execution_count": 22,
   "id": "1e611ae7-be9d-4c6b-81e9-e29c55052903",
   "metadata": {},
   "outputs": [
    {
     "name": "stdout",
     "output_type": "stream",
     "text": [
      "{'hello': 2, 'world': 1}\n"
     ]
    }
   ],
   "source": [
    "print(word_count(\"hello world hello\"))"
   ]
  },
  {
   "cell_type": "markdown",
   "id": "61688dd1-594d-4444-8d72-68573bf305bf",
   "metadata": {},
   "source": [
    "Q4. Create a dictionary called phone_book with the following key-value pairs:\r\n",
    "\r\n",
    "\"Alice\": \"555-1234\"\r\n",
    "\r\n",
    "\"Bob\": \"555-5678\"\r\n",
    "\r\n",
    "\"Charlie\": \"555-9012\"\r\n",
    "\r\n",
    "Then, prompt the user to enter a name and print out the corresponding phone number. If the name is not\r\n",
    "in the phone book, print out a message saying that the name was not found."
   ]
  },
  {
   "cell_type": "code",
   "execution_count": 35,
   "id": "7386c6b0-b04d-4887-b11b-aaa3185fb1df",
   "metadata": {},
   "outputs": [
    {
     "name": "stdin",
     "output_type": "stream",
     "text": [
      "Enter the name:  Bob\n"
     ]
    },
    {
     "name": "stdout",
     "output_type": "stream",
     "text": [
      "Bob phine number is 555-5678\n"
     ]
    }
   ],
   "source": [
    "phone_book = {\n",
    "    \"Alice\" : '555-1234',\n",
    "    \"Bob\" : '555-5678',\n",
    "    \"Charlie\" : '555-9012',\n",
    "}\n",
    "\n",
    "name = input(\"Enter the name: \")\n",
    "\n",
    "if name in phone_book:\n",
    "    phone_number = phone_book[name]\n",
    "    print(f\"{name} phine number is {phone_number}\")\n",
    "else:\n",
    "    print(f\"{name} not found\")"
   ]
  },
  {
   "cell_type": "markdown",
   "id": "277c864e-644e-4ca7-8984-d8f5b5298249",
   "metadata": {},
   "source": [
    "Q5. Write a program that prompts the user to enter a number between 1 and 10. If the number is less than\r\n",
    "5, print out \"Too low!\", otherwise print out \"Too high!\"."
   ]
  },
  {
   "cell_type": "code",
   "execution_count": 38,
   "id": "118c62c1-b346-402a-ad46-414b6cf83740",
   "metadata": {},
   "outputs": [
    {
     "name": "stdin",
     "output_type": "stream",
     "text": [
      "Enter a number 4\n"
     ]
    },
    {
     "name": "stdout",
     "output_type": "stream",
     "text": [
      "Numner is too low!\n"
     ]
    }
   ],
   "source": [
    "number = int(input(\"Enter a number\"))\n",
    "\n",
    "if number < 5:\n",
    "    print(\"Numner is too low!\")\n",
    "else:\n",
    "    print(\"Number is too High\")"
   ]
  },
  {
   "cell_type": "markdown",
   "id": "abd3dd4b-e75e-4e9c-9920-d4a5ea6893ff",
   "metadata": {},
   "source": [
    "Q6. Write a program that prompts the user to enter a password. If the password is \"password123\", print\r\n",
    "out \"Access granted\", otherwise print out \"Access denied\"."
   ]
  },
  {
   "cell_type": "code",
   "execution_count": 40,
   "id": "501f384f-faba-4419-8f5d-bb1afbc71aaf",
   "metadata": {},
   "outputs": [
    {
     "name": "stdin",
     "output_type": "stream",
     "text": [
      "Enter a passwor password123\n"
     ]
    },
    {
     "name": "stdout",
     "output_type": "stream",
     "text": [
      "Access Granted\n"
     ]
    }
   ],
   "source": [
    "password = input(\"Enter a passwor\")\n",
    "ps = \"password123\"\n",
    "\n",
    "if password == ps:\n",
    "    print(\"Access Granted\")\n",
    "else:\n",
    "    print(\"Access Denied\")"
   ]
  },
  {
   "cell_type": "markdown",
   "id": "4ad9c891-279b-43e9-b808-d5eede97897a",
   "metadata": {},
   "source": [
    "Q7. Write a program that prompts the user to enter a positive integer. Then, use a loop to print out all the\r\n",
    "odd numbers from 1 to that integer."
   ]
  },
  {
   "cell_type": "code",
   "execution_count": 41,
   "id": "10e0df70-a7f5-4fb8-8f66-8c305f7f95c1",
   "metadata": {},
   "outputs": [
    {
     "name": "stdin",
     "output_type": "stream",
     "text": [
      "Enter a positive integer 50\n"
     ]
    },
    {
     "name": "stdout",
     "output_type": "stream",
     "text": [
      "[1, 3, 5, 7, 9, 11, 13, 15, 17, 19, 21, 23, 25, 27, 29, 31, 33, 35, 37, 39, 41, 43, 45, 47, 49]\n"
     ]
    }
   ],
   "source": [
    "positive_integer = int(input(\"Enter a positive integer\"))\n",
    "\n",
    "odd_numbers = []\n",
    "\n",
    "for i in range(1, positive_integer):\n",
    "    if i % 2 != 0:\n",
    "        odd_numbers.append(i)\n",
    "\n",
    "print(odd_numbers)"
   ]
  },
  {
   "cell_type": "markdown",
   "id": "b17fb6ba-0df4-4de4-bf13-7406b65d3439",
   "metadata": {},
   "source": [
    "Q8. Write a program that generates a random number between 1 and 100 and then prompts the user to\r\n",
    "guess the number. If the user's guess is too low, print out \"Too low!\", if the guess is too high, print out \"Too\r\n",
    "high!\", and if the guess is correct, print out \"You win!\"."
   ]
  },
  {
   "cell_type": "code",
   "execution_count": 44,
   "id": "d19da6f1-6000-4682-8923-bc41d39a965d",
   "metadata": {},
   "outputs": [
    {
     "name": "stdin",
     "output_type": "stream",
     "text": [
      "Enter a number 99\n"
     ]
    },
    {
     "name": "stdout",
     "output_type": "stream",
     "text": [
      "Random number is 6\n",
      "Too high\n"
     ]
    }
   ],
   "source": [
    "import random\n",
    "\n",
    "random_number = random.randint(0, 100)\n",
    "user_number = int(input(\"Enter a number\"))\n",
    "\n",
    "print(f\"Random number is {random_number}\")\n",
    "\n",
    "if user_number < random_number:\n",
    "    print(\"Too low\")\n",
    "elif user_number > random_number:\n",
    "    print(\"Too high\")\n",
    "else:\n",
    "    print(\"You win\")\n"
   ]
  },
  {
   "cell_type": "markdown",
   "id": "c9d17573-905b-47d4-bd34-2b25eae3ddc5",
   "metadata": {},
   "source": [
    "Q9. Write a program that generates a random number between 1 and 10 and then prompts the user to\r\n",
    "guess the number. The user has three attempts to guess the number. If the user guesses correctly within\r\n",
    "three attempts, print out \"You win!\", otherwise print out \"You lose!\"."
   ]
  },
  {
   "cell_type": "code",
   "execution_count": null,
   "id": "735a0ce6-e9da-489a-a7a0-a0b89251d59a",
   "metadata": {},
   "outputs": [],
   "source": [
    "random_number = random.randint(0, 100)\n",
    "attempt1 = int(input(\"Enter a number\"))\n",
    "\n",
    "print(f\"Random number is {random_number}\")\n",
    "\n",
    "if user_number < random_number:\n",
    "    print(\"Too low\")\n",
    "elif user_number > random_number:\n",
    "    print(\"Too high\")\n",
    "else:\n",
    "    print(\"You win\")"
   ]
  }
 ],
 "metadata": {
  "kernelspec": {
   "display_name": "Python 3 (ipykernel)",
   "language": "python",
   "name": "python3"
  },
  "language_info": {
   "codemirror_mode": {
    "name": "ipython",
    "version": 3
   },
   "file_extension": ".py",
   "mimetype": "text/x-python",
   "name": "python",
   "nbconvert_exporter": "python",
   "pygments_lexer": "ipython3",
   "version": "3.11.1"
  }
 },
 "nbformat": 4,
 "nbformat_minor": 5
}
