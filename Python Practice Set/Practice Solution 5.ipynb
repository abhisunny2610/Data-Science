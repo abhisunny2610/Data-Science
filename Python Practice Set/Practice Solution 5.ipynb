{
 "cells": [
  {
   "cell_type": "markdown",
   "id": "7020f095-82a7-4479-8f11-00c7f9f9b4ad",
   "metadata": {},
   "source": [
    "Q1. Can you create a Python program that reads a text file and counts the number of words contained\r\n",
    "within it? The program should be designed to read the file and break it down into individual words, using\r\n",
    "spaces, punctuation marks, and other delimiters to separate the words. It should then count the number\r\n",
    "of words found in the file and display this count as output. The program should be flexible enough to work\r\n",
    "with different text files and should be able to handle a variety of formatting and punctuation styles."
   ]
  },
  {
   "cell_type": "code",
   "execution_count": null,
   "id": "ff0e21e1-4b2a-4ccf-b40f-84c6cee8dce8",
   "metadata": {},
   "outputs": [],
   "source": []
  }
 ],
 "metadata": {
  "kernelspec": {
   "display_name": "Python 3 (ipykernel)",
   "language": "python",
   "name": "python3"
  },
  "language_info": {
   "codemirror_mode": {
    "name": "ipython",
    "version": 3
   },
   "file_extension": ".py",
   "mimetype": "text/x-python",
   "name": "python",
   "nbconvert_exporter": "python",
   "pygments_lexer": "ipython3",
   "version": "3.11.1"
  }
 },
 "nbformat": 4,
 "nbformat_minor": 5
}
