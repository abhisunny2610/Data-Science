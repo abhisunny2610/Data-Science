{
 "cells": [
  {
   "cell_type": "markdown",
   "id": "79a70038-fe2a-4a3b-9747-c85296f47846",
   "metadata": {},
   "source": [
    "# Statistics\n",
    "- IQR-python\n",
    "- Probability\n",
    "- Permutation and combination\n",
    "- Confidence Intervals\n",
    "- P value\n",
    "- Hypothesis Testing"
   ]
  },
  {
   "cell_type": "code",
   "execution_count": 1,
   "id": "37c22f67-2570-4402-b708-48006f44ed12",
   "metadata": {},
   "outputs": [],
   "source": [
    "import pandas as pd\n",
    "import numpy as np\n",
    "import seaborn as sns\n",
    "import matplotlib.pyplot as plt\n",
    "import statistics\n",
    "%matplotlib inline"
   ]
  },
  {
   "cell_type": "code",
   "execution_count": 2,
   "id": "b6b06ea4-960d-4621-b5c8-600e3a967d76",
   "metadata": {},
   "outputs": [],
   "source": [
    "## define our dataset\n",
    "dataset = [11, 10, 12, 14, 12, 15, 14, 13, 15, 102, 12, 14, 17, 19, 107, 10, 13, 12, 14, 12, 108, 12, 11, 14, 13, 15, 10, 15, 12, 10, 14, 13, 15, 10]"
   ]
  },
  {
   "cell_type": "code",
   "execution_count": 3,
   "id": "992561d3-f5d3-403b-bbeb-1ad2f299c447",
   "metadata": {},
   "outputs": [
    {
     "name": "stdout",
     "output_type": "stream",
     "text": [
      "[11, 10, 12, 14, 12, 15, 14, 13, 15, 102, 12, 14, 17, 19, 107, 10, 13, 12, 14, 12, 108, 12, 11, 14, 13, 15, 10, 15, 12, 10, 14, 13, 15, 10]\n"
     ]
    }
   ],
   "source": [
    "print(dataset)"
   ]
  },
  {
   "cell_type": "markdown",
   "id": "63a547c8-f921-4262-9b0b-1eb4e0a17569",
   "metadata": {},
   "source": [
    "### Outliers"
   ]
  },
  {
   "cell_type": "code",
   "execution_count": 4,
   "id": "b4e2ecf6-623d-4fa7-aca1-c7a07d107167",
   "metadata": {},
   "outputs": [
    {
     "data": {
      "text/plain": [
       "(array([31.,  0.,  0.,  0.,  0.,  0.,  0.,  0.,  0.,  3.]),\n",
       " array([ 10. ,  19.8,  29.6,  39.4,  49.2,  59. ,  68.8,  78.6,  88.4,\n",
       "         98.2, 108. ]),\n",
       " <BarContainer object of 10 artists>)"
      ]
     },
     "execution_count": 4,
     "metadata": {},
     "output_type": "execute_result"
    },
    {
     "data": {
      "image/png": "[encoded data removed]",
      "text/plain": [
       "<Figure size 640x480 with 1 Axes>"
      ]
     },
     "metadata": {},
     "output_type": "display_data"
    }
   ],
   "source": [
    " plt.hist(dataset)"
   ]
  },
  {
   "cell_type": "code",
   "execution_count": 5,
   "id": "411586ff-f202-4611-8b64-4733d4a32528",
   "metadata": {},
   "outputs": [],
   "source": [
    "### removing outliers\n",
    "\n",
    "outliers = []\n",
    "\n",
    "def dect_outliers(data):\n",
    "    threshold = 3 ## 3 std deviation\n",
    "    mean = np.mean(data)\n",
    "    std = np.std(data)\n",
    "\n",
    "    for i in data:\n",
    "        z_score = (i-mean)/std\n",
    "        if np.abs(z_score) > threshold: ## np.abs is used to round the values\n",
    "            outliers.append(i)\n",
    "\n",
    "    return outliers"
   ]
  },
  {
   "cell_type": "code",
   "execution_count": 6,
   "id": "5ea954f9-5c04-4e9e-8c65-a7a008fae40c",
   "metadata": {},
   "outputs": [
    {
     "data": {
      "text/plain": [
       "[102, 107, 108]"
      ]
     },
     "execution_count": 6,
     "metadata": {},
     "output_type": "execute_result"
    }
   ],
   "source": [
    "dect_outliers(dataset)"
   ]
  },
  {
   "cell_type": "markdown",
   "id": "433268bd-553b-40c7-831a-9e9345ec304e",
   "metadata": {},
   "source": [
    "## IQR INTER QUATILE RANGE\n",
    "\n",
    "IQR is basically find out the lower fence and higher bits that we really need to find out in case of iqr.\n",
    "\n",
    "step to find iqr\n",
    "- Sort the data\n",
    "- Calculate Q1 and Q3\n",
    "- IQR(Q3 - Q1)\n",
    "- Find the lower fence(q1-1.5(iqr))\n",
    "- Find the higher fence(q3-1.5(iqr))"
   ]
  },
  {
   "cell_type": "code",
   "execution_count": 7,
   "id": "b6311288-a8ed-4b01-921c-fa4a5e756722",
   "metadata": {},
   "outputs": [],
   "source": [
    "## step 1\n",
    "dataset = sorted(dataset)"
   ]
  },
  {
   "cell_type": "code",
   "execution_count": 8,
   "id": "d1dd338e-01ff-4704-b293-8b66531ecab1",
   "metadata": {},
   "outputs": [
    {
     "name": "stdout",
     "output_type": "stream",
     "text": [
      "[10, 10, 10, 10, 10, 11, 11, 12, 12, 12, 12, 12, 12, 12, 13, 13, 13, 13, 14, 14, 14, 14, 14, 14, 15, 15, 15, 15, 15, 17, 19, 102, 107, 108]\n"
     ]
    }
   ],
   "source": [
    "print(dataset)"
   ]
  },
  {
   "cell_type": "code",
   "execution_count": 9,
   "id": "b64bca3c-b9a3-4ab3-a09b-1af64fedf913",
   "metadata": {},
   "outputs": [],
   "source": [
    "## step 2\n",
    "q1, q3 = np.percentile(dataset, [25, 75])"
   ]
  },
  {
   "cell_type": "code",
   "execution_count": 10,
   "id": "ca979ecd-13e3-438a-bd03-9ad73a087c04",
   "metadata": {},
   "outputs": [
    {
     "name": "stdout",
     "output_type": "stream",
     "text": [
      "12.0 15.0\n"
     ]
    }
   ],
   "source": [
    "print(q1, q3)"
   ]
  },
  {
   "cell_type": "code",
   "execution_count": 11,
   "id": "286e2f31-a78c-4fd6-b646-0fd76bfa4121",
   "metadata": {},
   "outputs": [],
   "source": [
    "## step 3\n",
    "iqr = q3-q1"
   ]
  },
  {
   "cell_type": "code",
   "execution_count": 12,
   "id": "48003fa4-3779-47be-bcdb-6f3f3172a597",
   "metadata": {},
   "outputs": [
    {
     "name": "stdout",
     "output_type": "stream",
     "text": [
      "3.0\n"
     ]
    }
   ],
   "source": [
    "print(iqr)"
   ]
  },
  {
   "cell_type": "code",
   "execution_count": 13,
   "id": "3e27f794-ded5-4b94-a2c2-684a89d9d638",
   "metadata": {},
   "outputs": [],
   "source": [
    "## step 4\n",
    "lower_fence = q1 - (1.5*iqr)\n",
    "higher_fence = q3 + (1.5*iqr)"
   ]
  },
  {
   "cell_type": "code",
   "execution_count": 14,
   "id": "d1c7e5ab-fb06-4d6b-bbb3-85ac9cc57fca",
   "metadata": {},
   "outputs": [
    {
     "name": "stdout",
     "output_type": "stream",
     "text": [
      "7.5 19.5\n"
     ]
    }
   ],
   "source": [
    "print(lower_fence, higher_fence)"
   ]
  },
  {
   "cell_type": "code",
   "execution_count": 15,
   "id": "07722d09-13a2-4adf-aa95-907b3e56b546",
   "metadata": {},
   "outputs": [
    {
     "data": {
      "text/plain": [
       "<Axes: >"
      ]
     },
     "execution_count": 15,
     "metadata": {},
     "output_type": "execute_result"
    },
    {
     "data": {
      "image/png": "[encoded data removed]",
      "text/plain": [
       "<Figure size 640x480 with 1 Axes>"
      ]
     },
     "metadata": {},
     "output_type": "display_data"
    }
   ],
   "source": [
    "## create boxplot\n",
    "sns.boxplot(dataset, orient='h')"
   ]
  },
  {
   "cell_type": "code",
   "execution_count": null,
   "id": "7249f182-54ca-4e1d-9de4-513354b89b1e",
   "metadata": {},
   "outputs": [],
   "source": []
  }
 ],
 "metadata": {
  "kernelspec": {
   "display_name": "Python 3 (ipykernel)",
   "language": "python",
   "name": "python3"
  },
  "language_info": {
   "codemirror_mode": {
    "name": "ipython",
    "version": 3
   },
   "file_extension": ".py",
   "mimetype": "text/x-python",
   "name": "python",
   "nbconvert_exporter": "python",
   "pygments_lexer": "ipython3",
   "version": "3.11.1"
  }
 },
 "nbformat": 4,
 "nbformat_minor": 5
}
