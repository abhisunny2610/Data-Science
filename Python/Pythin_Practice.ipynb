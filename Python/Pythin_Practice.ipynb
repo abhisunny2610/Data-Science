{
 "cells": [
  {
   "cell_type": "code",
   "execution_count": 88,
   "id": "997d08d3-d750-4ddf-89be-67a54c7660ac",
   "metadata": {},
   "outputs": [],
   "source": [
    "s = \"abhihsek\""
   ]
  },
  {
   "cell_type": "code",
   "execution_count": 89,
   "id": "5cb59cf4-ae40-4570-8218-cb2492c2b976",
   "metadata": {},
   "outputs": [
    {
     "data": {
      "text/plain": [
       "'a'"
      ]
     },
     "execution_count": 89,
     "metadata": {},
     "output_type": "execute_result"
    }
   ],
   "source": [
    "s[0]"
   ]
  },
  {
   "cell_type": "code",
   "execution_count": 90,
   "id": "9c75ed0d-f4de-4991-9697-69d268d001a7",
   "metadata": {},
   "outputs": [
    {
     "data": {
      "text/plain": [
       "'abhi'"
      ]
     },
     "execution_count": 90,
     "metadata": {},
     "output_type": "execute_result"
    }
   ],
   "source": [
    "s[0:4]"
   ]
  },
  {
   "cell_type": "code",
   "execution_count": 91,
   "id": "91e98bb3-d2a5-45c4-950f-b17ff03acbe7",
   "metadata": {},
   "outputs": [
    {
     "data": {
      "text/plain": [
       "'ihba'"
      ]
     },
     "execution_count": 91,
     "metadata": {},
     "output_type": "execute_result"
    }
   ],
   "source": [
    "s[-5:-9:-1]"
   ]
  },
  {
   "cell_type": "code",
   "execution_count": 92,
   "id": "b8294213-ede0-44f2-882e-977fa15eb883",
   "metadata": {},
   "outputs": [
    {
     "data": {
      "text/plain": [
       "'Abhihsek'"
      ]
     },
     "execution_count": 92,
     "metadata": {},
     "output_type": "execute_result"
    }
   ],
   "source": [
    "s.capitalize()"
   ]
  },
  {
   "cell_type": "code",
   "execution_count": 93,
   "id": "a70d55e9-784d-4983-a850-9c54333fc88e",
   "metadata": {},
   "outputs": [
    {
     "data": {
      "text/plain": [
       "'ABHIHSEK'"
      ]
     },
     "execution_count": 93,
     "metadata": {},
     "output_type": "execute_result"
    }
   ],
   "source": [
    "s.upper()"
   ]
  },
  {
   "cell_type": "code",
   "execution_count": 94,
   "id": "a2f95c72-b2c5-4f8f-bb0f-c94c1162c39b",
   "metadata": {},
   "outputs": [
    {
     "data": {
      "text/plain": [
       "'abhihsek'"
      ]
     },
     "execution_count": 94,
     "metadata": {},
     "output_type": "execute_result"
    }
   ],
   "source": [
    "s.casefold()\n"
   ]
  },
  {
   "cell_type": "code",
   "execution_count": null,
   "id": "ebca6325-fd90-402a-a473-657bab436b6b",
   "metadata": {},
   "outputs": [],
   "source": []
  },
  {
   "cell_type": "code",
   "execution_count": 95,
   "id": "8c3281f0-6f0c-40ec-8ebe-5f8870c6e433",
   "metadata": {},
   "outputs": [
    {
     "data": {
      "text/plain": [
       "2"
      ]
     },
     "execution_count": 95,
     "metadata": {},
     "output_type": "execute_result"
    }
   ],
   "source": [
    "s.count(\"h\")"
   ]
  },
  {
   "cell_type": "code",
   "execution_count": 96,
   "id": "0e103e3d-deb5-4dd9-b555-4a58dc56f9a0",
   "metadata": {},
   "outputs": [
    {
     "data": {
      "text/plain": [
       "1"
      ]
     },
     "execution_count": 96,
     "metadata": {},
     "output_type": "execute_result"
    }
   ],
   "source": [
    "s.find(\"b\")\n"
   ]
  },
  {
   "cell_type": "code",
   "execution_count": 97,
   "id": "d602576b-c084-49a2-9404-cb43482dff2e",
   "metadata": {},
   "outputs": [
    {
     "data": {
      "text/plain": [
       "'abhihsek'"
      ]
     },
     "execution_count": 97,
     "metadata": {},
     "output_type": "execute_result"
    }
   ],
   "source": [
    "s.format(\"Abhishek Sharma\")"
   ]
  },
  {
   "cell_type": "code",
   "execution_count": 98,
   "id": "a480fac5-4286-48a3-96f8-42885d276356",
   "metadata": {},
   "outputs": [],
   "source": [
    "para = 'What’s better than stories to inculcate moral values in children happily? Stories, at bedtime or during the day, are a great way of bonding with children and teaching them lessons. But how does the bonding happen? Well, when we recite stories to children in a way they understand (*we mean by making faces and cute sounds*), they start developing the habit of listening to their parents, which in later years, helps a lot. Fables like the ‘Thirst Crow’ story in English are short and easy to understand for children that send profound lessons.'"
   ]
  },
  {
   "cell_type": "code",
   "execution_count": 99,
   "id": "7b2f98b2-996b-4a99-a3d4-8bbc86fbe3fb",
   "metadata": {},
   "outputs": [
    {
     "name": "stdout",
     "output_type": "stream",
     "text": [
      "What’s better than stories to inculcate moral values in children happily? Stories, at bedtime or during the day, are a great way of bonding with children and teaching them lessons. But how does the bonding happen? Well, when we recite stories to children in a way they understand (*we mean by making faces and cute sounds*), they start developing the habit of listening to their parents, which in later years, helps a lot. Fables like the ‘Thirst Crow’ story in English are short and easy to understand for children that send profound lessons.\n"
     ]
    }
   ],
   "source": [
    "print(para)"
   ]
  },
  {
   "cell_type": "code",
   "execution_count": 100,
   "id": "380de268-6590-4273-bb29-d844e6302416",
   "metadata": {},
   "outputs": [
    {
     "name": "stdout",
     "output_type": "stream",
     "text": [
      "8 [20, 27, 75, 236, 243, 370, 454, 489]\n"
     ]
    }
   ],
   "source": [
    "count = 0\n",
    "index = []\n",
    "start = 0\n",
    "end = len(para)\n",
    "\n",
    "while True:\n",
    "    result = para.find(\"to\", start, end)\n",
    "\n",
    "    if result == -1:\n",
    "        break\n",
    "\n",
    "    if result != -1:\n",
    "        count += 1\n",
    "        index.append(result)\n",
    "        start = result + 1;\n",
    "\n",
    "print(count, index)"
   ]
  },
  {
   "cell_type": "code",
   "execution_count": 101,
   "id": "5939f5ad-c6e2-4cea-b078-7bf5583fa99d",
   "metadata": {},
   "outputs": [
    {
     "name": "stdout",
     "output_type": "stream",
     "text": [
      "What’s better than s@@ries @@ inculcate moral values in children happily? S@@ries, at bedtime or during the day, are a great way of bonding with children and teaching them lessons. But how does the bonding happen? Well, when we recite s@@ries @@ children in a way they understand (*we mean by making faces and cute sounds*), they start developing the habit of listening @@ their parents, which in later years, helps a lot. Fables like the ‘Thirst Crow’ s@@ry in English are short and easy @@ understand for children that send profound lessons.\n"
     ]
    }
   ],
   "source": [
    "duplicate = \"\"\n",
    "\n",
    "duplicate = para.replace(\"to\", \"@@\")\n",
    "\n",
    "print(duplicate)"
   ]
  },
  {
   "cell_type": "code",
   "execution_count": 102,
   "id": "1cae7a95-6045-4865-a4a8-27bec3543dc5",
   "metadata": {},
   "outputs": [],
   "source": [
    "import json\n",
    "import random"
   ]
  },
  {
   "cell_type": "code",
   "execution_count": 103,
   "id": "dd32d622-867b-41d7-bdea-9a65567dfed7",
   "metadata": {},
   "outputs": [],
   "source": [
    "file = open(\"Person Data.json\")\n",
    "\n",
    "data = json.load(file)\n",
    "\n",
    "users = data[\"users\"]"
   ]
  },
  {
   "cell_type": "code",
   "execution_count": 104,
   "id": "a7787f34-ab01-467a-826b-dfba384d18b6",
   "metadata": {},
   "outputs": [],
   "source": [
    "subjects = [\"Hindi\", \"English\", \"Math\", \"Science\", \"Social Science\"]"
   ]
  },
  {
   "cell_type": "code",
   "execution_count": 105,
   "id": "9c215b1f-fdcd-4f7c-8583-d6d58533af4a",
   "metadata": {},
   "outputs": [],
   "source": [
    "numbers = {subject:random.randint(30, 100) for subject in subjects}"
   ]
  },
  {
   "cell_type": "code",
   "execution_count": 106,
   "id": "7904b8db-62bb-467d-be92-5792b624045c",
   "metadata": {},
   "outputs": [
    {
     "data": {
      "text/plain": [
       "{'Hindi': 66, 'English': 44, 'Math': 44, 'Science': 93, 'Social Science': 37}"
      ]
     },
     "execution_count": 106,
     "metadata": {},
     "output_type": "execute_result"
    }
   ],
   "source": [
    "numbers"
   ]
  },
  {
   "cell_type": "code",
   "execution_count": 107,
   "id": "d8dd7561-d5f1-450b-a99f-68e2c1ce5e26",
   "metadata": {},
   "outputs": [],
   "source": [
    "def extract_info(user, keys=[\"id\", \"firstName\", \"lastName\",\n",
    "                           \"age\", \"gender\", \"bloodGroup\", \"email\"]):\n",
    "    user_data = {}\n",
    "    for key in keys:\n",
    "        user_data[key] = user.get(key,\"\")\n",
    "\n",
    "    user_data[\"marks\"] =  {subject:random.randint(30, 100) for subject in subjects}\n",
    "    return user_data"
   ]
  },
  {
   "cell_type": "code",
   "execution_count": null,
   "id": "abafee96-2e04-4210-8656-8f4bddbb9edd",
   "metadata": {},
   "outputs": [],
   "source": []
  },
  {
   "cell_type": "code",
   "execution_count": 109,
   "id": "833df0ca-06ff-4acd-9407-15e5af2ce665",
   "metadata": {},
   "outputs": [],
   "source": [
    "student_info = list(map(extract_info, users))"
   ]
  },
  {
   "cell_type": "code",
   "execution_count": null,
   "id": "11457214-c59f-4d58-8125-d33b3e705a2c",
   "metadata": {},
   "outputs": [],
   "source": []
  },
  {
   "cell_type": "code",
   "execution_count": 111,
   "id": "62e4f820-94d1-482a-8e1b-bf6b6abf4c3f",
   "metadata": {},
   "outputs": [],
   "source": [
    "def calculate_result(student, min_mark = 45):\n",
    "    marks = student[\"marks\"]\n",
    "    test_result = {}\n",
    "    for subject, mark in marks.items():\n",
    "\n",
    "        if mark > min_mark:\n",
    "            test_result[subject] = True\n",
    "        else:\n",
    "            test_result[subject] = False\n",
    "\n",
    "    return (student['firstName']+\" \"+student[\"lastName\"], test_result)"
   ]
  },
  {
   "cell_type": "code",
   "execution_count": 112,
   "id": "87d4ee96-3ae9-4ae6-8de5-6e682c7ea19f",
   "metadata": {},
   "outputs": [
    {
     "data": {
      "text/plain": [
       "('Terry Medhurst',\n",
       " {'Hindi': True,\n",
       "  'English': True,\n",
       "  'Math': True,\n",
       "  'Science': False,\n",
       "  'Social Science': True})"
      ]
     },
     "execution_count": 112,
     "metadata": {},
     "output_type": "execute_result"
    }
   ],
   "source": [
    "calculate_result(student_info[0])"
   ]
  },
  {
   "cell_type": "code",
   "execution_count": 113,
   "id": "2e53dd7e-8ed1-4e88-981c-f194e412f62c",
   "metadata": {},
   "outputs": [],
   "source": [
    "test_result_score = list(map(calculate_result, student_info))"
   ]
  },
  {
   "cell_type": "code",
   "execution_count": null,
   "id": "67845d4c-b1f2-4685-9ebb-68eb67848749",
   "metadata": {},
   "outputs": [],
   "source": []
  },
  {
   "cell_type": "code",
   "execution_count": 115,
   "id": "b8032118-5d10-4bf7-b3da-2eddc6c36133",
   "metadata": {},
   "outputs": [],
   "source": [
    "def pass_fail(student):\n",
    "    name, subject = student\n",
    "    return(name, all(subject.values()))"
   ]
  },
  {
   "cell_type": "code",
   "execution_count": 116,
   "id": "f8c0d683-9ee7-4f58-8bfa-a59ec559820b",
   "metadata": {},
   "outputs": [
    {
     "data": {
      "text/plain": [
       "('Terry Medhurst', False)"
      ]
     },
     "execution_count": 116,
     "metadata": {},
     "output_type": "execute_result"
    }
   ],
   "source": [
    "pass_fail(test_result_score[0])"
   ]
  },
  {
   "cell_type": "code",
   "execution_count": 117,
   "id": "f7894d23-caa8-44e7-9521-475bbae175cd",
   "metadata": {},
   "outputs": [
    {
     "name": "stdout",
     "output_type": "stream",
     "text": [
      "Terry Medhurst       Fail\n",
      "Sheldon Quigley      Fail\n",
      "Terrill Hills        Fail\n",
      "Miles Cummerata      Fail\n",
      "Mavis Schultz        Fail\n",
      "Alison Reichert      Pass\n",
      "Oleta Abbott         Fail\n",
      "Ewell Mueller        Fail\n",
      "Demetrius Corkery    Fail\n",
      "Eleanora Price       Fail\n",
      "Marcel Jones         Fail\n",
      "Assunta Rath         Pass\n",
      "Trace Douglas        Pass\n",
      "Enoch Lynch          Pass\n",
      "Jeanne Halvorson     Fail\n",
      "Trycia Fadel         Fail\n",
      "Bradford Prohaska    Fail\n",
      "Arely Skiles         Fail\n",
      "Gust Purdy           Fail\n",
      "Lenna Renner         Fail\n",
      "Doyle Ernser         Fail\n",
      "Tressa Weber         Pass\n",
      "Felicity O'Reilly    Pass\n",
      "Jocelyn Schuster     Fail\n",
      "Edwina Ernser        Fail\n",
      "Griffin Braun        Fail\n",
      "Piper Schowalter     Pass\n",
      "Kody Terry           Pass\n",
      "Macy Greenfelder     Fail\n",
      "Maurine Stracke      Fail\n"
     ]
    }
   ],
   "source": [
    "for student, result in list(map(pass_fail, test_result_score)):\n",
    "    if result:\n",
    "        print(f\"{student:20s} Pass\")\n",
    "    else:\n",
    "        print(f\"{student:20s} Fail\")"
   ]
  },
  {
   "cell_type": "code",
   "execution_count": 134,
   "id": "6113d255-e4ba-4dce-95f2-bf3bf5560914",
   "metadata": {},
   "outputs": [],
   "source": [
    "fail_list = []\n",
    "pass_list = []\n",
    "\n",
    "for student, result in list(map(pass_fail, test_result_score)):\n",
    "    if result == True:\n",
    "        pass_list.append(student)\n",
    "    elif result == False:\n",
    "        fail_list.append(student)\n",
    "    else:\n",
    "        print(\"Student marks not exist\")"
   ]
  },
  {
   "cell_type": "code",
   "execution_count": 141,
   "id": "7c8a1752-5869-4e3f-b68b-26b35ad5ddfd",
   "metadata": {},
   "outputs": [
    {
     "name": "stdout",
     "output_type": "stream",
     "text": [
      "Total number of student pass 9 Passed Students ['Alison Reichert', 'Assunta Rath', 'Trace Douglas', 'Enoch Lynch', 'Tressa Weber', \"Felicity O'Reilly\", 'Piper Schowalter', 'Kody Terry']\n"
     ]
    }
   ],
   "source": [
    "print(\"Total number of student pass\", len(pass_list) + 1, \"Passed Students\", pass_list)"
   ]
  },
  {
   "cell_type": "code",
   "execution_count": 142,
   "id": "597d3972-60fb-49b5-bbd6-da833c8eaf67",
   "metadata": {},
   "outputs": [
    {
     "name": "stdout",
     "output_type": "stream",
     "text": [
      "Total number of student fail 23 Failed Students ['Terry Medhurst', 'Sheldon Quigley', 'Terrill Hills', 'Miles Cummerata', 'Mavis Schultz', 'Oleta Abbott', 'Ewell Mueller', 'Demetrius Corkery', 'Eleanora Price', 'Marcel Jones', 'Jeanne Halvorson', 'Trycia Fadel', 'Bradford Prohaska', 'Arely Skiles', 'Gust Purdy', 'Lenna Renner', 'Doyle Ernser', 'Jocelyn Schuster', 'Edwina Ernser', 'Griffin Braun', 'Macy Greenfelder', 'Maurine Stracke']\n"
     ]
    }
   ],
   "source": [
    "print(\"Total number of student fail\", len(fail_list) + 1, \"Failed Students\", fail_list)"
   ]
  },
  {
   "cell_type": "code",
   "execution_count": null,
   "id": "ffea4a75-df9e-458a-9a69-908fd0d8da21",
   "metadata": {},
   "outputs": [],
   "source": []
  }
 ],
 "metadata": {
  "kernelspec": {
   "display_name": "Python 3 (ipykernel)",
   "language": "python",
   "name": "python3"
  },
  "language_info": {
   "codemirror_mode": {
    "name": "ipython",
    "version": 3
   },
   "file_extension": ".py",
   "mimetype": "text/x-python",
   "name": "python",
   "nbconvert_exporter": "python",
   "pygments_lexer": "ipython3",
   "version": "3.11.1"
  }
 },
 "nbformat": 4,
 "nbformat_minor": 5
}
