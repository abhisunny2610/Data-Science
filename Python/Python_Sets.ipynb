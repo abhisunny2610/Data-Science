{
 "cells": [
  {
   "cell_type": "markdown",
   "id": "87601317-3a15-4f41-8e62-d7c41489a71a",
   "metadata": {},
   "source": [
    "## Python Sets\n",
    "\n",
    "Sets are used tostore a multiple items in a single variable.\n",
    "\n",
    "Set is `unordered`, `unchangeable` and `unindexed`\n",
    "\n",
    "Sets does not allow duplicate values\n",
    "\n",
    "Set are written in the curly brackets.\n",
    "\n",
    "The value `1` and `True` are considered the same value in sets, and are treated as a duplicate."
   ]
  },
  {
   "cell_type": "code",
   "execution_count": 1,
   "id": "6c327c48-aa1d-4675-8f62-cc098e4f52a6",
   "metadata": {},
   "outputs": [
    {
     "name": "stdout",
     "output_type": "stream",
     "text": [
      "{'Hanish', 'Gautam', 'Pawan', 'Manish', 'Abhishek'}\n"
     ]
    }
   ],
   "source": [
    "## creating a set\n",
    "\n",
    "thisset = {\"Abhishek\", \"Hanish\", \"Manish\", \"Pawan\", \"Gautam\"}\n",
    "\n",
    "print(thisset)"
   ]
  },
  {
   "cell_type": "code",
   "execution_count": 2,
   "id": "09486c3f-0180-4a5d-bb1a-934d2af57b57",
   "metadata": {},
   "outputs": [
    {
     "name": "stdout",
     "output_type": "stream",
     "text": [
      "<class 'set'>\n"
     ]
    }
   ],
   "source": [
    "## type of thisset\n",
    "\n",
    "print(type(thisset))"
   ]
  },
  {
   "cell_type": "code",
   "execution_count": 3,
   "id": "a76f3a46-f2f5-4fb6-9ff9-6529d96bb3a7",
   "metadata": {},
   "outputs": [
    {
     "name": "stdout",
     "output_type": "stream",
     "text": [
      "5\n"
     ]
    }
   ],
   "source": [
    "## length oh thisset\n",
    "\n",
    "print(len(thisset))"
   ]
  },
  {
   "cell_type": "markdown",
   "id": "f0cc7558-3702-4d9c-8748-3701fe40de4d",
   "metadata": {},
   "source": [
    " ## Access Items\n",
    "\n",
    "You cannot access items in a set by referring to an `index or a key.`\r\n",
    "\r\n",
    "But you can loop through the set items using a for loop, or ask if a specified value is present in a set, by using t `in`in keyword.\n",
    " "
   ]
  },
  {
   "cell_type": "code",
   "execution_count": 4,
   "id": "0d60f35f-2589-491c-a8e5-1dc309f1b055",
   "metadata": {},
   "outputs": [
    {
     "data": {
      "text/plain": [
       "{'Abhishek', 'Gautam', 'Hanish', 'Manish', 'Pawan'}"
      ]
     },
     "execution_count": 4,
     "metadata": {},
     "output_type": "execute_result"
    }
   ],
   "source": [
    "thisset"
   ]
  },
  {
   "cell_type": "code",
   "execution_count": 5,
   "id": "1357fb70-422a-42a5-a2a0-b9a0adfc537e",
   "metadata": {},
   "outputs": [
    {
     "name": "stdout",
     "output_type": "stream",
     "text": [
      "Hanish\n",
      "Gautam\n",
      "Pawan\n",
      "Manish\n",
      "Abhishek\n"
     ]
    }
   ],
   "source": [
    "for name in thisset:\n",
    "    print(name)"
   ]
  },
  {
   "cell_type": "code",
   "execution_count": 6,
   "id": "70bbfe5a-7943-4e54-9b96-938103b34348",
   "metadata": {},
   "outputs": [
    {
     "name": "stdout",
     "output_type": "stream",
     "text": [
      "Abhishek is present in the set\n"
     ]
    }
   ],
   "source": [
    "for name in thisset:\n",
    "    if \"Abhishek\" in name:\n",
    "        print(\"Abhishek is present in the set\")"
   ]
  },
  {
   "cell_type": "markdown",
   "id": "bb558dd5-cd01-4f5c-9352-296418c4e305",
   "metadata": {},
   "source": [
    "## Add Items\n",
    "\n",
    "Once set is created, you cannot change its items but you can add new items.\n",
    "\n",
    "To add one item to set use the `add()` method."
   ]
  },
  {
   "cell_type": "code",
   "execution_count": 7,
   "id": "5f79afc4-0b67-4e64-93e9-84bbc8f07978",
   "metadata": {},
   "outputs": [
    {
     "data": {
      "text/plain": [
       "{'Abhishek', 'Gautam', 'Hanish', 'Manish', 'Pawan'}"
      ]
     },
     "execution_count": 7,
     "metadata": {},
     "output_type": "execute_result"
    }
   ],
   "source": [
    "thisset"
   ]
  },
  {
   "cell_type": "code",
   "execution_count": 8,
   "id": "49f13bd6-8451-45bd-913c-0528002181a6",
   "metadata": {},
   "outputs": [
    {
     "name": "stdout",
     "output_type": "stream",
     "text": [
      "{'Hanish', 'Gautam', 'Sachin', 'Pawan', 'Manish', 'Abhishek'}\n"
     ]
    }
   ],
   "source": [
    "thisset.add(\"Sachin\")\n",
    "\n",
    "print(thisset)\n",
    "\n"
   ]
  },
  {
   "cell_type": "markdown",
   "id": "67c2fb25-84be-48f5-adb7-c50449a65de8",
   "metadata": {},
   "source": [
    "## Add Sets Item\n",
    "\n",
    "To add items from another set into current set use `update()` method"
   ]
  },
  {
   "cell_type": "code",
   "execution_count": 9,
   "id": "cf00a494-75f8-4e69-81b1-f26a075585c3",
   "metadata": {},
   "outputs": [
    {
     "name": "stdout",
     "output_type": "stream",
     "text": [
      "{'Hanish', 'Chiku', 'Pawan', 'Manish', 'Abhishek', 'Gautam', 'Banana', 'Apple', 'Sachin', 'Mango'}\n"
     ]
    }
   ],
   "source": [
    "newset = {\"Apple\", \"Banana\", \"Chiku\", \"Mango\"}\n",
    "\n",
    "thisset.update(newset)\n",
    "\n",
    "print(thisset)"
   ]
  },
  {
   "cell_type": "code",
   "execution_count": 11,
   "id": "acff8697-055d-48aa-8fe7-1e6d41f96b9c",
   "metadata": {},
   "outputs": [
    {
     "name": "stdout",
     "output_type": "stream",
     "text": [
      "{'Chiku', 'Graphes', 'Kella', 'Banana', 'Cherry', 'Apple', 'Anar', 'Mango'}\n"
     ]
    }
   ],
   "source": [
    "## add any iterable\n",
    "\n",
    "thislist = [\"Graphes\", \"Cherry\", \"Anar\", \"Kella\"]\n",
    "\n",
    "newset.update(thislist)\n",
    "\n",
    "print(newset)"
   ]
  },
  {
   "cell_type": "markdown",
   "id": "942ee76a-c924-4c10-a30e-eb7afde96e51",
   "metadata": {},
   "source": [
    "## Remove Sets Item\n",
    "\n",
    "To remove an item in a set, use `remove()` or `discard()` method\n",
    "\n",
    "if item to remove does not exist in, `remove()` will raise an error, while `discard()` not"
   ]
  },
  {
   "cell_type": "code",
   "execution_count": 13,
   "id": "473f0002-1d1d-49fc-9528-38ec0d5b32d9",
   "metadata": {},
   "outputs": [
    {
     "data": {
      "text/plain": [
       "{'Anar', 'Apple', 'Banana', 'Cherry', 'Chiku', 'Graphes', 'Kella', 'Mango'}"
      ]
     },
     "execution_count": 13,
     "metadata": {},
     "output_type": "execute_result"
    }
   ],
   "source": [
    "newset"
   ]
  },
  {
   "cell_type": "code",
   "execution_count": 14,
   "id": "d448256d-19e4-4e52-994b-66ca48cb17b2",
   "metadata": {},
   "outputs": [
    {
     "name": "stdout",
     "output_type": "stream",
     "text": [
      "{'Chiku', 'Graphes', 'Kella', 'Cherry', 'Apple', 'Anar', 'Mango'}\n"
     ]
    }
   ],
   "source": [
    "## using remove method\n",
    "\n",
    "newset.remove(\"Banana\")\n",
    "\n",
    "print(newset)"
   ]
  },
  {
   "cell_type": "code",
   "execution_count": 16,
   "id": "c0f2b1b2-4889-48b1-b301-1122b0ec002b",
   "metadata": {},
   "outputs": [
    {
     "ename": "KeyError",
     "evalue": "'Orange'",
     "output_type": "error",
     "traceback": [
      "\u001b[1;31m---------------------------------------------------------------------------\u001b[0m",
      "\u001b[1;31mKeyError\u001b[0m                                  Traceback (most recent call last)",
      "Cell \u001b[1;32mIn[16], line 3\u001b[0m\n\u001b[0;32m      1\u001b[0m \u001b[38;5;66;03m## using remove method to raise an error\u001b[39;00m\n\u001b[1;32m----> 3\u001b[0m \u001b[43mnewset\u001b[49m\u001b[38;5;241;43m.\u001b[39;49m\u001b[43mremove\u001b[49m\u001b[43m(\u001b[49m\u001b[38;5;124;43m\"\u001b[39;49m\u001b[38;5;124;43mOrange\u001b[39;49m\u001b[38;5;124;43m\"\u001b[39;49m\u001b[43m)\u001b[49m\n",
      "\u001b[1;31mKeyError\u001b[0m: 'Orange'"
     ]
    }
   ],
   "source": [
    "## using remove method to raise an error\n",
    "\n",
    "newset.remove(\"Orange\")"
   ]
  },
  {
   "cell_type": "code",
   "execution_count": 17,
   "id": "f4aafdb1-228d-4279-b0eb-b8d7945c8c26",
   "metadata": {},
   "outputs": [
    {
     "name": "stdout",
     "output_type": "stream",
     "text": [
      "{'Chiku', 'Graphes', 'Cherry', 'Apple', 'Anar', 'Mango'}\n"
     ]
    }
   ],
   "source": [
    "## using discard method\n",
    "\n",
    "newset.discard(\"Kella\")\n",
    "\n",
    "print(newset)"
   ]
  },
  {
   "cell_type": "code",
   "execution_count": 18,
   "id": "fde60eb5-a8be-4007-a9ba-0f221ddf7f9e",
   "metadata": {},
   "outputs": [
    {
     "name": "stdout",
     "output_type": "stream",
     "text": [
      "{'Chiku', 'Graphes', 'Cherry', 'Apple', 'Anar', 'Mango'}\n"
     ]
    }
   ],
   "source": [
    "## use discard method to raise an error\n",
    "\n",
    "newset.discard(\"Banana\")\n",
    "\n",
    "print(newset)"
   ]
  },
  {
   "cell_type": "code",
   "execution_count": 19,
   "id": "44155b11-8f27-474f-af49-78826cd9e53d",
   "metadata": {},
   "outputs": [
    {
     "name": "stdout",
     "output_type": "stream",
     "text": [
      "{'Graphes', 'Cherry', 'Apple', 'Anar', 'Mango'}\n"
     ]
    }
   ],
   "source": [
    "## you can use pop function to remove an item but this method will remove random item\n",
    "\n",
    "newset.pop()\n",
    "\n",
    "print(newset)"
   ]
  },
  {
   "cell_type": "markdown",
   "id": "23d2994c-a6da-4b04-9564-df5f35bd7ab4",
   "metadata": {},
   "source": [
    "## Join Sets\n",
    "\n",
    "There are several ways to join the sets.\n",
    "\n",
    "You can use the `union()` method that returns a new set containing all items from both sets, or the `update()` method that inserts all the items from one set into another."
   ]
  },
  {
   "cell_type": "code",
   "execution_count": 2,
   "id": "fd05674e-1cb6-4040-bf39-ab4f6cbc9361",
   "metadata": {},
   "outputs": [
    {
     "name": "stdout",
     "output_type": "stream",
     "text": [
      "{'Orange', 1, 2, 3, 4, 'Mango', 'Apple'}\n"
     ]
    }
   ],
   "source": [
    "## Using union method\n",
    "\n",
    "set1 = {\"Apple\", \"Mango\", \"Orange\"}\n",
    "set2 = {1, 2, 3, 4,}\n",
    "\n",
    "set3 = set1.union(set2)\n",
    "\n",
    "print(set3)"
   ]
  },
  {
   "cell_type": "code",
   "execution_count": 3,
   "id": "e7aaf539-331a-455b-af0f-ccc3576802a8",
   "metadata": {},
   "outputs": [
    {
     "name": "stdout",
     "output_type": "stream",
     "text": [
      "{'Orange', 1, 2, 3, 4, 'Mango', 'Apple'}\n"
     ]
    }
   ],
   "source": [
    "## Using set method\n",
    "\n",
    "set1\n",
    "set2\n",
    "\n",
    "set1.update(set2)\n",
    "\n",
    "print(set1)"
   ]
  },
  {
   "cell_type": "markdown",
   "id": "34740856-dd77-4557-ba92-40258e3690a1",
   "metadata": {},
   "source": [
    "## Keep only duplicates \n",
    "\n",
    "`intersection_update()` method will keep only the items that are present in both sides.\n",
    "\n",
    "`intersection()` method will return a new set, that only contain the duplicates items that are present in both the sets."
   ]
  },
  {
   "cell_type": "code",
   "execution_count": 4,
   "id": "cc829349-9bbd-4edf-a4b2-c7998f704772",
   "metadata": {},
   "outputs": [
    {
     "name": "stdout",
     "output_type": "stream",
     "text": [
      "{4, 5}\n"
     ]
    }
   ],
   "source": [
    "## using intersection_update\n",
    "\n",
    "x = {1, 2, 3, 4, 5}\n",
    "y = {4, 5, 6, 7}\n",
    "\n",
    "x.intersection_update(y)\n",
    "\n",
    "print(x)"
   ]
  },
  {
   "cell_type": "code",
   "execution_count": 5,
   "id": "341902ed-8e22-4df9-9c41-2e5e2e6b39c0",
   "metadata": {},
   "outputs": [
    {
     "name": "stdout",
     "output_type": "stream",
     "text": [
      "{4, 5}\n"
     ]
    }
   ],
   "source": [
    "## using intersection method\n",
    "\n",
    "x \n",
    "y\n",
    "z = x.intersection(y)\n",
    "\n",
    "print(z)"
   ]
  },
  {
   "cell_type": "markdown",
   "id": "85dd58c3-0390-4aa0-833e-1a96ffdb08b9",
   "metadata": {},
   "source": [
    "## Keep All, But not Duplicates\n",
    "\n",
    "`symmetric_difference_update()` method will keep only the elements that are not present in both sets.\n",
    "\n",
    "`symmetric_difference()` method will return a new set, that contains only the elements that are not present in both sets."
   ]
  },
  {
   "cell_type": "code",
   "execution_count": 6,
   "id": "dd06577b-badf-4894-bb43-7161987ad5d6",
   "metadata": {},
   "outputs": [
    {
     "name": "stdout",
     "output_type": "stream",
     "text": [
      "{'Gautam', 'Kartik', 'Anuj'}\n"
     ]
    }
   ],
   "source": [
    "a = {\"Abhishek\", \"Hanish\", \"Manish\", \"Anuj\"}\n",
    "b = {\"Abhishek\", \"Hanish\", \"Gautam\", \"Manish\", \"Kartik\"}\n",
    "\n",
    "a.symmetric_difference_update(b)\n",
    "\n",
    "print(a)"
   ]
  },
  {
   "cell_type": "code",
   "execution_count": 7,
   "id": "4ce7fe71-48bc-4ed1-8f29-41f86cf07586",
   "metadata": {},
   "outputs": [
    {
     "data": {
      "text/plain": [
       "{'Anuj', 'Gautam', 'Kartik'}"
      ]
     },
     "execution_count": 7,
     "metadata": {},
     "output_type": "execute_result"
    }
   ],
   "source": [
    "a"
   ]
  },
  {
   "cell_type": "code",
   "execution_count": 10,
   "id": "ee9e3302-d7fc-4c1b-825b-6f13d48056d4",
   "metadata": {},
   "outputs": [
    {
     "name": "stdout",
     "output_type": "stream",
     "text": [
      "{'Gautam', 'Kartik', 'Anuj'}\n"
     ]
    }
   ],
   "source": [
    "e = {\"Abhishek\", \"Hanish\", \"Manish\", \"Anuj\"}\n",
    "f = {\"Abhishek\", \"Hanish\", \"Gautam\", \"Manish\", \"Kartik\"}\n",
    "\n",
    "c = e.symmetric_difference(f)\n",
    "\n",
    "print(c)"
   ]
  },
  {
   "cell_type": "code",
   "execution_count": 11,
   "id": "8711f3f1-3602-4613-864f-908f9004a182",
   "metadata": {},
   "outputs": [
    {
     "name": "stdout",
     "output_type": "stream",
     "text": [
      "Help on class set in module builtins:\n",
      "\n",
      "class set(object)\n",
      " |  set() -> new empty set object\n",
      " |  set(iterable) -> new set object\n",
      " |  \n",
      " |  Build an unordered collection of unique elements.\n",
      " |  \n",
      " |  Methods defined here:\n",
      " |  \n",
      " |  __and__(self, value, /)\n",
      " |      Return self&value.\n",
      " |  \n",
      " |  __contains__(...)\n",
      " |      x.__contains__(y) <==> y in x.\n",
      " |  \n",
      " |  __eq__(self, value, /)\n",
      " |      Return self==value.\n",
      " |  \n",
      " |  __ge__(self, value, /)\n",
      " |      Return self>=value.\n",
      " |  \n",
      " |  __getattribute__(self, name, /)\n",
      " |      Return getattr(self, name).\n",
      " |  \n",
      " |  __gt__(self, value, /)\n",
      " |      Return self>value.\n",
      " |  \n",
      " |  __iand__(self, value, /)\n",
      " |      Return self&=value.\n",
      " |  \n",
      " |  __init__(self, /, *args, **kwargs)\n",
      " |      Initialize self.  See help(type(self)) for accurate signature.\n",
      " |  \n",
      " |  __ior__(self, value, /)\n",
      " |      Return self|=value.\n",
      " |  \n",
      " |  __isub__(self, value, /)\n",
      " |      Return self-=value.\n",
      " |  \n",
      " |  __iter__(self, /)\n",
      " |      Implement iter(self).\n",
      " |  \n",
      " |  __ixor__(self, value, /)\n",
      " |      Return self^=value.\n",
      " |  \n",
      " |  __le__(self, value, /)\n",
      " |      Return self<=value.\n",
      " |  \n",
      " |  __len__(self, /)\n",
      " |      Return len(self).\n",
      " |  \n",
      " |  __lt__(self, value, /)\n",
      " |      Return self<value.\n",
      " |  \n",
      " |  __ne__(self, value, /)\n",
      " |      Return self!=value.\n",
      " |  \n",
      " |  __or__(self, value, /)\n",
      " |      Return self|value.\n",
      " |  \n",
      " |  __rand__(self, value, /)\n",
      " |      Return value&self.\n",
      " |  \n",
      " |  __reduce__(...)\n",
      " |      Return state information for pickling.\n",
      " |  \n",
      " |  __repr__(self, /)\n",
      " |      Return repr(self).\n",
      " |  \n",
      " |  __ror__(self, value, /)\n",
      " |      Return value|self.\n",
      " |  \n",
      " |  __rsub__(self, value, /)\n",
      " |      Return value-self.\n",
      " |  \n",
      " |  __rxor__(self, value, /)\n",
      " |      Return value^self.\n",
      " |  \n",
      " |  __sizeof__(...)\n",
      " |      S.__sizeof__() -> size of S in memory, in bytes\n",
      " |  \n",
      " |  __sub__(self, value, /)\n",
      " |      Return self-value.\n",
      " |  \n",
      " |  __xor__(self, value, /)\n",
      " |      Return self^value.\n",
      " |  \n",
      " |  add(...)\n",
      " |      Add an element to a set.\n",
      " |      \n",
      " |      This has no effect if the element is already present.\n",
      " |  \n",
      " |  clear(...)\n",
      " |      Remove all elements from this set.\n",
      " |  \n",
      " |  copy(...)\n",
      " |      Return a shallow copy of a set.\n",
      " |  \n",
      " |  difference(...)\n",
      " |      Return the difference of two or more sets as a new set.\n",
      " |      \n",
      " |      (i.e. all elements that are in this set but not the others.)\n",
      " |  \n",
      " |  difference_update(...)\n",
      " |      Remove all elements of another set from this set.\n",
      " |  \n",
      " |  discard(...)\n",
      " |      Remove an element from a set if it is a member.\n",
      " |      \n",
      " |      Unlike set.remove(), the discard() method does not raise\n",
      " |      an exception when an element is missing from the set.\n",
      " |  \n",
      " |  intersection(...)\n",
      " |      Return the intersection of two sets as a new set.\n",
      " |      \n",
      " |      (i.e. all elements that are in both sets.)\n",
      " |  \n",
      " |  intersection_update(...)\n",
      " |      Update a set with the intersection of itself and another.\n",
      " |  \n",
      " |  isdisjoint(...)\n",
      " |      Return True if two sets have a null intersection.\n",
      " |  \n",
      " |  issubset(...)\n",
      " |      Report whether another set contains this set.\n",
      " |  \n",
      " |  issuperset(...)\n",
      " |      Report whether this set contains another set.\n",
      " |  \n",
      " |  pop(...)\n",
      " |      Remove and return an arbitrary set element.\n",
      " |      Raises KeyError if the set is empty.\n",
      " |  \n",
      " |  remove(...)\n",
      " |      Remove an element from a set; it must be a member.\n",
      " |      \n",
      " |      If the element is not a member, raise a KeyError.\n",
      " |  \n",
      " |  symmetric_difference(...)\n",
      " |      Return the symmetric difference of two sets as a new set.\n",
      " |      \n",
      " |      (i.e. all elements that are in exactly one of the sets.)\n",
      " |  \n",
      " |  symmetric_difference_update(...)\n",
      " |      Update a set with the symmetric difference of itself and another.\n",
      " |  \n",
      " |  union(...)\n",
      " |      Return the union of sets as a new set.\n",
      " |      \n",
      " |      (i.e. all elements that are in either set.)\n",
      " |  \n",
      " |  update(...)\n",
      " |      Update a set with the union of itself and others.\n",
      " |  \n",
      " |  ----------------------------------------------------------------------\n",
      " |  Class methods defined here:\n",
      " |  \n",
      " |  __class_getitem__(...) from builtins.type\n",
      " |      See PEP 585\n",
      " |  \n",
      " |  ----------------------------------------------------------------------\n",
      " |  Static methods defined here:\n",
      " |  \n",
      " |  __new__(*args, **kwargs) from builtins.type\n",
      " |      Create and return a new object.  See help(type) for accurate signature.\n",
      " |  \n",
      " |  ----------------------------------------------------------------------\n",
      " |  Data and other attributes defined here:\n",
      " |  \n",
      " |  __hash__ = None\n",
      "\n"
     ]
    }
   ],
   "source": [
    "help(set)"
   ]
  },
  {
   "cell_type": "code",
   "execution_count": null,
   "id": "900e4edc-69a1-4c3c-9802-19eb57657606",
   "metadata": {},
   "outputs": [],
   "source": []
  }
 ],
 "metadata": {
  "kernelspec": {
   "display_name": "Python 3 (ipykernel)",
   "language": "python",
   "name": "python3"
  },
  "language_info": {
   "codemirror_mode": {
    "name": "ipython",
    "version": 3
   },
   "file_extension": ".py",
   "mimetype": "text/x-python",
   "name": "python",
   "nbconvert_exporter": "python",
   "pygments_lexer": "ipython3",
   "version": "3.11.1"
  }
 },
 "nbformat": 4,
 "nbformat_minor": 5
}
