{
 "cells": [
  {
   "cell_type": "code",
   "execution_count": 1,
   "id": "d947158a-f418-49f3-8bde-59a1469ed9d7",
   "metadata": {},
   "outputs": [
    {
     "name": "stdout",
     "output_type": "stream",
     "text": [
      "Hello World\n"
     ]
    }
   ],
   "source": [
    "print(\"Hello World\")"
   ]
  },
  {
   "cell_type": "markdown",
   "id": "985cce3f-c206-4d20-8211-9c715d1faa8c",
   "metadata": {},
   "source": [
    "## Variable\n",
    "\n",
    "Variable is containers for tsoring the data values.\n",
    "\n",
    "***Creating Variable***\n",
    "\n",
    "In python has no command for declaring the variable..\n",
    "\n",
    "A variable is created the moment you first assign a value to it."
   ]
  },
  {
   "cell_type": "code",
   "execution_count": 1,
   "id": "5b3b9a76-e3bb-43ee-b4fc-4240a8586646",
   "metadata": {},
   "outputs": [],
   "source": [
    "x = 5\n",
    "y = \"Hellow World\"\n",
    "z = 7.90"
   ]
  },
  {
   "cell_type": "code",
   "execution_count": 2,
   "id": "633f741b-696a-40d3-97ac-ecd13efa5f8d",
   "metadata": {},
   "outputs": [
    {
     "name": "stdout",
     "output_type": "stream",
     "text": [
      "5 Hellow World 7.9\n"
     ]
    }
   ],
   "source": [
    "print(x, y, z)"
   ]
  },
  {
   "cell_type": "markdown",
   "id": "8e6ad948-f00c-47ed-ae57-87ee365b8395",
   "metadata": {},
   "source": [
    "## Data Types\n",
    "\n",
    "`Text Types:` str \\\n",
    "`Numeric Types:` int, float, complex \\\n",
    "`Sequenece Types:` list, tuple, range \\\n",
    "`Set Types:` ste, frozenset \\\n",
    "`Boolean Types:` bool \\\n",
    "`Binary Types:` bytes, bytearray, memoryview \\\n",
    "`None Types:` NoneType "
   ]
  },
  {
   "cell_type": "code",
   "execution_count": 3,
   "id": "6977bad1-07b6-423c-a8f6-151d7bb62027",
   "metadata": {},
   "outputs": [],
   "source": [
    "a = \"Hello World\" ## str\n",
    "b = 90 ## int\n",
    "c = 8.67 ## float\n",
    "d = 1j ## complex\n",
    "e = [\"Abhishek\", \"Monu\", \"Saurabh\"] ## list\n",
    "f = (\"Apple\", \"Banana\", \"Orange\") ## tuple  tuple is immutable\n",
    "g = range(6) ## rangle\n",
    "h = {\"name\": \"abhishek\", \"age\": 19, \"Height\": 5.7} ## dict\n",
    "i = {\"apple\", \"banana\", \"orange\"} ## set\n",
    "j = True ## bool\n",
    "k = None ## none"
   ]
  },
  {
   "cell_type": "code",
   "execution_count": 4,
   "id": "34298fc7-3c4d-4d89-b007-3cd3cf7b0b3c",
   "metadata": {},
   "outputs": [
    {
     "name": "stdout",
     "output_type": "stream",
     "text": [
      "Hello World 90 8.67 1j ['Abhishek', 'Monu', 'Saurabh'] ('Apple', 'Banana', 'Orange') range(0, 6) {'name': 'abhishek', 'age': 19, 'Height': 5.7} {'banana', 'apple', 'orange'} True None\n"
     ]
    }
   ],
   "source": [
    "print(a, b, c, d, e, f, g, h, i, j, k)"
   ]
  },
  {
   "cell_type": "markdown",
   "id": "8fd3983b-e0e9-4df4-83b4-1e5c3de12264",
   "metadata": {},
   "source": [
    "**Operators** \\\n",
    "`Arithmetic Operators:` +, -, *,**, / ,//, % \\\n",
    "`Assignment Operators:` =, +=, -=, *=, /=, %=, //=, **=, &=, |=, ^=, >>=, <<= \\\n",
    "`Comparsion Operators:` ==, !=, <=, >=, < , > \\\n",
    "`Logical Operators:`and, or , not \\\n",
    "`Bitwise Opertors:` &, |, ^, ~, <<, >> \\\n",
    "`Identity Operators:` is , is not \\\n",
    "`Membership Operators:` in , not in "
   ]
  },
  {
   "cell_type": "markdown",
   "id": "9bb8439b-13fa-4626-98dd-1606f1702bfd",
   "metadata": {},
   "source": [
    "## Lists\n",
    "\n",
    "Lists are used to store multiple itmes in a single variable.\n",
    "\n",
    "Lists are one of 4 built-in data types in python used to store collection of data, the other 3 are tuple, dict, set, all are different qualities and usage."
   ]
  },
  {
   "cell_type": "code",
   "execution_count": 5,
   "id": "2dfb96ab-3cbe-4fa9-94d2-93e01c78aa28",
   "metadata": {},
   "outputs": [
    {
     "name": "stdout",
     "output_type": "stream",
     "text": [
      "['Abhishek', 'Monu', 'Hanish']\n"
     ]
    }
   ],
   "source": [
    "myList = [\"Abhishek\", \"Monu\", \"Hanish\"]\n",
    "print(myList)"
   ]
  },
  {
   "cell_type": "markdown",
   "id": "416544f0-a4cd-4f09-ad2b-b463f383e180",
   "metadata": {},
   "source": [
    "**List Items**\n",
    "\n",
    "List items are ordered, changeable and allow duplicate values.\n",
    "\n",
    "List item are indexed, the first item has index [0], and the second has [1] etc.\n"
   ]
  },
  {
   "cell_type": "markdown",
   "id": "5019bb53-740b-4360-acc2-1701870d14bf",
   "metadata": {},
   "source": [
    "**List Length**\n",
    "\n",
    "To determine how many items a list has, use the `len()` function."
   ]
  },
  {
   "cell_type": "code",
   "execution_count": 6,
   "id": "92f755fc-84a1-49e4-afd0-c8bf4a264f56",
   "metadata": {},
   "outputs": [
    {
     "name": "stdout",
     "output_type": "stream",
     "text": [
      "3\n"
     ]
    }
   ],
   "source": [
    "print(len(myList))"
   ]
  },
  {
   "cell_type": "markdown",
   "id": "c6747390-bcf9-48d1-b2d9-f7ce6412f7b1",
   "metadata": {},
   "source": [
    "# Python Collection (Arrays)\n",
    "\n",
    "`List:` List is a collection which is ordered and changeable. Allows duplicate members. \\\n",
    "`Tuple:` Tuple is a collection which is ordered and unchangeable. Allows duplicate members. \\\n",
    "`Set:` Set is a collection which is unordered, unchangeable, and unindexed. No dulpicate menebers. \\\n",
    "`Dir:` Dictionary is a collection which is ordered and changeable. No duplicate members."
   ]
  },
  {
   "cell_type": "code",
   "execution_count": null,
   "id": "0c963257-6560-4d25-83c0-80be20074c95",
   "metadata": {},
   "outputs": [],
   "source": []
  }
 ],
 "metadata": {
  "kernelspec": {
   "display_name": "Python 3 (ipykernel)",
   "language": "python",
   "name": "python3"
  },
  "language_info": {
   "codemirror_mode": {
    "name": "ipython",
    "version": 3
   },
   "file_extension": ".py",
   "mimetype": "text/x-python",
   "name": "python",
   "nbconvert_exporter": "python",
   "pygments_lexer": "ipython3",
   "version": "3.11.1"
  }
 },
 "nbformat": 4,
 "nbformat_minor": 5
}
