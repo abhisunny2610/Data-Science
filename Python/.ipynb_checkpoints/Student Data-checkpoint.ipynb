{
 "cells": [
  {
   "cell_type": "code",
   "execution_count": 2,
   "id": "4c037d3d-869d-4628-9fee-fe0122306e6c",
   "metadata": {},
   "outputs": [],
   "source": [
    "import json\n",
    "import random\n"
   ]
  },
  {
   "cell_type": "code",
   "execution_count": 47,
   "id": "cf6d79ca-a80b-4c70-a23c-b1699fade2f3",
   "metadata": {},
   "outputs": [],
   "source": [
    "file = open(\"Person data.json\")\n",
    "data = json.load(file)\n",
    "students = data[\"users\"]\n",
    "\n",
    "# making a subject list...\n",
    "subjects = [\"Hindi\", \"English\", \"Math\", \"Science\", \"Social Science\"]\n",
    "\n",
    "# extract students and adding subjects and marks\n",
    "def extract_student(student, keys=[\"firstName\", \"lastName\", \"email\", \"phone\"]):\n",
    "    student_data = {}\n",
    "\n",
    "    for key in keys:\n",
    "        student_data[key] = student.get(key, \"\")\n",
    "\n",
    "    student_data[\"marks\"] = {subject:random.randint(20, 100) for subject in subjects}\n",
    "    return student_data\n",
    "\n",
    "# function for adding obtained_marks, percentage or result\n",
    "def result_info(student):\n",
    "    max_marks = 500\n",
    "    marks = student.get(\"marks\", 0).values()\n",
    "    obtained_marks = sum(marks)\n",
    "    percentage = (obtained_marks / max_marks)*100\n",
    "\n",
    "    student[\"obtained_marks\"] = obtained_marks\n",
    "    student[\"percentage\"] = percentage\n",
    "\n",
    "    if percentage > 50:\n",
    "        student[\"isPass\"] = \"Pass\"\n",
    "    else:\n",
    "         student[\"isPass\"] = \"Fail\"\n",
    "\n",
    "    return student\n",
    "\n",
    "# function on creating a marksheet\n",
    "def marksheet(students):\n",
    "    lw = 150\n",
    "    print(\"=\"*lw)\n",
    "    print(f\"{'Name':25s} {'Hindi':15s} {'English':15s} {'Math':15s} {'Science':15s} {'Social Science':15s} {'Total Marks':15s} {'Percentage':15s} {'Result':15s}\")\n",
    "    print(\"=\"*lw)\n",
    "\n",
    "    for student in students:\n",
    "        firstName = student.get(\"firstName\")\n",
    "        lastName = student.get(\"lastName\")\n",
    "        fullName = firstName + \" \" + lastName\n",
    "        marks = student.get(\"marks\")\n",
    "        obtained_marks = student.get(\"obtained_marks\")\n",
    "        percentage = student.get(\"percentage\")\n",
    "        ispass = student.get(\"isPass\")\n",
    "\n",
    "        hindi_marks = marks.get(\"Hindi\", 0)\n",
    "        english_marks = marks.get(\"English\", 0)\n",
    "        science_marks = marks.get(\"Science\", 0)\n",
    "        math_marks = marks.get(\"Math\", 0)\n",
    "        social_marks = marks.get(\"Social Science\", 0)\n",
    "\n",
    "        print(f\"{fullName:25s} {hindi_marks:<15d} {english_marks:<15d} {science_marks:<15d} {math_marks:<15d} {social_marks:<15d} {obtained_marks:<15d} {percentage:<15.2f} {ispass}\")\n",
    "\n",
    "    print(\"=\"*lw)\n"
   ]
  },
  {
   "cell_type": "code",
   "execution_count": 69,
   "id": "8ae7797e-3403-4ee2-bb92-9f2c312d6859",
   "metadata": {},
   "outputs": [
    {
     "name": "stdout",
     "output_type": "stream",
     "text": [
      "======================================================================================================================================================\n",
      "Name                      Hindi           English         Math            Science         Social Science  Total Marks     Percentage      Result         \n",
      "======================================================================================================================================================\n",
      "Terry Medhurst            67              23              84              21              49              244             48.80           Fail\n",
      "Sheldon Quigley           46              29              93              93              96              357             71.40           Pass\n",
      "Terrill Hills             84              60              62              90              28              324             64.80           Pass\n",
      "Miles Cummerata           100             83              27              24              49              283             56.60           Pass\n",
      "Mavis Schultz             76              44              27              57              27              231             46.20           Fail\n",
      "Alison Reichert           82              89              93              81              100             445             89.00           Pass\n",
      "Oleta Abbott              75              77              82              68              52              354             70.80           Pass\n",
      "Ewell Mueller             71              40              21              45              38              215             43.00           Fail\n",
      "Demetrius Corkery         41              32              65              20              23              181             36.20           Fail\n",
      "Eleanora Price            29              78              87              85              72              351             70.20           Pass\n",
      "Marcel Jones              45              69              23              80              76              293             58.60           Pass\n",
      "Assunta Rath              37              100             68              90              83              378             75.60           Pass\n",
      "Trace Douglas             79              60              42              21              69              271             54.20           Pass\n",
      "Enoch Lynch               75              37              47              79              59              297             59.40           Pass\n",
      "Jeanne Halvorson          79              22              53              32              88              274             54.80           Pass\n",
      "Trycia Fadel              54              22              30              62              97              265             53.00           Pass\n",
      "Bradford Prohaska         67              34              31              90              29              251             50.20           Pass\n",
      "Arely Skiles              42              89              98              46              73              348             69.60           Pass\n",
      "Gust Purdy                86              21              36              67              99              309             61.80           Pass\n",
      "Lenna Renner              27              41              83              60              99              310             62.00           Pass\n",
      "Doyle Ernser              26              28              50              42              91              237             47.40           Fail\n",
      "Tressa Weber              32              46              29              53              53              213             42.60           Fail\n",
      "Felicity O'Reilly         60              83              30              27              27              227             45.40           Fail\n",
      "Jocelyn Schuster          40              27              79              80              80              306             61.20           Pass\n",
      "Edwina Ernser             38              37              33              96              41              245             49.00           Fail\n",
      "Griffin Braun             41              52              23              56              49              221             44.20           Fail\n",
      "Piper Schowalter          38              96              42              48              67              291             58.20           Pass\n",
      "Kody Terry                78              84              40              53              58              313             62.60           Pass\n",
      "Macy Greenfelder          84              94              20              40              92              330             66.00           Pass\n",
      "Maurine Stracke           40              95              36              88              48              307             61.40           Pass\n",
      "======================================================================================================================================================\n"
     ]
    }
   ],
   "source": [
    "school_info = map(extract_student, students)\n",
    "generate_data = map(result_info, school_info)\n",
    "\n",
    "mylist = list(generate_data)\n",
    "\n",
    "marksheet(mylist)\n"
   ]
  },
  {
   "cell_type": "code",
   "execution_count": 70,
   "id": "88087abb-136e-4ba8-9082-d002833266c3",
   "metadata": {},
   "outputs": [
    {
     "name": "stdout",
     "output_type": "stream",
     "text": [
      "Top 5 Students\n",
      "======================================================================================================================================================\n",
      "Name                      Hindi           English         Math            Science         Social Science  Total Marks     Percentage      Result         \n",
      "======================================================================================================================================================\n",
      "Alison Reichert           82              89              93              81              100             445             89.00           Pass\n",
      "Assunta Rath              37              100             68              90              83              378             75.60           Pass\n",
      "Sheldon Quigley           46              29              93              93              96              357             71.40           Pass\n",
      "Oleta Abbott              75              77              82              68              52              354             70.80           Pass\n",
      "Eleanora Price            29              78              87              85              72              351             70.20           Pass\n",
      "======================================================================================================================================================\n"
     ]
    }
   ],
   "source": [
    "sorted_list = sorted(mylist, key=lambda x: x['percentage'], reverse=True)\n",
    "print(\"Top 5 Students\")\n",
    "marksheet(sorted_list[0:5])"
   ]
  },
  {
   "cell_type": "code",
   "execution_count": null,
   "id": "77debbfb-3fdf-4a84-b5fa-78711ac73b9a",
   "metadata": {},
   "outputs": [],
   "source": []
  },
  {
   "cell_type": "code",
   "execution_count": null,
   "id": "7821b282-2e51-4b1f-8f0f-af82cb64cdb9",
   "metadata": {},
   "outputs": [],
   "source": []
  }
 ],
 "metadata": {
  "kernelspec": {
   "display_name": "Python 3 (ipykernel)",
   "language": "python",
   "name": "python3"
  },
  "language_info": {
   "codemirror_mode": {
    "name": "ipython",
    "version": 3
   },
   "file_extension": ".py",
   "mimetype": "text/x-python",
   "name": "python",
   "nbconvert_exporter": "python",
   "pygments_lexer": "ipython3",
   "version": "3.11.1"
  }
 },
 "nbformat": 4,
 "nbformat_minor": 5
}
