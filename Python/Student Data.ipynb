{
 "cells": [
  {
   "cell_type": "code",
   "execution_count": 1,
   "id": "4c037d3d-869d-4628-9fee-fe0122306e6c",
   "metadata": {},
   "outputs": [],
   "source": [
    "import json\n",
    "import random\n"
   ]
  },
  {
   "cell_type": "code",
   "execution_count": 2,
   "id": "cf6d79ca-a80b-4c70-a23c-b1699fade2f3",
   "metadata": {},
   "outputs": [],
   "source": [
    "file = open(\"Person data.json\")\n",
    "data = json.load(file)\n",
    "students = data[\"users\"]\n",
    "\n",
    "# making a subject list...\n",
    "subjects = [\"Hindi\", \"English\", \"Math\", \"Science\", \"Social Science\"]\n",
    "\n",
    "# extract students and adding subjects and marks\n",
    "def extract_student(student, keys=[\"firstName\", \"lastName\", \"email\", \"phone\"]):\n",
    "    student_data = {}\n",
    "\n",
    "    for key in keys:\n",
    "        student_data[key] = student.get(key, \"\")\n",
    "\n",
    "    student_data[\"marks\"] = {subject:random.randint(20, 100) for subject in subjects}\n",
    "    return student_data\n",
    "\n",
    "# function for adding obtained_marks, percentage or result\n",
    "def result_info(student):\n",
    "    max_marks = 500\n",
    "    marks = student.get(\"marks\", 0).values()\n",
    "    obtained_marks = sum(marks)\n",
    "    percentage = (obtained_marks / max_marks)*100\n",
    "\n",
    "    student[\"obtained_marks\"] = obtained_marks\n",
    "    student[\"percentage\"] = percentage\n",
    "\n",
    "    if percentage > 50:\n",
    "        student[\"isPass\"] = \"Pass\"\n",
    "    else:\n",
    "         student[\"isPass\"] = \"Fail\"\n",
    "\n",
    "    return student\n",
    "\n",
    "# function on creating a marksheet\n",
    "def marksheet(students):\n",
    "    lw = 150\n",
    "    print(\"=\"*lw)\n",
    "    print(f\"{'Name':25s} {'Hindi':15s} {'English':15s} {'Math':15s} {'Science':15s} {'Social Science':15s} {'Total Marks':15s} {'Percentage':15s} {'Result':15s}\")\n",
    "    print(\"=\"*lw)\n",
    "\n",
    "    for student in students:\n",
    "        firstName = student.get(\"firstName\")\n",
    "        lastName = student.get(\"lastName\")\n",
    "        fullName = firstName + \" \" + lastName\n",
    "        marks = student.get(\"marks\")\n",
    "        obtained_marks = student.get(\"obtained_marks\")\n",
    "        percentage = student.get(\"percentage\")\n",
    "        ispass = student.get(\"isPass\")\n",
    "\n",
    "        hindi_marks = marks.get(\"Hindi\", 0)\n",
    "        english_marks = marks.get(\"English\", 0)\n",
    "        science_marks = marks.get(\"Science\", 0)\n",
    "        math_marks = marks.get(\"Math\", 0)\n",
    "        social_marks = marks.get(\"Social Science\", 0)\n",
    "\n",
    "        print(f\"{fullName:25s} {hindi_marks:<15d} {english_marks:<15d} {science_marks:<15d} {math_marks:<15d} {social_marks:<15d} {obtained_marks:<15d} {percentage:<15.2f} {ispass}\")\n",
    "\n",
    "    print(\"=\"*lw)\n"
   ]
  },
  {
   "cell_type": "code",
   "execution_count": 3,
   "id": "8ae7797e-3403-4ee2-bb92-9f2c312d6859",
   "metadata": {},
   "outputs": [
    {
     "name": "stdout",
     "output_type": "stream",
     "text": [
      "======================================================================================================================================================\n",
      "Name                      Hindi           English         Math            Science         Social Science  Total Marks     Percentage      Result         \n",
      "======================================================================================================================================================\n",
      "Terry Medhurst            68              94              88              33              74              357             71.40           Pass\n",
      "Sheldon Quigley           81              89              84              20              83              357             71.40           Pass\n",
      "Terrill Hills             81              94              47              43              30              295             59.00           Pass\n",
      "Miles Cummerata           38              90              39              91              21              279             55.80           Pass\n",
      "Mavis Schultz             44              20              89              98              93              344             68.80           Pass\n",
      "Alison Reichert           41              94              88              46              83              352             70.40           Pass\n",
      "Oleta Abbott              38              71              75              33              33              250             50.00           Fail\n",
      "Ewell Mueller             33              89              64              60              49              295             59.00           Pass\n",
      "Demetrius Corkery         96              48              57              55              69              325             65.00           Pass\n",
      "Eleanora Price            35              33              67              85              38              258             51.60           Pass\n",
      "Marcel Jones              24              34              84              38              58              238             47.60           Fail\n",
      "Assunta Rath              94              58              97              86              60              395             79.00           Pass\n",
      "Trace Douglas             71              70              33              98              68              340             68.00           Pass\n",
      "Enoch Lynch               97              88              50              77              63              375             75.00           Pass\n",
      "Jeanne Halvorson          20              27              97              86              48              278             55.60           Pass\n",
      "Trycia Fadel              80              25              94              76              21              296             59.20           Pass\n",
      "Bradford Prohaska         100             27              68              55              20              270             54.00           Pass\n",
      "Arely Skiles              83              38              31              96              31              279             55.80           Pass\n",
      "Gust Purdy                82              77              84              93              86              422             84.40           Pass\n",
      "Lenna Renner              72              66              20              44              20              222             44.40           Fail\n",
      "Doyle Ernser              56              74              58              39              59              286             57.20           Pass\n",
      "Tressa Weber              22              78              90              45              38              273             54.60           Pass\n",
      "Felicity O'Reilly         34              80              97              83              81              375             75.00           Pass\n",
      "Jocelyn Schuster          76              38              30              71              73              288             57.60           Pass\n",
      "Edwina Ernser             83              21              81              54              63              302             60.40           Pass\n",
      "Griffin Braun             100             46              23              79              21              269             53.80           Pass\n",
      "Piper Schowalter          24              82              71              62              36              275             55.00           Pass\n",
      "Kody Terry                75              45              29              69              98              316             63.20           Pass\n",
      "Macy Greenfelder          77              43              37              53              87              297             59.40           Pass\n",
      "Maurine Stracke           83              91              23              29              56              282             56.40           Pass\n",
      "======================================================================================================================================================\n"
     ]
    }
   ],
   "source": [
    "school_info = map(extract_student, students)\n",
    "generate_data = map(result_info, school_info)\n",
    "\n",
    "mylist = list(generate_data)\n",
    "\n",
    "marksheet(mylist)\n"
   ]
  },
  {
   "cell_type": "code",
   "execution_count": 4,
   "id": "88087abb-136e-4ba8-9082-d002833266c3",
   "metadata": {},
   "outputs": [
    {
     "name": "stdout",
     "output_type": "stream",
     "text": [
      "Top 5 Students\n",
      "======================================================================================================================================================\n",
      "Name                      Hindi           English         Math            Science         Social Science  Total Marks     Percentage      Result         \n",
      "======================================================================================================================================================\n",
      "Gust Purdy                82              77              84              93              86              422             84.40           Pass\n",
      "Assunta Rath              94              58              97              86              60              395             79.00           Pass\n",
      "Enoch Lynch               97              88              50              77              63              375             75.00           Pass\n",
      "Felicity O'Reilly         34              80              97              83              81              375             75.00           Pass\n",
      "Terry Medhurst            68              94              88              33              74              357             71.40           Pass\n",
      "======================================================================================================================================================\n"
     ]
    }
   ],
   "source": [
    "sorted_list = sorted(mylist, key=lambda x: x['percentage'], reverse=True)\n",
    "print(\"Top 5 Students\")\n",
    "marksheet(sorted_list[0:5])"
   ]
  },
  {
   "cell_type": "code",
   "execution_count": null,
   "id": "77debbfb-3fdf-4a84-b5fa-78711ac73b9a",
   "metadata": {},
   "outputs": [],
   "source": []
  },
  {
   "cell_type": "markdown",
   "id": "3b5f8e9d-d174-4938-a1e2-72963d5468a3",
   "metadata": {},
   "source": [
    "### lambda function\n",
    "\n",
    "```python\n",
    "lambda x,y: (x+y)**2\n",
    "\n",
    "Xfunc(lamba x,y: Yfunc(x,y))\n",
    "```"
   ]
  },
  {
   "cell_type": "code",
   "execution_count": 13,
   "id": "4bc88987-9029-4fff-8100-8c0373728e44",
   "metadata": {},
   "outputs": [],
   "source": [
    "x_values = [random.randint(1,20) for i in range(10)]\n",
    "y_values = [ random.randint(1,20) for i in range(10)]"
   ]
  },
  {
   "cell_type": "code",
   "execution_count": 6,
   "id": "0be1f496-819a-4aa2-b815-b43797ff4232",
   "metadata": {},
   "outputs": [
    {
     "data": {
      "text/plain": [
       "[(15, 18),\n",
       " (7, 15),\n",
       " (13, 15),\n",
       " (20, 8),\n",
       " (5, 5),\n",
       " (4, 9),\n",
       " (7, 20),\n",
       " (1, 20),\n",
       " (1, 1),\n",
       " (19, 6)]"
      ]
     },
     "execution_count": 6,
     "metadata": {},
     "output_type": "execute_result"
    }
   ],
   "source": [
    "xy"
   ]
  },
  {
   "cell_type": "code",
   "execution_count": 14,
   "id": "d013a76b-7419-4c35-a3bd-7eb150a1f492",
   "metadata": {},
   "outputs": [
    {
     "data": {
      "text/plain": [
       "[196, 576, 784, 784, 361, 400, 144, 256, 625, 1156]"
      ]
     },
     "execution_count": 14,
     "metadata": {},
     "output_type": "execute_result"
    }
   ],
   "source": [
    "list(map(lambda x,y: (x+y)**2, x_values, y_values))"
   ]
  },
  {
   "cell_type": "code",
   "execution_count": 12,
   "id": "8fbadf28-bb85-4bcf-983d-fd2370249160",
   "metadata": {},
   "outputs": [
    {
     "data": {
      "text/plain": [
       "(15, 18)"
      ]
     },
     "execution_count": 12,
     "metadata": {},
     "output_type": "execute_result"
    }
   ],
   "source": []
  },
  {
   "cell_type": "code",
   "execution_count": 17,
   "id": "b6b5fb9d-1f0d-4bf1-9424-24a56653048c",
   "metadata": {},
   "outputs": [
    {
     "name": "stdin",
     "output_type": "stream",
     "text": [
      "Enter a float number:  12\n"
     ]
    },
    {
     "ename": "TypeError",
     "evalue": "'float' object cannot be interpreted as an integer",
     "output_type": "error",
     "traceback": [
      "\u001b[1;31m---------------------------------------------------------------------------\u001b[0m",
      "\u001b[1;31mTypeError\u001b[0m                                 Traceback (most recent call last)",
      "Cell \u001b[1;32mIn[17], line 3\u001b[0m\n\u001b[0;32m      1\u001b[0m value \u001b[38;5;241m=\u001b[39m \u001b[38;5;28mfloat\u001b[39m(\u001b[38;5;28minput\u001b[39m(\u001b[38;5;124m\"\u001b[39m\u001b[38;5;124mEnter a float number: \u001b[39m\u001b[38;5;124m\"\u001b[39m))\n\u001b[1;32m----> 3\u001b[0m \u001b[38;5;28;01mif\u001b[39;00m  \u001b[38;5;28mfloat\u001b[39m(value) \u001b[38;5;129;01min\u001b[39;00m \u001b[38;5;28;43mrange\u001b[39;49m\u001b[43m(\u001b[49m\u001b[38;5;241;43m2.0\u001b[39;49m\u001b[43m,\u001b[49m\u001b[43m \u001b[49m\u001b[38;5;241;43m3.0\u001b[39;49m\u001b[43m)\u001b[49m:\n\u001b[0;32m      4\u001b[0m     \u001b[38;5;28mprint\u001b[39m(\u001b[38;5;124m\"\u001b[39m\u001b[38;5;124mValue in range 2.0 and 3.0\u001b[39m\u001b[38;5;124m\"\u001b[39m)\n\u001b[0;32m      5\u001b[0m \u001b[38;5;28;01melif\u001b[39;00m value \u001b[38;5;129;01min\u001b[39;00m \u001b[38;5;28mrange\u001b[39m(\u001b[38;5;241m4.0\u001b[39m, \u001b[38;5;241m5.0\u001b[39m):\n",
      "\u001b[1;31mTypeError\u001b[0m: 'float' object cannot be interpreted as an integer"
     ]
    }
   ],
   "source": [
    "value = float(input(\"Enter a float number: \"))\n",
    "\n",
    "if  value in range(2.0, 3.0):\n",
    "    print(\"Value in range 2.0 and 3.0\")\n",
    "elif value in range(4.0, 5.0):\n",
    "    print(\"Value in range 4.0 and 5.0\")\n",
    "else:\n",
    "    print(\"Value in valid\")"
   ]
  },
  {
   "cell_type": "code",
   "execution_count": 21,
   "id": "b470e325-fa46-45ba-8ff4-30698c6ff50f",
   "metadata": {},
   "outputs": [
    {
     "data": {
      "text/plain": [
       "range(2, 10)"
      ]
     },
     "execution_count": 21,
     "metadata": {},
     "output_type": "execute_result"
    }
   ],
   "source": [
    "range(2,10, 1)"
   ]
  },
  {
   "cell_type": "code",
   "execution_count": 26,
   "id": "cffba5b9-c8f9-4f7c-b546-909ff9d09e6d",
   "metadata": {},
   "outputs": [],
   "source": [
    "def float_range(start,end,step):\n",
    "    current = start\n",
    "    _range = []\n",
    "    while current < end:\n",
    "        _range.append(round(current,2))\n",
    "        current += step\n",
    "\n",
    "    return _range"
   ]
  },
  {
   "cell_type": "code",
   "execution_count": 27,
   "id": "a8f996ac-3f57-433d-91bd-f74c2f046b37",
   "metadata": {},
   "outputs": [
    {
     "data": {
      "text/plain": [
       "[2.0, 2.3, 2.6, 2.9]"
      ]
     },
     "execution_count": 27,
     "metadata": {},
     "output_type": "execute_result"
    }
   ],
   "source": [
    "float_range(2.0, 3.0, 0.3)"
   ]
  },
  {
   "cell_type": "code",
   "execution_count": null,
   "id": "8e460bdc-5ad1-4cee-a849-94246b55afa2",
   "metadata": {},
   "outputs": [],
   "source": []
  }
 ],
 "metadata": {
  "kernelspec": {
   "display_name": "Python 3 (ipykernel)",
   "language": "python",
   "name": "python3"
  },
  "language_info": {
   "codemirror_mode": {
    "name": "ipython",
    "version": 3
   },
   "file_extension": ".py",
   "mimetype": "text/x-python",
   "name": "python",
   "nbconvert_exporter": "python",
   "pygments_lexer": "ipython3",
   "version": "3.11.1"
  }
 },
 "nbformat": 4,
 "nbformat_minor": 5
}
