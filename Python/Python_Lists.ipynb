{
 "cells": [
  {
   "cell_type": "code",
   "execution_count": 1,
   "id": "d947158a-f418-49f3-8bde-59a1469ed9d7",
   "metadata": {},
   "outputs": [
    {
     "name": "stdout",
     "output_type": "stream",
     "text": [
      "Hello World\n"
     ]
    }
   ],
   "source": [
    "print(\"Hello World\")"
   ]
  },
  {
   "cell_type": "markdown",
   "id": "985cce3f-c206-4d20-8211-9c715d1faa8c",
   "metadata": {},
   "source": [
    "## Variable\n",
    "\n",
    "Variable is containers for tsoring the data values.\n",
    "\n",
    "***Creating Variable***\n",
    "\n",
    "In python has no command for declaring the variable..\n",
    "\n",
    "A variable is created the moment you first assign a value to it."
   ]
  },
  {
   "cell_type": "code",
   "execution_count": 1,
   "id": "5b3b9a76-e3bb-43ee-b4fc-4240a8586646",
   "metadata": {},
   "outputs": [],
   "source": [
    "x = 5\n",
    "y = \"Hellow World\"\n",
    "z = 7.90"
   ]
  },
  {
   "cell_type": "code",
   "execution_count": 2,
   "id": "633f741b-696a-40d3-97ac-ecd13efa5f8d",
   "metadata": {},
   "outputs": [
    {
     "name": "stdout",
     "output_type": "stream",
     "text": [
      "5 Hellow World 7.9\n"
     ]
    }
   ],
   "source": [
    "print(x, y, z)"
   ]
  },
  {
   "cell_type": "markdown",
   "id": "8e6ad948-f00c-47ed-ae57-87ee365b8395",
   "metadata": {},
   "source": [
    "## Data Types\n",
    "\n",
    "`Text Types:` str \\\n",
    "`Numeric Types:` int, float, complex \\\n",
    "`Sequenece Types:` list, tuple, range \\\n",
    "`Set Types:` set, frozenset \\\n",
    "`Boolean Types:` bool \\\n",
    "`Binary Types:` bytes, bytearray, memoryview \\\n",
    "`None Types:` NoneType "
   ]
  },
  {
   "cell_type": "code",
   "execution_count": 3,
   "id": "6977bad1-07b6-423c-a8f6-151d7bb62027",
   "metadata": {},
   "outputs": [],
   "source": [
    "a = \"Hello World\" ## str\n",
    "b = 90 ## int\n",
    "c = 8.67 ## float\n",
    "d = 1j ## complex\n",
    "e = [\"Abhishek\", \"Monu\", \"Saurabh\"] ## list\n",
    "f = (\"Apple\", \"Banana\", \"Orange\") ## tuple  tuple is immutable\n",
    "g = range(6) ## rangle\n",
    "h = {\"name\": \"abhishek\", \"age\": 19, \"Height\": 5.7} ## dict\n",
    "i = {\"apple\", \"banana\", \"orange\"} ## set\n",
    "j = True ## bool\n",
    "k = None ## none"
   ]
  },
  {
   "cell_type": "code",
   "execution_count": 4,
   "id": "34298fc7-3c4d-4d89-b007-3cd3cf7b0b3c",
   "metadata": {},
   "outputs": [
    {
     "name": "stdout",
     "output_type": "stream",
     "text": [
      "Hello World 90 8.67 1j ['Abhishek', 'Monu', 'Saurabh'] ('Apple', 'Banana', 'Orange') range(0, 6) {'name': 'abhishek', 'age': 19, 'Height': 5.7} {'banana', 'apple', 'orange'} True None\n"
     ]
    }
   ],
   "source": [
    "print(a, b, c, d, e, f, g, h, i, j, k)"
   ]
  },
  {
   "cell_type": "markdown",
   "id": "8fd3983b-e0e9-4df4-83b4-1e5c3de12264",
   "metadata": {},
   "source": [
    "**Operators** \\\n",
    "`Arithmetic Operators:` +, -, *,**, / ,//, % \\\n",
    "`Assignment Operators:` =, +=, -=, *=, /=, %=, //=, **=, &=, |=, ^=, >>=, <<= \\\n",
    "`Comparsion Operators:` ==, !=, <=, >=, < , > \\\n",
    "`Logical Operators:`and, or , not \\\n",
    "`Bitwise Opertors:` &, |, ^, ~, <<, >> \\\n",
    "`Identity Operators:` is , is not \\\n",
    "`Membership Operators:` in , not in "
   ]
  },
  {
   "cell_type": "markdown",
   "id": "9bb8439b-13fa-4626-98dd-1606f1702bfd",
   "metadata": {},
   "source": [
    "## Lists\n",
    "\n",
    "Lists are used to store multiple itmes in a single variable.\n",
    "\n",
    "Lists are one of 4 built-in data types in python used to store collection of data, the other 3 are tuple, dict, set, all are different qualities and usage."
   ]
  },
  {
   "cell_type": "code",
   "execution_count": 5,
   "id": "2dfb96ab-3cbe-4fa9-94d2-93e01c78aa28",
   "metadata": {},
   "outputs": [
    {
     "name": "stdout",
     "output_type": "stream",
     "text": [
      "['Abhishek', 'Monu', 'Hanish']\n"
     ]
    }
   ],
   "source": [
    "myList = [\"Abhishek\", \"Monu\", \"Hanish\"]\n",
    "print(myList)"
   ]
  },
  {
   "cell_type": "markdown",
   "id": "416544f0-a4cd-4f09-ad2b-b463f383e180",
   "metadata": {},
   "source": [
    "**List Items**\n",
    "\n",
    "List items are ordered, changeable and allow duplicate values.\n",
    "\n",
    "List item are indexed, the first item has index [0], and the second has [1] etc.\n"
   ]
  },
  {
   "cell_type": "markdown",
   "id": "5019bb53-740b-4360-acc2-1701870d14bf",
   "metadata": {},
   "source": [
    "**List Length**\n",
    "\n",
    "To determine how many items a list has, use the `len()` function."
   ]
  },
  {
   "cell_type": "code",
   "execution_count": 6,
   "id": "92f755fc-84a1-49e4-afd0-c8bf4a264f56",
   "metadata": {},
   "outputs": [
    {
     "name": "stdout",
     "output_type": "stream",
     "text": [
      "3\n"
     ]
    }
   ],
   "source": [
    "print(len(myList))"
   ]
  },
  {
   "cell_type": "markdown",
   "id": "c6747390-bcf9-48d1-b2d9-f7ce6412f7b1",
   "metadata": {},
   "source": [
    "# Python Collection (Arrays)\n",
    "\n",
    "`List:` List is a collection which is ordered and changeable. Allows duplicate members. \\\n",
    "`Tuple:` Tuple is a collection which is ordered and unchangeable. Allows duplicate members. \\\n",
    "`Set:` Set is a collection which is unordered, unchangeable, and unindexed. No dulpicate menebers. \\\n",
    "`Dir:` Dictionary is a collection which is ordered and changeable. No duplicate members."
   ]
  },
  {
   "cell_type": "code",
   "execution_count": 10,
   "id": "0c963257-6560-4d25-83c0-80be20074c95",
   "metadata": {},
   "outputs": [
    {
     "name": "stdout",
     "output_type": "stream",
     "text": [
      "['Abhishek', 'Mohan', 'Manish', 'Hanish', 'Abhishek', 'Hanish', 'Harendra']\n",
      "7\n",
      "<class 'list'>\n",
      "['apple', 'mango', 'banana']\n",
      "Mohan\n",
      "Hanish\n",
      "['Mohan', 'Manish', 'Hanish', 'Abhishek']\n",
      "Yes, Mohan is in the list\n",
      "['Abhishek', 'Sohan', 'Manish', 'Hanish', 'Abhishek', 'Hanish', 'Harendra']\n"
     ]
    }
   ],
   "source": [
    "## Allow Duplicates\n",
    "\n",
    "mylist = [\"Abhishek\", \"Mohan\", \"Manish\", \"Hanish\", \"Abhishek\", \"Hanish\", \"Harendra\"]\n",
    "print(mylist)\n",
    "\n",
    "##List Length\n",
    "\n",
    "print(len(mylist))\n",
    "\n",
    "## List Items - Data Types\n",
    "print(type(mylist))\n",
    "\n",
    "## list() constuructor\n",
    "thislist = list((\"apple\", \"mango\", \"banana\"))\n",
    "\n",
    "print(thislist)\n",
    "\n",
    "## Access List Item\n",
    "\n",
    "print(mylist[1])\n",
    "\n",
    "## negative indexing\n",
    "\n",
    "print(mylist[-2])\n",
    "\n",
    "## range of indexes\n",
    "print(mylist[1:5])\n",
    "\n",
    "## check if item exists\n",
    "\n",
    "if \"Mohan\" in mylist:\n",
    "    print(\"Yes, Mohan is in the list\")\n",
    "\n",
    "## chagne items value\n",
    "\n",
    "mylist[1] = \"Sohan\"\n",
    "\n",
    "print(mylist)"
   ]
  },
  {
   "cell_type": "code",
   "execution_count": 11,
   "id": "71fd57dd-1ebc-4bed-b1c3-9497a20b4911",
   "metadata": {},
   "outputs": [
    {
     "name": "stdout",
     "output_type": "stream",
     "text": [
      "['Abhishek', 'Rohan', 'Manisha', 'Hanish', 'Abhishek', 'Hanish', 'Harendra']\n"
     ]
    }
   ],
   "source": [
    "## change the value in rangle\n",
    "\n",
    "mylist[1:3] = [\"Rohan\", \"Manisha\"]\n",
    "\n",
    "print(mylist)"
   ]
  },
  {
   "cell_type": "code",
   "execution_count": 12,
   "id": "35609ece-0f44-4aef-a00a-159e235be06c",
   "metadata": {},
   "outputs": [
    {
     "name": "stdout",
     "output_type": "stream",
     "text": [
      "['Abhishek', 'Rohan', 'Manish', 'Manisha', 'Hanish', 'Abhishek', 'Hanish', 'Harendra']\n"
     ]
    }
   ],
   "source": [
    "## insert items\n",
    "\n",
    "## The insert() method inserts an items at the specified index\n",
    "\n",
    "mylist.insert(2, \"Manish\")\n",
    "\n",
    "print(mylist)"
   ]
  },
  {
   "cell_type": "code",
   "execution_count": 13,
   "id": "514f64f9-2f83-42e1-9eaf-0e322c1a9e6d",
   "metadata": {},
   "outputs": [
    {
     "name": "stdout",
     "output_type": "stream",
     "text": [
      "['Abhishek', 'Rohan', 'Manish', 'Manisha', 'Hanish', 'Abhishek', 'Hanish', 'Harendra', 'Kartik']\n"
     ]
    }
   ],
   "source": [
    "## append item\n",
    "\n",
    "## the append() method add items to the end of the list\n",
    "\n",
    "mylist.append(\"Kartik\")\n",
    "\n",
    "print(mylist)"
   ]
  },
  {
   "cell_type": "code",
   "execution_count": 32,
   "id": "307e38fd-c8ff-4df0-b47c-e81eb135d6ac",
   "metadata": {},
   "outputs": [
    {
     "ename": "NameError",
     "evalue": "name 'thislist' is not defined",
     "output_type": "error",
     "traceback": [
      "\u001b[1;31m----------------------------------------------------------------\u001b[0m",
      "\u001b[1;31mNameError\u001b[0m                      Traceback (most recent call last)",
      "Cell \u001b[1;32mIn[32], line 5\u001b[0m\n\u001b[0;32m      1\u001b[0m \u001b[38;5;66;03m## extend list \u001b[39;00m\n\u001b[0;32m      2\u001b[0m \n\u001b[0;32m      3\u001b[0m \u001b[38;5;66;03m## to append elements from another list to the currect list, use the extend() method\u001b[39;00m\n\u001b[1;32m----> 5\u001b[0m mylist\u001b[38;5;241m.\u001b[39mextend(\u001b[43mthislist\u001b[49m)\n\u001b[0;32m      7\u001b[0m \u001b[38;5;28mprint\u001b[39m(mylist)\n",
      "\u001b[1;31mNameError\u001b[0m: name 'thislist' is not defined"
     ]
    }
   ],
   "source": [
    "## extend list \n",
    "\n",
    "## to append elements from another list to the currect list, use the extend() method\n",
    "\n",
    "mylist.extend(thislist)\n",
    "\n",
    "print(mylist)\n"
   ]
  },
  {
   "cell_type": "code",
   "execution_count": 20,
   "id": "a5335836-1fd3-4c35-b831-769ccc1bcc68",
   "metadata": {},
   "outputs": [
    {
     "data": {
      "text/plain": [
       "['Abhishek',\n",
       " 'Rohan',\n",
       " 'Manisha',\n",
       " 'Hanish',\n",
       " 'Abhishek',\n",
       " 'Hanish',\n",
       " 'Harendra',\n",
       " 'Kartik',\n",
       " 'apple']"
      ]
     },
     "execution_count": 20,
     "metadata": {},
     "output_type": "execute_result"
    }
   ],
   "source": [
    "## remove list item\n",
    "\n",
    "## pop() method remove the item form the specified index\n",
    "\n",
    "mylist.pop(2)\n",
    "\n",
    "mylist"
   ]
  },
  {
   "cell_type": "code",
   "execution_count": 21,
   "id": "ad9d5f39-3986-4a29-ac6b-96117815804b",
   "metadata": {},
   "outputs": [
    {
     "name": "stdout",
     "output_type": "stream",
     "text": [
      "['Abhishek', 'Rohan', 'Manisha', 'Hanish', 'Abhishek', 'Hanish', 'Harendra', 'Kartik']\n"
     ]
    }
   ],
   "source": [
    "## if you do not specify the index pop() method removes the last item\n",
    "\n",
    "mylist.pop()\n",
    "\n",
    "print(mylist)\n"
   ]
  },
  {
   "cell_type": "code",
   "execution_count": 25,
   "id": "89a7cd12-9ea9-4179-8521-9327e34e3bb4",
   "metadata": {},
   "outputs": [
    {
     "name": "stdout",
     "output_type": "stream",
     "text": [
      "['Abhishek', 'Rohan', 'Manisha', 'Hanish', 'Abhishek', 'Hanish']\n"
     ]
    }
   ],
   "source": [
    "## remove item\n",
    "\n",
    "## remove() method removes the specified item\n",
    "\n",
    "mylist.remove(\"Kartik\")\n",
    "\n",
    "print(mylist)"
   ]
  },
  {
   "cell_type": "code",
   "execution_count": 26,
   "id": "f712eb41-d8d5-4712-a653-d3dfcdf67cbd",
   "metadata": {},
   "outputs": [
    {
     "name": "stdout",
     "output_type": "stream",
     "text": [
      "['apple', 'mango', 'banana']\n",
      "['apple', 'banana']\n"
     ]
    }
   ],
   "source": [
    "## del keyword\n",
    "\n",
    "## del keyboard also removes the specified index or also delete the list completely\n",
    "\n",
    "print(thislist)\n",
    "\n",
    "del thislist[1]\n",
    "\n",
    "print(thislist)\n",
    "\n",
    "del thislist"
   ]
  },
  {
   "cell_type": "code",
   "execution_count": 28,
   "id": "fc815534-05f8-4224-b134-92851b1f4c04",
   "metadata": {},
   "outputs": [
    {
     "data": {
      "text/plain": [
       "['Abhishek', 'Rohan', 'Manisha', 'Hanish', 'Abhishek', 'Hanish']"
      ]
     },
     "execution_count": 28,
     "metadata": {},
     "output_type": "execute_result"
    }
   ],
   "source": [
    "mylist\n"
   ]
  },
  {
   "cell_type": "markdown",
   "id": "de5a8578-45c9-4af5-952d-8873a599afdc",
   "metadata": {},
   "source": [
    "# Loop Lists"
   ]
  },
  {
   "cell_type": "code",
   "execution_count": 34,
   "id": "3f21fc25-8785-4d98-b20f-daf4100728b4",
   "metadata": {},
   "outputs": [
    {
     "name": "stdout",
     "output_type": "stream",
     "text": [
      "Abhishek\n",
      "Rohan\n",
      "Manisha\n",
      "Hanish\n",
      "Abhishek\n",
      "Hanish\n"
     ]
    }
   ],
   "source": [
    "## Loop through a list\n",
    "\n",
    "## you can loop through the list items by using a for loop\n",
    "\n",
    "mylist\n",
    "\n",
    "for name in mylist:\n",
    "    print(name)"
   ]
  },
  {
   "cell_type": "code",
   "execution_count": 35,
   "id": "cc5bd296-69bc-4de4-b1e7-873c2a8503b5",
   "metadata": {},
   "outputs": [
    {
     "name": "stdout",
     "output_type": "stream",
     "text": [
      "Abhishek\n",
      "Rohan\n",
      "Manisha\n",
      "Hanish\n",
      "Abhishek\n",
      "Hanish\n"
     ]
    }
   ],
   "source": [
    "## Loop through index number \n",
    "\n",
    "## use the range() and len() function to create a suitable iterable\n",
    "mylist\n",
    "\n",
    "for i in range(len(mylist)):\n",
    "    print(mylist[i])"
   ]
  },
  {
   "cell_type": "code",
   "execution_count": 36,
   "id": "9f7e9baa-e546-40a2-a75b-bc27dab6b6bc",
   "metadata": {},
   "outputs": [
    {
     "name": "stdout",
     "output_type": "stream",
     "text": [
      "Abhishek\n",
      "Rohan\n",
      "Manisha\n",
      "Hanish\n",
      "Abhishek\n",
      "Hanish\n"
     ]
    }
   ],
   "source": [
    "## Using a while loop\n",
    "mylist\n",
    "\n",
    "x = 0\n",
    "\n",
    "while x < len(mylist):\n",
    "    print(mylist[x])\n",
    "    x = x + 1"
   ]
  },
  {
   "cell_type": "code",
   "execution_count": 39,
   "id": "f5e13425-0eb1-4997-a9d4-49d3b6ffd108",
   "metadata": {},
   "outputs": [
    {
     "name": "stdout",
     "output_type": "stream",
     "text": [
      "Abhishek\n",
      "Mohan\n",
      "Hanish\n"
     ]
    },
    {
     "data": {
      "text/plain": [
       "[None, None, None]"
      ]
     },
     "execution_count": 39,
     "metadata": {},
     "output_type": "execute_result"
    }
   ],
   "source": [
    "## Shortest syntex for looping through list\n",
    "\n",
    "list = [\"Abhishek\", \"Mohan\", \"Hanish\"]\n",
    "\n",
    "[print(y) for y in list]"
   ]
  },
  {
   "cell_type": "markdown",
   "id": "13e6e4c7-91b2-48e8-8ea7-53a7790b9434",
   "metadata": {},
   "source": [
    "## List Comprehension\n",
    "\n",
    "List comprehension offers a shorter syntax when you want to create a new list based on the value of an existing list.\n",
    "\n",
    "**Example**\n",
    "\n",
    "Based on a list of fruits, you want a new list, containing only the fruits with the letter `a` in the name.\n",
    "\n",
    "Without list comprehension you will have to write a for statement with a conditional test inside.\n"
   ]
  },
  {
   "cell_type": "code",
   "execution_count": 40,
   "id": "b7240132-1d63-4170-89d0-9cc758a618c5",
   "metadata": {},
   "outputs": [],
   "source": [
    "fruits = [\"apple\", \"banana\", \"cherry\", \"orange\", \"papaya\"]"
   ]
  },
  {
   "cell_type": "code",
   "execution_count": 45,
   "id": "5860f468-208c-4be4-b0b6-02f17cc12dd0",
   "metadata": {},
   "outputs": [
    {
     "name": "stdout",
     "output_type": "stream",
     "text": [
      "['apple', 'banana', 'orange', 'papaya']\n"
     ]
    }
   ],
   "source": [
    "fruits\n",
    "newlist = []\n",
    "\n",
    "for x in fruits:\n",
    "    if \"a\" in x:\n",
    "        newlist.append(x)\n",
    "\n",
    "print(newlist)"
   ]
  },
  {
   "cell_type": "code",
   "execution_count": 44,
   "id": "db7958eb-bfb1-4111-95aa-02adccf371cf",
   "metadata": {},
   "outputs": [
    {
     "name": "stdout",
     "output_type": "stream",
     "text": [
      "['apple', 'cherry', 'orange']\n"
     ]
    }
   ],
   "source": [
    "## shorthand syntax of list comprehension\n",
    "\n",
    "newlist2 = [x for x in fruits if \"e\" in x]\n",
    "\n",
    "print(newlist2)"
   ]
  },
  {
   "cell_type": "markdown",
   "id": "51c21687-f033-4be3-9f9f-9ea240d53bf6",
   "metadata": {},
   "source": [
    "**shorthand syntax**\n",
    "\n",
    "newlist = [experssion for item in iterable if condition == True]"
   ]
  },
  {
   "cell_type": "markdown",
   "id": "059d9f65-68c5-403d-97d1-c39a18cf4d7a",
   "metadata": {},
   "source": [
    "## Sort list Alphanumerically\n",
    "\n",
    "List object have a `sort()` method that will sort the list alphanumerically, ascending, by default.\n"
   ]
  },
  {
   "cell_type": "code",
   "execution_count": 46,
   "id": "fa3266c1-e0ac-469f-9b8f-527c4d05f033",
   "metadata": {},
   "outputs": [
    {
     "name": "stdout",
     "output_type": "stream",
     "text": [
      "['apple', 'banana', 'cherry', 'orange', 'papaya']\n"
     ]
    }
   ],
   "source": [
    "## short the list alphabetically\n",
    "\n",
    "fruits\n",
    "\n",
    "fruits.sort()\n",
    "print(fruits)"
   ]
  },
  {
   "cell_type": "code",
   "execution_count": 47,
   "id": "cf40b383-73ab-495c-abe2-8bdcee478499",
   "metadata": {},
   "outputs": [
    {
     "name": "stdout",
     "output_type": "stream",
     "text": [
      "[1, 2, 4, 23, 33, 48, 100, 458]\n"
     ]
    }
   ],
   "source": [
    "## sort the list numerically\n",
    "\n",
    "num = [1, 4, 2, 100, 458, 33, 48, 23]\n",
    "\n",
    "num.sort()\n",
    "\n",
    "print(num)"
   ]
  },
  {
   "cell_type": "code",
   "execution_count": 49,
   "id": "c5dc6d21-40cd-4884-8b22-427f955a2f39",
   "metadata": {},
   "outputs": [
    {
     "name": "stdout",
     "output_type": "stream",
     "text": [
      "[458, 100, 48, 33, 23, 4, 2, 1]\n"
     ]
    }
   ],
   "source": [
    "## sort descending\n",
    "\n",
    "## use the keyword arg reverse = True\n",
    "\n",
    "num.sort(reverse=True)\n",
    "\n",
    "print(num)"
   ]
  },
  {
   "cell_type": "markdown",
   "id": "36d2754e-7101-4493-80e0-1ff49175a7a8",
   "metadata": {},
   "source": [
    "### Customize Sort Function\n",
    "\n",
    "You can also customize your own function by using the keyword argument `key = function`\n"
   ]
  },
  {
   "cell_type": "code",
   "execution_count": 50,
   "id": "e0210fe0-49e0-45e1-9fa8-901b6c3749cb",
   "metadata": {},
   "outputs": [
    {
     "name": "stdout",
     "output_type": "stream",
     "text": [
      "[1, 2, 4, 23, 33, 48, 100, 458]\n"
     ]
    }
   ],
   "source": [
    "def myfunc(n):\n",
    "    return abs(n - 1)\n",
    "\n",
    "num.sort(key = myfunc)\n",
    "\n",
    "print(num)"
   ]
  },
  {
   "cell_type": "markdown",
   "id": "4e30481d-1433-4c9a-a1d6-2f550e7a3be6",
   "metadata": {},
   "source": [
    "## Reverse Method\n",
    "\n",
    "The `reverse()` method reverses the current sorting order of the elements."
   ]
  },
  {
   "cell_type": "code",
   "execution_count": 51,
   "id": "e89c3236-e5cf-4e91-a9ed-22a22a08113e",
   "metadata": {},
   "outputs": [
    {
     "data": {
      "text/plain": [
       "[1, 2, 4, 23, 33, 48, 100, 458]"
      ]
     },
     "execution_count": 51,
     "metadata": {},
     "output_type": "execute_result"
    }
   ],
   "source": [
    "num"
   ]
  },
  {
   "cell_type": "code",
   "execution_count": 52,
   "id": "02ea5fc5-4970-4bd5-b8fe-28a3dc381290",
   "metadata": {},
   "outputs": [
    {
     "name": "stdout",
     "output_type": "stream",
     "text": [
      "[458, 100, 48, 33, 23, 4, 2, 1]\n"
     ]
    }
   ],
   "source": [
    "num.reverse()\n",
    "print(num)"
   ]
  },
  {
   "cell_type": "markdown",
   "id": "e5da228f-d5f3-43bd-942a-59f9504f73cc",
   "metadata": {},
   "source": [
    "## Copy List\n",
    "\n",
    "There are two ways to copy a list \n",
    "1. `copy()` method\n",
    "2. `list()` method"
   ]
  },
  {
   "cell_type": "code",
   "execution_count": 54,
   "id": "3ab9ccb1-eaca-4b5b-8141-0d99a9cb1b55",
   "metadata": {},
   "outputs": [
    {
     "data": {
      "text/plain": [
       "['apple', 'banana', 'cherry', 'orange', 'papaya']"
      ]
     },
     "execution_count": 54,
     "metadata": {},
     "output_type": "execute_result"
    }
   ],
   "source": [
    "fruits"
   ]
  },
  {
   "cell_type": "code",
   "execution_count": 55,
   "id": "9a72e1b3-e277-4610-8d60-1e3184b327b5",
   "metadata": {},
   "outputs": [
    {
     "name": "stdout",
     "output_type": "stream",
     "text": [
      "['apple', 'banana', 'cherry', 'orange', 'papaya']\n"
     ]
    }
   ],
   "source": [
    "## by using a copy method\n",
    "\n",
    "newfruits = fruits.copy()\n",
    "\n",
    "print(newfruits)"
   ]
  },
  {
   "cell_type": "code",
   "execution_count": 57,
   "id": "39e7add7-6800-45dd-bb6b-53356cd8a0c7",
   "metadata": {},
   "outputs": [
    {
     "ename": "TypeError",
     "evalue": "'list' object is not callable",
     "output_type": "error",
     "traceback": [
      "\u001b[1;31m----------------------------------------------------------------\u001b[0m",
      "\u001b[1;31mTypeError\u001b[0m                      Traceback (most recent call last)",
      "Cell \u001b[1;32mIn[57], line 3\u001b[0m\n\u001b[0;32m      1\u001b[0m \u001b[38;5;66;03m## by using a list method\u001b[39;00m\n\u001b[1;32m----> 3\u001b[0m newFruits2 \u001b[38;5;241m=\u001b[39m \u001b[38;5;28;43mlist\u001b[39;49m\u001b[43m(\u001b[49m\u001b[43mfruits\u001b[49m\u001b[43m)\u001b[49m\n\u001b[0;32m      5\u001b[0m \u001b[38;5;28mprint\u001b[39m(newFruits2)\n",
      "\u001b[1;31mTypeError\u001b[0m: 'list' object is not callable"
     ]
    }
   ],
   "source": [
    "## by using a list method\n",
    "\n",
    "newFruits2 = list(fruits)\n",
    "\n",
    "print(newFruits2)"
   ]
  },
  {
   "cell_type": "markdown",
   "id": "60dbdf6e-cf18-4549-bdd8-1208bfed930b",
   "metadata": {},
   "source": [
    "## Join Lists\n",
    "\n",
    "There are several ways to join, concatenate, two or more lists in Python."
   ]
  },
  {
   "cell_type": "code",
   "execution_count": 58,
   "id": "6e452965-1141-43dc-b1bd-941a5c2bc11c",
   "metadata": {},
   "outputs": [
    {
     "data": {
      "text/plain": [
       "[458, 100, 48, 33, 23, 4, 2, 1]"
      ]
     },
     "execution_count": 58,
     "metadata": {},
     "output_type": "execute_result"
    }
   ],
   "source": [
    "num"
   ]
  },
  {
   "cell_type": "code",
   "execution_count": 59,
   "id": "5013a29b-5957-457f-83da-c8dcf978de52",
   "metadata": {},
   "outputs": [],
   "source": [
    "num2 = [1, 2, 3, 4, 5, 6,]"
   ]
  },
  {
   "cell_type": "code",
   "execution_count": 60,
   "id": "8fe62cb6-0284-487d-9fb2-f67f86d28c13",
   "metadata": {},
   "outputs": [
    {
     "name": "stdout",
     "output_type": "stream",
     "text": [
      "[458, 100, 48, 33, 23, 4, 2, 1, 1, 2, 3, 4, 5, 6]\n"
     ]
    }
   ],
   "source": [
    "num3 = num + num2\n",
    "\n",
    "print(num3)"
   ]
  },
  {
   "cell_type": "code",
   "execution_count": 61,
   "id": "186b1b87-fa74-40fc-a98b-30feb8c96a65",
   "metadata": {},
   "outputs": [
    {
     "name": "stdout",
     "output_type": "stream",
     "text": [
      "[458, 100, 48, 33, 23, 4, 2, 1, 1, 2, 3, 4, 5, 6]\n"
     ]
    }
   ],
   "source": [
    "## append method\n",
    "\n",
    "for x in num2:\n",
    "    num.append(x);\n",
    "\n",
    "print(num)"
   ]
  },
  {
   "cell_type": "code",
   "execution_count": 1,
   "id": "2663868a-070d-4b14-922f-7ce5edf92da0",
   "metadata": {},
   "outputs": [
    {
     "name": "stdout",
     "output_type": "stream",
     "text": [
      "Help on class list in module builtins:\n",
      "\n",
      "class list(object)\n",
      " |  list(iterable=(), /)\n",
      " |  \n",
      " |  Built-in mutable sequence.\n",
      " |  \n",
      " |  If no argument is given, the constructor creates a new empty list.\n",
      " |  The argument must be an iterable if specified.\n",
      " |  \n",
      " |  Methods defined here:\n",
      " |  \n",
      " |  __add__(self, value, /)\n",
      " |      Return self+value.\n",
      " |  \n",
      " |  __contains__(self, key, /)\n",
      " |      Return key in self.\n",
      " |  \n",
      " |  __delitem__(self, key, /)\n",
      " |      Delete self[key].\n",
      " |  \n",
      " |  __eq__(self, value, /)\n",
      " |      Return self==value.\n",
      " |  \n",
      " |  __ge__(self, value, /)\n",
      " |      Return self>=value.\n",
      " |  \n",
      " |  __getattribute__(self, name, /)\n",
      " |      Return getattr(self, name).\n",
      " |  \n",
      " |  __getitem__(...)\n",
      " |      x.__getitem__(y) <==> x[y]\n",
      " |  \n",
      " |  __gt__(self, value, /)\n",
      " |      Return self>value.\n",
      " |  \n",
      " |  __iadd__(self, value, /)\n",
      " |      Implement self+=value.\n",
      " |  \n",
      " |  __imul__(self, value, /)\n",
      " |      Implement self*=value.\n",
      " |  \n",
      " |  __init__(self, /, *args, **kwargs)\n",
      " |      Initialize self.  See help(type(self)) for accurate signature.\n",
      " |  \n",
      " |  __iter__(self, /)\n",
      " |      Implement iter(self).\n",
      " |  \n",
      " |  __le__(self, value, /)\n",
      " |      Return self<=value.\n",
      " |  \n",
      " |  __len__(self, /)\n",
      " |      Return len(self).\n",
      " |  \n",
      " |  __lt__(self, value, /)\n",
      " |      Return self<value.\n",
      " |  \n",
      " |  __mul__(self, value, /)\n",
      " |      Return self*value.\n",
      " |  \n",
      " |  __ne__(self, value, /)\n",
      " |      Return self!=value.\n",
      " |  \n",
      " |  __repr__(self, /)\n",
      " |      Return repr(self).\n",
      " |  \n",
      " |  __reversed__(self, /)\n",
      " |      Return a reverse iterator over the list.\n",
      " |  \n",
      " |  __rmul__(self, value, /)\n",
      " |      Return value*self.\n",
      " |  \n",
      " |  __setitem__(self, key, value, /)\n",
      " |      Set self[key] to value.\n",
      " |  \n",
      " |  __sizeof__(self, /)\n",
      " |      Return the size of the list in memory, in bytes.\n",
      " |  \n",
      " |  append(self, object, /)\n",
      " |      Append object to the end of the list.\n",
      " |  \n",
      " |  clear(self, /)\n",
      " |      Remove all items from list.\n",
      " |  \n",
      " |  copy(self, /)\n",
      " |      Return a shallow copy of the list.\n",
      " |  \n",
      " |  count(self, value, /)\n",
      " |      Return number of occurrences of value.\n",
      " |  \n",
      " |  extend(self, iterable, /)\n",
      " |      Extend list by appending elements from the iterable.\n",
      " |  \n",
      " |  index(self, value, start=0, stop=9223372036854775807, /)\n",
      " |      Return first index of value.\n",
      " |      \n",
      " |      Raises ValueError if the value is not present.\n",
      " |  \n",
      " |  insert(self, index, object, /)\n",
      " |      Insert object before index.\n",
      " |  \n",
      " |  pop(self, index=-1, /)\n",
      " |      Remove and return item at index (default last).\n",
      " |      \n",
      " |      Raises IndexError if list is empty or index is out of range.\n",
      " |  \n",
      " |  remove(self, value, /)\n",
      " |      Remove first occurrence of value.\n",
      " |      \n",
      " |      Raises ValueError if the value is not present.\n",
      " |  \n",
      " |  reverse(self, /)\n",
      " |      Reverse *IN PLACE*.\n",
      " |  \n",
      " |  sort(self, /, *, key=None, reverse=False)\n",
      " |      Sort the list in ascending order and return None.\n",
      " |      \n",
      " |      The sort is in-place (i.e. the list itself is modified) and stable (i.e. the\n",
      " |      order of two equal elements is maintained).\n",
      " |      \n",
      " |      If a key function is given, apply it once to each list item and sort them,\n",
      " |      ascending or descending, according to their function values.\n",
      " |      \n",
      " |      The reverse flag can be set to sort in descending order.\n",
      " |  \n",
      " |  ----------------------------------------------------------------------\n",
      " |  Class methods defined here:\n",
      " |  \n",
      " |  __class_getitem__(...) from builtins.type\n",
      " |      See PEP 585\n",
      " |  \n",
      " |  ----------------------------------------------------------------------\n",
      " |  Static methods defined here:\n",
      " |  \n",
      " |  __new__(*args, **kwargs) from builtins.type\n",
      " |      Create and return a new object.  See help(type) for accurate signature.\n",
      " |  \n",
      " |  ----------------------------------------------------------------------\n",
      " |  Data and other attributes defined here:\n",
      " |  \n",
      " |  __hash__ = None\n",
      "\n"
     ]
    }
   ],
   "source": [
    "help(list)"
   ]
  },
  {
   "cell_type": "code",
   "execution_count": null,
   "id": "17be14df-ddd5-49f4-9f42-a474f72c63e5",
   "metadata": {},
   "outputs": [],
   "source": []
  }
 ],
 "metadata": {
  "kernelspec": {
   "display_name": "Python 3 (ipykernel)",
   "language": "python",
   "name": "python3"
  },
  "language_info": {
   "codemirror_mode": {
    "name": "ipython",
    "version": 3
   },
   "file_extension": ".py",
   "mimetype": "text/x-python",
   "name": "python",
   "nbconvert_exporter": "python",
   "pygments_lexer": "ipython3",
   "version": "3.11.1"
  }
 },
 "nbformat": 4,
 "nbformat_minor": 5
}
