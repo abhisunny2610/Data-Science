{
 "cells": [
  {
   "cell_type": "markdown",
   "id": "1937fbf7-9388-406d-aca2-f3649ef4759e",
   "metadata": {},
   "source": [
    "# List Exercise"
   ]
  },
  {
   "cell_type": "markdown",
   "id": "8f506114-9bc6-4904-9fbb-e9279a098dfd",
   "metadata": {},
   "source": [
    "104. Write a program that reads integers from the user and stores them in a list. Your \n",
    "program should continu  reading values until the user enters 0. Then it should displa \r\n",
    "all of the values entered by the user (except f r the 0) in order from smallest to larges ,\r\n",
    "with one value appearing on each line. Use either the sort method or the sor ed\r\n",
    "function to sort the list."
   ]
  },
  {
   "cell_type": "code",
   "execution_count": 1,
   "id": "0073ab46-fbe4-4a5d-8288-9dacd64b26d0",
   "metadata": {},
   "outputs": [
    {
     "name": "stdin",
     "output_type": "stream",
     "text": [
      "Enter a value 1\n",
      "Enter a value 2\n",
      "Enter a value -10\n",
      "Enter a value -5\n",
      "Enter a value -4\n",
      "Enter a value 7\n",
      "Enter a value 0\n"
     ]
    },
    {
     "name": "stdout",
     "output_type": "stream",
     "text": [
      "[-10, -5, -4, 1, 2, 7]\n"
     ]
    }
   ],
   "source": [
    "mylist = []\n",
    "\n",
    "number = int(input(\"Enter a value\"))\n",
    "\n",
    "while number != 0:\n",
    "    mylist.append(number)\n",
    "    number = int(input(\"Enter a value\"))\n",
    "\n",
    "mylist.sort()\n",
    "\n",
    "print(mylist)"
   ]
  },
  {
   "cell_type": "markdown",
   "id": "d969c7c3-de0c-49e2-9c37-7517beb3b627",
   "metadata": {},
   "source": [
    "105. Write a program that reads integers from the user and stores them in a list. Use 0 as \n",
    "a sentinel value to mark the end of the input. Once all of the values have been rea \r\n",
    "your program should display them (except for the 0) in reverse order, with one val e\r\n",
    "appearing on each line."
   ]
  },
  {
   "cell_type": "code",
   "execution_count": 2,
   "id": "f1f21a1f-3017-4dfa-abcb-fb4dfa1fa44a",
   "metadata": {},
   "outputs": [
    {
     "name": "stdin",
     "output_type": "stream",
     "text": [
      "Enter a value -10\n",
      "Enter a value 4\n",
      "Enter a value 2\n",
      "Enter a value 3\n",
      "Enter a value 5\n",
      "Enter a value -9\n",
      "Enter a value 0\n"
     ]
    },
    {
     "name": "stdout",
     "output_type": "stream",
     "text": [
      "[5, 4, 3, 2, -9, -10]\n"
     ]
    }
   ],
   "source": [
    "mylist2 = []\n",
    "\n",
    "number2 = int(input(\"Enter a value\"))\n",
    "\n",
    "while number2 != 0:\n",
    "    mylist2.append(number2)\n",
    "    number2 = int(input(\"Enter a value\"))\n",
    "\n",
    "mylist2.sort(reverse=True)\n",
    "\n",
    "print(mylist2)"
   ]
  },
  {
   "cell_type": "markdown",
   "id": "dae6f093-5b04-4ae6-89b4-7b019c49be31",
   "metadata": {},
   "source": [
    "107. In this exercise, you will create a program that reads words from the user until the user enters a blank line. After the user enters a blank line your program should display each word entered by the user exactly once. The words should be displayed in the same order that they were entered."
   ]
  },
  {
   "cell_type": "code",
   "execution_count": null,
   "id": "594f1836-29c4-427a-b265-745eab4862d5",
   "metadata": {},
   "outputs": [],
   "source": [
    "mylist3 = []\n",
    "\n",
    "word = input(\"Enter the word\")\n",
    "\n",
    "while word != \" \":\n",
    "    if word == word.isnumeric():\n",
    "        break;\n",
    "    if word not in mylist3:\n",
    "        mylist3.append(word)\n",
    "        \n",
    "    word = input(\"Enter the word\")\n",
    "\n",
    "print(mylist3)"
   ]
  },
  {
   "cell_type": "markdown",
   "id": "985b369f-bfad-4510-9f83-f8ed04444211",
   "metadata": {},
   "source": [
    "108. Create a program that reads integers from the user until a blank line is entered. Once all of the intergers have been read your program should display all of the negative number, followed by all the zeros, followed by all of the positive numbers. Within each group the numbers should be displayed in the same order that they were entered by the user. For example, if the user enters the value 3, -4, 1, 0 and -2 then your program should output the values -4, -1, -2, 0, 0, 3, and 1. Your program should display each value on its own line."
   ]
  },
  {
   "cell_type": "code",
   "execution_count": 21,
   "id": "4dcd3a50-dd3c-4f11-96e8-7869646ccf5c",
   "metadata": {},
   "outputs": [
    {
     "name": "stdin",
     "output_type": "stream",
     "text": [
      "Enter the interger value -10\n",
      "Enter the interger value -5\n",
      "Enter the interger value -2\n",
      "Enter the interger value 0\n",
      "Enter the interger value 0\n",
      "Enter the interger value 4\n",
      "Enter the interger value -1\n",
      "Enter the interger value 0\n",
      "Enter the interger value 5\n",
      "Enter the interger value 3\n",
      "Enter the interger value \n"
     ]
    },
    {
     "name": "stdout",
     "output_type": "stream",
     "text": [
      "[-10, -5, -2, -1, 0, 0, 0, 4, 5, 3]\n"
     ]
    }
   ],
   "source": [
    "positive = []\n",
    "negative = []\n",
    "zero = []\n",
    "\n",
    "num = input(\"Enter the interger value\")\n",
    "\n",
    "while num != \"\":\n",
    "    numb = int(num)\n",
    "    if numb < 0 :\n",
    "        negative.append(numb)\n",
    "    elif numb > 0 :\n",
    "        positive.append(numb)\n",
    "    else:\n",
    "        zero.append(numb)\n",
    "\n",
    "    num = input(\"Enter the interger value\")\n",
    "\n",
    "print(negative + zero + positive)"
   ]
  },
  {
   "cell_type": "markdown",
   "id": "0f7ecb5e-93a1-4c15-8324-4fdbc947729e",
   "metadata": {},
   "source": [
    "109. A proper divisor of a positive integer, n, is a positive integer less than n which divides\r\n",
    "evenly into n. Write a function that computes all of the proper divisors of a positive\r\n",
    "integer. The integer will be passed to the function as its only parameter. The function\r\n",
    "will return a list containing all of the proper divisors as its only result. Complete\r\n",
    "this exercise by writing a main program that demonstrates the function by reading\r\n",
    "a value from the user and displaying the list of its proper divisors. Ensure that your\r\n",
    "main program only runs when your solution has not been imported into another file."
   ]
  },
  {
   "cell_type": "code",
   "execution_count": 50,
   "id": "c5ac217e-f69f-43fa-93b6-17e1d57b1474",
   "metadata": {},
   "outputs": [],
   "source": [
    "def proper_divisor(value):\n",
    "\n",
    "    divisor_list = []\n",
    "    \n",
    "    if value in [0,1]:\n",
    "        return False\n",
    "\n",
    "    if value > 2:\n",
    "        for i in range(2, value):\n",
    "            if value % i == 0:\n",
    "                divisor_list.append(i)\n",
    "        return divisor_list\n",
    "        "
   ]
  },
  {
   "cell_type": "code",
   "execution_count": 51,
   "id": "0b390701-a98f-430d-8685-f503f263f056",
   "metadata": {},
   "outputs": [
    {
     "data": {
      "text/plain": [
       "[2, 5]"
      ]
     },
     "execution_count": 51,
     "metadata": {},
     "output_type": "execute_result"
    }
   ],
   "source": [
    "proper_divisor(10)"
   ]
  },
  {
   "cell_type": "markdown",
   "id": "84a6a8ea-1afa-4652-9e0b-a29b36eeae39",
   "metadata": {},
   "source": [
    "110. An integer, n, is said to be perfect when the sum of all of the proper divisors of n is\r\n",
    "equal to n. For example, 28 is a perfect number because its proper divisors are 1, 2,\r\n",
    "4, 7 and 14, and 1 + 2 + 4 + 7 + 14 = 28.\r\n",
    "Write a function that determines whether or not a positive integer is perfect. Your\r\n",
    "function will take one parameter. If that parameter is a perfect number then your function will return true. Otherwise it will return false. In addition, write a main program\r\n",
    "that uses your function to identify and display all of the perfect numbers between 1\r\n",
    "and 10,000. Import your solution to Exercise 109 when completing this task."
   ]
  },
  {
   "cell_type": "code",
   "execution_count": 25,
   "id": "76936243-8385-4bba-85c9-110ed165751d",
   "metadata": {},
   "outputs": [],
   "source": [
    "def perfect_number(value):\n",
    "\n",
    "    divisor = []\n",
    "    \n",
    "    if value > 1 :\n",
    "        for i in range(1, value):\n",
    "            if value % i == 0 :\n",
    "                divisor.append(i)\n",
    "                \n",
    "        if sum(divisor) == value :\n",
    "            return True\n",
    "    return False"
   ]
  },
  {
   "cell_type": "code",
   "execution_count": 29,
   "id": "84b2712b-e6c1-4a33-b45d-949c7416bf81",
   "metadata": {},
   "outputs": [
    {
     "name": "stdin",
     "output_type": "stream",
     "text": [
      "Enter the number 496\n"
     ]
    },
    {
     "data": {
      "text/plain": [
       "True"
      ]
     },
     "execution_count": 29,
     "metadata": {},
     "output_type": "execute_result"
    }
   ],
   "source": [
    "number = int(input(\"Enter the number\"))\n",
    "perfect_number(number)"
   ]
  },
  {
   "cell_type": "code",
   "execution_count": 38,
   "id": "7cb47102-f212-4426-a92c-cf1caf5e855f",
   "metadata": {},
   "outputs": [],
   "source": [
    "def perfect_number_list(value):\n",
    "\n",
    "    per_number = []\n",
    "    \n",
    "    if value > 1 :\n",
    "        for i in range(1, value):\n",
    "            if perfect_number(i):\n",
    "                print(i)"
   ]
  },
  {
   "cell_type": "code",
   "execution_count": 39,
   "id": "c5c3ae08-941c-4963-8597-92019fbc275b",
   "metadata": {},
   "outputs": [
    {
     "name": "stdin",
     "output_type": "stream",
     "text": [
      "Enter the number 10000\n"
     ]
    },
    {
     "name": "stdout",
     "output_type": "stream",
     "text": [
      "6\n",
      "28\n",
      "496\n",
      "8128\n"
     ]
    }
   ],
   "source": [
    "value = int(input(\"Enter the number\"))\n",
    "perfect_number_list(value)"
   ]
  },
  {
   "cell_type": "markdown",
   "id": "31244584-4f27-4108-9a47-db9fcc357511",
   "metadata": {},
   "source": [
    "111. In this exercise you will create a program that identifies all of the words in a string\r\n",
    "entered by the user. Begin by writing a function that takes a string of text as its only\r\n",
    "parameter. Your function should return a list of the words in the string with the punctuation marks at the edges of the words removed. The punctuation marks that you must\r\n",
    "remove include commas, periods, question marks, hyphens, apostrophes, exclamation points, colons, and semicolons. Do not remove punctuation marks that appear in\r\n",
    "the middle of a words, such as the apostrophes used to form a contraction. For example, if your function is provided with the string \"Examples of contractions\r\n",
    "include: don’t, isn’t, and wouldn’t.\" then your function should\r\n",
    "return the list [\"Examples\", \"of\", \"contractions\", \"include\",\r\n",
    "\"don’t\", \"isn’t\", \"and\", \"woul Write a main program that demonstrates your function. It should read a string\r\n",
    "from the user and display all of the words in the string with the punctuation marks\r\n",
    "removed. You will need to import your solution to this exercise when completing\r\n",
    "Exercise 158. As a result, you should ensure that your main program only runs when\r\n",
    "your file has not been imported into another program.dn’t\"]."
   ]
  },
  {
   "cell_type": "code",
   "execution_count": null,
   "id": "2fe0f0c5-e664-4586-b94c-287df393e308",
   "metadata": {},
   "outputs": [],
   "source": []
  }
 ],
 "metadata": {
  "kernelspec": {
   "display_name": "Python 3 (ipykernel)",
   "language": "python",
   "name": "python3"
  },
  "language_info": {
   "codemirror_mode": {
    "name": "ipython",
    "version": 3
   },
   "file_extension": ".py",
   "mimetype": "text/x-python",
   "name": "python",
   "nbconvert_exporter": "python",
   "pygments_lexer": "ipython3",
   "version": "3.11.1"
  }
 },
 "nbformat": 4,
 "nbformat_minor": 5
}
