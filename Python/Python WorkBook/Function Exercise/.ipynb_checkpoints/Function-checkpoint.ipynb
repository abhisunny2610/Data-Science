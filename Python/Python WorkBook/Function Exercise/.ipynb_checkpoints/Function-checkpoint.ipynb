{
 "cells": [
  {
   "cell_type": "markdown",
   "id": "840feaf7-1124-4807-8d21-efc3413186e8",
   "metadata": {},
   "source": [
    "# Function Exercise"
   ]
  },
  {
   "cell_type": "markdown",
   "id": "93921bdd-4f01-48a1-90ac-da3348ef5c52",
   "metadata": {},
   "source": [
    "81. Write a function that takes the lengths of the two shorter sides of a right triangle as\r\n",
    "its parameters. Return the hypotenuse of the triangle, computed using Pythagorean\r\n",
    "theorem, as the function’s result. Include a main program that reads the lengths of\r\n",
    "the shorter sides of a right triangle from the user, uses your function to compute the\r\n",
    "length of the hypotenuse, and displays the result."
   ]
  },
  {
   "cell_type": "code",
   "execution_count": 15,
   "id": "a03308b4-103a-44c7-b91b-059c44b9b3ea",
   "metadata": {},
   "outputs": [],
   "source": [
    "from math import sqrt\n",
    "\n",
    "def hypotenuse_side(sideA, sideB):\n",
    "    sideC = sqrt(sideA ** 2 + sideB ** 2)\n",
    "    return sideC\n",
    "\n",
    "def hypotenuse():\n",
    "    sidea = float(input(\"Enter a side A\"))\n",
    "    sideb = float(input(\"Enter a side B\"))\n",
    "\n",
    "    c = hypotenuse_side(sidea, sideb)\n",
    "    print(\"Hyptotenuse of a trainagle is \", c)"
   ]
  },
  {
   "cell_type": "code",
   "execution_count": 16,
   "id": "a3206c5f-2f34-4605-8c2f-d54c9880b0a0",
   "metadata": {},
   "outputs": [
    {
     "name": "stdin",
     "output_type": "stream",
     "text": [
      "Enter a side A 5\n",
      "Enter a side B 12\n"
     ]
    },
    {
     "name": "stdout",
     "output_type": "stream",
     "text": [
      "Hyptotenuse of a trainagle is  13.0\n"
     ]
    }
   ],
   "source": [
    "hypotenuse()"
   ]
  },
  {
   "cell_type": "markdown",
   "id": "276b98ba-65c0-4304-a389-3dccbd65a42c",
   "metadata": {},
   "source": [
    "82. In a particular jurisdiction, taxi fares consist of a base fare of $4.00, plus $0.25\r\n",
    "for every 140 meters traveled. Write a function that takes the distance traveled (in\r\n",
    "kilometers) as its only parameter and returns the total fare as its only result. Write a\r\n",
    "main program that demonstrates the function."
   ]
  },
  {
   "cell_type": "code",
   "execution_count": 8,
   "id": "69473239-ed23-4287-baa3-a3639f9d9d00",
   "metadata": {},
   "outputs": [],
   "source": [
    "def fare(distance):\n",
    "    base_fare = 4\n",
    "    addition_fare = 0.25\n",
    "    distance = distance * 1000\n",
    "    total_fare = (addition_fare * distance / 140 ) + base_fare\n",
    "\n",
    "    return total_fare\n",
    "\n",
    "def total_fare():\n",
    "    distance = float(input(\"Enter a travelled distance in km: \"))\n",
    "    far_e = fare(distance)\n",
    "    print(\"Total fare of travelled distance is %.2f\" % far_e)"
   ]
  },
  {
   "cell_type": "code",
   "execution_count": 9,
   "id": "c26ed015-e672-4f1f-8d40-e0c3b9f1fdab",
   "metadata": {},
   "outputs": [
    {
     "name": "stdin",
     "output_type": "stream",
     "text": [
      "Enter a travelled distance in km:  5\n"
     ]
    },
    {
     "name": "stdout",
     "output_type": "stream",
     "text": [
      "Total fare of travelled distance is 12.93\n"
     ]
    }
   ],
   "source": [
    "total_fare()"
   ]
  },
  {
   "cell_type": "markdown",
   "id": "d30c8f2e-2f10-4af6-a94c-144079211822",
   "metadata": {},
   "source": [
    "83. An online retailer provides express shipping for many of its items at a rate of $10.95\r\n",
    "for the first item, and $2.95 for each subsequent item. Write a function that takes the\r\n",
    "number of items in the order as its only parameter. Return the shipping charge for\r\n",
    "the order as the function’s result. Include a main program that reads the number of\r\n",
    "items purchased from the user and displays the shipping charge."
   ]
  },
  {
   "cell_type": "code",
   "execution_count": 17,
   "id": "ea487d27-041b-443b-bf85-bc16b7e8fef3",
   "metadata": {},
   "outputs": [],
   "source": [
    "def shipping_charge(item):\n",
    "    firstItem_charge = 10.95\n",
    "    subsequentItem_charge = 2.95\n",
    "    shipping_fee = 0\n",
    "\n",
    "    if item == 1:\n",
    "        shipping_fee = firstItem_charge\n",
    "    else:\n",
    "        shipping_fee = ((item - 1 )* subsequentItem_charge) + firstItem_charge\n",
    "\n",
    "    return shipping_fee\n",
    "\n",
    "\n",
    "def calculate_charge():\n",
    "    items = int(input(\"Enter the number of items purchased\"))\n",
    "\n",
    "    shipping_fees = shipping_charge(items)\n",
    "\n",
    "    print(\"The total shipping charge for your items is\", shipping_fees)"
   ]
  },
  {
   "cell_type": "code",
   "execution_count": 18,
   "id": "3fedc834-cee2-46cd-8a37-0c381a30a853",
   "metadata": {},
   "outputs": [
    {
     "name": "stdin",
     "output_type": "stream",
     "text": [
      "Enter the number of items purchased 10\n"
     ]
    },
    {
     "name": "stdout",
     "output_type": "stream",
     "text": [
      "The total shipping charge for your items is 37.5\n"
     ]
    }
   ],
   "source": [
    "calculate_charge()"
   ]
  },
  {
   "cell_type": "markdown",
   "id": "2c9ffb60-49a8-4f8c-bc67-76c8b8d37802",
   "metadata": {},
   "source": [
    "84. Write a function that takes three numbers as parameters, and returns the median value\r\n",
    "of those parameters as its result. Include a main program that reads three values from\r\n",
    "the user and displays their median."
   ]
  },
  {
   "cell_type": "code",
   "execution_count": 7,
   "id": "ee5ad8ea-3e6f-4787-b840-651955a9b64b",
   "metadata": {},
   "outputs": [
    {
     "name": "stdin",
     "output_type": "stream",
     "text": [
      "Enter first number:  23\n",
      "Enter second number:  21\n",
      "Enter third number:  24\n"
     ]
    },
    {
     "name": "stdout",
     "output_type": "stream",
     "text": [
      "The number is 23 21 24\n",
      "Median is 23\n"
     ]
    }
   ],
   "source": [
    "def median(a,b,c):\n",
    "    return a+b+c - min(a,b,c) - max(a,b,c)\n",
    "\n",
    "def main_median():\n",
    "    number1 = int(input(\"Enter first number: \"))\n",
    "    number2 = int(input(\"Enter second number: \"))\n",
    "    number3 = int(input(\"Enter third number: \"))\n",
    "\n",
    "    print(f\"The number is {number1} {number2} {number3}\")\n",
    "    print(\"Median is\", median(number1, number2, number3))\n",
    "\n",
    "main_median()"
   ]
  },
  {
   "cell_type": "markdown",
   "id": "fab5e1a4-3e4c-41c2-a7cb-06fc5efda8d9",
   "metadata": {},
   "source": [
    "85. Words like first, second and third are referred to as ordinal numbers. In this exercise,\r\n",
    "you will write a function that takes an integer as its only parameter and returns a\r\n",
    "string containing the appropriate English ordinal number as its only result. Your\r\n",
    "function must handle the integers between 1 and 12 (inclusive). It should return an\r\n",
    "empty string if a value outside of this range is provided as a parameter. Include a\r\n",
    "main program that demonstrates your function by displaying each integer from 1 to\r\n",
    "12 and its ordinal number. Your main program should only run when your file has\r\n",
    "not been imported into another program."
   ]
  },
  {
   "cell_type": "markdown",
   "id": "a26dfd4c-318f-4de8-b932-c7bcb742f27a",
   "metadata": {},
   "source": [
    "86. The Twelve Days of Christmas is a repetitive song that describes an increasingly\r\n",
    "long list of gifts sent to one’s true love on each of 12 days. A single gift is sent on\r\n",
    "the first day. A new gift is added to the collection on each additional day, and then\r\n",
    "the complete collection is sent. The first three verses of the song are shown below.\r\n",
    "The complete lyrics are available on the internet.\r\n",
    "On the first day of Christmas\r\n",
    "my true love sent to me:\r\n",
    "A partridge in a pear tree.\r\n",
    "On the second day of Christmas\r\n",
    "my true love sent to me:\r\n",
    "Two turtle doves,\r\n",
    "And a partridge in a pear tree.\r\n",
    "On the third day of Christmas\r\n",
    "my true love sent to me:\r\n",
    "Three French hens,\r\n",
    "Two turtle doves,\r\n",
    "And a partridge in a pear tree.\r\n",
    "Your task is to write a program that displays the complete lyrics for The Twelve\r\n",
    "Days of Christmas. Write a function that takes the verse number as its only parameter\r\n",
    "and displays the specified verse of the song. Then call that function 12 times with\r\n",
    "integers that increase from 1 to 12.\r\n",
    "Each item that is sent to the recipient in the song should only appear once in your\r\n",
    "program, with the possible exception of the partridge. It may appear twice if that\r\n",
    "helps you handle the difference between “A partridge in a pear tree” in the first verse\r\n",
    "and “And a partridge in a pear tree” in the subsequent verses. Import your solution\r\n",
    "to Exercise 85 to help you complete this exercise.u complete this exercise."
   ]
  },
  {
   "cell_type": "markdown",
   "id": "b38563c0-6d2e-4f51-9694-d8a5ad52aa07",
   "metadata": {},
   "source": [
    "87. Write a function that takes a string of characters as its first parameter, and the width of\r\n",
    "the terminal in characters as its second parameter. Your function should return a new\r\n",
    "string that consists of the original string and the correct number of leading spaces\r\n",
    "so that the original string will appear centered within the provided width when it is\r\n",
    "printed. Do not add any characters to the end of the string. Include a main program\r\n",
    "that demonstrates your function."
   ]
  },
  {
   "cell_type": "code",
   "execution_count": 11,
   "id": "41eaadb0-24f9-41af-b0b1-cb89183b92a0",
   "metadata": {},
   "outputs": [
    {
     "name": "stdout",
     "output_type": "stream",
     "text": [
      "                                                            My name is Abhishek\n"
     ]
    }
   ],
   "source": [
    "width = 140\n",
    "\n",
    "def center(s, width):\n",
    "    space = (width - len(s)) // 2\n",
    "    center_string = \" \" * space + s\n",
    "    return center_string\n",
    "\n",
    "def center_main():\n",
    "    print(center(\"My name is Abhishek\", width))\n",
    "\n",
    "center_main()"
   ]
  },
  {
   "cell_type": "markdown",
   "id": "bfec451f-874c-409e-8831-1356aeab13ad",
   "metadata": {},
   "source": [
    "88. If you have 3 straws, possibly of differing lengths, it may or may not be possible\r\n",
    "to lay them down so that they form a triangle when their ends are touching. For\r\n",
    "example, if all of the straws have a length of 6 inches. then one can easily construct\r\n",
    "an equilateral triangle using them. However, if one straw is 6 inches. long, while the\r\n",
    "other two are each only 2 inches. long, then a triangle cannot be formed. In general,\r\n",
    "if any one length is greater than or equal to the sum of the other two then the lengths\r\n",
    "cannot be used to form a triangle. Otherwise they can form a triangle.\r\n",
    "Write a function that determines whether or not three lengths can form a triangle.\r\n",
    "The function will take 3 parameters and return a Boolean result. In addition, write a\r\n",
    "program that reads 3 lengths from the user and demonstrates the behaviour of this\r\n",
    "function."
   ]
  },
  {
   "cell_type": "code",
   "execution_count": 18,
   "id": "b61f05f0-b7d6-48a6-a479-25fc6ddd2bdc",
   "metadata": {},
   "outputs": [
    {
     "name": "stdin",
     "output_type": "stream",
     "text": [
      "Enter the side1 length 3\n",
      "Enter the side2 length 4\n",
      "Enter the side3 length 4\n"
     ]
    },
    {
     "name": "stdout",
     "output_type": "stream",
     "text": [
      "True\n"
     ]
    }
   ],
   "source": [
    "def trainagle(side1, side2, side3):\n",
    "    if side1 >= side2 + side3 or side2 >= side1 + side3 or side3 >= side2 + side1:\n",
    "        return False\n",
    "    else: \n",
    "        return True\n",
    "\n",
    "def main_trainagle():\n",
    "    side1 = float(input(\"Enter the side1 length\"))\n",
    "    side2 = float(input(\"Enter the side2 length\"))\n",
    "    side3 = float(input(\"Enter the side3 length\"))\n",
    "\n",
    "    print(trainagle(side1, side2, side3))\n",
    "\n",
    "main_trainagle()"
   ]
  },
  {
   "cell_type": "code",
   "execution_count": null,
   "id": "67722bbb-aec3-4141-a6d8-f2b8f3013757",
   "metadata": {},
   "outputs": [],
   "source": []
  }
 ],
 "metadata": {
  "kernelspec": {
   "display_name": "Python 3 (ipykernel)",
   "language": "python",
   "name": "python3"
  },
  "language_info": {
   "codemirror_mode": {
    "name": "ipython",
    "version": 3
   },
   "file_extension": ".py",
   "mimetype": "text/x-python",
   "name": "python",
   "nbconvert_exporter": "python",
   "pygments_lexer": "ipython3",
   "version": "3.11.1"
  }
 },
 "nbformat": 4,
 "nbformat_minor": 5
}
