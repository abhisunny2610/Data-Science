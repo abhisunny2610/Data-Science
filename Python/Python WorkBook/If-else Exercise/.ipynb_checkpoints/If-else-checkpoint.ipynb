{
 "cells": [
  {
   "cell_type": "markdown",
   "id": "5998010e-ca3c-4a4a-884f-22822b6e5b7e",
   "metadata": {},
   "source": [
    "# If-Else Statement Exercises"
   ]
  },
  {
   "cell_type": "markdown",
   "id": "1dcea683-7c9d-4733-9578-0d805da5b9b9",
   "metadata": {},
   "source": [
    "34. Write a program that reads an interfer from the user. Then your program should display a message indicating whether the integer is even or odd."
   ]
  },
  {
   "cell_type": "code",
   "execution_count": 2,
   "id": "c14a6fe8-e076-4b45-b860-6772062eba1f",
   "metadata": {},
   "outputs": [
    {
     "name": "stdin",
     "output_type": "stream",
     "text": [
      "Enter a integer number:  8\n"
     ]
    },
    {
     "name": "stdout",
     "output_type": "stream",
     "text": [
      "Number is Even\n"
     ]
    }
   ],
   "source": [
    "number = int(input(\"Enter a integer number: \"))\n",
    "\n",
    "if number % 2 == 0:\n",
    "    print(\"Number is Even\")\n",
    "else:\n",
    "    print(\"Number is Odd\")"
   ]
  },
  {
   "cell_type": "markdown",
   "id": "43272c0b-e14c-47a3-b61d-75870337557f",
   "metadata": {},
   "source": [
    "35. It is commonly said that one human year is equivalent to 7 dog years. Howeever this simple conversion fails to recognize that dogs reach adulthood in approximately tw years. As a result, some people believe that it is better to count each of the first two human years as 10.5 dogs year, and then count each additional human year as 4 dog years.\n",
    "\n",
    " Write a program that implements the conversion from human years to dog years described in the previous paragraph. Ensure that your program works correctly for conversions of less than two human years and for conversions of two or more human years. Your program should display an appropriate error message if the user entersa negative number."
   ]
  },
  {
   "cell_type": "code",
   "execution_count": 9,
   "id": "f7a28dd4-55d0-41da-a33b-b7d291674168",
   "metadata": {},
   "outputs": [
    {
     "name": "stdin",
     "output_type": "stream",
     "text": [
      "Enter a human year:  18\n"
     ]
    },
    {
     "name": "stdout",
     "output_type": "stream",
     "text": [
      "A 18 human year is equals to 85.0 dog year\n"
     ]
    }
   ],
   "source": [
    "human_year = int(input(\"Enter a human year: \"))\n",
    "\n",
    "if human_year < 0:\n",
    "    print(\"Age must be in postive number\")\n",
    "elif human_year <=2:\n",
    "    print(f\"A {human_year} human year is equals to\", human_year * 10.5, \"dog year\")\n",
    "elif human_year > 2:\n",
    "    elder_human_year = (human_year -2) * 4 + 2 * 10.5\n",
    "    print(f\"A {human_year} human year is equals to\", elder_human_year , \"dog year\")\n"
   ]
  },
  {
   "cell_type": "markdown",
   "id": "8ed5800c-1cce-4d81-9fb1-300f3cd5952e",
   "metadata": {},
   "source": [
    "36. In this exercise you will create a program that reads a letter of the alphabet from the \n",
    "user. If the user enters a, e, i, o or u then your program should display a messag \r\n",
    "indicating that the entered letter is a vowel. If the user enters y then your progr m\r\n",
    "should display a message indicating that sometimes y is a vowel,  nd sometimes y is\r\n",
    "a consonant. Otherwise your program should display a message indicating that the\r\n",
    "letter is a consonant."
   ]
  },
  {
   "cell_type": "code",
   "execution_count": 19,
   "id": "07ddb8fe-0f3f-46ad-a16b-ce8526b5573b",
   "metadata": {},
   "outputs": [
    {
     "name": "stdin",
     "output_type": "stream",
     "text": [
      "Enter a letter:  z\n"
     ]
    },
    {
     "name": "stdout",
     "output_type": "stream",
     "text": [
      "Letter is consonant\n"
     ]
    }
   ],
   "source": [
    "letter = input(\"Enter a letter: \")\n",
    "\n",
    "if letter == \"a\" or letter ==\"e\" or letter ==\"i\" or letter ==\"o\" or letter ==\"u\":\n",
    "    print(\"Letter is Vowel\")\n",
    "elif letter == \"y\":\n",
    "    print(\"Sometimes y is a vowel and sometimes y is a consonant\")\n",
    "else:\n",
    "    print(\"Letter is consonant\")"
   ]
  },
  {
   "cell_type": "markdown",
   "id": "b3329448-5ac2-40c2-b4bd-f9e76721e4c6",
   "metadata": {},
   "source": [
    "37. Write a program that determines the name of a shape from its number of sides. Read \n",
    "the number of sides from the user and then report the appropriate name as part o \r\n",
    "a meaningful message. Your program should support shapes with anywhere from 3\r\n",
    "up ta ( nd including) 10 sides. If a number of sides outside of this range is ente ed\r\n",
    "then your program should display an appropriate error message."
   ]
  },
  {
   "cell_type": "code",
   "execution_count": 25,
   "id": "b34184c0-c1ea-4f0b-9d64-5571feb2fea6",
   "metadata": {},
   "outputs": [
    {
     "name": "stdin",
     "output_type": "stream",
     "text": [
      "Enter a number of sides:  6\n"
     ]
    },
    {
     "name": "stdout",
     "output_type": "stream",
     "text": [
      "Hexagon\n"
     ]
    }
   ],
   "source": [
    "sides = int(input(\"Enter a number of sides: \"))\n",
    "\n",
    "if sides < 3 or sides > 10:\n",
    "    print(\"Sides is out of range  please enter a sides between 3 to 10.\")\n",
    "elif sides == 3:\n",
    "    print(\"Triangle\")\n",
    "elif sides == 4:\n",
    "    print(\"Quadrilateral\")\n",
    "elif sides == 5:\n",
    "    print(\"Pentagon\")\n",
    "elif sides == 6:\n",
    "    print(\"Hexagon\")\n",
    "elif sides == 7:\n",
    "    print(\"Heptagon\")\n",
    "elif sides == 8:\n",
    "    print(\"Octagon\")\n",
    "elif sides == 9:\n",
    "    print(\"Nonagon\")\n",
    "elif sides == 10:\n",
    "    print(\"Decagon\")\n"
   ]
  },
  {
   "cell_type": "markdown",
   "id": "ca3cd16d-f3ee-4b39-96a5-5c1a532a96a5",
   "metadata": {},
   "source": [
    "38. The length of a month varies from 28 to 31 days. In this exercise you will create \n",
    "a program that reads the name of a month from the user as a string. Then you \r\n",
    "program should display the number of days in that month. Display “28 or 29 day ”\r\n",
    "for February so that leap years are addressed."
   ]
  },
  {
   "cell_type": "code",
   "execution_count": 27,
   "id": "9773ce64-c5cd-45cc-a683-bbe8786b819a",
   "metadata": {},
   "outputs": [
    {
     "name": "stdin",
     "output_type": "stream",
     "text": [
      "Enter a number of sides:  May\n"
     ]
    },
    {
     "name": "stdout",
     "output_type": "stream",
     "text": [
      "31 days\n"
     ]
    }
   ],
   "source": [
    "month = input(\"Enter a number of sides: \")\n",
    "\n",
    "if month == \"January\":\n",
    "    print(\"31 days\")\n",
    "elif month == \"February\":\n",
    "    print(\"28 or 29 days\")\n",
    "elif month == \"March\":\n",
    "    print(\"31 days\")\n",
    "elif month == \"April\":\n",
    "    print(\"30 days\")\n",
    "elif month == \"May\":\n",
    "    print(\"31 days\")\n",
    "elif month == \"June\":\n",
    "    print(\"30 days\")\n",
    "elif month == \"July\":\n",
    "    print(\"31 days\")\n",
    "elif month == \"August\":\n",
    "    print(\"31 days\")\n",
    "elif month == \"September\":\n",
    "    print(\"30 days\")\n",
    "elif month == \"October\":\n",
    "    print(\"31 days\")\n",
    "elif month == \"November\":\n",
    "    print(\"30 days\")\n",
    "elif month == \"December\":\n",
    "    print(\"31 days\")\n",
    "else:\n",
    "    print(\"Please enter a valid name of the month.\")"
   ]
  },
  {
   "cell_type": "markdown",
   "id": "2dbf14c6-eb71-4e85-a7d8-ded509c10076",
   "metadata": {},
   "source": [
    "39. The following table in lists the sound level in decibels for several common noises.\n",
    "    | Noise | Decibel Level (db) |\n",
    "    |--------|-------------------|\n",
    "    | Jackhammer | 130 |\n",
    "    | Gas lawnmower | 106 |\n",
    "    | Alaram Clock | 70 |\n",
    "    | Quiet room | 40 |\n",
    "\n",
    "Write a program that reads a sound level in decibels from the user. If the user \n",
    "enters a decibel level that matches one of the noises in the tabl  then your progra \r\n",
    "should display a message containing only that noise. If the user enters a numb r\r\n",
    "of decibels between the noises listed then your program should display a mess ge\r\n",
    "indicating which noises the level is between. Ensure that  our program also gener tes\r\n",
    "reasonable output for a value smaller than the quietest noise in the table, and  or a\r\n",
    "value larger than the loudest noise in the table"
   ]
  },
  {
   "cell_type": "code",
   "execution_count": 29,
   "id": "e6325e4a-a0f5-4590-930f-8089747173ac",
   "metadata": {},
   "outputs": [
    {
     "name": "stdin",
     "output_type": "stream",
     "text": [
      "Enter a sound level:  60\n"
     ]
    },
    {
     "name": "stdout",
     "output_type": "stream",
     "text": [
      "Quit Room\n"
     ]
    }
   ],
   "source": [
    "sound_level = int(input(\"Enter a sound level: \"))\n",
    "\n",
    "if sound_level < 40 :\n",
    "    print(\"Normal Breathing or whispering nearby\")\n",
    "elif sound_level >= 40 or sound_level <70 :\n",
    "    print(\"Quit Room\")\n",
    "elif sound_level >= 70 or sound_level <106 :\n",
    "    print(\"Alaram Clock\")\n",
    "elif sound_level >= 106 or sound_level <130 :\n",
    "    print(\"Gas lawnmower\")\n",
    "elif sound_level >= 130 :\n",
    "    print(\"Jackhammer\")"
   ]
  },
  {
   "cell_type": "markdown",
   "id": "10dc0b53-dd13-4268-b88f-e49c0ac9fbd3",
   "metadata": {},
   "source": [
    "40. A triangle can be classified based on the lengths of its sides as equilateral, isosceles \n",
    "or scalene. All 3 sides of an equilatera  triangle have the same length. An isoscele \r\n",
    "triangle has two sides that are the same length, and a third side that is a differe t\r\n",
    "length. If all of the sides have different lengths then the trian le is scalene.\r\n",
    "Write a program that reads the lengths of 3 sides of a triangle from the u er.\r\n",
    "Display a message indicating the type of the triangle."
   ]
  },
  {
   "cell_type": "code",
   "execution_count": 32,
   "id": "f1c2ef0b-efd9-4a37-b0f8-31d381ec7dc6",
   "metadata": {},
   "outputs": [
    {
     "name": "stdin",
     "output_type": "stream",
     "text": [
      "Enter side a length 3\n",
      "Enter side b length 4\n",
      "Enter side c length 3\n"
     ]
    },
    {
     "name": "stdout",
     "output_type": "stream",
     "text": [
      "Isosceless Triangle\n"
     ]
    }
   ],
   "source": [
    "side_a = float(input(\"Enter side a length\"))\n",
    "side_b = float(input(\"Enter side b length\"))\n",
    "side_c = float(input(\"Enter side c length\"))\n",
    "\n",
    "if side_a == side_b and side_b == side_c :\n",
    "    print(\"Equilateral Triangle\")\n",
    "elif side_a == side_b or side_b == side_c or side_c == side_a :\n",
    "    print(\"Isosceless Triangle\")\n",
    "elif side_a != side_b and side_b != side_c:\n",
    "    print(\"Scalene Triangle\")"
   ]
  },
  {
   "cell_type": "markdown",
   "id": "44f623ba-7d0e-462a-baa0-f81408a73d0a",
   "metadata": {},
   "source": [
    "41. The following table lists an octave of music notes, beginning with middle C, along with their frequencies.\n",
    "    | Note | Frequency(Hz) |\n",
    "    |------|---------------|\n",
    "    | C4 | 261.63|\n",
    "    | D4 | 293.66|\n",
    "    | E4 | 329.63|\n",
    "    | F4 | 349.23|\n",
    "    | G4 | 392.00|\n",
    "    | A4 | 440.00|\n",
    "    | B4 | 493.88|\n",
    "\n",
    "Begin by writing a program that reads the name of a note from the user and\r\n",
    "displays the note’s frequency. Your program should support all of the notes listed\r\n",
    "previously.\r\n",
    "Once you have your program working correctly for the notes listed previously you\r\n",
    "should add support for all of the notes from C0 to C8. While this could be done by\r\n",
    "adding many additional cases to your if statement, such a solution is cumbersome,\r\n",
    "inelegant and unacceptable for the purposes of this exercise. Instead, you should\r\n",
    "exploit the relationship between notes in adjacent octaves. In particular, the frequency\r\n",
    "of any note in octave n is half the frequency of the corresponding note in octave n+1.\r\n",
    "By using this relationship, you should be able to add support for the additional notes\r\n",
    "without adding additional cases to your if statement."
   ]
  },
  {
   "cell_type": "markdown",
   "id": "21adeb94-a3df-41f8-a439-db8e6efcb000",
   "metadata": {},
   "source": [
    "42. In the previous question you converted from note name to frequency. In this question\r\n",
    "you will write a program that reverses that process. Begin by reading a frequency\r\n",
    "from the user. If the frequency is within one Hertz of a value listed in the table in\r\n",
    "the previous question then report the name of the note. Otherwise report that the\r\n",
    "frequency does not correspond to a known note. In this exercise you only need to\r\n",
    "consider the notes listed in the table. There is no need to consider notes from other\r\n",
    "octaves."
   ]
  },
  {
   "cell_type": "markdown",
   "id": "446a8348-0163-44ce-a23d-cd2ff282f5b2",
   "metadata": {},
   "source": [
    "44. Canada has three national holidays which fall on the same dates each year.\n",
    "    | Holiday | Date |\n",
    "    |---------|------|\n",
    "    | New years's day | Januray 1 |\n",
    "    | Canada day | July 1 |\n",
    "    | Christmas Day | December 25 |\n",
    "    \n",
    "Write a program that reads a month and day from the user. If the month and day\r\n",
    "match one of the holidays listed previously then your program should display the\r\n",
    "holiday’s name. Otherwise your program should indicate that the entered month and\r\n",
    "day do not correspond to a fixed-date holiday."
   ]
  },
  {
   "cell_type": "code",
   "execution_count": 3,
   "id": "207daf1b-8265-49b0-84d1-e872b749fca7",
   "metadata": {},
   "outputs": [
    {
     "name": "stdin",
     "output_type": "stream",
     "text": [
      "Enter a month and a day:  December 25\n"
     ]
    },
    {
     "name": "stdout",
     "output_type": "stream",
     "text": [
      "Hureee.... Today's christmas day\n"
     ]
    }
   ],
   "source": [
    "new_year = \" Januray 1\"\n",
    "canada_day = \"July 1\"\n",
    "christmas_day = \"December 25\"\n",
    "\n",
    "user_date = input(\"Enter a month and a day: \")\n",
    "\n",
    "if user_date == new_year:\n",
    "    print(\"huree... Today's new year\")\n",
    "elif user_date == canada_day:\n",
    "    print(\"Hureee.... Today's Canada day\")\n",
    "elif user_date == christmas_day:\n",
    "    print(\"Hureee.... Today's christmas day\")\n",
    "else:\n",
    "    print(\"There is no today holiday\")"
   ]
  },
  {
   "cell_type": "markdown",
   "id": "559f4e1d-5fa3-4266-a18f-783cfa4b16fe",
   "metadata": {},
   "source": [
    "45. Positions on a chess board are identified by a letter and a number. Write a program that reads a position from the user. Use an if statement to determine if the column begins with a black square or a white square. Then use modular\r\n",
    "arithmetic to report the color of the square in that row. For example, if the user enters\r\n",
    "a1 then your program should report that the square is black. If the user enters d5\r\n",
    "then your program should report that the square is white. Your program may assume\r\n",
    "that a valid position will always be entered. It does not need to perform any error\r\n",
    "checking.:"
   ]
  },
  {
   "cell_type": "code",
   "execution_count": 1,
   "id": "9522e968-cd95-4d7a-ba84-b4cf5cce6daf",
   "metadata": {},
   "outputs": [
    {
     "name": "stdin",
     "output_type": "stream",
     "text": [
      "Enter the square number h6\n"
     ]
    },
    {
     "name": "stdout",
     "output_type": "stream",
     "text": [
      "Square in white\n"
     ]
    }
   ],
   "source": [
    "square_number = str(input(\"Enter the square number\"))\n",
    "\n",
    "column = square_number[0]\n",
    "row = int(square_number[1])\n",
    "\n",
    "a= 1\n",
    "b= 2\n",
    "c= 3\n",
    "d= 4\n",
    "e= 5\n",
    "f= 6\n",
    "g= 7\n",
    "h= 8\n",
    "\n",
    "if column == 'a' or column == 'c' or column == 'e' or column == 'g':\n",
    "    print(\"Sqaure is black\")\n",
    "else:\n",
    "    print(\"Square in white\")"
   ]
  },
  {
   "cell_type": "markdown",
   "id": "808a3744-7e86-4c07-b061-bb2f905364ff",
   "metadata": {},
   "source": [
    "46. The year is divided into four seanons : spring, summer, fall and winter. While the exact dates that the season change vary a little bit from year to year because of the way that the calendar is constructed, we will use the following dates for this exercise:\n",
    "    |Season|First Day|\n",
    "    |-------|---------|\n",
    "    |Spring|March 20|\n",
    "    |Summer|June 21|\n",
    "    |Fall|September 22|\n",
    "    |Winter|December 21|\n",
    "\n",
    "Create a program that reads a month and day from the user. The user will enter the name of the month as a string, followed by the day within the month as an integer. Then your program should display the season associated with the date that was entered"
   ]
  },
  {
   "cell_type": "code",
   "execution_count": 4,
   "id": "9958979b-5295-4608-80ee-feabef2cb1a2",
   "metadata": {},
   "outputs": [
    {
     "name": "stdin",
     "output_type": "stream",
     "text": [
      "Enter a month:  May\n",
      "Enter a date:  1\n"
     ]
    },
    {
     "name": "stdout",
     "output_type": "stream",
     "text": [
      "May 1 is in Spring\n"
     ]
    }
   ],
   "source": [
    "month = input(\"Enter a month: \")\n",
    "day = int(input(\"Enter a date: \"))\n",
    "\n",
    "if month == \"January\" or month == \"February\":\n",
    "    season = \"Winter\"\n",
    "elif month == \"March\":\n",
    "    if day < 20:\n",
    "        season = \"Winter\"\n",
    "    else:\n",
    "        season = \"Spring\"\n",
    "elif month == \"April\" or month == \"May\":\n",
    "    season = \"Spring\"\n",
    "elif month == \"June\":\n",
    "    if day < 21:\n",
    "        season = \"Spring\"\n",
    "    else: \n",
    "        season = \"Summer\"\n",
    "elif month == \"July\" or month == \"August\":\n",
    "    season = \"Summer\"\n",
    "elif month == \"September\":\n",
    "    if day <  22:\n",
    "        season= \"Summer\"\n",
    "    else:\n",
    "        season = \"Fall\"\n",
    "elif month == \"October\" or month == \"November\":\n",
    "    season = \"Fall\"\n",
    "elif month == \"December\":\n",
    "    if day < 21:\n",
    "        season = \"Fall\"\n",
    "    else:\n",
    "        season = \"Winter\"\n",
    "else: \n",
    "    print(\"Date or month is wrong\")\n",
    "\n",
    "print(month, day, \"is in\", season)"
   ]
  },
  {
   "cell_type": "markdown",
   "id": "8bc2d05f-3d5b-41fc-91e1-cbefcaaa26ff",
   "metadata": {},
   "source": [
    "47. The horoscopes commonly reported in newspaper use the position of the sun at the time of one's birth to try and predict the future. This system of astrology divides the year into twelve zodiac signs,as outline in the table below.\n",
    "    |Zodiac Sign|Date Range|\n",
    "    |-----------|----------|\n",
    "    |Capricorn |December 22 to January 19|\n",
    "    |Aquaris|January 20 to February 18|\n",
    "    |Pisces|February 19 to March 20|\n",
    "    |Aries|March 21 to April 19|\n",
    "    |Taurus|April 20 to May 20|\n",
    "    |Gemini|May 21 to June 20|\n",
    "    |Cancer|June 21 to July 22|\n",
    "    |Leo|July 23 to August 22|\n",
    "    |Virgo|August 23 to September 22|\n",
    "    |Libra|September 22 to October 22|\n",
    "    |Scorpio|October 23 to November 21|\n",
    "    |Sagittarius|November 22 to December 21|\n",
    "\n",
    "Write a program that asks the user to enter his or her month and day of birth. Then\r\n",
    "your program should report the user’s zodiac sign as part of an appropriate output\r\n",
    "message"
   ]
  },
  {
   "cell_type": "code",
   "execution_count": 11,
   "id": "026503b7-53be-4f9c-af93-6e927ed1120c",
   "metadata": {},
   "outputs": [
    {
     "name": "stdin",
     "output_type": "stream",
     "text": [
      "Enter a birth month:  September\n",
      "Enter a birth Date:  6\n"
     ]
    },
    {
     "name": "stdout",
     "output_type": "stream",
     "text": [
      "Virgo\n"
     ]
    }
   ],
   "source": [
    "birth_month = input(\"Enter a birth month: \")\n",
    "birth_day = int(input(\"Enter a birth Date: \"))\n",
    "\n",
    "if birth_month == \"December\" or birth_month == \"January\":\n",
    "    if birth_day in range(22, 32) or birth_day in range(1, 20):\n",
    "        print(\"Capricorn\")\n",
    "elif birth_month == \"January\" or birth_month == \"February\":\n",
    "    if birth_day in range(20, 32) or birth_day in range(1, 19):\n",
    "        print(\"Aquaris\")\n",
    "elif birth_month == \"February\" or birth_month == \"March\":\n",
    "    if birth_day in range(19, 30) or birth_day in range(1, 21):\n",
    "        print(\"Pisces\")\n",
    "elif birth_month == \"March\" or birth_month == \"April\":\n",
    "    if birth_day in range(21, 32) or birth_day in range(1, 20):\n",
    "        print(\"Aries\")\n",
    "elif birth_month == \"April\" or birth_month == \"May\":\n",
    "    if birth_day in range(1, 20) or birth_day in range(1, 21):\n",
    "        print(\"Taurus\")\n",
    "elif birth_month == \"May\" or birth_month == \"June\":\n",
    "    if birth_day in range(21, 32) or birth_day in range(1, 21):\n",
    "        print(\"Gemini\")\n",
    "elif birth_month == \"June\" or birth_month == \"July\":\n",
    "    if birth_day in range(21, 31) or birth_day in range(1, 23):\n",
    "        print(\"Cancer\")\n",
    "elif birth_month == \"July\" or birth_month == \"August\":\n",
    "    if birth_day in range(23, 32) or birth_day in range(1, 23):\n",
    "        print(\"Leo\")\n",
    "elif birth_month == \"August\" or birth_month == \"September\":\n",
    "    if birth_day in range(23, 32) or birth_day in range(1, 23):\n",
    "        print(\"Virgo\")\n",
    "elif birth_month == \"September\" or birth_month == \"October\":\n",
    "    if birth_day in range(23, 31) or birth_day in range(1, 23):\n",
    "        print(\"Libra\")\n",
    "elif birth_month == \"October\" or birth_month == \"November\":\n",
    "    if birth_day in range(23, 32) or birth_day in range(1, 22):\n",
    "        print(\"Scorpio\")\n",
    "elif birth_month == \"November\" or birth_month == \"December\":\n",
    "    if birth_day in range(22, 31) or birth_day in range(1, 22):\n",
    "        print(\"Sagittarius\")\n",
    "else: \n",
    "    print(\"Birthday date is wrong\")"
   ]
  },
  {
   "cell_type": "markdown",
   "id": "2c81dd8d-0cbc-4514-bdd2-ace2c0f03b40",
   "metadata": {},
   "source": [
    "48. The chinese zodic assigns animals to year in a 12 year cycle. Once 12 year cycle is shown in table below. The pattern repeats from there, with 2012 being anther year of a dragon, and 1999 begin year of the hare.\n",
    "    |Year|Animal|\n",
    "    |-----|-----|\n",
    "    |2000|Dragon|\n",
    "    |2001|Snake|\n",
    "    |2002|Horse|\n",
    "    |2003|Sheep|\n",
    "    |2004|Monkey|\n",
    "    |2005|Rooster|\n",
    "    |2006|Dog|\n",
    "    |2007|Pig|\n",
    "    |2008|Rat|\n",
    "    |2009|Ox|\n",
    "    |2010|Tiger|\n",
    "    |2011|Hare|\n",
    "\n",
    "Write a program that reads a year from the user and displays the animal associated\r\n",
    "with that year. Your program should work correctly for any year greater than or equal\r\n",
    "to zero, not just the ones listed in the table"
   ]
  },
  {
   "cell_type": "code",
   "execution_count": 14,
   "id": "303d1538-9810-4ec1-94a0-5092906f27bf",
   "metadata": {},
   "outputs": [
    {
     "name": "stdin",
     "output_type": "stream",
     "text": [
      "Enter an Year:  2023\n"
     ]
    },
    {
     "name": "stdout",
     "output_type": "stream",
     "text": [
      "2023 is an Hare year\n"
     ]
    }
   ],
   "source": [
    "year = int(input(\"Enter an Year: \"))\n",
    "\n",
    "if year % 12 == 8:\n",
    "    animal = \"Dragon\"\n",
    "elif year % 12 == 9:\n",
    "    animal = \"Snake\"\n",
    "elif year % 12 == 10:\n",
    "    animal = \"Horse\"\n",
    "elif year % 12 == 11:\n",
    "    animal = \"Sheep\"\n",
    "elif year % 12 == 0:\n",
    "    animal = \"Monkey\"\n",
    "elif year % 12 == 1:\n",
    "    animal = \"Rooster\"\n",
    "elif year % 12 == 2:\n",
    "    animal = \"Dog\"\n",
    "elif year % 12 == 3:\n",
    "    animal = \"Pig\"\n",
    "elif year % 12 == 4:\n",
    "    animal = \"Rat\"\n",
    "elif year % 12 == 5:\n",
    "    animal = \"Ox\"\n",
    "elif year % 12 == 6:\n",
    "    animal = \"Tiger\"\n",
    "elif year % 12 == 7:\n",
    "    animal = \"Hare\"\n",
    "\n",
    "print(\"{} is an {} year\".format(year, animal))"
   ]
  },
  {
   "cell_type": "markdown",
   "id": "6db756ce-5aa2-442e-90da-3862b8924276",
   "metadata": {},
   "source": [
    "49. The following table contains earthquake magnitude ranges on the Ricchter scale and their descriptors.\n",
    "    |Magnitude|Descriptor|\n",
    "    |---------|----------|\n",
    "    |Less than 2.0|Micro|\n",
    "    |2.0 to less than 3.0|Very minor|\n",
    "    |3.0 to less than 4.0|Minor|\n",
    "    |4.0 to less than 5.0|Light|\n",
    "    |5.0 to less than 6.0|Moderate|\n",
    "    |6.0 to less than 7.0|Strong|\n",
    "    |7.0 to less than 8.0|Major|\n",
    "    |8.0 to less than 10.0|Great|\n",
    "    |10.0 or more|Meteoric|\n",
    "\n",
    "Write a program that reads a magnitude from the user and displays the appropriate\r\n",
    "descriptor as part of a meaningful message. For example, if the user enters 5.5 then\r\n",
    "your program should indicate that a magnitude 5.5 earthquake is considered to be a\r\n",
    "moderate earthquake."
   ]
  },
  {
   "cell_type": "markdown",
   "id": "2982cfeb-9327-4014-be20-7bf863538b5a",
   "metadata": {},
   "source": [
    "magnitude = float(input(\"Enter a magnitude: \"))\n",
    "\n",
    "if magnitude <=2.0:\n",
    "    descriptor = \"Micro\"\n",
    "elif magnitude >=2.0 and magnitude < 3.0:\n",
    "     descriptor = \"Very minor\"\n",
    "elif magnitude >=3.0 and magnitude < 4.0:\n",
    "     descriptor = \"Minor\"\n",
    "elif magnitude >=4.0 and magnitude < 5.0:\n",
    "     descriptor = \"Light\"\n",
    "elif magnitude >=5.0 and magnitude < 6.0:\n",
    "     descriptor = \"Moderate\"\n",
    "elif magnitude >=6.0 and magnitude < 7.0:\n",
    "     descriptor = \"Strong\"\n",
    "elif magnitude >=7.0 and magnitude < 8.0:\n",
    "     descriptor = \"Major\"\n",
    "elif magnitude >=8.0 and magnitude < 10.0:\n",
    "     descriptor = \"Great\"\n",
    "elif magnitude >=10.0:\n",
    "     descriptor = \"Meteoric\"\n",
    "\n",
    "print(\"Magnitde {} earthquake is considered to be a {} earthquake\".format(magnitude, descriptor))"
   ]
  },
  {
   "cell_type": "markdown",
   "id": "2431582d-13f6-48d1-ac51-d6e8f05f7681",
   "metadata": {},
   "source": [
    "51. At a particular university, letter grades are mapped to grade points in the following manner:\n",
    "    |Letter|Grade Points|\n",
    "    |-------|-----------|\n",
    "    |A+|4.0|\n",
    "    |A|4.0|\n",
    "    |A-|3.7|\n",
    "    |B+|3.3|\n",
    "    |B|3.0|\n",
    "    |B-|2.7|\n",
    "    |C+|2.3|\n",
    "    |C|2.0|\n",
    "    |C-|1.7|\n",
    "    |D+|1.3|\n",
    "    |D|1.0|\n",
    "    |F|0|\n",
    "\n",
    "Write a program that begins by reading a letter grade from the user. Then your program should compare compute and display the equivalent number of grade points. Ensure that your program generates an appropriate error message if the user enters an invalid letter grade."
   ]
  },
  {
   "cell_type": "code",
   "execution_count": 41,
   "id": "9c0a757b-870c-4e5f-b117-cc8d1f5d1900",
   "metadata": {},
   "outputs": [
    {
     "name": "stdin",
     "output_type": "stream",
     "text": [
      "Enter a grade a-\n"
     ]
    },
    {
     "name": "stdout",
     "output_type": "stream",
     "text": [
      "A- is equals to 3.7 grade points\n"
     ]
    }
   ],
   "source": [
    "grade = input(\"Enter a grade\")\n",
    "grade = grade.upper()\n",
    "\n",
    "if grade == \"A+\" or grade == \"A\":\n",
    "    gradePoint = 4.0\n",
    "elif grade == \"A-\":\n",
    "    gradePoint = 3.7\n",
    "elif grade == \"B+\":\n",
    "    gradePoint = 3.3\n",
    "elif grade == \"B\":\n",
    "    gradePoint = 3.0\n",
    "elif grade == \"B-\":\n",
    "    gradePoint = 2.7\n",
    "elif grade == \"C+\":\n",
    "    gradePoint = 2.3\n",
    "elif grade == \"C\":\n",
    "    gradePoint = 2.0\n",
    "elif grade == \"C-\":\n",
    "    gradePoint = 1.7\n",
    "elif grade == \"D+\":\n",
    "    gradePoint = 1.3\n",
    "elif grade == \"D\":\n",
    "    gradePoint = 1.0\n",
    "elif grade == \"F\":\n",
    "    gradePoint = 0\n",
    "else:\n",
    "    print(\"Grade letter is invalid\")\n",
    "\n",
    "print(f\"{grade} is equals to {gradePoint} grade points\")"
   ]
  },
  {
   "cell_type": "markdown",
   "id": "d5237d1a-8f03-4519-958d-34a356ade238",
   "metadata": {},
   "source": [
    "52. .In the previous exercise you created a program that converts a letter grade into the\r\n",
    "equivalent number of grade points. In this exercise you will create a program that\r\n",
    "reverses the process and converts from a grade point value entered by the user to a\r\n",
    "letter grade. Ensure that your program handles grade point values that fall between\r\n",
    "letter grades. These should be rounded to the closest letter grade. Your program\r\n",
    "should report A+ for a 4.0 (or greater) grade point av.erage"
   ]
  },
  {
   "cell_type": "code",
   "execution_count": 47,
   "id": "be1369fd-5911-422a-9f44-cde759b0ec16",
   "metadata": {},
   "outputs": [
    {
     "name": "stdin",
     "output_type": "stream",
     "text": [
      "Enter grade point 2.6\n"
     ]
    },
    {
     "name": "stdout",
     "output_type": "stream",
     "text": [
      "2.6 is equals to B-\n"
     ]
    }
   ],
   "source": [
    "grade_point = float(input(\"Enter grade point\"))\n",
    "\n",
    "if grade_point >= 4:\n",
    "    grade_letter = \"A+\"\n",
    "elif grade_point > 3.7 and grade_point < 4:\n",
    "    grade_letter = \"A\"\n",
    "elif grade_point > 3.3 and grade_point <= 3.7:\n",
    "    grade_letter = \"A-\"\n",
    "elif grade_point > 3.0 and grade_point <= 3.3:\n",
    "    grade_letter = \"B+\"\n",
    "elif grade_point > 2.7 and grade_point <= 3.0:\n",
    "    grade_letter = \"B\"\n",
    "elif grade_point > 2.3 and grade_point <= 2.7:\n",
    "    grade_letter = \"B-\"\n",
    "elif grade_point > 2.0 and grade_point < 2.3:\n",
    "    grade_letter = \"C+\"\n",
    "elif grade_point > 1.7 and grade_point < 2.0:\n",
    "    grade_letter = \"C\"\n",
    "elif grade_point > 1.3 and grade_point < 1.7:\n",
    "    grade_letter = \"C-\"\n",
    "elif grade_point > 1.0 and grade_point < 1.3:\n",
    "    grade_letter = \"D+\"\n",
    "elif grade_point == 1.0:\n",
    "    grade_letter = \"D\"\n",
    "elif grade_point == 0:\n",
    "    grade_letter = \"F\"\n",
    "else:\n",
    "    print(\"Grade point is out of range\")\n",
    "\n",
    "print(f\"{grade_point} is equals to {grade_letter}\")"
   ]
  },
  {
   "cell_type": "markdown",
   "id": "c240a721-d08a-4566-a5c5-f961cce39c9f",
   "metadata": {},
   "source": [
    "53. At a particular company, employees are rated at the end of each year. The rating scale\r\n",
    "begins at 0.0, with higher values indicating better performance and resulting in larger\r\n",
    "raises. The value awarded to an employee is either 0.0, 0.4, or 0.6 or more. Values\r\n",
    "between 0.0 and 0.4, and between 0.4 and 0.6 are never used. The meaning associated\r\n",
    "with each rating is shown in the following table. The amount of an employee’s raise\r\n",
    "is $2400.00 multiplied by their rating.\n",
    "    |Rating|Meaning|\n",
    "    |------|-------|\n",
    "    |0.0|Unacceptable performance|\n",
    "    |0.4|Acceptable performance|\n",
    "    |0.6|Meritorious perform\n",
    "\n",
    "Write a program that reads a rating from the user and indicates whether the performance was unacceptable, acceptable or meritorious. The amount of the employee’s\r\n",
    "raise should also be reported. Your program should display an appropriate error\r\n",
    "message if an invalid rating is entered.ance|"
   ]
  },
  {
   "cell_type": "code",
   "execution_count": 49,
   "id": "8e9f7a6d-35fb-48d8-90da-4a2f26d6ce79",
   "metadata": {},
   "outputs": [
    {
     "name": "stdin",
     "output_type": "stream",
     "text": [
      "Enter a rating you earned:  0.6\n"
     ]
    },
    {
     "name": "stdout",
     "output_type": "stream",
     "text": [
      "Meritorious performance your salary raised upto 1440.0\n"
     ]
    }
   ],
   "source": [
    "rating = float(input(\"Enter a rating you earned: \"))\n",
    "\n",
    "raise_in_salary = rating * 2400\n",
    "\n",
    "if rating == 0.0:\n",
    "    meaning = \"Unacceptable performance\"\n",
    "elif rating == 0.4:\n",
    "    meaning = \"Acceptable performance\"\n",
    "elif rating >= 0.6:\n",
    "    meaning = \"Meritorious performance\"\n",
    "else:\n",
    "    print(\"Invalid Rating\")\n",
    "\n",
    "print(f\"{meaning} your salary raised upto {raise_in_salary}\")"
   ]
  },
  {
   "cell_type": "markdown",
   "id": "694d1074-15a5-434f-b504-44026231ec0c",
   "metadata": {},
   "source": [
    "54. The wavelength of visible light ranges from 380 to 750 nanometers (nm). While the spectrum is continuous, it is often divided into 6 colors as show below.\n",
    "    |Color|Wavelength (nm)|\n",
    "    |-----|---------------|\n",
    "    |Violet|380 to less than 450|\n",
    "    |Blue|450 to less than 495|\n",
    "    |Green|495 to less than 570|\n",
    "    |Yellow|570 to less than 590|\n",
    "    |Orange|590 to less than 620|\n",
    "    |Red|620 to 750|\n",
    "\n",
    "Write a program thatreads a wavelengthfrom the user andreports its color. Display\r\n",
    "an appropriate error message if the wavelength entered by the user is outside of the\r\n",
    "visible spectrum."
   ]
  },
  {
   "cell_type": "code",
   "execution_count": 53,
   "id": "b77d52a0-9672-4b19-86b4-e050ffcc7e73",
   "metadata": {},
   "outputs": [
    {
     "name": "stdin",
     "output_type": "stream",
     "text": [
      "Enter a wavelength:  670\n"
     ]
    },
    {
     "name": "stdout",
     "output_type": "stream",
     "text": [
      "Red\n"
     ]
    }
   ],
   "source": [
    "wavelength = int(input(\"Enter a wavelength: \"))\n",
    "\n",
    "if wavelength >= 380 and wavelength < 450:\n",
    "    color = \"Voilet\"\n",
    "elif wavelength >= 450 and wavelength < 495:\n",
    "    color = \"Blue\"\n",
    "elif wavelength >= 495 and wavelength < 570:\n",
    "    color = \"Green\"\n",
    "elif wavelength >= 570 and wavelength < 590:\n",
    "    color = \"Yellow\"\n",
    "elif wavelength >= 590 and wavelength < 620:\n",
    "    color = \"Orange\"\n",
    "elif wavelength >= 620 and wavelength <= 750:\n",
    "    color = \"Red\"\n",
    "else: \n",
    "    print(\"Wavelength is out of range\")\n",
    "\n",
    "print(color)"
   ]
  },
  {
   "cell_type": "markdown",
   "id": "fd9a9e4b-de71-4131-8a37-46eb21ec9ef5",
   "metadata": {},
   "source": [
    "56.\n",
    "    A particular cell phone plan includes 50 minutes of air time and 50 text messages\r\n",
    "for15.00 a month. Each additional minute of air time costs 0.25, while additional text messages cost 0.15 each. All cell phone bills include an additional charge of 0.44 to support 911 call centers, and the entire bill (including the 911 charge) is subject to 5 percent sales tax.\n",
    "\n",
    "Write a program that reads the number of minutes and text messages used in a\r\n",
    "month from the user. Display the base charge, additional minutes charge (if any),\r\n",
    "additional text message charge (if any), the 911 fee, tax and total bill amount. Only\r\n",
    "display the additional minute and text message charges if the user incurred costs in\r\n",
    "these categories. Ensure that all of the charges are displayed using 2 decimal placestax."
   ]
  },
  {
   "cell_type": "code",
   "execution_count": 54,
   "id": "6abff87f-8998-465a-9e0d-51aa2935d40f",
   "metadata": {},
   "outputs": [],
   "source": [
    "air_time = 50 * 60\n",
    "text_message_charge = 15\n",
    "\n",
    "additional_air_time_charge = 0.25\n",
    "additional_text_message_charge = 0.15"
   ]
  },
  {
   "cell_type": "markdown",
   "id": "2cfc9a2e-a686-4305-a7b2-97a1241cc4f6",
   "metadata": {},
   "source": [
    "57. Most years have 365 days. However, the time required for the Earth to orbit the Sun\r\n",
    "is actually slightly more than that. As a result, an extra day, February 29, is included\r\n",
    "in some years to correct for this difference. Such years are referred to as leap years.\r\n",
    "The rules for determining whether or not a year is a leap year follow:\r\n",
    "• Any year that is divisible by 400 is a leap year.\r\n",
    "• Of the remaining years, any year that is divisible by 100 is not a leap year.\r\n",
    "• Of the remaining years, any year that is divisible by 4 is a leap year.\r\n",
    "• All other years are not leap years.\r\n",
    "Write a program that reads a year from the user and displays a message indicating\r\n",
    "whether or not it is a leap year."
   ]
  },
  {
   "cell_type": "code",
   "execution_count": 75,
   "id": "d4b3bb31-40bd-48c3-8994-9a17c603194b",
   "metadata": {},
   "outputs": [
    {
     "name": "stdin",
     "output_type": "stream",
     "text": [
      "Enter a year:  2016\n"
     ]
    },
    {
     "name": "stdout",
     "output_type": "stream",
     "text": [
      "2016 is a leap year.\n"
     ]
    }
   ],
   "source": [
    "enter_year = int(input(\"Enter a year: \"))\n",
    "\n",
    "if (enter_year % 400 == 0 or enter_year % 4 == 0) and enter_year % 100 != 0 :\n",
    "    print(f\"{enter_year} is a leap year.\")\n",
    "else:\n",
    "    print(f\"{enter_year} is not a leap year\")"
   ]
  },
  {
   "cell_type": "markdown",
   "id": "f4fe00ed-95d8-43ac-9e3c-d3c3be3fa631",
   "metadata": {},
   "source": [
    "58. Write a program that reads a date from the user and computes its immediate successor.\r\n",
    "For example, if the user enters values that represent 2013-11-18 then your program\r\n",
    "should display a message indicating that the day immediately after 2013-11-18 is\r\n",
    "2013-11-19. If the user enters values that represent 2013-11-30 then the program\r\n",
    "should indicate that the next day is 2013-12-01. If the user enters values that represent\r\n",
    "2013-12-31 then the program should indicate that the next day is 2014-01-01. The\r\n",
    "date will be entered in numeric form with three separate input statements; one for\r\n",
    "the year, one for the month, and one for the day. Ensure that your program works\r\n",
    "correctly for leap years."
   ]
  },
  {
   "cell_type": "code",
   "execution_count": null,
   "id": "8d9a820d-5023-43e5-85af-03a713d07ecb",
   "metadata": {},
   "outputs": [],
   "source": []
  }
 ],
 "metadata": {
  "kernelspec": {
   "display_name": "Python 3 (ipykernel)",
   "language": "python",
   "name": "python3"
  },
  "language_info": {
   "codemirror_mode": {
    "name": "ipython",
    "version": 3
   },
   "file_extension": ".py",
   "mimetype": "text/x-python",
   "name": "python",
   "nbconvert_exporter": "python",
   "pygments_lexer": "ipython3",
   "version": "3.11.1"
  }
 },
 "nbformat": 4,
 "nbformat_minor": 5
}
