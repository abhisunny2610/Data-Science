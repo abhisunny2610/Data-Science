{
 "cells": [
  {
   "cell_type": "markdown",
   "id": "d036bbe9-edfa-4a6b-aedf-03aacd000558",
   "metadata": {},
   "source": [
    "# Loop Exercise"
   ]
  },
  {
   "cell_type": "markdown",
   "id": "d33c9f22-2688-4f6b-b616-8ae1b8304d9d",
   "metadata": {},
   "source": [
    "61. In this exercise you will create a program that computes the average of a collection\n",
    "of values entered by the user. The user will enter 0 as a sentinel value to indicate\n",
    "that no further values will be provided. Your program should display an appropriate\n",
    "error message if the first value entered by the user is 0."
   ]
  },
  {
   "cell_type": "code",
   "execution_count": null,
   "id": "0b57782b-6135-4e03-820f-5dd0faa0925a",
   "metadata": {},
   "outputs": [],
   "source": [
    "collection = []\n",
    "number = int(input(\"Enter a number: \"))\n",
    "\n",
    "while number != \" \":\n",
    "    if number == \" \":\n",
    "        break\n",
    "\n",
    "    if number != \" \":\n",
    "        collection.append(number)\n",
    "        number = int(input(\"Enter a number: \"))\n",
    "\n",
    "average = sum(collection) / len(collection)\n",
    "\n",
    "print(\"Average Number is\", average)"
   ]
  },
  {
   "cell_type": "code",
   "execution_count": null,
   "id": "293c251b-c0e2-4157-9b68-661f55c395c9",
   "metadata": {},
   "outputs": [],
   "source": []
  },
  {
   "cell_type": "code",
   "execution_count": null,
   "id": "448b62f9-4dc3-4840-9033-9900d9e703eb",
   "metadata": {},
   "outputs": [],
   "source": []
  }
 ],
 "metadata": {
  "kernelspec": {
   "display_name": "Python 3 (ipykernel)",
   "language": "python",
   "name": "python3"
  },
  "language_info": {
   "codemirror_mode": {
    "name": "ipython",
    "version": 3
   },
   "file_extension": ".py",
   "mimetype": "text/x-python",
   "name": "python",
   "nbconvert_exporter": "python",
   "pygments_lexer": "ipython3",
   "version": "3.11.1"
  }
 },
 "nbformat": 4,
 "nbformat_minor": 5
}
