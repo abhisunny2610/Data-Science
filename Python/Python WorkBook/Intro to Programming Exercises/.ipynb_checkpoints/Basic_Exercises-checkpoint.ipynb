{
 "cells": [
  {
   "cell_type": "markdown",
   "id": "e6a86649-8654-4547-b1a2-29629102d36f",
   "metadata": {},
   "source": [
    "# Exercises"
   ]
  },
  {
   "cell_type": "markdown",
   "id": "e7a4700b-03ad-4e1c-a6c2-dca48340c2f6",
   "metadata": {},
   "source": [
    "1. Create a program that displays your name and complete mailing address formatted in the manner that you would usually see it on the outside of an envelope. Your program does not need to read any input from the user."
   ]
  },
  {
   "cell_type": "code",
   "execution_count": 2,
   "id": "28cb44c8-9c98-4f07-aadf-466a2b5639c0",
   "metadata": {},
   "outputs": [
    {
     "name": "stdout",
     "output_type": "stream",
     "text": [
      "Abhishek\n",
      "New Indra Nagar Colony\n",
      "Etah Road, Behind Ice Cube Factory\n",
      "Tudla, Firozabad - 283204\n"
     ]
    }
   ],
   "source": [
    "`print(\"Abhishek\")\n",
    "print(\"New Indra Nagar Colony\")\n",
    "print(\"Etah Road, Behind Ice Cube Factory\")\n",
    "print(\"Tudla, Firozabad - 283204\")"
   ]
  },
  {
   "cell_type": "markdown",
   "id": "99970756-4029-437f-95b4-82acccf06b4f",
   "metadata": {},
   "source": [
    "2. Write a program that asks the user to enter his or her name. The program should respond with a message that says hello to the user, using his or her name."
   ]
  },
  {
   "cell_type": "code",
   "execution_count": 5,
   "id": "988c6a28-cb25-47d4-a186-d2677069bb7d",
   "metadata": {},
   "outputs": [
    {
     "name": "stdin",
     "output_type": "stream",
     "text": [
      "Enter Your Name:  Abhishek Singh\n"
     ]
    },
    {
     "name": "stdout",
     "output_type": "stream",
     "text": [
      "Hello Abhishek Singh\n"
     ]
    }
   ],
   "source": [
    "name = input(\"Enter Your Name: \")\n",
    "\n",
    "print(\"Hello\" + \" \" + name)"
   ]
  },
  {
   "cell_type": "markdown",
   "id": "bedbc889-f987-4edc-aaf0-43de978255de",
   "metadata": {},
   "source": [
    "3. Write a program that asks the user to enter the width and length of a room. Once the values have been read, your program should compute and displays the area of the room. The length and the width will be entered as floating point numbers. Include units in your prompt and output message; either feet or meter, depending on which unit you are more comfortable working with."
   ]
  },
  {
   "cell_type": "code",
   "execution_count": 9,
   "id": "1248aa23-ec14-4971-8408-f88f24ca61b8",
   "metadata": {},
   "outputs": [
    {
     "name": "stdin",
     "output_type": "stream",
     "text": [
      "Enter the length of a room:  40\n",
      "Enter the width of a room:  40\n"
     ]
    },
    {
     "name": "stdout",
     "output_type": "stream",
     "text": [
      "Area of a room is  1600.0  sq.ft\n"
     ]
    }
   ],
   "source": [
    "length = float(input(\"Enter the length of a room: \"))\n",
    "\n",
    "width = float(input(\"Enter the width of a room: \"))\n",
    "\n",
    "area = length * width\n",
    "\n",
    "print(\"Area of a room is \", area, \" sq.ft\")"
   ]
  },
  {
   "cell_type": "markdown",
   "id": "7027d3bf-5dd7-468a-88a8-23054f2b8aeb",
   "metadata": {},
   "source": [
    "4. Create a program that reads the length and width of a farmer's field from the user in feet. Display the area of the field in acres."
   ]
  },
  {
   "cell_type": "code",
   "execution_count": 12,
   "id": "03b1d9ed-107c-444e-b493-ba2b465b7658",
   "metadata": {},
   "outputs": [
    {
     "name": "stdin",
     "output_type": "stream",
     "text": [
      "Enter the length of a room:  86930\n",
      "Enter the width of a room:  43793\n"
     ]
    },
    {
     "name": "stdout",
     "output_type": "stream",
     "text": [
      "Area of a room is  87394.9837006428  sq.ft\n"
     ]
    }
   ],
   "source": [
    "sqft_per_acre = 43560\n",
    "\n",
    "f_length = float(input(\"Enter the length of a room: \"))\n",
    "\n",
    "f_width = float(input(\"Enter the width of a room: \"))\n",
    "\n",
    "f_area = f_length * f_width / sqft_per_acre\n",
    "\n",
    "print(\"Area of a room is \", f_area, \" sq.ft\")"
   ]
  },
  {
   "cell_type": "markdown",
   "id": "77404c77-0fa3-4e37-9ef4-1b287d02acbb",
   "metadata": {},
   "source": [
    "5. In many jurisdictions a small deposit is added to drink containers to encourage people\r\n",
    "to recycle them. In one particular jurisdiction, drink containers holding one liter o \r\n",
    "less have `a $0.`10 deposit, and drink containers holding more than one liter have `a\r\n",
    "$0`.25 deposit.\r\n",
    "Write a program that reads the number of containers of each size from the uer.\r\n",
    "Your program should continue by computin  and displaying the refund that wi l be\r\n",
    "received for returning those containers. Format the output so that it includes a  ollar\r\n",
    "sign and always displays exactly two decimal. places"
   ]
  },
  {
   "cell_type": "code",
   "execution_count": 15,
   "id": "b4769aa6-abbb-4553-a2b9-f391d4dbb84d",
   "metadata": {},
   "outputs": [
    {
     "name": "stdin",
     "output_type": "stream",
     "text": [
      "Enter the number of containers that holds one liter or less:  30\n",
      "Enter the number of containers that hold more than one liter:  3\n"
     ]
    },
    {
     "name": "stdout",
     "output_type": "stream",
     "text": [
      "Your total refund is $3.75\n"
     ]
    }
   ],
   "source": [
    "less_1lit = 0.10\n",
    "more_1lit = 0.25\n",
    "\n",
    "less_container = float(input(\"Enter the number of containers that holds one liter or less: \"))\n",
    "\n",
    "more_container = float(input(\"Enter the number of containers that hold more than one liter: \"))\n",
    "\n",
    "refund = less_container * less_1lit + more_container * more_1lit\n",
    "\n",
    "print(\"Your total refund is $%.2f\" % refund)"
   ]
  },
  {
   "cell_type": "markdown",
   "id": "b4c6a8fb-8d16-47d8-acb6-48d872ae1ff0",
   "metadata": {},
   "source": [
    "6. The program that you create for this exercise will begin by reading thecost of a meal ordered at a restaurant from the users. Then your program will compute the tax and tip for the meal. Use your local tax rate when computing the amount of tax owing. Compute the tip as 18 percent of the meal amount (without the tax). The output from your program should iclude the tax amount, the tip amount, and the grand total for the meal including both the tax abd the tip. Format the output so that all the values are displayed using two decimal places."
   ]
  },
  {
   "cell_type": "code",
   "execution_count": 38,
   "id": "8019e3a6-08d9-4ccc-83bf-39ae451913d2",
   "metadata": {},
   "outputs": [
    {
     "name": "stdin",
     "output_type": "stream",
     "text": [
      "Enter the amount of  a meal:  500\n"
     ]
    },
    {
     "name": "stdout",
     "output_type": "stream",
     "text": [
      "Meal Amount 500.00\n",
      "GST Amount 50.00\n",
      "Tip Amount of meal 90.00\n",
      "============================\n",
      "Your Grand Total is 640.00\n"
     ]
    }
   ],
   "source": [
    "tax = 10\n",
    "tip = 18\n",
    "\n",
    "meal_amount = float(input(\"Enter the amount of  a meal: \"))\n",
    "\n",
    "tip_amount = meal_amount * tip / 100\n",
    "\n",
    "tax_amount = meal_amount * tax / 100\n",
    "\n",
    "grand_total = meal_amount + tip_amount + tax_amount\n",
    "\n",
    "print(\"Meal Amount %.2f\" % meal_amount)\n",
    "print(\"GST Amount %.2f\" % tax_amount)\n",
    "print(\"Tip Amount of meal %.2f\" % tip_amount)\n",
    "print(\"============================\")\n",
    "print(\"Your Grand Total is %.2f\" % grand_total)"
   ]
  },
  {
   "cell_type": "markdown",
   "id": "f6f854e1-5b21-4e4e-9857-fe682fbf8557",
   "metadata": {},
   "source": [
    "7. Write a program that reads a positive integer, n, from the user and then displays the \n",
    "sum of all of the integers from 1 o Na:"
   ]
  },
  {
   "cell_type": "code",
   "execution_count": 24,
   "id": "2b32681a-2f51-4699-b6b0-01f50dff6a3d",
   "metadata": {},
   "outputs": [
    {
     "name": "stdin",
     "output_type": "stream",
     "text": [
      "Enter a positive number 6\n"
     ]
    },
    {
     "name": "stdout",
     "output_type": "stream",
     "text": [
      "The sum of n digit number is 21.0\n"
     ]
    }
   ],
   "source": [
    "number = int( input(\"Enter a positive number\"))\n",
    "\n",
    "sum = number * (number + 1) / 2\n",
    "\n",
    "print(\"The sum of n digit number is\", sum)"
   ]
  },
  {
   "cell_type": "markdown",
   "id": "d64f275e-86e3-43f7-a98a-ab52f9f0dfed",
   "metadata": {},
   "source": [
    "8. An online retailer sells two products: widegts and gizmos. Each widget weighs 75 grams. Each gizmo weighs 112 grams. Write a program that reads the number of widgets and the number of gizmos in an order from the user. Then your program should compute and display the total weight of the order."
   ]
  },
  {
   "cell_type": "code",
   "execution_count": 28,
   "id": "9bbe9ed9-f437-4167-99be-106f547ec0e5",
   "metadata": {},
   "outputs": [
    {
     "name": "stdin",
     "output_type": "stream",
     "text": [
      "Enter the number of widgets:  30\n",
      "Enter the number of gizmo:  30\n"
     ]
    },
    {
     "name": "stdout",
     "output_type": "stream",
     "text": [
      "Total Order Weight is 5.61 kg\n"
     ]
    }
   ],
   "source": [
    "widget_weight = 0.075\n",
    "gizmo_weight = 0.112\n",
    "\n",
    "widget_number = int(input(\"Enter the number of widgets: \"))\n",
    "gizmo_number = int(input(\"Enter the number of gizmo: \"))\n",
    "\n",
    "widget_order_weight = widget_number * widget_weight\n",
    "gizmo_order_weight = gizmo_number * gizmo_weight\n",
    "\n",
    "total_order_weight = widget_order_weight + gizmo_order_weight\n",
    "\n",
    "print(\"Total Order Weight is %.2f\" % total_order_weight ,\"kg\")"
   ]
  },
  {
   "cell_type": "markdown",
   "id": "484e8ec6-beb5-4aae-9285-313270afd908",
   "metadata": {},
   "source": [
    "9. Pretend that you have just opened a new savings account that earns 4% interest per year. The interest that you earn is paid at the end of the year, andis added to the balance of the savings account. Write a program that begins by reading the amount of money deposited into the account. Write a program that begins by reading the amount of money deposited into the account from the user. Then your program should compute and display the amount in the savings account after 1,2 and 3 years. Display each amount so that it is rounded to 2 decimal places."
   ]
  },
  {
   "cell_type": "markdown",
   "id": "464cab59-b942-4403-9ae0-1db4ac49289d",
   "metadata": {},
   "source": [
    "10. Create a program that reads two integers a and b from the user. Your program should compute and display: \\\n",
    "    i. The sum of a and b \\\n",
    "    ii. The difference when b is subtracted from a \\\n",
    "    iii. The product of a and b \\\n",
    "    iv. The quotient when a is divided by b \\\n",
    "    v. The remainder when a is divided by b \\\n",
    "    vi. The result of log10a \\\n",
    "    vii. The result of a^b"
   ]
  },
  {
   "cell_type": "code",
   "execution_count": 1,
   "id": "0c86192a-6ee6-4b03-93d1-ad57164dca37",
   "metadata": {},
   "outputs": [
    {
     "name": "stdin",
     "output_type": "stream",
     "text": [
      "Enter a value of A:  3\n",
      "Enter a value of B:  4\n"
     ]
    },
    {
     "name": "stdout",
     "output_type": "stream",
     "text": [
      "====================\n",
      "Sum of A and B is:  7\n",
      "Subtract of A and B is:  -1\n",
      "Product of A and B is:  12\n",
      "Quotient when A is divided by B:  0.75\n",
      "Remainder when A is divided by B is:  3\n",
      "Result of log10a:  0.47712125471966244\n",
      "The result of A^B:  81\n"
     ]
    }
   ],
   "source": [
    "from math import log10\n",
    "\n",
    "a = int(input(\"Enter a value of A: \"))\n",
    "b = int(input(\"Enter a value of B: \"))\n",
    "\n",
    "print(\"=\"*20)\n",
    "\n",
    "print(\"Sum of A and B is: \",  a + b)\n",
    "print(\"Subtract of A and B is: \",  a - b)\n",
    "print(\"Product of A and B is: \",  a * b)\n",
    "print(\"Quotient when A is divided by B: \",  a / b)\n",
    "print(\"Remainder when A is divided by B is: \",  a % b)\n",
    "print(\"Result of log10a: \",  log10(a))\n",
    "print(\"The result of A^B: \",  a ** b)"
   ]
  },
  {
   "cell_type": "markdown",
   "id": "a1969247-d996-48fe-ba6c-e132c9a647a4",
   "metadata": {},
   "source": [
    "11. In the United States, fuel efficiency for vehicles is normally expressed in miles-pergallon (MPG). In Canada, fuel efficiency is normally expressed in liters-per-hundred \n",
    "kilometers (L/100 km). Use your research skills to determine how to convert fro \r\n",
    "MPG to L/100 km. Then create a program that reads a value from the user in Amerin n\r\n",
    "units and displays the equivalent fuel efficiency in Canadian units."
   ]
  },
  {
   "cell_type": "code",
   "execution_count": 42,
   "id": "88827bc7-090b-4ae0-bfe0-6293a91fbe09",
   "metadata": {},
   "outputs": [
    {
     "name": "stdin",
     "output_type": "stream",
     "text": [
      "Enter the value: 40\n"
     ]
    },
    {
     "name": "stdout",
     "output_type": "stream",
     "text": [
      "Fuel efficiency in Canadian Units: 5.88 L/100km\n"
     ]
    }
   ],
   "source": [
    "## 1MPG = 235.215 L/100 km\n",
    "\n",
    "mpg_value = int(input(\"Enter the value:\"))\n",
    "\n",
    "efficiency_in_cu = 235.215 / mpg_value \n",
    "\n",
    "print(\"Fuel efficiency in Canadian Units: %.2f\" % efficiency_in_cu, \"L/100km\")"
   ]
  },
  {
   "cell_type": "markdown",
   "id": "f02e60ce-7b11-4d43-a1ab-9b680fd5f76d",
   "metadata": {},
   "source": [
    "13. Write a program that reads a number of feet from the user, followed by a number of inches. Once these values are read, your program should compute and display the equivalent number of centimeters."
   ]
  },
  {
   "cell_type": "code",
   "execution_count": 4,
   "id": "5a1ba98f-3eb4-4cbb-9fd9-98c01fcc9cde",
   "metadata": {},
   "outputs": [
    {
     "name": "stdin",
     "output_type": "stream",
     "text": [
      "Enter the value of feet 6\n"
     ]
    },
    {
     "name": "stdout",
     "output_type": "stream",
     "text": [
      "Fimal value in cm 182.88\n"
     ]
    }
   ],
   "source": [
    "feet = float(input(\"Enter the value of feet\"))\n",
    "\n",
    "feet_to_inch = feet * 12\n",
    "\n",
    "inch_to_cm = feet_to_inch * 2.54\n",
    "\n",
    "\n",
    "print(\"Fimal value in cm\", inch_to_cm)"
   ]
  },
  {
   "cell_type": "markdown",
   "id": "f2820698-9f15-4f9e-ba4f-5a5cb500ce34",
   "metadata": {},
   "source": [
    "14. In this exercise, you will create a program that begins by reading a measurement \n",
    "in feet from the user. The  your program should display the equivalent distance i \r\n",
    "inches, yards and miles. Use the Internet to look up t e necessary conversion facto s\r\n",
    "if you don’t have them memorized."
   ]
  },
  {
   "cell_type": "code",
   "execution_count": 2,
   "id": "49a092b7-0dda-461d-959a-86f267e980c4",
   "metadata": {},
   "outputs": [
    {
     "name": "stdin",
     "output_type": "stream",
     "text": [
      "Enter the distance in feet:  30\n"
     ]
    },
    {
     "name": "stdout",
     "output_type": "stream",
     "text": [
      "Distance in feet 30\n",
      "Distance in inches 360\n",
      "Distance in miles 0.005681818181818182\n",
      "Distance in yards 10.0\n"
     ]
    }
   ],
   "source": [
    "distance = int(input(\"Enter the distance in feet: \"))\n",
    "\n",
    "distance_in_inches = distance * 12\n",
    "\n",
    "distance_in_yards = distance / 3\n",
    "\n",
    "distance_in_miles = distance / 5280\n",
    "\n",
    "print(\"Distance in feet\", distance)\n",
    "print(\"Distance in inches\", distance_in_inches)\n",
    "print(\"Distance in miles\", distance_in_miles)\n",
    "print(\"Distance in yards\", distance_in_yards)"
   ]
  },
  {
   "cell_type": "markdown",
   "id": "5a8eaadd-a922-4299-87a6-0b01354ad1db",
   "metadata": {},
   "source": [
    "15. Write a program that begins by reading a radius, r, from the user. The program will \n",
    "continue by computing and displaying the area of a circle with radius r and th \r\n",
    "volume of a sphere with radius r. Use the pi constant in the math module in yo r\r\n",
    "calculatio\n",
    "ns."
   ]
  },
  {
   "cell_type": "code",
   "execution_count": 6,
   "id": "d87d2675-a936-4688-a9e7-bd1eea0a9b84",
   "metadata": {},
   "outputs": [
    {
     "name": "stdin",
     "output_type": "stream",
     "text": [
      "Enter the radius:  4\n"
     ]
    },
    {
     "name": "stdout",
     "output_type": "stream",
     "text": [
      "4\n",
      "50.26548245743669\n",
      "268.082573106329\n"
     ]
    }
   ],
   "source": [
    "from math import pi\n",
    "\n",
    "radius = int(input(\"Enter the radius: \"))\n",
    "\n",
    "print(radius)\n",
    "\n",
    "area_of_circle = pi * (radius * radius)\n",
    "\n",
    "volume_of_sphere = 4 * pi * (radius * radius * radius) / 3\n",
    "\n",
    "print(area_of_circle)\n",
    "\n",
    "print(volume_of_sphere)"
   ]
  },
  {
   "cell_type": "markdown",
   "id": "7fde068b-a171-4001-926d-c4e4ee34897d",
   "metadata": {},
   "source": [
    "16. "
   ]
  },
  {
   "cell_type": "markdown",
   "id": "4982ec8f-ae87-4c17-a094-fd4df3d8987b",
   "metadata": {},
   "source": [
    "17. The volume of a cylinder can be computed by multiplying the area of its circular \n",
    "base by its height. Write a program that reads the radius of the cylinder, along wit \r\n",
    "its height, from the user and computes its volume. Display the result rounded to o e\r\n",
    "decimal place."
   ]
  },
  {
   "cell_type": "code",
   "execution_count": 8,
   "id": "2c4ff371-bdb3-466d-a6da-6f31f33e4650",
   "metadata": {},
   "outputs": [
    {
     "name": "stdin",
     "output_type": "stream",
     "text": [
      "Enter the radius of a cylinder:  4\n",
      "Enter the height of a cylinder:  15\n"
     ]
    },
    {
     "name": "stdout",
     "output_type": "stream",
     "text": [
      "Volume of cylinder is 754.0\n"
     ]
    }
   ],
   "source": [
    "from math import pi \n",
    "\n",
    "cylinder_radius = float(input(\"Enter the radius of a cylinder: \"))\n",
    "cylinder_height = float(input(\"Enter the height of a cylinder: \"))\n",
    "\n",
    "area_of_base = pi * (cylinder_radius * cylinder_radius)\n",
    "\n",
    "volume_of_cylinder = area_of_base * cylinder_height\n",
    "\n",
    "print(\"Volume of cylinder is %.1f\" % volume_of_cylinder)"
   ]
  },
  {
   "cell_type": "markdown",
   "id": "cae76c67-69ec-4583-9406-5ca417d51ce6",
   "metadata": {},
   "source": [
    "18. Create a program that determines how quickly an object is traveling when it hits the \n",
    "ground. The user wil  enter the height from which the object is dropped in meters (m) \r\n",
    "Because the object is dropped its initial speed is 0m/s. Assume that the accelerati n\r\n",
    "due to gravity is 9.8m/s2. You can use the formula vf = vi2 + 2ad to compute  he\r\n",
    "final speed, vf , when the initial speed, vi, acceleration, a, and distance, d, are known."
   ]
  },
  {
   "cell_type": "code",
   "execution_count": 9,
   "id": "4d7e1084-8c94-4a37-85ac-2454c6a4e205",
   "metadata": {},
   "outputs": [
    {
     "name": "stdin",
     "output_type": "stream",
     "text": [
      "Enter the height:  100\n"
     ]
    },
    {
     "name": "stdout",
     "output_type": "stream",
     "text": [
      "The final speed of the object is 44.27 m/s\n"
     ]
    }
   ],
   "source": [
    "from math import sqrt\n",
    "\n",
    "distance_covered = float(input(\"Enter the height: \"))\n",
    "\n",
    "vf = sqrt(2 * 9.8 * distance_covered)\n",
    "\n",
    "print(\"The final speed of the object is %.2f m/s\" % vf)\n"
   ]
  },
  {
   "cell_type": "markdown",
   "id": "fb418c51-260d-443b-b255-2ec6625291d0",
   "metadata": {},
   "source": [
    "19. The ideal gas law is a mathematical approximation of the behavior of gasses as \n",
    "pressure, volume and temperature change. It is usually stated as:        \r\n",
    "PV = n\n",
    "RT\r\n",
    "where P is the pressure in Pascals, V is the volume in liters, n is the amount of\r\n",
    "substance in moles, R is the ideal gas constant, equal to 8.314 mol K J , and T is the\r\n",
    "temperature in degrees Ke\n",
    "lvin.\r\n",
    "Write a program that computes the amount of gas in moles when the user su plies\r\n",
    "the pressure, volume and temperature. Test your program by determining the number\r\n",
    "of moles of gas in a SCUBA tank. A typical SCUBA tank holds 12 liters o  gas at\r\n",
    "a pressure of 20,000,000 Pascals (approximately 3,000 PSI). Room tempe ature is\r\n",
    "approximately 20 degrees Celsius or 68 degrees Fahrenheit"
   ]
  },
  {
   "cell_type": "markdown",
   "id": "2449af8d-cac9-4c99-8bbb-4351b193adb1",
   "metadata": {},
   "source": [
    "20. The area of a triangle can be computed using the following formula, where b is the\r\n",
    "length of the base of the triangle, and h is its height\n",
    "\r\n",
    "area =\r\n",
    "b  /  h\r\n",
    "2\r\n",
    "Write a program that allows the user to enter values for b and h. The program\r\n",
    "should then compute and display the area of a triangle with base length b and height h."
   ]
  },
  {
   "cell_type": "code",
   "execution_count": 10,
   "id": "1c6216b2-0cf6-476b-8b78-6a64c46aa33f",
   "metadata": {},
   "outputs": [
    {
     "name": "stdin",
     "output_type": "stream",
     "text": [
      "Enter the length of the base:  8\n",
      "Enter the height of a triangle:  10\n"
     ]
    },
    {
     "name": "stdout",
     "output_type": "stream",
     "text": [
      " Base length of a traingle is 8.0\n",
      "Height of a traingle is 10.0\n",
      "Area of a triangle is %.1f 40.0\n"
     ]
    }
   ],
   "source": [
    "base_of_traingle = float(input(\"Enter the length of the base: \"))\n",
    "height_of_traingle = float(input(\"Enter the height of a triangle: \"))\n",
    "\n",
    "area_of_triangle = base_of_traingle * height_of_traingle / 2\n",
    "\n",
    "print(\" Base length of a traingle is %.1f\" % base_of_traingle)\n",
    "print(\"Height of a traingle is %.1f\" % height_of_traingle)\n",
    "print(\"Area of a triangle is %.1f\", area_of_triangle)"
   ]
  },
  {
   "cell_type": "markdown",
   "id": "52c7c9e8-4986-413c-a723-7d67a3b775dc",
   "metadata": {},
   "source": [
    "21. In the previous exercise you created a program that computed the area of a triangle\r\n",
    "when the length of its base and its height were known. It is also possible to compute\r\n",
    "the area of a triangle when the lengths of all three sides are known. Let s1, s2 and s3\r\n",
    "be the lengths of the sides. Let s = (s1 + s2 + s3)/2. Then the area of the triangle\r\n",
    "can be calculated using the following formula:\r\n",
    "area = \u0003s × (s − s1) × (s − s2) × (s − s3)\r\n",
    "Develop a program that reads the lengths of the sides of a triangle from the user and\r\n",
    "displays its area."
   ]
  },
  {
   "cell_type": "code",
   "execution_count": 13,
   "id": "46cc8cc4-8f95-4cb9-b2a7-13d49c6d1a76",
   "metadata": {},
   "outputs": [
    {
     "name": "stdin",
     "output_type": "stream",
     "text": [
      "Enter the value of s1:  9\n",
      "Enter the value of s2:  8\n",
      "Enter the value of s3:  9\n"
     ]
    },
    {
     "name": "stdout",
     "output_type": "stream",
     "text": [
      "Area of traingle is 32.25\n"
     ]
    }
   ],
   "source": [
    "from math import sqrt\n",
    "\n",
    "s1 = float(input(\"Enter the value of s1: \"))\n",
    "s2 = float(input(\"Enter the value of s2: \"))\n",
    "s3 = float(input(\"Enter the value of s3: \"))\n",
    "\n",
    "s = ( s1 + s2 + s3) / 2\n",
    "\n",
    "areaof_triangle = sqrt(s * (s - s1) * (s - s2) * (s - s3))\n",
    "\n",
    "print(\"Area of traingle is %.2f\" % areaof_triangle)"
   ]
  },
  {
   "cell_type": "markdown",
   "id": "8f423ca6-ab48-4800-8da5-d9fa199378d2",
   "metadata": {},
   "source": [
    "22. A polygon is regular if its sides are all the same length and the angles between all of\r\n",
    "the adjacent sides are equal. The area of a regular polygon can be computed using\r\n",
    "the following formula, where s is the length of a side and n is the number of side rea =\r\n",
    "n × s2\r\n",
    "4 × tan \u0004πn Write a program that reads s and n from the user and then displays the area of a\r\n",
    "regular polygon constructed from these values. \u0005s:"
   ]
  },
  {
   "cell_type": "code",
   "execution_count": 15,
   "id": "40d3f724-376f-4da8-8c3b-19908b73ceae",
   "metadata": {},
   "outputs": [
    {
     "name": "stdin",
     "output_type": "stream",
     "text": [
      "Enter the length of side:  6\n",
      "Enter the number of sides in polygon:  7\n"
     ]
    },
    {
     "name": "stdout",
     "output_type": "stream",
     "text": [
      "Area of polygon 30.34\n"
     ]
    }
   ],
   "source": [
    "from math import tan, pi\n",
    "\n",
    "side_length = float(input(\"Enter the length of side: \"))\n",
    "no_of_sides = int(input(\"Enter the number of sides in polygon: \"))\n",
    "\n",
    "area_of_polygon = no_of_sides * (side_length * side_length) / 4 * tan(pi / no_of_sides)\n",
    "\n",
    "print(\"Area of polygon %.2f\" % area_of_polygon)"
   ]
  },
  {
   "cell_type": "markdown",
   "id": "3361110f-2da2-4764-88b6-8fbb23916a59",
   "metadata": {},
   "source": [
    "23. Create a program that reads a duration from the user as a number of days, hours,\r\n",
    "minutes, and seconds. Compute and display the total number of seconds represented\r\n",
    "by this duration."
   ]
  },
  {
   "cell_type": "code",
   "execution_count": 16,
   "id": "fe0b8e5e-97bb-4f22-baf5-8142d12fdd7d",
   "metadata": {},
   "outputs": [
    {
     "name": "stdin",
     "output_type": "stream",
     "text": [
      "Enter the number of days:  3\n",
      "Enter the number of hours:  20\n",
      "Enter the number of minutes:  7\n",
      "Enter the number of second:  45\n"
     ]
    },
    {
     "name": "stdout",
     "output_type": "stream",
     "text": [
      "Total number of seconds: 331665\n"
     ]
    }
   ],
   "source": [
    "days = int(input(\"Enter the number of days: \"))\n",
    "hours = int(input(\"Enter the number of hours: \"))\n",
    "minutes = int(input(\"Enter the number of minutes: \"))\n",
    "second = int(input(\"Enter the number of second: \"))\n",
    "\n",
    "days_to_second = days * 24 * 60 * 60\n",
    "hour_to_second = hours * 60 * 60 \n",
    "minute_to_second = minutes * 60 \n",
    "\n",
    "total_second = days_to_second + hour_to_second + minute_to_second + second\n",
    "\n",
    "print(\"Total number of seconds:\", total_second)"
   ]
  },
  {
   "cell_type": "markdown",
   "id": "9a17d0d0-adcf-4a6e-a5a2-5752e9688995",
   "metadata": {},
   "source": [
    "24. In this exercise you will reverse the process described in the previous exercise.\r\n",
    "Develop a program that begins by reading a number of seconds from the user.\r\n",
    "Then your program should display the equivalent amount of time in the form\r\n",
    "D:HH:MM:SS, where D, HH, MM, and SS represent days, hours, minutes and seconds respectively. The hours, minutes and seconds should all be formatted so that\r\n",
    "they occupy exactly two digits, with a leading 0 displayed if necessary."
   ]
  },
  {
   "cell_type": "code",
   "execution_count": 18,
   "id": "5533ccde-6910-43a6-ae7b-a6d8bd1944e5",
   "metadata": {},
   "outputs": [
    {
     "name": "stdin",
     "output_type": "stream",
     "text": [
      "Enter the number of seconds 331665\n"
     ]
    },
    {
     "name": "stdout",
     "output_type": "stream",
     "text": [
      "The equivalent time is 3:20:07:45\n"
     ]
    }
   ],
   "source": [
    "seconds = int(input(\"Enter the number of seconds\"))\n",
    "\n",
    "seconds_to_day = seconds / 86400\n",
    "seconds = seconds % 86400\n",
    "\n",
    "seconds_to_hours = seconds / 3600\n",
    "seconds = seconds % 3600\n",
    "\n",
    "seconds_to_minutes = seconds / 60\n",
    "seconds = seconds % 60\n",
    "\n",
    "print(\"The equivalent time is\", \"%d:%02d:%02d:%02d\" % (seconds_to_day, seconds_to_hours, seconds_to_minutes, seconds))"
   ]
  },
  {
   "cell_type": "markdown",
   "id": "a671d629-0088-4435-a5c7-650aff129202",
   "metadata": {},
   "source": [
    "25. Python includes a library of functions for working with time, including a function\r\n",
    "called asctime in the time module. It reads the current time from the computer’s internal clock and returns it in a human-readable format. Write a program\r\n",
    "that displays the current time and date. Your program will not require any input from\r\n",
    "the user."
   ]
  },
  {
   "cell_type": "code",
   "execution_count": 3,
   "id": "6cdff3f3-f2e4-4b0f-a7fa-c9f491c2fd66",
   "metadata": {},
   "outputs": [
    {
     "name": "stdout",
     "output_type": "stream",
     "text": [
      "Thu Aug 10 17:58:39 2023\n"
     ]
    }
   ],
   "source": [
    "import time\n",
    "\n",
    "t = time.localtime()\n",
    "# print(t)\n",
    "\n",
    "print(\"%s\" % time.asctime(t))"
   ]
  },
  {
   "cell_type": "markdown",
   "id": "f7673c0a-f013-4878-b314-569eab3bcb29",
   "metadata": {},
   "source": [
    "26. Write a program that computes the body mass index (BMI) of an individual. Your\r\n",
    "program should begin by reading a height and weight from the user. Then it shoul use one of the following two formulas to compute the BMI before displaying it. If\r\n",
    "you read the height in inches and the weight in pounds then body mass index is\r\n",
    "computed using the following formula:\r\n",
    "BMI =\r\n",
    "weight\r\n",
    "height × height\r\n",
    "× 703.\r\n",
    "If you read the height in meters and the weight in kilograms then body mass index\r\n",
    "is computed using this slightly simpler formula:\r\n",
    "BMI =\r\n",
    "weight\r\n",
    "height × heightd"
   ]
  },
  {
   "cell_type": "code",
   "execution_count": 8,
   "id": "feee6225-b0f1-4e36-8ff8-3621adb0577c",
   "metadata": {},
   "outputs": [
    {
     "name": "stdin",
     "output_type": "stream",
     "text": [
      "Enter a body weight in kg:  60\n",
      "Enter a body height in m:  1.07\n"
     ]
    },
    {
     "name": "stdout",
     "output_type": "stream",
     "text": [
      "Your body mass index is: 60.00\n"
     ]
    }
   ],
   "source": [
    "body_weight = float(input(\"Enter a body weight in kg: \"))\n",
    "body_height = float(input(\"Enter a body height in m: \"))\n",
    "\n",
    "bmi = body_weight / body_height * body_height\n",
    "\n",
    "print(\"Your body mass index is: %.2f\" % bmi)"
   ]
  },
  {
   "cell_type": "markdown",
   "id": "6c9fd13b-7951-49ee-9dea-05b2ce379375",
   "metadata": {},
   "source": [
    "27. When the wind blows in cold weather, the air feels even colder than it actually is\r\n",
    "because the movement of the air increases the rate of cooling for warm objects, like\r\n",
    "people. This effect is known as wind chill.\r\n",
    "In 2001, Canada, the United Kingdom and the United States adopted the following formula for computing the wind chill index. Within the formula Ta is the\r\n",
    "air temperature in degrees Celsius and V is the wind speed in kilometers per hour.\r\n",
    "A similar formula with different constant values can be used with temperatures in\r\n",
    "degrees Fahrenheit and wind speeds in miles per hour.\r\n",
    "WCI = 13.12 + 0.6215Ta − 11.37V 0.16 + 0.3965TaV 0.16\r\n",
    "Write a program that begins by reading the air temperature and wind speed from the\r\n",
    "user. Once these values have been read your program should display the wind chill\r\n",
    "index rounded to the closest integer."
   ]
  },
  {
   "cell_type": "code",
   "execution_count": 9,
   "id": "4eb30ede-54f3-4f1e-b480-3ed528b3aef3",
   "metadata": {},
   "outputs": [
    {
     "name": "stdin",
     "output_type": "stream",
     "text": [
      "Enter the temperature in celsius 10\n",
      "Enter the wind speed in km/h 4.8\n"
     ]
    },
    {
     "name": "stdout",
     "output_type": "stream",
     "text": [
      "The wind chill index is 10\n"
     ]
    }
   ],
   "source": [
    "temperature = float(input(\"Enter the temperature in celsius\"))\n",
    "wind_speed = float(input(\"Enter the wind speed in km/h\"))\n",
    "\n",
    "WCI = 13.12 + 0.6215*temperature - 11.37*wind_speed**0.16 + 0.3965*temperature*wind_speed**0.16\n",
    "\n",
    "print(\"The wind chill index is\", round(WCI))"
   ]
  },
  {
   "cell_type": "markdown",
   "id": "cc52c677-35d2-4a25-8d27-db726a0634f1",
   "metadata": {},
   "source": [
    "28. Write a program that begins by reading a temperature from the user in degrees\r\n",
    "Celsius. Then your program should display the equivalent temperature in degrees\r\n",
    "Fahrenheit and degrees Kelvin. The calculations needed to convert between different\r\n",
    "units of temperature can be found on the internet."
   ]
  },
  {
   "cell_type": "code",
   "execution_count": 11,
   "id": "bf2dc42e-90f5-4846-87ee-b58c9bef3a2a",
   "metadata": {},
   "outputs": [
    {
     "name": "stdin",
     "output_type": "stream",
     "text": [
      "Enter a temperature in celsius:  32\n"
     ]
    },
    {
     "name": "stdout",
     "output_type": "stream",
     "text": [
      "Temperature in fahrenheit 89.6 ^f\n",
      "Temperature in kelvin 305.15 k\n"
     ]
    }
   ],
   "source": [
    "temp_in_celsius = float(input(\"Enter a temperature in celsius: \"))\n",
    "\n",
    "celsis_to_fahrenheit = (temp_in_celsius * 9/5) + 32\n",
    "\n",
    "celsis_to_kelvin = temp_in_celsius + 273.15\n",
    "\n",
    "print(\"Temperature in fahrenheit\" ,celsis_to_fahrenheit, \"^f\")\n",
    "print(\"Temperature in kelvin\" ,celsis_to_kelvin, \"k\")"
   ]
  },
  {
   "cell_type": "markdown",
   "id": "aa3275d5-a8b7-4d5b-a1da-7f62354d6b5b",
   "metadata": {},
   "source": [
    "29. In this exercise you will create a program that reads a pressure from the user in kilopascals. Once the pressure has been read your program should report the equivalent\r\n",
    "pressure in pounds per square inch, millimeters of mercury and atmospheres. Use\r\n",
    "your research skills to determine the conversion factors between these units."
   ]
  },
  {
   "cell_type": "code",
   "execution_count": 21,
   "id": "b580672b-79d8-442a-b8ba-86ff0f74c008",
   "metadata": {},
   "outputs": [
    {
     "name": "stdin",
     "output_type": "stream",
     "text": [
      "Enter a pressure in kilopascels:  6\n"
     ]
    },
    {
     "name": "stdout",
     "output_type": "stream",
     "text": [
      "Pressure in Pounds per square inch: 0.8701957940536621\n",
      "Pressure in milimeters of mercury: 45.006\n",
      "Pressure in atmosphere: 0.059230009871668314\n"
     ]
    }
   ],
   "source": [
    "pressure = float(input(\"Enter a pressure in kilopascels: \"))\n",
    "\n",
    "pressure_in_pounds = pressure / 6.895\n",
    "\n",
    "pressure_in_milimeters = pressure * 7.501\n",
    "\n",
    "pressure_in_atmosphere = pressure / 101.3\n",
    "\n",
    "print(\"Pressure in Pounds per square inch:\", pressure_in_pounds)\n",
    "print(\"Pressure in milimeters of mercury:\", pressure_in_milimeters)\n",
    "print(\"Pressure in atmosphere:\", pressure_in_atmosphere)"
   ]
  },
  {
   "cell_type": "markdown",
   "id": "8d40e1a1-8350-486a-aaf7-2cb6d7c57fdb",
   "metadata": {},
   "source": [
    "30. Develop a program that reads a four-digit integer from the user and displays the sum\r\n",
    "of the digits in the number. For example, if the user enters 3141 then your program\r\n",
    "should display 3+1+4+1=9."
   ]
  },
  {
   "cell_type": "code",
   "execution_count": 19,
   "id": "e7b5048c-5141-4611-a468-e2501f212bcf",
   "metadata": {},
   "outputs": [
    {
     "name": "stdin",
     "output_type": "stream",
     "text": [
      "Enter a 4 digit number:  3141\n"
     ]
    },
    {
     "ename": "TypeError",
     "evalue": "'int' object is not subscriptable",
     "output_type": "error",
     "traceback": [
      "\u001b[1;31m---------------------------------------------------------------------------\u001b[0m",
      "\u001b[1;31mTypeError\u001b[0m                                 Traceback (most recent call last)",
      "Cell \u001b[1;32mIn[19], line 3\u001b[0m\n\u001b[0;32m      1\u001b[0m number \u001b[38;5;241m=\u001b[39m \u001b[38;5;28mint\u001b[39m(\u001b[38;5;28minput\u001b[39m(\u001b[38;5;124m\"\u001b[39m\u001b[38;5;124mEnter a 4 digit number: \u001b[39m\u001b[38;5;124m\"\u001b[39m))\n\u001b[1;32m----> 3\u001b[0m sum_of_number \u001b[38;5;241m=\u001b[39m \u001b[43mnumber\u001b[49m\u001b[43m[\u001b[49m\u001b[38;5;241;43m0\u001b[39;49m\u001b[43m:\u001b[49m\u001b[38;5;241;43m4\u001b[39;49m\u001b[43m]\u001b[49m\n\u001b[0;32m      5\u001b[0m \u001b[38;5;28mprint\u001b[39m(\u001b[38;5;124m\"\u001b[39m\u001b[38;5;124mSum of entered number is:\u001b[39m\u001b[38;5;124m\"\u001b[39m, sum_of_number)\n",
      "\u001b[1;31mTypeError\u001b[0m: 'int' object is not subscriptable"
     ]
    }
   ],
   "source": [
    "number = int(input(\"Enter a 4 digit number: \"))\n",
    "\n",
    "sum_of_number = number[0:4]\n",
    "\n",
    "print(\"Sum of entered number is:\", sum_of_number)"
   ]
  },
  {
   "cell_type": "markdown",
   "id": "0e14b3bc-7851-41e2-bc83-a73c91bb8337",
   "metadata": {},
   "source": [
    "31. Create a program that reads three integers from the user and displays them in sorted\r\n",
    "order (from smallest to largest). Use the min and max functions to find the smallest\r\n",
    "and largest values. The middle value can be found by computing the sum of all three\r\n",
    "values, and then subtracting the minimum value and the maximum value."
   ]
  },
  {
   "cell_type": "code",
   "execution_count": 16,
   "id": "a93232b9-77fc-4b14-b1d2-0ec84694700a",
   "metadata": {},
   "outputs": [
    {
     "name": "stdin",
     "output_type": "stream",
     "text": [
      "Enter the first value 6\n",
      "Enter the second value 4\n",
      "Enter the third value 5\n"
     ]
    },
    {
     "name": "stdout",
     "output_type": "stream",
     "text": [
      "4 5 6\n"
     ]
    }
   ],
   "source": [
    "value1 = int(input(\"Enter the first value\"))\n",
    "value2 = int(input(\"Enter the second value\"))\n",
    "value3 = int(input(\"Enter the third value\"))\n",
    "\n",
    "min_value = min(value1, value2, value3)\n",
    "max_value = max(value1, value2, value3)\n",
    "middle_value = value1 + value2 + value3 -min_value -max_value\n",
    "\n",
    "print(min_value, middle_value, max_value)"
   ]
  },
  {
   "cell_type": "markdown",
   "id": "c03bd146-965c-4f5b-ad66-014a29bec430",
   "metadata": {},
   "source": [
    "32. A bakery sells loaves of bread for $3.49 each. Day old bread is discounted by 60\r\n",
    "percent. Write a program that begins by reading the number of loaves of day old\r\n",
    "bread being purchased from the user. Then your program should display the regular\r\n",
    "price for the bread, the discount because it is a day old, and the total price. All of the\r\n",
    "values should be displayed using two decimal places, and the decimal points in all\r\n",
    "of the numbers should be aligned when reasonable values are entered by the user."
   ]
  },
  {
   "cell_type": "code",
   "execution_count": 15,
   "id": "7659ee37-3fa0-4ad3-8d6e-efb369a36ee1",
   "metadata": {},
   "outputs": [
    {
     "name": "stdin",
     "output_type": "stream",
     "text": [
      "Enter the number of bread purchased:  40\n"
     ]
    },
    {
     "name": "stdout",
     "output_type": "stream",
     "text": [
      "Total: $139.60\n",
      "Discount: $83.76\n",
      "========================================\n",
      "Grand Total: $55.84\n"
     ]
    }
   ],
   "source": [
    "bread_purchased = int(input(\"Enter the number of bread purchased: \"))\n",
    "\n",
    "regular_price = 3.49\n",
    "\n",
    "discount = 60\n",
    "\n",
    "total = regular_price * bread_purchased\n",
    "discount_price = total * discount / 100\n",
    "total_price = total - discount_price\n",
    "\n",
    "print(\"Total: $%.2f\" % total)\n",
    "print(\"Discount: $%.2f\" % discount_price)\n",
    "print(\"=\"*40)\n",
    "print(\"Grand Total: $%.2f\" % total_price)"
   ]
  },
  {
   "cell_type": "code",
   "execution_count": null,
   "id": "9e63025a-7806-4a12-8b45-d073bf86cb4a",
   "metadata": {},
   "outputs": [],
   "source": []
  }
 ],
 "metadata": {
  "kernelspec": {
   "display_name": "Python 3 (ipykernel)",
   "language": "python",
   "name": "python3"
  },
  "language_info": {
   "codemirror_mode": {
    "name": "ipython",
    "version": 3
   },
   "file_extension": ".py",
   "mimetype": "text/x-python",
   "name": "python",
   "nbconvert_exporter": "python",
   "pygments_lexer": "ipython3",
   "version": "3.11.1"
  }
 },
 "nbformat": 4,
 "nbformat_minor": 5
}
