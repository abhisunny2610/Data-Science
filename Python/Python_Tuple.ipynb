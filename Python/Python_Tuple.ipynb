{
 "cells": [
  {
   "cell_type": "markdown",
   "id": "0c6ada3d-9c96-4438-aeef-75d711936ee6",
   "metadata": {},
   "source": [
    "## Python Tuple\n",
    "\n",
    "Tuples are used to store multiple items in a single variable.\n",
    "\n",
    "A tuple is a collection which is ordered and `unchangeable`\n",
    "\n",
    "Tuple allow duplicates.\n",
    "\n",
    "Tuples are written in round brackets."
   ]
  },
  {
   "cell_type": "code",
   "execution_count": 3,
   "id": "a5a54545-a925-443b-b195-8a04e0aad43a",
   "metadata": {},
   "outputs": [
    {
     "name": "stdout",
     "output_type": "stream",
     "text": [
      "('Abhishek', 'Hanish', 'Manish', 'Aman', 'Anuj', 'Harshit')\n"
     ]
    }
   ],
   "source": [
    "## creating a tuple\n",
    "\n",
    "thistuple = (\"Abhishek\", \"Hanish\", \"Manish\", \"Aman\", \"Anuj\", \"Harshit\")\n",
    "\n",
    "print(thistuple)"
   ]
  },
  {
   "cell_type": "code",
   "execution_count": 4,
   "id": "c4d28714-b8d6-443a-974e-6c2f389b4a70",
   "metadata": {},
   "outputs": [
    {
     "name": "stdout",
     "output_type": "stream",
     "text": [
      "<class 'tuple'>\n"
     ]
    }
   ],
   "source": [
    "## type of a tuple\n",
    "\n",
    "print(type(thistuple))"
   ]
  },
  {
   "cell_type": "code",
   "execution_count": 19,
   "id": "c314405b-c213-41a6-ab52-1f8f4c8e00f5",
   "metadata": {},
   "outputs": [
    {
     "name": "stdout",
     "output_type": "stream",
     "text": [
      "6\n"
     ]
    }
   ],
   "source": [
    "## length of a tuple\n",
    "\n",
    "print(len(thistuple))"
   ]
  },
  {
   "cell_type": "code",
   "execution_count": 22,
   "id": "887f66b5-7719-48d2-b32e-54c1a39be810",
   "metadata": {},
   "outputs": [
    {
     "name": "stdout",
     "output_type": "stream",
     "text": [
      "1\n"
     ]
    }
   ],
   "source": [
    "print(thistuple.count(\"Abhishek\"))"
   ]
  },
  {
   "cell_type": "markdown",
   "id": "132a8f5f-98de-49cf-bf4a-9c814eefb1d7",
   "metadata": {},
   "source": [
    "### Access Tuple Item"
   ]
  },
  {
   "cell_type": "code",
   "execution_count": 6,
   "id": "39c07b11-f5af-4243-97a0-983f0f59bea0",
   "metadata": {},
   "outputs": [
    {
     "data": {
      "text/plain": [
       "('Abhishek', 'Hanish', 'Manish', 'Aman', 'Anuj', 'Harshit')"
      ]
     },
     "execution_count": 6,
     "metadata": {},
     "output_type": "execute_result"
    }
   ],
   "source": [
    "thistuple"
   ]
  },
  {
   "cell_type": "code",
   "execution_count": 7,
   "id": "d0666788-0276-4429-9efa-45c26d352edc",
   "metadata": {},
   "outputs": [
    {
     "name": "stdout",
     "output_type": "stream",
     "text": [
      "Manish\n"
     ]
    }
   ],
   "source": [
    "print(thistuple[2])"
   ]
  },
  {
   "cell_type": "code",
   "execution_count": 8,
   "id": "8039d7d6-d56b-42a9-acca-5628cb72a3de",
   "metadata": {},
   "outputs": [
    {
     "name": "stdout",
     "output_type": "stream",
     "text": [
      "Harshit\n"
     ]
    }
   ],
   "source": [
    "## negative indexing\n",
    "\n",
    "print(thistuple[-1])"
   ]
  },
  {
   "cell_type": "code",
   "execution_count": 9,
   "id": "6ba3e920-e19f-447c-9c70-43bf453f1cfe",
   "metadata": {},
   "outputs": [
    {
     "name": "stdout",
     "output_type": "stream",
     "text": [
      "('Manish', 'Aman', 'Anuj', 'Harshit')\n"
     ]
    }
   ],
   "source": [
    "## Rangle of indexes\n",
    "\n",
    "print(thistuple[2:6])"
   ]
  },
  {
   "cell_type": "code",
   "execution_count": 10,
   "id": "fa3f6bea-3878-4d58-87e7-fd225f3abf08",
   "metadata": {},
   "outputs": [
    {
     "name": "stdout",
     "output_type": "stream",
     "text": [
      "Yes, Abhishek is present in the tuple\n"
     ]
    }
   ],
   "source": [
    "## Check if item exists\n",
    "\n",
    "if \"Abhishek\" in thistuple:\n",
    "    print(\"Yes, Abhishek is present in the tuple\")\n",
    "\n"
   ]
  },
  {
   "cell_type": "markdown",
   "id": "8a1f2210-ecb0-40a7-8336-6e87bd0aaa61",
   "metadata": {},
   "source": [
    "## Update Tuple Value\n",
    "\n",
    "Tuples are unchangeable, meaning that you cannot change, add, or remove items once tuple is created.\n",
    "\n",
    "But there are some workaround. You can convert the tuple into a list, change a list, and convert into a list back to tuple\n",
    "\n"
   ]
  },
  {
   "cell_type": "code",
   "execution_count": 14,
   "id": "fca050fc-8fff-4557-81bc-b1f801e9e9b2",
   "metadata": {},
   "outputs": [
    {
     "name": "stdout",
     "output_type": "stream",
     "text": [
      "<class 'list'>\n",
      "['Abhishek', 'Hanish', 'Manish', 'Aman', 'Anuj', 'Harshit']\n",
      "['Abhishek', 'Hanish', 'Manisha', 'Aman', 'Anuj', 'Harshit']\n",
      "This tuple type:  <class 'tuple'>\n",
      "('Abhishek', 'Hanish', 'Manisha', 'Aman', 'Anuj', 'Harshit')\n"
     ]
    }
   ],
   "source": [
    "## Convert a tuple to change the value\n",
    "\n",
    "thistuple\n",
    "\n",
    "thislist = list(thistuple)\n",
    "\n",
    "print(type(thislist))\n",
    "\n",
    "print(thislist)\n",
    "\n",
    "thislist[2] = \"Manisha\"\n",
    "\n",
    "print(thislist)\n",
    "\n",
    "thistuple = tuple(thislist)\n",
    "\n",
    "print(\"This tuple type: \" ,type(thistuple))\n",
    "print(thistuple)"
   ]
  },
  {
   "cell_type": "markdown",
   "id": "ce2b366f-b46c-414e-ace9-114a6d47095e",
   "metadata": {},
   "source": [
    "## Unpcking a tuple\n",
    "\n",
    "When we create a tuple, we normally assign values to it. This is called `packing` a tuple.\n",
    "\n",
    "But, in Python, we are also allowed to extract the values back into variables. This is called `unpacking`."
   ]
  },
  {
   "cell_type": "code",
   "execution_count": 15,
   "id": "6c6cdc43-8034-40f2-be0e-1095112e2968",
   "metadata": {},
   "outputs": [],
   "source": [
    "## Example\n",
    "\n",
    "fruits = (\"Apple\", \"Mango\", \"Graphes\")"
   ]
  },
  {
   "cell_type": "code",
   "execution_count": 16,
   "id": "d11ea682-269b-4536-b6f3-e9012600fa52",
   "metadata": {},
   "outputs": [
    {
     "name": "stdout",
     "output_type": "stream",
     "text": [
      "Apple\n",
      "Mango\n",
      "Graphes\n"
     ]
    }
   ],
   "source": [
    "(red, yellow, green) = fruits\n",
    "\n",
    "print(red)\n",
    "print(yellow)\n",
    "print(green)"
   ]
  },
  {
   "cell_type": "code",
   "execution_count": 17,
   "id": "b747794f-7157-4112-a011-efe520fd97b9",
   "metadata": {},
   "outputs": [
    {
     "name": "stdout",
     "output_type": "stream",
     "text": [
      "apple\n",
      "banana\n",
      "['cherry', 'strawberry', 'raspberry']\n"
     ]
    }
   ],
   "source": [
    "## Using Asterisk*\n",
    "## If the number of variables is less than the number of values, you can add an * to the variable name and the values will be assigned to the variable as a list:\n",
    "\n",
    "fruit =(\"apple\", \"banana\", \"cherry\", \"strawberry\", \"raspberry\")\n",
    "\n",
    "(green, yellow, *red) = fruit\n",
    "\n",
    "print(green)\n",
    "print(yellow)\n",
    "print(red)"
   ]
  },
  {
   "cell_type": "code",
   "execution_count": 1,
   "id": "461ce696-9cdb-417f-a190-b85194f8116d",
   "metadata": {},
   "outputs": [
    {
     "name": "stdout",
     "output_type": "stream",
     "text": [
      "Help on class tuple in module builtins:\n",
      "\n",
      "class tuple(object)\n",
      " |  tuple(iterable=(), /)\n",
      " |  \n",
      " |  Built-in immutable sequence.\n",
      " |  \n",
      " |  If no argument is given, the constructor returns an empty tuple.\n",
      " |  If iterable is specified the tuple is initialized from iterable's items.\n",
      " |  \n",
      " |  If the argument is a tuple, the return value is the same object.\n",
      " |  \n",
      " |  Built-in subclasses:\n",
      " |      asyncgen_hooks\n",
      " |      UnraisableHookArgs\n",
      " |  \n",
      " |  Methods defined here:\n",
      " |  \n",
      " |  __add__(self, value, /)\n",
      " |      Return self+value.\n",
      " |  \n",
      " |  __contains__(self, key, /)\n",
      " |      Return key in self.\n",
      " |  \n",
      " |  __eq__(self, value, /)\n",
      " |      Return self==value.\n",
      " |  \n",
      " |  __ge__(self, value, /)\n",
      " |      Return self>=value.\n",
      " |  \n",
      " |  __getattribute__(self, name, /)\n",
      " |      Return getattr(self, name).\n",
      " |  \n",
      " |  __getitem__(self, key, /)\n",
      " |      Return self[key].\n",
      " |  \n",
      " |  __getnewargs__(self, /)\n",
      " |  \n",
      " |  __gt__(self, value, /)\n",
      " |      Return self>value.\n",
      " |  \n",
      " |  __hash__(self, /)\n",
      " |      Return hash(self).\n",
      " |  \n",
      " |  __iter__(self, /)\n",
      " |      Implement iter(self).\n",
      " |  \n",
      " |  __le__(self, value, /)\n",
      " |      Return self<=value.\n",
      " |  \n",
      " |  __len__(self, /)\n",
      " |      Return len(self).\n",
      " |  \n",
      " |  __lt__(self, value, /)\n",
      " |      Return self<value.\n",
      " |  \n",
      " |  __mul__(self, value, /)\n",
      " |      Return self*value.\n",
      " |  \n",
      " |  __ne__(self, value, /)\n",
      " |      Return self!=value.\n",
      " |  \n",
      " |  __repr__(self, /)\n",
      " |      Return repr(self).\n",
      " |  \n",
      " |  __rmul__(self, value, /)\n",
      " |      Return value*self.\n",
      " |  \n",
      " |  count(self, value, /)\n",
      " |      Return number of occurrences of value.\n",
      " |  \n",
      " |  index(self, value, start=0, stop=9223372036854775807, /)\n",
      " |      Return first index of value.\n",
      " |      \n",
      " |      Raises ValueError if the value is not present.\n",
      " |  \n",
      " |  ----------------------------------------------------------------------\n",
      " |  Class methods defined here:\n",
      " |  \n",
      " |  __class_getitem__(...) from builtins.type\n",
      " |      See PEP 585\n",
      " |  \n",
      " |  ----------------------------------------------------------------------\n",
      " |  Static methods defined here:\n",
      " |  \n",
      " |  __new__(*args, **kwargs) from builtins.type\n",
      " |      Create and return a new object.  See help(type) for accurate signature.\n",
      "\n"
     ]
    }
   ],
   "source": [
    "help(tuple)"
   ]
  },
  {
   "cell_type": "code",
   "execution_count": null,
   "id": "fba2f62c-d343-42f1-8f8c-c1c4f115f068",
   "metadata": {},
   "outputs": [],
   "source": []
  }
 ],
 "metadata": {
  "kernelspec": {
   "display_name": "Python 3 (ipykernel)",
   "language": "python",
   "name": "python3"
  },
  "language_info": {
   "codemirror_mode": {
    "name": "ipython",
    "version": 3
   },
   "file_extension": ".py",
   "mimetype": "text/x-python",
   "name": "python",
   "nbconvert_exporter": "python",
   "pygments_lexer": "ipython3",
   "version": "3.11.1"
  }
 },
 "nbformat": 4,
 "nbformat_minor": 5
}
