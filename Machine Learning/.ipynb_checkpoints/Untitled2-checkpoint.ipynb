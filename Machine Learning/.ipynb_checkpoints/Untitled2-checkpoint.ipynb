{
 "cells": [
  {
   "cell_type": "code",
   "execution_count": 1,
   "id": "9cb60e64-118c-40ff-84b2-fa01c4d4658b",
   "metadata": {},
   "outputs": [],
   "source": [
    "import numpy as np\n",
    "import pandas as pd\n",
    "from sklearn.preprocessing import OrdinalEncoder"
   ]
  },
  {
   "cell_type": "code",
   "execution_count": 2,
   "id": "3b8dd1ac-1905-4c7e-bed8-42d9389d453c",
   "metadata": {},
   "outputs": [],
   "source": [
    "df = pd.read_csv(\"../Dataset/bike_buyers_clean.csv\")"
   ]
  },
  {
   "cell_type": "code",
   "execution_count": 3,
   "id": "61f31e38-0ff7-451a-acfd-8c7e337605b1",
   "metadata": {},
   "outputs": [
    {
     "data": {
      "text/html": [
       "<div>\n",
       "<style scoped>\n",
       "    .dataframe tbody tr th:only-of-type {\n",
       "        vertical-align: middle;\n",
       "    }\n",
       "\n",
       "    .dataframe tbody tr th {\n",
       "        vertical-align: top;\n",
       "    }\n",
       "\n",
       "    .dataframe thead th {\n",
       "        text-align: right;\n",
       "    }\n",
       "</style>\n",
       "<table border=\"1\" class=\"dataframe\">\n",
       "  <thead>\n",
       "    <tr style=\"text-align: right;\">\n",
       "      <th></th>\n",
       "      <th>ID</th>\n",
       "      <th>Marital Status</th>\n",
       "      <th>Gender</th>\n",
       "      <th>Income</th>\n",
       "      <th>Children</th>\n",
       "      <th>Education</th>\n",
       "      <th>Occupation</th>\n",
       "      <th>Home Owner</th>\n",
       "      <th>Cars</th>\n",
       "      <th>Commute Distance</th>\n",
       "      <th>Region</th>\n",
       "      <th>Age</th>\n",
       "      <th>Purchased Bike</th>\n",
       "    </tr>\n",
       "  </thead>\n",
       "  <tbody>\n",
       "    <tr>\n",
       "      <th>0</th>\n",
       "      <td>12496</td>\n",
       "      <td>Married</td>\n",
       "      <td>Female</td>\n",
       "      <td>40000</td>\n",
       "      <td>1</td>\n",
       "      <td>Bachelors</td>\n",
       "      <td>Skilled Manual</td>\n",
       "      <td>Yes</td>\n",
       "      <td>0</td>\n",
       "      <td>0-1 Miles</td>\n",
       "      <td>Europe</td>\n",
       "      <td>42</td>\n",
       "      <td>No</td>\n",
       "    </tr>\n",
       "    <tr>\n",
       "      <th>1</th>\n",
       "      <td>24107</td>\n",
       "      <td>Married</td>\n",
       "      <td>Male</td>\n",
       "      <td>30000</td>\n",
       "      <td>3</td>\n",
       "      <td>Partial College</td>\n",
       "      <td>Clerical</td>\n",
       "      <td>Yes</td>\n",
       "      <td>1</td>\n",
       "      <td>0-1 Miles</td>\n",
       "      <td>Europe</td>\n",
       "      <td>43</td>\n",
       "      <td>No</td>\n",
       "    </tr>\n",
       "    <tr>\n",
       "      <th>2</th>\n",
       "      <td>14177</td>\n",
       "      <td>Married</td>\n",
       "      <td>Male</td>\n",
       "      <td>80000</td>\n",
       "      <td>5</td>\n",
       "      <td>Partial College</td>\n",
       "      <td>Professional</td>\n",
       "      <td>No</td>\n",
       "      <td>2</td>\n",
       "      <td>2-5 Miles</td>\n",
       "      <td>Europe</td>\n",
       "      <td>60</td>\n",
       "      <td>No</td>\n",
       "    </tr>\n",
       "    <tr>\n",
       "      <th>3</th>\n",
       "      <td>24381</td>\n",
       "      <td>Single</td>\n",
       "      <td>Male</td>\n",
       "      <td>70000</td>\n",
       "      <td>0</td>\n",
       "      <td>Bachelors</td>\n",
       "      <td>Professional</td>\n",
       "      <td>Yes</td>\n",
       "      <td>1</td>\n",
       "      <td>5-10 Miles</td>\n",
       "      <td>Pacific</td>\n",
       "      <td>41</td>\n",
       "      <td>Yes</td>\n",
       "    </tr>\n",
       "    <tr>\n",
       "      <th>4</th>\n",
       "      <td>25597</td>\n",
       "      <td>Single</td>\n",
       "      <td>Male</td>\n",
       "      <td>30000</td>\n",
       "      <td>0</td>\n",
       "      <td>Bachelors</td>\n",
       "      <td>Clerical</td>\n",
       "      <td>No</td>\n",
       "      <td>0</td>\n",
       "      <td>0-1 Miles</td>\n",
       "      <td>Europe</td>\n",
       "      <td>36</td>\n",
       "      <td>Yes</td>\n",
       "    </tr>\n",
       "  </tbody>\n",
       "</table>\n",
       "</div>"
      ],
      "text/plain": [
       "      ID Marital Status  Gender  Income  Children        Education  \\\n",
       "0  12496        Married  Female   40000         1        Bachelors   \n",
       "1  24107        Married    Male   30000         3  Partial College   \n",
       "2  14177        Married    Male   80000         5  Partial College   \n",
       "3  24381         Single    Male   70000         0        Bachelors   \n",
       "4  25597         Single    Male   30000         0        Bachelors   \n",
       "\n",
       "       Occupation Home Owner  Cars Commute Distance   Region  Age  \\\n",
       "0  Skilled Manual        Yes     0        0-1 Miles   Europe   42   \n",
       "1        Clerical        Yes     1        0-1 Miles   Europe   43   \n",
       "2    Professional         No     2        2-5 Miles   Europe   60   \n",
       "3    Professional        Yes     1       5-10 Miles  Pacific   41   \n",
       "4        Clerical         No     0        0-1 Miles   Europe   36   \n",
       "\n",
       "  Purchased Bike  \n",
       "0             No  \n",
       "1             No  \n",
       "2             No  \n",
       "3            Yes  \n",
       "4            Yes  "
      ]
     },
     "execution_count": 3,
     "metadata": {},
     "output_type": "execute_result"
    }
   ],
   "source": [
    "df.head()"
   ]
  },
  {
   "cell_type": "code",
   "execution_count": 20,
   "id": "fb3d0680-f1b0-44a3-9251-04a6904300ce",
   "metadata": {},
   "outputs": [],
   "source": [
    "ordinal_encoder = OrdinalEncoder()"
   ]
  },
  {
   "cell_type": "code",
   "execution_count": 21,
   "id": "e4e9b852-75a6-4bd3-a2e1-10349fb34ff9",
   "metadata": {},
   "outputs": [],
   "source": [
    "new_df = ordinal_encoder.fit_transform(df[\"Education\"].to_numpy().reshape(-1,1))\n"
   ]
  },
  {
   "cell_type": "code",
   "execution_count": 30,
   "id": "dbdcbe0a-58fd-4898-98b7-8cae7d5421ae",
   "metadata": {},
   "outputs": [],
   "source": [
    "edu_df = pd.DataFrame({\n",
    "    \"Education\" : df.Education,\n",
    "    \"Edu_encode\" : new_df.flatten()\n",
    "})"
   ]
  },
  {
   "cell_type": "code",
   "execution_count": 33,
   "id": "04e7fc3e-5d87-4090-9830-1be9ad86a9a2",
   "metadata": {},
   "outputs": [],
   "source": [
    "edu_group =edu_df.groupby(edu_df.Education)"
   ]
  },
  {
   "cell_type": "code",
   "execution_count": 40,
   "id": "1cd2d41c-c6ba-405c-8ad5-f144974602a6",
   "metadata": {},
   "outputs": [
    {
     "data": {
      "text/html": [
       "<div>\n",
       "<style scoped>\n",
       "    .dataframe tbody tr th:only-of-type {\n",
       "        vertical-align: middle;\n",
       "    }\n",
       "\n",
       "    .dataframe tbody tr th {\n",
       "        vertical-align: top;\n",
       "    }\n",
       "\n",
       "    .dataframe thead th {\n",
       "        text-align: right;\n",
       "    }\n",
       "</style>\n",
       "<table border=\"1\" class=\"dataframe\">\n",
       "  <thead>\n",
       "    <tr style=\"text-align: right;\">\n",
       "      <th></th>\n",
       "      <th>Education</th>\n",
       "      <th>Edu_encode</th>\n",
       "    </tr>\n",
       "  </thead>\n",
       "  <tbody>\n",
       "    <tr>\n",
       "      <th>0</th>\n",
       "      <td>Bachelors</td>\n",
       "      <td>0.0</td>\n",
       "    </tr>\n",
       "    <tr>\n",
       "      <th>3</th>\n",
       "      <td>Bachelors</td>\n",
       "      <td>0.0</td>\n",
       "    </tr>\n",
       "    <tr>\n",
       "      <th>4</th>\n",
       "      <td>Bachelors</td>\n",
       "      <td>0.0</td>\n",
       "    </tr>\n",
       "    <tr>\n",
       "      <th>7</th>\n",
       "      <td>Bachelors</td>\n",
       "      <td>0.0</td>\n",
       "    </tr>\n",
       "    <tr>\n",
       "      <th>11</th>\n",
       "      <td>Bachelors</td>\n",
       "      <td>0.0</td>\n",
       "    </tr>\n",
       "    <tr>\n",
       "      <th>...</th>\n",
       "      <td>...</td>\n",
       "      <td>...</td>\n",
       "    </tr>\n",
       "    <tr>\n",
       "      <th>985</th>\n",
       "      <td>Bachelors</td>\n",
       "      <td>0.0</td>\n",
       "    </tr>\n",
       "    <tr>\n",
       "      <th>988</th>\n",
       "      <td>Bachelors</td>\n",
       "      <td>0.0</td>\n",
       "    </tr>\n",
       "    <tr>\n",
       "      <th>989</th>\n",
       "      <td>Bachelors</td>\n",
       "      <td>0.0</td>\n",
       "    </tr>\n",
       "    <tr>\n",
       "      <th>997</th>\n",
       "      <td>Bachelors</td>\n",
       "      <td>0.0</td>\n",
       "    </tr>\n",
       "    <tr>\n",
       "      <th>998</th>\n",
       "      <td>Bachelors</td>\n",
       "      <td>0.0</td>\n",
       "    </tr>\n",
       "  </tbody>\n",
       "</table>\n",
       "<p>306 rows × 2 columns</p>\n",
       "</div>"
      ],
      "text/plain": [
       "     Education  Edu_encode\n",
       "0    Bachelors         0.0\n",
       "3    Bachelors         0.0\n",
       "4    Bachelors         0.0\n",
       "7    Bachelors         0.0\n",
       "11   Bachelors         0.0\n",
       "..         ...         ...\n",
       "985  Bachelors         0.0\n",
       "988  Bachelors         0.0\n",
       "989  Bachelors         0.0\n",
       "997  Bachelors         0.0\n",
       "998  Bachelors         0.0\n",
       "\n",
       "[306 rows x 2 columns]"
      ]
     },
     "execution_count": 40,
     "metadata": {},
     "output_type": "execute_result"
    }
   ],
   "source": [
    "edu_group.get_group(\"Bachelors\")"
   ]
  },
  {
   "cell_type": "code",
   "execution_count": 85,
   "id": "26894079-6ad6-4dc1-82db-dd332c73db34",
   "metadata": {},
   "outputs": [],
   "source": [
    "edu_dist = {}\n",
    "\n",
    "for ed in df[\"Education\"].unique():\n",
    "       edu_dist[ed] =  edu_group.get_group(ed).reset_index().loc[0,\"Edu_encode\"]"
   ]
  },
  {
   "cell_type": "code",
   "execution_count": 86,
   "id": "cdfea47c-4892-461a-961f-e0efc7097c18",
   "metadata": {},
   "outputs": [
    {
     "data": {
      "text/plain": [
       "{'Bachelors': 0.0,\n",
       " 'Partial College': 3.0,\n",
       " 'High School': 2.0,\n",
       " 'Partial High School': 4.0,\n",
       " 'Graduate Degree': 1.0}"
      ]
     },
     "execution_count": 86,
     "metadata": {},
     "output_type": "execute_result"
    }
   ],
   "source": [
    "edu_dist"
   ]
  },
  {
   "cell_type": "code",
   "execution_count": 88,
   "id": "4e66b9f6-2a40-40bb-a545-f7e8de99b5e4",
   "metadata": {},
   "outputs": [
    {
     "data": {
      "text/plain": [
       "array(['Bachelors', 'Partial College', 'High School',\n",
       "       'Partial High School', 'Graduate Degree'], dtype=object)"
      ]
     },
     "execution_count": 88,
     "metadata": {},
     "output_type": "execute_result"
    }
   ],
   "source": [
    "df.Education.unique()"
   ]
  },
  {
   "cell_type": "code",
   "execution_count": 90,
   "id": "f211cd09-a773-4e4c-b29f-6ff71fa03e9b",
   "metadata": {},
   "outputs": [
    {
     "data": {
      "text/plain": [
       "array(['Partial High School', 'High School', 'Partial College',\n",
       "       'Bachelors', 'Graduate Degree'], dtype=object)"
      ]
     },
     "execution_count": 90,
     "metadata": {},
     "output_type": "execute_result"
    }
   ],
   "source": [
    "df.Education.unique()[[3,2,1,0,4]]"
   ]
  },
  {
   "cell_type": "code",
   "execution_count": 115,
   "id": "91b58a06-43c4-41fc-8371-f2801c1d538d",
   "metadata": {},
   "outputs": [],
   "source": [
    "col = [i[0] for i in df.Education.unique()[[3,2,1,0,4]].reshape(-1,1)]\n",
    "enc = OrdinalEncoder(categories=[col])"
   ]
  },
  {
   "cell_type": "code",
   "execution_count": 116,
   "id": "44087ea3-4cf5-42df-bb6c-6926dd7d772d",
   "metadata": {},
   "outputs": [
    {
     "data": {
      "text/plain": [
       "[['Partial High School',\n",
       "  'High School',\n",
       "  'Partial College',\n",
       "  'Bachelors',\n",
       "  'Graduate Degree']]"
      ]
     },
     "execution_count": 116,
     "metadata": {},
     "output_type": "execute_result"
    }
   ],
   "source": [
    "[col]"
   ]
  },
  {
   "cell_type": "code",
   "execution_count": 118,
   "id": "800aee6f-737a-448f-99cb-593c8b17604f",
   "metadata": {},
   "outputs": [],
   "source": [
    "tf_ed = enc.fit_transform(df.Education.to_numpy().reshape(-1,1))"
   ]
  },
  {
   "cell_type": "code",
   "execution_count": 119,
   "id": "1b1a9c88-565a-4273-a183-7651119b1cbd",
   "metadata": {},
   "outputs": [],
   "source": [
    "edu_df = pd.DataFrame({\n",
    "    \"Education\" : df.Education,\n",
    "    \"Edu_encode\" : tf_ed.flatten()\n",
    "})"
   ]
  },
  {
   "cell_type": "code",
   "execution_count": 120,
   "id": "7039eabf-1a86-459f-a951-81e32dfa58c9",
   "metadata": {},
   "outputs": [
    {
     "data": {
      "text/html": [
       "<div>\n",
       "<style scoped>\n",
       "    .dataframe tbody tr th:only-of-type {\n",
       "        vertical-align: middle;\n",
       "    }\n",
       "\n",
       "    .dataframe tbody tr th {\n",
       "        vertical-align: top;\n",
       "    }\n",
       "\n",
       "    .dataframe thead th {\n",
       "        text-align: right;\n",
       "    }\n",
       "</style>\n",
       "<table border=\"1\" class=\"dataframe\">\n",
       "  <thead>\n",
       "    <tr style=\"text-align: right;\">\n",
       "      <th></th>\n",
       "      <th>Education</th>\n",
       "      <th>Edu_encode</th>\n",
       "    </tr>\n",
       "  </thead>\n",
       "  <tbody>\n",
       "    <tr>\n",
       "      <th>0</th>\n",
       "      <td>Bachelors</td>\n",
       "      <td>3.0</td>\n",
       "    </tr>\n",
       "    <tr>\n",
       "      <th>1</th>\n",
       "      <td>Partial College</td>\n",
       "      <td>2.0</td>\n",
       "    </tr>\n",
       "    <tr>\n",
       "      <th>2</th>\n",
       "      <td>Partial College</td>\n",
       "      <td>2.0</td>\n",
       "    </tr>\n",
       "    <tr>\n",
       "      <th>3</th>\n",
       "      <td>Bachelors</td>\n",
       "      <td>3.0</td>\n",
       "    </tr>\n",
       "    <tr>\n",
       "      <th>4</th>\n",
       "      <td>Bachelors</td>\n",
       "      <td>3.0</td>\n",
       "    </tr>\n",
       "    <tr>\n",
       "      <th>...</th>\n",
       "      <td>...</td>\n",
       "      <td>...</td>\n",
       "    </tr>\n",
       "    <tr>\n",
       "      <th>995</th>\n",
       "      <td>High School</td>\n",
       "      <td>1.0</td>\n",
       "    </tr>\n",
       "    <tr>\n",
       "      <th>996</th>\n",
       "      <td>Graduate Degree</td>\n",
       "      <td>4.0</td>\n",
       "    </tr>\n",
       "    <tr>\n",
       "      <th>997</th>\n",
       "      <td>Bachelors</td>\n",
       "      <td>3.0</td>\n",
       "    </tr>\n",
       "    <tr>\n",
       "      <th>998</th>\n",
       "      <td>Bachelors</td>\n",
       "      <td>3.0</td>\n",
       "    </tr>\n",
       "    <tr>\n",
       "      <th>999</th>\n",
       "      <td>High School</td>\n",
       "      <td>1.0</td>\n",
       "    </tr>\n",
       "  </tbody>\n",
       "</table>\n",
       "<p>1000 rows × 2 columns</p>\n",
       "</div>"
      ],
      "text/plain": [
       "           Education  Edu_encode\n",
       "0          Bachelors         3.0\n",
       "1    Partial College         2.0\n",
       "2    Partial College         2.0\n",
       "3          Bachelors         3.0\n",
       "4          Bachelors         3.0\n",
       "..               ...         ...\n",
       "995      High School         1.0\n",
       "996  Graduate Degree         4.0\n",
       "997        Bachelors         3.0\n",
       "998        Bachelors         3.0\n",
       "999      High School         1.0\n",
       "\n",
       "[1000 rows x 2 columns]"
      ]
     },
     "execution_count": 120,
     "metadata": {},
     "output_type": "execute_result"
    }
   ],
   "source": [
    "edu_df"
   ]
  },
  {
   "cell_type": "code",
   "execution_count": null,
   "id": "14fc7c28-e6a8-40af-bb9f-853d65f61a24",
   "metadata": {},
   "outputs": [],
   "source": []
  }
 ],
 "metadata": {
  "kernelspec": {
   "display_name": "Python 3 (ipykernel)",
   "language": "python",
   "name": "python3"
  },
  "language_info": {
   "codemirror_mode": {
    "name": "ipython",
    "version": 3
   },
   "file_extension": ".py",
   "mimetype": "text/x-python",
   "name": "python",
   "nbconvert_exporter": "python",
   "pygments_lexer": "ipython3",
   "version": "3.11.1"
  }
 },
 "nbformat": 4,
 "nbformat_minor": 5
}
