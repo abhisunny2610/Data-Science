{
 "cells": [
  {
   "cell_type": "code",
   "execution_count": 1,
   "id": "9cf24140-21e9-4e2f-a3ab-b914e6a94d79",
   "metadata": {},
   "outputs": [],
   "source": [
    "import pandas as pd\n",
    "import numpy as np\n",
    "import matplotlib.pyplot as plt\n",
    "from sklearn.linear_model import LinearRegression\n",
    "from sklearn.model_selection import train_test_split\n",
    "from sklearn.metrics import r2_score, mean_absolute_error, mean_squared_error\n",
    "import math"
   ]
  },
  {
   "cell_type": "code",
   "execution_count": 56,
   "id": "0598375f-190f-43ab-856a-2697d6f25ab2",
   "metadata": {},
   "outputs": [
    {
     "data": {
      "text/html": [
       "<div>\n",
       "<style scoped>\n",
       "    .dataframe tbody tr th:only-of-type {\n",
       "        vertical-align: middle;\n",
       "    }\n",
       "\n",
       "    .dataframe tbody tr th {\n",
       "        vertical-align: top;\n",
       "    }\n",
       "\n",
       "    .dataframe thead th {\n",
       "        text-align: right;\n",
       "    }\n",
       "</style>\n",
       "<table border=\"1\" class=\"dataframe\">\n",
       "  <thead>\n",
       "    <tr style=\"text-align: right;\">\n",
       "      <th></th>\n",
       "      <th>longitude</th>\n",
       "      <th>latitude</th>\n",
       "      <th>housing_median_age</th>\n",
       "      <th>total_rooms</th>\n",
       "      <th>total_bedrooms</th>\n",
       "      <th>population</th>\n",
       "      <th>households</th>\n",
       "      <th>median_income</th>\n",
       "      <th>median_house_value</th>\n",
       "      <th>ocean_proximity</th>\n",
       "    </tr>\n",
       "  </thead>\n",
       "  <tbody>\n",
       "    <tr>\n",
       "      <th>0</th>\n",
       "      <td>-122.23</td>\n",
       "      <td>37.88</td>\n",
       "      <td>41.0</td>\n",
       "      <td>880.0</td>\n",
       "      <td>129.0</td>\n",
       "      <td>322.0</td>\n",
       "      <td>126.0</td>\n",
       "      <td>8.3252</td>\n",
       "      <td>452600.0</td>\n",
       "      <td>NEAR BAY</td>\n",
       "    </tr>\n",
       "    <tr>\n",
       "      <th>1</th>\n",
       "      <td>-122.22</td>\n",
       "      <td>37.86</td>\n",
       "      <td>21.0</td>\n",
       "      <td>7099.0</td>\n",
       "      <td>1106.0</td>\n",
       "      <td>2401.0</td>\n",
       "      <td>1138.0</td>\n",
       "      <td>8.3014</td>\n",
       "      <td>358500.0</td>\n",
       "      <td>NEAR BAY</td>\n",
       "    </tr>\n",
       "    <tr>\n",
       "      <th>2</th>\n",
       "      <td>-122.24</td>\n",
       "      <td>37.85</td>\n",
       "      <td>52.0</td>\n",
       "      <td>1467.0</td>\n",
       "      <td>190.0</td>\n",
       "      <td>496.0</td>\n",
       "      <td>177.0</td>\n",
       "      <td>7.2574</td>\n",
       "      <td>352100.0</td>\n",
       "      <td>NEAR BAY</td>\n",
       "    </tr>\n",
       "    <tr>\n",
       "      <th>3</th>\n",
       "      <td>-122.25</td>\n",
       "      <td>37.85</td>\n",
       "      <td>52.0</td>\n",
       "      <td>1274.0</td>\n",
       "      <td>235.0</td>\n",
       "      <td>558.0</td>\n",
       "      <td>219.0</td>\n",
       "      <td>5.6431</td>\n",
       "      <td>341300.0</td>\n",
       "      <td>NEAR BAY</td>\n",
       "    </tr>\n",
       "    <tr>\n",
       "      <th>4</th>\n",
       "      <td>-122.25</td>\n",
       "      <td>37.85</td>\n",
       "      <td>52.0</td>\n",
       "      <td>1627.0</td>\n",
       "      <td>280.0</td>\n",
       "      <td>565.0</td>\n",
       "      <td>259.0</td>\n",
       "      <td>3.8462</td>\n",
       "      <td>342200.0</td>\n",
       "      <td>NEAR BAY</td>\n",
       "    </tr>\n",
       "  </tbody>\n",
       "</table>\n",
       "</div>"
      ],
      "text/plain": [
       "   longitude  latitude  housing_median_age  total_rooms  total_bedrooms  \\\n",
       "0    -122.23     37.88                41.0        880.0           129.0   \n",
       "1    -122.22     37.86                21.0       7099.0          1106.0   \n",
       "2    -122.24     37.85                52.0       1467.0           190.0   \n",
       "3    -122.25     37.85                52.0       1274.0           235.0   \n",
       "4    -122.25     37.85                52.0       1627.0           280.0   \n",
       "\n",
       "   population  households  median_income  median_house_value ocean_proximity  \n",
       "0       322.0       126.0         8.3252            452600.0        NEAR BAY  \n",
       "1      2401.0      1138.0         8.3014            358500.0        NEAR BAY  \n",
       "2       496.0       177.0         7.2574            352100.0        NEAR BAY  \n",
       "3       558.0       219.0         5.6431            341300.0        NEAR BAY  \n",
       "4       565.0       259.0         3.8462            342200.0        NEAR BAY  "
      ]
     },
     "execution_count": 56,
     "metadata": {},
     "output_type": "execute_result"
    }
   ],
   "source": [
    "df = pd.read_csv(\"../Dataset/housing.csv\")\n",
    "\n",
    "df.head()"
   ]
  },
  {
   "cell_type": "code",
   "execution_count": 57,
   "id": "ed096ef4-2634-4125-bc64-b80c24922cc9",
   "metadata": {},
   "outputs": [],
   "source": [
    "df.drop(columns=[\"ocean_proximity\"], inplace=True)\n",
    "df.fillna(0, inplace=True)\n",
    "\n",
    "train, test= train_test_split(df, test_size=0.3)"
   ]
  },
  {
   "cell_type": "code",
   "execution_count": 75,
   "id": "367b6471-99f7-48b7-9e34-97dd4a01d316",
   "metadata": {},
   "outputs": [
    {
     "data": {
      "text/plain": [
       "(14448, 9)"
      ]
     },
     "execution_count": 75,
     "metadata": {},
     "output_type": "execute_result"
    }
   ],
   "source": [
    "test_x = df.drop(columns=[\"median_house_value\"])\n",
    "test_y = df[\"median_house_value\"]\n",
    "\n",
    "train.shape"
   ]
  },
  {
   "cell_type": "code",
   "execution_count": 59,
   "id": "7ed6cdd2-82aa-4e8c-83e0-fd01f02a0012",
   "metadata": {},
   "outputs": [],
   "source": [
    "samples = []\n",
    "for sample_size in range(50,50*51, 50):\n",
    "    train_x, _ = train_test_split(train, train_size=sample_size)\n",
    "    samples.append(train_x)"
   ]
  },
  {
   "cell_type": "code",
   "execution_count": 60,
   "id": "8166e960-f7e3-4d5c-a071-f3e99d215cd2",
   "metadata": {},
   "outputs": [],
   "source": [
    "len(samples)\n",
    "def regSummary(y_true, y_pred, sample):\n",
    "    return{\n",
    "        \"r2_score\": r2_score(y_true, y_pred),\n",
    "        \"mae\": mean_absolute_error(y_true, y_pred),\n",
    "        \"mse\": mean_squared_error(y_true, y_pred),\n",
    "        \"rmse\": math.sqrt(mean_squared_error(y_true, y_pred)),\n",
    "        \"Sample Size\": len(sample)\n",
    "}"
   ]
  },
  {
   "cell_type": "code",
   "execution_count": 61,
   "id": "07c8b491-637a-47a5-b0d7-547a84d0ba69",
   "metadata": {},
   "outputs": [],
   "source": [
    "reg = LinearRegression()"
   ]
  },
  {
   "cell_type": "code",
   "execution_count": 77,
   "id": "3c1b63e9-3ee0-490e-9374-acaa5d7ce31c",
   "metadata": {},
   "outputs": [],
   "source": [
    "errors = []\n",
    "train_errors = []\n",
    "for sample in samples:\n",
    "    data_x = sample.drop(columns=\"median_house_value\")\n",
    "    data_y = sample[\"median_house_value\"]\n",
    "\n",
    "    train_x, test_x, train_y, test_y = train_test_split(data_x, data_y, test_size=0.2)\n",
    "\n",
    "    reg.fit(train_x, train_y)    \n",
    "    \n",
    "    predict_y = reg.predict(test_x)\n",
    "    predict_train_error = reg.predict(train_x)\n",
    "\n",
    "    n = regSummary(test_y, predict_y, sample)\n",
    "    n1 = regSummary(train_y, predict_train_error, sample)\n",
    "    train_errors.append(n1)\n",
    "    errors.append(n)\n"
   ]
  },
  {
   "cell_type": "code",
   "execution_count": 81,
   "id": "ebf6976c-82cf-4235-8a88-644dc04a89b5",
   "metadata": {
    "scrolled": true
   },
   "outputs": [
    {
     "data": {
      "text/plain": [
       "(    r2_score           mae           mse          rmse  Sample Size\n",
       " 0   0.693103  56609.235108  5.144342e+09  71724.067318           50\n",
       " 1   0.560994  59413.230200  7.071477e+09  84092.072898          100\n",
       " 2   0.793509  48545.599308  3.516913e+09  59303.569550          150\n",
       " 3   0.674879  55403.522411  5.148592e+09  71753.690730          200\n",
       " 4   0.593044  50793.747124  5.644027e+09  75126.738550          250\n",
       " 5   0.490671  56441.611517  6.741418e+09  82106.139214          300\n",
       " 6   0.754277  50286.567150  3.824378e+09  61841.556859          350\n",
       " 7   0.474383  53500.709742  6.383744e+09  79898.337219          400\n",
       " 8   0.617654  53850.826493  5.480675e+09  74031.581185          450\n",
       " 9   0.763285  46910.966107  4.015033e+09  63364.285327          500\n",
       " 10  0.438052  50319.157708  5.866057e+09  76590.187978          550\n",
       " 11  0.607309  52723.471289  5.369148e+09  73274.470532          600\n",
       " 12  0.593031  48670.076395  4.397721e+09  66315.314392          650\n",
       " 13  0.659937  53141.163416  5.051013e+09  71070.479781          700\n",
       " 14  0.493213  62929.034150  8.035122e+09  89638.839265          750\n",
       " 15  0.620054  50400.351802  4.845392e+09  69608.848227          800\n",
       " 16  0.702627  50242.236081  4.411647e+09  66420.231281          850\n",
       " 17  0.689346  44470.952434  3.317147e+09  57594.679168          900\n",
       " 18  0.542458  56258.001523  5.999031e+09  77453.409631          950\n",
       " 19  0.628824  56259.339855  6.177717e+09  78598.452614         1000\n",
       " 20  0.579572  52902.280941  4.713306e+09  68653.521294         1050\n",
       " 21  0.546018  52820.180321  5.638905e+09  75092.644356         1100\n",
       " 22  0.607560  55638.063234  5.317950e+09  72924.274584         1150\n",
       " 23  0.590560  54379.035852  5.522694e+09  74314.830033         1200\n",
       " 24  0.630785  46870.762770  4.254671e+09  65227.840074         1250\n",
       " 25  0.673926  51036.702411  4.465864e+09  66827.122627         1300\n",
       " 26  0.668304  49556.089371  4.248865e+09  65183.315858         1350\n",
       " 27  0.524686  53453.765293  5.573278e+09  74654.387176         1400\n",
       " 28  0.624234  53106.840254  5.121981e+09  71568.016978         1450\n",
       " 29  0.658573  49086.895032  4.354437e+09  65988.154910         1500\n",
       " 30  0.647312  49397.787317  5.036500e+09  70968.305217         1550\n",
       " 31  0.621242  52234.356447  4.871383e+09  69795.292766         1600\n",
       " 32  0.583219  53225.302173  5.588177e+09  74754.113134         1650\n",
       " 33  0.630049  50819.040787  4.455738e+09  66751.314246         1700\n",
       " 34  0.652367  55234.520027  5.551653e+09  74509.415086         1750\n",
       " 35  0.652201  49804.013393  4.385899e+09  66226.118228         1800\n",
       " 36  0.629513  51026.207447  5.274210e+09  72623.758813         1850\n",
       " 37  0.645719  48777.210590  4.329319e+09  65797.559629         1900\n",
       " 38  0.636537  49184.614575  4.624573e+09  68004.215494         1950\n",
       " 39  0.660441  49035.024549  4.486808e+09  66983.639194         2000\n",
       " 40  0.585147  54275.748661  5.678299e+09  75354.488345         2050\n",
       " 41  0.618815  55350.044731  5.837561e+09  76403.933898         2100\n",
       " 42  0.576743  49707.046211  4.889475e+09  69924.778812         2150\n",
       " 43  0.607492  52302.584982  5.072255e+09  71219.768145         2200\n",
       " 44  0.602328  53231.218605  5.583447e+09  74722.463910         2250\n",
       " 45  0.571742  54767.794612  6.055876e+09  77819.507920         2300\n",
       " 46  0.687659  50594.387999  4.434889e+09  66594.959320         2350\n",
       " 47  0.596883  52570.909245  5.421867e+09  73633.327506         2400\n",
       " 48  0.648372  52397.288167  4.782944e+09  69158.830864         2450\n",
       " 49  0.619690  49884.593370  4.997575e+09  70693.525854         2500,\n",
       "     r2_score           mae           mse          rmse  Sample Size\n",
       " 0   0.805483  50838.727306  3.674129e+09  60614.597770           50\n",
       " 1   0.623966  49873.934035  4.747198e+09  68899.912941          100\n",
       " 2   0.731143  41932.622324  3.351002e+09  57887.842342          150\n",
       " 3   0.636523  54556.434854  5.327545e+09  72990.033883          200\n",
       " 4   0.650316  47730.939171  4.362149e+09  66046.564124          250\n",
       " 5   0.631901  52723.272345  4.988260e+09  70627.617326          300\n",
       " 6   0.678124  47223.164016  4.037263e+09  63539.458821          350\n",
       " 7   0.708992  43136.558173  3.513444e+09  59274.312771          400\n",
       " 8   0.672349  47073.568734  4.160420e+09  64501.315205          450\n",
       " 9   0.647284  47418.695726  4.303364e+09  65600.033010          500\n",
       " 10  0.644431  53190.689889  5.260335e+09  72528.164440          550\n",
       " 11  0.698191  47629.866716  3.791269e+09  61573.283460          600\n",
       " 12  0.661432  49605.712063  4.529410e+09  67300.891193          650\n",
       " 13  0.667953  47458.829418  4.036802e+09  63535.830008          700\n",
       " 14  0.631323  49738.761316  4.392730e+09  66277.676432          750\n",
       " 15  0.688586  49656.195009  4.523183e+09  67254.616097          800\n",
       " 16  0.617908  52397.803338  5.267878e+09  72580.149722          850\n",
       " 17  0.641122  48200.974932  4.263240e+09  65293.490679          900\n",
       " 18  0.631044  50783.732339  4.822620e+09  69445.083717          950\n",
       " 19  0.663122  50039.014075  4.434624e+09  66592.971349         1000\n",
       " 20  0.639425  52116.291481  5.150935e+09  71770.012714         1050\n",
       " 21  0.652881  50695.117501  4.686369e+09  68457.063037         1100\n",
       " 22  0.617981  51031.458007  5.022845e+09  70872.030033         1150\n",
       " 23  0.654664  50717.156801  4.692369e+09  68500.871372         1200\n",
       " 24  0.635349  51382.651705  4.879067e+09  69850.317881         1250\n",
       " 25  0.607859  52956.652977  5.407523e+09  73535.865024         1300\n",
       " 26  0.645515  48875.429201  4.380400e+09  66184.592482         1350\n",
       " 27  0.639507  51266.399902  4.923741e+09  70169.377011         1400\n",
       " 28  0.638596  52417.707760  5.020629e+09  70856.397372         1450\n",
       " 29  0.659068  50887.159298  4.827442e+09  69479.794450         1500\n",
       " 30  0.643110  51954.782433  4.913450e+09  70096.008922         1550\n",
       " 31  0.614175  53046.402783  5.251911e+09  72470.070343         1600\n",
       " 32  0.670095  51741.534616  4.824386e+09  69457.801948         1650\n",
       " 33  0.583330  54517.453982  5.668474e+09  75289.267360         1700\n",
       " 34  0.634750  51229.707888  4.875386e+09  69823.964119         1750\n",
       " 35  0.658398  51236.092370  4.667218e+09  68317.041297         1800\n",
       " 36  0.672196  49059.110575  4.435796e+09  66601.772262         1850\n",
       " 37  0.624822  51671.849604  4.899852e+09  69998.940977         1900\n",
       " 38  0.641575  49976.947705  4.693840e+09  68511.605471         1950\n",
       " 39  0.648263  50297.467044  4.664185e+09  68294.838154         2000\n",
       " 40  0.625723  51109.716342  4.971875e+09  70511.525672         2050\n",
       " 41  0.638515  50492.286649  4.786920e+09  69187.568691         2100\n",
       " 42  0.636846  51073.232213  4.820273e+09  69428.184816         2150\n",
       " 43  0.627912  52014.550136  5.039062e+09  70986.354316         2200\n",
       " 44  0.619053  49931.782299  4.663091e+09  68286.828606         2250\n",
       " 45  0.648611  48830.858299  4.423517e+09  66509.522109         2300\n",
       " 46  0.631978  50040.593141  4.745862e+09  68890.214399         2350\n",
       " 47  0.638404  51426.321804  4.891211e+09  69937.196409         2400\n",
       " 48  0.655131  49000.221155  4.568949e+09  67594.000420         2450\n",
       " 49  0.662612  48346.282242  4.351272e+09  65964.171708         2500)"
      ]
     },
     "execution_count": 81,
     "metadata": {},
     "output_type": "execute_result"
    }
   ],
   "source": [
    "test_error_df = pd.DataFrame(errors)\n",
    "train_error_df = pd.DataFrame(train_errors)\n",
    "\n",
    "test_error_df, train_error_df"
   ]
  },
  {
   "cell_type": "code",
   "execution_count": null,
   "id": "d43c272d-518a-48f1-9f9f-bc3cf84fa856",
   "metadata": {},
   "outputs": [],
   "source": []
  },
  {
   "cell_type": "code",
   "execution_count": 88,
   "id": "8a472184-065e-48b1-8a91-f01f67f790c9",
   "metadata": {},
   "outputs": [],
   "source": [
    "def plot_line(x,y,x_label,y_label,axes):\n",
    "    axes.plot(x,y)\n",
    "    axes.set_xlabel(x_label)\n",
    "    axes.set_ylabel(y_label)\n",
    "    axes.set_title(f\"{x_label} v/s {y_label}\")"
   ]
  },
  {
   "cell_type": "code",
   "execution_count": 90,
   "id": "4e6c8ee9-7eb3-4870-86a1-39a41c4d2ad6",
   "metadata": {},
   "outputs": [
    {
     "ename": "NameError",
     "evalue": "name 'label' is not defined",
     "output_type": "error",
     "traceback": [
      "\u001b[1;31m---------------------------------------------------------------------------\u001b[0m",
      "\u001b[1;31mNameError\u001b[0m                                 Traceback (most recent call last)",
      "Cell \u001b[1;32mIn[90], line 7\u001b[0m\n\u001b[0;32m      4\u001b[0m testcolumns \u001b[38;5;241m=\u001b[39m test_error_df\u001b[38;5;241m.\u001b[39mcolumns\n\u001b[0;32m      6\u001b[0m \u001b[38;5;28;01mfor\u001b[39;00m ax, col \u001b[38;5;129;01min\u001b[39;00m \u001b[38;5;28mzip\u001b[39m(axes, columns):\n\u001b[1;32m----> 7\u001b[0m     plot_line(test_error_df[\u001b[38;5;124m\"\u001b[39m\u001b[38;5;124mSample Size\u001b[39m\u001b[38;5;124m\"\u001b[39m], test_error_df[col], x_label\u001b[38;5;241m=\u001b[39m\u001b[38;5;124m\"\u001b[39m\u001b[38;5;124mSample Size\u001b[39m\u001b[38;5;124m\"\u001b[39m, y_label\u001b[38;5;241m=\u001b[39mcol, axes\u001b[38;5;241m=\u001b[39max, label\u001b[38;5;241m=\u001b[39m\u001b[43mlabel\u001b[49m)\n\u001b[0;32m      8\u001b[0m     plot_line(train_error_df[\u001b[38;5;124m\"\u001b[39m\u001b[38;5;124mSample Size\u001b[39m\u001b[38;5;124m\"\u001b[39m], train_error_df[col], x_label\u001b[38;5;241m=\u001b[39m\u001b[38;5;124m\"\u001b[39m\u001b[38;5;124mSample Size\u001b[39m\u001b[38;5;124m\"\u001b[39m, y_label\u001b[38;5;241m=\u001b[39mcol, axes\u001b[38;5;241m=\u001b[39max)\n",
      "\u001b[1;31mNameError\u001b[0m: name 'label' is not defined"
     ]
    },
    {
     "data": {
      "image/png": "[encoded data removed]",
      "text/plain": [
       "<Figure size 1500x1000 with 4 Axes>"
      ]
     },
     "metadata": {},
     "output_type": "display_data"
    }
   ],
   "source": [
    "fig, axes = plt.subplots(figsize=(15,10), nrows=2, ncols=2)\n",
    "\n",
    "axes = axes.flatten()\n",
    "testcolumns = test_error_df.columns\n",
    "\n",
    "for ax, col in zip(axes, columns):\n",
    "    plot_line(test_error_df[\"Sample Size\"], test_error_df[col], x_label=\"Sample Size\", y_label=col, axes=ax,)\n",
    "    plot_line(train_error_df[\"Sample Size\"], train_error_df[col], x_label=\"Sample Size\", y_label=col, axes=ax)\n"
   ]
  },
  {
   "cell_type": "code",
   "execution_count": null,
   "id": "4d83fdb1-4bb3-4646-979d-8c821962a8c0",
   "metadata": {},
   "outputs": [],
   "source": []
  }
 ],
 "metadata": {
  "kernelspec": {
   "display_name": "Python 3 (ipykernel)",
   "language": "python",
   "name": "python3"
  },
  "language_info": {
   "codemirror_mode": {
    "name": "ipython",
    "version": 3
   },
   "file_extension": ".py",
   "mimetype": "text/x-python",
   "name": "python",
   "nbconvert_exporter": "python",
   "pygments_lexer": "ipython3",
   "version": "3.11.1"
  }
 },
 "nbformat": 4,
 "nbformat_minor": 5
}
