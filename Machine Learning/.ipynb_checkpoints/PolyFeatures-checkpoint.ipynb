{
 "cells": [
  {
   "cell_type": "code",
   "execution_count": 46,
   "id": "96f22ae9-9ab7-4308-85ca-88530878982c",
   "metadata": {},
   "outputs": [],
   "source": [
    "import numpy as np\n",
    "import pandas as pd\n",
    "import matplotlib.pyplot as plt\n",
    "from sklearn.linear_model import LinearRegression\n",
    "from sklearn.preprocessing import PolynomialFeatures\n",
    "from sklearn.model_selection import train_test_split\n",
    "from sklearn.metrics import r2_score, mean_squared_error, mean_absolute_error\n",
    "import math"
   ]
  },
  {
   "cell_type": "code",
   "execution_count": 47,
   "id": "3f0d26df-c512-431f-aef3-1ad7931db817",
   "metadata": {},
   "outputs": [],
   "source": [
    "x = np.random.rand(100)+np.random.randint(-6,3,100)"
   ]
  },
  {
   "cell_type": "code",
   "execution_count": 48,
   "id": "d3e29ae0-3b6d-4847-9e1b-06e7db6e4afc",
   "metadata": {},
   "outputs": [
    {
     "data": {
      "text/plain": [
       "array([ 2.81886686,  2.39507566,  0.52124632, -3.3701841 ,  1.30477931,\n",
       "       -0.97218584,  2.27464424,  2.04433618, -3.28405557, -3.92653448,\n",
       "        1.41986285, -4.05615583, -5.29766283, -4.35983845, -4.12394169,\n",
       "       -1.60298444, -0.29771055,  0.35142153,  0.28137067, -4.76875953,\n",
       "       -1.55529497, -1.21132432, -3.22766783,  2.83239968,  0.96069669,\n",
       "        0.26134063, -2.3183889 , -0.32833772, -0.52335001, -2.46351675,\n",
       "       -4.34265318, -4.46776606, -5.00125975,  2.40530457, -3.43447576,\n",
       "       -4.49386328, -2.16886871, -0.34876274, -5.32131401, -1.14116799,\n",
       "       -5.72184171, -5.85813702,  0.67175029, -5.79002199, -5.26709387,\n",
       "        0.86204194, -4.15278915, -0.1511959 , -4.00924469, -0.01213546,\n",
       "       -1.74502607, -1.58456928, -0.41433262, -3.37569901, -5.13103426,\n",
       "        1.1695402 ,  2.98256126, -3.47002926, -2.22356088, -4.8509928 ,\n",
       "       -5.59876621,  2.67188373,  1.82155997, -1.64096497,  1.31764199,\n",
       "       -3.59898592, -1.34139304,  0.27968615,  2.05884791,  1.33269662,\n",
       "       -5.70384073, -4.18425762,  1.52735457,  1.93529018, -1.45057911,\n",
       "        2.98415829,  1.40853131,  2.82826779, -3.59152359, -4.97752029,\n",
       "       -2.59390015,  1.26353282,  2.25149539,  1.18358364, -3.24015261,\n",
       "       -5.29592108, -4.23868726, -0.82995204,  1.42410735,  2.07340572,\n",
       "       -3.66350789,  0.92082464, -5.04991446,  0.03924031, -1.66328111,\n",
       "        1.82963792,  1.52991773, -3.71964598, -5.20104522, -4.32777167])"
      ]
     },
     "execution_count": 48,
     "metadata": {},
     "output_type": "execute_result"
    }
   ],
   "source": [
    "x"
   ]
  },
  {
   "cell_type": "code",
   "execution_count": 49,
   "id": "dcd10709-dd11-4936-bc9e-1b2681cb2906",
   "metadata": {},
   "outputs": [],
   "source": [
    "y =  0.3*x**2 + 2*x + 5+ np.random.randn(100)"
   ]
  },
  {
   "cell_type": "code",
   "execution_count": 50,
   "id": "60b6b110-7433-42f1-9e3c-1c8acbda42ba",
   "metadata": {},
   "outputs": [
    {
     "data": {
      "text/plain": [
       "array([10.24275246, 13.82955228,  4.92377925,  1.17739217,  8.18190111,\n",
       "        3.18832483, 12.7356545 ,  8.85726571,  2.25829853,  2.10333119,\n",
       "        6.8338039 ,  2.44529688,  3.8600233 ,  1.94096433,  2.0270704 ,\n",
       "        2.42616731,  4.12595134,  6.93651728,  6.91702233,  2.8701127 ,\n",
       "        3.88077141,  2.72422085,  2.06391802, 15.33185047,  6.86019662,\n",
       "        6.03034276,  2.56146956,  3.49422575,  2.25758321,  0.62698345,\n",
       "        2.60771947,  2.45121674,  2.26496777, 12.53098554,  0.28983207,\n",
       "        1.3280316 ,  3.26530305,  3.47528768,  1.72194376,  2.38322721,\n",
       "        2.52050289,  4.12256271,  6.8603282 ,  3.39700438,  3.51883052,\n",
       "        6.97896912,  3.4118009 ,  3.5260165 ,  1.30213023,  5.66645006,\n",
       "        0.6975405 ,  2.43245942,  3.70211891,  0.52131306,  2.35465897,\n",
       "        8.46312913, 14.85539182,  0.72449927,  2.0886244 ,  2.80204931,\n",
       "        4.00684984, 12.47149486,  9.79022631,  3.01436783,  6.70661657,\n",
       "        1.50882098,  4.03661989,  5.66035903,  9.79134327,  8.83056244,\n",
       "        4.58286969,  1.99074461,  8.93168679, 10.83478989,  2.29670963,\n",
       "       15.09714321,  7.96938392, 11.54811104,  1.53075471,  3.29832697,\n",
       "        0.65824278,  7.75591362, 10.37540068,  7.7411967 ,  1.73622945,\n",
       "        0.77845598,  2.45768361,  3.61798551,  8.22106631,  8.74645126,\n",
       "        0.90066109,  7.98518428,  2.17800181,  6.00280852,  2.01298386,\n",
       "        8.67560379,  8.24863451,  0.98292085,  1.88347353,  2.02268459])"
      ]
     },
     "execution_count": 50,
     "metadata": {},
     "output_type": "execute_result"
    }
   ],
   "source": [
    "y"
   ]
  },
  {
   "cell_type": "code",
   "execution_count": 51,
   "id": "a4bd6f6a-6b76-4b18-8ab6-23c6e82e4678",
   "metadata": {},
   "outputs": [
    {
     "data": {
      "text/plain": [
       "<matplotlib.collections.PathCollection at 0x27ad1a45fd0>"
      ]
     },
     "execution_count": 51,
     "metadata": {},
     "output_type": "execute_result"
    },
    {
     "data": {
      "image/png": "[encoded data removed]",
      "text/plain": [
       "<Figure size 640x480 with 1 Axes>"
      ]
     },
     "metadata": {},
     "output_type": "display_data"
    }
   ],
   "source": [
    "plt.scatter(x,y)"
   ]
  },
  {
   "cell_type": "code",
   "execution_count": 71,
   "id": "b6a8f224-30eb-4709-8f0c-f57e5647427c",
   "metadata": {},
   "outputs": [],
   "source": [
    "def generate_num(a,b,limit,nf=20):\n",
    "\n",
    "    offset = (abs(a) + abs(b))/2\n",
    "    x= np.random.rand(limit)+np.random.randint(a,b,limit)\n",
    "    y = 0.3*x**2 + 2*x +np.random.randn(limit)*nf\n",
    "\n",
    "    return x,y"
   ]
  },
  {
   "cell_type": "code",
   "execution_count": 72,
   "id": "38d9daa2-d2f4-4c1f-8a22-305c856f086c",
   "metadata": {},
   "outputs": [
    {
     "data": {
      "text/plain": [
       "(array([ 1.33025943,  1.29089294,  0.34760799, -0.16850176, -0.42848342,\n",
       "        -3.32756101, -0.71250081, -4.7322634 , -0.03936217, -4.20826465,\n",
       "        -1.85389569, -3.0587986 , -0.89660077,  2.38909129, -4.57839377,\n",
       "        -0.51466023,  1.24810418,  2.36819368, -4.43925028, -2.50140139,\n",
       "         0.32225344, -3.50220675, -5.61529438, -5.92299667,  2.77876182,\n",
       "        -1.15620451, -3.84788948,  0.47236729,  1.66380191,  2.33672344,\n",
       "        -4.13608741, -2.07502825, -0.18905426, -3.76259367, -4.80560062,\n",
       "        -2.44296186, -2.72284354, -0.84774854, -3.52297704, -1.0889083 ,\n",
       "        -4.30234133, -3.89908046, -0.95454636, -2.23385196,  0.24724798,\n",
       "        -1.65894629, -3.31429999,  2.95322982,  1.79159729, -5.95146496,\n",
       "        -4.06461644,  1.74607669, -0.79368645, -5.07209422, -5.54016905,\n",
       "        -3.11176832,  0.21820712, -1.53910861, -4.92776007, -5.10117154,\n",
       "         0.18724791, -2.87647411, -0.22414405, -0.0917141 , -0.69063126,\n",
       "         1.81070237, -0.36090495, -0.2416003 , -5.82590054,  2.51440244,\n",
       "        -5.85111655, -3.992609  ,  2.96913526, -0.34523643, -0.50207891,\n",
       "        -3.01868915,  0.94723038, -2.25679299, -3.92256214, -0.41878479,\n",
       "        -2.61921864, -1.43184089, -5.84511931, -4.67952062, -1.77270649,\n",
       "        -1.86289644, -2.8954298 , -0.36512395, -4.68668997, -2.01268721,\n",
       "        -0.49696464, -5.82764307, -0.92969533, -5.44842562, -5.70068806,\n",
       "        -5.66231011,  0.24460115,  1.75198825, -4.8942667 , -1.86853072]),\n",
       " array([ 8.91614615e+00,  9.50702927e+00,  4.31336486e+00,  5.68618032e+00,\n",
       "         4.15430889e+00,  1.29183235e+00,  3.15432948e+00,  2.39454644e+00,\n",
       "         4.51092734e+00,  7.29603984e-01,  3.00713949e+00,  1.06390231e+00,\n",
       "         1.63053045e+00,  1.12092443e+01,  1.45931113e+00,  2.22999650e+00,\n",
       "         7.33063616e+00,  1.12911693e+01,  6.44175392e-01,  1.07082217e+00,\n",
       "         5.95573953e+00,  1.96629091e+00,  4.58895176e+00,  3.74088697e+00,\n",
       "         1.23889522e+01,  3.94679350e+00,  1.24513724e+00,  6.61460782e+00,\n",
       "         9.44220458e+00,  1.25755963e+01,  6.39093894e-01,  3.09495855e+00,\n",
       "         3.05296655e+00,  1.31042214e+00,  1.80432885e+00,  1.07569915e+00,\n",
       "         2.22587699e+00,  2.71961672e+00,  1.57816680e+00,  4.36232599e+00,\n",
       "         2.13968333e+00,  2.70559223e+00,  3.06187405e+00,  4.22375787e-03,\n",
       "         5.40853451e+00,  2.95592756e+00,  1.07566287e+00,  1.35273177e+01,\n",
       "         9.89159963e+00,  2.15571501e+00,  1.28526654e+00,  7.96765405e+00,\n",
       "         3.17508151e+00,  2.55435369e+00, -6.20020676e-02,  1.15076274e+00,\n",
       "         6.99754984e+00,  3.50753175e+00,  5.56839088e-01,  2.75402613e+00,\n",
       "         5.44029314e+00,  1.17184336e+00,  5.06841180e+00,  3.79861437e+00,\n",
       "         2.53165415e+00,  8.83929399e+00,  4.03731740e+00,  4.68266486e+00,\n",
       "         4.63120170e+00,  1.31486926e+01,  9.39464320e-01,  8.78358394e-04,\n",
       "         1.35744463e+01,  4.21384054e+00,  3.33153241e+00, -5.84516794e-01,\n",
       "         7.62410138e+00,  1.15762284e+00,  1.34747600e+00,  3.74471522e+00,\n",
       "        -9.59546811e-01,  1.94207323e+00,  2.74126261e+00,  3.17678343e+00,\n",
       "         2.57996673e+00,  1.42447020e+00,  1.12005498e+00,  3.86460827e+00,\n",
       "         2.92047645e-01,  1.64973933e+00,  3.61685157e+00,  3.26885150e+00,\n",
       "         1.85857238e+00,  1.41167817e+00,  2.80264093e+00,  9.86114005e-01,\n",
       "         6.06503761e+00,  8.53845774e+00,  3.07868423e+00,  1.65710340e+00]))"
      ]
     },
     "execution_count": 72,
     "metadata": {},
     "output_type": "execute_result"
    }
   ],
   "source": [
    "generate_num(-6,3,100)"
   ]
  },
  {
   "cell_type": "code",
   "execution_count": 73,
   "id": "297354ca-9d08-4abe-8612-326908be04f6",
   "metadata": {},
   "outputs": [],
   "source": [
    "reg = LinearRegression()"
   ]
  },
  {
   "cell_type": "code",
   "execution_count": 74,
   "id": "b6ad8f26-4e82-432d-bd41-e38e069fdd22",
   "metadata": {},
   "outputs": [],
   "source": [
    "n,m = generate_num(-10,10,200)\n",
    "\n",
    "train_x, test_x, train_y, test_y = train_test_split(n,m, test_size=0.3)"
   ]
  },
  {
   "cell_type": "code",
   "execution_count": 75,
   "id": "698518ac-200d-4dc9-ae7a-175f167bb04b",
   "metadata": {},
   "outputs": [
    {
     "data": {
      "text/html": [
       "<style>#sk-container-id-8 {color: black;}#sk-container-id-8 pre{padding: 0;}#sk-container-id-8 div.sk-toggleable {background-color: white;}#sk-container-id-8 label.sk-toggleable__label {cursor: pointer;display: block;width: 100%;margin-bottom: 0;padding: 0.3em;box-sizing: border-box;text-align: center;}#sk-container-id-8 label.sk-toggleable__label-arrow:before {content: \"▸\";float: left;margin-right: 0.25em;color: #696969;}#sk-container-id-8 label.sk-toggleable__label-arrow:hover:before {color: black;}#sk-container-id-8 div.sk-estimator:hover label.sk-toggleable__label-arrow:before {color: black;}#sk-container-id-8 div.sk-toggleable__content {max-height: 0;max-width: 0;overflow: hidden;text-align: left;background-color: #f0f8ff;}#sk-container-id-8 div.sk-toggleable__content pre {margin: 0.2em;color: black;border-radius: 0.25em;background-color: #f0f8ff;}#sk-container-id-8 input.sk-toggleable__control:checked~div.sk-toggleable__content {max-height: 200px;max-width: 100%;overflow: auto;}#sk-container-id-8 input.sk-toggleable__control:checked~label.sk-toggleable__label-arrow:before {content: \"▾\";}#sk-container-id-8 div.sk-estimator input.sk-toggleable__control:checked~label.sk-toggleable__label {background-color: #d4ebff;}#sk-container-id-8 div.sk-label input.sk-toggleable__control:checked~label.sk-toggleable__label {background-color: #d4ebff;}#sk-container-id-8 input.sk-hidden--visually {border: 0;clip: rect(1px 1px 1px 1px);clip: rect(1px, 1px, 1px, 1px);height: 1px;margin: -1px;overflow: hidden;padding: 0;position: absolute;width: 1px;}#sk-container-id-8 div.sk-estimator {font-family: monospace;background-color: #f0f8ff;border: 1px dotted black;border-radius: 0.25em;box-sizing: border-box;margin-bottom: 0.5em;}#sk-container-id-8 div.sk-estimator:hover {background-color: #d4ebff;}#sk-container-id-8 div.sk-parallel-item::after {content: \"\";width: 100%;border-bottom: 1px solid gray;flex-grow: 1;}#sk-container-id-8 div.sk-label:hover label.sk-toggleable__label {background-color: #d4ebff;}#sk-container-id-8 div.sk-serial::before {content: \"\";position: absolute;border-left: 1px solid gray;box-sizing: border-box;top: 0;bottom: 0;left: 50%;z-index: 0;}#sk-container-id-8 div.sk-serial {display: flex;flex-direction: column;align-items: center;background-color: white;padding-right: 0.2em;padding-left: 0.2em;position: relative;}#sk-container-id-8 div.sk-item {position: relative;z-index: 1;}#sk-container-id-8 div.sk-parallel {display: flex;align-items: stretch;justify-content: center;background-color: white;position: relative;}#sk-container-id-8 div.sk-item::before, #sk-container-id-8 div.sk-parallel-item::before {content: \"\";position: absolute;border-left: 1px solid gray;box-sizing: border-box;top: 0;bottom: 0;left: 50%;z-index: -1;}#sk-container-id-8 div.sk-parallel-item {display: flex;flex-direction: column;z-index: 1;position: relative;background-color: white;}#sk-container-id-8 div.sk-parallel-item:first-child::after {align-self: flex-end;width: 50%;}#sk-container-id-8 div.sk-parallel-item:last-child::after {align-self: flex-start;width: 50%;}#sk-container-id-8 div.sk-parallel-item:only-child::after {width: 0;}#sk-container-id-8 div.sk-dashed-wrapped {border: 1px dashed gray;margin: 0 0.4em 0.5em 0.4em;box-sizing: border-box;padding-bottom: 0.4em;background-color: white;}#sk-container-id-8 div.sk-label label {font-family: monospace;font-weight: bold;display: inline-block;line-height: 1.2em;}#sk-container-id-8 div.sk-label-container {text-align: center;}#sk-container-id-8 div.sk-container {/* jupyter's `normalize.less` sets `[hidden] { display: none; }` but bootstrap.min.css set `[hidden] { display: none !important; }` so we also need the `!important` here to be able to override the default hidden behavior on the sphinx rendered scikit-learn.org. See: https://github.com/scikit-learn/scikit-learn/issues/21755 */display: inline-block !important;position: relative;}#sk-container-id-8 div.sk-text-repr-fallback {display: none;}</style><div id=\"sk-container-id-8\" class=\"sk-top-container\"><div class=\"sk-text-repr-fallback\"><pre>LinearRegression()</pre><b>In a Jupyter environment, please rerun this cell to show the HTML representation or trust the notebook. <br />On GitHub, the HTML representation is unable to render, please try loading this page with nbviewer.org.</b></div><div class=\"sk-container\" hidden><div class=\"sk-item\"><div class=\"sk-estimator sk-toggleable\"><input class=\"sk-toggleable__control sk-hidden--visually\" id=\"sk-estimator-id-8\" type=\"checkbox\" checked><label for=\"sk-estimator-id-8\" class=\"sk-toggleable__label sk-toggleable__label-arrow\">LinearRegression</label><div class=\"sk-toggleable__content\"><pre>LinearRegression()</pre></div></div></div></div></div>"
      ],
      "text/plain": [
       "LinearRegression()"
      ]
     },
     "execution_count": 75,
     "metadata": {},
     "output_type": "execute_result"
    }
   ],
   "source": [
    "reg.fit(train_x.reshape(-1,1),train_y.reshape(-1,1))"
   ]
  },
  {
   "cell_type": "code",
   "execution_count": 76,
   "id": "79b99a48-cee0-4ff2-bcef-fcaaff1bb899",
   "metadata": {},
   "outputs": [],
   "source": [
    "y_pred = reg.predict(train_x.reshape(-1,1))"
   ]
  },
  {
   "cell_type": "code",
   "execution_count": 77,
   "id": "2aedc4b8-9a21-42f8-bb2e-74840fd25444",
   "metadata": {},
   "outputs": [],
   "source": [
    "def regSummary(y_true, y_pred):\n",
    "    return{\n",
    "        \"r2_score\": r2_score(y_true, y_pred),\n",
    "        \"mae\": mean_absolute_error(y_true, y_pred),\n",
    "        \"mse\": mean_squared_error(y_true, y_pred),\n",
    "        \"rmse\": math.sqrt(mean_squared_error(y_true, y_pred))\n",
    "    }"
   ]
  },
  {
   "cell_type": "code",
   "execution_count": 78,
   "id": "4b00ff01-d797-4e5a-8cfc-691fd177d2e3",
   "metadata": {},
   "outputs": [
    {
     "data": {
      "text/plain": [
       "{'r2_score': 0.6686798737525739,\n",
       " 'mae': 6.914090650485733,\n",
       " 'mse': 73.19249102453787,\n",
       " 'rmse': 8.555261014401482}"
      ]
     },
     "execution_count": 78,
     "metadata": {},
     "output_type": "execute_result"
    }
   ],
   "source": [
    "regSummary(train_y, y_pred)"
   ]
  },
  {
   "cell_type": "code",
   "execution_count": 79,
   "id": "27b87c22-c09f-4cbc-bd8b-0051e31dc5ee",
   "metadata": {},
   "outputs": [
    {
     "data": {
      "text/plain": [
       "[<matplotlib.lines.Line2D at 0x27ad39cf690>]"
      ]
     },
     "execution_count": 79,
     "metadata": {},
     "output_type": "execute_result"
    },
    {
     "data": {
      "image/png": "[encoded data removed]",
      "text/plain": [
       "<Figure size 640x480 with 1 Axes>"
      ]
     },
     "metadata": {},
     "output_type": "display_data"
    }
   ],
   "source": [
    "plt.scatter(n,m)\n",
    "plt.plot(train_x, y_pred, color='red')"
   ]
  },
  {
   "cell_type": "code",
   "execution_count": 80,
   "id": "55ff6c9c-41c4-422a-b815-277e265a2aed",
   "metadata": {},
   "outputs": [],
   "source": [
    "poly = PolynomialFeatures()"
   ]
  },
  {
   "cell_type": "code",
   "execution_count": 81,
   "id": "e75a8318-c54e-441e-9ade-11837c516654",
   "metadata": {},
   "outputs": [],
   "source": [
    "train_x1 = poly.fit_transform(train_x.reshape(-1,1))"
   ]
  },
  {
   "cell_type": "code",
   "execution_count": 82,
   "id": "468d9415-7472-4a64-95f5-6d5aa937d2c0",
   "metadata": {},
   "outputs": [
    {
     "data": {
      "text/plain": [
       "(140, 3)"
      ]
     },
     "execution_count": 82,
     "metadata": {},
     "output_type": "execute_result"
    }
   ],
   "source": [
    "train_x1.shape"
   ]
  },
  {
   "cell_type": "code",
   "execution_count": 83,
   "id": "24e6e9bb-798e-41b6-8cd5-2ade1beb9be4",
   "metadata": {},
   "outputs": [],
   "source": [
    "train_xx, test_xx, train_yy, test_yy = train_test_split(train_x1,train_y, test_size=0.3)"
   ]
  },
  {
   "cell_type": "code",
   "execution_count": 84,
   "id": "2a57d820-4dee-4ea0-a912-bbe5a27ec8d8",
   "metadata": {},
   "outputs": [
    {
     "data": {
      "text/html": [
       "<style>#sk-container-id-9 {color: black;}#sk-container-id-9 pre{padding: 0;}#sk-container-id-9 div.sk-toggleable {background-color: white;}#sk-container-id-9 label.sk-toggleable__label {cursor: pointer;display: block;width: 100%;margin-bottom: 0;padding: 0.3em;box-sizing: border-box;text-align: center;}#sk-container-id-9 label.sk-toggleable__label-arrow:before {content: \"▸\";float: left;margin-right: 0.25em;color: #696969;}#sk-container-id-9 label.sk-toggleable__label-arrow:hover:before {color: black;}#sk-container-id-9 div.sk-estimator:hover label.sk-toggleable__label-arrow:before {color: black;}#sk-container-id-9 div.sk-toggleable__content {max-height: 0;max-width: 0;overflow: hidden;text-align: left;background-color: #f0f8ff;}#sk-container-id-9 div.sk-toggleable__content pre {margin: 0.2em;color: black;border-radius: 0.25em;background-color: #f0f8ff;}#sk-container-id-9 input.sk-toggleable__control:checked~div.sk-toggleable__content {max-height: 200px;max-width: 100%;overflow: auto;}#sk-container-id-9 input.sk-toggleable__control:checked~label.sk-toggleable__label-arrow:before {content: \"▾\";}#sk-container-id-9 div.sk-estimator input.sk-toggleable__control:checked~label.sk-toggleable__label {background-color: #d4ebff;}#sk-container-id-9 div.sk-label input.sk-toggleable__control:checked~label.sk-toggleable__label {background-color: #d4ebff;}#sk-container-id-9 input.sk-hidden--visually {border: 0;clip: rect(1px 1px 1px 1px);clip: rect(1px, 1px, 1px, 1px);height: 1px;margin: -1px;overflow: hidden;padding: 0;position: absolute;width: 1px;}#sk-container-id-9 div.sk-estimator {font-family: monospace;background-color: #f0f8ff;border: 1px dotted black;border-radius: 0.25em;box-sizing: border-box;margin-bottom: 0.5em;}#sk-container-id-9 div.sk-estimator:hover {background-color: #d4ebff;}#sk-container-id-9 div.sk-parallel-item::after {content: \"\";width: 100%;border-bottom: 1px solid gray;flex-grow: 1;}#sk-container-id-9 div.sk-label:hover label.sk-toggleable__label {background-color: #d4ebff;}#sk-container-id-9 div.sk-serial::before {content: \"\";position: absolute;border-left: 1px solid gray;box-sizing: border-box;top: 0;bottom: 0;left: 50%;z-index: 0;}#sk-container-id-9 div.sk-serial {display: flex;flex-direction: column;align-items: center;background-color: white;padding-right: 0.2em;padding-left: 0.2em;position: relative;}#sk-container-id-9 div.sk-item {position: relative;z-index: 1;}#sk-container-id-9 div.sk-parallel {display: flex;align-items: stretch;justify-content: center;background-color: white;position: relative;}#sk-container-id-9 div.sk-item::before, #sk-container-id-9 div.sk-parallel-item::before {content: \"\";position: absolute;border-left: 1px solid gray;box-sizing: border-box;top: 0;bottom: 0;left: 50%;z-index: -1;}#sk-container-id-9 div.sk-parallel-item {display: flex;flex-direction: column;z-index: 1;position: relative;background-color: white;}#sk-container-id-9 div.sk-parallel-item:first-child::after {align-self: flex-end;width: 50%;}#sk-container-id-9 div.sk-parallel-item:last-child::after {align-self: flex-start;width: 50%;}#sk-container-id-9 div.sk-parallel-item:only-child::after {width: 0;}#sk-container-id-9 div.sk-dashed-wrapped {border: 1px dashed gray;margin: 0 0.4em 0.5em 0.4em;box-sizing: border-box;padding-bottom: 0.4em;background-color: white;}#sk-container-id-9 div.sk-label label {font-family: monospace;font-weight: bold;display: inline-block;line-height: 1.2em;}#sk-container-id-9 div.sk-label-container {text-align: center;}#sk-container-id-9 div.sk-container {/* jupyter's `normalize.less` sets `[hidden] { display: none; }` but bootstrap.min.css set `[hidden] { display: none !important; }` so we also need the `!important` here to be able to override the default hidden behavior on the sphinx rendered scikit-learn.org. See: https://github.com/scikit-learn/scikit-learn/issues/21755 */display: inline-block !important;position: relative;}#sk-container-id-9 div.sk-text-repr-fallback {display: none;}</style><div id=\"sk-container-id-9\" class=\"sk-top-container\"><div class=\"sk-text-repr-fallback\"><pre>LinearRegression()</pre><b>In a Jupyter environment, please rerun this cell to show the HTML representation or trust the notebook. <br />On GitHub, the HTML representation is unable to render, please try loading this page with nbviewer.org.</b></div><div class=\"sk-container\" hidden><div class=\"sk-item\"><div class=\"sk-estimator sk-toggleable\"><input class=\"sk-toggleable__control sk-hidden--visually\" id=\"sk-estimator-id-9\" type=\"checkbox\" checked><label for=\"sk-estimator-id-9\" class=\"sk-toggleable__label sk-toggleable__label-arrow\">LinearRegression</label><div class=\"sk-toggleable__content\"><pre>LinearRegression()</pre></div></div></div></div></div>"
      ],
      "text/plain": [
       "LinearRegression()"
      ]
     },
     "execution_count": 84,
     "metadata": {},
     "output_type": "execute_result"
    }
   ],
   "source": [
    "reg.fit(train_xx,train_yy)"
   ]
  },
  {
   "cell_type": "code",
   "execution_count": 85,
   "id": "81b8de9e-5858-46da-800a-f501cc890d54",
   "metadata": {},
   "outputs": [],
   "source": [
    "y_pred = reg.predict(train_xx)"
   ]
  },
  {
   "cell_type": "code",
   "execution_count": 86,
   "id": "86654517-1d8d-4946-b48c-19ef8872713b",
   "metadata": {},
   "outputs": [
    {
     "data": {
      "text/plain": [
       "{'r2_score': 0.9960487411482704,\n",
       " 'mae': 0.76455328786435,\n",
       " 'mse': 0.8697286397842148,\n",
       " 'rmse': 0.9325924296198285}"
      ]
     },
     "execution_count": 86,
     "metadata": {},
     "output_type": "execute_result"
    }
   ],
   "source": [
    "regSummary(train_yy, y_pred)"
   ]
  },
  {
   "cell_type": "code",
   "execution_count": 68,
   "id": "6d18e317-27b6-485c-a94a-2403cbd37a55",
   "metadata": {},
   "outputs": [
    {
     "data": {
      "text/plain": [
       "(98,)"
      ]
     },
     "execution_count": 68,
     "metadata": {},
     "output_type": "execute_result"
    }
   ],
   "source": [
    "train_yy.shape"
   ]
  },
  {
   "cell_type": "code",
   "execution_count": 69,
   "id": "3a8a9e69-6c56-47df-8e14-e120b28c8ce4",
   "metadata": {},
   "outputs": [
    {
     "data": {
      "text/plain": [
       "(98,)"
      ]
     },
     "execution_count": 69,
     "metadata": {},
     "output_type": "execute_result"
    }
   ],
   "source": [
    "y_pred.shape"
   ]
  },
  {
   "cell_type": "code",
   "execution_count": null,
   "id": "05f430f1-ead7-4276-9094-1883caa7464f",
   "metadata": {},
   "outputs": [],
   "source": []
  }
 ],
 "metadata": {
  "kernelspec": {
   "display_name": "Python 3 (ipykernel)",
   "language": "python",
   "name": "python3"
  },
  "language_info": {
   "codemirror_mode": {
    "name": "ipython",
    "version": 3
   },
   "file_extension": ".py",
   "mimetype": "text/x-python",
   "name": "python",
   "nbconvert_exporter": "python",
   "pygments_lexer": "ipython3",
   "version": "3.11.1"
  }
 },
 "nbformat": 4,
 "nbformat_minor": 5
}
