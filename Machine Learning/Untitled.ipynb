{
 "cells": [
  {
   "cell_type": "code",
   "execution_count": 1,
   "id": "6add51e3-9463-49ad-93b4-66d6306fe35a",
   "metadata": {},
   "outputs": [],
   "source": [
    "import pandas as pd\n",
    "import numpy as np\n",
    "import matplotlib.pyplot as plt\n",
    "import seaborn as sns\n",
    "from sklearn.model_selection import train_test_split, cross_val_score, GridSearchCV, RandomizedSearchCV\n",
    "from sklearn.neighbors import KNeighborsRegressor\n",
    "from sklearn.impute import SimpleImputer, KNNImputer\n",
    "from sklearn.preprocessing import StandardScaler, MinMaxScaler, MaxAbsScaler, PowerTransformer\n",
    "from sklearn.pipeline import Pipeline\n",
    "from scipy.stats import iqr\n",
    "from sklearn.feature_selection import SelectKBest, f_regression, SequentialFeatureSelector"
   ]
  },
  {
   "cell_type": "code",
   "execution_count": 2,
   "id": "11a10b1f-768b-487f-b0a3-94e86a8fd10b",
   "metadata": {},
   "outputs": [
    {
     "data": {
      "text/html": [
       "<div>\n",
       "<style scoped>\n",
       "    .dataframe tbody tr th:only-of-type {\n",
       "        vertical-align: middle;\n",
       "    }\n",
       "\n",
       "    .dataframe tbody tr th {\n",
       "        vertical-align: top;\n",
       "    }\n",
       "\n",
       "    .dataframe thead th {\n",
       "        text-align: right;\n",
       "    }\n",
       "</style>\n",
       "<table border=\"1\" class=\"dataframe\">\n",
       "  <thead>\n",
       "    <tr style=\"text-align: right;\">\n",
       "      <th></th>\n",
       "      <th>longitude</th>\n",
       "      <th>latitude</th>\n",
       "      <th>housing_median_age</th>\n",
       "      <th>total_rooms</th>\n",
       "      <th>total_bedrooms</th>\n",
       "      <th>population</th>\n",
       "      <th>households</th>\n",
       "      <th>median_income</th>\n",
       "      <th>median_house_value</th>\n",
       "      <th>ocean_proximity</th>\n",
       "    </tr>\n",
       "  </thead>\n",
       "  <tbody>\n",
       "    <tr>\n",
       "      <th>0</th>\n",
       "      <td>-122.23</td>\n",
       "      <td>37.88</td>\n",
       "      <td>41.0</td>\n",
       "      <td>880.0</td>\n",
       "      <td>129.0</td>\n",
       "      <td>322.0</td>\n",
       "      <td>126.0</td>\n",
       "      <td>8.3252</td>\n",
       "      <td>452600.0</td>\n",
       "      <td>NEAR BAY</td>\n",
       "    </tr>\n",
       "    <tr>\n",
       "      <th>1</th>\n",
       "      <td>-122.22</td>\n",
       "      <td>37.86</td>\n",
       "      <td>21.0</td>\n",
       "      <td>7099.0</td>\n",
       "      <td>1106.0</td>\n",
       "      <td>2401.0</td>\n",
       "      <td>1138.0</td>\n",
       "      <td>8.3014</td>\n",
       "      <td>358500.0</td>\n",
       "      <td>NEAR BAY</td>\n",
       "    </tr>\n",
       "    <tr>\n",
       "      <th>2</th>\n",
       "      <td>-122.24</td>\n",
       "      <td>37.85</td>\n",
       "      <td>52.0</td>\n",
       "      <td>1467.0</td>\n",
       "      <td>190.0</td>\n",
       "      <td>496.0</td>\n",
       "      <td>177.0</td>\n",
       "      <td>7.2574</td>\n",
       "      <td>352100.0</td>\n",
       "      <td>NEAR BAY</td>\n",
       "    </tr>\n",
       "    <tr>\n",
       "      <th>3</th>\n",
       "      <td>-122.25</td>\n",
       "      <td>37.85</td>\n",
       "      <td>52.0</td>\n",
       "      <td>1274.0</td>\n",
       "      <td>235.0</td>\n",
       "      <td>558.0</td>\n",
       "      <td>219.0</td>\n",
       "      <td>5.6431</td>\n",
       "      <td>341300.0</td>\n",
       "      <td>NEAR BAY</td>\n",
       "    </tr>\n",
       "    <tr>\n",
       "      <th>4</th>\n",
       "      <td>-122.25</td>\n",
       "      <td>37.85</td>\n",
       "      <td>52.0</td>\n",
       "      <td>1627.0</td>\n",
       "      <td>280.0</td>\n",
       "      <td>565.0</td>\n",
       "      <td>259.0</td>\n",
       "      <td>3.8462</td>\n",
       "      <td>342200.0</td>\n",
       "      <td>NEAR BAY</td>\n",
       "    </tr>\n",
       "  </tbody>\n",
       "</table>\n",
       "</div>"
      ],
      "text/plain": [
       "   longitude  latitude  housing_median_age  total_rooms  total_bedrooms  \\\n",
       "0    -122.23     37.88                41.0        880.0           129.0   \n",
       "1    -122.22     37.86                21.0       7099.0          1106.0   \n",
       "2    -122.24     37.85                52.0       1467.0           190.0   \n",
       "3    -122.25     37.85                52.0       1274.0           235.0   \n",
       "4    -122.25     37.85                52.0       1627.0           280.0   \n",
       "\n",
       "   population  households  median_income  median_house_value ocean_proximity  \n",
       "0       322.0       126.0         8.3252            452600.0        NEAR BAY  \n",
       "1      2401.0      1138.0         8.3014            358500.0        NEAR BAY  \n",
       "2       496.0       177.0         7.2574            352100.0        NEAR BAY  \n",
       "3       558.0       219.0         5.6431            341300.0        NEAR BAY  \n",
       "4       565.0       259.0         3.8462            342200.0        NEAR BAY  "
      ]
     },
     "execution_count": 2,
     "metadata": {},
     "output_type": "execute_result"
    }
   ],
   "source": [
    "df = pd.read_csv(\"../Dataset/housing.csv\")\n",
    "df.head()"
   ]
  },
  {
   "cell_type": "code",
   "execution_count": 27,
   "id": "71bcf6d8-118e-4db8-917e-376206f93c5d",
   "metadata": {},
   "outputs": [
    {
     "data": {
      "text/plain": [
       "longitude               0\n",
       "latitude                0\n",
       "housing_median_age      0\n",
       "total_rooms             0\n",
       "total_bedrooms        207\n",
       "population              0\n",
       "households              0\n",
       "median_income           0\n",
       "median_house_value      0\n",
       "ocean_proximity         0\n",
       "dtype: int64"
      ]
     },
     "execution_count": 27,
     "metadata": {},
     "output_type": "execute_result"
    }
   ],
   "source": [
    "df.isna().sum()"
   ]
  },
  {
   "cell_type": "code",
   "execution_count": 31,
   "id": "d2346c38-51e6-481d-8327-6e344b0fbb5b",
   "metadata": {},
   "outputs": [
    {
     "data": {
      "text/plain": [
       "ocean_proximity\n",
       "<1H OCEAN     9136\n",
       "INLAND        6551\n",
       "NEAR OCEAN    2658\n",
       "NEAR BAY      2290\n",
       "ISLAND           5\n",
       "Name: count, dtype: int64"
      ]
     },
     "execution_count": 31,
     "metadata": {},
     "output_type": "execute_result"
    }
   ],
   "source": [
    "value_counts = df['ocean_proximity'].value_counts()\n",
    "value_counts"
   ]
  },
  {
   "cell_type": "code",
   "execution_count": 32,
   "id": "02bc8fb9-b4ad-42bd-9d51-a4afe393dd75",
   "metadata": {},
   "outputs": [],
   "source": [
    "_1h_ocean_data = df[df[\"ocean_proximity\"] == \"<1H OCEAN\"]\n",
    "inland_data = df[df[\"ocean_proximity\"] == \"INLAND\"]"
   ]
  },
  {
   "cell_type": "code",
   "execution_count": 33,
   "id": "0145e3fb-80ed-4bbc-ab40-f406f933e26c",
   "metadata": {},
   "outputs": [],
   "source": [
    "inland_data = inland_data.drop(columns=[\"ocean_proximity\"])"
   ]
  },
  {
   "cell_type": "code",
   "execution_count": 34,
   "id": "fefeb4c8-a4bc-48bc-8462-453e7d321f5d",
   "metadata": {},
   "outputs": [
    {
     "data": {
      "text/html": [
       "<div>\n",
       "<style scoped>\n",
       "    .dataframe tbody tr th:only-of-type {\n",
       "        vertical-align: middle;\n",
       "    }\n",
       "\n",
       "    .dataframe tbody tr th {\n",
       "        vertical-align: top;\n",
       "    }\n",
       "\n",
       "    .dataframe thead th {\n",
       "        text-align: right;\n",
       "    }\n",
       "</style>\n",
       "<table border=\"1\" class=\"dataframe\">\n",
       "  <thead>\n",
       "    <tr style=\"text-align: right;\">\n",
       "      <th></th>\n",
       "      <th>longitude</th>\n",
       "      <th>latitude</th>\n",
       "      <th>housing_median_age</th>\n",
       "      <th>total_rooms</th>\n",
       "      <th>total_bedrooms</th>\n",
       "      <th>population</th>\n",
       "      <th>households</th>\n",
       "      <th>median_income</th>\n",
       "      <th>median_house_value</th>\n",
       "    </tr>\n",
       "  </thead>\n",
       "  <tbody>\n",
       "    <tr>\n",
       "      <th>954</th>\n",
       "      <td>-121.92</td>\n",
       "      <td>37.64</td>\n",
       "      <td>46.0</td>\n",
       "      <td>1280.0</td>\n",
       "      <td>209.0</td>\n",
       "      <td>512.0</td>\n",
       "      <td>208.0</td>\n",
       "      <td>5.1406</td>\n",
       "      <td>315600.0</td>\n",
       "    </tr>\n",
       "    <tr>\n",
       "      <th>957</th>\n",
       "      <td>-121.90</td>\n",
       "      <td>37.66</td>\n",
       "      <td>18.0</td>\n",
       "      <td>7397.0</td>\n",
       "      <td>1137.0</td>\n",
       "      <td>3126.0</td>\n",
       "      <td>1115.0</td>\n",
       "      <td>6.4994</td>\n",
       "      <td>323000.0</td>\n",
       "    </tr>\n",
       "    <tr>\n",
       "      <th>965</th>\n",
       "      <td>-121.88</td>\n",
       "      <td>37.68</td>\n",
       "      <td>23.0</td>\n",
       "      <td>2234.0</td>\n",
       "      <td>270.0</td>\n",
       "      <td>854.0</td>\n",
       "      <td>286.0</td>\n",
       "      <td>7.3330</td>\n",
       "      <td>337200.0</td>\n",
       "    </tr>\n",
       "    <tr>\n",
       "      <th>967</th>\n",
       "      <td>-121.88</td>\n",
       "      <td>37.67</td>\n",
       "      <td>16.0</td>\n",
       "      <td>4070.0</td>\n",
       "      <td>624.0</td>\n",
       "      <td>1543.0</td>\n",
       "      <td>577.0</td>\n",
       "      <td>6.5214</td>\n",
       "      <td>311500.0</td>\n",
       "    </tr>\n",
       "    <tr>\n",
       "      <th>968</th>\n",
       "      <td>-121.88</td>\n",
       "      <td>37.67</td>\n",
       "      <td>25.0</td>\n",
       "      <td>2244.0</td>\n",
       "      <td>301.0</td>\n",
       "      <td>937.0</td>\n",
       "      <td>324.0</td>\n",
       "      <td>6.4524</td>\n",
       "      <td>296900.0</td>\n",
       "    </tr>\n",
       "  </tbody>\n",
       "</table>\n",
       "</div>"
      ],
      "text/plain": [
       "     longitude  latitude  housing_median_age  total_rooms  total_bedrooms  \\\n",
       "954    -121.92     37.64                46.0       1280.0           209.0   \n",
       "957    -121.90     37.66                18.0       7397.0          1137.0   \n",
       "965    -121.88     37.68                23.0       2234.0           270.0   \n",
       "967    -121.88     37.67                16.0       4070.0           624.0   \n",
       "968    -121.88     37.67                25.0       2244.0           301.0   \n",
       "\n",
       "     population  households  median_income  median_house_value  \n",
       "954       512.0       208.0         5.1406            315600.0  \n",
       "957      3126.0      1115.0         6.4994            323000.0  \n",
       "965       854.0       286.0         7.3330            337200.0  \n",
       "967      1543.0       577.0         6.5214            311500.0  \n",
       "968       937.0       324.0         6.4524            296900.0  "
      ]
     },
     "execution_count": 34,
     "metadata": {},
     "output_type": "execute_result"
    }
   ],
   "source": [
    "inland_data.head()"
   ]
  },
  {
   "cell_type": "markdown",
   "id": "fe7f45fb-5e61-4a1d-85ec-36d13ab658e1",
   "metadata": {},
   "source": [
    "**Data Spliting**"
   ]
  },
  {
   "cell_type": "code",
   "execution_count": 35,
   "id": "6c77c6d5-e408-4600-95d5-80c5bbafd1aa",
   "metadata": {},
   "outputs": [],
   "source": [
    "inland_data_x = inland_data.drop(columns=[\"median_house_value\"])\n",
    "inland_data_y = inland_data[\"median_house_value\"]"
   ]
  },
  {
   "cell_type": "markdown",
   "id": "7225025d-c470-4d3c-9611-4a00ebf22f3c",
   "metadata": {},
   "source": [
    "**Simple Imputing**"
   ]
  },
  {
   "cell_type": "code",
   "execution_count": 36,
   "id": "8a5bf6f3-0316-4ee5-a38a-ce9ac167c27c",
   "metadata": {},
   "outputs": [],
   "source": [
    "simple_imputer = SimpleImputer()\n",
    "inland_data_x = simple_imputer.set_output(transform=\"pandas\").fit_transform(inland_data_x)"
   ]
  },
  {
   "cell_type": "markdown",
   "id": "1036b0f9-88b6-4b90-ad8f-232b3f559f42",
   "metadata": {},
   "source": [
    "**Applying KNNRegression model on simple data without any feature eng.**"
   ]
  },
  {
   "cell_type": "code",
   "execution_count": 39,
   "id": "80eef2ac-f2c7-4af4-917c-95ff753c9cb5",
   "metadata": {},
   "outputs": [
    {
     "data": {
      "text/html": [
       "<style>#sk-container-id-2 {color: black;}#sk-container-id-2 pre{padding: 0;}#sk-container-id-2 div.sk-toggleable {background-color: white;}#sk-container-id-2 label.sk-toggleable__label {cursor: pointer;display: block;width: 100%;margin-bottom: 0;padding: 0.3em;box-sizing: border-box;text-align: center;}#sk-container-id-2 label.sk-toggleable__label-arrow:before {content: \"▸\";float: left;margin-right: 0.25em;color: #696969;}#sk-container-id-2 label.sk-toggleable__label-arrow:hover:before {color: black;}#sk-container-id-2 div.sk-estimator:hover label.sk-toggleable__label-arrow:before {color: black;}#sk-container-id-2 div.sk-toggleable__content {max-height: 0;max-width: 0;overflow: hidden;text-align: left;background-color: #f0f8ff;}#sk-container-id-2 div.sk-toggleable__content pre {margin: 0.2em;color: black;border-radius: 0.25em;background-color: #f0f8ff;}#sk-container-id-2 input.sk-toggleable__control:checked~div.sk-toggleable__content {max-height: 200px;max-width: 100%;overflow: auto;}#sk-container-id-2 input.sk-toggleable__control:checked~label.sk-toggleable__label-arrow:before {content: \"▾\";}#sk-container-id-2 div.sk-estimator input.sk-toggleable__control:checked~label.sk-toggleable__label {background-color: #d4ebff;}#sk-container-id-2 div.sk-label input.sk-toggleable__control:checked~label.sk-toggleable__label {background-color: #d4ebff;}#sk-container-id-2 input.sk-hidden--visually {border: 0;clip: rect(1px 1px 1px 1px);clip: rect(1px, 1px, 1px, 1px);height: 1px;margin: -1px;overflow: hidden;padding: 0;position: absolute;width: 1px;}#sk-container-id-2 div.sk-estimator {font-family: monospace;background-color: #f0f8ff;border: 1px dotted black;border-radius: 0.25em;box-sizing: border-box;margin-bottom: 0.5em;}#sk-container-id-2 div.sk-estimator:hover {background-color: #d4ebff;}#sk-container-id-2 div.sk-parallel-item::after {content: \"\";width: 100%;border-bottom: 1px solid gray;flex-grow: 1;}#sk-container-id-2 div.sk-label:hover label.sk-toggleable__label {background-color: #d4ebff;}#sk-container-id-2 div.sk-serial::before {content: \"\";position: absolute;border-left: 1px solid gray;box-sizing: border-box;top: 0;bottom: 0;left: 50%;z-index: 0;}#sk-container-id-2 div.sk-serial {display: flex;flex-direction: column;align-items: center;background-color: white;padding-right: 0.2em;padding-left: 0.2em;position: relative;}#sk-container-id-2 div.sk-item {position: relative;z-index: 1;}#sk-container-id-2 div.sk-parallel {display: flex;align-items: stretch;justify-content: center;background-color: white;position: relative;}#sk-container-id-2 div.sk-item::before, #sk-container-id-2 div.sk-parallel-item::before {content: \"\";position: absolute;border-left: 1px solid gray;box-sizing: border-box;top: 0;bottom: 0;left: 50%;z-index: -1;}#sk-container-id-2 div.sk-parallel-item {display: flex;flex-direction: column;z-index: 1;position: relative;background-color: white;}#sk-container-id-2 div.sk-parallel-item:first-child::after {align-self: flex-end;width: 50%;}#sk-container-id-2 div.sk-parallel-item:last-child::after {align-self: flex-start;width: 50%;}#sk-container-id-2 div.sk-parallel-item:only-child::after {width: 0;}#sk-container-id-2 div.sk-dashed-wrapped {border: 1px dashed gray;margin: 0 0.4em 0.5em 0.4em;box-sizing: border-box;padding-bottom: 0.4em;background-color: white;}#sk-container-id-2 div.sk-label label {font-family: monospace;font-weight: bold;display: inline-block;line-height: 1.2em;}#sk-container-id-2 div.sk-label-container {text-align: center;}#sk-container-id-2 div.sk-container {/* jupyter's `normalize.less` sets `[hidden] { display: none; }` but bootstrap.min.css set `[hidden] { display: none !important; }` so we also need the `!important` here to be able to override the default hidden behavior on the sphinx rendered scikit-learn.org. See: https://github.com/scikit-learn/scikit-learn/issues/21755 */display: inline-block !important;position: relative;}#sk-container-id-2 div.sk-text-repr-fallback {display: none;}</style><div id=\"sk-container-id-2\" class=\"sk-top-container\"><div class=\"sk-text-repr-fallback\"><pre>KNeighborsRegressor()</pre><b>In a Jupyter environment, please rerun this cell to show the HTML representation or trust the notebook. <br />On GitHub, the HTML representation is unable to render, please try loading this page with nbviewer.org.</b></div><div class=\"sk-container\" hidden><div class=\"sk-item\"><div class=\"sk-estimator sk-toggleable\"><input class=\"sk-toggleable__control sk-hidden--visually\" id=\"sk-estimator-id-2\" type=\"checkbox\" checked><label for=\"sk-estimator-id-2\" class=\"sk-toggleable__label sk-toggleable__label-arrow\">KNeighborsRegressor</label><div class=\"sk-toggleable__content\"><pre>KNeighborsRegressor()</pre></div></div></div></div></div>"
      ],
      "text/plain": [
       "KNeighborsRegressor()"
      ]
     },
     "execution_count": 39,
     "metadata": {},
     "output_type": "execute_result"
    }
   ],
   "source": [
    "model_knn= KNeighborsRegressor()\n",
    "model_knn.fit(inland_data_x, inland_data_y)"
   ]
  },
  {
   "cell_type": "code",
   "execution_count": 42,
   "id": "361ed8ac-427e-4af0-9803-d96591fb7d66",
   "metadata": {},
   "outputs": [
    {
     "name": "stdout",
     "output_type": "stream",
     "text": [
      "[CV] END ................................ score: (test=0.249) total time=   0.0s\n",
      "[CV] END ................................ score: (test=0.109) total time=   0.0s\n",
      "[CV] END ................................ score: (test=0.245) total time=   0.0s\n",
      "[CV] END ................................ score: (test=0.193) total time=   0.0s\n",
      "[CV] END ............................... score: (test=-0.003) total time=   0.0s\n"
     ]
    },
    {
     "data": {
      "text/plain": [
       "array([ 0.24911387,  0.10864558,  0.24497243,  0.19261525, -0.00273955])"
      ]
     },
     "execution_count": 42,
     "metadata": {},
     "output_type": "execute_result"
    }
   ],
   "source": [
    "cross_val_score(model_knn, inland_data_x, inland_data_y, cv=5, verbose=3, scoring=\"r2\")"
   ]
  },
  {
   "cell_type": "markdown",
   "id": "d4d657f4-3f02-4eff-91e3-b2f9dac3b4da",
   "metadata": {},
   "source": [
    "**Scalling the data**"
   ]
  },
  {
   "cell_type": "code",
   "execution_count": 43,
   "id": "f70b2e2a-66fd-4357-90d8-10888d724379",
   "metadata": {},
   "outputs": [],
   "source": [
    "scalers = {\n",
    "    \"StandardScaler\": StandardScaler,\n",
    "    \"MinMaxScaler\": MinMaxScaler,\n",
    "    \"MaxAbsScaler\": MaxAbsScaler,\n",
    "    \"PowerTransformer\": PowerTransformer\n",
    "}"
   ]
  },
  {
   "cell_type": "code",
   "execution_count": 49,
   "id": "b623ae92-9454-47fb-b110-8e90b82caa5a",
   "metadata": {},
   "outputs": [
    {
     "name": "stdout",
     "output_type": "stream",
     "text": [
      "[CV] END ................................ score: (test=0.616) total time=   0.0s\n",
      "[CV] END ................................ score: (test=0.363) total time=   0.0s\n",
      "[CV] END ................................ score: (test=0.343) total time=   0.0s\n",
      "[CV] END ................................ score: (test=0.267) total time=   0.0s\n",
      "[CV] END ................................ score: (test=0.360) total time=   0.0s\n",
      "Scaler: StandardScaler \t score_mean: 0.38988762692459533 \t score_std: 0.11833907462623414\n",
      "\n",
      "[CV] END ................................ score: (test=0.594) total time=   0.0s\n",
      "[CV] END ................................ score: (test=0.327) total time=   0.0s\n",
      "[CV] END ................................ score: (test=0.336) total time=   0.0s\n",
      "[CV] END ................................ score: (test=0.331) total time=   0.0s\n",
      "[CV] END ................................ score: (test=0.367) total time=   0.0s\n",
      "Scaler: MinMaxScaler \t score_mean: 0.39080930966610633 \t score_std: 0.10242083511767384\n",
      "\n",
      "[CV] END ................................ score: (test=0.525) total time=   0.0s\n",
      "[CV] END ................................ score: (test=0.316) total time=   0.0s\n",
      "[CV] END ................................ score: (test=0.318) total time=   0.0s\n",
      "[CV] END ................................ score: (test=0.231) total time=   0.0s\n",
      "[CV] END ................................ score: (test=0.281) total time=   0.0s\n",
      "Scaler: MaxAbsScaler \t score_mean: 0.334127971290343 \t score_std: 0.10036291865149613\n",
      "\n",
      "[CV] END ................................ score: (test=0.570) total time=   0.0s\n",
      "[CV] END ................................ score: (test=0.316) total time=   0.0s\n",
      "[CV] END ................................ score: (test=0.351) total time=   0.0s\n",
      "[CV] END ................................ score: (test=0.226) total time=   0.0s\n",
      "[CV] END ................................ score: (test=0.390) total time=   0.0s\n",
      "Scaler: PowerTransformer \t score_mean: 0.37075743578218234 \t score_std: 0.11343139807780667\n",
      "\n"
     ]
    }
   ],
   "source": [
    "results = []\n",
    "\n",
    "for name, scaler in scalers.items():\n",
    "    scaled_data = scaler().fit_transform(inland_data_x)\n",
    "    knn = KNeighborsRegressor()\n",
    "    score = cross_val_score(knn, scaled_data, inland_data_y, cv=5, verbose=3, scoring=\"r2\")\n",
    "    score_mean = np.mean(score)\n",
    "    score_std = np.std(score)\n",
    "    print(f\"Scaler: {name} \\t score_mean: {score_mean} \\t score_std: {score_std}\", end=\"\\n\\n\")\n",
    "    results.append({\"Scaler\": name, \"score_mean\": score_mean, \"score_std\": score_std})"
   ]
  },
  {
   "cell_type": "code",
   "execution_count": 50,
   "id": "9d98b447-9744-42c3-a319-6dae1f37343d",
   "metadata": {},
   "outputs": [
    {
     "data": {
      "text/html": [
       "<div>\n",
       "<style scoped>\n",
       "    .dataframe tbody tr th:only-of-type {\n",
       "        vertical-align: middle;\n",
       "    }\n",
       "\n",
       "    .dataframe tbody tr th {\n",
       "        vertical-align: top;\n",
       "    }\n",
       "\n",
       "    .dataframe thead th {\n",
       "        text-align: right;\n",
       "    }\n",
       "</style>\n",
       "<table border=\"1\" class=\"dataframe\">\n",
       "  <thead>\n",
       "    <tr style=\"text-align: right;\">\n",
       "      <th></th>\n",
       "      <th>Scaler</th>\n",
       "      <th>score_mean</th>\n",
       "      <th>score_std</th>\n",
       "    </tr>\n",
       "  </thead>\n",
       "  <tbody>\n",
       "    <tr>\n",
       "      <th>0</th>\n",
       "      <td>StandardScaler</td>\n",
       "      <td>0.389888</td>\n",
       "      <td>0.118339</td>\n",
       "    </tr>\n",
       "    <tr>\n",
       "      <th>1</th>\n",
       "      <td>MinMaxScaler</td>\n",
       "      <td>0.390809</td>\n",
       "      <td>0.102421</td>\n",
       "    </tr>\n",
       "    <tr>\n",
       "      <th>2</th>\n",
       "      <td>MaxAbsScaler</td>\n",
       "      <td>0.334128</td>\n",
       "      <td>0.100363</td>\n",
       "    </tr>\n",
       "    <tr>\n",
       "      <th>3</th>\n",
       "      <td>PowerTransformer</td>\n",
       "      <td>0.370757</td>\n",
       "      <td>0.113431</td>\n",
       "    </tr>\n",
       "  </tbody>\n",
       "</table>\n",
       "</div>"
      ],
      "text/plain": [
       "             Scaler  score_mean  score_std\n",
       "0    StandardScaler    0.389888   0.118339\n",
       "1      MinMaxScaler    0.390809   0.102421\n",
       "2      MaxAbsScaler    0.334128   0.100363\n",
       "3  PowerTransformer    0.370757   0.113431"
      ]
     },
     "execution_count": 50,
     "metadata": {},
     "output_type": "execute_result"
    }
   ],
   "source": [
    "pd.DataFrame(results)"
   ]
  },
  {
   "cell_type": "markdown",
   "id": "73417bc2-f726-440d-94fa-29fb5129c74d",
   "metadata": {},
   "source": [
    "**Hyper Tuning the parameter**"
   ]
  },
  {
   "cell_type": "code",
   "execution_count": 51,
   "id": "f4075357-8ad0-482d-91f7-81f4de2e791d",
   "metadata": {},
   "outputs": [],
   "source": [
    "pipe = Pipeline([\n",
    "    (\"scaler\", StandardScaler()),\n",
    "    (\"model\", KNeighborsRegressor())\n",
    "])\n",
    "\n",
    "grid = RandomizedSearchCV(pipe, {\n",
    "    \"model__n_neighbors\": range(5,30,2),\n",
    "    \"model__weights\": [\"uniform\",\"distance\"],\n",
    "    \"model__leaf_size\": range(5,50,5),\n",
    "    \"model__p\": [1,2,3,4,5]\n",
    "}, scoring=\"r2\", cv=5, n_jobs=6, verbose=3)"
   ]
  },
  {
   "cell_type": "code",
   "execution_count": 52,
   "id": "dde3fa2c-5602-422c-adca-66593d9f2e19",
   "metadata": {},
   "outputs": [
    {
     "name": "stdout",
     "output_type": "stream",
     "text": [
      "Fitting 5 folds for each of 10 candidates, totalling 50 fits\n"
     ]
    },
    {
     "data": {
      "text/html": [
       "<style>#sk-container-id-3 {color: black;}#sk-container-id-3 pre{padding: 0;}#sk-container-id-3 div.sk-toggleable {background-color: white;}#sk-container-id-3 label.sk-toggleable__label {cursor: pointer;display: block;width: 100%;margin-bottom: 0;padding: 0.3em;box-sizing: border-box;text-align: center;}#sk-container-id-3 label.sk-toggleable__label-arrow:before {content: \"▸\";float: left;margin-right: 0.25em;color: #696969;}#sk-container-id-3 label.sk-toggleable__label-arrow:hover:before {color: black;}#sk-container-id-3 div.sk-estimator:hover label.sk-toggleable__label-arrow:before {color: black;}#sk-container-id-3 div.sk-toggleable__content {max-height: 0;max-width: 0;overflow: hidden;text-align: left;background-color: #f0f8ff;}#sk-container-id-3 div.sk-toggleable__content pre {margin: 0.2em;color: black;border-radius: 0.25em;background-color: #f0f8ff;}#sk-container-id-3 input.sk-toggleable__control:checked~div.sk-toggleable__content {max-height: 200px;max-width: 100%;overflow: auto;}#sk-container-id-3 input.sk-toggleable__control:checked~label.sk-toggleable__label-arrow:before {content: \"▾\";}#sk-container-id-3 div.sk-estimator input.sk-toggleable__control:checked~label.sk-toggleable__label {background-color: #d4ebff;}#sk-container-id-3 div.sk-label input.sk-toggleable__control:checked~label.sk-toggleable__label {background-color: #d4ebff;}#sk-container-id-3 input.sk-hidden--visually {border: 0;clip: rect(1px 1px 1px 1px);clip: rect(1px, 1px, 1px, 1px);height: 1px;margin: -1px;overflow: hidden;padding: 0;position: absolute;width: 1px;}#sk-container-id-3 div.sk-estimator {font-family: monospace;background-color: #f0f8ff;border: 1px dotted black;border-radius: 0.25em;box-sizing: border-box;margin-bottom: 0.5em;}#sk-container-id-3 div.sk-estimator:hover {background-color: #d4ebff;}#sk-container-id-3 div.sk-parallel-item::after {content: \"\";width: 100%;border-bottom: 1px solid gray;flex-grow: 1;}#sk-container-id-3 div.sk-label:hover label.sk-toggleable__label {background-color: #d4ebff;}#sk-container-id-3 div.sk-serial::before {content: \"\";position: absolute;border-left: 1px solid gray;box-sizing: border-box;top: 0;bottom: 0;left: 50%;z-index: 0;}#sk-container-id-3 div.sk-serial {display: flex;flex-direction: column;align-items: center;background-color: white;padding-right: 0.2em;padding-left: 0.2em;position: relative;}#sk-container-id-3 div.sk-item {position: relative;z-index: 1;}#sk-container-id-3 div.sk-parallel {display: flex;align-items: stretch;justify-content: center;background-color: white;position: relative;}#sk-container-id-3 div.sk-item::before, #sk-container-id-3 div.sk-parallel-item::before {content: \"\";position: absolute;border-left: 1px solid gray;box-sizing: border-box;top: 0;bottom: 0;left: 50%;z-index: -1;}#sk-container-id-3 div.sk-parallel-item {display: flex;flex-direction: column;z-index: 1;position: relative;background-color: white;}#sk-container-id-3 div.sk-parallel-item:first-child::after {align-self: flex-end;width: 50%;}#sk-container-id-3 div.sk-parallel-item:last-child::after {align-self: flex-start;width: 50%;}#sk-container-id-3 div.sk-parallel-item:only-child::after {width: 0;}#sk-container-id-3 div.sk-dashed-wrapped {border: 1px dashed gray;margin: 0 0.4em 0.5em 0.4em;box-sizing: border-box;padding-bottom: 0.4em;background-color: white;}#sk-container-id-3 div.sk-label label {font-family: monospace;font-weight: bold;display: inline-block;line-height: 1.2em;}#sk-container-id-3 div.sk-label-container {text-align: center;}#sk-container-id-3 div.sk-container {/* jupyter's `normalize.less` sets `[hidden] { display: none; }` but bootstrap.min.css set `[hidden] { display: none !important; }` so we also need the `!important` here to be able to override the default hidden behavior on the sphinx rendered scikit-learn.org. See: https://github.com/scikit-learn/scikit-learn/issues/21755 */display: inline-block !important;position: relative;}#sk-container-id-3 div.sk-text-repr-fallback {display: none;}</style><div id=\"sk-container-id-3\" class=\"sk-top-container\"><div class=\"sk-text-repr-fallback\"><pre>RandomizedSearchCV(cv=5,\n",
       "                   estimator=Pipeline(steps=[(&#x27;scaler&#x27;, StandardScaler()),\n",
       "                                             (&#x27;model&#x27;, KNeighborsRegressor())]),\n",
       "                   n_jobs=6,\n",
       "                   param_distributions={&#x27;model__leaf_size&#x27;: range(5, 50, 5),\n",
       "                                        &#x27;model__n_neighbors&#x27;: range(5, 30, 2),\n",
       "                                        &#x27;model__p&#x27;: [1, 2, 3, 4, 5],\n",
       "                                        &#x27;model__weights&#x27;: [&#x27;uniform&#x27;,\n",
       "                                                           &#x27;distance&#x27;]},\n",
       "                   scoring=&#x27;r2&#x27;, verbose=3)</pre><b>In a Jupyter environment, please rerun this cell to show the HTML representation or trust the notebook. <br />On GitHub, the HTML representation is unable to render, please try loading this page with nbviewer.org.</b></div><div class=\"sk-container\" hidden><div class=\"sk-item sk-dashed-wrapped\"><div class=\"sk-label-container\"><div class=\"sk-label sk-toggleable\"><input class=\"sk-toggleable__control sk-hidden--visually\" id=\"sk-estimator-id-3\" type=\"checkbox\" ><label for=\"sk-estimator-id-3\" class=\"sk-toggleable__label sk-toggleable__label-arrow\">RandomizedSearchCV</label><div class=\"sk-toggleable__content\"><pre>RandomizedSearchCV(cv=5,\n",
       "                   estimator=Pipeline(steps=[(&#x27;scaler&#x27;, StandardScaler()),\n",
       "                                             (&#x27;model&#x27;, KNeighborsRegressor())]),\n",
       "                   n_jobs=6,\n",
       "                   param_distributions={&#x27;model__leaf_size&#x27;: range(5, 50, 5),\n",
       "                                        &#x27;model__n_neighbors&#x27;: range(5, 30, 2),\n",
       "                                        &#x27;model__p&#x27;: [1, 2, 3, 4, 5],\n",
       "                                        &#x27;model__weights&#x27;: [&#x27;uniform&#x27;,\n",
       "                                                           &#x27;distance&#x27;]},\n",
       "                   scoring=&#x27;r2&#x27;, verbose=3)</pre></div></div></div><div class=\"sk-parallel\"><div class=\"sk-parallel-item\"><div class=\"sk-item\"><div class=\"sk-label-container\"><div class=\"sk-label sk-toggleable\"><input class=\"sk-toggleable__control sk-hidden--visually\" id=\"sk-estimator-id-4\" type=\"checkbox\" ><label for=\"sk-estimator-id-4\" class=\"sk-toggleable__label sk-toggleable__label-arrow\">estimator: Pipeline</label><div class=\"sk-toggleable__content\"><pre>Pipeline(steps=[(&#x27;scaler&#x27;, StandardScaler()), (&#x27;model&#x27;, KNeighborsRegressor())])</pre></div></div></div><div class=\"sk-serial\"><div class=\"sk-item\"><div class=\"sk-serial\"><div class=\"sk-item\"><div class=\"sk-estimator sk-toggleable\"><input class=\"sk-toggleable__control sk-hidden--visually\" id=\"sk-estimator-id-5\" type=\"checkbox\" ><label for=\"sk-estimator-id-5\" class=\"sk-toggleable__label sk-toggleable__label-arrow\">StandardScaler</label><div class=\"sk-toggleable__content\"><pre>StandardScaler()</pre></div></div></div><div class=\"sk-item\"><div class=\"sk-estimator sk-toggleable\"><input class=\"sk-toggleable__control sk-hidden--visually\" id=\"sk-estimator-id-6\" type=\"checkbox\" ><label for=\"sk-estimator-id-6\" class=\"sk-toggleable__label sk-toggleable__label-arrow\">KNeighborsRegressor</label><div class=\"sk-toggleable__content\"><pre>KNeighborsRegressor()</pre></div></div></div></div></div></div></div></div></div></div></div></div>"
      ],
      "text/plain": [
       "RandomizedSearchCV(cv=5,\n",
       "                   estimator=Pipeline(steps=[('scaler', StandardScaler()),\n",
       "                                             ('model', KNeighborsRegressor())]),\n",
       "                   n_jobs=6,\n",
       "                   param_distributions={'model__leaf_size': range(5, 50, 5),\n",
       "                                        'model__n_neighbors': range(5, 30, 2),\n",
       "                                        'model__p': [1, 2, 3, 4, 5],\n",
       "                                        'model__weights': ['uniform',\n",
       "                                                           'distance']},\n",
       "                   scoring='r2', verbose=3)"
      ]
     },
     "execution_count": 52,
     "metadata": {},
     "output_type": "execute_result"
    }
   ],
   "source": [
    "grid.fit(inland_data_x, inland_data_y)"
   ]
  },
  {
   "cell_type": "code",
   "execution_count": 53,
   "id": "9875db1c-3178-4a04-aa16-438c80f8ad24",
   "metadata": {},
   "outputs": [
    {
     "data": {
      "text/plain": [
       "0.43653790849081486"
      ]
     },
     "execution_count": 53,
     "metadata": {},
     "output_type": "execute_result"
    }
   ],
   "source": [
    "grid.best_score_"
   ]
  },
  {
   "cell_type": "code",
   "execution_count": 54,
   "id": "598c43aa-7406-4a44-941a-8ace049502c3",
   "metadata": {},
   "outputs": [
    {
     "data": {
      "text/plain": [
       "{'model__weights': 'distance',\n",
       " 'model__p': 3,\n",
       " 'model__n_neighbors': 21,\n",
       " 'model__leaf_size': 15}"
      ]
     },
     "execution_count": 54,
     "metadata": {},
     "output_type": "execute_result"
    }
   ],
   "source": [
    "grid.best_params_"
   ]
  },
  {
   "cell_type": "markdown",
   "id": "2b450dc9-2d90-46b6-83bf-9754d2c61320",
   "metadata": {},
   "source": [
    "**Feature Selection**"
   ]
  },
  {
   "cell_type": "code",
   "execution_count": 79,
   "id": "335fb93b-fb35-427f-a6d7-78e830d4d571",
   "metadata": {},
   "outputs": [
    {
     "data": {
      "text/html": [
       "<style>#sk-container-id-8 {color: black;}#sk-container-id-8 pre{padding: 0;}#sk-container-id-8 div.sk-toggleable {background-color: white;}#sk-container-id-8 label.sk-toggleable__label {cursor: pointer;display: block;width: 100%;margin-bottom: 0;padding: 0.3em;box-sizing: border-box;text-align: center;}#sk-container-id-8 label.sk-toggleable__label-arrow:before {content: \"▸\";float: left;margin-right: 0.25em;color: #696969;}#sk-container-id-8 label.sk-toggleable__label-arrow:hover:before {color: black;}#sk-container-id-8 div.sk-estimator:hover label.sk-toggleable__label-arrow:before {color: black;}#sk-container-id-8 div.sk-toggleable__content {max-height: 0;max-width: 0;overflow: hidden;text-align: left;background-color: #f0f8ff;}#sk-container-id-8 div.sk-toggleable__content pre {margin: 0.2em;color: black;border-radius: 0.25em;background-color: #f0f8ff;}#sk-container-id-8 input.sk-toggleable__control:checked~div.sk-toggleable__content {max-height: 200px;max-width: 100%;overflow: auto;}#sk-container-id-8 input.sk-toggleable__control:checked~label.sk-toggleable__label-arrow:before {content: \"▾\";}#sk-container-id-8 div.sk-estimator input.sk-toggleable__control:checked~label.sk-toggleable__label {background-color: #d4ebff;}#sk-container-id-8 div.sk-label input.sk-toggleable__control:checked~label.sk-toggleable__label {background-color: #d4ebff;}#sk-container-id-8 input.sk-hidden--visually {border: 0;clip: rect(1px 1px 1px 1px);clip: rect(1px, 1px, 1px, 1px);height: 1px;margin: -1px;overflow: hidden;padding: 0;position: absolute;width: 1px;}#sk-container-id-8 div.sk-estimator {font-family: monospace;background-color: #f0f8ff;border: 1px dotted black;border-radius: 0.25em;box-sizing: border-box;margin-bottom: 0.5em;}#sk-container-id-8 div.sk-estimator:hover {background-color: #d4ebff;}#sk-container-id-8 div.sk-parallel-item::after {content: \"\";width: 100%;border-bottom: 1px solid gray;flex-grow: 1;}#sk-container-id-8 div.sk-label:hover label.sk-toggleable__label {background-color: #d4ebff;}#sk-container-id-8 div.sk-serial::before {content: \"\";position: absolute;border-left: 1px solid gray;box-sizing: border-box;top: 0;bottom: 0;left: 50%;z-index: 0;}#sk-container-id-8 div.sk-serial {display: flex;flex-direction: column;align-items: center;background-color: white;padding-right: 0.2em;padding-left: 0.2em;position: relative;}#sk-container-id-8 div.sk-item {position: relative;z-index: 1;}#sk-container-id-8 div.sk-parallel {display: flex;align-items: stretch;justify-content: center;background-color: white;position: relative;}#sk-container-id-8 div.sk-item::before, #sk-container-id-8 div.sk-parallel-item::before {content: \"\";position: absolute;border-left: 1px solid gray;box-sizing: border-box;top: 0;bottom: 0;left: 50%;z-index: -1;}#sk-container-id-8 div.sk-parallel-item {display: flex;flex-direction: column;z-index: 1;position: relative;background-color: white;}#sk-container-id-8 div.sk-parallel-item:first-child::after {align-self: flex-end;width: 50%;}#sk-container-id-8 div.sk-parallel-item:last-child::after {align-self: flex-start;width: 50%;}#sk-container-id-8 div.sk-parallel-item:only-child::after {width: 0;}#sk-container-id-8 div.sk-dashed-wrapped {border: 1px dashed gray;margin: 0 0.4em 0.5em 0.4em;box-sizing: border-box;padding-bottom: 0.4em;background-color: white;}#sk-container-id-8 div.sk-label label {font-family: monospace;font-weight: bold;display: inline-block;line-height: 1.2em;}#sk-container-id-8 div.sk-label-container {text-align: center;}#sk-container-id-8 div.sk-container {/* jupyter's `normalize.less` sets `[hidden] { display: none; }` but bootstrap.min.css set `[hidden] { display: none !important; }` so we also need the `!important` here to be able to override the default hidden behavior on the sphinx rendered scikit-learn.org. See: https://github.com/scikit-learn/scikit-learn/issues/21755 */display: inline-block !important;position: relative;}#sk-container-id-8 div.sk-text-repr-fallback {display: none;}</style><div id=\"sk-container-id-8\" class=\"sk-top-container\"><div class=\"sk-text-repr-fallback\"><pre>SequentialFeatureSelector(cv=3, estimator=KNeighborsRegressor(),\n",
       "                          n_features_to_select=6, n_jobs=5, scoring=&#x27;r2&#x27;)</pre><b>In a Jupyter environment, please rerun this cell to show the HTML representation or trust the notebook. <br />On GitHub, the HTML representation is unable to render, please try loading this page with nbviewer.org.</b></div><div class=\"sk-container\" hidden><div class=\"sk-item sk-dashed-wrapped\"><div class=\"sk-label-container\"><div class=\"sk-label sk-toggleable\"><input class=\"sk-toggleable__control sk-hidden--visually\" id=\"sk-estimator-id-19\" type=\"checkbox\" ><label for=\"sk-estimator-id-19\" class=\"sk-toggleable__label sk-toggleable__label-arrow\">SequentialFeatureSelector</label><div class=\"sk-toggleable__content\"><pre>SequentialFeatureSelector(cv=3, estimator=KNeighborsRegressor(),\n",
       "                          n_features_to_select=6, n_jobs=5, scoring=&#x27;r2&#x27;)</pre></div></div></div><div class=\"sk-parallel\"><div class=\"sk-parallel-item\"><div class=\"sk-item\"><div class=\"sk-label-container\"><div class=\"sk-label sk-toggleable\"><input class=\"sk-toggleable__control sk-hidden--visually\" id=\"sk-estimator-id-20\" type=\"checkbox\" ><label for=\"sk-estimator-id-20\" class=\"sk-toggleable__label sk-toggleable__label-arrow\">estimator: KNeighborsRegressor</label><div class=\"sk-toggleable__content\"><pre>KNeighborsRegressor()</pre></div></div></div><div class=\"sk-serial\"><div class=\"sk-item\"><div class=\"sk-estimator sk-toggleable\"><input class=\"sk-toggleable__control sk-hidden--visually\" id=\"sk-estimator-id-21\" type=\"checkbox\" ><label for=\"sk-estimator-id-21\" class=\"sk-toggleable__label sk-toggleable__label-arrow\">KNeighborsRegressor</label><div class=\"sk-toggleable__content\"><pre>KNeighborsRegressor()</pre></div></div></div></div></div></div></div></div></div></div>"
      ],
      "text/plain": [
       "SequentialFeatureSelector(cv=3, estimator=KNeighborsRegressor(),\n",
       "                          n_features_to_select=6, n_jobs=5, scoring='r2')"
      ]
     },
     "execution_count": 79,
     "metadata": {},
     "output_type": "execute_result"
    }
   ],
   "source": [
    "sfs = SequentialFeatureSelector(knn, n_features_to_select=6, scoring=\"r2\", n_jobs=5, cv=3).set_output(transform=\"pandas\")\n",
    "sfs"
   ]
  },
  {
   "cell_type": "code",
   "execution_count": 80,
   "id": "757ad44a-cc10-42f6-8750-b9a6e90133aa",
   "metadata": {},
   "outputs": [],
   "source": [
    "stnd = StandardScaler()\n",
    "stnd.set_output(transform=\"pandas\")\n",
    "sfs_x = stnd.fit_transform(inland_data_x)\n",
    "sfs_data = sfs.fit_transform(sfs_x, inland_data_y)"
   ]
  },
  {
   "cell_type": "code",
   "execution_count": 83,
   "id": "0165118e-bc29-4e7d-8327-938f05555a59",
   "metadata": {},
   "outputs": [
    {
     "name": "stdout",
     "output_type": "stream",
     "text": [
      "score_mean:  0.8449268666431378\n",
      "score_std:  0.011080944932019797\n"
     ]
    }
   ],
   "source": [
    "pipe = Pipeline([\n",
    "    (\"model\", KNeighborsRegressor(leaf_size=15, n_neighbors=21, p=1, weights='uniform'))\n",
    "])\n",
    "\n",
    "score = cross_val_score(pipe, sfs_data, inland_data_x, cv=5, scoring='r2', n_jobs=5)\n",
    "print(\"score_mean: \", score.mean())\n",
    "print(\"score_std: \", score.std())"
   ]
  },
  {
   "cell_type": "code",
   "execution_count": null,
   "id": "0acbda0a-1b1b-4286-8b64-0ab6ad9e1e34",
   "metadata": {},
   "outputs": [],
   "source": []
  },
  {
   "cell_type": "code",
   "execution_count": null,
   "id": "dbb6378a-0cb1-4fbe-976f-39ad2d03f8ce",
   "metadata": {},
   "outputs": [],
   "source": []
  }
 ],
 "metadata": {
  "kernelspec": {
   "display_name": "Python 3 (ipykernel)",
   "language": "python",
   "name": "python3"
  },
  "language_info": {
   "codemirror_mode": {
    "name": "ipython",
    "version": 3
   },
   "file_extension": ".py",
   "mimetype": "text/x-python",
   "name": "python",
   "nbconvert_exporter": "python",
   "pygments_lexer": "ipython3",
   "version": "3.11.1"
  }
 },
 "nbformat": 4,
 "nbformat_minor": 5
}
