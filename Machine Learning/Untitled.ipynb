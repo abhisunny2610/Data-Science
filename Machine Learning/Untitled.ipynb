{
 "cells": [
  {
   "cell_type": "code",
   "execution_count": 62,
   "id": "96f22ae9-9ab7-4308-85ca-88530878982c",
   "metadata": {},
   "outputs": [],
   "source": [
    "import numpy as np\n",
    "import pandas as pd\n",
    "import matplotlib.pyplot as plt\n",
    "from sklearn.linear_model import LinearRegression\n",
    "from sklearn.model_selection import train_test_split\n",
    "from sklearn.metrics import r2_score, mean_squared_error, mean_absolute_error\n",
    "import math"
   ]
  },
  {
   "cell_type": "code",
   "execution_count": 68,
   "id": "3f0d26df-c512-431f-aef3-1ad7931db817",
   "metadata": {},
   "outputs": [],
   "source": [
    "x = np.random.rand(100)+np.random.randint(-6,3,100)"
   ]
  },
  {
   "cell_type": "code",
   "execution_count": 69,
   "id": "d3e29ae0-3b6d-4847-9e1b-06e7db6e4afc",
   "metadata": {},
   "outputs": [
    {
     "data": {
      "text/plain": [
       "array([-5.40811927,  0.84268532, -5.14452888, -2.08038795, -0.28270456,\n",
       "       -4.9083528 , -0.96664552, -2.71846652, -4.5567125 , -0.87047044,\n",
       "       -1.78353785,  1.12126039, -0.93917011, -2.92952547, -0.35527451,\n",
       "        0.1719554 , -4.82683967, -0.01034696,  2.49180128, -2.72551395,\n",
       "       -1.71101705,  2.64796969, -3.45260001,  2.5736721 , -4.37441417,\n",
       "       -3.05460977, -5.37200231,  1.66341285,  0.15111161, -0.95623529,\n",
       "       -0.66200614, -5.24445504, -0.47266918, -0.7102206 ,  0.3344191 ,\n",
       "       -3.58350549, -2.84878466, -2.827498  , -5.22289907,  1.05681148,\n",
       "       -4.15662876,  2.88526509,  1.63549927,  2.40028763,  0.51738657,\n",
       "       -0.18371279, -3.79878489,  0.96818248,  1.10470261, -2.25508111,\n",
       "       -1.80485515, -3.88822847, -1.02315409,  1.0706928 , -0.92035159,\n",
       "       -5.8084754 ,  0.40541882, -5.54306409, -3.21449939,  0.71687745,\n",
       "       -3.29167435, -1.33638572,  0.98531848, -1.45102599, -3.33619949,\n",
       "        1.08621658, -1.77072347, -5.11897132, -3.39018182,  1.48048284,\n",
       "       -3.87164391, -5.66168235,  1.11191146, -4.01966553, -4.72336653,\n",
       "       -5.91289497, -0.06843806, -3.77068887, -3.71735618,  1.5919094 ,\n",
       "        0.25840632,  2.13398079,  2.06950871, -4.77938002, -0.78740715,\n",
       "       -0.42534003, -0.39438619,  2.75051629, -2.70540517, -3.82081315,\n",
       "       -5.23169706,  0.07555129, -3.45151557, -2.29299652, -0.87133531,\n",
       "       -5.49757419, -2.30280271, -2.83912833, -3.36842243, -4.42928152])"
      ]
     },
     "execution_count": 69,
     "metadata": {},
     "output_type": "execute_result"
    }
   ],
   "source": [
    "x"
   ]
  },
  {
   "cell_type": "code",
   "execution_count": 70,
   "id": "dcd10709-dd11-4936-bc9e-1b2681cb2906",
   "metadata": {},
   "outputs": [],
   "source": [
    "y =  0.3*x**2 + 2*x + 5+ np.random.randn(100)"
   ]
  },
  {
   "cell_type": "code",
   "execution_count": 71,
   "id": "60b6b110-7433-42f1-9e3c-1c8acbda42ba",
   "metadata": {},
   "outputs": [
    {
     "data": {
      "text/plain": [
       "array([ 1.74221057,  6.02275814,  3.46554405,  1.51058499,  4.48510141,\n",
       "        2.73912092,  2.05280595,  1.17315566,  1.05773366,  3.60353087,\n",
       "        2.62526527,  7.46864612,  3.31324894,  1.84348587,  4.20671251,\n",
       "        6.96060922,  1.71299885,  4.35399924, 11.54245961,  2.28138329,\n",
       "        1.75772787, 12.00893583,  0.76613749, 13.12123054,  3.15632294,\n",
       "        0.5707983 ,  3.97094276, 10.11640397,  6.42982068,  3.58256112,\n",
       "        2.4482015 ,  2.62273245,  6.01608792,  3.43495882,  6.91733758,\n",
       "        1.50016624,  3.37403292,  2.27064821,  1.13785248,  8.08124435,\n",
       "        1.03679882, 12.73289509, 10.07417472, 10.19640598,  5.66214484,\n",
       "        4.88757881,  1.88513941,  8.87405188,  8.29076063,  3.35194227,\n",
       "        1.97050367,  1.0422756 ,  3.72595062,  7.01685366,  3.98309575,\n",
       "        3.98178942,  8.9943535 ,  4.53042555,  1.51120943,  6.46548182,\n",
       "        1.27575329,  2.90631059,  7.57688471,  3.64424025,  2.71496357,\n",
       "        7.27516051,  2.11746485,  2.99520163,  2.13613552,  8.35824065,\n",
       "        3.9907084 ,  3.28116047,  9.06411172,  4.21068708,  1.59875874,\n",
       "        5.45104387,  4.8098654 ,  1.72842369,  0.91912016,  9.00987041,\n",
       "        3.59188336, 10.59105511, 10.53041954,  2.6660271 ,  3.81798084,\n",
       "        3.44379251,  3.63653394, 14.73640514,  2.0327586 ,  0.23001173,\n",
       "        4.12157085,  4.27968756,  2.90230713,  0.05669312,  3.40693094,\n",
       "        4.22463932,  2.49107694,  0.5494855 ,  0.70031945,  1.5714157 ])"
      ]
     },
     "execution_count": 71,
     "metadata": {},
     "output_type": "execute_result"
    }
   ],
   "source": [
    "y"
   ]
  },
  {
   "cell_type": "code",
   "execution_count": 72,
   "id": "a4bd6f6a-6b76-4b18-8ab6-23c6e82e4678",
   "metadata": {},
   "outputs": [
    {
     "data": {
      "text/plain": [
       "<matplotlib.collections.PathCollection at 0x226e1cc1150>"
      ]
     },
     "execution_count": 72,
     "metadata": {},
     "output_type": "execute_result"
    },
    {
     "data": {
      "image/png": "[encoded data removed]",
      "text/plain": [
       "<Figure size 640x480 with 1 Axes>"
      ]
     },
     "metadata": {},
     "output_type": "display_data"
    }
   ],
   "source": [
    "plt.scatter(x,y)"
   ]
  },
  {
   "cell_type": "code",
   "execution_count": 28,
   "id": "b6a8f224-30eb-4709-8f0c-f57e5647427c",
   "metadata": {},
   "outputs": [],
   "source": [
    "def generate_num(a,b,limit):\n",
    "    x= np.random.rand(limit)+np.random.randint(a,b,limit)\n",
    "    y = 0.3*x**2 + 2*x + 5+ np.random.randn(limit)\n",
    "\n",
    "    return x,y"
   ]
  },
  {
   "cell_type": "code",
   "execution_count": 73,
   "id": "38d9daa2-d2f4-4c1f-8a22-305c856f086c",
   "metadata": {},
   "outputs": [
    {
     "data": {
      "text/plain": [
       "(array([ 1.24835097, -5.05441544, -5.35589819, -2.27412765,  2.67091045,\n",
       "        -2.00521446, -3.36964409,  1.08889211,  0.93920763, -5.55241712,\n",
       "        -3.30640689, -5.01944948,  2.00898406, -4.42847109, -3.33484247,\n",
       "         0.985635  ,  1.66416761, -3.00367964, -1.46083874,  2.52397309,\n",
       "         0.24812292, -2.41236248, -4.45177336, -4.49365236, -1.45873777,\n",
       "         0.71664599, -1.89068553, -4.91506067,  0.14352976, -4.1843913 ,\n",
       "         0.70146615,  0.45766576, -3.75146862, -5.96717785, -3.82295547,\n",
       "        -2.06858859, -3.27813469, -0.22370899, -3.65006806, -3.69094992,\n",
       "        -4.88213161, -0.8200296 , -4.41078263, -1.67910147,  1.33846062,\n",
       "        -4.01578819,  1.8817584 , -3.31290193, -0.24434297, -3.41448727,\n",
       "        -2.23455539, -3.15742221,  0.31933   ,  1.90948164,  1.98587293,\n",
       "        -4.42102549,  0.91075234, -4.48177419, -1.65052287,  0.61588541,\n",
       "        -0.57866137, -4.70505884, -4.88420529, -5.124459  ,  1.72880041,\n",
       "        -1.86106795, -0.97835059,  1.77338266, -1.47333801, -2.75839928,\n",
       "        -4.07373104, -4.33048829, -4.66122733, -4.21606188, -3.2612731 ,\n",
       "         1.20517101,  1.62246786,  0.66214828,  0.77279321, -2.25502844,\n",
       "         1.63720146,  1.95556619, -0.29190831, -0.87898331, -1.91788555,\n",
       "         1.2060649 , -5.35114683, -2.15237756, -4.74720205, -0.83723012,\n",
       "        -2.31595509, -3.50130973, -3.60181835,  2.76890228, -1.0299422 ,\n",
       "        -2.40949155, -1.85452462, -2.40014598,  0.67799352, -2.85609712]),\n",
       " array([ 9.31714439,  1.74939628,  4.86873833,  0.77643517, 12.50320742,\n",
       "         2.96602002,  1.61366808,  7.73415786,  7.06950008,  2.61276752,\n",
       "         2.16654881,  1.86240955, 11.55889508,  1.99550518,  3.58266775,\n",
       "         5.94461631,  8.46430199,  0.61455802,  3.95857771, 12.10047549,\n",
       "         6.24789981,  1.33700211,  1.56784718,  1.18732822,  0.92025064,\n",
       "         8.2305298 ,  3.59044089,  3.19062911,  5.77102865,  1.59017143,\n",
       "         7.26802689,  6.70279662,  1.88157055,  5.72758621,  0.29470589,\n",
       "         2.97830876, -0.543263  ,  5.90923609,  2.96484743,  1.9212584 ,\n",
       "         1.04504347,  2.74721288,  1.6380376 ,  4.27040579,  7.78568637,\n",
       "         2.53864103,  9.80186282,  0.24922809,  6.23066437,  1.51770094,\n",
       "         3.43465558,  0.66651106,  6.03395476,  9.62287025,  8.6496916 ,\n",
       "         0.65883097,  6.77019998,  2.79026196,  2.52797817,  7.18697258,\n",
       "         2.65863089,  3.19450091,  2.35607368,  1.55204918,  9.22309627,\n",
       "         2.02420558,  3.928065  ,  8.94294478,  1.68581992, -0.64270624,\n",
       "         1.86950392,  1.93648687,  2.17412841,  3.22821152,  0.61960647,\n",
       "         7.279882  ,  9.06346064,  6.96262178,  5.80662116,  0.71321923,\n",
       "         8.31479022,  8.4149474 ,  4.77434678,  2.40045154,  2.27626001,\n",
       "         9.51740212,  2.6897559 ,  2.48436536,  3.48807811,  2.45654268,\n",
       "         2.52416423,  1.88124686,  0.76474066, 13.62786501,  3.42622056,\n",
       "         0.25560744,  2.12138043,  1.93369031,  5.99626485,  1.01298336]))"
      ]
     },
     "execution_count": 73,
     "metadata": {},
     "output_type": "execute_result"
    }
   ],
   "source": [
    "generate_num(-6,3,100)"
   ]
  },
  {
   "cell_type": "code",
   "execution_count": 31,
   "id": "297354ca-9d08-4abe-8612-326908be04f6",
   "metadata": {},
   "outputs": [],
   "source": [
    "reg = LinearRegression()"
   ]
  },
  {
   "cell_type": "code",
   "execution_count": 89,
   "id": "b6ad8f26-4e82-432d-bd41-e38e069fdd22",
   "metadata": {},
   "outputs": [],
   "source": [
    "n,m = generate_num(-10,10,100)\n",
    "\n",
    "train_x, test_x, train_y, test_y = train_test_split(n,m, test_size=0.3)"
   ]
  },
  {
   "cell_type": "code",
   "execution_count": 90,
   "id": "698518ac-200d-4dc9-ae7a-175f167bb04b",
   "metadata": {},
   "outputs": [
    {
     "data": {
      "text/html": [
       "<style>#sk-container-id-5 {color: black;}#sk-container-id-5 pre{padding: 0;}#sk-container-id-5 div.sk-toggleable {background-color: white;}#sk-container-id-5 label.sk-toggleable__label {cursor: pointer;display: block;width: 100%;margin-bottom: 0;padding: 0.3em;box-sizing: border-box;text-align: center;}#sk-container-id-5 label.sk-toggleable__label-arrow:before {content: \"▸\";float: left;margin-right: 0.25em;color: #696969;}#sk-container-id-5 label.sk-toggleable__label-arrow:hover:before {color: black;}#sk-container-id-5 div.sk-estimator:hover label.sk-toggleable__label-arrow:before {color: black;}#sk-container-id-5 div.sk-toggleable__content {max-height: 0;max-width: 0;overflow: hidden;text-align: left;background-color: #f0f8ff;}#sk-container-id-5 div.sk-toggleable__content pre {margin: 0.2em;color: black;border-radius: 0.25em;background-color: #f0f8ff;}#sk-container-id-5 input.sk-toggleable__control:checked~div.sk-toggleable__content {max-height: 200px;max-width: 100%;overflow: auto;}#sk-container-id-5 input.sk-toggleable__control:checked~label.sk-toggleable__label-arrow:before {content: \"▾\";}#sk-container-id-5 div.sk-estimator input.sk-toggleable__control:checked~label.sk-toggleable__label {background-color: #d4ebff;}#sk-container-id-5 div.sk-label input.sk-toggleable__control:checked~label.sk-toggleable__label {background-color: #d4ebff;}#sk-container-id-5 input.sk-hidden--visually {border: 0;clip: rect(1px 1px 1px 1px);clip: rect(1px, 1px, 1px, 1px);height: 1px;margin: -1px;overflow: hidden;padding: 0;position: absolute;width: 1px;}#sk-container-id-5 div.sk-estimator {font-family: monospace;background-color: #f0f8ff;border: 1px dotted black;border-radius: 0.25em;box-sizing: border-box;margin-bottom: 0.5em;}#sk-container-id-5 div.sk-estimator:hover {background-color: #d4ebff;}#sk-container-id-5 div.sk-parallel-item::after {content: \"\";width: 100%;border-bottom: 1px solid gray;flex-grow: 1;}#sk-container-id-5 div.sk-label:hover label.sk-toggleable__label {background-color: #d4ebff;}#sk-container-id-5 div.sk-serial::before {content: \"\";position: absolute;border-left: 1px solid gray;box-sizing: border-box;top: 0;bottom: 0;left: 50%;z-index: 0;}#sk-container-id-5 div.sk-serial {display: flex;flex-direction: column;align-items: center;background-color: white;padding-right: 0.2em;padding-left: 0.2em;position: relative;}#sk-container-id-5 div.sk-item {position: relative;z-index: 1;}#sk-container-id-5 div.sk-parallel {display: flex;align-items: stretch;justify-content: center;background-color: white;position: relative;}#sk-container-id-5 div.sk-item::before, #sk-container-id-5 div.sk-parallel-item::before {content: \"\";position: absolute;border-left: 1px solid gray;box-sizing: border-box;top: 0;bottom: 0;left: 50%;z-index: -1;}#sk-container-id-5 div.sk-parallel-item {display: flex;flex-direction: column;z-index: 1;position: relative;background-color: white;}#sk-container-id-5 div.sk-parallel-item:first-child::after {align-self: flex-end;width: 50%;}#sk-container-id-5 div.sk-parallel-item:last-child::after {align-self: flex-start;width: 50%;}#sk-container-id-5 div.sk-parallel-item:only-child::after {width: 0;}#sk-container-id-5 div.sk-dashed-wrapped {border: 1px dashed gray;margin: 0 0.4em 0.5em 0.4em;box-sizing: border-box;padding-bottom: 0.4em;background-color: white;}#sk-container-id-5 div.sk-label label {font-family: monospace;font-weight: bold;display: inline-block;line-height: 1.2em;}#sk-container-id-5 div.sk-label-container {text-align: center;}#sk-container-id-5 div.sk-container {/* jupyter's `normalize.less` sets `[hidden] { display: none; }` but bootstrap.min.css set `[hidden] { display: none !important; }` so we also need the `!important` here to be able to override the default hidden behavior on the sphinx rendered scikit-learn.org. See: https://github.com/scikit-learn/scikit-learn/issues/21755 */display: inline-block !important;position: relative;}#sk-container-id-5 div.sk-text-repr-fallback {display: none;}</style><div id=\"sk-container-id-5\" class=\"sk-top-container\"><div class=\"sk-text-repr-fallback\"><pre>LinearRegression()</pre><b>In a Jupyter environment, please rerun this cell to show the HTML representation or trust the notebook. <br />On GitHub, the HTML representation is unable to render, please try loading this page with nbviewer.org.</b></div><div class=\"sk-container\" hidden><div class=\"sk-item\"><div class=\"sk-estimator sk-toggleable\"><input class=\"sk-toggleable__control sk-hidden--visually\" id=\"sk-estimator-id-5\" type=\"checkbox\" checked><label for=\"sk-estimator-id-5\" class=\"sk-toggleable__label sk-toggleable__label-arrow\">LinearRegression</label><div class=\"sk-toggleable__content\"><pre>LinearRegression()</pre></div></div></div></div></div>"
      ],
      "text/plain": [
       "LinearRegression()"
      ]
     },
     "execution_count": 90,
     "metadata": {},
     "output_type": "execute_result"
    }
   ],
   "source": [
    "reg.fit(train_x.reshape(-1,1),train_y.reshape(-1,1))"
   ]
  },
  {
   "cell_type": "code",
   "execution_count": 91,
   "id": "79b99a48-cee0-4ff2-bcef-fcaaff1bb899",
   "metadata": {},
   "outputs": [],
   "source": [
    "y_pred = reg.predict(train_x.reshape(-1,1))"
   ]
  },
  {
   "cell_type": "code",
   "execution_count": 92,
   "id": "2aedc4b8-9a21-42f8-bb2e-74840fd25444",
   "metadata": {},
   "outputs": [],
   "source": [
    "def regSummary(y_true, y_pred):\n",
    "    return{\n",
    "        \"r2_score\": r2_score(y_true, y_pred),\n",
    "        \"mae\": mean_absolute_error(y_true, y_pred),\n",
    "        \"mse\": mean_squared_error(y_true, y_pred),\n",
    "        \"rmse\": math.sqrt(mean_squared_error(y_true, y_pred))\n",
    "    }"
   ]
  },
  {
   "cell_type": "code",
   "execution_count": 93,
   "id": "4b00ff01-d797-4e5a-8cfc-691fd177d2e3",
   "metadata": {},
   "outputs": [
    {
     "data": {
      "text/plain": [
       "{'r2_score': 0.5830253916053585,\n",
       " 'mae': 7.59996115428741,\n",
       " 'mse': 75.48003118319367,\n",
       " 'rmse': 8.687924446218076}"
      ]
     },
     "execution_count": 93,
     "metadata": {},
     "output_type": "execute_result"
    }
   ],
   "source": [
    "regSummary(train_y, y_pred)"
   ]
  },
  {
   "cell_type": "code",
   "execution_count": 94,
   "id": "27b87c22-c09f-4cbc-bd8b-0051e31dc5ee",
   "metadata": {},
   "outputs": [
    {
     "data": {
      "text/plain": [
       "[<matplotlib.lines.Line2D at 0x226e3ce8750>]"
      ]
     },
     "execution_count": 94,
     "metadata": {},
     "output_type": "execute_result"
    },
    {
     "data": {
      "image/png": "[encoded data removed]",
      "text/plain": [
       "<Figure size 640x480 with 1 Axes>"
      ]
     },
     "metadata": {},
     "output_type": "display_data"
    }
   ],
   "source": [
    "plt.scatter(n,m)\n",
    "plt.plot(train_x, y_pred, color='red')"
   ]
  },
  {
   "cell_type": "code",
   "execution_count": 96,
   "id": "55ff6c9c-41c4-422a-b815-277e265a2aed",
   "metadata": {},
   "outputs": [
    {
     "data": {
      "text/plain": [
       "3.2553084256724802"
      ]
     },
     "execution_count": 96,
     "metadata": {},
     "output_type": "execute_result"
    }
   ],
   "source": [
    "y.std()"
   ]
  },
  {
   "cell_type": "code",
   "execution_count": null,
   "id": "e75a8318-c54e-441e-9ade-11837c516654",
   "metadata": {},
   "outputs": [],
   "source": []
  }
 ],
 "metadata": {
  "kernelspec": {
   "display_name": "Python 3 (ipykernel)",
   "language": "python",
   "name": "python3"
  },
  "language_info": {
   "codemirror_mode": {
    "name": "ipython",
    "version": 3
   },
   "file_extension": ".py",
   "mimetype": "text/x-python",
   "name": "python",
   "nbconvert_exporter": "python",
   "pygments_lexer": "ipython3",
   "version": "3.11.1"
  }
 },
 "nbformat": 4,
 "nbformat_minor": 5
}
