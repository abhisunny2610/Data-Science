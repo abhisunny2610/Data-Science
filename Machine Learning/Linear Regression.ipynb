{
 "cells": [
  {
   "cell_type": "markdown",
   "id": "66638eca-f304-49b3-b75f-15e1e4b4e283",
   "metadata": {},
   "source": [
    "# Regression\r\n",
    "\r\n",
    "Regression is a statistical method used in machine learning and data science to model the relationship between a dependent variable and one or more independent variables. It is a supervised learning technique that aims to predict the value of the dependent variable based on the values of the independent variables.\r\n",
    "\r\n",
    "## Key Concepts\r\n",
    "\r\n",
    "### 1. Linear Regression\r\n",
    "\r\n",
    "Linear regression is one of the simplest and widely used regression techniques. It assumes a linear relationship between the dependent variable (\\(y\\)) and one or more independent variables (\\(x_1, x_2, \\ldots, x_n\\)). The relationship is represented by the equation:\r\n",
    "\r\n",
    "\\[ y = b_0 + b_1x_1 + b_2x_2 + \\ldots + b_nx_n \\]\r\n",
    "\r\n",
    "where:\r\n",
    "- \\( b_0 \\) is the y-intercept,\r\n",
    "- \\( b_1, b_2, \\ldots, b_n \\) are the coefficients of the independent variables.\r\n",
    "\r\n",
    "### 2. Types of Regression\r\n",
    "\r\n",
    "- **Simple Linear Regression:** Involves predicting a dependent variable based on a single independent variable.\r\n",
    "- **Multiple Linear Regression:** Extends the concept to multiple independent variables.\r\n",
    "- **Polynomial Regression:** Captures nonlinear relationships by introducing polynomial terms.\r\n",
    "\r\n",
    "### 3. Logistic Regression\r\n",
    "\r\n",
    "Despite its name, logistic regression is used for classification tasks. It models the probability of a binary outcome (0 or 1) based on one or more independent variables. The logistic function is employed to ensure predictions fall between 0 and 1.\r\n",
    "\r\n",
    "\\[ P(Y=1) = \\frac{1}{1 + e^{-(b_0 + b_1x_1 + \\ldots + b_nx_n)}} \\]\r\n",
    "\r\n",
    "## Assumptions\r\n",
    "\r\n",
    "Regression models, including linear regression, rely on several assumptions, such as linearity, independence, homoscedasticity, and normality of residuals. It's crucial to validate these assumptions to ensure the model's reliability."
   ]
  },
  {
   "cell_type": "code",
   "execution_count": 1,
   "id": "ac9262de-de97-4bdc-be20-9e16012054ca",
   "metadata": {},
   "outputs": [
    {
     "name": "stdout",
     "output_type": "stream",
     "text": [
      "Slope (b1): 0.6\n",
      "Intercept (b0): 2.2\n"
     ]
    }
   ],
   "source": [
    "from sklearn.linear_model import LinearRegression\n",
    "import numpy as np\n",
    "\n",
    "# Sample data\n",
    "X = np.array([1, 2, 3, 4, 5]).reshape(-1, 1)\n",
    "y = np.array([2, 4, 5, 4, 5])\n",
    "\n",
    "# Create a linear regression model\n",
    "model = LinearRegression()\n",
    "\n",
    "# Fit the model to the data\n",
    "model.fit(X, y)\n",
    "\n",
    "# Make predictions\n",
    "predictions = model.predict([[6]])\n",
    "\n",
    "# Print the slope and intercept\n",
    "print(\"Slope (b1):\", model.coef_[0])\n",
    "print(\"Intercept (b0):\", model.intercept_)"
   ]
  },
  {
   "cell_type": "markdown",
   "id": "d1d67fa8-31a6-4e41-a275-d70c9c524b73",
   "metadata": {},
   "source": [
    "# Linear Regression\r\n",
    "\r\n",
    "Linear regression is a fundamental statistical method used for modeling the relationship between a dependent variable and one or more independent variables. It is a supervised learning algorithm commonly employed in predictive analysis and machine learning.\r\n",
    "\r\n",
    "## Key Concepts\r\n",
    "\r\n",
    "### 1. Simple Linear Regression\r\n",
    "\r\n",
    "Simple linear regression involves predicting a dependent variable (target) based on a single independent variable (feature). The relationship is modeled as a straight line:\r\n",
    "\r\n",
    "\\[ y = mx + b \\]\r\n",
    "\r\n",
    "where:\r\n",
    "- \\( y \\) is the dependent variable,\r\n",
    "- \\( x \\) is the independent variable,\r\n",
    "- \\( m \\) is the slope of the line,\r\n",
    "- \\( b \\) is the y-intercept.\r\n",
    "\r\n",
    "### 2. Multiple Linear Regression\r\n",
    "\r\n",
    "Multiple linear regression extends the concept to multiple independent variables:\r\n",
    "\r\n",
    "\\[ y = b_0 + b_1x_1 + b_2x_2 + \\ldots + b_nx_n \\]\r\n",
    "\r\n",
    "where:\r\n",
    "- \\( b_0 \\) is the y-intercept,\r\n",
    "- \\( b_1, b_2, \\ldots, b_n \\) are the coefficients of the independent variables \\( x_1, x_2, \\ldots, x_n \\).\r\n",
    "\r\n",
    "## Assumptions\r\n",
    "\r\n",
    "Linear regression assumes:\r\n",
    "- **Linearity:** The relationship between the variables is linear.\r\n",
    "- **Independence:** The residuals (the differences between observed and predicted values) are independent.\r\n",
    "- **Homoscedasticity:** The variance of residuals is constant across all levels of the independent variable(s).\r\n",
    "- **Normality:** The residuals are normally distributed.of squared differences between the observed and predicted values."
   ]
  },
  {
   "cell_type": "code",
   "execution_count": 2,
   "id": "5501e195-d2f6-4612-8979-4fc8e97576d5",
   "metadata": {},
   "outputs": [
    {
     "name": "stdout",
     "output_type": "stream",
     "text": [
      "Slope (m): 0.6\n",
      "Intercept (b): 2.2\n"
     ]
    }
   ],
   "source": [
    "\n",
    "# Sample data\n",
    "X = np.array([1, 2, 3, 4, 5]).reshape(-1, 1)\n",
    "y = np.array([2, 4, 5, 4, 5])\n",
    "\n",
    "# Create a linear regression model\n",
    "model = LinearRegression()\n",
    "\n",
    "# Fit the model to the data\n",
    "model.fit(X, y)\n",
    "\n",
    "# Make predictions\n",
    "predictions = model.predict([[6]])\n",
    "\n",
    "# Print the slope and intercept\n",
    "print(\"Slope (m):\", model.coef_[0])\n",
    "print(\"Intercept (b):\", model.intercept_)"
   ]
  },
  {
   "cell_type": "markdown",
   "id": "e31e60ca-b8f3-4bcb-9792-9d9c56e2f424",
   "metadata": {},
   "source": [
    "# Conclusion\n",
    "\r\n",
    "Linear regression is a versatile tool for modeling the relationship between variables. While simple and interpretable, it is crucial to validate its assumptions and consider more advanced techniques for complex relationships."
   ]
  },
  {
   "cell_type": "code",
   "execution_count": 3,
   "id": "e5e85407-b7eb-4e60-980f-52b39bb98f90",
   "metadata": {},
   "outputs": [],
   "source": [
    "import pandas as pd\n",
    "import matplotlib.pyplot as plt\n",
    "from sklearn.model_selection import train_test_split\n",
    "import seaborn as sns"
   ]
  },
  {
   "cell_type": "code",
   "execution_count": 4,
   "id": "e3764ddb-b89b-4893-9944-cd8cc88fdbb4",
   "metadata": {},
   "outputs": [
    {
     "data": {
      "text/plain": [
       "array([60, 61, 62, 62, 63, 64, 65, 69, 69, 69, 70, 70, 70, 70, 71, 73, 74,\n",
       "       75, 76, 77])"
      ]
     },
     "execution_count": 4,
     "metadata": {},
     "output_type": "execute_result"
    }
   ],
   "source": [
    "Rainfall = np.random.randint(60,200,200)\n",
    "Rainfall.sort()\n",
    "Rainfall[:20]"
   ]
  },
  {
   "cell_type": "code",
   "execution_count": 5,
   "id": "47a37930-9c39-44da-9f0f-1606b5f3ec3e",
   "metadata": {},
   "outputs": [
    {
     "data": {
      "text/plain": [
       "array([ 10,  14,  19,  24,  29,  34,  39,  44,  49,  54,  59,  64,  69,\n",
       "        74,  79,  84,  89,  94,  99, 104])"
      ]
     },
     "execution_count": 5,
     "metadata": {},
     "output_type": "execute_result"
    }
   ],
   "source": [
    "Umbrella_sold = np.linspace(10,1000, len(Rainfall), dtype=np.int32)\n",
    "Umbrella_sold[:20]"
   ]
  },
  {
   "cell_type": "markdown",
   "id": "3404e178-111a-40cf-9ed9-80acf7fc7459",
   "metadata": {},
   "source": [
    "### Adding Noise"
   ]
  },
  {
   "cell_type": "code",
   "execution_count": 6,
   "id": "4cba1fed-31bd-48c5-b7e6-b63a275231de",
   "metadata": {},
   "outputs": [
    {
     "data": {
      "text/html": [
       "<div>\n",
       "<style scoped>\n",
       "    .dataframe tbody tr th:only-of-type {\n",
       "        vertical-align: middle;\n",
       "    }\n",
       "\n",
       "    .dataframe tbody tr th {\n",
       "        vertical-align: top;\n",
       "    }\n",
       "\n",
       "    .dataframe thead th {\n",
       "        text-align: right;\n",
       "    }\n",
       "</style>\n",
       "<table border=\"1\" class=\"dataframe\">\n",
       "  <thead>\n",
       "    <tr style=\"text-align: right;\">\n",
       "      <th></th>\n",
       "      <th>RainFall</th>\n",
       "      <th>Umbrella Sold</th>\n",
       "    </tr>\n",
       "  </thead>\n",
       "  <tbody>\n",
       "    <tr>\n",
       "      <th>0</th>\n",
       "      <td>59</td>\n",
       "      <td>20</td>\n",
       "    </tr>\n",
       "    <tr>\n",
       "      <th>1</th>\n",
       "      <td>63</td>\n",
       "      <td>28</td>\n",
       "    </tr>\n",
       "    <tr>\n",
       "      <th>2</th>\n",
       "      <td>62</td>\n",
       "      <td>38</td>\n",
       "    </tr>\n",
       "    <tr>\n",
       "      <th>3</th>\n",
       "      <td>52</td>\n",
       "      <td>48</td>\n",
       "    </tr>\n",
       "    <tr>\n",
       "      <th>4</th>\n",
       "      <td>69</td>\n",
       "      <td>58</td>\n",
       "    </tr>\n",
       "  </tbody>\n",
       "</table>\n",
       "</div>"
      ],
      "text/plain": [
       "   RainFall  Umbrella Sold\n",
       "0        59             20\n",
       "1        63             28\n",
       "2        62             38\n",
       "3        52             48\n",
       "4        69             58"
      ]
     },
     "execution_count": 6,
     "metadata": {},
     "output_type": "execute_result"
    }
   ],
   "source": [
    "Rainfall_noise = np.random.randint(-10,10,len(Rainfall))\n",
    "Umbrella_noise = np.random.randint(-50,50,len(Rainfall))\n",
    "\n",
    "\n",
    "rain = pd.DataFrame({\n",
    "    'RainFall' : Rainfall+Rainfall_noise,\n",
    "    'Umbrella Sold' : np.abs(Umbrella_sold + Umbrella_sold)\n",
    "})\n",
    "\n",
    "rain.head()"
   ]
  },
  {
   "cell_type": "markdown",
   "id": "c388f4d2-dc6c-494f-9554-0ffb99eedf06",
   "metadata": {},
   "source": [
    "### Adding more point"
   ]
  },
  {
   "cell_type": "code",
   "execution_count": 7,
   "id": "b905431a-547d-4d4c-8a23-25da985d36b6",
   "metadata": {},
   "outputs": [
    {
     "data": {
      "text/html": [
       "<div>\n",
       "<style scoped>\n",
       "    .dataframe tbody tr th:only-of-type {\n",
       "        vertical-align: middle;\n",
       "    }\n",
       "\n",
       "    .dataframe tbody tr th {\n",
       "        vertical-align: top;\n",
       "    }\n",
       "\n",
       "    .dataframe thead th {\n",
       "        text-align: right;\n",
       "    }\n",
       "</style>\n",
       "<table border=\"1\" class=\"dataframe\">\n",
       "  <thead>\n",
       "    <tr style=\"text-align: right;\">\n",
       "      <th></th>\n",
       "      <th>RainFall</th>\n",
       "      <th>Umbrella Sold</th>\n",
       "    </tr>\n",
       "  </thead>\n",
       "  <tbody>\n",
       "    <tr>\n",
       "      <th>0</th>\n",
       "      <td>59</td>\n",
       "      <td>1</td>\n",
       "    </tr>\n",
       "    <tr>\n",
       "      <th>1</th>\n",
       "      <td>63</td>\n",
       "      <td>35</td>\n",
       "    </tr>\n",
       "    <tr>\n",
       "      <th>2</th>\n",
       "      <td>62</td>\n",
       "      <td>57</td>\n",
       "    </tr>\n",
       "    <tr>\n",
       "      <th>3</th>\n",
       "      <td>52</td>\n",
       "      <td>71</td>\n",
       "    </tr>\n",
       "    <tr>\n",
       "      <th>4</th>\n",
       "      <td>69</td>\n",
       "      <td>7</td>\n",
       "    </tr>\n",
       "  </tbody>\n",
       "</table>\n",
       "</div>"
      ],
      "text/plain": [
       "   RainFall  Umbrella Sold\n",
       "0        59              1\n",
       "1        63             35\n",
       "2        62             57\n",
       "3        52             71\n",
       "4        69              7"
      ]
     },
     "execution_count": 7,
     "metadata": {},
     "output_type": "execute_result"
    }
   ],
   "source": [
    "Rainfall_b =  np.random.randint(140,200,200)\n",
    "Rainfall_b.sort()\n",
    "Umbrella_sold_b = np.linspace(600,1000, len(Rainfall_b),dtype=np.int32)\n",
    "\n",
    "Rainfall_noise_b = np.random.randint(-20,70, len(Rainfall_b))\n",
    "Umbrella_noise_b = np.random.randint(-50,150, len(Rainfall_b))\n",
    "\n",
    "\n",
    "Rainfall = np.concatenate((Rainfall, Rainfall_b))\n",
    "Umbrella_sold = np.concatenate((Umbrella_sold, Umbrella_sold_b))\n",
    "\n",
    "Rainfall_noise = np.concatenate((Rainfall_noise, Rainfall_noise_b))\n",
    "Umbrella_noise = np.concatenate((Umbrella_noise, Umbrella_noise_b))\n",
    "\n",
    "rain =  pd.DataFrame({\n",
    "    \"RainFall\": Rainfall+Rainfall_noise,\n",
    "    \"Umbrella Sold\": np.abs(Umbrella_sold + Umbrella_noise)\n",
    "})\n",
    "rain.head()"
   ]
  },
  {
   "cell_type": "code",
   "execution_count": 8,
   "id": "96e238f1-50da-4be2-83d8-b69ff9aa46ee",
   "metadata": {
    "scrolled": true
   },
   "outputs": [
    {
     "data": {
      "image/png": "[encoded data removed]",
      "text/plain": [
       "<Figure size 640x480 with 1 Axes>"
      ]
     },
     "metadata": {},
     "output_type": "display_data"
    }
   ],
   "source": [
    "plt.scatter(rain.RainFall, rain[\"Umbrella Sold\"])\n",
    "plt.xlabel(\"Rain (mm)\")\n",
    "plt.ylabel(\"Umbrella Sold\")\n",
    "plt.show()"
   ]
  },
  {
   "cell_type": "code",
   "execution_count": 9,
   "id": "170f9921-2729-41a0-b57a-80995a054cb7",
   "metadata": {},
   "outputs": [
    {
     "data": {
      "text/plain": [
       "<Axes: >"
      ]
     },
     "execution_count": 9,
     "metadata": {},
     "output_type": "execute_result"
    },
    {
     "data": {
      "image/png": "[encoded data removed]",
      "text/plain": [
       "<Figure size 640x480 with 1 Axes>"
      ]
     },
     "metadata": {},
     "output_type": "display_data"
    }
   ],
   "source": [
    "rain[\"Umbrella Sold\"].hist(bins=30)"
   ]
  },
  {
   "cell_type": "code",
   "execution_count": 10,
   "id": "452662cc-61eb-4572-b665-bf4fe4447c79",
   "metadata": {},
   "outputs": [
    {
     "data": {
      "text/plain": [
       "<Axes: >"
      ]
     },
     "execution_count": 10,
     "metadata": {},
     "output_type": "execute_result"
    },
    {
     "data": {
      "image/png": "[encoded data removed]",
      "text/plain": [
       "<Figure size 640x480 with 1 Axes>"
      ]
     },
     "metadata": {},
     "output_type": "display_data"
    }
   ],
   "source": [
    "rain[\"RainFall\"].hist(bins=30)"
   ]
  },
  {
   "cell_type": "code",
   "execution_count": 11,
   "id": "6a47a922-5e11-46cd-bbf8-38dc0f29531f",
   "metadata": {},
   "outputs": [
    {
     "data": {
      "text/plain": [
       "47.38308067851294"
      ]
     },
     "execution_count": 11,
     "metadata": {},
     "output_type": "execute_result"
    }
   ],
   "source": [
    "rain[\"RainFall\"].std()"
   ]
  },
  {
   "cell_type": "code",
   "execution_count": 12,
   "id": "00d8897f-825e-40e3-82b3-ec3c72aacff6",
   "metadata": {},
   "outputs": [
    {
     "data": {
      "text/plain": [
       "282.29854829537146"
      ]
     },
     "execution_count": 12,
     "metadata": {},
     "output_type": "execute_result"
    }
   ],
   "source": [
    "rain[\"Umbrella Sold\"].std()"
   ]
  },
  {
   "cell_type": "code",
   "execution_count": 13,
   "id": "d49480f3-a497-4af8-acaf-71165517b244",
   "metadata": {},
   "outputs": [
    {
     "data": {
      "text/html": [
       "<style>#sk-container-id-1 {color: black;}#sk-container-id-1 pre{padding: 0;}#sk-container-id-1 div.sk-toggleable {background-color: white;}#sk-container-id-1 label.sk-toggleable__label {cursor: pointer;display: block;width: 100%;margin-bottom: 0;padding: 0.3em;box-sizing: border-box;text-align: center;}#sk-container-id-1 label.sk-toggleable__label-arrow:before {content: \"▸\";float: left;margin-right: 0.25em;color: #696969;}#sk-container-id-1 label.sk-toggleable__label-arrow:hover:before {color: black;}#sk-container-id-1 div.sk-estimator:hover label.sk-toggleable__label-arrow:before {color: black;}#sk-container-id-1 div.sk-toggleable__content {max-height: 0;max-width: 0;overflow: hidden;text-align: left;background-color: #f0f8ff;}#sk-container-id-1 div.sk-toggleable__content pre {margin: 0.2em;color: black;border-radius: 0.25em;background-color: #f0f8ff;}#sk-container-id-1 input.sk-toggleable__control:checked~div.sk-toggleable__content {max-height: 200px;max-width: 100%;overflow: auto;}#sk-container-id-1 input.sk-toggleable__control:checked~label.sk-toggleable__label-arrow:before {content: \"▾\";}#sk-container-id-1 div.sk-estimator input.sk-toggleable__control:checked~label.sk-toggleable__label {background-color: #d4ebff;}#sk-container-id-1 div.sk-label input.sk-toggleable__control:checked~label.sk-toggleable__label {background-color: #d4ebff;}#sk-container-id-1 input.sk-hidden--visually {border: 0;clip: rect(1px 1px 1px 1px);clip: rect(1px, 1px, 1px, 1px);height: 1px;margin: -1px;overflow: hidden;padding: 0;position: absolute;width: 1px;}#sk-container-id-1 div.sk-estimator {font-family: monospace;background-color: #f0f8ff;border: 1px dotted black;border-radius: 0.25em;box-sizing: border-box;margin-bottom: 0.5em;}#sk-container-id-1 div.sk-estimator:hover {background-color: #d4ebff;}#sk-container-id-1 div.sk-parallel-item::after {content: \"\";width: 100%;border-bottom: 1px solid gray;flex-grow: 1;}#sk-container-id-1 div.sk-label:hover label.sk-toggleable__label {background-color: #d4ebff;}#sk-container-id-1 div.sk-serial::before {content: \"\";position: absolute;border-left: 1px solid gray;box-sizing: border-box;top: 0;bottom: 0;left: 50%;z-index: 0;}#sk-container-id-1 div.sk-serial {display: flex;flex-direction: column;align-items: center;background-color: white;padding-right: 0.2em;padding-left: 0.2em;position: relative;}#sk-container-id-1 div.sk-item {position: relative;z-index: 1;}#sk-container-id-1 div.sk-parallel {display: flex;align-items: stretch;justify-content: center;background-color: white;position: relative;}#sk-container-id-1 div.sk-item::before, #sk-container-id-1 div.sk-parallel-item::before {content: \"\";position: absolute;border-left: 1px solid gray;box-sizing: border-box;top: 0;bottom: 0;left: 50%;z-index: -1;}#sk-container-id-1 div.sk-parallel-item {display: flex;flex-direction: column;z-index: 1;position: relative;background-color: white;}#sk-container-id-1 div.sk-parallel-item:first-child::after {align-self: flex-end;width: 50%;}#sk-container-id-1 div.sk-parallel-item:last-child::after {align-self: flex-start;width: 50%;}#sk-container-id-1 div.sk-parallel-item:only-child::after {width: 0;}#sk-container-id-1 div.sk-dashed-wrapped {border: 1px dashed gray;margin: 0 0.4em 0.5em 0.4em;box-sizing: border-box;padding-bottom: 0.4em;background-color: white;}#sk-container-id-1 div.sk-label label {font-family: monospace;font-weight: bold;display: inline-block;line-height: 1.2em;}#sk-container-id-1 div.sk-label-container {text-align: center;}#sk-container-id-1 div.sk-container {/* jupyter's `normalize.less` sets `[hidden] { display: none; }` but bootstrap.min.css set `[hidden] { display: none !important; }` so we also need the `!important` here to be able to override the default hidden behavior on the sphinx rendered scikit-learn.org. See: https://github.com/scikit-learn/scikit-learn/issues/21755 */display: inline-block !important;position: relative;}#sk-container-id-1 div.sk-text-repr-fallback {display: none;}</style><div id=\"sk-container-id-1\" class=\"sk-top-container\"><div class=\"sk-text-repr-fallback\"><pre>LinearRegression()</pre><b>In a Jupyter environment, please rerun this cell to show the HTML representation or trust the notebook. <br />On GitHub, the HTML representation is unable to render, please try loading this page with nbviewer.org.</b></div><div class=\"sk-container\" hidden><div class=\"sk-item\"><div class=\"sk-estimator sk-toggleable\"><input class=\"sk-toggleable__control sk-hidden--visually\" id=\"sk-estimator-id-1\" type=\"checkbox\" checked><label for=\"sk-estimator-id-1\" class=\"sk-toggleable__label sk-toggleable__label-arrow\">LinearRegression</label><div class=\"sk-toggleable__content\"><pre>LinearRegression()</pre></div></div></div></div></div>"
      ],
      "text/plain": [
       "LinearRegression()"
      ]
     },
     "execution_count": 13,
     "metadata": {},
     "output_type": "execute_result"
    }
   ],
   "source": [
    "reg = LinearRegression()\n",
    "\n",
    "train, test = train_test_split(rain, test_size=0.2)\n",
    "\n",
    "reg.fit(Rainfall.reshape(-1,1), Umbrella_sold.reshape(-1,1))"
   ]
  },
  {
   "cell_type": "code",
   "execution_count": 14,
   "id": "ada6d78e-4c1a-45bf-b337-9de468fcb4fe",
   "metadata": {},
   "outputs": [
    {
     "data": {
      "text/plain": [
       "array([[7.36281906]])"
      ]
     },
     "execution_count": 14,
     "metadata": {},
     "output_type": "execute_result"
    }
   ],
   "source": [
    "reg.coef_"
   ]
  },
  {
   "cell_type": "code",
   "execution_count": null,
   "id": "3cd32ff7-2bbe-45d4-9db5-cf61d6e13b7f",
   "metadata": {},
   "outputs": [],
   "source": []
  }
 ],
 "metadata": {
  "kernelspec": {
   "display_name": "Python 3 (ipykernel)",
   "language": "python",
   "name": "python3"
  },
  "language_info": {
   "codemirror_mode": {
    "name": "ipython",
    "version": 3
   },
   "file_extension": ".py",
   "mimetype": "text/x-python",
   "name": "python",
   "nbconvert_exporter": "python",
   "pygments_lexer": "ipython3",
   "version": "3.11.1"
  }
 },
 "nbformat": 4,
 "nbformat_minor": 5
}
