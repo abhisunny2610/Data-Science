{
 "cells": [
  {
   "cell_type": "code",
   "execution_count": 51,
   "id": "9cf24140-21e9-4e2f-a3ab-b914e6a94d79",
   "metadata": {},
   "outputs": [],
   "source": [
    "import pandas as pd\n",
    "import numpy as np\n",
    "import matplotlib.pyplot as plt\n",
    "from sklearn.linear_model import LinearRegression\n",
    "from sklearn.model_selection import train_test_split\n",
    "from sklearn.metrics import r2_score, mean_absolute_error, mean_squared_error\n",
    "import math"
   ]
  },
  {
   "cell_type": "code",
   "execution_count": 41,
   "id": "0598375f-190f-43ab-856a-2697d6f25ab2",
   "metadata": {},
   "outputs": [
    {
     "data": {
      "text/html": [
       "<div>\n",
       "<style scoped>\n",
       "    .dataframe tbody tr th:only-of-type {\n",
       "        vertical-align: middle;\n",
       "    }\n",
       "\n",
       "    .dataframe tbody tr th {\n",
       "        vertical-align: top;\n",
       "    }\n",
       "\n",
       "    .dataframe thead th {\n",
       "        text-align: right;\n",
       "    }\n",
       "</style>\n",
       "<table border=\"1\" class=\"dataframe\">\n",
       "  <thead>\n",
       "    <tr style=\"text-align: right;\">\n",
       "      <th></th>\n",
       "      <th>longitude</th>\n",
       "      <th>latitude</th>\n",
       "      <th>housing_median_age</th>\n",
       "      <th>total_rooms</th>\n",
       "      <th>total_bedrooms</th>\n",
       "      <th>population</th>\n",
       "      <th>households</th>\n",
       "      <th>median_income</th>\n",
       "      <th>median_house_value</th>\n",
       "      <th>ocean_proximity</th>\n",
       "    </tr>\n",
       "  </thead>\n",
       "  <tbody>\n",
       "    <tr>\n",
       "      <th>0</th>\n",
       "      <td>-122.23</td>\n",
       "      <td>37.88</td>\n",
       "      <td>41.0</td>\n",
       "      <td>880.0</td>\n",
       "      <td>129.0</td>\n",
       "      <td>322.0</td>\n",
       "      <td>126.0</td>\n",
       "      <td>8.3252</td>\n",
       "      <td>452600.0</td>\n",
       "      <td>NEAR BAY</td>\n",
       "    </tr>\n",
       "    <tr>\n",
       "      <th>1</th>\n",
       "      <td>-122.22</td>\n",
       "      <td>37.86</td>\n",
       "      <td>21.0</td>\n",
       "      <td>7099.0</td>\n",
       "      <td>1106.0</td>\n",
       "      <td>2401.0</td>\n",
       "      <td>1138.0</td>\n",
       "      <td>8.3014</td>\n",
       "      <td>358500.0</td>\n",
       "      <td>NEAR BAY</td>\n",
       "    </tr>\n",
       "    <tr>\n",
       "      <th>2</th>\n",
       "      <td>-122.24</td>\n",
       "      <td>37.85</td>\n",
       "      <td>52.0</td>\n",
       "      <td>1467.0</td>\n",
       "      <td>190.0</td>\n",
       "      <td>496.0</td>\n",
       "      <td>177.0</td>\n",
       "      <td>7.2574</td>\n",
       "      <td>352100.0</td>\n",
       "      <td>NEAR BAY</td>\n",
       "    </tr>\n",
       "    <tr>\n",
       "      <th>3</th>\n",
       "      <td>-122.25</td>\n",
       "      <td>37.85</td>\n",
       "      <td>52.0</td>\n",
       "      <td>1274.0</td>\n",
       "      <td>235.0</td>\n",
       "      <td>558.0</td>\n",
       "      <td>219.0</td>\n",
       "      <td>5.6431</td>\n",
       "      <td>341300.0</td>\n",
       "      <td>NEAR BAY</td>\n",
       "    </tr>\n",
       "    <tr>\n",
       "      <th>4</th>\n",
       "      <td>-122.25</td>\n",
       "      <td>37.85</td>\n",
       "      <td>52.0</td>\n",
       "      <td>1627.0</td>\n",
       "      <td>280.0</td>\n",
       "      <td>565.0</td>\n",
       "      <td>259.0</td>\n",
       "      <td>3.8462</td>\n",
       "      <td>342200.0</td>\n",
       "      <td>NEAR BAY</td>\n",
       "    </tr>\n",
       "  </tbody>\n",
       "</table>\n",
       "</div>"
      ],
      "text/plain": [
       "   longitude  latitude  housing_median_age  total_rooms  total_bedrooms  \\\n",
       "0    -122.23     37.88                41.0        880.0           129.0   \n",
       "1    -122.22     37.86                21.0       7099.0          1106.0   \n",
       "2    -122.24     37.85                52.0       1467.0           190.0   \n",
       "3    -122.25     37.85                52.0       1274.0           235.0   \n",
       "4    -122.25     37.85                52.0       1627.0           280.0   \n",
       "\n",
       "   population  households  median_income  median_house_value ocean_proximity  \n",
       "0       322.0       126.0         8.3252            452600.0        NEAR BAY  \n",
       "1      2401.0      1138.0         8.3014            358500.0        NEAR BAY  \n",
       "2       496.0       177.0         7.2574            352100.0        NEAR BAY  \n",
       "3       558.0       219.0         5.6431            341300.0        NEAR BAY  \n",
       "4       565.0       259.0         3.8462            342200.0        NEAR BAY  "
      ]
     },
     "execution_count": 41,
     "metadata": {},
     "output_type": "execute_result"
    }
   ],
   "source": [
    "df = pd.read_csv(\"../Dataset/housing.csv\")\n",
    "\n",
    "df.head()"
   ]
  },
  {
   "cell_type": "code",
   "execution_count": 42,
   "id": "ed096ef4-2634-4125-bc64-b80c24922cc9",
   "metadata": {},
   "outputs": [],
   "source": [
    "df.drop(columns=[\"ocean_proximity\"], inplace=True)\n",
    "df.fillna(0, inplace=True)\n",
    "\n",
    "train, test= train_test_split(df, test_size=0.3)"
   ]
  },
  {
   "cell_type": "code",
   "execution_count": 48,
   "id": "367b6471-99f7-48b7-9e34-97dd4a01d316",
   "metadata": {},
   "outputs": [
    {
     "data": {
      "text/plain": [
       "(14448, 9)"
      ]
     },
     "execution_count": 48,
     "metadata": {},
     "output_type": "execute_result"
    }
   ],
   "source": [
    "test_x = df.drop(columns=[\"median_house_value\"])\n",
    "test_y = df[\"median_house_value\"]\n",
    "\n",
    "train.shape"
   ]
  },
  {
   "cell_type": "code",
   "execution_count": 44,
   "id": "7ed6cdd2-82aa-4e8c-83e0-fd01f02a0012",
   "metadata": {},
   "outputs": [],
   "source": [
    "samples = []\n",
    "for sample_size in range(50,50*51, 50):\n",
    "    train_x, _ = train_test_split(train, train_size=sample_size)\n",
    "    samples.append(train_x)"
   ]
  },
  {
   "cell_type": "code",
   "execution_count": 57,
   "id": "8166e960-f7e3-4d5c-a071-f3e99d215cd2",
   "metadata": {},
   "outputs": [],
   "source": [
    "len(samples)\n",
    "def regSummary(y_true, y_pred, sample):\n",
    "    return{\n",
    "        \"r2_score\": r2_score(y_true, y_pred),\n",
    "        \"mae\": mean_absolute_error(y_true, y_pred),\n",
    "        \"mse\": mean_squared_error(y_true, y_pred),\n",
    "        \"rmse\": math.sqrt(mean_squared_error(y_true, y_pred)),\n",
    "        \"Sample Size\": len(sample)\n",
    "}"
   ]
  },
  {
   "cell_type": "code",
   "execution_count": 61,
   "id": "07c8b491-637a-47a5-b0d7-547a84d0ba69",
   "metadata": {},
   "outputs": [],
   "source": [
    "reg = LinearRegression()"
   ]
  },
  {
   "cell_type": "code",
   "execution_count": 63,
   "id": "3c1b63e9-3ee0-490e-9374-acaa5d7ce31c",
   "metadata": {},
   "outputs": [
    {
     "name": "stdout",
     "output_type": "stream",
     "text": [
      "[{'r2_score': 0.5980330695027055, 'mae': 53799.084196782285, 'mse': 5352391869.266356, 'rmse': 73160.04284625834, 'Sample Size': 50}]\n",
      "[{'r2_score': 0.5898477573974998, 'mae': 54376.102311378396, 'mse': 5461383417.165855, 'rmse': 73901.17331386461, 'Sample Size': 100}]\n",
      "[{'r2_score': 0.5646187983672368, 'mae': 53482.76588735042, 'mse': 5797319696.840838, 'rmse': 76140.1319728357, 'Sample Size': 150}]\n",
      "[{'r2_score': 0.6172250172191625, 'mae': 51277.3538990616, 'mse': 5096841431.85633, 'rmse': 71392.16646002787, 'Sample Size': 200}]\n",
      "[{'r2_score': 0.6256911952302706, 'mae': 51607.6075654769, 'mse': 4984110013.143959, 'rmse': 70598.2295326445, 'Sample Size': 250}]\n",
      "[{'r2_score': 0.6280086255420059, 'mae': 51559.41044533901, 'mse': 4953252262.873863, 'rmse': 70379.34542800084, 'Sample Size': 300}]\n",
      "[{'r2_score': 0.619862223013782, 'mae': 52480.11383139832, 'mse': 5061725710.1842985, 'rmse': 71145.80599152911, 'Sample Size': 350}]\n",
      "[{'r2_score': 0.6274688248085494, 'mae': 51678.396703658815, 'mse': 4960439981.160046, 'rmse': 70430.3910337011, 'Sample Size': 400}]\n",
      "[{'r2_score': 0.6123776496581492, 'mae': 51859.82281698852, 'mse': 5161386569.161071, 'rmse': 71842.79065543787, 'Sample Size': 450}]\n",
      "[{'r2_score': 0.6239206013702456, 'mae': 51963.765027680696, 'mse': 5007686361.000353, 'rmse': 70765.00802656884, 'Sample Size': 500}]\n",
      "[{'r2_score': 0.6185632760493489, 'mae': 51565.163927267306, 'mse': 5079021842.387111, 'rmse': 71267.25645334687, 'Sample Size': 550}]\n",
      "[{'r2_score': 0.6263830302975468, 'mae': 51054.083830962634, 'mse': 4974897881.229572, 'rmse': 70532.95599384427, 'Sample Size': 600}]\n",
      "[{'r2_score': 0.6221956438739492, 'mae': 52178.35691890425, 'mse': 5030655037.718572, 'rmse': 70927.11073855025, 'Sample Size': 650}]\n",
      "[{'r2_score': 0.6222360392621069, 'mae': 52267.285980727196, 'mse': 5030117152.806338, 'rmse': 70923.31882255891, 'Sample Size': 700}]\n",
      "[{'r2_score': 0.6321594864549811, 'mae': 50910.45418164613, 'mse': 4897981461.931163, 'rmse': 69985.58038575634, 'Sample Size': 750}]\n",
      "[{'r2_score': 0.625527441001082, 'mae': 51960.084282933, 'mse': 4986290483.074117, 'rmse': 70613.67065288503, 'Sample Size': 800}]\n",
      "[{'r2_score': 0.6211435539851119, 'mae': 52425.696690537035, 'mse': 5044664143.790515, 'rmse': 71025.79914221673, 'Sample Size': 850}]\n",
      "[{'r2_score': 0.6275426400932743, 'mae': 51436.065375625105, 'mse': 4959457093.514785, 'rmse': 70423.41296411859, 'Sample Size': 900}]\n",
      "[{'r2_score': 0.6330551178934327, 'mae': 51406.094257037184, 'mse': 4886055678.824832, 'rmse': 69900.32674333383, 'Sample Size': 950}]\n",
      "[{'r2_score': 0.6304160802741309, 'mae': 51716.99594851027, 'mse': 4921195792.163918, 'rmse': 70151.23514353769, 'Sample Size': 1000}]\n",
      "[{'r2_score': 0.6320406409834931, 'mae': 51285.754601101435, 'mse': 4899563949.163395, 'rmse': 69996.8852818709, 'Sample Size': 1050}]\n",
      "[{'r2_score': 0.6295634093661004, 'mae': 51859.306584011225, 'mse': 4932549534.198508, 'rmse': 70232.11184492824, 'Sample Size': 1100}]\n",
      "[{'r2_score': 0.6280286878129098, 'mae': 51311.245709687704, 'mse': 4952985123.645438, 'rmse': 70377.44754994627, 'Sample Size': 1150}]\n",
      "[{'r2_score': 0.6302628403383652, 'mae': 51259.061833768515, 'mse': 4923236258.988452, 'rmse': 70165.77697844194, 'Sample Size': 1200}]\n",
      "[{'r2_score': 0.6284465076760734, 'mae': 50648.301497641965, 'mse': 4947421642.003682, 'rmse': 70337.91041823522, 'Sample Size': 1250}]\n",
      "[{'r2_score': 0.629364867042425, 'mae': 51366.14834987816, 'mse': 4935193225.105198, 'rmse': 70250.93042163354, 'Sample Size': 1300}]\n",
      "[{'r2_score': 0.6230643488246334, 'mae': 51579.51200811691, 'mse': 5019087794.340911, 'rmse': 70845.520637094, 'Sample Size': 1350}]\n",
      "[{'r2_score': 0.6297614356077427, 'mae': 51571.06279644055, 'mse': 4929912715.18368, 'rmse': 70213.33716028373, 'Sample Size': 1400}]\n",
      "[{'r2_score': 0.6297789307062316, 'mae': 52080.96229549615, 'mse': 4929679759.14725, 'rmse': 70211.67822483131, 'Sample Size': 1450}]\n",
      "[{'r2_score': 0.627414408456888, 'mae': 51157.901384383345, 'mse': 4961164562.253886, 'rmse': 70435.53479781272, 'Sample Size': 1500}]\n",
      "[{'r2_score': 0.6286477225511955, 'mae': 50729.2604729961, 'mse': 4944742364.730184, 'rmse': 70318.86208358454, 'Sample Size': 1550}]\n",
      "[{'r2_score': 0.6298870467760604, 'mae': 51217.4095031142, 'mse': 4928240139.295008, 'rmse': 70201.42547908131, 'Sample Size': 1600}]\n",
      "[{'r2_score': 0.6311887747722009, 'mae': 51938.218427963846, 'mse': 4910906976.256151, 'rmse': 70077.86366789552, 'Sample Size': 1650}]\n",
      "[{'r2_score': 0.6263895440200807, 'mae': 50872.95771201053, 'mse': 4974811147.737626, 'rmse': 70532.34114743127, 'Sample Size': 1700}]\n",
      "[{'r2_score': 0.6322002388597372, 'mae': 50968.70992599264, 'mse': 4897438823.1633415, 'rmse': 69981.70348857866, 'Sample Size': 1750}]\n",
      "[{'r2_score': 0.6265868923759093, 'mae': 52033.98324072882, 'mse': 4972183355.113384, 'rmse': 70513.71040523527, 'Sample Size': 1800}]\n",
      "[{'r2_score': 0.6318864991628952, 'mae': 51227.42130948378, 'mse': 4901616425.038117, 'rmse': 70011.54494108894, 'Sample Size': 1850}]\n",
      "[{'r2_score': 0.6331059435427051, 'mae': 51528.18672759751, 'mse': 4885378909.739427, 'rmse': 69895.48561773806, 'Sample Size': 1900}]\n",
      "[{'r2_score': 0.6274638740824436, 'mae': 51885.635588186895, 'mse': 4960505902.568362, 'rmse': 70430.85902193982, 'Sample Size': 1950}]\n",
      "[{'r2_score': 0.633070779573045, 'mae': 51365.754844588795, 'mse': 4885847135.682958, 'rmse': 69898.83500948323, 'Sample Size': 2000}]\n",
      "[{'r2_score': 0.6327269505250269, 'mae': 51254.127895986014, 'mse': 4890425392.40361, 'rmse': 69931.57650449195, 'Sample Size': 2050}]\n",
      "[{'r2_score': 0.6296425649566835, 'mae': 51245.930132390306, 'mse': 4931495537.694569, 'rmse': 70224.60777885889, 'Sample Size': 2100}]\n",
      "[{'r2_score': 0.631916898158041, 'mae': 51037.04295080479, 'mse': 4901211647.127032, 'rmse': 70008.65408738432, 'Sample Size': 2150}]\n",
      "[{'r2_score': 0.6308150118783936, 'mae': 51116.418336150346, 'mse': 4915883817.190236, 'rmse': 70113.36404131695, 'Sample Size': 2200}]\n",
      "[{'r2_score': 0.6320549185989657, 'mae': 51022.173455814955, 'mse': 4899373835.531726, 'rmse': 69995.52725375905, 'Sample Size': 2250}]\n",
      "[{'r2_score': 0.6329482940905911, 'mae': 51527.473021406564, 'mse': 4887478091.49213, 'rmse': 69910.50058104383, 'Sample Size': 2300}]\n",
      "[{'r2_score': 0.6322007847598217, 'mae': 50972.407282651526, 'mse': 4897431554.229129, 'rmse': 69981.65155402613, 'Sample Size': 2350}]\n",
      "[{'r2_score': 0.6319958504165445, 'mae': 50974.295640858705, 'mse': 4900160358.092007, 'rmse': 70001.1454055718, 'Sample Size': 2400}]\n",
      "[{'r2_score': 0.6326697164903523, 'mae': 50889.08324210019, 'mse': 4891187492.36407, 'rmse': 69937.02518955228, 'Sample Size': 2450}]\n",
      "[{'r2_score': 0.6321431825247963, 'mae': 51096.80040613114, 'mse': 4898198556.962463, 'rmse': 69987.13136686246, 'Sample Size': 2500}]\n"
     ]
    }
   ],
   "source": [
    "for sample in samples:\n",
    "    data_x = sample.drop(columns=\"median_house_value\")\n",
    "    data_y = sample[\"median_house_value\"]\n",
    "\n",
    "    reg.fit(data_x, data_y)    \n",
    "    predict_y = reg.predict(test_x)\n",
    "\n",
    "    errors = []\n",
    "    n = regSummary(test_y, predict_y, sample)\n",
    "    errors.append(n)\n",
    "\n",
    "    print(errors)\n"
   ]
  },
  {
   "cell_type": "code",
   "execution_count": null,
   "id": "ebf6976c-82cf-4235-8a88-644dc04a89b5",
   "metadata": {},
   "outputs": [],
   "source": []
  },
  {
   "cell_type": "code",
   "execution_count": null,
   "id": "8a472184-065e-48b1-8a91-f01f67f790c9",
   "metadata": {},
   "outputs": [],
   "source": []
  }
 ],
 "metadata": {
  "kernelspec": {
   "display_name": "Python 3 (ipykernel)",
   "language": "python",
   "name": "python3"
  },
  "language_info": {
   "codemirror_mode": {
    "name": "ipython",
    "version": 3
   },
   "file_extension": ".py",
   "mimetype": "text/x-python",
   "name": "python",
   "nbconvert_exporter": "python",
   "pygments_lexer": "ipython3",
   "version": "3.11.1"
  }
 },
 "nbformat": 4,
 "nbformat_minor": 5
}
