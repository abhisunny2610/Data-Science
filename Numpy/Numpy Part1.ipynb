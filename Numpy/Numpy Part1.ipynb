{
 "cells": [
  {
   "cell_type": "code",
   "execution_count": 1,
   "id": "9a5634b6-708a-474a-a8d0-c4e456b8fbe1",
   "metadata": {},
   "outputs": [],
   "source": [
    "import numpy as np"
   ]
  },
  {
   "cell_type": "code",
   "execution_count": 2,
   "id": "fdda7b6e-37b3-442e-be58-44db309d57bc",
   "metadata": {},
   "outputs": [],
   "source": [
    " li = [1,2,3,4,5]"
   ]
  },
  {
   "cell_type": "code",
   "execution_count": 3,
   "id": "c25d60af-bc2e-492b-8c45-113b6af1e8f9",
   "metadata": {},
   "outputs": [],
   "source": [
    "## converting list into array\n",
    "\n",
    "arr = np.array(li)"
   ]
  },
  {
   "cell_type": "code",
   "execution_count": 4,
   "id": "c86d2862-2b97-4b5d-b6a6-7e5a14f60ab8",
   "metadata": {},
   "outputs": [
    {
     "data": {
      "text/plain": [
       "numpy.ndarray"
      ]
     },
     "execution_count": 4,
     "metadata": {},
     "output_type": "execute_result"
    }
   ],
   "source": [
    "type(arr)"
   ]
  },
  {
   "cell_type": "code",
   "execution_count": 5,
   "id": "229e4095-e0e8-439d-8b63-31c8edfffb46",
   "metadata": {},
   "outputs": [
    {
     "data": {
      "text/plain": [
       "array([[1, 2],\n",
       "       [3, 4]])"
      ]
     },
     "execution_count": 5,
     "metadata": {},
     "output_type": "execute_result"
    }
   ],
   "source": [
    "## 2d array\n",
    "\n",
    "np.array([[1,2], [3,4]])"
   ]
  },
  {
   "cell_type": "code",
   "execution_count": 6,
   "id": "68ee149a-94e8-4765-900d-8b042e861646",
   "metadata": {},
   "outputs": [
    {
     "data": {
      "text/plain": [
       "matrix([[1, 2, 3, 4, 5]])"
      ]
     },
     "execution_count": 6,
     "metadata": {},
     "output_type": "execute_result"
    }
   ],
   "source": [
    "## matrix is 2D array\n",
    "\n",
    "np.matrix(li)"
   ]
  },
  {
   "cell_type": "markdown",
   "id": "eed65a22-14b2-470c-8bd1-aa6d272d2f16",
   "metadata": {},
   "source": [
    "## fromfunction()\n",
    "\n",
    "The np.fromfunction() is used to construct an arrray by executing a function over each coordinate. The resulting array therefore has a value fn(x,y.z) at coordinate (x,y,z)\n",
    "\n",
    "The fromfunction() function can be used to create arrays with complex values, as well as to create arrays with values that depend on the index. It is often used to create arrays with a specific mathematical pattern or formula.\n",
    "\n",
    "`numpy.fromfunction(function, shape, **kwargs)`"
   ]
  },
  {
   "cell_type": "code",
   "execution_count": 7,
   "id": "b1159fb5-3fa7-4fb4-b52f-65ef39601df0",
   "metadata": {},
   "outputs": [
    {
     "data": {
      "text/plain": [
       "array([[ True, False, False],\n",
       "       [False,  True, False],\n",
       "       [False, False,  True]])"
      ]
     },
     "execution_count": 7,
     "metadata": {},
     "output_type": "execute_result"
    }
   ],
   "source": [
    "np.fromfunction(lambda i,j:i==j, (3,3), dtype=int)"
   ]
  },
  {
   "cell_type": "code",
   "execution_count": 8,
   "id": "29b1a6e6-e0aa-4cbe-9029-f950284fd842",
   "metadata": {},
   "outputs": [
    {
     "data": {
      "text/plain": [
       "array([[0, 1, 2],\n",
       "       [1, 2, 3],\n",
       "       [2, 3, 4]])"
      ]
     },
     "execution_count": 8,
     "metadata": {},
     "output_type": "execute_result"
    }
   ],
   "source": [
    "np.fromfunction(lambda i,j:i+j, (3,3), dtype=int)"
   ]
  },
  {
   "cell_type": "markdown",
   "id": "26328310-6837-497b-97ba-6e20380d85a4",
   "metadata": {},
   "source": [
    "## fromiter()\n",
    "\n",
    "The np.fromiter() is used to create a new 1d array from an iterable object.\n",
    "\n",
    "The fromiter() function is useful when we want to create a new numpy array from an iterable object without having to convert the iterable to a list or tuple first. It is also useful when we have a large dataset and we do not want to load it all into memory at once. Instead, we can read it in chunks using a generator and create a new numpy array from each chunk using fromiter().\n",
    "\n",
    "`np.fromitter(iterable, dtype, count=1)`"
   ]
  },
  {
   "cell_type": "code",
   "execution_count": 9,
   "id": "af890de4-4127-409b-9571-c421916abac0",
   "metadata": {},
   "outputs": [
    {
     "data": {
      "text/plain": [
       "array([ 0.,  1.,  4.,  9., 16., 25., 36., 49.])"
      ]
     },
     "execution_count": 9,
     "metadata": {},
     "output_type": "execute_result"
    }
   ],
   "source": [
    "iterable = (a*a for a in range(8))\n",
    "np.fromiter(iterable, float)"
   ]
  },
  {
   "cell_type": "markdown",
   "id": "71e3e0e6-f1dc-40cd-8eff-d95b14f71c2e",
   "metadata": {},
   "source": [
    "## fromstring()\n",
    "\n",
    "The np.fromstring() is used to create a 1d array from a string of data. The string is interpreted as binary data, and each character in the string represents a single elements in the resulting array.\n",
    "\n",
    "`numpy.fromstring(string, dtype=float, count=-1, sep='')`"
   ]
  },
  {
   "cell_type": "code",
   "execution_count": 10,
   "id": "a84caa4d-30c6-4881-a111-5204815e91de",
   "metadata": {},
   "outputs": [
    {
     "data": {
      "text/plain": [
       "array([ 3,  4,  1, 23, 21,  6,  4])"
      ]
     },
     "execution_count": 10,
     "metadata": {},
     "output_type": "execute_result"
    }
   ],
   "source": [
    "np.fromstring(\"3 4 1 23 21 6 4\", dtype=int, sep=\" \")"
   ]
  },
  {
   "cell_type": "markdown",
   "id": "98e4ef5c-2606-441b-9a5c-d7f176a0ced2",
   "metadata": {},
   "source": [
    "# numpy - data types"
   ]
  },
  {
   "cell_type": "code",
   "execution_count": 11,
   "id": "ab408be5-7c3a-42bb-8c44-9fe6528e3ed7",
   "metadata": {},
   "outputs": [
    {
     "ename": "AttributeError",
     "evalue": "'list' object has no attribute 'ndim'",
     "output_type": "error",
     "traceback": [
      "\u001b[1;31m---------------------------------------------------------------------------\u001b[0m",
      "\u001b[1;31mAttributeError\u001b[0m                            Traceback (most recent call last)",
      "Cell \u001b[1;32mIn[11], line 1\u001b[0m\n\u001b[1;32m----> 1\u001b[0m \u001b[43mli\u001b[49m\u001b[38;5;241;43m.\u001b[39;49m\u001b[43mndim\u001b[49m\n",
      "\u001b[1;31mAttributeError\u001b[0m: 'list' object has no attribute 'ndim'"
     ]
    }
   ],
   "source": [
    "li.ndim"
   ]
  },
  {
   "cell_type": "code",
   "execution_count": 12,
   "id": "6ad20a43-381a-410b-a7d2-17b0bbad3d7b",
   "metadata": {},
   "outputs": [
    {
     "data": {
      "text/plain": [
       "1"
      ]
     },
     "execution_count": 12,
     "metadata": {},
     "output_type": "execute_result"
    }
   ],
   "source": [
    "arr.ndim"
   ]
  },
  {
   "cell_type": "code",
   "execution_count": 13,
   "id": "a7ed3ebe-e6a8-4dc9-9f23-601bb6b8bb2b",
   "metadata": {},
   "outputs": [],
   "source": [
    "arr2 = np.array([[1,2] , [3,4]])"
   ]
  },
  {
   "cell_type": "code",
   "execution_count": 14,
   "id": "ca052181-277c-4d0e-bcc1-30a63b5482c5",
   "metadata": {},
   "outputs": [
    {
     "data": {
      "text/plain": [
       "2"
      ]
     },
     "execution_count": 14,
     "metadata": {},
     "output_type": "execute_result"
    }
   ],
   "source": [
    "arr2.ndim"
   ]
  },
  {
   "cell_type": "code",
   "execution_count": 15,
   "id": "cd80e7aa-8445-4d98-95c5-c1a54fe1ce95",
   "metadata": {},
   "outputs": [
    {
     "data": {
      "text/plain": [
       "5"
      ]
     },
     "execution_count": 15,
     "metadata": {},
     "output_type": "execute_result"
    }
   ],
   "source": [
    "arr.size"
   ]
  },
  {
   "cell_type": "code",
   "execution_count": 16,
   "id": "d071d094-d57f-401c-9652-a027d7666072",
   "metadata": {},
   "outputs": [
    {
     "data": {
      "text/plain": [
       "4"
      ]
     },
     "execution_count": 16,
     "metadata": {},
     "output_type": "execute_result"
    }
   ],
   "source": [
    "arr2.size"
   ]
  },
  {
   "cell_type": "code",
   "execution_count": 17,
   "id": "06933739-9cfd-4ce3-872e-e9ddd112eea1",
   "metadata": {},
   "outputs": [
    {
     "data": {
      "text/plain": [
       "(5,)"
      ]
     },
     "execution_count": 17,
     "metadata": {},
     "output_type": "execute_result"
    }
   ],
   "source": [
    "arr.shape"
   ]
  },
  {
   "cell_type": "code",
   "execution_count": 18,
   "id": "dd3de440-2ea2-4eaf-8484-1e98fff68178",
   "metadata": {},
   "outputs": [
    {
     "data": {
      "text/plain": [
       "(2, 2)"
      ]
     },
     "execution_count": 18,
     "metadata": {},
     "output_type": "execute_result"
    }
   ],
   "source": [
    "arr2.shape"
   ]
  },
  {
   "cell_type": "code",
   "execution_count": 19,
   "id": "49460f07-b044-4def-956e-f717b3815f1e",
   "metadata": {},
   "outputs": [
    {
     "data": {
      "text/plain": [
       "dtype('int32')"
      ]
     },
     "execution_count": 19,
     "metadata": {},
     "output_type": "execute_result"
    }
   ],
   "source": [
    "arr.dtype"
   ]
  },
  {
   "cell_type": "markdown",
   "id": "18cea68b-b6bd-43db-86f0-a0f5191c3982",
   "metadata": {},
   "source": [
    "## Creating array on floating numbers\n",
    "\n",
    "#### np.arange() function\n",
    "\n",
    "The np.arange() function is used to generate an array with evenly spaced values within a specified interval. The function returns a 1D array to type np.ndarray.\n",
    "\n",
    "`np.arange([start], stop, [step])`"
   ]
  },
  {
   "cell_type": "code",
   "execution_count": 21,
   "id": "b3069f16-51a9-4a58-9bed-be41b9bc29ac",
   "metadata": {},
   "outputs": [
    {
     "data": {
      "text/plain": [
       "array([0, 1, 2, 3, 4])"
      ]
     },
     "execution_count": 21,
     "metadata": {},
     "output_type": "execute_result"
    }
   ],
   "source": [
    "np.arange(5)"
   ]
  },
  {
   "cell_type": "code",
   "execution_count": 22,
   "id": "6f949d14-f0ac-4f05-b0e7-34452d8b5b82",
   "metadata": {},
   "outputs": [
    {
     "data": {
      "text/plain": [
       "array([0., 1., 2., 3., 4., 5.])"
      ]
     },
     "execution_count": 22,
     "metadata": {},
     "output_type": "execute_result"
    }
   ],
   "source": [
    "np.arange(5.5)"
   ]
  },
  {
   "cell_type": "markdown",
   "id": "5a67efe0-e146-478a-8117-2fcaea48049a",
   "metadata": {},
   "source": [
    "**with start, stop and step args**"
   ]
  },
  {
   "cell_type": "code",
   "execution_count": 23,
   "id": "91229d8c-df25-4457-8c2c-1535105aa6e2",
   "metadata": {},
   "outputs": [
    {
     "data": {
      "text/plain": [
       "array([0., 1., 2., 3., 4., 5.])"
      ]
     },
     "execution_count": 23,
     "metadata": {},
     "output_type": "execute_result"
    }
   ],
   "source": [
    "np.arange(5.9)"
   ]
  },
  {
   "cell_type": "code",
   "execution_count": 24,
   "id": "b94f6bf9-5d0d-4abb-a2e9-1b22be34a9cf",
   "metadata": {},
   "outputs": [
    {
     "data": {
      "text/plain": [
       "array([2, 4, 6, 8])"
      ]
     },
     "execution_count": 24,
     "metadata": {},
     "output_type": "execute_result"
    }
   ],
   "source": [
    "np.arange(2,10,2)"
   ]
  },
  {
   "cell_type": "code",
   "execution_count": 25,
   "id": "0c029e46-097e-4de5-b3ed-ba1d2886c677",
   "metadata": {},
   "outputs": [
    {
     "data": {
      "text/plain": [
       "array([2.6, 4.8, 7. , 9.2])"
      ]
     },
     "execution_count": 25,
     "metadata": {},
     "output_type": "execute_result"
    }
   ],
   "source": [
    "np.arange(2.6, 10.9, 2.2)"
   ]
  },
  {
   "cell_type": "markdown",
   "id": "1cb2ec2f-2f19-4f9f-ae1d-a0584f48f684",
   "metadata": {},
   "source": [
    "## np.linspace() function\n",
    "\n",
    "The numpy.linespace() function is used to create an array of evenly spaced numbers within a specified range. The range is defined by the start and end point of the sequence, and the number of evenly spaced points to generated between them.\n",
    "\n",
    "`np.linspace(start, stop, num=50)`"
   ]
  },
  {
   "cell_type": "code",
   "execution_count": 28,
   "id": "b5aaeefb-77c7-4fd7-8b37-a7f2dbb46719",
   "metadata": {},
   "outputs": [
    {
     "data": {
      "text/plain": [
       "array([3.        , 3.16666667, 3.33333333, 3.5       , 3.66666667,\n",
       "       3.83333333, 4.        ])"
      ]
     },
     "execution_count": 28,
     "metadata": {},
     "output_type": "execute_result"
    }
   ],
   "source": [
    "np.linspace(3.0, 4.0, num=7)"
   ]
  },
  {
   "cell_type": "code",
   "execution_count": 29,
   "id": "a498b7a9-92a2-444c-9d7d-0c39452c7935",
   "metadata": {},
   "outputs": [
    {
     "data": {
      "text/plain": [
       "array([2.2 , 2.44, 2.68, 2.92, 3.16, 3.4 , 3.64, 3.88, 4.12, 4.36, 4.6 ,\n",
       "       4.84, 5.08, 5.32, 5.56])"
      ]
     },
     "execution_count": 29,
     "metadata": {},
     "output_type": "execute_result"
    }
   ],
   "source": [
    "np.linspace(2.2, 5.8, num=15, endpoint=False)"
   ]
  },
  {
   "cell_type": "markdown",
   "id": "6fcd171c-3815-4b93-9f85-e2da939a8fc3",
   "metadata": {},
   "source": [
    "## Plotting Points with Matplotlib"
   ]
  },
  {
   "cell_type": "code",
   "execution_count": 30,
   "id": "5ac3bfda-0803-40d7-9028-1b288efcbafd",
   "metadata": {},
   "outputs": [],
   "source": [
    "import matplotlib.pyplot as plt"
   ]
  },
  {
   "cell_type": "code",
   "execution_count": 38,
   "id": "05dfa2ae-a23e-4ef4-b3dc-97777073c398",
   "metadata": {},
   "outputs": [
    {
     "data": {
      "text/plain": [
       "(-5.0, 1.0)"
      ]
     },
     "execution_count": 38,
     "metadata": {},
     "output_type": "execute_result"
    },
    {
     "data": {
      "image/png": "[encoded data removed]",
      "text/plain": [
       "<Figure size 640x480 with 1 Axes>"
      ]
     },
     "metadata": {},
     "output_type": "display_data"
    }
   ],
   "source": [
    "A = 5\n",
    "x= np.zeros(5)\n",
    "a1 = np.linspace(0, 10, A, endpoint=True)\n",
    "a2 = np.linspace(0, 10, A, endpoint=False)\n",
    "\n",
    "plt.plot(a1, x , 'o')\n",
    "plt.plot(a2, x+0.5 , 'o')\n",
    "plt.ylim([-5.0, 1])"
   ]
  },
  {
   "cell_type": "code",
   "execution_count": 32,
   "id": "35ab7ede-acc2-4627-9592-f447e7ace840",
   "metadata": {},
   "outputs": [
    {
     "data": {
      "text/plain": [
       "array([0., 0., 0., 0., 0.])"
      ]
     },
     "execution_count": 32,
     "metadata": {},
     "output_type": "execute_result"
    }
   ],
   "source": [
    "x"
   ]
  },
  {
   "cell_type": "markdown",
   "id": "62369669-1c4a-412d-9ad0-4712fd894539",
   "metadata": {},
   "source": [
    "## np.zeros() function\n",
    "\n",
    "The numpy.zeros() function is used to create an array of specified shape and data type, filled with zeros.\r\n",
    "The function is commonly used to initialize an array of a specific size and type, before filling it with actual values obtained from some calculations or data sources. It is also used as a placeholder to allocate memory for later use\n",
    "\n",
    "`numpy.zeros(a, dtype=None, order='K', subok=True)`."
   ]
  },
  {
   "cell_type": "code",
   "execution_count": 40,
   "id": "25db0c75-4c8d-41a1-be9e-7cbacd883950",
   "metadata": {},
   "outputs": [
    {
     "data": {
      "text/plain": [
       "array([0., 0., 0., 0., 0.])"
      ]
     },
     "execution_count": 40,
     "metadata": {},
     "output_type": "execute_result"
    }
   ],
   "source": [
    "## create 1d array with 5values initilize with 0.\n",
    "\n",
    "np.zeros(5)"
   ]
  },
  {
   "cell_type": "code",
   "execution_count": 41,
   "id": "abf26768-bd6d-4b6f-9c9f-b9eb3bc4c11c",
   "metadata": {},
   "outputs": [
    {
     "data": {
      "text/plain": [
       "array([[0., 0.],\n",
       "       [0., 0.],\n",
       "       [0., 0.]])"
      ]
     },
     "execution_count": 41,
     "metadata": {},
     "output_type": "execute_result"
    }
   ],
   "source": [
    "np.zeros((3,2))"
   ]
  },
  {
   "cell_type": "code",
   "execution_count": 45,
   "id": "d379d94f-72b1-4631-8b24-89d5d4b7a500",
   "metadata": {},
   "outputs": [
    {
     "data": {
      "text/plain": [
       "array([[[0., 0., 0., 0.],\n",
       "        [0., 0., 0., 0.]],\n",
       "\n",
       "       [[0., 0., 0., 0.],\n",
       "        [0., 0., 0., 0.]],\n",
       "\n",
       "       [[0., 0., 0., 0.],\n",
       "        [0., 0., 0., 0.]]])"
      ]
     },
     "execution_count": 45,
     "metadata": {},
     "output_type": "execute_result"
    }
   ],
   "source": [
    "## we have 3 matrix of  2 cross 4\n",
    "\n",
    "np.zeros((3,2,4))"
   ]
  },
  {
   "cell_type": "markdown",
   "id": "05a370d2-bb0d-4d9c-b357-e7a985a1e2c6",
   "metadata": {},
   "source": [
    "## np.ones() function\n",
    "\n",
    "The numpy.ones() function is used to create a new array of given shape and type, filled with ones. The ones() function is useful in situations where we need to create an array of ones with a specific shape and data type, for example in matrix operations or in initializing an array with default values.\r\n",
    "`np.ones(shape, dtype=none)`'C')"
   ]
  },
  {
   "cell_type": "code",
   "execution_count": 46,
   "id": "61121bfb-186d-4d68-9e07-5c7832109c37",
   "metadata": {},
   "outputs": [
    {
     "data": {
      "text/plain": [
       "array([1., 1., 1., 1., 1., 1., 1.])"
      ]
     },
     "execution_count": 46,
     "metadata": {},
     "output_type": "execute_result"
    }
   ],
   "source": [
    "np.ones(7)"
   ]
  },
  {
   "cell_type": "code",
   "execution_count": 49,
   "id": "06565385-ae9b-4556-834f-3e862e2d1624",
   "metadata": {},
   "outputs": [
    {
     "data": {
      "text/plain": [
       "array([[1., 1., 1., 1.],\n",
       "       [1., 1., 1., 1.]])"
      ]
     },
     "execution_count": 49,
     "metadata": {},
     "output_type": "execute_result"
    }
   ],
   "source": [
    "np.ones((2,4))"
   ]
  },
  {
   "cell_type": "code",
   "execution_count": 55,
   "id": "5f8d7083-ade9-4630-ac0f-808ddc5337b2",
   "metadata": {},
   "outputs": [
    {
     "data": {
      "text/plain": [
       "array([[[1., 1., 1.],\n",
       "        [1., 1., 1.],\n",
       "        [1., 1., 1.],\n",
       "        [1., 1., 1.],\n",
       "        [1., 1., 1.]],\n",
       "\n",
       "       [[1., 1., 1.],\n",
       "        [1., 1., 1.],\n",
       "        [1., 1., 1.],\n",
       "        [1., 1., 1.],\n",
       "        [1., 1., 1.]]])"
      ]
     },
     "execution_count": 55,
     "metadata": {},
     "output_type": "execute_result"
    }
   ],
   "source": [
    "on = np.ones((2,5,3))\n",
    "on"
   ]
  },
  {
   "cell_type": "code",
   "execution_count": 56,
   "id": "4222a2ea-4b51-4fe8-8217-1e4fc7c9f452",
   "metadata": {},
   "outputs": [
    {
     "data": {
      "text/plain": [
       "array([[[6., 6., 6.],\n",
       "        [6., 6., 6.],\n",
       "        [6., 6., 6.],\n",
       "        [6., 6., 6.],\n",
       "        [6., 6., 6.]],\n",
       "\n",
       "       [[6., 6., 6.],\n",
       "        [6., 6., 6.],\n",
       "        [6., 6., 6.],\n",
       "        [6., 6., 6.],\n",
       "        [6., 6., 6.]]])"
      ]
     },
     "execution_count": 56,
     "metadata": {},
     "output_type": "execute_result"
    }
   ],
   "source": [
    "on + 5"
   ]
  },
  {
   "cell_type": "code",
   "execution_count": 57,
   "id": "a9bada83-b5ef-40b4-bad2-3d022f6e2fc7",
   "metadata": {},
   "outputs": [
    {
     "data": {
      "text/plain": [
       "array([[[4., 4., 4.],\n",
       "        [4., 4., 4.],\n",
       "        [4., 4., 4.],\n",
       "        [4., 4., 4.],\n",
       "        [4., 4., 4.]],\n",
       "\n",
       "       [[4., 4., 4.],\n",
       "        [4., 4., 4.],\n",
       "        [4., 4., 4.],\n",
       "        [4., 4., 4.],\n",
       "        [4., 4., 4.]]])"
      ]
     },
     "execution_count": 57,
     "metadata": {},
     "output_type": "execute_result"
    }
   ],
   "source": [
    "on * 4"
   ]
  },
  {
   "cell_type": "markdown",
   "id": "211d2fc4-b064-481e-9dfa-66472a5f82ae",
   "metadata": {},
   "source": [
    "## np.eye() function\n",
    "\n",
    "The eye() function is used to create a 2-D array with ones on the diagonal and zeros elsewhere.\n",
    "\n",
    "The eyes() function is commonly used in linear algebra and matrix operations. It is useful for generating matrics to transfrom, rotate, or scale vercctors. It can be used in scientific computing for solving different equations, optimization, and signal processing.\n",
    "\n",
    "`np.eye(N, M=None, k=0)`"
   ]
  },
  {
   "cell_type": "code",
   "execution_count": 58,
   "id": "289a4044-8f34-49c6-af48-3bfac3d918fd",
   "metadata": {},
   "outputs": [
    {
     "data": {
      "text/plain": [
       "array([[1., 0., 0.],\n",
       "       [0., 1., 0.],\n",
       "       [0., 0., 1.]])"
      ]
     },
     "execution_count": 58,
     "metadata": {},
     "output_type": "execute_result"
    }
   ],
   "source": [
    "np.eye(3)"
   ]
  },
  {
   "cell_type": "code",
   "execution_count": 60,
   "id": "efda9205-f9e1-4e94-bf38-5040d0902d1a",
   "metadata": {},
   "outputs": [
    {
     "data": {
      "text/plain": [
       "array([[1., 0., 0.],\n",
       "       [0., 1., 0.]])"
      ]
     },
     "execution_count": 60,
     "metadata": {},
     "output_type": "execute_result"
    }
   ],
   "source": [
    "np.eye(2,3)"
   ]
  },
  {
   "cell_type": "code",
   "execution_count": 61,
   "id": "f1514111-e2ae-434e-8f98-32ae97a24524",
   "metadata": {},
   "outputs": [
    {
     "data": {
      "text/plain": [
       "array([[1., 0., 0.],\n",
       "       [0., 1., 0.],\n",
       "       [0., 0., 1.]])"
      ]
     },
     "execution_count": 61,
     "metadata": {},
     "output_type": "execute_result"
    }
   ],
   "source": [
    "np.eye(3,3)"
   ]
  },
  {
   "cell_type": "markdown",
   "id": "ed410c88-2737-49e2-9dc1-427f49dec7b0",
   "metadata": {},
   "source": [
    "## np.random() function\n",
    "\n",
    "The random is a module present in the NumPy library. This module contains the functions which are used for generating random numbers. This module contains some simple random data generation methods, some permutation and distribution functions, and random generator functions."
   ]
  },
  {
   "cell_type": "code",
   "execution_count": 63,
   "id": "5cf60230-f9df-4af2-8f39-dadf8b4270f7",
   "metadata": {},
   "outputs": [
    {
     "data": {
      "text/plain": [
       "array([[0.13479516, 0.07548695],\n",
       "       [0.82571214, 0.99082724],\n",
       "       [0.41912359, 0.24871171],\n",
       "       [0.79658074, 0.17326128],\n",
       "       [0.57454769, 0.39362407]])"
      ]
     },
     "execution_count": 63,
     "metadata": {},
     "output_type": "execute_result"
    }
   ],
   "source": [
    "np.random.rand(5,2)"
   ]
  },
  {
   "cell_type": "markdown",
   "id": "a6f258ee-ff2e-4ba3-bd53-ea102214118d",
   "metadata": {},
   "source": [
    "**randn()**\n",
    "\n",
    "This function of random module returns a sample from the \"standard normal\" distribution.\n"
   ]
  },
  {
   "cell_type": "code",
   "execution_count": 65,
   "id": "c0106578-b340-4c4d-b2c3-db44f038850c",
   "metadata": {},
   "outputs": [
    {
     "data": {
      "text/plain": [
       "array([[-1.92148376, -1.31613271,  0.33471195,  1.10240132],\n",
       "       [ 0.15686705,  0.12843148,  0.65085098, -0.30390566],\n",
       "       [-0.08054006,  0.36510819,  0.36259584, -0.30693774]])"
      ]
     },
     "execution_count": 65,
     "metadata": {},
     "output_type": "execute_result"
    }
   ],
   "source": [
    "np.random.randn(3,4)"
   ]
  },
  {
   "cell_type": "markdown",
   "id": "8a930a06-2634-4ba0-af1e-ef569bde58bf",
   "metadata": {},
   "source": [
    "**randint(low, [high, size, dtype])**\n",
    "\n",
    "This function is used to generate random intergers from inclusive(low) to exclusive(high)"
   ]
  },
  {
   "cell_type": "code",
   "execution_count": 81,
   "id": "cfe41d3b-dc3d-436b-82b4-517cfa439c77",
   "metadata": {},
   "outputs": [],
   "source": [
    "random = np.random.randint(2, 15, size=20)"
   ]
  },
  {
   "cell_type": "code",
   "execution_count": 82,
   "id": "04c7f005-c72b-4384-93dd-0625df2c6c55",
   "metadata": {},
   "outputs": [
    {
     "data": {
      "text/plain": [
       "array([ 2,  2,  5,  9,  9,  5,  7, 13,  4, 12, 13,  3,  7, 13, 10, 10,  5,\n",
       "       14,  4, 10])"
      ]
     },
     "execution_count": 82,
     "metadata": {},
     "output_type": "execute_result"
    }
   ],
   "source": [
    "random"
   ]
  },
  {
   "cell_type": "code",
   "execution_count": 69,
   "id": "850a0d7a-7387-48a5-9637-f187fc352b90",
   "metadata": {},
   "outputs": [],
   "source": [
    "import pandas as pd"
   ]
  },
  {
   "cell_type": "code",
   "execution_count": 71,
   "id": "97ee2f27-e696-4c6d-a913-1563418d9717",
   "metadata": {},
   "outputs": [],
   "source": [
    "df = pd.DataFrame(random)"
   ]
  },
  {
   "cell_type": "code",
   "execution_count": 72,
   "id": "3654a16a-9a3c-4329-aebc-d091623f3f14",
   "metadata": {},
   "outputs": [
    {
     "data": {
      "text/html": [
       "<div>\n",
       "<style scoped>\n",
       "    .dataframe tbody tr th:only-of-type {\n",
       "        vertical-align: middle;\n",
       "    }\n",
       "\n",
       "    .dataframe tbody tr th {\n",
       "        vertical-align: top;\n",
       "    }\n",
       "\n",
       "    .dataframe thead th {\n",
       "        text-align: right;\n",
       "    }\n",
       "</style>\n",
       "<table border=\"1\" class=\"dataframe\">\n",
       "  <thead>\n",
       "    <tr style=\"text-align: right;\">\n",
       "      <th></th>\n",
       "      <th>0</th>\n",
       "    </tr>\n",
       "  </thead>\n",
       "  <tbody>\n",
       "    <tr>\n",
       "      <th>0</th>\n",
       "      <td>6</td>\n",
       "    </tr>\n",
       "    <tr>\n",
       "      <th>1</th>\n",
       "      <td>4</td>\n",
       "    </tr>\n",
       "    <tr>\n",
       "      <th>2</th>\n",
       "      <td>6</td>\n",
       "    </tr>\n",
       "    <tr>\n",
       "      <th>3</th>\n",
       "      <td>7</td>\n",
       "    </tr>\n",
       "    <tr>\n",
       "      <th>4</th>\n",
       "      <td>3</td>\n",
       "    </tr>\n",
       "    <tr>\n",
       "      <th>5</th>\n",
       "      <td>12</td>\n",
       "    </tr>\n",
       "    <tr>\n",
       "      <th>6</th>\n",
       "      <td>14</td>\n",
       "    </tr>\n",
       "    <tr>\n",
       "      <th>7</th>\n",
       "      <td>7</td>\n",
       "    </tr>\n",
       "    <tr>\n",
       "      <th>8</th>\n",
       "      <td>8</td>\n",
       "    </tr>\n",
       "    <tr>\n",
       "      <th>9</th>\n",
       "      <td>5</td>\n",
       "    </tr>\n",
       "    <tr>\n",
       "      <th>10</th>\n",
       "      <td>11</td>\n",
       "    </tr>\n",
       "    <tr>\n",
       "      <th>11</th>\n",
       "      <td>3</td>\n",
       "    </tr>\n",
       "    <tr>\n",
       "      <th>12</th>\n",
       "      <td>9</td>\n",
       "    </tr>\n",
       "    <tr>\n",
       "      <th>13</th>\n",
       "      <td>10</td>\n",
       "    </tr>\n",
       "    <tr>\n",
       "      <th>14</th>\n",
       "      <td>9</td>\n",
       "    </tr>\n",
       "    <tr>\n",
       "      <th>15</th>\n",
       "      <td>2</td>\n",
       "    </tr>\n",
       "    <tr>\n",
       "      <th>16</th>\n",
       "      <td>6</td>\n",
       "    </tr>\n",
       "    <tr>\n",
       "      <th>17</th>\n",
       "      <td>13</td>\n",
       "    </tr>\n",
       "    <tr>\n",
       "      <th>18</th>\n",
       "      <td>2</td>\n",
       "    </tr>\n",
       "    <tr>\n",
       "      <th>19</th>\n",
       "      <td>8</td>\n",
       "    </tr>\n",
       "  </tbody>\n",
       "</table>\n",
       "</div>"
      ],
      "text/plain": [
       "     0\n",
       "0    6\n",
       "1    4\n",
       "2    6\n",
       "3    7\n",
       "4    3\n",
       "5   12\n",
       "6   14\n",
       "7    7\n",
       "8    8\n",
       "9    5\n",
       "10  11\n",
       "11   3\n",
       "12   9\n",
       "13  10\n",
       "14   9\n",
       "15   2\n",
       "16   6\n",
       "17  13\n",
       "18   2\n",
       "19   8"
      ]
     },
     "execution_count": 72,
     "metadata": {},
     "output_type": "execute_result"
    }
   ],
   "source": [
    "df"
   ]
  },
  {
   "cell_type": "code",
   "execution_count": 77,
   "id": "6ecab727-951a-4d95-8682-e54d4d5c2487",
   "metadata": {},
   "outputs": [],
   "source": [
    "df2 = pd.DataFrame(np.random.randint(10, 199, (200,300))).to_csv(\"random data.csv\")"
   ]
  },
  {
   "cell_type": "code",
   "execution_count": 75,
   "id": "edb4ad73-68bd-4f27-ae8e-7cffe270e45e",
   "metadata": {},
   "outputs": [
    {
     "data": {
      "text/html": [
       "<div>\n",
       "<style scoped>\n",
       "    .dataframe tbody tr th:only-of-type {\n",
       "        vertical-align: middle;\n",
       "    }\n",
       "\n",
       "    .dataframe tbody tr th {\n",
       "        vertical-align: top;\n",
       "    }\n",
       "\n",
       "    .dataframe thead th {\n",
       "        text-align: right;\n",
       "    }\n",
       "</style>\n",
       "<table border=\"1\" class=\"dataframe\">\n",
       "  <thead>\n",
       "    <tr style=\"text-align: right;\">\n",
       "      <th></th>\n",
       "      <th>0</th>\n",
       "      <th>1</th>\n",
       "      <th>2</th>\n",
       "      <th>3</th>\n",
       "      <th>4</th>\n",
       "      <th>5</th>\n",
       "      <th>6</th>\n",
       "      <th>7</th>\n",
       "      <th>8</th>\n",
       "      <th>9</th>\n",
       "      <th>10</th>\n",
       "      <th>11</th>\n",
       "      <th>12</th>\n",
       "      <th>13</th>\n",
       "      <th>14</th>\n",
       "      <th>15</th>\n",
       "      <th>16</th>\n",
       "      <th>17</th>\n",
       "      <th>18</th>\n",
       "      <th>19</th>\n",
       "      <th>20</th>\n",
       "      <th>21</th>\n",
       "      <th>22</th>\n",
       "      <th>23</th>\n",
       "      <th>24</th>\n",
       "      <th>25</th>\n",
       "      <th>26</th>\n",
       "      <th>27</th>\n",
       "      <th>28</th>\n",
       "      <th>29</th>\n",
       "      <th>30</th>\n",
       "      <th>31</th>\n",
       "      <th>32</th>\n",
       "      <th>33</th>\n",
       "      <th>34</th>\n",
       "      <th>35</th>\n",
       "      <th>36</th>\n",
       "      <th>37</th>\n",
       "      <th>38</th>\n",
       "      <th>39</th>\n",
       "      <th>40</th>\n",
       "      <th>41</th>\n",
       "      <th>42</th>\n",
       "      <th>43</th>\n",
       "      <th>44</th>\n",
       "      <th>45</th>\n",
       "      <th>46</th>\n",
       "      <th>47</th>\n",
       "      <th>48</th>\n",
       "      <th>49</th>\n",
       "      <th>50</th>\n",
       "      <th>51</th>\n",
       "      <th>52</th>\n",
       "      <th>53</th>\n",
       "      <th>54</th>\n",
       "      <th>55</th>\n",
       "      <th>56</th>\n",
       "      <th>57</th>\n",
       "      <th>58</th>\n",
       "      <th>59</th>\n",
       "      <th>...</th>\n",
       "      <th>240</th>\n",
       "      <th>241</th>\n",
       "      <th>242</th>\n",
       "      <th>243</th>\n",
       "      <th>244</th>\n",
       "      <th>245</th>\n",
       "      <th>246</th>\n",
       "      <th>247</th>\n",
       "      <th>248</th>\n",
       "      <th>249</th>\n",
       "      <th>250</th>\n",
       "      <th>251</th>\n",
       "      <th>252</th>\n",
       "      <th>253</th>\n",
       "      <th>254</th>\n",
       "      <th>255</th>\n",
       "      <th>256</th>\n",
       "      <th>257</th>\n",
       "      <th>258</th>\n",
       "      <th>259</th>\n",
       "      <th>260</th>\n",
       "      <th>261</th>\n",
       "      <th>262</th>\n",
       "      <th>263</th>\n",
       "      <th>264</th>\n",
       "      <th>265</th>\n",
       "      <th>266</th>\n",
       "      <th>267</th>\n",
       "      <th>268</th>\n",
       "      <th>269</th>\n",
       "      <th>270</th>\n",
       "      <th>271</th>\n",
       "      <th>272</th>\n",
       "      <th>273</th>\n",
       "      <th>274</th>\n",
       "      <th>275</th>\n",
       "      <th>276</th>\n",
       "      <th>277</th>\n",
       "      <th>278</th>\n",
       "      <th>279</th>\n",
       "      <th>280</th>\n",
       "      <th>281</th>\n",
       "      <th>282</th>\n",
       "      <th>283</th>\n",
       "      <th>284</th>\n",
       "      <th>285</th>\n",
       "      <th>286</th>\n",
       "      <th>287</th>\n",
       "      <th>288</th>\n",
       "      <th>289</th>\n",
       "      <th>290</th>\n",
       "      <th>291</th>\n",
       "      <th>292</th>\n",
       "      <th>293</th>\n",
       "      <th>294</th>\n",
       "      <th>295</th>\n",
       "      <th>296</th>\n",
       "      <th>297</th>\n",
       "      <th>298</th>\n",
       "      <th>299</th>\n",
       "    </tr>\n",
       "  </thead>\n",
       "  <tbody>\n",
       "    <tr>\n",
       "      <th>0</th>\n",
       "      <td>22</td>\n",
       "      <td>59</td>\n",
       "      <td>46</td>\n",
       "      <td>85</td>\n",
       "      <td>148</td>\n",
       "      <td>35</td>\n",
       "      <td>106</td>\n",
       "      <td>152</td>\n",
       "      <td>53</td>\n",
       "      <td>128</td>\n",
       "      <td>195</td>\n",
       "      <td>98</td>\n",
       "      <td>191</td>\n",
       "      <td>91</td>\n",
       "      <td>12</td>\n",
       "      <td>146</td>\n",
       "      <td>14</td>\n",
       "      <td>149</td>\n",
       "      <td>140</td>\n",
       "      <td>51</td>\n",
       "      <td>167</td>\n",
       "      <td>184</td>\n",
       "      <td>70</td>\n",
       "      <td>89</td>\n",
       "      <td>94</td>\n",
       "      <td>181</td>\n",
       "      <td>127</td>\n",
       "      <td>175</td>\n",
       "      <td>114</td>\n",
       "      <td>90</td>\n",
       "      <td>124</td>\n",
       "      <td>53</td>\n",
       "      <td>93</td>\n",
       "      <td>140</td>\n",
       "      <td>166</td>\n",
       "      <td>26</td>\n",
       "      <td>113</td>\n",
       "      <td>28</td>\n",
       "      <td>143</td>\n",
       "      <td>15</td>\n",
       "      <td>182</td>\n",
       "      <td>107</td>\n",
       "      <td>134</td>\n",
       "      <td>24</td>\n",
       "      <td>167</td>\n",
       "      <td>64</td>\n",
       "      <td>99</td>\n",
       "      <td>197</td>\n",
       "      <td>125</td>\n",
       "      <td>90</td>\n",
       "      <td>66</td>\n",
       "      <td>66</td>\n",
       "      <td>49</td>\n",
       "      <td>83</td>\n",
       "      <td>57</td>\n",
       "      <td>13</td>\n",
       "      <td>24</td>\n",
       "      <td>62</td>\n",
       "      <td>88</td>\n",
       "      <td>12</td>\n",
       "      <td>...</td>\n",
       "      <td>144</td>\n",
       "      <td>193</td>\n",
       "      <td>79</td>\n",
       "      <td>123</td>\n",
       "      <td>181</td>\n",
       "      <td>108</td>\n",
       "      <td>121</td>\n",
       "      <td>155</td>\n",
       "      <td>56</td>\n",
       "      <td>89</td>\n",
       "      <td>189</td>\n",
       "      <td>127</td>\n",
       "      <td>68</td>\n",
       "      <td>12</td>\n",
       "      <td>158</td>\n",
       "      <td>186</td>\n",
       "      <td>118</td>\n",
       "      <td>85</td>\n",
       "      <td>162</td>\n",
       "      <td>194</td>\n",
       "      <td>77</td>\n",
       "      <td>193</td>\n",
       "      <td>134</td>\n",
       "      <td>18</td>\n",
       "      <td>57</td>\n",
       "      <td>10</td>\n",
       "      <td>54</td>\n",
       "      <td>93</td>\n",
       "      <td>16</td>\n",
       "      <td>19</td>\n",
       "      <td>137</td>\n",
       "      <td>182</td>\n",
       "      <td>195</td>\n",
       "      <td>102</td>\n",
       "      <td>178</td>\n",
       "      <td>64</td>\n",
       "      <td>127</td>\n",
       "      <td>149</td>\n",
       "      <td>105</td>\n",
       "      <td>197</td>\n",
       "      <td>96</td>\n",
       "      <td>46</td>\n",
       "      <td>109</td>\n",
       "      <td>112</td>\n",
       "      <td>98</td>\n",
       "      <td>10</td>\n",
       "      <td>16</td>\n",
       "      <td>50</td>\n",
       "      <td>50</td>\n",
       "      <td>19</td>\n",
       "      <td>144</td>\n",
       "      <td>198</td>\n",
       "      <td>166</td>\n",
       "      <td>77</td>\n",
       "      <td>118</td>\n",
       "      <td>131</td>\n",
       "      <td>170</td>\n",
       "      <td>18</td>\n",
       "      <td>191</td>\n",
       "      <td>74</td>\n",
       "    </tr>\n",
       "    <tr>\n",
       "      <th>1</th>\n",
       "      <td>146</td>\n",
       "      <td>30</td>\n",
       "      <td>73</td>\n",
       "      <td>188</td>\n",
       "      <td>134</td>\n",
       "      <td>19</td>\n",
       "      <td>149</td>\n",
       "      <td>98</td>\n",
       "      <td>96</td>\n",
       "      <td>177</td>\n",
       "      <td>94</td>\n",
       "      <td>175</td>\n",
       "      <td>156</td>\n",
       "      <td>108</td>\n",
       "      <td>18</td>\n",
       "      <td>89</td>\n",
       "      <td>91</td>\n",
       "      <td>119</td>\n",
       "      <td>162</td>\n",
       "      <td>61</td>\n",
       "      <td>13</td>\n",
       "      <td>96</td>\n",
       "      <td>163</td>\n",
       "      <td>13</td>\n",
       "      <td>87</td>\n",
       "      <td>21</td>\n",
       "      <td>39</td>\n",
       "      <td>89</td>\n",
       "      <td>156</td>\n",
       "      <td>34</td>\n",
       "      <td>184</td>\n",
       "      <td>125</td>\n",
       "      <td>112</td>\n",
       "      <td>177</td>\n",
       "      <td>143</td>\n",
       "      <td>114</td>\n",
       "      <td>168</td>\n",
       "      <td>34</td>\n",
       "      <td>110</td>\n",
       "      <td>18</td>\n",
       "      <td>168</td>\n",
       "      <td>26</td>\n",
       "      <td>165</td>\n",
       "      <td>47</td>\n",
       "      <td>29</td>\n",
       "      <td>141</td>\n",
       "      <td>18</td>\n",
       "      <td>38</td>\n",
       "      <td>88</td>\n",
       "      <td>161</td>\n",
       "      <td>127</td>\n",
       "      <td>10</td>\n",
       "      <td>166</td>\n",
       "      <td>36</td>\n",
       "      <td>148</td>\n",
       "      <td>27</td>\n",
       "      <td>138</td>\n",
       "      <td>193</td>\n",
       "      <td>164</td>\n",
       "      <td>139</td>\n",
       "      <td>...</td>\n",
       "      <td>189</td>\n",
       "      <td>62</td>\n",
       "      <td>50</td>\n",
       "      <td>123</td>\n",
       "      <td>59</td>\n",
       "      <td>167</td>\n",
       "      <td>135</td>\n",
       "      <td>75</td>\n",
       "      <td>29</td>\n",
       "      <td>131</td>\n",
       "      <td>182</td>\n",
       "      <td>47</td>\n",
       "      <td>189</td>\n",
       "      <td>134</td>\n",
       "      <td>97</td>\n",
       "      <td>44</td>\n",
       "      <td>92</td>\n",
       "      <td>79</td>\n",
       "      <td>119</td>\n",
       "      <td>141</td>\n",
       "      <td>65</td>\n",
       "      <td>115</td>\n",
       "      <td>69</td>\n",
       "      <td>146</td>\n",
       "      <td>96</td>\n",
       "      <td>54</td>\n",
       "      <td>155</td>\n",
       "      <td>88</td>\n",
       "      <td>178</td>\n",
       "      <td>184</td>\n",
       "      <td>37</td>\n",
       "      <td>76</td>\n",
       "      <td>31</td>\n",
       "      <td>96</td>\n",
       "      <td>159</td>\n",
       "      <td>128</td>\n",
       "      <td>111</td>\n",
       "      <td>120</td>\n",
       "      <td>17</td>\n",
       "      <td>79</td>\n",
       "      <td>125</td>\n",
       "      <td>37</td>\n",
       "      <td>113</td>\n",
       "      <td>39</td>\n",
       "      <td>107</td>\n",
       "      <td>191</td>\n",
       "      <td>35</td>\n",
       "      <td>16</td>\n",
       "      <td>14</td>\n",
       "      <td>16</td>\n",
       "      <td>139</td>\n",
       "      <td>45</td>\n",
       "      <td>60</td>\n",
       "      <td>192</td>\n",
       "      <td>142</td>\n",
       "      <td>13</td>\n",
       "      <td>169</td>\n",
       "      <td>71</td>\n",
       "      <td>159</td>\n",
       "      <td>112</td>\n",
       "    </tr>\n",
       "    <tr>\n",
       "      <th>2</th>\n",
       "      <td>83</td>\n",
       "      <td>30</td>\n",
       "      <td>186</td>\n",
       "      <td>76</td>\n",
       "      <td>39</td>\n",
       "      <td>163</td>\n",
       "      <td>94</td>\n",
       "      <td>92</td>\n",
       "      <td>113</td>\n",
       "      <td>75</td>\n",
       "      <td>125</td>\n",
       "      <td>85</td>\n",
       "      <td>172</td>\n",
       "      <td>79</td>\n",
       "      <td>178</td>\n",
       "      <td>49</td>\n",
       "      <td>22</td>\n",
       "      <td>28</td>\n",
       "      <td>125</td>\n",
       "      <td>36</td>\n",
       "      <td>28</td>\n",
       "      <td>14</td>\n",
       "      <td>32</td>\n",
       "      <td>28</td>\n",
       "      <td>10</td>\n",
       "      <td>131</td>\n",
       "      <td>172</td>\n",
       "      <td>150</td>\n",
       "      <td>99</td>\n",
       "      <td>74</td>\n",
       "      <td>159</td>\n",
       "      <td>171</td>\n",
       "      <td>24</td>\n",
       "      <td>149</td>\n",
       "      <td>126</td>\n",
       "      <td>94</td>\n",
       "      <td>180</td>\n",
       "      <td>178</td>\n",
       "      <td>88</td>\n",
       "      <td>29</td>\n",
       "      <td>142</td>\n",
       "      <td>100</td>\n",
       "      <td>70</td>\n",
       "      <td>180</td>\n",
       "      <td>52</td>\n",
       "      <td>43</td>\n",
       "      <td>129</td>\n",
       "      <td>95</td>\n",
       "      <td>85</td>\n",
       "      <td>197</td>\n",
       "      <td>47</td>\n",
       "      <td>68</td>\n",
       "      <td>99</td>\n",
       "      <td>40</td>\n",
       "      <td>195</td>\n",
       "      <td>16</td>\n",
       "      <td>43</td>\n",
       "      <td>149</td>\n",
       "      <td>57</td>\n",
       "      <td>145</td>\n",
       "      <td>...</td>\n",
       "      <td>198</td>\n",
       "      <td>92</td>\n",
       "      <td>99</td>\n",
       "      <td>142</td>\n",
       "      <td>149</td>\n",
       "      <td>183</td>\n",
       "      <td>140</td>\n",
       "      <td>79</td>\n",
       "      <td>80</td>\n",
       "      <td>81</td>\n",
       "      <td>59</td>\n",
       "      <td>188</td>\n",
       "      <td>187</td>\n",
       "      <td>42</td>\n",
       "      <td>157</td>\n",
       "      <td>145</td>\n",
       "      <td>52</td>\n",
       "      <td>193</td>\n",
       "      <td>198</td>\n",
       "      <td>184</td>\n",
       "      <td>135</td>\n",
       "      <td>157</td>\n",
       "      <td>50</td>\n",
       "      <td>63</td>\n",
       "      <td>91</td>\n",
       "      <td>85</td>\n",
       "      <td>42</td>\n",
       "      <td>45</td>\n",
       "      <td>46</td>\n",
       "      <td>197</td>\n",
       "      <td>79</td>\n",
       "      <td>18</td>\n",
       "      <td>140</td>\n",
       "      <td>72</td>\n",
       "      <td>79</td>\n",
       "      <td>52</td>\n",
       "      <td>181</td>\n",
       "      <td>75</td>\n",
       "      <td>51</td>\n",
       "      <td>76</td>\n",
       "      <td>33</td>\n",
       "      <td>85</td>\n",
       "      <td>46</td>\n",
       "      <td>90</td>\n",
       "      <td>188</td>\n",
       "      <td>109</td>\n",
       "      <td>91</td>\n",
       "      <td>133</td>\n",
       "      <td>86</td>\n",
       "      <td>196</td>\n",
       "      <td>101</td>\n",
       "      <td>75</td>\n",
       "      <td>102</td>\n",
       "      <td>79</td>\n",
       "      <td>159</td>\n",
       "      <td>42</td>\n",
       "      <td>28</td>\n",
       "      <td>16</td>\n",
       "      <td>114</td>\n",
       "      <td>97</td>\n",
       "    </tr>\n",
       "    <tr>\n",
       "      <th>3</th>\n",
       "      <td>60</td>\n",
       "      <td>166</td>\n",
       "      <td>197</td>\n",
       "      <td>70</td>\n",
       "      <td>65</td>\n",
       "      <td>131</td>\n",
       "      <td>110</td>\n",
       "      <td>64</td>\n",
       "      <td>19</td>\n",
       "      <td>177</td>\n",
       "      <td>164</td>\n",
       "      <td>75</td>\n",
       "      <td>53</td>\n",
       "      <td>164</td>\n",
       "      <td>150</td>\n",
       "      <td>169</td>\n",
       "      <td>11</td>\n",
       "      <td>42</td>\n",
       "      <td>94</td>\n",
       "      <td>141</td>\n",
       "      <td>179</td>\n",
       "      <td>76</td>\n",
       "      <td>174</td>\n",
       "      <td>114</td>\n",
       "      <td>77</td>\n",
       "      <td>23</td>\n",
       "      <td>58</td>\n",
       "      <td>15</td>\n",
       "      <td>161</td>\n",
       "      <td>108</td>\n",
       "      <td>119</td>\n",
       "      <td>14</td>\n",
       "      <td>96</td>\n",
       "      <td>164</td>\n",
       "      <td>103</td>\n",
       "      <td>191</td>\n",
       "      <td>65</td>\n",
       "      <td>58</td>\n",
       "      <td>100</td>\n",
       "      <td>130</td>\n",
       "      <td>159</td>\n",
       "      <td>156</td>\n",
       "      <td>86</td>\n",
       "      <td>85</td>\n",
       "      <td>46</td>\n",
       "      <td>148</td>\n",
       "      <td>48</td>\n",
       "      <td>185</td>\n",
       "      <td>34</td>\n",
       "      <td>43</td>\n",
       "      <td>92</td>\n",
       "      <td>81</td>\n",
       "      <td>112</td>\n",
       "      <td>145</td>\n",
       "      <td>158</td>\n",
       "      <td>163</td>\n",
       "      <td>125</td>\n",
       "      <td>149</td>\n",
       "      <td>51</td>\n",
       "      <td>113</td>\n",
       "      <td>...</td>\n",
       "      <td>90</td>\n",
       "      <td>126</td>\n",
       "      <td>166</td>\n",
       "      <td>194</td>\n",
       "      <td>59</td>\n",
       "      <td>23</td>\n",
       "      <td>130</td>\n",
       "      <td>188</td>\n",
       "      <td>133</td>\n",
       "      <td>48</td>\n",
       "      <td>17</td>\n",
       "      <td>155</td>\n",
       "      <td>163</td>\n",
       "      <td>182</td>\n",
       "      <td>59</td>\n",
       "      <td>88</td>\n",
       "      <td>180</td>\n",
       "      <td>178</td>\n",
       "      <td>36</td>\n",
       "      <td>32</td>\n",
       "      <td>35</td>\n",
       "      <td>22</td>\n",
       "      <td>182</td>\n",
       "      <td>169</td>\n",
       "      <td>163</td>\n",
       "      <td>90</td>\n",
       "      <td>107</td>\n",
       "      <td>14</td>\n",
       "      <td>121</td>\n",
       "      <td>53</td>\n",
       "      <td>22</td>\n",
       "      <td>16</td>\n",
       "      <td>15</td>\n",
       "      <td>72</td>\n",
       "      <td>16</td>\n",
       "      <td>18</td>\n",
       "      <td>137</td>\n",
       "      <td>86</td>\n",
       "      <td>107</td>\n",
       "      <td>187</td>\n",
       "      <td>162</td>\n",
       "      <td>144</td>\n",
       "      <td>129</td>\n",
       "      <td>139</td>\n",
       "      <td>26</td>\n",
       "      <td>11</td>\n",
       "      <td>87</td>\n",
       "      <td>30</td>\n",
       "      <td>76</td>\n",
       "      <td>83</td>\n",
       "      <td>84</td>\n",
       "      <td>34</td>\n",
       "      <td>17</td>\n",
       "      <td>171</td>\n",
       "      <td>41</td>\n",
       "      <td>174</td>\n",
       "      <td>48</td>\n",
       "      <td>54</td>\n",
       "      <td>56</td>\n",
       "      <td>108</td>\n",
       "    </tr>\n",
       "    <tr>\n",
       "      <th>4</th>\n",
       "      <td>136</td>\n",
       "      <td>104</td>\n",
       "      <td>119</td>\n",
       "      <td>191</td>\n",
       "      <td>188</td>\n",
       "      <td>35</td>\n",
       "      <td>144</td>\n",
       "      <td>63</td>\n",
       "      <td>133</td>\n",
       "      <td>138</td>\n",
       "      <td>69</td>\n",
       "      <td>14</td>\n",
       "      <td>145</td>\n",
       "      <td>188</td>\n",
       "      <td>155</td>\n",
       "      <td>189</td>\n",
       "      <td>51</td>\n",
       "      <td>161</td>\n",
       "      <td>134</td>\n",
       "      <td>60</td>\n",
       "      <td>77</td>\n",
       "      <td>92</td>\n",
       "      <td>123</td>\n",
       "      <td>14</td>\n",
       "      <td>36</td>\n",
       "      <td>129</td>\n",
       "      <td>135</td>\n",
       "      <td>55</td>\n",
       "      <td>116</td>\n",
       "      <td>143</td>\n",
       "      <td>53</td>\n",
       "      <td>22</td>\n",
       "      <td>162</td>\n",
       "      <td>169</td>\n",
       "      <td>23</td>\n",
       "      <td>90</td>\n",
       "      <td>124</td>\n",
       "      <td>187</td>\n",
       "      <td>65</td>\n",
       "      <td>32</td>\n",
       "      <td>63</td>\n",
       "      <td>61</td>\n",
       "      <td>185</td>\n",
       "      <td>129</td>\n",
       "      <td>79</td>\n",
       "      <td>113</td>\n",
       "      <td>22</td>\n",
       "      <td>164</td>\n",
       "      <td>109</td>\n",
       "      <td>125</td>\n",
       "      <td>130</td>\n",
       "      <td>134</td>\n",
       "      <td>116</td>\n",
       "      <td>78</td>\n",
       "      <td>116</td>\n",
       "      <td>139</td>\n",
       "      <td>52</td>\n",
       "      <td>123</td>\n",
       "      <td>125</td>\n",
       "      <td>65</td>\n",
       "      <td>...</td>\n",
       "      <td>98</td>\n",
       "      <td>149</td>\n",
       "      <td>180</td>\n",
       "      <td>119</td>\n",
       "      <td>103</td>\n",
       "      <td>162</td>\n",
       "      <td>101</td>\n",
       "      <td>71</td>\n",
       "      <td>72</td>\n",
       "      <td>187</td>\n",
       "      <td>41</td>\n",
       "      <td>95</td>\n",
       "      <td>95</td>\n",
       "      <td>10</td>\n",
       "      <td>171</td>\n",
       "      <td>44</td>\n",
       "      <td>31</td>\n",
       "      <td>143</td>\n",
       "      <td>67</td>\n",
       "      <td>198</td>\n",
       "      <td>107</td>\n",
       "      <td>63</td>\n",
       "      <td>60</td>\n",
       "      <td>21</td>\n",
       "      <td>134</td>\n",
       "      <td>145</td>\n",
       "      <td>191</td>\n",
       "      <td>117</td>\n",
       "      <td>33</td>\n",
       "      <td>89</td>\n",
       "      <td>196</td>\n",
       "      <td>195</td>\n",
       "      <td>45</td>\n",
       "      <td>48</td>\n",
       "      <td>79</td>\n",
       "      <td>134</td>\n",
       "      <td>37</td>\n",
       "      <td>78</td>\n",
       "      <td>114</td>\n",
       "      <td>177</td>\n",
       "      <td>117</td>\n",
       "      <td>195</td>\n",
       "      <td>157</td>\n",
       "      <td>48</td>\n",
       "      <td>32</td>\n",
       "      <td>33</td>\n",
       "      <td>36</td>\n",
       "      <td>176</td>\n",
       "      <td>133</td>\n",
       "      <td>197</td>\n",
       "      <td>45</td>\n",
       "      <td>98</td>\n",
       "      <td>153</td>\n",
       "      <td>52</td>\n",
       "      <td>17</td>\n",
       "      <td>137</td>\n",
       "      <td>119</td>\n",
       "      <td>158</td>\n",
       "      <td>165</td>\n",
       "      <td>106</td>\n",
       "    </tr>\n",
       "    <tr>\n",
       "      <th>...</th>\n",
       "      <td>...</td>\n",
       "      <td>...</td>\n",
       "      <td>...</td>\n",
       "      <td>...</td>\n",
       "      <td>...</td>\n",
       "      <td>...</td>\n",
       "      <td>...</td>\n",
       "      <td>...</td>\n",
       "      <td>...</td>\n",
       "      <td>...</td>\n",
       "      <td>...</td>\n",
       "      <td>...</td>\n",
       "      <td>...</td>\n",
       "      <td>...</td>\n",
       "      <td>...</td>\n",
       "      <td>...</td>\n",
       "      <td>...</td>\n",
       "      <td>...</td>\n",
       "      <td>...</td>\n",
       "      <td>...</td>\n",
       "      <td>...</td>\n",
       "      <td>...</td>\n",
       "      <td>...</td>\n",
       "      <td>...</td>\n",
       "      <td>...</td>\n",
       "      <td>...</td>\n",
       "      <td>...</td>\n",
       "      <td>...</td>\n",
       "      <td>...</td>\n",
       "      <td>...</td>\n",
       "      <td>...</td>\n",
       "      <td>...</td>\n",
       "      <td>...</td>\n",
       "      <td>...</td>\n",
       "      <td>...</td>\n",
       "      <td>...</td>\n",
       "      <td>...</td>\n",
       "      <td>...</td>\n",
       "      <td>...</td>\n",
       "      <td>...</td>\n",
       "      <td>...</td>\n",
       "      <td>...</td>\n",
       "      <td>...</td>\n",
       "      <td>...</td>\n",
       "      <td>...</td>\n",
       "      <td>...</td>\n",
       "      <td>...</td>\n",
       "      <td>...</td>\n",
       "      <td>...</td>\n",
       "      <td>...</td>\n",
       "      <td>...</td>\n",
       "      <td>...</td>\n",
       "      <td>...</td>\n",
       "      <td>...</td>\n",
       "      <td>...</td>\n",
       "      <td>...</td>\n",
       "      <td>...</td>\n",
       "      <td>...</td>\n",
       "      <td>...</td>\n",
       "      <td>...</td>\n",
       "      <td>...</td>\n",
       "      <td>...</td>\n",
       "      <td>...</td>\n",
       "      <td>...</td>\n",
       "      <td>...</td>\n",
       "      <td>...</td>\n",
       "      <td>...</td>\n",
       "      <td>...</td>\n",
       "      <td>...</td>\n",
       "      <td>...</td>\n",
       "      <td>...</td>\n",
       "      <td>...</td>\n",
       "      <td>...</td>\n",
       "      <td>...</td>\n",
       "      <td>...</td>\n",
       "      <td>...</td>\n",
       "      <td>...</td>\n",
       "      <td>...</td>\n",
       "      <td>...</td>\n",
       "      <td>...</td>\n",
       "      <td>...</td>\n",
       "      <td>...</td>\n",
       "      <td>...</td>\n",
       "      <td>...</td>\n",
       "      <td>...</td>\n",
       "      <td>...</td>\n",
       "      <td>...</td>\n",
       "      <td>...</td>\n",
       "      <td>...</td>\n",
       "      <td>...</td>\n",
       "      <td>...</td>\n",
       "      <td>...</td>\n",
       "      <td>...</td>\n",
       "      <td>...</td>\n",
       "      <td>...</td>\n",
       "      <td>...</td>\n",
       "      <td>...</td>\n",
       "      <td>...</td>\n",
       "      <td>...</td>\n",
       "      <td>...</td>\n",
       "      <td>...</td>\n",
       "      <td>...</td>\n",
       "      <td>...</td>\n",
       "      <td>...</td>\n",
       "      <td>...</td>\n",
       "      <td>...</td>\n",
       "      <td>...</td>\n",
       "      <td>...</td>\n",
       "      <td>...</td>\n",
       "      <td>...</td>\n",
       "      <td>...</td>\n",
       "      <td>...</td>\n",
       "      <td>...</td>\n",
       "      <td>...</td>\n",
       "      <td>...</td>\n",
       "      <td>...</td>\n",
       "      <td>...</td>\n",
       "      <td>...</td>\n",
       "      <td>...</td>\n",
       "      <td>...</td>\n",
       "      <td>...</td>\n",
       "    </tr>\n",
       "    <tr>\n",
       "      <th>195</th>\n",
       "      <td>128</td>\n",
       "      <td>20</td>\n",
       "      <td>154</td>\n",
       "      <td>25</td>\n",
       "      <td>55</td>\n",
       "      <td>161</td>\n",
       "      <td>100</td>\n",
       "      <td>57</td>\n",
       "      <td>65</td>\n",
       "      <td>173</td>\n",
       "      <td>86</td>\n",
       "      <td>187</td>\n",
       "      <td>150</td>\n",
       "      <td>37</td>\n",
       "      <td>16</td>\n",
       "      <td>187</td>\n",
       "      <td>69</td>\n",
       "      <td>42</td>\n",
       "      <td>65</td>\n",
       "      <td>97</td>\n",
       "      <td>103</td>\n",
       "      <td>187</td>\n",
       "      <td>188</td>\n",
       "      <td>73</td>\n",
       "      <td>57</td>\n",
       "      <td>44</td>\n",
       "      <td>73</td>\n",
       "      <td>37</td>\n",
       "      <td>186</td>\n",
       "      <td>29</td>\n",
       "      <td>22</td>\n",
       "      <td>148</td>\n",
       "      <td>181</td>\n",
       "      <td>198</td>\n",
       "      <td>16</td>\n",
       "      <td>101</td>\n",
       "      <td>87</td>\n",
       "      <td>64</td>\n",
       "      <td>56</td>\n",
       "      <td>34</td>\n",
       "      <td>110</td>\n",
       "      <td>60</td>\n",
       "      <td>51</td>\n",
       "      <td>106</td>\n",
       "      <td>60</td>\n",
       "      <td>41</td>\n",
       "      <td>103</td>\n",
       "      <td>15</td>\n",
       "      <td>164</td>\n",
       "      <td>169</td>\n",
       "      <td>117</td>\n",
       "      <td>21</td>\n",
       "      <td>175</td>\n",
       "      <td>135</td>\n",
       "      <td>19</td>\n",
       "      <td>135</td>\n",
       "      <td>66</td>\n",
       "      <td>129</td>\n",
       "      <td>65</td>\n",
       "      <td>35</td>\n",
       "      <td>...</td>\n",
       "      <td>120</td>\n",
       "      <td>52</td>\n",
       "      <td>153</td>\n",
       "      <td>120</td>\n",
       "      <td>64</td>\n",
       "      <td>128</td>\n",
       "      <td>143</td>\n",
       "      <td>189</td>\n",
       "      <td>148</td>\n",
       "      <td>191</td>\n",
       "      <td>163</td>\n",
       "      <td>76</td>\n",
       "      <td>198</td>\n",
       "      <td>10</td>\n",
       "      <td>125</td>\n",
       "      <td>127</td>\n",
       "      <td>134</td>\n",
       "      <td>18</td>\n",
       "      <td>137</td>\n",
       "      <td>194</td>\n",
       "      <td>93</td>\n",
       "      <td>66</td>\n",
       "      <td>65</td>\n",
       "      <td>72</td>\n",
       "      <td>164</td>\n",
       "      <td>89</td>\n",
       "      <td>188</td>\n",
       "      <td>69</td>\n",
       "      <td>157</td>\n",
       "      <td>114</td>\n",
       "      <td>56</td>\n",
       "      <td>16</td>\n",
       "      <td>185</td>\n",
       "      <td>74</td>\n",
       "      <td>169</td>\n",
       "      <td>91</td>\n",
       "      <td>68</td>\n",
       "      <td>102</td>\n",
       "      <td>42</td>\n",
       "      <td>29</td>\n",
       "      <td>175</td>\n",
       "      <td>49</td>\n",
       "      <td>27</td>\n",
       "      <td>96</td>\n",
       "      <td>141</td>\n",
       "      <td>90</td>\n",
       "      <td>165</td>\n",
       "      <td>151</td>\n",
       "      <td>142</td>\n",
       "      <td>145</td>\n",
       "      <td>116</td>\n",
       "      <td>48</td>\n",
       "      <td>168</td>\n",
       "      <td>17</td>\n",
       "      <td>68</td>\n",
       "      <td>139</td>\n",
       "      <td>85</td>\n",
       "      <td>28</td>\n",
       "      <td>131</td>\n",
       "      <td>64</td>\n",
       "    </tr>\n",
       "    <tr>\n",
       "      <th>196</th>\n",
       "      <td>23</td>\n",
       "      <td>90</td>\n",
       "      <td>42</td>\n",
       "      <td>183</td>\n",
       "      <td>108</td>\n",
       "      <td>56</td>\n",
       "      <td>19</td>\n",
       "      <td>50</td>\n",
       "      <td>28</td>\n",
       "      <td>161</td>\n",
       "      <td>135</td>\n",
       "      <td>20</td>\n",
       "      <td>50</td>\n",
       "      <td>35</td>\n",
       "      <td>178</td>\n",
       "      <td>71</td>\n",
       "      <td>164</td>\n",
       "      <td>60</td>\n",
       "      <td>162</td>\n",
       "      <td>167</td>\n",
       "      <td>198</td>\n",
       "      <td>89</td>\n",
       "      <td>89</td>\n",
       "      <td>98</td>\n",
       "      <td>189</td>\n",
       "      <td>65</td>\n",
       "      <td>16</td>\n",
       "      <td>156</td>\n",
       "      <td>68</td>\n",
       "      <td>196</td>\n",
       "      <td>130</td>\n",
       "      <td>31</td>\n",
       "      <td>86</td>\n",
       "      <td>35</td>\n",
       "      <td>83</td>\n",
       "      <td>149</td>\n",
       "      <td>129</td>\n",
       "      <td>178</td>\n",
       "      <td>44</td>\n",
       "      <td>42</td>\n",
       "      <td>133</td>\n",
       "      <td>176</td>\n",
       "      <td>139</td>\n",
       "      <td>119</td>\n",
       "      <td>198</td>\n",
       "      <td>48</td>\n",
       "      <td>99</td>\n",
       "      <td>157</td>\n",
       "      <td>121</td>\n",
       "      <td>133</td>\n",
       "      <td>193</td>\n",
       "      <td>187</td>\n",
       "      <td>79</td>\n",
       "      <td>86</td>\n",
       "      <td>85</td>\n",
       "      <td>78</td>\n",
       "      <td>104</td>\n",
       "      <td>78</td>\n",
       "      <td>78</td>\n",
       "      <td>146</td>\n",
       "      <td>...</td>\n",
       "      <td>54</td>\n",
       "      <td>143</td>\n",
       "      <td>35</td>\n",
       "      <td>107</td>\n",
       "      <td>53</td>\n",
       "      <td>97</td>\n",
       "      <td>74</td>\n",
       "      <td>76</td>\n",
       "      <td>172</td>\n",
       "      <td>14</td>\n",
       "      <td>104</td>\n",
       "      <td>177</td>\n",
       "      <td>190</td>\n",
       "      <td>153</td>\n",
       "      <td>99</td>\n",
       "      <td>104</td>\n",
       "      <td>137</td>\n",
       "      <td>101</td>\n",
       "      <td>66</td>\n",
       "      <td>155</td>\n",
       "      <td>18</td>\n",
       "      <td>165</td>\n",
       "      <td>157</td>\n",
       "      <td>147</td>\n",
       "      <td>160</td>\n",
       "      <td>96</td>\n",
       "      <td>115</td>\n",
       "      <td>20</td>\n",
       "      <td>184</td>\n",
       "      <td>43</td>\n",
       "      <td>93</td>\n",
       "      <td>60</td>\n",
       "      <td>89</td>\n",
       "      <td>158</td>\n",
       "      <td>88</td>\n",
       "      <td>150</td>\n",
       "      <td>54</td>\n",
       "      <td>181</td>\n",
       "      <td>109</td>\n",
       "      <td>109</td>\n",
       "      <td>95</td>\n",
       "      <td>93</td>\n",
       "      <td>173</td>\n",
       "      <td>176</td>\n",
       "      <td>189</td>\n",
       "      <td>22</td>\n",
       "      <td>39</td>\n",
       "      <td>30</td>\n",
       "      <td>49</td>\n",
       "      <td>62</td>\n",
       "      <td>37</td>\n",
       "      <td>178</td>\n",
       "      <td>143</td>\n",
       "      <td>38</td>\n",
       "      <td>66</td>\n",
       "      <td>69</td>\n",
       "      <td>187</td>\n",
       "      <td>119</td>\n",
       "      <td>91</td>\n",
       "      <td>185</td>\n",
       "    </tr>\n",
       "    <tr>\n",
       "      <th>197</th>\n",
       "      <td>160</td>\n",
       "      <td>26</td>\n",
       "      <td>123</td>\n",
       "      <td>141</td>\n",
       "      <td>82</td>\n",
       "      <td>167</td>\n",
       "      <td>63</td>\n",
       "      <td>97</td>\n",
       "      <td>99</td>\n",
       "      <td>45</td>\n",
       "      <td>60</td>\n",
       "      <td>189</td>\n",
       "      <td>135</td>\n",
       "      <td>154</td>\n",
       "      <td>128</td>\n",
       "      <td>123</td>\n",
       "      <td>133</td>\n",
       "      <td>89</td>\n",
       "      <td>100</td>\n",
       "      <td>15</td>\n",
       "      <td>30</td>\n",
       "      <td>125</td>\n",
       "      <td>190</td>\n",
       "      <td>80</td>\n",
       "      <td>21</td>\n",
       "      <td>91</td>\n",
       "      <td>99</td>\n",
       "      <td>79</td>\n",
       "      <td>24</td>\n",
       "      <td>102</td>\n",
       "      <td>183</td>\n",
       "      <td>124</td>\n",
       "      <td>136</td>\n",
       "      <td>125</td>\n",
       "      <td>79</td>\n",
       "      <td>121</td>\n",
       "      <td>83</td>\n",
       "      <td>179</td>\n",
       "      <td>62</td>\n",
       "      <td>83</td>\n",
       "      <td>153</td>\n",
       "      <td>67</td>\n",
       "      <td>177</td>\n",
       "      <td>44</td>\n",
       "      <td>67</td>\n",
       "      <td>98</td>\n",
       "      <td>171</td>\n",
       "      <td>26</td>\n",
       "      <td>89</td>\n",
       "      <td>40</td>\n",
       "      <td>168</td>\n",
       "      <td>19</td>\n",
       "      <td>79</td>\n",
       "      <td>191</td>\n",
       "      <td>30</td>\n",
       "      <td>166</td>\n",
       "      <td>159</td>\n",
       "      <td>79</td>\n",
       "      <td>60</td>\n",
       "      <td>82</td>\n",
       "      <td>...</td>\n",
       "      <td>152</td>\n",
       "      <td>33</td>\n",
       "      <td>123</td>\n",
       "      <td>180</td>\n",
       "      <td>177</td>\n",
       "      <td>62</td>\n",
       "      <td>171</td>\n",
       "      <td>117</td>\n",
       "      <td>20</td>\n",
       "      <td>53</td>\n",
       "      <td>33</td>\n",
       "      <td>144</td>\n",
       "      <td>158</td>\n",
       "      <td>80</td>\n",
       "      <td>29</td>\n",
       "      <td>58</td>\n",
       "      <td>94</td>\n",
       "      <td>187</td>\n",
       "      <td>27</td>\n",
       "      <td>22</td>\n",
       "      <td>195</td>\n",
       "      <td>28</td>\n",
       "      <td>69</td>\n",
       "      <td>18</td>\n",
       "      <td>124</td>\n",
       "      <td>183</td>\n",
       "      <td>182</td>\n",
       "      <td>119</td>\n",
       "      <td>103</td>\n",
       "      <td>69</td>\n",
       "      <td>82</td>\n",
       "      <td>41</td>\n",
       "      <td>125</td>\n",
       "      <td>157</td>\n",
       "      <td>48</td>\n",
       "      <td>159</td>\n",
       "      <td>177</td>\n",
       "      <td>32</td>\n",
       "      <td>149</td>\n",
       "      <td>198</td>\n",
       "      <td>140</td>\n",
       "      <td>157</td>\n",
       "      <td>160</td>\n",
       "      <td>150</td>\n",
       "      <td>26</td>\n",
       "      <td>62</td>\n",
       "      <td>144</td>\n",
       "      <td>182</td>\n",
       "      <td>175</td>\n",
       "      <td>75</td>\n",
       "      <td>128</td>\n",
       "      <td>74</td>\n",
       "      <td>125</td>\n",
       "      <td>99</td>\n",
       "      <td>139</td>\n",
       "      <td>111</td>\n",
       "      <td>15</td>\n",
       "      <td>178</td>\n",
       "      <td>51</td>\n",
       "      <td>136</td>\n",
       "    </tr>\n",
       "    <tr>\n",
       "      <th>198</th>\n",
       "      <td>98</td>\n",
       "      <td>109</td>\n",
       "      <td>156</td>\n",
       "      <td>159</td>\n",
       "      <td>185</td>\n",
       "      <td>111</td>\n",
       "      <td>109</td>\n",
       "      <td>172</td>\n",
       "      <td>122</td>\n",
       "      <td>121</td>\n",
       "      <td>50</td>\n",
       "      <td>162</td>\n",
       "      <td>168</td>\n",
       "      <td>104</td>\n",
       "      <td>178</td>\n",
       "      <td>185</td>\n",
       "      <td>145</td>\n",
       "      <td>191</td>\n",
       "      <td>156</td>\n",
       "      <td>156</td>\n",
       "      <td>162</td>\n",
       "      <td>69</td>\n",
       "      <td>107</td>\n",
       "      <td>192</td>\n",
       "      <td>102</td>\n",
       "      <td>95</td>\n",
       "      <td>88</td>\n",
       "      <td>122</td>\n",
       "      <td>23</td>\n",
       "      <td>41</td>\n",
       "      <td>33</td>\n",
       "      <td>155</td>\n",
       "      <td>96</td>\n",
       "      <td>140</td>\n",
       "      <td>139</td>\n",
       "      <td>187</td>\n",
       "      <td>65</td>\n",
       "      <td>174</td>\n",
       "      <td>153</td>\n",
       "      <td>139</td>\n",
       "      <td>124</td>\n",
       "      <td>72</td>\n",
       "      <td>82</td>\n",
       "      <td>96</td>\n",
       "      <td>105</td>\n",
       "      <td>162</td>\n",
       "      <td>137</td>\n",
       "      <td>54</td>\n",
       "      <td>177</td>\n",
       "      <td>107</td>\n",
       "      <td>136</td>\n",
       "      <td>11</td>\n",
       "      <td>25</td>\n",
       "      <td>47</td>\n",
       "      <td>62</td>\n",
       "      <td>175</td>\n",
       "      <td>144</td>\n",
       "      <td>39</td>\n",
       "      <td>186</td>\n",
       "      <td>75</td>\n",
       "      <td>...</td>\n",
       "      <td>11</td>\n",
       "      <td>115</td>\n",
       "      <td>142</td>\n",
       "      <td>51</td>\n",
       "      <td>125</td>\n",
       "      <td>167</td>\n",
       "      <td>12</td>\n",
       "      <td>106</td>\n",
       "      <td>119</td>\n",
       "      <td>121</td>\n",
       "      <td>135</td>\n",
       "      <td>100</td>\n",
       "      <td>151</td>\n",
       "      <td>174</td>\n",
       "      <td>113</td>\n",
       "      <td>150</td>\n",
       "      <td>160</td>\n",
       "      <td>142</td>\n",
       "      <td>160</td>\n",
       "      <td>82</td>\n",
       "      <td>101</td>\n",
       "      <td>48</td>\n",
       "      <td>151</td>\n",
       "      <td>159</td>\n",
       "      <td>162</td>\n",
       "      <td>146</td>\n",
       "      <td>33</td>\n",
       "      <td>135</td>\n",
       "      <td>189</td>\n",
       "      <td>104</td>\n",
       "      <td>122</td>\n",
       "      <td>150</td>\n",
       "      <td>43</td>\n",
       "      <td>24</td>\n",
       "      <td>171</td>\n",
       "      <td>69</td>\n",
       "      <td>52</td>\n",
       "      <td>24</td>\n",
       "      <td>107</td>\n",
       "      <td>185</td>\n",
       "      <td>114</td>\n",
       "      <td>106</td>\n",
       "      <td>37</td>\n",
       "      <td>54</td>\n",
       "      <td>106</td>\n",
       "      <td>198</td>\n",
       "      <td>20</td>\n",
       "      <td>168</td>\n",
       "      <td>58</td>\n",
       "      <td>57</td>\n",
       "      <td>115</td>\n",
       "      <td>151</td>\n",
       "      <td>192</td>\n",
       "      <td>16</td>\n",
       "      <td>90</td>\n",
       "      <td>80</td>\n",
       "      <td>72</td>\n",
       "      <td>104</td>\n",
       "      <td>156</td>\n",
       "      <td>78</td>\n",
       "    </tr>\n",
       "    <tr>\n",
       "      <th>199</th>\n",
       "      <td>116</td>\n",
       "      <td>83</td>\n",
       "      <td>101</td>\n",
       "      <td>10</td>\n",
       "      <td>135</td>\n",
       "      <td>191</td>\n",
       "      <td>109</td>\n",
       "      <td>127</td>\n",
       "      <td>37</td>\n",
       "      <td>146</td>\n",
       "      <td>27</td>\n",
       "      <td>60</td>\n",
       "      <td>96</td>\n",
       "      <td>172</td>\n",
       "      <td>140</td>\n",
       "      <td>137</td>\n",
       "      <td>118</td>\n",
       "      <td>173</td>\n",
       "      <td>107</td>\n",
       "      <td>59</td>\n",
       "      <td>153</td>\n",
       "      <td>154</td>\n",
       "      <td>108</td>\n",
       "      <td>141</td>\n",
       "      <td>57</td>\n",
       "      <td>51</td>\n",
       "      <td>152</td>\n",
       "      <td>119</td>\n",
       "      <td>61</td>\n",
       "      <td>120</td>\n",
       "      <td>99</td>\n",
       "      <td>166</td>\n",
       "      <td>130</td>\n",
       "      <td>45</td>\n",
       "      <td>179</td>\n",
       "      <td>115</td>\n",
       "      <td>73</td>\n",
       "      <td>166</td>\n",
       "      <td>118</td>\n",
       "      <td>102</td>\n",
       "      <td>99</td>\n",
       "      <td>101</td>\n",
       "      <td>102</td>\n",
       "      <td>10</td>\n",
       "      <td>33</td>\n",
       "      <td>25</td>\n",
       "      <td>127</td>\n",
       "      <td>15</td>\n",
       "      <td>83</td>\n",
       "      <td>122</td>\n",
       "      <td>91</td>\n",
       "      <td>16</td>\n",
       "      <td>192</td>\n",
       "      <td>85</td>\n",
       "      <td>58</td>\n",
       "      <td>78</td>\n",
       "      <td>113</td>\n",
       "      <td>89</td>\n",
       "      <td>66</td>\n",
       "      <td>92</td>\n",
       "      <td>...</td>\n",
       "      <td>181</td>\n",
       "      <td>64</td>\n",
       "      <td>137</td>\n",
       "      <td>39</td>\n",
       "      <td>165</td>\n",
       "      <td>83</td>\n",
       "      <td>17</td>\n",
       "      <td>105</td>\n",
       "      <td>102</td>\n",
       "      <td>158</td>\n",
       "      <td>85</td>\n",
       "      <td>102</td>\n",
       "      <td>14</td>\n",
       "      <td>119</td>\n",
       "      <td>46</td>\n",
       "      <td>172</td>\n",
       "      <td>161</td>\n",
       "      <td>74</td>\n",
       "      <td>102</td>\n",
       "      <td>38</td>\n",
       "      <td>187</td>\n",
       "      <td>196</td>\n",
       "      <td>123</td>\n",
       "      <td>146</td>\n",
       "      <td>27</td>\n",
       "      <td>189</td>\n",
       "      <td>145</td>\n",
       "      <td>84</td>\n",
       "      <td>168</td>\n",
       "      <td>103</td>\n",
       "      <td>56</td>\n",
       "      <td>81</td>\n",
       "      <td>72</td>\n",
       "      <td>147</td>\n",
       "      <td>165</td>\n",
       "      <td>57</td>\n",
       "      <td>126</td>\n",
       "      <td>176</td>\n",
       "      <td>80</td>\n",
       "      <td>41</td>\n",
       "      <td>145</td>\n",
       "      <td>193</td>\n",
       "      <td>133</td>\n",
       "      <td>136</td>\n",
       "      <td>23</td>\n",
       "      <td>45</td>\n",
       "      <td>13</td>\n",
       "      <td>86</td>\n",
       "      <td>150</td>\n",
       "      <td>55</td>\n",
       "      <td>166</td>\n",
       "      <td>194</td>\n",
       "      <td>147</td>\n",
       "      <td>10</td>\n",
       "      <td>41</td>\n",
       "      <td>80</td>\n",
       "      <td>31</td>\n",
       "      <td>113</td>\n",
       "      <td>42</td>\n",
       "      <td>107</td>\n",
       "    </tr>\n",
       "  </tbody>\n",
       "</table>\n",
       "<p>200 rows × 300 columns</p>\n",
       "</div>"
      ],
      "text/plain": [
       "     0    1    2    3    4    5    6    7    8    9    10   ...  289  290  291  292  293  294  295  296  297  298  299\n",
       "0     22   59   46   85  148   35  106  152   53  128  195  ...   19  144  198  166   77  118  131  170   18  191   74\n",
       "1    146   30   73  188  134   19  149   98   96  177   94  ...   16  139   45   60  192  142   13  169   71  159  112\n",
       "2     83   30  186   76   39  163   94   92  113   75  125  ...  196  101   75  102   79  159   42   28   16  114   97\n",
       "3     60  166  197   70   65  131  110   64   19  177  164  ...   83   84   34   17  171   41  174   48   54   56  108\n",
       "4    136  104  119  191  188   35  144   63  133  138   69  ...  197   45   98  153   52   17  137  119  158  165  106\n",
       "..   ...  ...  ...  ...  ...  ...  ...  ...  ...  ...  ...  ...  ...  ...  ...  ...  ...  ...  ...  ...  ...  ...  ...\n",
       "195  128   20  154   25   55  161  100   57   65  173   86  ...  145  116   48  168   17   68  139   85   28  131   64\n",
       "196   23   90   42  183  108   56   19   50   28  161  135  ...   62   37  178  143   38   66   69  187  119   91  185\n",
       "197  160   26  123  141   82  167   63   97   99   45   60  ...   75  128   74  125   99  139  111   15  178   51  136\n",
       "198   98  109  156  159  185  111  109  172  122  121   50  ...   57  115  151  192   16   90   80   72  104  156   78\n",
       "199  116   83  101   10  135  191  109  127   37  146   27  ...   55  166  194  147   10   41   80   31  113   42  107\n",
       "\n",
       "[200 rows x 300 columns]"
      ]
     },
     "execution_count": 75,
     "metadata": {},
     "output_type": "execute_result"
    }
   ],
   "source": [
    "df2"
   ]
  },
  {
   "cell_type": "code",
   "execution_count": 87,
   "id": "81ce11f7-4f79-4b7d-9110-ec2735e8af00",
   "metadata": {},
   "outputs": [],
   "source": [
    "arr1 = np.random.randint(2, 4, size=(3,4))"
   ]
  },
  {
   "cell_type": "code",
   "execution_count": 88,
   "id": "adcc72dd-eb77-4a12-a2ca-192327386ff0",
   "metadata": {},
   "outputs": [
    {
     "data": {
      "text/plain": [
       "array([[2, 3, 3, 2],\n",
       "       [3, 2, 2, 2],\n",
       "       [3, 3, 3, 3]])"
      ]
     },
     "execution_count": 88,
     "metadata": {},
     "output_type": "execute_result"
    }
   ],
   "source": [
    "arr1"
   ]
  },
  {
   "cell_type": "code",
   "execution_count": 90,
   "id": "ced5539b-4b27-4470-afe3-710cdae9057e",
   "metadata": {},
   "outputs": [
    {
     "data": {
      "text/plain": [
       "array([[2, 3, 3, 2, 3, 2],\n",
       "       [2, 2, 3, 3, 3, 3]])"
      ]
     },
     "execution_count": 90,
     "metadata": {},
     "output_type": "execute_result"
    }
   ],
   "source": [
    "arr1.reshape(2,6)"
   ]
  },
  {
   "cell_type": "code",
   "execution_count": 95,
   "id": "210889c0-7511-4a7f-8169-0a8b396e9f07",
   "metadata": {},
   "outputs": [
    {
     "data": {
      "text/plain": [
       "array([[2, 3],\n",
       "       [3, 2],\n",
       "       [3, 2],\n",
       "       [2, 2],\n",
       "       [3, 3],\n",
       "       [3, 3]])"
      ]
     },
     "execution_count": 95,
     "metadata": {},
     "output_type": "execute_result"
    }
   ],
   "source": [
    "arr1.reshape(6,2)"
   ]
  },
  {
   "cell_type": "code",
   "execution_count": 98,
   "id": "c93046e5-dae4-42f4-9871-0cfa6a1c9f2f",
   "metadata": {},
   "outputs": [
    {
     "data": {
      "text/plain": [
       "2"
      ]
     },
     "execution_count": 98,
     "metadata": {},
     "output_type": "execute_result"
    }
   ],
   "source": [
    "arr1[1][2]"
   ]
  },
  {
   "cell_type": "code",
   "execution_count": 99,
   "id": "34e4027f-2f07-44bf-9cb6-6e7aaa7fe049",
   "metadata": {},
   "outputs": [],
   "source": [
    "arr2 = np.random.randint(20,60, (5,8))"
   ]
  },
  {
   "cell_type": "code",
   "execution_count": 100,
   "id": "980c6b50-c272-4bf2-a4b8-5a9da7ce08dc",
   "metadata": {},
   "outputs": [
    {
     "data": {
      "text/plain": [
       "array([[41, 22, 33, 24, 57, 46, 40, 48],\n",
       "       [47, 46, 36, 38, 34, 34, 34, 58],\n",
       "       [46, 50, 58, 20, 46, 21, 23, 49],\n",
       "       [51, 56, 52, 40, 40, 38, 55, 31],\n",
       "       [42, 24, 20, 56, 46, 22, 32, 32]])"
      ]
     },
     "execution_count": 100,
     "metadata": {},
     "output_type": "execute_result"
    }
   ],
   "source": [
    "arr2"
   ]
  },
  {
   "cell_type": "code",
   "execution_count": 102,
   "id": "8615f627-253d-4329-8b14-5557ea9cd45a",
   "metadata": {},
   "outputs": [
    {
     "data": {
      "text/plain": [
       "array([57, 58, 58, 51, 56, 52, 55, 56])"
      ]
     },
     "execution_count": 102,
     "metadata": {},
     "output_type": "execute_result"
    }
   ],
   "source": [
    "arr2[arr2 > 50]"
   ]
  },
  {
   "cell_type": "code",
   "execution_count": null,
   "id": "2e51863d-d43b-4c3a-9643-535dba0b2c5e",
   "metadata": {},
   "outputs": [],
   "source": []
  }
 ],
 "metadata": {
  "kernelspec": {
   "display_name": "Python 3 (ipykernel)",
   "language": "python",
   "name": "python3"
  },
  "language_info": {
   "codemirror_mode": {
    "name": "ipython",
    "version": 3
   },
   "file_extension": ".py",
   "mimetype": "text/x-python",
   "name": "python",
   "nbconvert_exporter": "python",
   "pygments_lexer": "ipython3",
   "version": "3.11.1"
  }
 },
 "nbformat": 4,
 "nbformat_minor": 5
}
