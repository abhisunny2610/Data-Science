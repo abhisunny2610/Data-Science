{
 "cells": [
  {
   "cell_type": "markdown",
   "id": "4ae098a1-96a3-45d9-9ebb-e82fc6b2da1b",
   "metadata": {},
   "source": [
    "## Sort, Search and Counting Function"
   ]
  },
  {
   "cell_type": "code",
   "execution_count": 1,
   "id": "e84a7a5d-6874-440b-922b-f7b29148ec6f",
   "metadata": {},
   "outputs": [],
   "source": [
    "import numpy as np"
   ]
  },
  {
   "cell_type": "code",
   "execution_count": 14,
   "id": "3ef1e5ec-3586-4b26-ae99-ab22bb1a4236",
   "metadata": {},
   "outputs": [],
   "source": [
    "arr = np.random.randint(1,30, (10))"
   ]
  },
  {
   "cell_type": "code",
   "execution_count": 15,
   "id": "f0986afc-f2ce-4a23-a77b-0e1422564dc5",
   "metadata": {},
   "outputs": [
    {
     "data": {
      "text/plain": [
       "array([ 2,  9, 12,  7,  9, 19,  1, 24, 26, 26])"
      ]
     },
     "execution_count": 15,
     "metadata": {},
     "output_type": "execute_result"
    }
   ],
   "source": [
    "arr"
   ]
  },
  {
   "cell_type": "markdown",
   "id": "9a0d4414-9cff-4d82-a788-9dec0d6c5f8a",
   "metadata": {},
   "source": [
    "## Sort() Function\n",
    "\n",
    "`np.sort(a, axis=0)` The np.sort function sorts the input array a along thr specified axis, which is 0(columns) in this case. The result is stored in the variable 'x', which is an array with the same shape as a, but with the elements sorted along each column."
   ]
  },
  {
   "cell_type": "code",
   "execution_count": 16,
   "id": "9fde2f45-1f6d-44e1-a6ad-bf37f0c6e91c",
   "metadata": {},
   "outputs": [
    {
     "data": {
      "text/plain": [
       "array([ 1,  2,  7,  9,  9, 12, 19, 24, 26, 26])"
      ]
     },
     "execution_count": 16,
     "metadata": {},
     "output_type": "execute_result"
    }
   ],
   "source": [
    "np.sort(arr)"
   ]
  },
  {
   "cell_type": "code",
   "execution_count": 17,
   "id": "b097c911-b93c-4913-930b-357948d5fe1b",
   "metadata": {},
   "outputs": [],
   "source": [
    "arr1 = np.array([[1,3], [3,1], [4,5]])"
   ]
  },
  {
   "cell_type": "code",
   "execution_count": 18,
   "id": "87bef26a-8df5-43ca-85f5-f116539444c9",
   "metadata": {},
   "outputs": [
    {
     "data": {
      "text/plain": [
       "array([[1, 3],\n",
       "       [1, 3],\n",
       "       [4, 5]])"
      ]
     },
     "execution_count": 18,
     "metadata": {},
     "output_type": "execute_result"
    }
   ],
   "source": [
    "np.sort(arr1)"
   ]
  },
  {
   "cell_type": "code",
   "execution_count": 21,
   "id": "e75201db-18b7-405f-8134-b6e1249ce466",
   "metadata": {},
   "outputs": [
    {
     "data": {
      "text/plain": [
       "array([[1, 1],\n",
       "       [3, 3],\n",
       "       [4, 5]])"
      ]
     },
     "execution_count": 21,
     "metadata": {},
     "output_type": "execute_result"
    }
   ],
   "source": [
    "np.sort(arr1, axis=0)"
   ]
  },
  {
   "cell_type": "markdown",
   "id": "5ad9f2da-7619-4c9b-90b6-97d249f63f2d",
   "metadata": {},
   "source": [
    "## searchsorted() Function\n",
    "\n",
    "The searchsorted() function is used to find indices where elements should be inserted to maintain order.\r\n",
    "\r\n",
    "Find the indices into a sorted Series self such that, if the corresponding elements in value were inserted before the indices, the order of self would be preserve\n",
    "\n",
    "`Series.searchsorted(self, value, side='left', sorter=None)\r\n",
    "`d."
   ]
  },
  {
   "cell_type": "code",
   "execution_count": 22,
   "id": "1bbe984a-aca5-4a09-ad6e-ff98b1e68d5b",
   "metadata": {},
   "outputs": [
    {
     "data": {
      "text/plain": [
       "2"
      ]
     },
     "execution_count": 22,
     "metadata": {},
     "output_type": "execute_result"
    }
   ],
   "source": [
    "np.searchsorted(arr, 10)"
   ]
  },
  {
   "cell_type": "code",
   "execution_count": 26,
   "id": "22e023c0-050a-4255-93cf-4c124c66554f",
   "metadata": {},
   "outputs": [
    {
     "data": {
      "text/plain": [
       "array([2], dtype=int64)"
      ]
     },
     "execution_count": 26,
     "metadata": {},
     "output_type": "execute_result"
    }
   ],
   "source": [
    "x = np.array(['tea', 'bread', 'butter', 'milk'])\n",
    "x.searchsorted(['bread'], side='right')"
   ]
  },
  {
   "cell_type": "markdown",
   "id": "5e2deafc-108e-4535-8cb2-3a80c03ef3ef",
   "metadata": {},
   "source": [
    "## nonzero() Function\n",
    "\n",
    "The np.count_nonzero() function is used to count the number of non-zero elements in the array ‘x’."
   ]
  },
  {
   "cell_type": "code",
   "execution_count": 28,
   "id": "f57a8bf7-4f11-4e59-ac0f-94e87ba976bb",
   "metadata": {},
   "outputs": [],
   "source": [
    "arr2 = np.array([0,0,1,2,100,32,28,0])"
   ]
  },
  {
   "cell_type": "code",
   "execution_count": 29,
   "id": "3d5f3a35-858c-44db-aa5d-2f60483a37ef",
   "metadata": {},
   "outputs": [
    {
     "data": {
      "text/plain": [
       "(array([2, 3, 4, 5, 6], dtype=int64),)"
      ]
     },
     "execution_count": 29,
     "metadata": {},
     "output_type": "execute_result"
    }
   ],
   "source": [
    "np.nonzero(arr2)"
   ]
  },
  {
   "cell_type": "code",
   "execution_count": 30,
   "id": "9483aa54-ed1a-4712-b33a-04aa796d971f",
   "metadata": {},
   "outputs": [
    {
     "data": {
      "text/plain": [
       "5"
      ]
     },
     "execution_count": 30,
     "metadata": {},
     "output_type": "execute_result"
    }
   ],
   "source": [
    "np.count_nonzero(arr2)"
   ]
  },
  {
   "cell_type": "code",
   "execution_count": 31,
   "id": "52ab3422-eb80-4aa6-8fc3-4bd0e8b1714f",
   "metadata": {},
   "outputs": [
    {
     "data": {
      "text/plain": [
       "(array([2, 5, 7, 8, 9], dtype=int64),)"
      ]
     },
     "execution_count": 31,
     "metadata": {},
     "output_type": "execute_result"
    }
   ],
   "source": [
    "np.where(arr > 10)"
   ]
  },
  {
   "cell_type": "code",
   "execution_count": 32,
   "id": "96dc2ed7-9003-4863-b1f3-5632b9e10b3a",
   "metadata": {},
   "outputs": [
    {
     "data": {
      "text/plain": [
       "array([26, 26])"
      ]
     },
     "execution_count": 32,
     "metadata": {},
     "output_type": "execute_result"
    }
   ],
   "source": [
    "np.extract(arr > 25, arr)"
   ]
  },
  {
   "cell_type": "markdown",
   "id": "b1c1de8a-4a3b-4674-bf68-2052e9adc4f4",
   "metadata": {},
   "source": [
    "## Copies and Views"
   ]
  },
  {
   "cell_type": "markdown",
   "id": "f0d47d4d-ad34-40b1-a82a-f9d6ca455c06",
   "metadata": {},
   "source": [
    "## Copy() function\n",
    "\n",
    "The numpy.copy() function is used to get an array copy of an given object.\r\n",
    "\r\n",
    "The copy() function can be useful when you want to make changes to an array without modifying the original array. For example, if you want to perform a series of operations on an array and keep the original array intact, you can create a copy of the original array using the copy() function and perform the operations on the copy. This can also be useful when you want to pass a copy of an array to a function without modifying the original array."
   ]
  },
  {
   "cell_type": "code",
   "execution_count": 33,
   "id": "beb2cadd-f9f2-410c-8cd8-ff1ea66f24c6",
   "metadata": {},
   "outputs": [],
   "source": [
    "a = np.copy(arr)"
   ]
  },
  {
   "cell_type": "code",
   "execution_count": 34,
   "id": "3870e838-c2dd-4605-8e78-f39a557d9f04",
   "metadata": {},
   "outputs": [
    {
     "data": {
      "text/plain": [
       "array([ 2,  9, 12,  7,  9, 19,  1, 24, 26, 26])"
      ]
     },
     "execution_count": 34,
     "metadata": {},
     "output_type": "execute_result"
    }
   ],
   "source": [
    "a"
   ]
  },
  {
   "cell_type": "markdown",
   "id": "65a1e88f-5019-4ac7-b7b6-d11b29940856",
   "metadata": {},
   "source": [
    "## View Function\n",
    "\n",
    "The view() function is used to create a new view of the Series.\r\n",
    "\r\n",
    "This function returns a new Series with a view of the same underlying values in memory, optionally reinterpreted with a new data type. The new data type must preserve the same size in bytes as to not cause index misalignment."
   ]
  },
  {
   "cell_type": "code",
   "execution_count": 35,
   "id": "fe82a802-8687-4257-976a-0c378ac55c89",
   "metadata": {},
   "outputs": [],
   "source": [
    "b = arr.view()"
   ]
  },
  {
   "cell_type": "code",
   "execution_count": 36,
   "id": "bc1fe40b-f539-40f7-ade2-7dba42170555",
   "metadata": {},
   "outputs": [
    {
     "data": {
      "text/plain": [
       "array([ 2,  9, 12,  7,  9, 19,  1, 24, 26, 26])"
      ]
     },
     "execution_count": 36,
     "metadata": {},
     "output_type": "execute_result"
    }
   ],
   "source": [
    "b"
   ]
  },
  {
   "cell_type": "code",
   "execution_count": 37,
   "id": "1ea9236e-98b5-4ff2-bde4-b37f809f4be7",
   "metadata": {},
   "outputs": [],
   "source": [
    "b[1] = 65"
   ]
  },
  {
   "cell_type": "code",
   "execution_count": 38,
   "id": "733d3823-cd80-4973-a7ee-1969ce132c4b",
   "metadata": {},
   "outputs": [
    {
     "data": {
      "text/plain": [
       "array([ 2, 65, 12,  7,  9, 19,  1, 24, 26, 26])"
      ]
     },
     "execution_count": 38,
     "metadata": {},
     "output_type": "execute_result"
    }
   ],
   "source": [
    "b"
   ]
  },
  {
   "cell_type": "code",
   "execution_count": 39,
   "id": "f1fa82cf-68bf-42c9-8890-eeeaac0018fc",
   "metadata": {},
   "outputs": [
    {
     "data": {
      "text/plain": [
       "array([ 2, 65, 12,  7,  9, 19,  1, 24, 26, 26])"
      ]
     },
     "execution_count": 39,
     "metadata": {},
     "output_type": "execute_result"
    }
   ],
   "source": [
    "arr"
   ]
  },
  {
   "cell_type": "markdown",
   "id": "1dcba84a-77bf-4a00-a3e6-008dc5aa6c0b",
   "metadata": {},
   "source": [
    "## Linear Algebra"
   ]
  },
  {
   "cell_type": "code",
   "execution_count": 48,
   "id": "4bfd87a8-4824-4ecf-bb62-14a3baabc5f2",
   "metadata": {},
   "outputs": [],
   "source": [
    "arr1 = np.random.randint(1,30, (2,2))\n",
    "arr2 = np.random.randint(1,30, (2,2))"
   ]
  },
  {
   "cell_type": "code",
   "execution_count": 49,
   "id": "cf545319-7e94-4f7d-a272-15b9f8b6b275",
   "metadata": {},
   "outputs": [
    {
     "data": {
      "text/plain": [
       "array([[23, 20],\n",
       "       [12, 19]])"
      ]
     },
     "execution_count": 49,
     "metadata": {},
     "output_type": "execute_result"
    }
   ],
   "source": [
    "arr1"
   ]
  },
  {
   "cell_type": "code",
   "execution_count": 50,
   "id": "714d94f2-fd36-4149-bdf7-e44cbc0066f0",
   "metadata": {},
   "outputs": [
    {
     "data": {
      "text/plain": [
       "array([[ 7, 17],\n",
       "       [20,  9]])"
      ]
     },
     "execution_count": 50,
     "metadata": {},
     "output_type": "execute_result"
    }
   ],
   "source": [
    "arr2"
   ]
  },
  {
   "cell_type": "code",
   "execution_count": 51,
   "id": "c0a6e252-3ab5-4d09-98da-722f50f20de5",
   "metadata": {},
   "outputs": [
    {
     "data": {
      "text/plain": [
       "array([[561, 571],\n",
       "       [464, 375]])"
      ]
     },
     "execution_count": 51,
     "metadata": {},
     "output_type": "execute_result"
    }
   ],
   "source": [
    "np.dot(arr1, arr2)"
   ]
  },
  {
   "cell_type": "code",
   "execution_count": 52,
   "id": "5bb95189-ff4f-4e46-be4d-e8e8dfce839e",
   "metadata": {},
   "outputs": [
    {
     "data": {
      "text/plain": [
       "array([[561, 571],\n",
       "       [464, 375]])"
      ]
     },
     "execution_count": 52,
     "metadata": {},
     "output_type": "execute_result"
    }
   ],
   "source": [
    "arr1@arr2"
   ]
  },
  {
   "cell_type": "code",
   "execution_count": null,
   "id": "ea267d16-14ec-42cb-ae6f-9c2a05c71a8d",
   "metadata": {},
   "outputs": [],
   "source": []
  }
 ],
 "metadata": {
  "kernelspec": {
   "display_name": "Python 3 (ipykernel)",
   "language": "python",
   "name": "python3"
  },
  "language_info": {
   "codemirror_mode": {
    "name": "ipython",
    "version": 3
   },
   "file_extension": ".py",
   "mimetype": "text/x-python",
   "name": "python",
   "nbconvert_exporter": "python",
   "pygments_lexer": "ipython3",
   "version": "3.11.1"
  }
 },
 "nbformat": 4,
 "nbformat_minor": 5
}
