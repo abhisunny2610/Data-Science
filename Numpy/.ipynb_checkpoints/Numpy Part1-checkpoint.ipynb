{
 "cells": [
  {
   "cell_type": "code",
   "execution_count": 1,
   "id": "9a5634b6-708a-474a-a8d0-c4e456b8fbe1",
   "metadata": {},
   "outputs": [],
   "source": [
    "import numpy as np"
   ]
  },
  {
   "cell_type": "code",
   "execution_count": 2,
   "id": "fdda7b6e-37b3-442e-be58-44db309d57bc",
   "metadata": {},
   "outputs": [],
   "source": [
    " li = [1,2,3,4,5]"
   ]
  },
  {
   "cell_type": "code",
   "execution_count": 3,
   "id": "c25d60af-bc2e-492b-8c45-113b6af1e8f9",
   "metadata": {},
   "outputs": [],
   "source": [
    "## converting list into array\n",
    "\n",
    "arr = np.array(li)"
   ]
  },
  {
   "cell_type": "code",
   "execution_count": 4,
   "id": "c86d2862-2b97-4b5d-b6a6-7e5a14f60ab8",
   "metadata": {},
   "outputs": [
    {
     "data": {
      "text/plain": [
       "numpy.ndarray"
      ]
     },
     "execution_count": 4,
     "metadata": {},
     "output_type": "execute_result"
    }
   ],
   "source": [
    "type(arr)"
   ]
  },
  {
   "cell_type": "code",
   "execution_count": 5,
   "id": "229e4095-e0e8-439d-8b63-31c8edfffb46",
   "metadata": {},
   "outputs": [
    {
     "data": {
      "text/plain": [
       "array([[1, 2],\n",
       "       [3, 4]])"
      ]
     },
     "execution_count": 5,
     "metadata": {},
     "output_type": "execute_result"
    }
   ],
   "source": [
    "## 2d array\n",
    "\n",
    "np.array([[1,2], [3,4]])"
   ]
  },
  {
   "cell_type": "code",
   "execution_count": 6,
   "id": "68ee149a-94e8-4765-900d-8b042e861646",
   "metadata": {},
   "outputs": [
    {
     "data": {
      "text/plain": [
       "matrix([[1, 2, 3, 4, 5]])"
      ]
     },
     "execution_count": 6,
     "metadata": {},
     "output_type": "execute_result"
    }
   ],
   "source": [
    "## matrix is 2D array\n",
    "\n",
    "np.matrix(li)"
   ]
  },
  {
   "cell_type": "markdown",
   "id": "eed65a22-14b2-470c-8bd1-aa6d272d2f16",
   "metadata": {},
   "source": [
    "## fromfunction()\n",
    "\n",
    "The np.fromfunction() is used to construct an arrray by executing a function over each coordinate. The resulting array therefore has a value fn(x,y.z) at coordinate (x,y,z)\n",
    "\n",
    "The fromfunction() function can be used to create arrays with complex values, as well as to create arrays with values that depend on the index. It is often used to create arrays with a specific mathematical pattern or formula.\n",
    "\n",
    "`numpy.fromfunction(function, shape, **kwargs)`"
   ]
  },
  {
   "cell_type": "code",
   "execution_count": 7,
   "id": "b1159fb5-3fa7-4fb4-b52f-65ef39601df0",
   "metadata": {},
   "outputs": [
    {
     "data": {
      "text/plain": [
       "array([[ True, False, False],\n",
       "       [False,  True, False],\n",
       "       [False, False,  True]])"
      ]
     },
     "execution_count": 7,
     "metadata": {},
     "output_type": "execute_result"
    }
   ],
   "source": [
    "np.fromfunction(lambda i,j:i==j, (3,3), dtype=int)"
   ]
  },
  {
   "cell_type": "code",
   "execution_count": 8,
   "id": "29b1a6e6-e0aa-4cbe-9029-f950284fd842",
   "metadata": {},
   "outputs": [
    {
     "data": {
      "text/plain": [
       "array([[0, 1, 2],\n",
       "       [1, 2, 3],\n",
       "       [2, 3, 4]])"
      ]
     },
     "execution_count": 8,
     "metadata": {},
     "output_type": "execute_result"
    }
   ],
   "source": [
    "np.fromfunction(lambda i,j:i+j, (3,3), dtype=int)"
   ]
  },
  {
   "cell_type": "markdown",
   "id": "26328310-6837-497b-97ba-6e20380d85a4",
   "metadata": {},
   "source": [
    "## fromiter()\n",
    "\n",
    "The np.fromiter() is used to create a new 1d array from an iterable object.\n",
    "\n",
    "The fromiter() function is useful when we want to create a new numpy array from an iterable object without having to convert the iterable to a list or tuple first. It is also useful when we have a large dataset and we do not want to load it all into memory at once. Instead, we can read it in chunks using a generator and create a new numpy array from each chunk using fromiter().\n",
    "\n",
    "`np.fromitter(iterable, dtype, count=1)`"
   ]
  },
  {
   "cell_type": "code",
   "execution_count": 9,
   "id": "af890de4-4127-409b-9571-c421916abac0",
   "metadata": {},
   "outputs": [
    {
     "data": {
      "text/plain": [
       "array([ 0.,  1.,  4.,  9., 16., 25., 36., 49.])"
      ]
     },
     "execution_count": 9,
     "metadata": {},
     "output_type": "execute_result"
    }
   ],
   "source": [
    "iterable = (a*a for a in range(8))\n",
    "np.fromiter(iterable, float)"
   ]
  },
  {
   "cell_type": "markdown",
   "id": "71e3e0e6-f1dc-40cd-8eff-d95b14f71c2e",
   "metadata": {},
   "source": [
    "## fromstring()\n",
    "\n",
    "The np.fromstring() is used to create a 1d array from a string of data. The string is interpreted as binary data, and each character in the string represents a single elements in the resulting array.\n",
    "\n",
    "`numpy.fromstring(string, dtype=float, count=-1, sep='')`"
   ]
  },
  {
   "cell_type": "code",
   "execution_count": 10,
   "id": "a84caa4d-30c6-4881-a111-5204815e91de",
   "metadata": {},
   "outputs": [
    {
     "data": {
      "text/plain": [
       "array([ 3,  4,  1, 23, 21,  6,  4])"
      ]
     },
     "execution_count": 10,
     "metadata": {},
     "output_type": "execute_result"
    }
   ],
   "source": [
    "np.fromstring(\"3 4 1 23 21 6 4\", dtype=int, sep=\" \")"
   ]
  },
  {
   "cell_type": "markdown",
   "id": "98e4ef5c-2606-441b-9a5c-d7f176a0ced2",
   "metadata": {},
   "source": [
    "# numpy - data types"
   ]
  },
  {
   "cell_type": "code",
   "execution_count": 11,
   "id": "ab408be5-7c3a-42bb-8c44-9fe6528e3ed7",
   "metadata": {},
   "outputs": [
    {
     "ename": "AttributeError",
     "evalue": "'list' object has no attribute 'ndim'",
     "output_type": "error",
     "traceback": [
      "\u001b[1;31m---------------------------------------------------------------------------\u001b[0m",
      "\u001b[1;31mAttributeError\u001b[0m                            Traceback (most recent call last)",
      "Cell \u001b[1;32mIn[11], line 1\u001b[0m\n\u001b[1;32m----> 1\u001b[0m \u001b[43mli\u001b[49m\u001b[38;5;241;43m.\u001b[39;49m\u001b[43mndim\u001b[49m\n",
      "\u001b[1;31mAttributeError\u001b[0m: 'list' object has no attribute 'ndim'"
     ]
    }
   ],
   "source": [
    "li.ndim"
   ]
  },
  {
   "cell_type": "code",
   "execution_count": 12,
   "id": "6ad20a43-381a-410b-a7d2-17b0bbad3d7b",
   "metadata": {},
   "outputs": [
    {
     "data": {
      "text/plain": [
       "1"
      ]
     },
     "execution_count": 12,
     "metadata": {},
     "output_type": "execute_result"
    }
   ],
   "source": [
    "arr.ndim"
   ]
  },
  {
   "cell_type": "code",
   "execution_count": 13,
   "id": "a7ed3ebe-e6a8-4dc9-9f23-601bb6b8bb2b",
   "metadata": {},
   "outputs": [],
   "source": [
    "arr2 = np.array([[1,2] , [3,4]])"
   ]
  },
  {
   "cell_type": "code",
   "execution_count": 14,
   "id": "ca052181-277c-4d0e-bcc1-30a63b5482c5",
   "metadata": {},
   "outputs": [
    {
     "data": {
      "text/plain": [
       "2"
      ]
     },
     "execution_count": 14,
     "metadata": {},
     "output_type": "execute_result"
    }
   ],
   "source": [
    "arr2.ndim"
   ]
  },
  {
   "cell_type": "code",
   "execution_count": 15,
   "id": "cd80e7aa-8445-4d98-95c5-c1a54fe1ce95",
   "metadata": {},
   "outputs": [
    {
     "data": {
      "text/plain": [
       "5"
      ]
     },
     "execution_count": 15,
     "metadata": {},
     "output_type": "execute_result"
    }
   ],
   "source": [
    "arr.size"
   ]
  },
  {
   "cell_type": "code",
   "execution_count": 16,
   "id": "d071d094-d57f-401c-9652-a027d7666072",
   "metadata": {},
   "outputs": [
    {
     "data": {
      "text/plain": [
       "4"
      ]
     },
     "execution_count": 16,
     "metadata": {},
     "output_type": "execute_result"
    }
   ],
   "source": [
    "arr2.size"
   ]
  },
  {
   "cell_type": "code",
   "execution_count": 17,
   "id": "06933739-9cfd-4ce3-872e-e9ddd112eea1",
   "metadata": {},
   "outputs": [
    {
     "data": {
      "text/plain": [
       "(5,)"
      ]
     },
     "execution_count": 17,
     "metadata": {},
     "output_type": "execute_result"
    }
   ],
   "source": [
    "arr.shape"
   ]
  },
  {
   "cell_type": "code",
   "execution_count": 18,
   "id": "dd3de440-2ea2-4eaf-8484-1e98fff68178",
   "metadata": {},
   "outputs": [
    {
     "data": {
      "text/plain": [
       "(2, 2)"
      ]
     },
     "execution_count": 18,
     "metadata": {},
     "output_type": "execute_result"
    }
   ],
   "source": [
    "arr2.shape"
   ]
  },
  {
   "cell_type": "code",
   "execution_count": 19,
   "id": "49460f07-b044-4def-956e-f717b3815f1e",
   "metadata": {},
   "outputs": [
    {
     "data": {
      "text/plain": [
       "dtype('int32')"
      ]
     },
     "execution_count": 19,
     "metadata": {},
     "output_type": "execute_result"
    }
   ],
   "source": [
    "arr.dtype"
   ]
  },
  {
   "cell_type": "markdown",
   "id": "18cea68b-b6bd-43db-86f0-a0f5191c3982",
   "metadata": {},
   "source": [
    "## Creating array on floating numbers\n",
    "\n",
    "#### np.arange() function\n",
    "\n",
    "The np.arange() function is used to generate an array with evenly spaced values within a specified interval. The function returns a 1D array to type np.ndarray.\n",
    "\n",
    "`np.arange([start], stop, [step])`"
   ]
  },
  {
   "cell_type": "code",
   "execution_count": 21,
   "id": "b3069f16-51a9-4a58-9bed-be41b9bc29ac",
   "metadata": {},
   "outputs": [
    {
     "data": {
      "text/plain": [
       "array([0, 1, 2, 3, 4])"
      ]
     },
     "execution_count": 21,
     "metadata": {},
     "output_type": "execute_result"
    }
   ],
   "source": [
    "np.arange(5)"
   ]
  },
  {
   "cell_type": "code",
   "execution_count": 22,
   "id": "6f949d14-f0ac-4f05-b0e7-34452d8b5b82",
   "metadata": {},
   "outputs": [
    {
     "data": {
      "text/plain": [
       "array([0., 1., 2., 3., 4., 5.])"
      ]
     },
     "execution_count": 22,
     "metadata": {},
     "output_type": "execute_result"
    }
   ],
   "source": [
    "np.arange(5.5)"
   ]
  },
  {
   "cell_type": "markdown",
   "id": "5a67efe0-e146-478a-8117-2fcaea48049a",
   "metadata": {},
   "source": [
    "**with start, stop and step args**"
   ]
  },
  {
   "cell_type": "code",
   "execution_count": 23,
   "id": "91229d8c-df25-4457-8c2c-1535105aa6e2",
   "metadata": {},
   "outputs": [
    {
     "data": {
      "text/plain": [
       "array([0., 1., 2., 3., 4., 5.])"
      ]
     },
     "execution_count": 23,
     "metadata": {},
     "output_type": "execute_result"
    }
   ],
   "source": [
    "np.arange(5.9)"
   ]
  },
  {
   "cell_type": "code",
   "execution_count": 24,
   "id": "b94f6bf9-5d0d-4abb-a2e9-1b22be34a9cf",
   "metadata": {},
   "outputs": [
    {
     "data": {
      "text/plain": [
       "array([2, 4, 6, 8])"
      ]
     },
     "execution_count": 24,
     "metadata": {},
     "output_type": "execute_result"
    }
   ],
   "source": [
    "np.arange(2,10,2)"
   ]
  },
  {
   "cell_type": "code",
   "execution_count": 25,
   "id": "0c029e46-097e-4de5-b3ed-ba1d2886c677",
   "metadata": {},
   "outputs": [
    {
     "data": {
      "text/plain": [
       "array([2.6, 4.8, 7. , 9.2])"
      ]
     },
     "execution_count": 25,
     "metadata": {},
     "output_type": "execute_result"
    }
   ],
   "source": [
    "np.arange(2.6, 10.9, 2.2)"
   ]
  },
  {
   "cell_type": "markdown",
   "id": "1cb2ec2f-2f19-4f9f-ae1d-a0584f48f684",
   "metadata": {},
   "source": [
    "## np.linspace() function\n",
    "\n",
    "The numpy.linespace() function is used to create an array of evenly spaced numbers within a specified range. The range is defined by the start and end point of the sequence, and the number of evenly spaced points to generated between them.\n",
    "\n",
    "`np.linspace(start, stop, num=50)`"
   ]
  },
  {
   "cell_type": "code",
   "execution_count": 28,
   "id": "b5aaeefb-77c7-4fd7-8b37-a7f2dbb46719",
   "metadata": {},
   "outputs": [
    {
     "data": {
      "text/plain": [
       "array([3.        , 3.16666667, 3.33333333, 3.5       , 3.66666667,\n",
       "       3.83333333, 4.        ])"
      ]
     },
     "execution_count": 28,
     "metadata": {},
     "output_type": "execute_result"
    }
   ],
   "source": [
    "np.linspace(3.0, 4.0, num=7)"
   ]
  },
  {
   "cell_type": "code",
   "execution_count": 29,
   "id": "a498b7a9-92a2-444c-9d7d-0c39452c7935",
   "metadata": {},
   "outputs": [
    {
     "data": {
      "text/plain": [
       "array([2.2 , 2.44, 2.68, 2.92, 3.16, 3.4 , 3.64, 3.88, 4.12, 4.36, 4.6 ,\n",
       "       4.84, 5.08, 5.32, 5.56])"
      ]
     },
     "execution_count": 29,
     "metadata": {},
     "output_type": "execute_result"
    }
   ],
   "source": [
    "np.linspace(2.2, 5.8, num=15, endpoint=False)"
   ]
  },
  {
   "cell_type": "markdown",
   "id": "6fcd171c-3815-4b93-9f85-e2da939a8fc3",
   "metadata": {},
   "source": [
    "## Plotting Points with Matplotlib"
   ]
  },
  {
   "cell_type": "code",
   "execution_count": 30,
   "id": "5ac3bfda-0803-40d7-9028-1b288efcbafd",
   "metadata": {},
   "outputs": [],
   "source": [
    "import matplotlib.pyplot as plt"
   ]
  },
  {
   "cell_type": "code",
   "execution_count": 38,
   "id": "05dfa2ae-a23e-4ef4-b3dc-97777073c398",
   "metadata": {},
   "outputs": [
    {
     "data": {
      "text/plain": [
       "(-5.0, 1.0)"
      ]
     },
     "execution_count": 38,
     "metadata": {},
     "output_type": "execute_result"
    },
    {
     "data": {
      "image/png": "[encoded data removed]",
      "text/plain": [
       "<Figure size 640x480 with 1 Axes>"
      ]
     },
     "metadata": {},
     "output_type": "display_data"
    }
   ],
   "source": [
    "A = 5\n",
    "x= np.zeros(5)\n",
    "a1 = np.linspace(0, 10, A, endpoint=True)\n",
    "a2 = np.linspace(0, 10, A, endpoint=False)\n",
    "\n",
    "plt.plot(a1, x , 'o')\n",
    "plt.plot(a2, x+0.5 , 'o')\n",
    "plt.ylim([-5.0, 1])"
   ]
  },
  {
   "cell_type": "code",
   "execution_count": 32,
   "id": "35ab7ede-acc2-4627-9592-f447e7ace840",
   "metadata": {},
   "outputs": [
    {
     "data": {
      "text/plain": [
       "array([0., 0., 0., 0., 0.])"
      ]
     },
     "execution_count": 32,
     "metadata": {},
     "output_type": "execute_result"
    }
   ],
   "source": [
    "x"
   ]
  },
  {
   "cell_type": "markdown",
   "id": "62369669-1c4a-412d-9ad0-4712fd894539",
   "metadata": {},
   "source": [
    "## np.zeros() function\n",
    "\n",
    "The numpy.zeros() function is used to create an array of specified shape and data type, filled with zeros.\r\n",
    "The function is commonly used to initialize an array of a specific size and type, before filling it with actual values obtained from some calculations or data sources. It is also used as a placeholder to allocate memory for later use\n",
    "\n",
    "`numpy.zeros(a, dtype=None, order='K', subok=True)`."
   ]
  },
  {
   "cell_type": "code",
   "execution_count": 40,
   "id": "25db0c75-4c8d-41a1-be9e-7cbacd883950",
   "metadata": {},
   "outputs": [
    {
     "data": {
      "text/plain": [
       "array([0., 0., 0., 0., 0.])"
      ]
     },
     "execution_count": 40,
     "metadata": {},
     "output_type": "execute_result"
    }
   ],
   "source": [
    "## create 1d array with 5values initilize with 0.\n",
    "\n",
    "np.zeros(5)"
   ]
  },
  {
   "cell_type": "code",
   "execution_count": 41,
   "id": "abf26768-bd6d-4b6f-9c9f-b9eb3bc4c11c",
   "metadata": {},
   "outputs": [
    {
     "data": {
      "text/plain": [
       "array([[0., 0.],\n",
       "       [0., 0.],\n",
       "       [0., 0.]])"
      ]
     },
     "execution_count": 41,
     "metadata": {},
     "output_type": "execute_result"
    }
   ],
   "source": [
    "np.zeros((3,2))"
   ]
  },
  {
   "cell_type": "code",
   "execution_count": 45,
   "id": "d379d94f-72b1-4631-8b24-89d5d4b7a500",
   "metadata": {},
   "outputs": [
    {
     "data": {
      "text/plain": [
       "array([[[0., 0., 0., 0.],\n",
       "        [0., 0., 0., 0.]],\n",
       "\n",
       "       [[0., 0., 0., 0.],\n",
       "        [0., 0., 0., 0.]],\n",
       "\n",
       "       [[0., 0., 0., 0.],\n",
       "        [0., 0., 0., 0.]]])"
      ]
     },
     "execution_count": 45,
     "metadata": {},
     "output_type": "execute_result"
    }
   ],
   "source": [
    "## we have 3 matrix of  2 cross 4\n",
    "\n",
    "np.zeros((3,2,4))"
   ]
  },
  {
   "cell_type": "markdown",
   "id": "05a370d2-bb0d-4d9c-b357-e7a985a1e2c6",
   "metadata": {},
   "source": [
    "## np.ones() function\n",
    "\n",
    "The numpy.ones() function is used to create a new array of given shape and type, filled with ones. The ones() function is useful in situations where we need to create an array of ones with a specific shape and data type, for example in matrix operations or in initializing an array with default values.\r\n",
    "`np.ones(shape, dtype=none)`'C')"
   ]
  },
  {
   "cell_type": "code",
   "execution_count": 46,
   "id": "61121bfb-186d-4d68-9e07-5c7832109c37",
   "metadata": {},
   "outputs": [
    {
     "data": {
      "text/plain": [
       "array([1., 1., 1., 1., 1., 1., 1.])"
      ]
     },
     "execution_count": 46,
     "metadata": {},
     "output_type": "execute_result"
    }
   ],
   "source": [
    "np.ones(7)"
   ]
  },
  {
   "cell_type": "code",
   "execution_count": 49,
   "id": "06565385-ae9b-4556-834f-3e862e2d1624",
   "metadata": {},
   "outputs": [
    {
     "data": {
      "text/plain": [
       "array([[1., 1., 1., 1.],\n",
       "       [1., 1., 1., 1.]])"
      ]
     },
     "execution_count": 49,
     "metadata": {},
     "output_type": "execute_result"
    }
   ],
   "source": [
    "np.ones((2,4))"
   ]
  },
  {
   "cell_type": "code",
   "execution_count": 55,
   "id": "5f8d7083-ade9-4630-ac0f-808ddc5337b2",
   "metadata": {},
   "outputs": [
    {
     "data": {
      "text/plain": [
       "array([[[1., 1., 1.],\n",
       "        [1., 1., 1.],\n",
       "        [1., 1., 1.],\n",
       "        [1., 1., 1.],\n",
       "        [1., 1., 1.]],\n",
       "\n",
       "       [[1., 1., 1.],\n",
       "        [1., 1., 1.],\n",
       "        [1., 1., 1.],\n",
       "        [1., 1., 1.],\n",
       "        [1., 1., 1.]]])"
      ]
     },
     "execution_count": 55,
     "metadata": {},
     "output_type": "execute_result"
    }
   ],
   "source": [
    "on = np.ones((2,5,3))\n",
    "on"
   ]
  },
  {
   "cell_type": "code",
   "execution_count": 56,
   "id": "4222a2ea-4b51-4fe8-8217-1e4fc7c9f452",
   "metadata": {},
   "outputs": [
    {
     "data": {
      "text/plain": [
       "array([[[6., 6., 6.],\n",
       "        [6., 6., 6.],\n",
       "        [6., 6., 6.],\n",
       "        [6., 6., 6.],\n",
       "        [6., 6., 6.]],\n",
       "\n",
       "       [[6., 6., 6.],\n",
       "        [6., 6., 6.],\n",
       "        [6., 6., 6.],\n",
       "        [6., 6., 6.],\n",
       "        [6., 6., 6.]]])"
      ]
     },
     "execution_count": 56,
     "metadata": {},
     "output_type": "execute_result"
    }
   ],
   "source": [
    "on + 5"
   ]
  },
  {
   "cell_type": "code",
   "execution_count": 57,
   "id": "a9bada83-b5ef-40b4-bad2-3d022f6e2fc7",
   "metadata": {},
   "outputs": [
    {
     "data": {
      "text/plain": [
       "array([[[4., 4., 4.],\n",
       "        [4., 4., 4.],\n",
       "        [4., 4., 4.],\n",
       "        [4., 4., 4.],\n",
       "        [4., 4., 4.]],\n",
       "\n",
       "       [[4., 4., 4.],\n",
       "        [4., 4., 4.],\n",
       "        [4., 4., 4.],\n",
       "        [4., 4., 4.],\n",
       "        [4., 4., 4.]]])"
      ]
     },
     "execution_count": 57,
     "metadata": {},
     "output_type": "execute_result"
    }
   ],
   "source": [
    "on * 4"
   ]
  },
  {
   "cell_type": "code",
   "execution_count": null,
   "id": "02655f7c-42bf-432c-ac25-3f2a5d59b19f",
   "metadata": {},
   "outputs": [],
   "source": []
  }
 ],
 "metadata": {
  "kernelspec": {
   "display_name": "Python 3 (ipykernel)",
   "language": "python",
   "name": "python3"
  },
  "language_info": {
   "codemirror_mode": {
    "name": "ipython",
    "version": 3
   },
   "file_extension": ".py",
   "mimetype": "text/x-python",
   "name": "python",
   "nbconvert_exporter": "python",
   "pygments_lexer": "ipython3",
   "version": "3.11.1"
  }
 },
 "nbformat": 4,
 "nbformat_minor": 5
}
