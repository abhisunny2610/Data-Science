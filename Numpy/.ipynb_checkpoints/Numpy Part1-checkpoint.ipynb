{
 "cells": [
  {
   "cell_type": "code",
   "execution_count": 1,
   "id": "9a5634b6-708a-474a-a8d0-c4e456b8fbe1",
   "metadata": {},
   "outputs": [],
   "source": [
    "import numpy as np"
   ]
  },
  {
   "cell_type": "code",
   "execution_count": 2,
   "id": "fdda7b6e-37b3-442e-be58-44db309d57bc",
   "metadata": {},
   "outputs": [],
   "source": [
    " li = [1,2,3,4,5]"
   ]
  },
  {
   "cell_type": "code",
   "execution_count": 5,
   "id": "c25d60af-bc2e-492b-8c45-113b6af1e8f9",
   "metadata": {},
   "outputs": [],
   "source": [
    "## converting list into array\n",
    "\n",
    "arr = np.array(li)"
   ]
  },
  {
   "cell_type": "code",
   "execution_count": 4,
   "id": "c86d2862-2b97-4b5d-b6a6-7e5a14f60ab8",
   "metadata": {},
   "outputs": [
    {
     "data": {
      "text/plain": [
       "numpy.ndarray"
      ]
     },
     "execution_count": 4,
     "metadata": {},
     "output_type": "execute_result"
    }
   ],
   "source": [
    "type(arr)"
   ]
  },
  {
   "cell_type": "code",
   "execution_count": 7,
   "id": "229e4095-e0e8-439d-8b63-31c8edfffb46",
   "metadata": {},
   "outputs": [
    {
     "data": {
      "text/plain": [
       "array([[1, 2],\n",
       "       [3, 4]])"
      ]
     },
     "execution_count": 7,
     "metadata": {},
     "output_type": "execute_result"
    }
   ],
   "source": [
    "## 2d array\n",
    "\n",
    "np.array([[1,2], [3,4]])"
   ]
  },
  {
   "cell_type": "code",
   "execution_count": 9,
   "id": "68ee149a-94e8-4765-900d-8b042e861646",
   "metadata": {},
   "outputs": [
    {
     "data": {
      "text/plain": [
       "matrix([[1, 2, 3, 4, 5]])"
      ]
     },
     "execution_count": 9,
     "metadata": {},
     "output_type": "execute_result"
    }
   ],
   "source": [
    "## matrix is 2D array\n",
    "\n",
    "np.matrix(li)"
   ]
  },
  {
   "cell_type": "markdown",
   "id": "eed65a22-14b2-470c-8bd1-aa6d272d2f16",
   "metadata": {},
   "source": [
    "## fromfunction()\n",
    "\n",
    "The np.fromfunction() is used to construct an arrray by executing a function over each coordinate. The resulting array therefore has a value fn(x,y.z) at coordinate (x,y,z)\n",
    "\n",
    "The fromfunction() function can be used to create arrays with complex values, as well as to create arrays with values that depend on the index. It is often used to create arrays with a specific mathematical pattern or formula.\n",
    "\n",
    "`numpy.fromfunction(function, shape, **kwargs)`"
   ]
  },
  {
   "cell_type": "code",
   "execution_count": 10,
   "id": "b1159fb5-3fa7-4fb4-b52f-65ef39601df0",
   "metadata": {},
   "outputs": [
    {
     "data": {
      "text/plain": [
       "array([[ True, False, False],\n",
       "       [False,  True, False],\n",
       "       [False, False,  True]])"
      ]
     },
     "execution_count": 10,
     "metadata": {},
     "output_type": "execute_result"
    }
   ],
   "source": [
    "np.fromfunction(lambda i,j:i==j, (3,3), dtype=int)"
   ]
  },
  {
   "cell_type": "code",
   "execution_count": 11,
   "id": "29b1a6e6-e0aa-4cbe-9029-f950284fd842",
   "metadata": {},
   "outputs": [
    {
     "data": {
      "text/plain": [
       "array([[0, 1, 2],\n",
       "       [1, 2, 3],\n",
       "       [2, 3, 4]])"
      ]
     },
     "execution_count": 11,
     "metadata": {},
     "output_type": "execute_result"
    }
   ],
   "source": [
    "np.fromfunction(lambda i,j:i+j, (3,3), dtype=int)"
   ]
  },
  {
   "cell_type": "markdown",
   "id": "26328310-6837-497b-97ba-6e20380d85a4",
   "metadata": {},
   "source": [
    "## fromiter()\n",
    "\n",
    "The np.fromiter() is used to create a new 1d array from an iterable object.\n",
    "\n",
    "The fromiter() function is useful when we want to create a new numpy array from an iterable object without having to convert the iterable to a list or tuple first. It is also useful when we have a large dataset and we do not want to load it all into memory at once. Instead, we can read it in chunks using a generator and create a new numpy array from each chunk using fromiter().\n",
    "\n",
    "`np.fromitter(iterable, dtype, count=1)`"
   ]
  },
  {
   "cell_type": "code",
   "execution_count": 15,
   "id": "af890de4-4127-409b-9571-c421916abac0",
   "metadata": {},
   "outputs": [
    {
     "data": {
      "text/plain": [
       "array([ 0.,  1.,  4.,  9., 16., 25., 36., 49.])"
      ]
     },
     "execution_count": 15,
     "metadata": {},
     "output_type": "execute_result"
    }
   ],
   "source": [
    "iterable = (a*a for a in range(8))\n",
    "np.fromiter(iterable, float)"
   ]
  },
  {
   "cell_type": "markdown",
   "id": "71e3e0e6-f1dc-40cd-8eff-d95b14f71c2e",
   "metadata": {},
   "source": [
    "## fromstring()\n",
    "\n",
    "The np.fromstring() is used to create a 1d array from a string of data. The string is interpreted as binary data, and each character in the string represents a single elements in the resulting array.\n",
    "\n",
    "`numpy.fromstring(string, dtype=float, count=-1, sep='')`"
   ]
  },
  {
   "cell_type": "code",
   "execution_count": 17,
   "id": "a84caa4d-30c6-4881-a111-5204815e91de",
   "metadata": {},
   "outputs": [
    {
     "data": {
      "text/plain": [
       "array([ 3,  4,  1, 23, 21,  6,  4])"
      ]
     },
     "execution_count": 17,
     "metadata": {},
     "output_type": "execute_result"
    }
   ],
   "source": [
    "np.fromstring(\"3 4 1 23 21 6 4\", dtype=int, sep=\" \")"
   ]
  },
  {
   "cell_type": "markdown",
   "id": "98e4ef5c-2606-441b-9a5c-d7f176a0ced2",
   "metadata": {},
   "source": [
    "# numpy - data types"
   ]
  },
  {
   "cell_type": "code",
   "execution_count": 26,
   "id": "ab408be5-7c3a-42bb-8c44-9fe6528e3ed7",
   "metadata": {},
   "outputs": [
    {
     "ename": "AttributeError",
     "evalue": "'list' object has no attribute 'ndim'",
     "output_type": "error",
     "traceback": [
      "\u001b[1;31m---------------------------------------------------------------------------\u001b[0m",
      "\u001b[1;31mAttributeError\u001b[0m                            Traceback (most recent call last)",
      "Cell \u001b[1;32mIn[26], line 1\u001b[0m\n\u001b[1;32m----> 1\u001b[0m \u001b[43mli\u001b[49m\u001b[38;5;241;43m.\u001b[39;49m\u001b[43mndim\u001b[49m\n",
      "\u001b[1;31mAttributeError\u001b[0m: 'list' object has no attribute 'ndim'"
     ]
    }
   ],
   "source": [
    "li.ndim"
   ]
  },
  {
   "cell_type": "code",
   "execution_count": 27,
   "id": "6ad20a43-381a-410b-a7d2-17b0bbad3d7b",
   "metadata": {},
   "outputs": [
    {
     "data": {
      "text/plain": [
       "1"
      ]
     },
     "execution_count": 27,
     "metadata": {},
     "output_type": "execute_result"
    }
   ],
   "source": [
    "arr.ndim"
   ]
  },
  {
   "cell_type": "code",
   "execution_count": 28,
   "id": "a7ed3ebe-e6a8-4dc9-9f23-601bb6b8bb2b",
   "metadata": {},
   "outputs": [],
   "source": [
    "arr2 = np.array([[1,2] , [3,4]])"
   ]
  },
  {
   "cell_type": "code",
   "execution_count": 29,
   "id": "ca052181-277c-4d0e-bcc1-30a63b5482c5",
   "metadata": {},
   "outputs": [
    {
     "data": {
      "text/plain": [
       "2"
      ]
     },
     "execution_count": 29,
     "metadata": {},
     "output_type": "execute_result"
    }
   ],
   "source": [
    "arr2.ndim"
   ]
  },
  {
   "cell_type": "code",
   "execution_count": 30,
   "id": "cd80e7aa-8445-4d98-95c5-c1a54fe1ce95",
   "metadata": {},
   "outputs": [
    {
     "data": {
      "text/plain": [
       "5"
      ]
     },
     "execution_count": 30,
     "metadata": {},
     "output_type": "execute_result"
    }
   ],
   "source": [
    "arr.size"
   ]
  },
  {
   "cell_type": "code",
   "execution_count": 31,
   "id": "d071d094-d57f-401c-9652-a027d7666072",
   "metadata": {},
   "outputs": [
    {
     "data": {
      "text/plain": [
       "4"
      ]
     },
     "execution_count": 31,
     "metadata": {},
     "output_type": "execute_result"
    }
   ],
   "source": [
    "arr2.size"
   ]
  },
  {
   "cell_type": "code",
   "execution_count": 32,
   "id": "06933739-9cfd-4ce3-872e-e9ddd112eea1",
   "metadata": {},
   "outputs": [
    {
     "data": {
      "text/plain": [
       "(5,)"
      ]
     },
     "execution_count": 32,
     "metadata": {},
     "output_type": "execute_result"
    }
   ],
   "source": [
    "arr.shape"
   ]
  },
  {
   "cell_type": "code",
   "execution_count": 35,
   "id": "dd3de440-2ea2-4eaf-8484-1e98fff68178",
   "metadata": {},
   "outputs": [
    {
     "data": {
      "text/plain": [
       "(2, 2)"
      ]
     },
     "execution_count": 35,
     "metadata": {},
     "output_type": "execute_result"
    }
   ],
   "source": [
    "arr2.shape"
   ]
  },
  {
   "cell_type": "code",
   "execution_count": 37,
   "id": "49460f07-b044-4def-956e-f717b3815f1e",
   "metadata": {},
   "outputs": [
    {
     "data": {
      "text/plain": [
       "dtype('int32')"
      ]
     },
     "execution_count": 37,
     "metadata": {},
     "output_type": "execute_result"
    }
   ],
   "source": [
    "arr.dtype"
   ]
  },
  {
   "cell_type": "code",
   "execution_count": null,
   "id": "36fdc3e0-803c-4fa0-a546-12bc5610b979",
   "metadata": {},
   "outputs": [],
   "source": []
  }
 ],
 "metadata": {
  "kernelspec": {
   "display_name": "Python 3 (ipykernel)",
   "language": "python",
   "name": "python3"
  },
  "language_info": {
   "codemirror_mode": {
    "name": "ipython",
    "version": 3
   },
   "file_extension": ".py",
   "mimetype": "text/x-python",
   "name": "python",
   "nbconvert_exporter": "python",
   "pygments_lexer": "ipython3",
   "version": "3.11.1"
  }
 },
 "nbformat": 4,
 "nbformat_minor": 5
}
